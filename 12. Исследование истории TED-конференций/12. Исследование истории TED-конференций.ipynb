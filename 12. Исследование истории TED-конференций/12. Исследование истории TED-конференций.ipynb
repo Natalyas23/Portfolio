{
 "cells": [
  {
   "cell_type": "markdown",
   "id": "746db9b5",
   "metadata": {},
   "source": [
    "# Исследование истории TED-конференций"
   ]
  },
  {
   "cell_type": "markdown",
   "id": "d9643010",
   "metadata": {},
   "source": [
    "**Задача**\n",
    "\n",
    "Изучить особенности TED-конференций и представить результаты анализа с помощью Tableau.\n",
    "\n",
    "\n",
    "**Описание данных**\n",
    "\n",
    "1. Данные выступлений, хранятся в трех файлах, у всех одинаковая структура.\n",
    "\n",
    "2. Справочник конференций:\n",
    "\n",
    "3. Cправочник авторов выступления:\n",
    "\n",
    "\n",
    "**Ход исследования**\n",
    "\n",
    "1. Изучение данных.\n",
    "2. Создание презентации.\n",
    "- Создание дашборда «История выступлений».\n",
    "- Создание дашборда «Тематики выступлений».\n",
    "- Создание дашборда «Авторы выступлений».\n",
    "- Создание дашборда на свободную тему «Просмотры выступлений»"
   ]
  },
  {
   "cell_type": "markdown",
   "id": "4aa0f1be",
   "metadata": {},
   "source": [
    "## 1. Изучение данных"
   ]
  },
  {
   "cell_type": "markdown",
   "id": "84eda154",
   "metadata": {},
   "source": [
    "1. В объединенном файле с данными о выступлениях 14 столбцов и 3456 строк, несколько типов данных: \n",
    "- численные данные содержат 7 столбцов\n",
    "- 6 столбцов с текстом\n",
    "- 1 столбец с типом данных Даты\n",
    "\n",
    "2. В справочнике конференций 3 столбца и 327 строк, 1 столбец содержит числа, 1 - текст и 1 географические данные\n",
    "\n",
    "\n",
    "3. Справочник с авторами выступлений 4 столбца и 2971 строка. 1 столбце содержит чила и в остальных 3-х столбцах содержатся текстовые данные.\n",
    "\n",
    "\n",
    "4. В датасете для анализа представлены данные о конференциях с 1984г по 2021г. До 2000 года данные о годах представлены эпизодически. Количество выступлений скачкообразно выросло с 2001 года. Данные за более ранние периоды исключены из анализа на уровне источника данных. В итоговом файле для анализа осталось 3447 строк."
   ]
  },
  {
   "cell_type": "markdown",
   "id": "4de1fc1e",
   "metadata": {},
   "source": [
    "## 2. Презентация\n",
    "\n",
    "https://public.tableau.com/views/TED-_16944557315870/TED-_?:language=en-US&:display_count=n&:origin=viz_share_link"
   ]
  },
  {
   "cell_type": "markdown",
   "id": "94435b20",
   "metadata": {},
   "source": [
    "# 2.1. Дашборд \"История выступлений\"\n",
    "\n",
    "https://public.tableau.com/views/TED-_16944557315870/sheet19?:language=en-US&:display_count=n&:origin=viz_share_link"
   ]
  },
  {
   "cell_type": "markdown",
   "id": "4954a686",
   "metadata": {},
   "source": [
    "# 2.2. Дашборд \"Тематики выступлений\"\n",
    "\n",
    "https://public.tableau.com/views/TED-_16944557315870/sheet20?:language=en-US&:display_count=n&:origin=viz_share_link"
   ]
  },
  {
   "cell_type": "markdown",
   "id": "8c498021",
   "metadata": {},
   "source": [
    "# 2.3. Дашборд \"Авторы выступлений\"\n",
    "\n",
    "https://public.tableau.com/views/TED-_16944557315870/sheet21?:language=en-US&:display_count=n&:origin=viz_share_link"
   ]
  },
  {
   "cell_type": "markdown",
   "id": "b85b2a42",
   "metadata": {},
   "source": [
    "# 2.4. Дашборд \"Просмотры выступлений\"\n",
    "\n",
    "https://public.tableau.com/views/TED-_16944557315870/sheet22?:language=en-US&:display_count=n&:origin=viz_share_link"
   ]
  },
  {
   "cell_type": "code",
   "execution_count": null,
   "id": "4d3db1a6",
   "metadata": {},
   "outputs": [],
   "source": []
  }
 ],
 "metadata": {
  "ExecuteTimeLog": [
   {
    "duration": 78,
    "start_time": "2023-09-08T13:48:01.340Z"
   }
  ],
  "kernelspec": {
   "display_name": "Python 3 (ipykernel)",
   "language": "python",
   "name": "python3"
  },
  "language_info": {
   "codemirror_mode": {
    "name": "ipython",
    "version": 3
   },
   "file_extension": ".py",
   "mimetype": "text/x-python",
   "name": "python",
   "nbconvert_exporter": "python",
   "pygments_lexer": "ipython3",
   "version": "3.9.5"
  },
  "toc": {
   "base_numbering": 1,
   "nav_menu": {},
   "number_sections": true,
   "sideBar": true,
   "skip_h1_title": true,
   "title_cell": "Table of Contents",
   "title_sidebar": "Contents",
   "toc_cell": false,
   "toc_position": {},
   "toc_section_display": true,
   "toc_window_display": false
  }
 },
 "nbformat": 4,
 "nbformat_minor": 5
}
