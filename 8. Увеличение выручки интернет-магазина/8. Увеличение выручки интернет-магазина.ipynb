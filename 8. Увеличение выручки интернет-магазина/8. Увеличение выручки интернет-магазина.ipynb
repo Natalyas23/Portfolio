{
 "cells": [
  {
   "cell_type": "markdown",
   "metadata": {},
   "source": [
    "# Увеличение выручки интернет-магазина"
   ]
  },
  {
   "cell_type": "markdown",
   "metadata": {},
   "source": [
    "**Цель исследования**\n",
    "\n",
    "Приоритизировать гипотезы по увеличению выручки интернет-магазина. Проанализировать результаты A/B теста.\n",
    "\n",
    "**Описание данных**\n",
    "\n",
    "Для анализа предоставлены 3 датасета:\n",
    "\n",
    "1. датасет хранит информацию о гипотезах;\n",
    "2. хранит информацию о заказах;\n",
    "3. содержит информацию о посетителях.\n",
    "\n",
    "**Ход исследования**\n",
    "\n",
    "1. Проведем обзор данных - составим первое представление о предоставленных данных, оценим их объем и качество.\n",
    "2. Выполним предобработку данных - проверим данные на возможные ошибки (аномалии, пропуски). Исправим данные.\n",
    "3. Исследуем данные.\n",
    "4. Приоритизируем гипотезы.\n",
    "5. Проведем анализ A/B-теста.\n",
    "6. Подведем итоги исследования."
   ]
  },
  {
   "cell_type": "markdown",
   "metadata": {},
   "source": [
    "## 1. Обзор данных"
   ]
  },
  {
   "cell_type": "markdown",
   "metadata": {},
   "source": [
    "Импортируем библиотеки"
   ]
  },
  {
   "cell_type": "code",
   "execution_count": 1,
   "metadata": {},
   "outputs": [],
   "source": [
    "import pandas as pd\n",
    "import numpy as np\n",
    "import datetime as dt\n",
    "from scipy import stats as st\n",
    "from matplotlib import pyplot as plt\n",
    "import seaborn as sns\n",
    "sns.set_theme()"
   ]
  },
  {
   "cell_type": "markdown",
   "metadata": {},
   "source": [
    "В нашем распоряжении 3 датасета. Чтобы оптимизировать действия по их загрузке и выводу информации о них, напишем функцию dataset_open() для загрузки датасетов и получения информации о них: "
   ]
  },
  {
   "cell_type": "code",
   "execution_count": 2,
   "metadata": {},
   "outputs": [],
   "source": [
    "def dataset_open(file):\n",
    "    \"\"\" Функция для загрузки датасета, \n",
    "    вывода на экран части загруженных данных \n",
    "    и общей информации  о нем.\n",
    "\n",
    "    Args:\n",
    "        file: ссылка на источник данных.\n",
    "    Returns:\n",
    "        pd.DataFrame: таблица с исходными данными.\n",
    "    \"\"\"    \n",
    "    result = pd.read_csv(file) #загрузим датасет\n",
    "    result.columns = result.columns.str.lower() #загрузим названия столбцов строчными буквами\n",
    "    display(result.head()) #выведем на экран 5 верхних строк датасета\n",
    "    result.info() #выведем информацию о датасете\n",
    "    \n",
    "    return result "
   ]
  },
  {
   "cell_type": "markdown",
   "metadata": {},
   "source": [
    "### 1.1. Используем функцию `dataset_open()` для загрузки датасета с данными о гипотезах и сохраним их в переменной `hypothesis`"
   ]
  },
  {
   "cell_type": "code",
   "execution_count": 3,
   "metadata": {},
   "outputs": [
    {
     "data": {
      "text/html": [
       "<div>\n",
       "<style scoped>\n",
       "    .dataframe tbody tr th:only-of-type {\n",
       "        vertical-align: middle;\n",
       "    }\n",
       "\n",
       "    .dataframe tbody tr th {\n",
       "        vertical-align: top;\n",
       "    }\n",
       "\n",
       "    .dataframe thead th {\n",
       "        text-align: right;\n",
       "    }\n",
       "</style>\n",
       "<table border=\"1\" class=\"dataframe\">\n",
       "  <thead>\n",
       "    <tr style=\"text-align: right;\">\n",
       "      <th></th>\n",
       "      <th>hypothesis</th>\n",
       "      <th>reach</th>\n",
       "      <th>impact</th>\n",
       "      <th>confidence</th>\n",
       "      <th>efforts</th>\n",
       "    </tr>\n",
       "  </thead>\n",
       "  <tbody>\n",
       "    <tr>\n",
       "      <th>0</th>\n",
       "      <td>Добавить два новых канала привлечения трафика,...</td>\n",
       "      <td>3</td>\n",
       "      <td>10</td>\n",
       "      <td>8</td>\n",
       "      <td>6</td>\n",
       "    </tr>\n",
       "    <tr>\n",
       "      <th>1</th>\n",
       "      <td>Запустить собственную службу доставки, что сок...</td>\n",
       "      <td>2</td>\n",
       "      <td>5</td>\n",
       "      <td>4</td>\n",
       "      <td>10</td>\n",
       "    </tr>\n",
       "    <tr>\n",
       "      <th>2</th>\n",
       "      <td>Добавить блоки рекомендаций товаров на сайт ин...</td>\n",
       "      <td>8</td>\n",
       "      <td>3</td>\n",
       "      <td>7</td>\n",
       "      <td>3</td>\n",
       "    </tr>\n",
       "    <tr>\n",
       "      <th>3</th>\n",
       "      <td>Изменить структура категорий, что увеличит кон...</td>\n",
       "      <td>8</td>\n",
       "      <td>3</td>\n",
       "      <td>3</td>\n",
       "      <td>8</td>\n",
       "    </tr>\n",
       "    <tr>\n",
       "      <th>4</th>\n",
       "      <td>Изменить цвет фона главной страницы, чтобы уве...</td>\n",
       "      <td>3</td>\n",
       "      <td>1</td>\n",
       "      <td>1</td>\n",
       "      <td>1</td>\n",
       "    </tr>\n",
       "  </tbody>\n",
       "</table>\n",
       "</div>"
      ],
      "text/plain": [
       "                                          hypothesis  reach  impact  \\\n",
       "0  Добавить два новых канала привлечения трафика,...      3      10   \n",
       "1  Запустить собственную службу доставки, что сок...      2       5   \n",
       "2  Добавить блоки рекомендаций товаров на сайт ин...      8       3   \n",
       "3  Изменить структура категорий, что увеличит кон...      8       3   \n",
       "4  Изменить цвет фона главной страницы, чтобы уве...      3       1   \n",
       "\n",
       "   confidence  efforts  \n",
       "0           8        6  \n",
       "1           4       10  \n",
       "2           7        3  \n",
       "3           3        8  \n",
       "4           1        1  "
      ]
     },
     "metadata": {},
     "output_type": "display_data"
    },
    {
     "name": "stdout",
     "output_type": "stream",
     "text": [
      "<class 'pandas.core.frame.DataFrame'>\n",
      "RangeIndex: 9 entries, 0 to 8\n",
      "Data columns (total 5 columns):\n",
      " #   Column      Non-Null Count  Dtype \n",
      "---  ------      --------------  ----- \n",
      " 0   hypothesis  9 non-null      object\n",
      " 1   reach       9 non-null      int64 \n",
      " 2   impact      9 non-null      int64 \n",
      " 3   confidence  9 non-null      int64 \n",
      " 4   efforts     9 non-null      int64 \n",
      "dtypes: int64(4), object(1)\n",
      "memory usage: 488.0+ bytes\n"
     ]
    }
   ],
   "source": [
    "try:\n",
    "    hypothesis = dataset_open('')\n",
    "except:\n",
    "    hypothesis = dataset_open(file)"
   ]
  },
  {
   "cell_type": "markdown",
   "metadata": {},
   "source": [
    "Датафрейм состоит из 5 столбцов и 9 строк. Пропуски в данных отсутствуют.\n",
    "\n",
    "Типы данных int64(4 столбца) и object (1 столбец) - описание гипотезы. Корректировка типов данных не требуется.\n",
    "\n",
    "Объем памяти примерно 488 B"
   ]
  },
  {
   "cell_type": "markdown",
   "metadata": {},
   "source": [
    "### 1.2. Загрузим данные о заказах и сохраним в переменной `orders_new`"
   ]
  },
  {
   "cell_type": "code",
   "execution_count": 4,
   "metadata": {},
   "outputs": [
    {
     "data": {
      "text/html": [
       "<div>\n",
       "<style scoped>\n",
       "    .dataframe tbody tr th:only-of-type {\n",
       "        vertical-align: middle;\n",
       "    }\n",
       "\n",
       "    .dataframe tbody tr th {\n",
       "        vertical-align: top;\n",
       "    }\n",
       "\n",
       "    .dataframe thead th {\n",
       "        text-align: right;\n",
       "    }\n",
       "</style>\n",
       "<table border=\"1\" class=\"dataframe\">\n",
       "  <thead>\n",
       "    <tr style=\"text-align: right;\">\n",
       "      <th></th>\n",
       "      <th>transactionid</th>\n",
       "      <th>visitorid</th>\n",
       "      <th>date</th>\n",
       "      <th>revenue</th>\n",
       "      <th>group</th>\n",
       "    </tr>\n",
       "  </thead>\n",
       "  <tbody>\n",
       "    <tr>\n",
       "      <th>0</th>\n",
       "      <td>3667963787</td>\n",
       "      <td>3312258926</td>\n",
       "      <td>2019-08-15</td>\n",
       "      <td>1650</td>\n",
       "      <td>B</td>\n",
       "    </tr>\n",
       "    <tr>\n",
       "      <th>1</th>\n",
       "      <td>2804400009</td>\n",
       "      <td>3642806036</td>\n",
       "      <td>2019-08-15</td>\n",
       "      <td>730</td>\n",
       "      <td>B</td>\n",
       "    </tr>\n",
       "    <tr>\n",
       "      <th>2</th>\n",
       "      <td>2961555356</td>\n",
       "      <td>4069496402</td>\n",
       "      <td>2019-08-15</td>\n",
       "      <td>400</td>\n",
       "      <td>A</td>\n",
       "    </tr>\n",
       "    <tr>\n",
       "      <th>3</th>\n",
       "      <td>3797467345</td>\n",
       "      <td>1196621759</td>\n",
       "      <td>2019-08-15</td>\n",
       "      <td>9759</td>\n",
       "      <td>B</td>\n",
       "    </tr>\n",
       "    <tr>\n",
       "      <th>4</th>\n",
       "      <td>2282983706</td>\n",
       "      <td>2322279887</td>\n",
       "      <td>2019-08-15</td>\n",
       "      <td>2308</td>\n",
       "      <td>B</td>\n",
       "    </tr>\n",
       "  </tbody>\n",
       "</table>\n",
       "</div>"
      ],
      "text/plain": [
       "   transactionid   visitorid        date  revenue group\n",
       "0     3667963787  3312258926  2019-08-15     1650     B\n",
       "1     2804400009  3642806036  2019-08-15      730     B\n",
       "2     2961555356  4069496402  2019-08-15      400     A\n",
       "3     3797467345  1196621759  2019-08-15     9759     B\n",
       "4     2282983706  2322279887  2019-08-15     2308     B"
      ]
     },
     "metadata": {},
     "output_type": "display_data"
    },
    {
     "name": "stdout",
     "output_type": "stream",
     "text": [
      "<class 'pandas.core.frame.DataFrame'>\n",
      "RangeIndex: 1197 entries, 0 to 1196\n",
      "Data columns (total 5 columns):\n",
      " #   Column         Non-Null Count  Dtype \n",
      "---  ------         --------------  ----- \n",
      " 0   transactionid  1197 non-null   int64 \n",
      " 1   visitorid      1197 non-null   int64 \n",
      " 2   date           1197 non-null   object\n",
      " 3   revenue        1197 non-null   int64 \n",
      " 4   group          1197 non-null   object\n",
      "dtypes: int64(3), object(2)\n",
      "memory usage: 46.9+ KB\n"
     ]
    }
   ],
   "source": [
    "try:\n",
    "    orders_new = dataset_open('')\n",
    "except:\n",
    "    orders_new = dataset_open(file)"
   ]
  },
  {
   "cell_type": "markdown",
   "metadata": {},
   "source": [
    "Датафрейм состоит из 5 столбцов и 1197 строк. Количество значений в столбцах совпадает с общим количеством строк, значит, пропуски в данных отсутствуют. \n",
    "Объем памяти примерно 46.9 KB\n",
    "\n",
    "Типы данных int64, object и float64. Потребуется корректировка типа данных в столбце *date*.  На следующем этапе переведем его в формат *datetime*.\n",
    "Названия столбцов *transactionid* и *visitorid* приведем к \"змеиному\" регистру тоже на следующем этапе."
   ]
  },
  {
   "cell_type": "markdown",
   "metadata": {},
   "source": [
    "### 1.3. Теперь загрузим данные о пользователях и сохраним в переменной `visitors`"
   ]
  },
  {
   "cell_type": "code",
   "execution_count": 5,
   "metadata": {},
   "outputs": [
    {
     "data": {
      "text/html": [
       "<div>\n",
       "<style scoped>\n",
       "    .dataframe tbody tr th:only-of-type {\n",
       "        vertical-align: middle;\n",
       "    }\n",
       "\n",
       "    .dataframe tbody tr th {\n",
       "        vertical-align: top;\n",
       "    }\n",
       "\n",
       "    .dataframe thead th {\n",
       "        text-align: right;\n",
       "    }\n",
       "</style>\n",
       "<table border=\"1\" class=\"dataframe\">\n",
       "  <thead>\n",
       "    <tr style=\"text-align: right;\">\n",
       "      <th></th>\n",
       "      <th>date</th>\n",
       "      <th>group</th>\n",
       "      <th>visitors</th>\n",
       "    </tr>\n",
       "  </thead>\n",
       "  <tbody>\n",
       "    <tr>\n",
       "      <th>0</th>\n",
       "      <td>2019-08-01</td>\n",
       "      <td>A</td>\n",
       "      <td>719</td>\n",
       "    </tr>\n",
       "    <tr>\n",
       "      <th>1</th>\n",
       "      <td>2019-08-02</td>\n",
       "      <td>A</td>\n",
       "      <td>619</td>\n",
       "    </tr>\n",
       "    <tr>\n",
       "      <th>2</th>\n",
       "      <td>2019-08-03</td>\n",
       "      <td>A</td>\n",
       "      <td>507</td>\n",
       "    </tr>\n",
       "    <tr>\n",
       "      <th>3</th>\n",
       "      <td>2019-08-04</td>\n",
       "      <td>A</td>\n",
       "      <td>717</td>\n",
       "    </tr>\n",
       "    <tr>\n",
       "      <th>4</th>\n",
       "      <td>2019-08-05</td>\n",
       "      <td>A</td>\n",
       "      <td>756</td>\n",
       "    </tr>\n",
       "  </tbody>\n",
       "</table>\n",
       "</div>"
      ],
      "text/plain": [
       "         date group  visitors\n",
       "0  2019-08-01     A       719\n",
       "1  2019-08-02     A       619\n",
       "2  2019-08-03     A       507\n",
       "3  2019-08-04     A       717\n",
       "4  2019-08-05     A       756"
      ]
     },
     "metadata": {},
     "output_type": "display_data"
    },
    {
     "name": "stdout",
     "output_type": "stream",
     "text": [
      "<class 'pandas.core.frame.DataFrame'>\n",
      "RangeIndex: 62 entries, 0 to 61\n",
      "Data columns (total 3 columns):\n",
      " #   Column    Non-Null Count  Dtype \n",
      "---  ------    --------------  ----- \n",
      " 0   date      62 non-null     object\n",
      " 1   group     62 non-null     object\n",
      " 2   visitors  62 non-null     int64 \n",
      "dtypes: int64(1), object(2)\n",
      "memory usage: 1.6+ KB\n"
     ]
    }
   ],
   "source": [
    "try:\n",
    "    visitors = dataset_open('')\n",
    "except:\n",
    "    visitors = dataset_open(file)"
   ]
  },
  {
   "cell_type": "markdown",
   "metadata": {},
   "source": [
    "В последнем датасете 3 столбца и 62 строки. Количество значений в столбцах совпадает с общим количеством строк, пропуски в данных отсутствуют. \n",
    "Объем памяти примерно 1.6 KB\n",
    "\n",
    "Типы данных object и int64. Потребуется корректировка типа данных в столбце *date*.  На следующем этапе переведем его в формат *datetime*."
   ]
  },
  {
   "cell_type": "markdown",
   "metadata": {},
   "source": [
    "### 1.4. Выводы\n",
    "\n",
    "Данные для анализа предоставлены в 3-х файлах, названия столбцов в каждом датасете мы привели к строчному регистру при загрузке.  Пропущенные значения отсутствуют:\n",
    "\n",
    "1. Данные о гипотезах загрузили в переменную `hypothesis`:   \n",
    "    - 5 столбцов и 9 строки;\n",
    "    - типы данных int64 и object, корректировка типов данных не требуется.\n",
    "    \n",
    "    \n",
    "2. Данные о заказах сохранили в переменной `orders_new`: \n",
    "    - 5 столбцов и 1197 строк;\n",
    "    - типы данных int64, object и float64;\n",
    "    - тип данных в столбце *date* не соответствует содержанию - переведем  в тип *datetime* на следующем этапе;\n",
    "    - названия столбцов *transactionid* и *visitorid* приведем к \"змеиному\" регистру на следующем этапе.\n",
    "    \n",
    "    \n",
    "3. Данные о пользователях сохранили в переменной `visitors`: \n",
    "    - в датафрейме 3 столбца и 62 строки;\n",
    "    - типы данных object и int64;\n",
    "    - тип данных в столбце *date* не соответствует содержанию - переведем  в тип *datetime*\n",
    "\n",
    "В 2-х датасетах нужно исправить тип данных в столбцах с датами, в 1-м датасете привести названия столбцов к \"змеиному\" регистру - займемся этим на следующем этапе. И более подробно изучим полученные датафреймы, проверим на аномалии, дубликаты и исправим выявленные несоответствия. "
   ]
  },
  {
   "cell_type": "markdown",
   "metadata": {},
   "source": [
    "## 2. Предобработка данных"
   ]
  },
  {
   "cell_type": "markdown",
   "metadata": {},
   "source": [
    "### 2.1. Первым шагом исправим названия столбцов в датасете `orders_new`\n",
    "Используем метод `rename()` и для проверки выведем названия столбов"
   ]
  },
  {
   "cell_type": "code",
   "execution_count": 6,
   "metadata": {},
   "outputs": [
    {
     "data": {
      "text/plain": [
       "Index(['transaction_id', 'visitor_id', 'date', 'revenue', 'group'], dtype='object')"
      ]
     },
     "execution_count": 6,
     "metadata": {},
     "output_type": "execute_result"
    }
   ],
   "source": [
    "orders_new = orders_new.rename(columns={'transactionid': 'transaction_id', 'visitorid': 'visitor_id'})\n",
    "orders_new.columns"
   ]
  },
  {
   "cell_type": "markdown",
   "metadata": {},
   "source": [
    "Убедились в успешном переименовании, столбцы в нужном стиле."
   ]
  },
  {
   "cell_type": "markdown",
   "metadata": {},
   "source": [
    "### 2.2. Исправим формат даты в данных"
   ]
  },
  {
   "cell_type": "markdown",
   "metadata": {},
   "source": [
    "В датасетах `orders_new` и `visitors` исправим тип данных с помощью метода `to_datetime()` и проверим полученный тип данных:"
   ]
  },
  {
   "cell_type": "code",
   "execution_count": 7,
   "metadata": {},
   "outputs": [],
   "source": [
    "orders_new['date'] = pd.to_datetime(orders_new['date'])\n",
    "visitors['date'] = pd.to_datetime(visitors['date'])"
   ]
  },
  {
   "cell_type": "code",
   "execution_count": 8,
   "metadata": {},
   "outputs": [
    {
     "data": {
      "text/plain": [
       "'datetime64[ns]'"
      ]
     },
     "execution_count": 8,
     "metadata": {},
     "output_type": "execute_result"
    }
   ],
   "source": [
    "str(orders_new['date'].dtype)"
   ]
  },
  {
   "cell_type": "code",
   "execution_count": 9,
   "metadata": {},
   "outputs": [
    {
     "data": {
      "text/plain": [
       "'datetime64[ns]'"
      ]
     },
     "execution_count": 9,
     "metadata": {},
     "output_type": "execute_result"
    }
   ],
   "source": [
    "str(visitors['date'].dtype)"
   ]
  },
  {
   "cell_type": "markdown",
   "metadata": {},
   "source": [
    "Убедились в успешном изменении типа данных"
   ]
  },
  {
   "cell_type": "markdown",
   "metadata": {},
   "source": [
    "### 2.3. Проверим данные на аномалии, явные и неявные дубликаты"
   ]
  },
  {
   "cell_type": "markdown",
   "metadata": {},
   "source": [
    "#### 2.3.1. Проверим данные из датасета `hypothesis` "
   ]
  },
  {
   "cell_type": "markdown",
   "metadata": {},
   "source": [
    "Датасет состоит из 5 столбцов и 9 строк, поэтому его содержание мы можем оценить визуально. Проверим описание гипотез на уникальность и  убедимся, что в остальных столбцах датасета все числа находятся в интервале от 1 до 10 и аномалии отсутствуют, для этого выведем всю таблицу `hypothesis`. Для полного отображения описания гипотез используем дополнительную настройку: "
   ]
  },
  {
   "cell_type": "code",
   "execution_count": 10,
   "metadata": {},
   "outputs": [
    {
     "data": {
      "text/html": [
       "<div>\n",
       "<style scoped>\n",
       "    .dataframe tbody tr th:only-of-type {\n",
       "        vertical-align: middle;\n",
       "    }\n",
       "\n",
       "    .dataframe tbody tr th {\n",
       "        vertical-align: top;\n",
       "    }\n",
       "\n",
       "    .dataframe thead th {\n",
       "        text-align: right;\n",
       "    }\n",
       "</style>\n",
       "<table border=\"1\" class=\"dataframe\">\n",
       "  <thead>\n",
       "    <tr style=\"text-align: right;\">\n",
       "      <th></th>\n",
       "      <th>hypothesis</th>\n",
       "      <th>reach</th>\n",
       "      <th>impact</th>\n",
       "      <th>confidence</th>\n",
       "      <th>efforts</th>\n",
       "    </tr>\n",
       "  </thead>\n",
       "  <tbody>\n",
       "    <tr>\n",
       "      <th>0</th>\n",
       "      <td>Добавить два новых канала привлечения трафика, что позволит привлекать на 30% больше пользователей</td>\n",
       "      <td>3</td>\n",
       "      <td>10</td>\n",
       "      <td>8</td>\n",
       "      <td>6</td>\n",
       "    </tr>\n",
       "    <tr>\n",
       "      <th>1</th>\n",
       "      <td>Запустить собственную службу доставки, что сократит срок доставки заказов</td>\n",
       "      <td>2</td>\n",
       "      <td>5</td>\n",
       "      <td>4</td>\n",
       "      <td>10</td>\n",
       "    </tr>\n",
       "    <tr>\n",
       "      <th>2</th>\n",
       "      <td>Добавить блоки рекомендаций товаров на сайт интернет магазина, чтобы повысить конверсию и средний чек заказа</td>\n",
       "      <td>8</td>\n",
       "      <td>3</td>\n",
       "      <td>7</td>\n",
       "      <td>3</td>\n",
       "    </tr>\n",
       "    <tr>\n",
       "      <th>3</th>\n",
       "      <td>Изменить структура категорий, что увеличит конверсию, т.к. пользователи быстрее найдут нужный товар</td>\n",
       "      <td>8</td>\n",
       "      <td>3</td>\n",
       "      <td>3</td>\n",
       "      <td>8</td>\n",
       "    </tr>\n",
       "    <tr>\n",
       "      <th>4</th>\n",
       "      <td>Изменить цвет фона главной страницы, чтобы увеличить вовлеченность пользователей</td>\n",
       "      <td>3</td>\n",
       "      <td>1</td>\n",
       "      <td>1</td>\n",
       "      <td>1</td>\n",
       "    </tr>\n",
       "    <tr>\n",
       "      <th>5</th>\n",
       "      <td>Добавить страницу отзывов клиентов о магазине, что позволит увеличить количество заказов</td>\n",
       "      <td>3</td>\n",
       "      <td>2</td>\n",
       "      <td>2</td>\n",
       "      <td>3</td>\n",
       "    </tr>\n",
       "    <tr>\n",
       "      <th>6</th>\n",
       "      <td>Показать на главной странице баннеры с актуальными акциями и распродажами, чтобы увеличить конверсию</td>\n",
       "      <td>5</td>\n",
       "      <td>3</td>\n",
       "      <td>8</td>\n",
       "      <td>3</td>\n",
       "    </tr>\n",
       "    <tr>\n",
       "      <th>7</th>\n",
       "      <td>Добавить форму подписки на все основные страницы, чтобы собрать базу клиентов для email-рассылок</td>\n",
       "      <td>10</td>\n",
       "      <td>7</td>\n",
       "      <td>8</td>\n",
       "      <td>5</td>\n",
       "    </tr>\n",
       "    <tr>\n",
       "      <th>8</th>\n",
       "      <td>Запустить акцию, дающую скидку на товар в день рождения</td>\n",
       "      <td>1</td>\n",
       "      <td>9</td>\n",
       "      <td>9</td>\n",
       "      <td>5</td>\n",
       "    </tr>\n",
       "  </tbody>\n",
       "</table>\n",
       "</div>"
      ],
      "text/plain": [
       "                                                                                                     hypothesis  \\\n",
       "0  Добавить два новых канала привлечения трафика, что позволит привлекать на 30% больше пользователей             \n",
       "1  Запустить собственную службу доставки, что сократит срок доставки заказов                                      \n",
       "2  Добавить блоки рекомендаций товаров на сайт интернет магазина, чтобы повысить конверсию и средний чек заказа   \n",
       "3  Изменить структура категорий, что увеличит конверсию, т.к. пользователи быстрее найдут нужный товар            \n",
       "4  Изменить цвет фона главной страницы, чтобы увеличить вовлеченность пользователей                               \n",
       "5  Добавить страницу отзывов клиентов о магазине, что позволит увеличить количество заказов                       \n",
       "6  Показать на главной странице баннеры с актуальными акциями и распродажами, чтобы увеличить конверсию           \n",
       "7  Добавить форму подписки на все основные страницы, чтобы собрать базу клиентов для email-рассылок               \n",
       "8  Запустить акцию, дающую скидку на товар в день рождения                                                        \n",
       "\n",
       "   reach  impact  confidence  efforts  \n",
       "0  3      10      8           6        \n",
       "1  2      5       4           10       \n",
       "2  8      3       7           3        \n",
       "3  8      3       3           8        \n",
       "4  3      1       1           1        \n",
       "5  3      2       2           3        \n",
       "6  5      3       8           3        \n",
       "7  10     7       8           5        \n",
       "8  1      9       9           5        "
      ]
     },
     "execution_count": 10,
     "metadata": {},
     "output_type": "execute_result"
    }
   ],
   "source": [
    "pd.set_option('display.max_colwidth', False)\n",
    "hypothesis"
   ]
  },
  {
   "cell_type": "markdown",
   "metadata": {},
   "source": [
    "Все 9 гипотез уникальные, явные и неявные дубликаты отсутствуют.\n",
    "В результате проверки видим корректные данные во всех столбцах датасета."
   ]
  },
  {
   "cell_type": "markdown",
   "metadata": {},
   "source": [
    "#### 2.3.2. Проверим данные из датасета `orders_new`"
   ]
  },
  {
   "cell_type": "markdown",
   "metadata": {},
   "source": [
    "Проверим отсутствие ошибок в группах A/B-тестов, это данные столбца *group*:"
   ]
  },
  {
   "cell_type": "code",
   "execution_count": 11,
   "metadata": {},
   "outputs": [
    {
     "data": {
      "text/plain": [
       "array(['B', 'A'], dtype=object)"
      ]
     },
     "execution_count": 11,
     "metadata": {},
     "output_type": "execute_result"
    }
   ],
   "source": [
    "orders_new['group'].unique()"
   ]
  },
  {
   "cell_type": "markdown",
   "metadata": {},
   "source": [
    "У нас 2 группы тестов: А и В, как и должно быть. Проверим датасет на наличие полных дубликатов:"
   ]
  },
  {
   "cell_type": "code",
   "execution_count": 12,
   "metadata": {},
   "outputs": [
    {
     "data": {
      "text/plain": [
       "0"
      ]
     },
     "execution_count": 12,
     "metadata": {},
     "output_type": "execute_result"
    }
   ],
   "source": [
    "orders_new.duplicated().sum()"
   ]
  },
  {
   "cell_type": "markdown",
   "metadata": {},
   "source": [
    "Дубликаты отсутствуют"
   ]
  },
  {
   "cell_type": "markdown",
   "metadata": {},
   "source": [
    "#### 2.3.3. Проверим данные из датасета `visitors`"
   ]
  },
  {
   "cell_type": "markdown",
   "metadata": {},
   "source": [
    "Убедимся в корректности указания групп A/B-тестов, это данные столбца *group*:"
   ]
  },
  {
   "cell_type": "code",
   "execution_count": 13,
   "metadata": {},
   "outputs": [
    {
     "data": {
      "text/plain": [
       "array(['A', 'B'], dtype=object)"
      ]
     },
     "execution_count": 13,
     "metadata": {},
     "output_type": "execute_result"
    }
   ],
   "source": [
    "visitors['group'].unique()"
   ]
  },
  {
   "cell_type": "markdown",
   "metadata": {},
   "source": [
    "Имеем 2 группы тестов: А/В. \n",
    "\n",
    "Проверим датасет на наличие полных дубликатов:"
   ]
  },
  {
   "cell_type": "code",
   "execution_count": 14,
   "metadata": {},
   "outputs": [
    {
     "data": {
      "text/plain": [
       "0"
      ]
     },
     "execution_count": 14,
     "metadata": {},
     "output_type": "execute_result"
    }
   ],
   "source": [
    "visitors.duplicated().sum()"
   ]
  },
  {
   "cell_type": "markdown",
   "metadata": {},
   "source": [
    "Полные дубликаты в датасете отсутствуют."
   ]
  },
  {
   "cell_type": "markdown",
   "metadata": {},
   "source": [
    "### 2.4. Выводы\n",
    "\n",
    "На этапе предобработки мы подготовили данные для дальнейшего исследования:\n",
    "\n",
    "1. Исправили стиль названий столбцов в датасете `orders_new`, новые названия *transaction_id* и *visitor_id*.\n",
    "\n",
    "2. В датасетах `orders_new` и `visitors` привели в соответствие тип данных в столбцах, содержащих даты - тип данных преобразовали в *datetime*.\n",
    "\n",
    "3. Проверили текстовые столбцы на наличие дубликатов и убедились в их отсутствии, все данные уникальны.\n",
    "\n",
    "4. Полные дубликаты в датасетах отсутствуют, все строки содержат уникальные данные.\n",
    "\n",
    "\n",
    "Следующим шагом более подробно исследуем данные, содержащиеся в наших датафреймах."
   ]
  },
  {
   "cell_type": "markdown",
   "metadata": {},
   "source": [
    "## 3. Исследование данных"
   ]
  },
  {
   "cell_type": "markdown",
   "metadata": {},
   "source": [
    "На этом этапе более подробно изучим имеющиеся данные"
   ]
  },
  {
   "cell_type": "markdown",
   "metadata": {},
   "source": [
    "### 3.1. Исследование данных датасета `hypothesis`\n",
    "\n",
    "Большинство столбцов в этом датасете, кроме столбца с описанием гипотез, числовые, используем метод `describe()` и получим представление о содержащихся в этих столбцах данных:"
   ]
  },
  {
   "cell_type": "code",
   "execution_count": 15,
   "metadata": {},
   "outputs": [
    {
     "data": {
      "text/html": [
       "<div>\n",
       "<style scoped>\n",
       "    .dataframe tbody tr th:only-of-type {\n",
       "        vertical-align: middle;\n",
       "    }\n",
       "\n",
       "    .dataframe tbody tr th {\n",
       "        vertical-align: top;\n",
       "    }\n",
       "\n",
       "    .dataframe thead th {\n",
       "        text-align: right;\n",
       "    }\n",
       "</style>\n",
       "<table border=\"1\" class=\"dataframe\">\n",
       "  <thead>\n",
       "    <tr style=\"text-align: right;\">\n",
       "      <th></th>\n",
       "      <th>reach</th>\n",
       "      <th>impact</th>\n",
       "      <th>confidence</th>\n",
       "      <th>efforts</th>\n",
       "    </tr>\n",
       "  </thead>\n",
       "  <tbody>\n",
       "    <tr>\n",
       "      <th>count</th>\n",
       "      <td>9.000000</td>\n",
       "      <td>9.000000</td>\n",
       "      <td>9.000000</td>\n",
       "      <td>9.000000</td>\n",
       "    </tr>\n",
       "    <tr>\n",
       "      <th>mean</th>\n",
       "      <td>4.777778</td>\n",
       "      <td>4.777778</td>\n",
       "      <td>5.555556</td>\n",
       "      <td>4.888889</td>\n",
       "    </tr>\n",
       "    <tr>\n",
       "      <th>std</th>\n",
       "      <td>3.153481</td>\n",
       "      <td>3.192874</td>\n",
       "      <td>3.045944</td>\n",
       "      <td>2.803767</td>\n",
       "    </tr>\n",
       "    <tr>\n",
       "      <th>min</th>\n",
       "      <td>1.000000</td>\n",
       "      <td>1.000000</td>\n",
       "      <td>1.000000</td>\n",
       "      <td>1.000000</td>\n",
       "    </tr>\n",
       "    <tr>\n",
       "      <th>25%</th>\n",
       "      <td>3.000000</td>\n",
       "      <td>3.000000</td>\n",
       "      <td>3.000000</td>\n",
       "      <td>3.000000</td>\n",
       "    </tr>\n",
       "    <tr>\n",
       "      <th>50%</th>\n",
       "      <td>3.000000</td>\n",
       "      <td>3.000000</td>\n",
       "      <td>7.000000</td>\n",
       "      <td>5.000000</td>\n",
       "    </tr>\n",
       "    <tr>\n",
       "      <th>75%</th>\n",
       "      <td>8.000000</td>\n",
       "      <td>7.000000</td>\n",
       "      <td>8.000000</td>\n",
       "      <td>6.000000</td>\n",
       "    </tr>\n",
       "    <tr>\n",
       "      <th>max</th>\n",
       "      <td>10.000000</td>\n",
       "      <td>10.000000</td>\n",
       "      <td>9.000000</td>\n",
       "      <td>10.000000</td>\n",
       "    </tr>\n",
       "  </tbody>\n",
       "</table>\n",
       "</div>"
      ],
      "text/plain": [
       "           reach     impact  confidence    efforts\n",
       "count  9.000000   9.000000   9.000000    9.000000 \n",
       "mean   4.777778   4.777778   5.555556    4.888889 \n",
       "std    3.153481   3.192874   3.045944    2.803767 \n",
       "min    1.000000   1.000000   1.000000    1.000000 \n",
       "25%    3.000000   3.000000   3.000000    3.000000 \n",
       "50%    3.000000   3.000000   7.000000    5.000000 \n",
       "75%    8.000000   7.000000   8.000000    6.000000 \n",
       "max    10.000000  10.000000  9.000000    10.000000"
      ]
     },
     "execution_count": 15,
     "metadata": {},
     "output_type": "execute_result"
    }
   ],
   "source": [
    "hypothesis.describe()"
   ]
  },
  {
   "cell_type": "markdown",
   "metadata": {},
   "source": [
    "Видим, в каждом столбце минимальное значение  1, максимальное 10 у 3-х параметров, кроме *confidence*, у него максимальное значение равно 9. Описание данных reach и impact совпадает по большинству параметров."
   ]
  },
  {
   "cell_type": "markdown",
   "metadata": {},
   "source": [
    "### 3.2. Исследование данных датасета `orders_new`"
   ]
  },
  {
   "cell_type": "markdown",
   "metadata": {},
   "source": [
    "#### 3.2.1. Определим минимальную и максимальную дату заказов:"
   ]
  },
  {
   "cell_type": "code",
   "execution_count": 16,
   "metadata": {},
   "outputs": [
    {
     "name": "stdout",
     "output_type": "stream",
     "text": [
      "Минимальная дата заказа: 2019-08-01\n",
      "Максимальная дата заказа: 2019-08-31\n"
     ]
    }
   ],
   "source": [
    "print('Минимальная дата заказа:', orders_new['date'].dt.date.min())\n",
    "print('Максимальная дата заказа:', orders_new['date'].dt.date.max())"
   ]
  },
  {
   "cell_type": "markdown",
   "metadata": {},
   "source": [
    "#### 3.2.2. Определим количество уникальных пользователей\n",
    "На 1-м этапе мы определили количество уникальных заказов - 1197, что равно количеству строк в датафрейме. Посчитаем количество уникальных пользователей, которые оформили заказы:"
   ]
  },
  {
   "cell_type": "code",
   "execution_count": 17,
   "metadata": {},
   "outputs": [
    {
     "name": "stdout",
     "output_type": "stream",
     "text": [
      "Количество уникальных пользователей, оформивших заказ, составляет: 1031\n"
     ]
    }
   ],
   "source": [
    "print('Количество уникальных пользователей, оформивших заказ, составляет:', orders_new['visitor_id'].nunique())"
   ]
  },
  {
   "cell_type": "markdown",
   "metadata": {},
   "source": [
    "Отличие количества заказов и количества уникальных пользователей говорит о том, что часть из них совершали повторные заказы и повторно принимали участие в тестировании, т.е. по одному пользователю есть несколько наблюдений."
   ]
  },
  {
   "cell_type": "markdown",
   "metadata": {},
   "source": [
    "Посмотрим на ТОП-10 самых активных пользователей за период:"
   ]
  },
  {
   "cell_type": "code",
   "execution_count": 18,
   "metadata": {},
   "outputs": [
    {
     "data": {
      "text/plain": [
       "4256040402    11\n",
       "2458001652    11\n",
       "2378935119    9 \n",
       "2038680547    8 \n",
       "199603092     5 \n",
       "237748145     5 \n",
       "3717692402    5 \n",
       "3062433592    5 \n",
       "3803269165    5 \n",
       "1230306981    5 \n",
       "Name: visitor_id, dtype: int64"
      ]
     },
     "execution_count": 18,
     "metadata": {},
     "output_type": "execute_result"
    }
   ],
   "source": [
    "orders_new['visitor_id'].value_counts().head(10)"
   ]
  },
  {
   "cell_type": "markdown",
   "metadata": {},
   "source": [
    "Изучим детали пользователя на примере одного из id 2458001652, который сделал 11 заказов. Отсортируем срез по возрастанию даты заказа."
   ]
  },
  {
   "cell_type": "code",
   "execution_count": 19,
   "metadata": {},
   "outputs": [
    {
     "data": {
      "text/html": [
       "<div>\n",
       "<style scoped>\n",
       "    .dataframe tbody tr th:only-of-type {\n",
       "        vertical-align: middle;\n",
       "    }\n",
       "\n",
       "    .dataframe tbody tr th {\n",
       "        vertical-align: top;\n",
       "    }\n",
       "\n",
       "    .dataframe thead th {\n",
       "        text-align: right;\n",
       "    }\n",
       "</style>\n",
       "<table border=\"1\" class=\"dataframe\">\n",
       "  <thead>\n",
       "    <tr style=\"text-align: right;\">\n",
       "      <th></th>\n",
       "      <th>transaction_id</th>\n",
       "      <th>visitor_id</th>\n",
       "      <th>date</th>\n",
       "      <th>revenue</th>\n",
       "      <th>group</th>\n",
       "    </tr>\n",
       "  </thead>\n",
       "  <tbody>\n",
       "    <tr>\n",
       "      <th>611</th>\n",
       "      <td>1244084011</td>\n",
       "      <td>2458001652</td>\n",
       "      <td>2019-08-04</td>\n",
       "      <td>340</td>\n",
       "      <td>A</td>\n",
       "    </tr>\n",
       "    <tr>\n",
       "      <th>883</th>\n",
       "      <td>2412219836</td>\n",
       "      <td>2458001652</td>\n",
       "      <td>2019-08-05</td>\n",
       "      <td>2420</td>\n",
       "      <td>B</td>\n",
       "    </tr>\n",
       "    <tr>\n",
       "      <th>454</th>\n",
       "      <td>3755354294</td>\n",
       "      <td>2458001652</td>\n",
       "      <td>2019-08-06</td>\n",
       "      <td>7349</td>\n",
       "      <td>B</td>\n",
       "    </tr>\n",
       "    <tr>\n",
       "      <th>456</th>\n",
       "      <td>543654048</td>\n",
       "      <td>2458001652</td>\n",
       "      <td>2019-08-06</td>\n",
       "      <td>1620</td>\n",
       "      <td>A</td>\n",
       "    </tr>\n",
       "    <tr>\n",
       "      <th>483</th>\n",
       "      <td>2280027650</td>\n",
       "      <td>2458001652</td>\n",
       "      <td>2019-08-06</td>\n",
       "      <td>6681</td>\n",
       "      <td>B</td>\n",
       "    </tr>\n",
       "    <tr>\n",
       "      <th>727</th>\n",
       "      <td>3959083601</td>\n",
       "      <td>2458001652</td>\n",
       "      <td>2019-08-07</td>\n",
       "      <td>17379</td>\n",
       "      <td>A</td>\n",
       "    </tr>\n",
       "    <tr>\n",
       "      <th>916</th>\n",
       "      <td>527333943</td>\n",
       "      <td>2458001652</td>\n",
       "      <td>2019-08-08</td>\n",
       "      <td>5227</td>\n",
       "      <td>B</td>\n",
       "    </tr>\n",
       "    <tr>\n",
       "      <th>692</th>\n",
       "      <td>3586870909</td>\n",
       "      <td>2458001652</td>\n",
       "      <td>2019-08-09</td>\n",
       "      <td>5227</td>\n",
       "      <td>B</td>\n",
       "    </tr>\n",
       "    <tr>\n",
       "      <th>1062</th>\n",
       "      <td>1817215137</td>\n",
       "      <td>2458001652</td>\n",
       "      <td>2019-08-11</td>\n",
       "      <td>8280</td>\n",
       "      <td>A</td>\n",
       "    </tr>\n",
       "    <tr>\n",
       "      <th>133</th>\n",
       "      <td>3060563671</td>\n",
       "      <td>2458001652</td>\n",
       "      <td>2019-08-22</td>\n",
       "      <td>5190</td>\n",
       "      <td>A</td>\n",
       "    </tr>\n",
       "    <tr>\n",
       "      <th>380</th>\n",
       "      <td>1177690313</td>\n",
       "      <td>2458001652</td>\n",
       "      <td>2019-08-25</td>\n",
       "      <td>2385</td>\n",
       "      <td>B</td>\n",
       "    </tr>\n",
       "  </tbody>\n",
       "</table>\n",
       "</div>"
      ],
      "text/plain": [
       "      transaction_id  visitor_id       date  revenue group\n",
       "611   1244084011      2458001652 2019-08-04  340      A   \n",
       "883   2412219836      2458001652 2019-08-05  2420     B   \n",
       "454   3755354294      2458001652 2019-08-06  7349     B   \n",
       "456   543654048       2458001652 2019-08-06  1620     A   \n",
       "483   2280027650      2458001652 2019-08-06  6681     B   \n",
       "727   3959083601      2458001652 2019-08-07  17379    A   \n",
       "916   527333943       2458001652 2019-08-08  5227     B   \n",
       "692   3586870909      2458001652 2019-08-09  5227     B   \n",
       "1062  1817215137      2458001652 2019-08-11  8280     A   \n",
       "133   3060563671      2458001652 2019-08-22  5190     A   \n",
       "380   1177690313      2458001652 2019-08-25  2385     B   "
      ]
     },
     "execution_count": 19,
     "metadata": {},
     "output_type": "execute_result"
    }
   ],
   "source": [
    "orders_new.query('visitor_id == 2458001652').sort_values(by='date')"
   ]
  },
  {
   "cell_type": "markdown",
   "metadata": {},
   "source": [
    "Из таблицы мы видим, что дата 1-го заказа была 4 августа, дата последнего заказа 25 августа, 6 августа клиент сделал несколько заказов. В течение всего периода пользователь попадал в разные группы A/B теста, чего не должно быть при  проведении тестирования, каждый пользователь должен входить только в одну группу, при сборе данных допущены ошибки. Оценим количество таких пользователей в выборке, т.е. нам нужны те, чей *id* входит в обе группы теста. Воспользуемся методом `groupby` по *visitor_id* и посчитаем в какое количество уникальных групп входит пользователь, запишем таблицу в переменную `orders_`."
   ]
  },
  {
   "cell_type": "code",
   "execution_count": 20,
   "metadata": {},
   "outputs": [
    {
     "data": {
      "text/html": [
       "<div>\n",
       "<style scoped>\n",
       "    .dataframe tbody tr th:only-of-type {\n",
       "        vertical-align: middle;\n",
       "    }\n",
       "\n",
       "    .dataframe tbody tr th {\n",
       "        vertical-align: top;\n",
       "    }\n",
       "\n",
       "    .dataframe thead th {\n",
       "        text-align: right;\n",
       "    }\n",
       "</style>\n",
       "<table border=\"1\" class=\"dataframe\">\n",
       "  <thead>\n",
       "    <tr style=\"text-align: right;\">\n",
       "      <th></th>\n",
       "      <th>visitor_id</th>\n",
       "      <th>group</th>\n",
       "    </tr>\n",
       "  </thead>\n",
       "  <tbody>\n",
       "    <tr>\n",
       "      <th>0</th>\n",
       "      <td>5114589</td>\n",
       "      <td>1</td>\n",
       "    </tr>\n",
       "    <tr>\n",
       "      <th>1</th>\n",
       "      <td>6958315</td>\n",
       "      <td>1</td>\n",
       "    </tr>\n",
       "    <tr>\n",
       "      <th>2</th>\n",
       "      <td>8300375</td>\n",
       "      <td>2</td>\n",
       "    </tr>\n",
       "    <tr>\n",
       "      <th>3</th>\n",
       "      <td>11685486</td>\n",
       "      <td>1</td>\n",
       "    </tr>\n",
       "    <tr>\n",
       "      <th>4</th>\n",
       "      <td>39475350</td>\n",
       "      <td>1</td>\n",
       "    </tr>\n",
       "    <tr>\n",
       "      <th>...</th>\n",
       "      <td>...</td>\n",
       "      <td>...</td>\n",
       "    </tr>\n",
       "    <tr>\n",
       "      <th>1026</th>\n",
       "      <td>4266935830</td>\n",
       "      <td>2</td>\n",
       "    </tr>\n",
       "    <tr>\n",
       "      <th>1027</th>\n",
       "      <td>4278982564</td>\n",
       "      <td>1</td>\n",
       "    </tr>\n",
       "    <tr>\n",
       "      <th>1028</th>\n",
       "      <td>4279090005</td>\n",
       "      <td>1</td>\n",
       "    </tr>\n",
       "    <tr>\n",
       "      <th>1029</th>\n",
       "      <td>4281247801</td>\n",
       "      <td>1</td>\n",
       "    </tr>\n",
       "    <tr>\n",
       "      <th>1030</th>\n",
       "      <td>4283872382</td>\n",
       "      <td>1</td>\n",
       "    </tr>\n",
       "  </tbody>\n",
       "</table>\n",
       "<p>1031 rows × 2 columns</p>\n",
       "</div>"
      ],
      "text/plain": [
       "      visitor_id  group\n",
       "0     5114589     1    \n",
       "1     6958315     1    \n",
       "2     8300375     2    \n",
       "3     11685486    1    \n",
       "4     39475350    1    \n",
       "...        ...   ..    \n",
       "1026  4266935830  2    \n",
       "1027  4278982564  1    \n",
       "1028  4279090005  1    \n",
       "1029  4281247801  1    \n",
       "1030  4283872382  1    \n",
       "\n",
       "[1031 rows x 2 columns]"
      ]
     },
     "execution_count": 20,
     "metadata": {},
     "output_type": "execute_result"
    }
   ],
   "source": [
    "orders_ = orders_new.groupby('visitor_id', as_index=False).agg({'group':'nunique'})\n",
    "orders_"
   ]
  },
  {
   "cell_type": "markdown",
   "metadata": {},
   "source": [
    "По части выведенной таблицы видим пользователей, которые входят в обе группы A/B теста, посчитаем их количество."
   ]
  },
  {
   "cell_type": "code",
   "execution_count": 21,
   "metadata": {},
   "outputs": [
    {
     "data": {
      "text/plain": [
       "1    973\n",
       "2    58 \n",
       "Name: group, dtype: int64"
      ]
     },
     "execution_count": 21,
     "metadata": {},
     "output_type": "execute_result"
    }
   ],
   "source": [
    "orders_.group.value_counts()"
   ]
  },
  {
   "cell_type": "markdown",
   "metadata": {},
   "source": [
    "Итого, у нас 973 пользователя, которые входят в разные группы и 58 пользователей, которые вошли в обе группы теста. Посчитаем, какая доля заказов приходится на этих пользователей. Сформируем список *visitor_id* этих пользователей и запишем в переменную `group_dubl`"
   ]
  },
  {
   "cell_type": "code",
   "execution_count": 22,
   "metadata": {},
   "outputs": [
    {
     "data": {
      "text/plain": [
       "array([   8300375,  199603092,  232979603,  237748145,  276558944,\n",
       "        351125977,  393266494,  457167155,  471551937,  477780734,\n",
       "        818047933,  963407295, 1230306981, 1294878855, 1316129916,\n",
       "       1333886533, 1404934699, 1602967004, 1614305549, 1648269707,\n",
       "       1668030113, 1738359350, 1801183820, 1959144690, 2038680547,\n",
       "       2044997962, 2378935119, 2458001652, 2579882178, 2587333274,\n",
       "       2600415354, 2654030115, 2686716486, 2712142231, 2716752286,\n",
       "       2780786433, 2927087541, 2949041841, 2954449915, 3062433592,\n",
       "       3202540741, 3234906277, 3656415546, 3717692402, 3766097110,\n",
       "       3803269165, 3891541246, 3941795274, 3951559397, 3957174400,\n",
       "       3963646447, 3972127743, 3984495233, 4069496402, 4120364173,\n",
       "       4186807279, 4256040402, 4266935830])"
      ]
     },
     "execution_count": 22,
     "metadata": {},
     "output_type": "execute_result"
    }
   ],
   "source": [
    "group_dubl = orders_.query('group == 2')['visitor_id'].unique()\n",
    "group_dubl"
   ]
  },
  {
   "cell_type": "markdown",
   "metadata": {},
   "source": [
    "Выполним срез из датасета `orders_new` по списку `group_dubl`. Посчитаем его размер с помощью метода `shape`. Рассчитаем долю этих заказов через отношение к общему количеству заказов."
   ]
  },
  {
   "cell_type": "code",
   "execution_count": 23,
   "metadata": {},
   "outputs": [
    {
     "data": {
      "text/plain": [
       "0.15121136173767752"
      ]
     },
     "execution_count": 23,
     "metadata": {},
     "output_type": "execute_result"
    }
   ],
   "source": [
    "orders_new.query('visitor_id  in @group_dubl').shape[0]/orders_new.shape[0]"
   ]
  },
  {
   "cell_type": "markdown",
   "metadata": {},
   "source": [
    "Доля заказов клиентов, входящих в обе группы А/В теста составляет 15.12%. Это значительный объем данных. Сохраним этих клиентов в датасете `orders_new`, поскольку их удаление повлияет на конверсию, т.к. они присутствуют в датафрейме с посещениями интернет-магазина `visitors`, из этого списка мы их не сможет исключить."
   ]
  },
  {
   "cell_type": "markdown",
   "metadata": {},
   "source": [
    "#### 3.2.3. Определим соотношение между группами A/B теста"
   ]
  },
  {
   "cell_type": "code",
   "execution_count": 24,
   "metadata": {},
   "outputs": [
    {
     "data": {
      "image/png": "[encoded data removed]",
      "text/plain": [
       "<Figure size 360x360 with 1 Axes>"
      ]
     },
     "metadata": {},
     "output_type": "display_data"
    }
   ],
   "source": [
    "group=orders_new.groupby('group').agg('count')['transaction_id']\n",
    "\n",
    "plt.figure(figsize=(5, 5))\n",
    "names='groupA', 'groupB'\n",
    "plt.pie(group, labels=names, autopct='%1.2f%%',  colors=['grey','skyblue'], \\\n",
    "        wedgeprops = {'linewidth' : 5,'edgecolor': 'white'})\n",
    "plt.title(\"Доля групп A/B теста\")\n",
    "plt.show()"
   ]
  },
  {
   "cell_type": "markdown",
   "metadata": {},
   "source": [
    "В датасете примерно 46.5% наблюдений по группе A и примерно 53.5% наблюдений по группе B."
   ]
  },
  {
   "cell_type": "markdown",
   "metadata": {},
   "source": [
    "#### 3.2.4. Посмотрим на распределение данных по выручке в датасете `orders_new`, \n",
    "для этого используем `plot.box()`"
   ]
  },
  {
   "cell_type": "code",
   "execution_count": 25,
   "metadata": {},
   "outputs": [
    {
     "data": {
      "image/png": "[encoded data removed]",
      "text/plain": [
       "<Figure size 1080x360 with 2 Axes>"
      ]
     },
     "metadata": {},
     "output_type": "display_data"
    }
   ],
   "source": [
    "fig, ax=plt.subplots(1,2, figsize=(15,5))\n",
    "plt.rc('axes', titlesize=15)\n",
    "\n",
    "(orders_new['revenue'].plot.box(ax=ax[0], \n",
    "                                title='Диаграмма размаха выручки')\n",
    "                      .set(xlabel='Выручка',\n",
    "                          ylabel='Сумма'))\n",
    "\n",
    "(orders_new['revenue'].plot.box(ax=ax[1], \n",
    "                                title='Диаграмма размаха выручки, срез < 100тыс.', \n",
    "                               ylim=(0, 100000))\n",
    "                      .set(xlabel='Выручка'))\n",
    "\n",
    "plt.show()"
   ]
  },
  {
   "cell_type": "markdown",
   "metadata": {},
   "source": [
    "По диаграммам размаха видим, что чаще всего суммы заказов распределяются примерно на уровне до 10 тыс и, в основном объеме, не превышают 100 тыс., но есть несколько аномальных значений, примерно на 200 тыс. и 1,3 млн. Эти моменты учтем при анализе результатов A/B теста."
   ]
  },
  {
   "cell_type": "markdown",
   "metadata": {},
   "source": [
    "### 3.3. Исследование данных датасета `visitors`"
   ]
  },
  {
   "cell_type": "markdown",
   "metadata": {},
   "source": [
    "#### 3.3.1. Определим минимальную и максимальную даты в датасете."
   ]
  },
  {
   "cell_type": "code",
   "execution_count": 26,
   "metadata": {},
   "outputs": [
    {
     "name": "stdout",
     "output_type": "stream",
     "text": [
      "Минимальная дата: 2019-08-01\n",
      "Максимальная дата: 2019-08-31\n"
     ]
    }
   ],
   "source": [
    "print('Минимальная дата:', visitors['date'].dt.date.min())\n",
    "print('Максимальная дата:', visitors['date'].dt.date.max())"
   ]
  },
  {
   "cell_type": "markdown",
   "metadata": {},
   "source": [
    "#### 3.3.2. Посмотрим на распределение количества пользователей по датам.\n",
    "эта информация содержится в столбце *visitors*:"
   ]
  },
  {
   "cell_type": "code",
   "execution_count": 27,
   "metadata": {},
   "outputs": [
    {
     "name": "stdout",
     "output_type": "stream",
     "text": [
      "count    62.000000 \n",
      "mean     607.290323\n",
      "std      114.400560\n",
      "min      361.000000\n",
      "25%      534.000000\n",
      "50%      624.500000\n",
      "75%      710.500000\n",
      "max      770.000000\n",
      "Name: visitors, dtype: float64\n"
     ]
    },
    {
     "data": {
      "image/png": "[encoded data removed]",
      "text/plain": [
       "<Figure size 432x288 with 1 Axes>"
      ]
     },
     "metadata": {},
     "output_type": "display_data"
    }
   ],
   "source": [
    "print(visitors['visitors'].describe())\n",
    "visitors.boxplot('visitors')\n",
    "plt.title('Диаграмма размаха количества пользователей', fontsize=15)\n",
    "plt.xlabel('Пользователи')\n",
    "plt.ylabel('Количество по датам')\n",
    "plt.show()"
   ]
  },
  {
   "cell_type": "markdown",
   "metadata": {},
   "source": [
    "Минимальное количество пользователей 361, максимальное - 770. Медиана расположена на уровне 625, \"ящик\" с верхним смещением. Большинство значений расположено в интервале между 540 и 710."
   ]
  },
  {
   "cell_type": "markdown",
   "metadata": {},
   "source": [
    "### 3.4. Выводы\n",
    "\n",
    "На этом этапе мы более подробно изучили данные из датасетов:\n",
    "\n",
    "1. В датасете `hypothesis` указано 9 гипотез. В оценочных параметрах этих гипотез присутствуют как 1 балл - минимальное значение, так и максимальные 10 баллов.\n",
    "\n",
    "2. В датасете `orders_new` мы определили:\n",
    "    - Минимальную дату 1 августа 2019г и максимальную дату - 31 августа 2019г. \n",
    "    - 58 пользователей, которые вошли в обе группы тестов, что говорит об ошибке при сборе данных. Заказы этих пользователей составляют 15,12% от общего количества заказов. Этих пользователей сохранили в выборке для дальнейшего корректного расчета конверсии.\n",
    "    - Датасет состоит из 1197 строк (количество наблюдений) и содержит 1031 уникальных пользователя.\n",
    "    - Доля группы A составляет примерно 46.5% от общего объема выборки, доля группы B - примерно 53.5%.\n",
    "    - Суммы заказов распределяются примерно на уровне до 10 тыс и, в основном объеме, не превышают 100 тыс., но есть несколько аномальных значений, примерно на 200 тыс. и 1,3 млн. Эти моменты учтем при анализе результатов A/B теста.\n",
    "\n",
    "3. По данным  датасета `visitors` чаще в ежедневные группы A/B теста входило от 540 до 710 пользователей. Минимальное количество пользователей по датам/группам - 361, максимальное - 770. Минимальная и максимальная даты совпадают с датами сета `orders_new`\n",
    "\n",
    "На следующем этапе займемся приоритизацией гипотез."
   ]
  },
  {
   "cell_type": "markdown",
   "metadata": {},
   "source": [
    "## 4. Приоритизация гипотез"
   ]
  },
  {
   "cell_type": "markdown",
   "metadata": {},
   "source": [
    "Расставим приоритеты у наших гипотез из датасета `hypothesis`. Используем для этого фреймворки `ICE` и `RICE`. Датасет содержит нужные параметры для проведения расчетов:\n",
    "- Reach, \n",
    "- Impact,\n",
    "- Confidence, \n",
    "- Effort\n",
    "\n",
    "Список проверяемых гипотез:\n",
    "- 'Добавить два новых канала привлечения трафика, что позволит привлекать на 30% больше пользователей',\n",
    "- 'Запустить собственную службу доставки, что сократит срок доставки заказов',\n",
    "- 'Добавить блоки рекомендаций товаров на сайт интернет магазина, чтобы повысить конверсию и средний чек заказа',\n",
    "- 'Изменить структура категорий, что увеличит конверсию, т.к. пользователи быстрее найдут нужный товар',\n",
    "- 'Изменить цвет фона главной страницы, чтобы увеличить вовлеченность пользователей',\n",
    "- 'Добавить страницу отзывов клиентов о магазине, что позволит увеличить количество заказов',\n",
    "- 'Показать на главной странице баннеры с актуальными акциями и распродажами, чтобы увеличить конверсию',\n",
    "- 'Добавить форму подписки на все основные страницы, чтобы собрать базу клиентов для email-рассылок',\n",
    "- 'Запустить акцию, дающую скидку на товар в день рождения'\n",
    "\n",
    "Выведем список гипотез с параметрами:"
   ]
  },
  {
   "cell_type": "code",
   "execution_count": 28,
   "metadata": {},
   "outputs": [
    {
     "data": {
      "text/html": [
       "<div>\n",
       "<style scoped>\n",
       "    .dataframe tbody tr th:only-of-type {\n",
       "        vertical-align: middle;\n",
       "    }\n",
       "\n",
       "    .dataframe tbody tr th {\n",
       "        vertical-align: top;\n",
       "    }\n",
       "\n",
       "    .dataframe thead th {\n",
       "        text-align: right;\n",
       "    }\n",
       "</style>\n",
       "<table border=\"1\" class=\"dataframe\">\n",
       "  <thead>\n",
       "    <tr style=\"text-align: right;\">\n",
       "      <th></th>\n",
       "      <th>hypothesis</th>\n",
       "      <th>reach</th>\n",
       "      <th>impact</th>\n",
       "      <th>confidence</th>\n",
       "      <th>efforts</th>\n",
       "    </tr>\n",
       "  </thead>\n",
       "  <tbody>\n",
       "    <tr>\n",
       "      <th>0</th>\n",
       "      <td>Добавить два новых канала привлечения трафика, что позволит привлекать на 30% больше пользователей</td>\n",
       "      <td>3</td>\n",
       "      <td>10</td>\n",
       "      <td>8</td>\n",
       "      <td>6</td>\n",
       "    </tr>\n",
       "    <tr>\n",
       "      <th>1</th>\n",
       "      <td>Запустить собственную службу доставки, что сократит срок доставки заказов</td>\n",
       "      <td>2</td>\n",
       "      <td>5</td>\n",
       "      <td>4</td>\n",
       "      <td>10</td>\n",
       "    </tr>\n",
       "    <tr>\n",
       "      <th>2</th>\n",
       "      <td>Добавить блоки рекомендаций товаров на сайт интернет магазина, чтобы повысить конверсию и средний чек заказа</td>\n",
       "      <td>8</td>\n",
       "      <td>3</td>\n",
       "      <td>7</td>\n",
       "      <td>3</td>\n",
       "    </tr>\n",
       "    <tr>\n",
       "      <th>3</th>\n",
       "      <td>Изменить структура категорий, что увеличит конверсию, т.к. пользователи быстрее найдут нужный товар</td>\n",
       "      <td>8</td>\n",
       "      <td>3</td>\n",
       "      <td>3</td>\n",
       "      <td>8</td>\n",
       "    </tr>\n",
       "    <tr>\n",
       "      <th>4</th>\n",
       "      <td>Изменить цвет фона главной страницы, чтобы увеличить вовлеченность пользователей</td>\n",
       "      <td>3</td>\n",
       "      <td>1</td>\n",
       "      <td>1</td>\n",
       "      <td>1</td>\n",
       "    </tr>\n",
       "    <tr>\n",
       "      <th>5</th>\n",
       "      <td>Добавить страницу отзывов клиентов о магазине, что позволит увеличить количество заказов</td>\n",
       "      <td>3</td>\n",
       "      <td>2</td>\n",
       "      <td>2</td>\n",
       "      <td>3</td>\n",
       "    </tr>\n",
       "    <tr>\n",
       "      <th>6</th>\n",
       "      <td>Показать на главной странице баннеры с актуальными акциями и распродажами, чтобы увеличить конверсию</td>\n",
       "      <td>5</td>\n",
       "      <td>3</td>\n",
       "      <td>8</td>\n",
       "      <td>3</td>\n",
       "    </tr>\n",
       "    <tr>\n",
       "      <th>7</th>\n",
       "      <td>Добавить форму подписки на все основные страницы, чтобы собрать базу клиентов для email-рассылок</td>\n",
       "      <td>10</td>\n",
       "      <td>7</td>\n",
       "      <td>8</td>\n",
       "      <td>5</td>\n",
       "    </tr>\n",
       "    <tr>\n",
       "      <th>8</th>\n",
       "      <td>Запустить акцию, дающую скидку на товар в день рождения</td>\n",
       "      <td>1</td>\n",
       "      <td>9</td>\n",
       "      <td>9</td>\n",
       "      <td>5</td>\n",
       "    </tr>\n",
       "  </tbody>\n",
       "</table>\n",
       "</div>"
      ],
      "text/plain": [
       "                                                                                                     hypothesis  \\\n",
       "0  Добавить два новых канала привлечения трафика, что позволит привлекать на 30% больше пользователей             \n",
       "1  Запустить собственную службу доставки, что сократит срок доставки заказов                                      \n",
       "2  Добавить блоки рекомендаций товаров на сайт интернет магазина, чтобы повысить конверсию и средний чек заказа   \n",
       "3  Изменить структура категорий, что увеличит конверсию, т.к. пользователи быстрее найдут нужный товар            \n",
       "4  Изменить цвет фона главной страницы, чтобы увеличить вовлеченность пользователей                               \n",
       "5  Добавить страницу отзывов клиентов о магазине, что позволит увеличить количество заказов                       \n",
       "6  Показать на главной странице баннеры с актуальными акциями и распродажами, чтобы увеличить конверсию           \n",
       "7  Добавить форму подписки на все основные страницы, чтобы собрать базу клиентов для email-рассылок               \n",
       "8  Запустить акцию, дающую скидку на товар в день рождения                                                        \n",
       "\n",
       "   reach  impact  confidence  efforts  \n",
       "0  3      10      8           6        \n",
       "1  2      5       4           10       \n",
       "2  8      3       7           3        \n",
       "3  8      3       3           8        \n",
       "4  3      1       1           1        \n",
       "5  3      2       2           3        \n",
       "6  5      3       8           3        \n",
       "7  10     7       8           5        \n",
       "8  1      9       9           5        "
      ]
     },
     "execution_count": 28,
     "metadata": {},
     "output_type": "execute_result"
    }
   ],
   "source": [
    "hypothesis"
   ]
  },
  {
   "cell_type": "markdown",
   "metadata": {},
   "source": [
    "### 4.1. Приоритизация гипотез с помощью фреймворка `ICE`"
   ]
  },
  {
   "cell_type": "markdown",
   "metadata": {},
   "source": [
    "Для расчета `ICE` *Impact* умножим на *Confience* и разделим на *Effort* (влияниеХуверенность/простота). Данные запишем в новый столбец *ice*. Выведем список гипотез, отсортированный по убыванию значений *ice*"
   ]
  },
  {
   "cell_type": "code",
   "execution_count": 29,
   "metadata": {},
   "outputs": [
    {
     "data": {
      "text/html": [
       "<div>\n",
       "<style scoped>\n",
       "    .dataframe tbody tr th:only-of-type {\n",
       "        vertical-align: middle;\n",
       "    }\n",
       "\n",
       "    .dataframe tbody tr th {\n",
       "        vertical-align: top;\n",
       "    }\n",
       "\n",
       "    .dataframe thead th {\n",
       "        text-align: right;\n",
       "    }\n",
       "</style>\n",
       "<table border=\"1\" class=\"dataframe\">\n",
       "  <thead>\n",
       "    <tr style=\"text-align: right;\">\n",
       "      <th></th>\n",
       "      <th>hypothesis</th>\n",
       "      <th>ice</th>\n",
       "    </tr>\n",
       "  </thead>\n",
       "  <tbody>\n",
       "    <tr>\n",
       "      <th>8</th>\n",
       "      <td>Запустить акцию, дающую скидку на товар в день рождения</td>\n",
       "      <td>16.20</td>\n",
       "    </tr>\n",
       "    <tr>\n",
       "      <th>0</th>\n",
       "      <td>Добавить два новых канала привлечения трафика, что позволит привлекать на 30% больше пользователей</td>\n",
       "      <td>13.33</td>\n",
       "    </tr>\n",
       "    <tr>\n",
       "      <th>7</th>\n",
       "      <td>Добавить форму подписки на все основные страницы, чтобы собрать базу клиентов для email-рассылок</td>\n",
       "      <td>11.20</td>\n",
       "    </tr>\n",
       "    <tr>\n",
       "      <th>6</th>\n",
       "      <td>Показать на главной странице баннеры с актуальными акциями и распродажами, чтобы увеличить конверсию</td>\n",
       "      <td>8.00</td>\n",
       "    </tr>\n",
       "    <tr>\n",
       "      <th>2</th>\n",
       "      <td>Добавить блоки рекомендаций товаров на сайт интернет магазина, чтобы повысить конверсию и средний чек заказа</td>\n",
       "      <td>7.00</td>\n",
       "    </tr>\n",
       "    <tr>\n",
       "      <th>1</th>\n",
       "      <td>Запустить собственную службу доставки, что сократит срок доставки заказов</td>\n",
       "      <td>2.00</td>\n",
       "    </tr>\n",
       "    <tr>\n",
       "      <th>5</th>\n",
       "      <td>Добавить страницу отзывов клиентов о магазине, что позволит увеличить количество заказов</td>\n",
       "      <td>1.33</td>\n",
       "    </tr>\n",
       "    <tr>\n",
       "      <th>3</th>\n",
       "      <td>Изменить структура категорий, что увеличит конверсию, т.к. пользователи быстрее найдут нужный товар</td>\n",
       "      <td>1.12</td>\n",
       "    </tr>\n",
       "    <tr>\n",
       "      <th>4</th>\n",
       "      <td>Изменить цвет фона главной страницы, чтобы увеличить вовлеченность пользователей</td>\n",
       "      <td>1.00</td>\n",
       "    </tr>\n",
       "  </tbody>\n",
       "</table>\n",
       "</div>"
      ],
      "text/plain": [
       "                                                                                                     hypothesis  \\\n",
       "8  Запустить акцию, дающую скидку на товар в день рождения                                                        \n",
       "0  Добавить два новых канала привлечения трафика, что позволит привлекать на 30% больше пользователей             \n",
       "7  Добавить форму подписки на все основные страницы, чтобы собрать базу клиентов для email-рассылок               \n",
       "6  Показать на главной странице баннеры с актуальными акциями и распродажами, чтобы увеличить конверсию           \n",
       "2  Добавить блоки рекомендаций товаров на сайт интернет магазина, чтобы повысить конверсию и средний чек заказа   \n",
       "1  Запустить собственную службу доставки, что сократит срок доставки заказов                                      \n",
       "5  Добавить страницу отзывов клиентов о магазине, что позволит увеличить количество заказов                       \n",
       "3  Изменить структура категорий, что увеличит конверсию, т.к. пользователи быстрее найдут нужный товар            \n",
       "4  Изменить цвет фона главной страницы, чтобы увеличить вовлеченность пользователей                               \n",
       "\n",
       "     ice  \n",
       "8  16.20  \n",
       "0  13.33  \n",
       "7  11.20  \n",
       "6  8.00   \n",
       "2  7.00   \n",
       "1  2.00   \n",
       "5  1.33   \n",
       "3  1.12   \n",
       "4  1.00   "
      ]
     },
     "execution_count": 29,
     "metadata": {},
     "output_type": "execute_result"
    }
   ],
   "source": [
    "hypothesis['ice'] = round((hypothesis['impact'] * hypothesis['confidence'] / hypothesis['efforts']), 2)\n",
    "                    \n",
    "hypothesis[['hypothesis', 'ice']].sort_values(by='ice', ascending=False)"
   ]
  },
  {
   "cell_type": "markdown",
   "metadata": {},
   "source": [
    "Самая перспективная гипотеза - **'Запустить акцию, дающую скидку на товар в день рождения'**.\n",
    "следом идут гипотезы - **'Добавить два новых канала привлечения трафика, что позволит привлекать на 30% больше пользователей'** и **'Добавить форму подписки на все основные страницы, чтобы собрать базу клиентов для email-рассылок'**\n",
    "\n",
    "Можем еще 2-м гипотезам присвоить средний уровень перспективности: *'Показать на главной странице баннеры с актуальными акциями и распродажами, чтобы увеличить конверсию'* и *'Добавить блоки рекомендаций товаров на сайт интернет магазина, чтобы повысить конверсию и средний чек заказа'*."
   ]
  },
  {
   "cell_type": "markdown",
   "metadata": {},
   "source": [
    "### 4.2. Приоритизация гипотез с помощью фреймворка `RICE`"
   ]
  },
  {
   "cell_type": "markdown",
   "metadata": {},
   "source": [
    "Для расчета `RICE` перемножим *Reach*, *Impact* и *Confience* и разделим на *Effort* (охватХвлияниеХуверенность/простота). Данные запишем в новый столбец *rice*. Выведем список гипотез, отсортированный по убыванию значений *rice*"
   ]
  },
  {
   "cell_type": "code",
   "execution_count": 30,
   "metadata": {},
   "outputs": [
    {
     "data": {
      "text/html": [
       "<div>\n",
       "<style scoped>\n",
       "    .dataframe tbody tr th:only-of-type {\n",
       "        vertical-align: middle;\n",
       "    }\n",
       "\n",
       "    .dataframe tbody tr th {\n",
       "        vertical-align: top;\n",
       "    }\n",
       "\n",
       "    .dataframe thead th {\n",
       "        text-align: right;\n",
       "    }\n",
       "</style>\n",
       "<table border=\"1\" class=\"dataframe\">\n",
       "  <thead>\n",
       "    <tr style=\"text-align: right;\">\n",
       "      <th></th>\n",
       "      <th>hypothesis</th>\n",
       "      <th>rice</th>\n",
       "    </tr>\n",
       "  </thead>\n",
       "  <tbody>\n",
       "    <tr>\n",
       "      <th>7</th>\n",
       "      <td>Добавить форму подписки на все основные страницы, чтобы собрать базу клиентов для email-рассылок</td>\n",
       "      <td>112.0</td>\n",
       "    </tr>\n",
       "    <tr>\n",
       "      <th>2</th>\n",
       "      <td>Добавить блоки рекомендаций товаров на сайт интернет магазина, чтобы повысить конверсию и средний чек заказа</td>\n",
       "      <td>56.0</td>\n",
       "    </tr>\n",
       "    <tr>\n",
       "      <th>0</th>\n",
       "      <td>Добавить два новых канала привлечения трафика, что позволит привлекать на 30% больше пользователей</td>\n",
       "      <td>40.0</td>\n",
       "    </tr>\n",
       "    <tr>\n",
       "      <th>6</th>\n",
       "      <td>Показать на главной странице баннеры с актуальными акциями и распродажами, чтобы увеличить конверсию</td>\n",
       "      <td>40.0</td>\n",
       "    </tr>\n",
       "    <tr>\n",
       "      <th>8</th>\n",
       "      <td>Запустить акцию, дающую скидку на товар в день рождения</td>\n",
       "      <td>16.2</td>\n",
       "    </tr>\n",
       "    <tr>\n",
       "      <th>3</th>\n",
       "      <td>Изменить структура категорий, что увеличит конверсию, т.к. пользователи быстрее найдут нужный товар</td>\n",
       "      <td>9.0</td>\n",
       "    </tr>\n",
       "    <tr>\n",
       "      <th>1</th>\n",
       "      <td>Запустить собственную службу доставки, что сократит срок доставки заказов</td>\n",
       "      <td>4.0</td>\n",
       "    </tr>\n",
       "    <tr>\n",
       "      <th>5</th>\n",
       "      <td>Добавить страницу отзывов клиентов о магазине, что позволит увеличить количество заказов</td>\n",
       "      <td>4.0</td>\n",
       "    </tr>\n",
       "    <tr>\n",
       "      <th>4</th>\n",
       "      <td>Изменить цвет фона главной страницы, чтобы увеличить вовлеченность пользователей</td>\n",
       "      <td>3.0</td>\n",
       "    </tr>\n",
       "  </tbody>\n",
       "</table>\n",
       "</div>"
      ],
      "text/plain": [
       "                                                                                                     hypothesis  \\\n",
       "7  Добавить форму подписки на все основные страницы, чтобы собрать базу клиентов для email-рассылок               \n",
       "2  Добавить блоки рекомендаций товаров на сайт интернет магазина, чтобы повысить конверсию и средний чек заказа   \n",
       "0  Добавить два новых канала привлечения трафика, что позволит привлекать на 30% больше пользователей             \n",
       "6  Показать на главной странице баннеры с актуальными акциями и распродажами, чтобы увеличить конверсию           \n",
       "8  Запустить акцию, дающую скидку на товар в день рождения                                                        \n",
       "3  Изменить структура категорий, что увеличит конверсию, т.к. пользователи быстрее найдут нужный товар            \n",
       "1  Запустить собственную службу доставки, что сократит срок доставки заказов                                      \n",
       "5  Добавить страницу отзывов клиентов о магазине, что позволит увеличить количество заказов                       \n",
       "4  Изменить цвет фона главной страницы, чтобы увеличить вовлеченность пользователей                               \n",
       "\n",
       "    rice  \n",
       "7  112.0  \n",
       "2  56.0   \n",
       "0  40.0   \n",
       "6  40.0   \n",
       "8  16.2   \n",
       "3  9.0    \n",
       "1  4.0    \n",
       "5  4.0    \n",
       "4  3.0    "
      ]
     },
     "execution_count": 30,
     "metadata": {},
     "output_type": "execute_result"
    }
   ],
   "source": [
    "hypothesis['rice'] = hypothesis['reach']*hypothesis['impact']*\\\n",
    "                            hypothesis['confidence']/hypothesis['efforts']\n",
    "                    \n",
    "hypothesis[['hypothesis', 'rice']].sort_values(by='rice', ascending=False)"
   ]
  },
  {
   "cell_type": "markdown",
   "metadata": {},
   "source": [
    "По способу приоритизаций гипотез `RICE` видим изменения в наборе приоритетных гипотез относительно способа `ICE`.\n",
    "- Самая перспективная гипотеза по `RICE`: **'Добавить форму подписки на все основные страницы, чтобы собрать базу клиентов для email-рассылок'**,  по `ICE` она тоже входит в тройку самых перспективных гипотез (3 место).\n",
    "- 2-я в рейтинге гипотеза **'Добавить блоки рекомендаций товаров на сайт интернет магазина, чтобы повысить конверсию и средний чек заказа'**, в способе `ICE` она на 5-м месте.\n",
    "- 3-е место поделили 2 гипотезы **'Добавить два новых канала привлечения трафика, что позволит привлекать на 30% больше пользователей'** (2 место в `ICE`) и **'Показать на главной странице баннеры с актуальными акциями и распродажами, чтобы увеличить конверсию'** (4-е место в `ICE`).\n",
    "\n",
    "А самая перспективная гипотеза `ICE` *'Запустить акцию, дающую скидку на товар в день рождения'*  по способу приоритизации `RICE` переместилась на 5 место. Так или иначе 5 гипотез из 9 имеют больший приоритет и в том, и в другом способе приоритизации, но в зависимости от способа проверки они имеют разный приоритет. Обусловлено это тем, что способе `RICE` учитывает охват пользователей (*reach*), которых затронет изменение. Соответственно, чем выше уровень охвата, тем выше получается приоритет у гипотезы по способу `RICE` при прочих равных параметрах, особенно, если реализация гипотезы не требует значительных усилий (*efforts*).\n",
    "\n",
    "Например, гипотеза-лидер `ICE` *'Запустить акцию, дающую скидку на товар в день рождения'* имеет высокие *impact, confidence*, средний уровень *efforts* - получается высокий *ice*, при этом, имеет низкий уровень охвата пользователей *reach*, поэтому уровень *rice* у этой гипотезы понизился, относительно тех, у которых высокий охват пользователей.\n",
    "Поэтому приоритет гипотез по способу `RICE` изменился и лидером стала гипотеза **'Добавить форму подписки на все основные страницы, чтобы собрать базу клиентов для email-рассылок'**, у которой максимальный охват пользователей, выше среднего уровень влияния, средние усилия и относительно высокая уверенность в оценке прочих параметров. "
   ]
  },
  {
   "cell_type": "markdown",
   "metadata": {},
   "source": [
    "### 4.3. Выводы\n",
    "\n",
    "При приоритизации гипотез методами `ICE` и `RICE` выделили 5 гипотез из 9, но в зависимости от используемого способа, приоритеты у этих гипотез меняются, поскольку в способе `RICE` учитывается параметр *reach* (охват пользователей, на которых повлияет изменение), и чем выше уровень охвата, при прочих равных параметрах, тем выше приоритет у гипотезы.    \n",
    "Список этих гипотез по убыванию приоритета по `RICE`:\n",
    "- **'Добавить форму подписки на все основные страницы, чтобы собрать базу клиентов для email-рассылок'**\n",
    "- **'Добавить блоки рекомендаций товаров на сайт интернет магазина, чтобы повысить конверсию и средний чек заказа'**\n",
    "- **'Добавить два новых канала привлечения трафика, что позволит привлекать на 30% больше пользователей'** \n",
    "- **'Показать на главной странице баннеры с актуальными акциями и распродажами, чтобы увеличить конверсию'**\n",
    "- **'Запустить акцию, дающую скидку на товар в день рождения'**\n",
    "\n",
    "Гипотезу **'Добавить форму подписки на все основные страницы, чтобы собрать базу клиентов для email-рассылок'** можно обозначить как наиболее перспективную."
   ]
  },
  {
   "cell_type": "markdown",
   "metadata": {},
   "source": [
    "## 5. Анализ A/B-теста"
   ]
  },
  {
   "cell_type": "markdown",
   "metadata": {},
   "source": [
    "На этом этапе мы займемся анализом результатов A/B-теста, данные для анализа содержатся в датасетах `orders_new` и `visitors`.\n",
    "\n",
    "Подготовим кумулятивные(накопленные) данные за анализируемый период, для этого сначала создадим масcив уникальных пар по датам и группам, запишем его в переменную `dates_groups`. Удалим дубликаты методом `drop_duplicates()`"
   ]
  },
  {
   "cell_type": "code",
   "execution_count": 31,
   "metadata": {},
   "outputs": [
    {
     "data": {
      "text/html": [
       "<div>\n",
       "<style scoped>\n",
       "    .dataframe tbody tr th:only-of-type {\n",
       "        vertical-align: middle;\n",
       "    }\n",
       "\n",
       "    .dataframe tbody tr th {\n",
       "        vertical-align: top;\n",
       "    }\n",
       "\n",
       "    .dataframe thead th {\n",
       "        text-align: right;\n",
       "    }\n",
       "</style>\n",
       "<table border=\"1\" class=\"dataframe\">\n",
       "  <thead>\n",
       "    <tr style=\"text-align: right;\">\n",
       "      <th></th>\n",
       "      <th>date</th>\n",
       "      <th>group</th>\n",
       "    </tr>\n",
       "  </thead>\n",
       "  <tbody>\n",
       "    <tr>\n",
       "      <th>0</th>\n",
       "      <td>2019-08-15</td>\n",
       "      <td>B</td>\n",
       "    </tr>\n",
       "    <tr>\n",
       "      <th>2</th>\n",
       "      <td>2019-08-15</td>\n",
       "      <td>A</td>\n",
       "    </tr>\n",
       "    <tr>\n",
       "      <th>45</th>\n",
       "      <td>2019-08-16</td>\n",
       "      <td>A</td>\n",
       "    </tr>\n",
       "    <tr>\n",
       "      <th>47</th>\n",
       "      <td>2019-08-16</td>\n",
       "      <td>B</td>\n",
       "    </tr>\n",
       "    <tr>\n",
       "      <th>55</th>\n",
       "      <td>2019-08-01</td>\n",
       "      <td>A</td>\n",
       "    </tr>\n",
       "  </tbody>\n",
       "</table>\n",
       "</div>"
      ],
      "text/plain": [
       "         date group\n",
       "0  2019-08-15  B   \n",
       "2  2019-08-15  A   \n",
       "45 2019-08-16  A   \n",
       "47 2019-08-16  B   \n",
       "55 2019-08-01  A   "
      ]
     },
     "execution_count": 31,
     "metadata": {},
     "output_type": "execute_result"
    }
   ],
   "source": [
    "dates_groups = orders_new[['date','group']].drop_duplicates()\n",
    "dates_groups.head()"
   ]
  },
  {
   "cell_type": "markdown",
   "metadata": {},
   "source": [
    "Получили уникальные пары *Дата + Группа*.  \n",
    "\n",
    "Посчитаем кумулятивные данные для датасета `orders`, применив функцию `np.logical_and()`, и запишем в переменную `orders_aggregated`."
   ]
  },
  {
   "cell_type": "code",
   "execution_count": 32,
   "metadata": {},
   "outputs": [
    {
     "data": {
      "text/html": [
       "<div>\n",
       "<style scoped>\n",
       "    .dataframe tbody tr th:only-of-type {\n",
       "        vertical-align: middle;\n",
       "    }\n",
       "\n",
       "    .dataframe tbody tr th {\n",
       "        vertical-align: top;\n",
       "    }\n",
       "\n",
       "    .dataframe thead th {\n",
       "        text-align: right;\n",
       "    }\n",
       "</style>\n",
       "<table border=\"1\" class=\"dataframe\">\n",
       "  <thead>\n",
       "    <tr style=\"text-align: right;\">\n",
       "      <th></th>\n",
       "      <th>date</th>\n",
       "      <th>group</th>\n",
       "      <th>transaction_id</th>\n",
       "      <th>visitor_id</th>\n",
       "      <th>revenue</th>\n",
       "    </tr>\n",
       "  </thead>\n",
       "  <tbody>\n",
       "    <tr>\n",
       "      <th>55</th>\n",
       "      <td>2019-08-01</td>\n",
       "      <td>A</td>\n",
       "      <td>24</td>\n",
       "      <td>20</td>\n",
       "      <td>148579</td>\n",
       "    </tr>\n",
       "    <tr>\n",
       "      <th>66</th>\n",
       "      <td>2019-08-01</td>\n",
       "      <td>B</td>\n",
       "      <td>21</td>\n",
       "      <td>20</td>\n",
       "      <td>101217</td>\n",
       "    </tr>\n",
       "    <tr>\n",
       "      <th>175</th>\n",
       "      <td>2019-08-02</td>\n",
       "      <td>A</td>\n",
       "      <td>44</td>\n",
       "      <td>38</td>\n",
       "      <td>242401</td>\n",
       "    </tr>\n",
       "    <tr>\n",
       "      <th>173</th>\n",
       "      <td>2019-08-02</td>\n",
       "      <td>B</td>\n",
       "      <td>45</td>\n",
       "      <td>43</td>\n",
       "      <td>266748</td>\n",
       "    </tr>\n",
       "  </tbody>\n",
       "</table>\n",
       "</div>"
      ],
      "text/plain": [
       "          date group  transaction_id  visitor_id  revenue\n",
       "55  2019-08-01  A     24              20          148579 \n",
       "66  2019-08-01  B     21              20          101217 \n",
       "175 2019-08-02  A     44              38          242401 \n",
       "173 2019-08-02  B     45              43          266748 "
      ]
     },
     "execution_count": 32,
     "metadata": {},
     "output_type": "execute_result"
    }
   ],
   "source": [
    "orders_aggregated = dates_groups.apply(lambda x: \\\n",
    "                    orders_new[np.logical_and(orders_new['date'] <= x['date'], orders_new['group'] == x['group'])]\\\n",
    "                    .agg({'date': 'max', 'group':'max', 'transaction_id':'nunique', \\\n",
    "                    'visitor_id':'nunique', 'revenue':'sum'}), axis=1)\\\n",
    "                    .sort_values(by=['date','group'])\n",
    "orders_aggregated.head(4)"
   ]
  },
  {
   "cell_type": "markdown",
   "metadata": {},
   "source": [
    "В результате для каждой уникальной пары *Дата+Группа* мы получили накопленные значения по количеству пользователей, заказов и стоимости заказов.\n",
    "\n",
    "Подобным образом посчитаем кумулятивные данные для датасета `visitors` и запишем их в переменную `visitors_aggregated`"
   ]
  },
  {
   "cell_type": "code",
   "execution_count": 33,
   "metadata": {},
   "outputs": [
    {
     "data": {
      "text/html": [
       "<div>\n",
       "<style scoped>\n",
       "    .dataframe tbody tr th:only-of-type {\n",
       "        vertical-align: middle;\n",
       "    }\n",
       "\n",
       "    .dataframe tbody tr th {\n",
       "        vertical-align: top;\n",
       "    }\n",
       "\n",
       "    .dataframe thead th {\n",
       "        text-align: right;\n",
       "    }\n",
       "</style>\n",
       "<table border=\"1\" class=\"dataframe\">\n",
       "  <thead>\n",
       "    <tr style=\"text-align: right;\">\n",
       "      <th></th>\n",
       "      <th>date</th>\n",
       "      <th>group</th>\n",
       "      <th>visitors</th>\n",
       "    </tr>\n",
       "  </thead>\n",
       "  <tbody>\n",
       "    <tr>\n",
       "      <th>55</th>\n",
       "      <td>2019-08-01</td>\n",
       "      <td>A</td>\n",
       "      <td>719</td>\n",
       "    </tr>\n",
       "    <tr>\n",
       "      <th>66</th>\n",
       "      <td>2019-08-01</td>\n",
       "      <td>B</td>\n",
       "      <td>713</td>\n",
       "    </tr>\n",
       "    <tr>\n",
       "      <th>175</th>\n",
       "      <td>2019-08-02</td>\n",
       "      <td>A</td>\n",
       "      <td>1338</td>\n",
       "    </tr>\n",
       "    <tr>\n",
       "      <th>173</th>\n",
       "      <td>2019-08-02</td>\n",
       "      <td>B</td>\n",
       "      <td>1294</td>\n",
       "    </tr>\n",
       "  </tbody>\n",
       "</table>\n",
       "</div>"
      ],
      "text/plain": [
       "          date group  visitors\n",
       "55  2019-08-01  A     719     \n",
       "66  2019-08-01  B     713     \n",
       "175 2019-08-02  A     1338    \n",
       "173 2019-08-02  B     1294    "
      ]
     },
     "execution_count": 33,
     "metadata": {},
     "output_type": "execute_result"
    }
   ],
   "source": [
    "visitors_aggregated = dates_groups.apply(lambda x: \\\n",
    "                    visitors[np.logical_and(visitors['date'] <= x['date'], visitors['group'] == x['group'])]\\\n",
    "                    .agg({'date': 'max', 'group': 'max', 'visitors': 'sum'}), axis=1)\\\n",
    "                    .sort_values(by=['date','group'])\n",
    "visitors_aggregated.head(4)"
   ]
  },
  {
   "cell_type": "markdown",
   "metadata": {},
   "source": [
    "Объединим полученные таблицы кумулятивных значений в единый датафрейм `cumulative_data`, используем метод `merge()`"
   ]
  },
  {
   "cell_type": "code",
   "execution_count": 34,
   "metadata": {},
   "outputs": [
    {
     "data": {
      "text/html": [
       "<div>\n",
       "<style scoped>\n",
       "    .dataframe tbody tr th:only-of-type {\n",
       "        vertical-align: middle;\n",
       "    }\n",
       "\n",
       "    .dataframe tbody tr th {\n",
       "        vertical-align: top;\n",
       "    }\n",
       "\n",
       "    .dataframe thead th {\n",
       "        text-align: right;\n",
       "    }\n",
       "</style>\n",
       "<table border=\"1\" class=\"dataframe\">\n",
       "  <thead>\n",
       "    <tr style=\"text-align: right;\">\n",
       "      <th></th>\n",
       "      <th>date</th>\n",
       "      <th>group</th>\n",
       "      <th>transaction_id</th>\n",
       "      <th>visitor_id</th>\n",
       "      <th>revenue</th>\n",
       "      <th>visitors</th>\n",
       "    </tr>\n",
       "  </thead>\n",
       "  <tbody>\n",
       "    <tr>\n",
       "      <th>0</th>\n",
       "      <td>2019-08-01</td>\n",
       "      <td>A</td>\n",
       "      <td>24</td>\n",
       "      <td>20</td>\n",
       "      <td>148579</td>\n",
       "      <td>719</td>\n",
       "    </tr>\n",
       "    <tr>\n",
       "      <th>1</th>\n",
       "      <td>2019-08-01</td>\n",
       "      <td>B</td>\n",
       "      <td>21</td>\n",
       "      <td>20</td>\n",
       "      <td>101217</td>\n",
       "      <td>713</td>\n",
       "    </tr>\n",
       "    <tr>\n",
       "      <th>2</th>\n",
       "      <td>2019-08-02</td>\n",
       "      <td>A</td>\n",
       "      <td>44</td>\n",
       "      <td>38</td>\n",
       "      <td>242401</td>\n",
       "      <td>1338</td>\n",
       "    </tr>\n",
       "    <tr>\n",
       "      <th>3</th>\n",
       "      <td>2019-08-02</td>\n",
       "      <td>B</td>\n",
       "      <td>45</td>\n",
       "      <td>43</td>\n",
       "      <td>266748</td>\n",
       "      <td>1294</td>\n",
       "    </tr>\n",
       "  </tbody>\n",
       "</table>\n",
       "</div>"
      ],
      "text/plain": [
       "        date group  transaction_id  visitor_id  revenue  visitors\n",
       "0 2019-08-01  A     24              20          148579   719     \n",
       "1 2019-08-01  B     21              20          101217   713     \n",
       "2 2019-08-02  A     44              38          242401   1338    \n",
       "3 2019-08-02  B     45              43          266748   1294    "
      ]
     },
     "execution_count": 34,
     "metadata": {},
     "output_type": "execute_result"
    }
   ],
   "source": [
    "cumulative_data = orders_aggregated.merge(visitors_aggregated, left_on=['date', 'group'], right_on=['date', 'group'])\n",
    "cumulative_data.head(4)"
   ]
  },
  {
   "cell_type": "markdown",
   "metadata": {},
   "source": [
    "Переименуем названия столбцов датафрейма `cumulative_data`:\n",
    "\n",
    "- *date* - дата;\n",
    "- *group* - группа A/B теста;\n",
    "- *orders* - кумулятивное количество заказов на указанную дату в указанной группе;\n",
    "- *buyers* - кумулятивное количество пользователей, совершивших хотя бы один заказ, на указанную дату в указанной группе;\n",
    "- *revenue* - кумулятивная выручка на указанную дату в указанной группе;\n",
    "- *visitors* - кумулятивное количество посетителей интернет-магазина на указанную дату в определённой группе.\n",
    "\n",
    "и сразу проверим изменения."
   ]
  },
  {
   "cell_type": "code",
   "execution_count": 35,
   "metadata": {},
   "outputs": [
    {
     "data": {
      "text/plain": [
       "Index(['date', 'group', 'orders', 'buyers', 'revenue', 'visitors'], dtype='object')"
      ]
     },
     "execution_count": 35,
     "metadata": {},
     "output_type": "execute_result"
    }
   ],
   "source": [
    "cumulative_data.columns = ['date', 'group', 'orders', 'buyers', 'revenue', 'visitors']\n",
    "cumulative_data.columns"
   ]
  },
  {
   "cell_type": "markdown",
   "metadata": {},
   "source": [
    "### 5.1. Построим график кумулятивной выручки по группам"
   ]
  },
  {
   "cell_type": "markdown",
   "metadata": {},
   "source": [
    "Для построения графика по группам запишем данные о заказах и кумулятивной выручке группы А в переменную `cumulative_revenue_A`, для группы В в переменную `cumulative_revenue_B`. Срезы выполним с помощью метода `query`."
   ]
  },
  {
   "cell_type": "code",
   "execution_count": 36,
   "metadata": {},
   "outputs": [
    {
     "data": {
      "image/png": "[encoded data removed]",
      "text/plain": [
       "<Figure size 1080x504 with 1 Axes>"
      ]
     },
     "metadata": {},
     "output_type": "display_data"
    }
   ],
   "source": [
    "cumulative_revenue_A = cumulative_data.query('group == \"A\"')[['date','revenue', 'orders']]\n",
    "cumulative_revenue_B  = cumulative_data.query('group == \"B\"')[['date','revenue', 'orders']]\n",
    "\n",
    "plt.figure(figsize=(15,7))\n",
    "\n",
    "plt.plot(cumulative_revenue_A['date'], cumulative_revenue_A['revenue'], label='A')\n",
    "plt.plot(cumulative_revenue_B['date'], cumulative_revenue_B['revenue'], label='B')\n",
    "\n",
    "plt.title('Кумулятивная выручка по группам A/B теста')\n",
    "plt.xlabel('Дата')\n",
    "plt.ylabel('Деньги')\n",
    "plt.legend()\n",
    "plt.show()"
   ]
  },
  {
   "cell_type": "markdown",
   "metadata": {},
   "source": [
    "Первые 5 дней выручка групп растет практически равномерно, с 5 до 13 августа выручка в группе В превышает выручку группы А, 13 августа выручки групп уравниваются и далее выручка группы В стабильно превышает выручку из группы А.\n",
    "У группы А мы наблюдаем практически равномерное увеличение, есть небольшой скачок в период 11-13 августа, что помогло уравнять выручку с группой В. У группы В видим резкий скачок выручки 19 августа. Возможно, резко увеличилось количество заказов в эту дату, либо это было примерно то же количество, но дорогие заказы, которые оказали существенное влияние на выручку в группе В."
   ]
  },
  {
   "cell_type": "markdown",
   "metadata": {},
   "source": [
    "### 5.2. Построим график кумулятивного среднего чека по группам"
   ]
  },
  {
   "cell_type": "markdown",
   "metadata": {},
   "source": [
    "Для расчета среднего чека по датам и группам разделим кумулятивную выручку на кумулятивное число заказов:"
   ]
  },
  {
   "cell_type": "code",
   "execution_count": 37,
   "metadata": {},
   "outputs": [
    {
     "data": {
      "image/png": "[encoded data removed]",
      "text/plain": [
       "<Figure size 1080x504 with 1 Axes>"
      ]
     },
     "metadata": {},
     "output_type": "display_data"
    }
   ],
   "source": [
    "plt.figure(figsize=(15,7))\n",
    "plt.plot(cumulative_revenue_A['date'], cumulative_revenue_A['revenue']/cumulative_revenue_A['orders'], label='A')\n",
    "plt.plot(cumulative_revenue_B['date'], cumulative_revenue_B['revenue']/cumulative_revenue_B['orders'], label='B')\n",
    "plt.title('Средний чек по группам A/B теста')\n",
    "plt.xlabel('Дата')\n",
    "plt.ylabel('Деньги')\n",
    "plt.legend()\n",
    "plt.show()"
   ]
  },
  {
   "cell_type": "markdown",
   "metadata": {},
   "source": [
    "По графику видим с  3 по 11 августа и с 16 августа средний чек по группе В превышает средний чек по группе А. Группа А лидировала только в даты 1 и 12-14 августа, после чего средний чек группы А немного снизился, выровнялся  и до 26 августа находился примерно на уровне 6.7-6.8 тыс. С 27 августа средний чек преодолел планку в 7 тыс.\n",
    "Средний чек в группе В показывает скачки, особенно резкий скачок наблюдаем 19 августа, этот скачок мы уже ранее увидели на графике кумулятивной выручки по группе. Это говорит о том, что 19 августа интернет-магазин получил  крупный заказ в группе В.\n",
    "К концу отчетного периода средний чек группы В превышает средний чек группы А примерно на 2 тыс."
   ]
  },
  {
   "cell_type": "markdown",
   "metadata": {},
   "source": [
    "### 5.3. Построим график относительного изменения кумулятивного среднего чека группы B к группе A"
   ]
  },
  {
   "cell_type": "markdown",
   "metadata": {},
   "source": [
    "Чтобы нагляднее увидеть разницу между группами, построим график относительного различия.\n",
    "Для этого объединим данные групп по датам в одном датафрейме `merged_cumulative_revenue`, используем метод `merge()`."
   ]
  },
  {
   "cell_type": "code",
   "execution_count": 38,
   "metadata": {},
   "outputs": [
    {
     "data": {
      "text/html": [
       "<div>\n",
       "<style scoped>\n",
       "    .dataframe tbody tr th:only-of-type {\n",
       "        vertical-align: middle;\n",
       "    }\n",
       "\n",
       "    .dataframe tbody tr th {\n",
       "        vertical-align: top;\n",
       "    }\n",
       "\n",
       "    .dataframe thead th {\n",
       "        text-align: right;\n",
       "    }\n",
       "</style>\n",
       "<table border=\"1\" class=\"dataframe\">\n",
       "  <thead>\n",
       "    <tr style=\"text-align: right;\">\n",
       "      <th></th>\n",
       "      <th>date</th>\n",
       "      <th>revenueA</th>\n",
       "      <th>ordersA</th>\n",
       "      <th>revenueB</th>\n",
       "      <th>ordersB</th>\n",
       "    </tr>\n",
       "  </thead>\n",
       "  <tbody>\n",
       "    <tr>\n",
       "      <th>0</th>\n",
       "      <td>2019-08-01</td>\n",
       "      <td>148579</td>\n",
       "      <td>24</td>\n",
       "      <td>101217</td>\n",
       "      <td>21</td>\n",
       "    </tr>\n",
       "    <tr>\n",
       "      <th>1</th>\n",
       "      <td>2019-08-02</td>\n",
       "      <td>242401</td>\n",
       "      <td>44</td>\n",
       "      <td>266748</td>\n",
       "      <td>45</td>\n",
       "    </tr>\n",
       "    <tr>\n",
       "      <th>2</th>\n",
       "      <td>2019-08-03</td>\n",
       "      <td>354874</td>\n",
       "      <td>68</td>\n",
       "      <td>380996</td>\n",
       "      <td>61</td>\n",
       "    </tr>\n",
       "    <tr>\n",
       "      <th>3</th>\n",
       "      <td>2019-08-04</td>\n",
       "      <td>425699</td>\n",
       "      <td>84</td>\n",
       "      <td>489567</td>\n",
       "      <td>78</td>\n",
       "    </tr>\n",
       "    <tr>\n",
       "      <th>4</th>\n",
       "      <td>2019-08-05</td>\n",
       "      <td>549917</td>\n",
       "      <td>109</td>\n",
       "      <td>581995</td>\n",
       "      <td>101</td>\n",
       "    </tr>\n",
       "  </tbody>\n",
       "</table>\n",
       "</div>"
      ],
      "text/plain": [
       "        date  revenueA  ordersA  revenueB  ordersB\n",
       "0 2019-08-01  148579    24       101217    21     \n",
       "1 2019-08-02  242401    44       266748    45     \n",
       "2 2019-08-03  354874    68       380996    61     \n",
       "3 2019-08-04  425699    84       489567    78     \n",
       "4 2019-08-05  549917    109      581995    101    "
      ]
     },
     "execution_count": 38,
     "metadata": {},
     "output_type": "execute_result"
    }
   ],
   "source": [
    "merged_cumulative_revenue = cumulative_revenue_A.merge(cumulative_revenue_B, \\\n",
    "                            left_on='date', right_on='date', how='left', suffixes=['A', 'B'])\n",
    "merged_cumulative_revenue.head()"
   ]
  },
  {
   "cell_type": "markdown",
   "metadata": {},
   "source": [
    "И посчитаем каждую точку графика через отношение: (кумулятивная метрика группы B / кумулятивная метрика группы A - 1)\n",
    "через параметр `axhline()` зададим горизонтальную линию на уровне \"0\": выше нуля - преобладает группа В, ниже нуля - преобладает группа А."
   ]
  },
  {
   "cell_type": "code",
   "execution_count": 39,
   "metadata": {},
   "outputs": [
    {
     "data": {
      "image/png": "[encoded data removed]",
      "text/plain": [
       "<Figure size 1080x360 with 1 Axes>"
      ]
     },
     "metadata": {},
     "output_type": "display_data"
    }
   ],
   "source": [
    "plt.figure(figsize=(15,5))\n",
    "plt.plot(merged_cumulative_revenue['date'], \\\n",
    "         (merged_cumulative_revenue['revenueB']/merged_cumulative_revenue['ordersB'])/\\\n",
    "         (merged_cumulative_revenue['revenueA']/merged_cumulative_revenue['ordersA'])-1)\n",
    "\n",
    "plt.axhline(y=0, color='red', linestyle='--')\n",
    "plt.title('Относительное изменение кумулятивного среднего чека группы B к группе A')\n",
    "plt.xlabel('Дата')\n",
    "plt.ylabel('Значение отношения')\n",
    "plt.show()"
   ]
  },
  {
   "cell_type": "markdown",
   "metadata": {},
   "source": [
    "В нескольких частях графика видим явное преобладание группы В с резкими скачками, а также с резкими снижениями в период  9-13 августа. В целом по графику очевидно преобладание среднего чека по группе В.\n",
    "В группе А были более крупные заказы 1 и с 12 по 14 августа, все остальное время преобладает группа В."
   ]
  },
  {
   "cell_type": "markdown",
   "metadata": {},
   "source": [
    "### 5.4. Построим график кумулятивного среднего количества заказов на посетителя по группам"
   ]
  },
  {
   "cell_type": "markdown",
   "metadata": {},
   "source": [
    "Для расчета кумулятивной конверсии разделим кумулятивное количество заказов на кумулятивное количество посетителей интернет-магазина и запишем в новый столбец *conversion* датафрейма `cumulative_data`"
   ]
  },
  {
   "cell_type": "code",
   "execution_count": 40,
   "metadata": {},
   "outputs": [
    {
     "data": {
      "text/html": [
       "<div>\n",
       "<style scoped>\n",
       "    .dataframe tbody tr th:only-of-type {\n",
       "        vertical-align: middle;\n",
       "    }\n",
       "\n",
       "    .dataframe tbody tr th {\n",
       "        vertical-align: top;\n",
       "    }\n",
       "\n",
       "    .dataframe thead th {\n",
       "        text-align: right;\n",
       "    }\n",
       "</style>\n",
       "<table border=\"1\" class=\"dataframe\">\n",
       "  <thead>\n",
       "    <tr style=\"text-align: right;\">\n",
       "      <th></th>\n",
       "      <th>date</th>\n",
       "      <th>group</th>\n",
       "      <th>orders</th>\n",
       "      <th>buyers</th>\n",
       "      <th>revenue</th>\n",
       "      <th>visitors</th>\n",
       "      <th>conversion</th>\n",
       "    </tr>\n",
       "  </thead>\n",
       "  <tbody>\n",
       "    <tr>\n",
       "      <th>0</th>\n",
       "      <td>2019-08-01</td>\n",
       "      <td>A</td>\n",
       "      <td>24</td>\n",
       "      <td>20</td>\n",
       "      <td>148579</td>\n",
       "      <td>719</td>\n",
       "      <td>0.033380</td>\n",
       "    </tr>\n",
       "    <tr>\n",
       "      <th>1</th>\n",
       "      <td>2019-08-01</td>\n",
       "      <td>B</td>\n",
       "      <td>21</td>\n",
       "      <td>20</td>\n",
       "      <td>101217</td>\n",
       "      <td>713</td>\n",
       "      <td>0.029453</td>\n",
       "    </tr>\n",
       "    <tr>\n",
       "      <th>2</th>\n",
       "      <td>2019-08-02</td>\n",
       "      <td>A</td>\n",
       "      <td>44</td>\n",
       "      <td>38</td>\n",
       "      <td>242401</td>\n",
       "      <td>1338</td>\n",
       "      <td>0.032885</td>\n",
       "    </tr>\n",
       "    <tr>\n",
       "      <th>3</th>\n",
       "      <td>2019-08-02</td>\n",
       "      <td>B</td>\n",
       "      <td>45</td>\n",
       "      <td>43</td>\n",
       "      <td>266748</td>\n",
       "      <td>1294</td>\n",
       "      <td>0.034776</td>\n",
       "    </tr>\n",
       "  </tbody>\n",
       "</table>\n",
       "</div>"
      ],
      "text/plain": [
       "        date group  orders  buyers  revenue  visitors  conversion\n",
       "0 2019-08-01  A     24      20      148579   719       0.033380  \n",
       "1 2019-08-01  B     21      20      101217   713       0.029453  \n",
       "2 2019-08-02  A     44      38      242401   1338      0.032885  \n",
       "3 2019-08-02  B     45      43      266748   1294      0.034776  "
      ]
     },
     "execution_count": 40,
     "metadata": {},
     "output_type": "execute_result"
    }
   ],
   "source": [
    "cumulative_data['conversion'] = cumulative_data['orders']/cumulative_data['visitors']\n",
    "cumulative_data.head(4)"
   ]
  },
  {
   "cell_type": "markdown",
   "metadata": {},
   "source": [
    "Зададим минимальную и максимальную даты"
   ]
  },
  {
   "cell_type": "code",
   "execution_count": 41,
   "metadata": {},
   "outputs": [],
   "source": [
    "date_min = pd.to_datetime(cumulative_data['date'].min())\n",
    "date_max = pd.to_datetime(cumulative_data['date'].max())"
   ]
  },
  {
   "cell_type": "markdown",
   "metadata": {},
   "source": [
    "Срез методом `query()` по группе А запишем в переменную `cumulative_data_A`, а по группе В - в `cumulative_data_B` и построим график. Минимальную и максимальную даты используем для установки масштаба оси Х нашего графика, границы оси Y установим от 0 до 0.06. "
   ]
  },
  {
   "cell_type": "code",
   "execution_count": 42,
   "metadata": {},
   "outputs": [
    {
     "data": {
      "image/png": "[encoded data removed]",
      "text/plain": [
       "<Figure size 1080x360 with 1 Axes>"
      ]
     },
     "metadata": {},
     "output_type": "display_data"
    }
   ],
   "source": [
    "cumulative_data_A = cumulative_data.query('group == \"A\"')\n",
    "cumulative_data_B = cumulative_data.query('group == \"B\"')\n",
    "\n",
    "\n",
    "plt.figure(figsize=(15,5))\n",
    "plt.plot(cumulative_data_A['date'], cumulative_data_A['conversion'], label='A')\n",
    "plt.plot(cumulative_data_B['date'], cumulative_data_B['conversion'], label='B')\n",
    "plt.legend()\n",
    "plt.title('Среднее количество заказов на посетителя по группам A/B теста')\n",
    "plt.xlabel('Дата')\n",
    "plt.ylabel('Конверсия')\n",
    "plt.axis([date_min, date_max, 0, 0.05])\n",
    "\n",
    "plt.show()"
   ]
  },
  {
   "cell_type": "markdown",
   "metadata": {},
   "source": [
    "Посетители из группы А конвертировались лучше ориентировочно до 5 августа. С 7 августа наблюдается лучшая конверсия в группе В. С этого периода конверсия стабильно выровнялась в обеих группах, у А примерно 3%, у В примерно 3.5%."
   ]
  },
  {
   "cell_type": "markdown",
   "metadata": {},
   "source": [
    "### 5.5. Построим график относительного изменения кумулятивного среднего количества заказов на посетителя группы B к группе A"
   ]
  },
  {
   "cell_type": "markdown",
   "metadata": {},
   "source": [
    "Чтобы нагляднее увидеть разницу между группами, построим график относительного изменения.\n",
    "Для этого объединим данные групп по датам в одном датфрейме `merged_cumulative_conversions`, используем метод `merge()`."
   ]
  },
  {
   "cell_type": "code",
   "execution_count": 43,
   "metadata": {},
   "outputs": [
    {
     "data": {
      "text/html": [
       "<div>\n",
       "<style scoped>\n",
       "    .dataframe tbody tr th:only-of-type {\n",
       "        vertical-align: middle;\n",
       "    }\n",
       "\n",
       "    .dataframe tbody tr th {\n",
       "        vertical-align: top;\n",
       "    }\n",
       "\n",
       "    .dataframe thead th {\n",
       "        text-align: right;\n",
       "    }\n",
       "</style>\n",
       "<table border=\"1\" class=\"dataframe\">\n",
       "  <thead>\n",
       "    <tr style=\"text-align: right;\">\n",
       "      <th></th>\n",
       "      <th>date</th>\n",
       "      <th>conversionA</th>\n",
       "      <th>conversionB</th>\n",
       "    </tr>\n",
       "  </thead>\n",
       "  <tbody>\n",
       "    <tr>\n",
       "      <th>0</th>\n",
       "      <td>2019-08-01</td>\n",
       "      <td>0.033380</td>\n",
       "      <td>0.029453</td>\n",
       "    </tr>\n",
       "    <tr>\n",
       "      <th>1</th>\n",
       "      <td>2019-08-02</td>\n",
       "      <td>0.032885</td>\n",
       "      <td>0.034776</td>\n",
       "    </tr>\n",
       "    <tr>\n",
       "      <th>2</th>\n",
       "      <td>2019-08-03</td>\n",
       "      <td>0.036856</td>\n",
       "      <td>0.033833</td>\n",
       "    </tr>\n",
       "    <tr>\n",
       "      <th>3</th>\n",
       "      <td>2019-08-04</td>\n",
       "      <td>0.032787</td>\n",
       "      <td>0.030315</td>\n",
       "    </tr>\n",
       "    <tr>\n",
       "      <th>4</th>\n",
       "      <td>2019-08-05</td>\n",
       "      <td>0.032851</td>\n",
       "      <td>0.030793</td>\n",
       "    </tr>\n",
       "  </tbody>\n",
       "</table>\n",
       "</div>"
      ],
      "text/plain": [
       "        date  conversionA  conversionB\n",
       "0 2019-08-01  0.033380     0.029453   \n",
       "1 2019-08-02  0.032885     0.034776   \n",
       "2 2019-08-03  0.036856     0.033833   \n",
       "3 2019-08-04  0.032787     0.030315   \n",
       "4 2019-08-05  0.032851     0.030793   "
      ]
     },
     "execution_count": 43,
     "metadata": {},
     "output_type": "execute_result"
    }
   ],
   "source": [
    "merged_cumulative_conversions = cumulative_data_A[['date','conversion']]\\\n",
    "  .merge(cumulative_data_B[['date','conversion']], left_on='date', right_on='date', how='left', suffixes=['A', 'B'])\n",
    "\n",
    "merged_cumulative_conversions.head()"
   ]
  },
  {
   "cell_type": "markdown",
   "metadata": {},
   "source": [
    "Посчитаем каждую точку графика через отношение: (кумулятивная метрика группы B / кумулятивная метрика группы A - 1)\n",
    "через параметр `axhline()` зададим горизонтальные линии на уровне 0 и 0.1"
   ]
  },
  {
   "cell_type": "code",
   "execution_count": 44,
   "metadata": {},
   "outputs": [
    {
     "data": {
      "image/png": "[encoded data removed]",
      "text/plain": [
       "<Figure size 1080x360 with 1 Axes>"
      ]
     },
     "metadata": {},
     "output_type": "display_data"
    }
   ],
   "source": [
    "plt.figure(figsize=(15,5))\n",
    "plt.plot(merged_cumulative_conversions['date'], merged_cumulative_conversions['conversionB']/ \\\n",
    "                                                merged_cumulative_conversions['conversionA']-1)\n",
    "         \n",
    "plt.title('Относительное изменение кумулятивного среднего количества заказов на посетителя группы B к группе A')\n",
    "plt.xlabel('Дата')\n",
    "plt.ylabel('Прирост')   \n",
    "\n",
    "plt.axhline(y=0, color='grey', linestyle='--')\n",
    "plt.axhline(y=0.1, color='green', linestyle='--')\n",
    "plt.axis([date_min, date_max, -0.3, 0.3]) \n",
    "plt.show()"
   ]
  },
  {
   "cell_type": "markdown",
   "metadata": {},
   "source": [
    "Начиная с 6 августа выше конверсия группы В, с 8 августа зафиксирован стабильный прирост более 10% у группы В."
   ]
  },
  {
   "cell_type": "markdown",
   "metadata": {},
   "source": [
    "### 5.6. Построим точечный график количества заказов по пользователям"
   ]
  },
  {
   "cell_type": "markdown",
   "metadata": {},
   "source": [
    "Посчитаем количество заказов на пользователя. Информация о заказах хранится в датафрейме `orders_new`. Сгруппированные данные запишем в переменную `orders_users`"
   ]
  },
  {
   "cell_type": "code",
   "execution_count": 45,
   "metadata": {},
   "outputs": [
    {
     "data": {
      "text/html": [
       "<div>\n",
       "<style scoped>\n",
       "    .dataframe tbody tr th:only-of-type {\n",
       "        vertical-align: middle;\n",
       "    }\n",
       "\n",
       "    .dataframe tbody tr th {\n",
       "        vertical-align: top;\n",
       "    }\n",
       "\n",
       "    .dataframe thead th {\n",
       "        text-align: right;\n",
       "    }\n",
       "</style>\n",
       "<table border=\"1\" class=\"dataframe\">\n",
       "  <thead>\n",
       "    <tr style=\"text-align: right;\">\n",
       "      <th></th>\n",
       "      <th>user_id</th>\n",
       "      <th>orders</th>\n",
       "    </tr>\n",
       "  </thead>\n",
       "  <tbody>\n",
       "    <tr>\n",
       "      <th>0</th>\n",
       "      <td>4256040402</td>\n",
       "      <td>11</td>\n",
       "    </tr>\n",
       "    <tr>\n",
       "      <th>1</th>\n",
       "      <td>2458001652</td>\n",
       "      <td>11</td>\n",
       "    </tr>\n",
       "    <tr>\n",
       "      <th>2</th>\n",
       "      <td>2378935119</td>\n",
       "      <td>9</td>\n",
       "    </tr>\n",
       "    <tr>\n",
       "      <th>3</th>\n",
       "      <td>2038680547</td>\n",
       "      <td>8</td>\n",
       "    </tr>\n",
       "    <tr>\n",
       "      <th>4</th>\n",
       "      <td>199603092</td>\n",
       "      <td>5</td>\n",
       "    </tr>\n",
       "  </tbody>\n",
       "</table>\n",
       "</div>"
      ],
      "text/plain": [
       "      user_id  orders\n",
       "0  4256040402  11    \n",
       "1  2458001652  11    \n",
       "2  2378935119  9     \n",
       "3  2038680547  8     \n",
       "4  199603092   5     "
      ]
     },
     "execution_count": 45,
     "metadata": {},
     "output_type": "execute_result"
    }
   ],
   "source": [
    "orders_users = orders_new.groupby('visitor_id', as_index=False).agg({'transaction_id': 'nunique'})\n",
    "\n",
    "orders_users.columns = ['user_id', 'orders']\n",
    "orders_users.sort_values(by='orders', ascending=False).head().reset_index(drop=True)"
   ]
  },
  {
   "cell_type": "markdown",
   "metadata": {},
   "source": [
    "Построим точечные график по данным `orders_users`. В переменную `x_values` запишем сгенерированные номера наблюдений и передадим их оси Х, а по оси Y отложим количество заказов."
   ]
  },
  {
   "cell_type": "code",
   "execution_count": 46,
   "metadata": {},
   "outputs": [
    {
     "data": {
      "image/png": "[encoded data removed]",
      "text/plain": [
       "<Figure size 720x360 with 1 Axes>"
      ]
     },
     "metadata": {},
     "output_type": "display_data"
    }
   ],
   "source": [
    "plt.figure(figsize=(10,5))\n",
    "\n",
    "x_values = pd.Series(range(0,len(orders_users)))\n",
    "\n",
    "plt.scatter(x_values, orders_users['orders'])\n",
    "plt.title('Количество заказов по пользователям')\n",
    "plt.xlabel('Пользователи')\n",
    "plt.ylabel('Заказы')\n",
    "\n",
    "plt.show()"
   ]
  },
  {
   "cell_type": "markdown",
   "metadata": {},
   "source": [
    "По графику мы видим, что большинство клиентов совершили по одному заказу, есть некая часть клиентов  с 2-мя заказами и есть клиенты, которые заказали 3, 4, 5, 8, 9 и 11 раз. "
   ]
  },
  {
   "cell_type": "markdown",
   "metadata": {},
   "source": [
    "### 5.7. Посчитаем 95-й и 99-й перцентили количества заказов на пользователя. Выберем границу для определения аномальных пользователей"
   ]
  },
  {
   "cell_type": "markdown",
   "metadata": {},
   "source": [
    "Для расчета используем метод `percentile()`. Значение 95-го перцентиля запишем в переменную `orders_perc_95`, а значение 99-го перцентиля в переменную `orders_perc_99`"
   ]
  },
  {
   "cell_type": "code",
   "execution_count": 47,
   "metadata": {},
   "outputs": [
    {
     "data": {
      "text/plain": [
       "2.0"
      ]
     },
     "execution_count": 47,
     "metadata": {},
     "output_type": "execute_result"
    }
   ],
   "source": [
    "orders_perc_95 = np.percentile(orders_users['orders'], 95)\n",
    "orders_perc_95"
   ]
  },
  {
   "cell_type": "code",
   "execution_count": 48,
   "metadata": {},
   "outputs": [
    {
     "data": {
      "text/plain": [
       "4.0"
      ]
     },
     "execution_count": 48,
     "metadata": {},
     "output_type": "execute_result"
    }
   ],
   "source": [
    "orders_perc_99 = np.percentile(orders_users['orders'], 99)\n",
    "orders_perc_99"
   ]
  },
  {
   "cell_type": "markdown",
   "metadata": {},
   "source": [
    "Не более 5% пользователей оформили более 2 заказов и 1% пользователей оформили более 4-х заказов. Определим границу аномальных значений более 4-х заказов, т.е. более 99 перцентиля."
   ]
  },
  {
   "cell_type": "markdown",
   "metadata": {},
   "source": [
    "### 5.8. Построим точечный график стоимостей заказов"
   ]
  },
  {
   "cell_type": "markdown",
   "metadata": {},
   "source": [
    "Информация о стоимости заказов хранится в датафрейме `orders_new` в столбце *revenue*. В переменную `x_values` запишем сгенерированные номера наблюдений и передадим их оси Х,  оси Y - стоимость заказов."
   ]
  },
  {
   "cell_type": "code",
   "execution_count": 49,
   "metadata": {},
   "outputs": [
    {
     "data": {
      "image/png": "[encoded data removed]",
      "text/plain": [
       "<Figure size 720x360 with 1 Axes>"
      ]
     },
     "metadata": {},
     "output_type": "display_data"
    }
   ],
   "source": [
    "plt.figure(figsize=(10,5))\n",
    "x_values = pd.Series(range(0, len(orders_new['revenue'])))\n",
    "\n",
    "plt.scatter(x_values, orders_new['revenue'])\n",
    "plt.title('Стоимость заказов')\n",
    "plt.xlabel('Пользователи')\n",
    "plt.ylabel('Деньги')\n",
    "plt.show()"
   ]
  },
  {
   "cell_type": "markdown",
   "metadata": {},
   "source": [
    "По графику видим наличие единичных выбросов на уровне 200 тыс и 1.3 млн. Это явно аномальные значения выручки. Нужно понять, сколько их еще. На этапе исследования данных мы определили, что большинство пользователей оформляют заказы стоимостью до 10 тыс, но есть и значительная доля тех, чьи покупки составляют до 100 тыс. Определим уровень аномальных значений с помощью перцентилей."
   ]
  },
  {
   "cell_type": "markdown",
   "metadata": {},
   "source": [
    "### 5.9. Посчитаем 95-й и 99-й перцентили стоимости заказов. Выберем границу для определения аномальных заказов"
   ]
  },
  {
   "cell_type": "code",
   "execution_count": 50,
   "metadata": {},
   "outputs": [
    {
     "data": {
      "text/plain": [
       "28000.000000000004"
      ]
     },
     "execution_count": 50,
     "metadata": {},
     "output_type": "execute_result"
    }
   ],
   "source": [
    "revenue_perc_95 = np.percentile(orders_new['revenue'], 95)\n",
    "revenue_perc_95"
   ]
  },
  {
   "cell_type": "code",
   "execution_count": 51,
   "metadata": {},
   "outputs": [
    {
     "data": {
      "text/plain": [
       "58233.19999999999"
      ]
     },
     "execution_count": 51,
     "metadata": {},
     "output_type": "execute_result"
    }
   ],
   "source": [
    "revenue_perc_99 = np.percentile(orders_new['revenue'], 99)\n",
    "revenue_perc_99"
   ]
  },
  {
   "cell_type": "markdown",
   "metadata": {},
   "source": [
    "Видим 5% заказов стоимостью более 28000 и 1% больше 58233. Установим границу аномальных значений более 95-го перцентиля."
   ]
  },
  {
   "cell_type": "markdown",
   "metadata": {},
   "source": [
    "### 5.10. Посчитаем статистическую значимость различий в среднем количестве заказов на посетителя между группами по «сырым» данным"
   ]
  },
  {
   "cell_type": "markdown",
   "metadata": {},
   "source": [
    "Сформулируем и проверим гипотезу.   \n",
    "- Нулевая гипотеза: Среднее количество заказов между группами не различается. \n",
    "- Альтернативная гипотеза: Есть различия в среднем количестве заказов между группами.\n",
    "\n",
    "\n",
    "Для расчета статистической значимости используем непараметрический тест Манна-Уитни `st.mannwhitneyu()`. Для проведения тестирования нам нужно сформировать 2 ранжированные выборки по каждой группе А/В теста."
   ]
  },
  {
   "cell_type": "markdown",
   "metadata": {},
   "source": [
    "#### 5.10.1. Сформируем датафреймы с датами и количеством посетителей в конкретную дату по группам А и В\n",
    " \n",
    "Данные о посетителях хранятся в датафрейме `visitors`."
   ]
  },
  {
   "cell_type": "code",
   "execution_count": 52,
   "metadata": {},
   "outputs": [
    {
     "data": {
      "text/html": [
       "<div>\n",
       "<style scoped>\n",
       "    .dataframe tbody tr th:only-of-type {\n",
       "        vertical-align: middle;\n",
       "    }\n",
       "\n",
       "    .dataframe tbody tr th {\n",
       "        vertical-align: top;\n",
       "    }\n",
       "\n",
       "    .dataframe thead th {\n",
       "        text-align: right;\n",
       "    }\n",
       "</style>\n",
       "<table border=\"1\" class=\"dataframe\">\n",
       "  <thead>\n",
       "    <tr style=\"text-align: right;\">\n",
       "      <th></th>\n",
       "      <th>date</th>\n",
       "      <th>visitors_in_date_A</th>\n",
       "    </tr>\n",
       "  </thead>\n",
       "  <tbody>\n",
       "    <tr>\n",
       "      <th>0</th>\n",
       "      <td>2019-08-01</td>\n",
       "      <td>719</td>\n",
       "    </tr>\n",
       "    <tr>\n",
       "      <th>1</th>\n",
       "      <td>2019-08-02</td>\n",
       "      <td>619</td>\n",
       "    </tr>\n",
       "    <tr>\n",
       "      <th>2</th>\n",
       "      <td>2019-08-03</td>\n",
       "      <td>507</td>\n",
       "    </tr>\n",
       "  </tbody>\n",
       "</table>\n",
       "</div>"
      ],
      "text/plain": [
       "        date  visitors_in_date_A\n",
       "0 2019-08-01  719               \n",
       "1 2019-08-02  619               \n",
       "2 2019-08-03  507               "
      ]
     },
     "execution_count": 52,
     "metadata": {},
     "output_type": "execute_result"
    }
   ],
   "source": [
    "visitors_A = visitors[visitors['group'] == 'A'][['date', 'visitors']]\n",
    "visitors_A.columns = ['date', 'visitors_in_date_A']\n",
    "visitors_A.head(3)"
   ]
  },
  {
   "cell_type": "code",
   "execution_count": 53,
   "metadata": {},
   "outputs": [
    {
     "data": {
      "text/html": [
       "<div>\n",
       "<style scoped>\n",
       "    .dataframe tbody tr th:only-of-type {\n",
       "        vertical-align: middle;\n",
       "    }\n",
       "\n",
       "    .dataframe tbody tr th {\n",
       "        vertical-align: top;\n",
       "    }\n",
       "\n",
       "    .dataframe thead th {\n",
       "        text-align: right;\n",
       "    }\n",
       "</style>\n",
       "<table border=\"1\" class=\"dataframe\">\n",
       "  <thead>\n",
       "    <tr style=\"text-align: right;\">\n",
       "      <th></th>\n",
       "      <th>date</th>\n",
       "      <th>visitors_in_date_B</th>\n",
       "    </tr>\n",
       "  </thead>\n",
       "  <tbody>\n",
       "    <tr>\n",
       "      <th>31</th>\n",
       "      <td>2019-08-01</td>\n",
       "      <td>713</td>\n",
       "    </tr>\n",
       "    <tr>\n",
       "      <th>32</th>\n",
       "      <td>2019-08-02</td>\n",
       "      <td>581</td>\n",
       "    </tr>\n",
       "    <tr>\n",
       "      <th>33</th>\n",
       "      <td>2019-08-03</td>\n",
       "      <td>509</td>\n",
       "    </tr>\n",
       "  </tbody>\n",
       "</table>\n",
       "</div>"
      ],
      "text/plain": [
       "         date  visitors_in_date_B\n",
       "31 2019-08-01  713               \n",
       "32 2019-08-02  581               \n",
       "33 2019-08-03  509               "
      ]
     },
     "execution_count": 53,
     "metadata": {},
     "output_type": "execute_result"
    }
   ],
   "source": [
    "visitors_B = visitors[visitors['group'] == 'B'][['date', 'visitors']]\n",
    "visitors_B.columns = ['date', 'visitors_in_date_B']\n",
    "visitors_B.head(3)"
   ]
  },
  {
   "cell_type": "markdown",
   "metadata": {},
   "source": [
    "#### 5.10.2. Сформируем общие списки покупателей интернет магазина по группам A/B теста\n",
    "\n",
    "Создадим списки пользователей каждой группы, совершивших заказы. Для группы А запишем в переменную `orders_by_users_A`, для группы В в переменную `orders_by_users_B`"
   ]
  },
  {
   "cell_type": "code",
   "execution_count": 54,
   "metadata": {},
   "outputs": [
    {
     "data": {
      "text/html": [
       "<div>\n",
       "<style scoped>\n",
       "    .dataframe tbody tr th:only-of-type {\n",
       "        vertical-align: middle;\n",
       "    }\n",
       "\n",
       "    .dataframe tbody tr th {\n",
       "        vertical-align: top;\n",
       "    }\n",
       "\n",
       "    .dataframe thead th {\n",
       "        text-align: right;\n",
       "    }\n",
       "</style>\n",
       "<table border=\"1\" class=\"dataframe\">\n",
       "  <thead>\n",
       "    <tr style=\"text-align: right;\">\n",
       "      <th></th>\n",
       "      <th>user_id</th>\n",
       "      <th>orders</th>\n",
       "    </tr>\n",
       "  </thead>\n",
       "  <tbody>\n",
       "    <tr>\n",
       "      <th>0</th>\n",
       "      <td>8300375</td>\n",
       "      <td>1</td>\n",
       "    </tr>\n",
       "    <tr>\n",
       "      <th>1</th>\n",
       "      <td>11685486</td>\n",
       "      <td>1</td>\n",
       "    </tr>\n",
       "    <tr>\n",
       "      <th>2</th>\n",
       "      <td>54447517</td>\n",
       "      <td>1</td>\n",
       "    </tr>\n",
       "    <tr>\n",
       "      <th>3</th>\n",
       "      <td>66685450</td>\n",
       "      <td>1</td>\n",
       "    </tr>\n",
       "    <tr>\n",
       "      <th>4</th>\n",
       "      <td>78758296</td>\n",
       "      <td>1</td>\n",
       "    </tr>\n",
       "  </tbody>\n",
       "</table>\n",
       "</div>"
      ],
      "text/plain": [
       "    user_id  orders\n",
       "0  8300375   1     \n",
       "1  11685486  1     \n",
       "2  54447517  1     \n",
       "3  66685450  1     \n",
       "4  78758296  1     "
      ]
     },
     "execution_count": 54,
     "metadata": {},
     "output_type": "execute_result"
    }
   ],
   "source": [
    "orders_by_users_A = (orders_new[orders_new['group'] == 'A']\n",
    "                    .groupby('visitor_id', as_index=False)\n",
    "                    .agg({'transaction_id': pd.Series.nunique}))\n",
    "orders_by_users_A.columns = ['user_id', 'orders']\n",
    "orders_by_users_A.head()"
   ]
  },
  {
   "cell_type": "code",
   "execution_count": 55,
   "metadata": {},
   "outputs": [
    {
     "data": {
      "text/html": [
       "<div>\n",
       "<style scoped>\n",
       "    .dataframe tbody tr th:only-of-type {\n",
       "        vertical-align: middle;\n",
       "    }\n",
       "\n",
       "    .dataframe tbody tr th {\n",
       "        vertical-align: top;\n",
       "    }\n",
       "\n",
       "    .dataframe thead th {\n",
       "        text-align: right;\n",
       "    }\n",
       "</style>\n",
       "<table border=\"1\" class=\"dataframe\">\n",
       "  <thead>\n",
       "    <tr style=\"text-align: right;\">\n",
       "      <th></th>\n",
       "      <th>user_id</th>\n",
       "      <th>orders</th>\n",
       "    </tr>\n",
       "  </thead>\n",
       "  <tbody>\n",
       "    <tr>\n",
       "      <th>0</th>\n",
       "      <td>5114589</td>\n",
       "      <td>1</td>\n",
       "    </tr>\n",
       "    <tr>\n",
       "      <th>1</th>\n",
       "      <td>6958315</td>\n",
       "      <td>1</td>\n",
       "    </tr>\n",
       "    <tr>\n",
       "      <th>2</th>\n",
       "      <td>8300375</td>\n",
       "      <td>1</td>\n",
       "    </tr>\n",
       "    <tr>\n",
       "      <th>3</th>\n",
       "      <td>39475350</td>\n",
       "      <td>1</td>\n",
       "    </tr>\n",
       "    <tr>\n",
       "      <th>4</th>\n",
       "      <td>47206413</td>\n",
       "      <td>1</td>\n",
       "    </tr>\n",
       "  </tbody>\n",
       "</table>\n",
       "</div>"
      ],
      "text/plain": [
       "    user_id  orders\n",
       "0  5114589   1     \n",
       "1  6958315   1     \n",
       "2  8300375   1     \n",
       "3  39475350  1     \n",
       "4  47206413  1     "
      ]
     },
     "execution_count": 55,
     "metadata": {},
     "output_type": "execute_result"
    }
   ],
   "source": [
    "orders_by_users_B = (orders_new[orders_new['group'] == 'B']\n",
    "                    .groupby('visitor_id', as_index=False)\n",
    "                    .agg({'transaction_id': pd.Series.nunique}))\n",
    "orders_by_users_B.columns = ['user_id', 'orders']\n",
    "orders_by_users_B.head()"
   ]
  },
  {
   "cell_type": "markdown",
   "metadata": {},
   "source": [
    "#### 5.10.3. Сформируем общие ранжированные списки пользователей по группам. \n",
    "\n",
    "Пользователям с заказами будет соответствовать количество заказов, а пользователям без заказов будет соответствовать 0.\n",
    "\n",
    "Количество пользователей без заказов для группы А определим путем следующего расчета: visitors_A['visitors_in_date_A'].sum() - len(orders_by_users_A['orders']), аналогично рассчитаем для В.\n",
    "\n",
    "Для создания индексов списка используем функцию `np.arange()`, а для объединения значений 2-х списков с заказами и без -  функцию  `pd.concat()`.\n",
    "\n",
    "Список по группе А запишем в переменную `list_A`, а список группы В в переменную `list_B`."
   ]
  },
  {
   "cell_type": "code",
   "execution_count": 56,
   "metadata": {},
   "outputs": [
    {
     "data": {
      "text/plain": [
       "0        1\n",
       "1        1\n",
       "2        1\n",
       "3        1\n",
       "4        1\n",
       "        ..\n",
       "18228    0\n",
       "18229    0\n",
       "18230    0\n",
       "18231    0\n",
       "18232    0\n",
       "Name: orders, Length: 18736, dtype: int64"
      ]
     },
     "execution_count": 56,
     "metadata": {},
     "output_type": "execute_result"
    }
   ],
   "source": [
    "list_A = pd.concat([orders_by_users_A['orders'], pd.Series(0,\n",
    "            index=np.arange(visitors_A['visitors_in_date_A'].sum() - len(orders_by_users_A['orders'])),\n",
    "            name='orders')], axis=0)\n",
    "list_A"
   ]
  },
  {
   "cell_type": "code",
   "execution_count": 57,
   "metadata": {},
   "outputs": [
    {
     "data": {
      "text/plain": [
       "0        1\n",
       "1        1\n",
       "2        1\n",
       "3        1\n",
       "4        1\n",
       "        ..\n",
       "18325    0\n",
       "18326    0\n",
       "18327    0\n",
       "18328    0\n",
       "18329    0\n",
       "Name: orders, Length: 18916, dtype: int64"
      ]
     },
     "execution_count": 57,
     "metadata": {},
     "output_type": "execute_result"
    }
   ],
   "source": [
    "list_B = pd.concat([orders_by_users_B['orders'], pd.Series(0,\n",
    "            index=np.arange(visitors_B['visitors_in_date_B'].sum() - len(orders_by_users_B['orders'])),\n",
    "            name='orders')], axis=0)\n",
    "list_B"
   ]
  },
  {
   "cell_type": "markdown",
   "metadata": {},
   "source": [
    "Установим уровень статистической значимости `alpha`, равный 0.05 и применим статистический критерий Манна-Уитни к полученным выборкам: "
   ]
  },
  {
   "cell_type": "code",
   "execution_count": 58,
   "metadata": {},
   "outputs": [
    {
     "name": "stdout",
     "output_type": "stream",
     "text": [
      "p-значение для сравнения групп А и B:  0.016792355056752608\n",
      "Отвергаем нулевую гипотезу для сравнения групп А и B\n"
     ]
    }
   ],
   "source": [
    "alpha = 0.05 \n",
    "u_orders_AB = st.mannwhitneyu(list_A, list_B)\n",
    "\n",
    "print('p-значение для сравнения групп А и B: ', u_orders_AB.pvalue)\n",
    "\n",
    "if u_orders_AB.pvalue < alpha:\n",
    "    print('Отвергаем нулевую гипотезу для сравнения групп А и B')\n",
    "else:\n",
    "    print(\n",
    "        'Не получилось отвергнуть нулевую гипотезу для сравнения групп А и B'\n",
    "    )"
   ]
  },
  {
   "cell_type": "markdown",
   "metadata": {},
   "source": [
    "Выведем относительный прирост среднего числа заказов группы B"
   ]
  },
  {
   "cell_type": "code",
   "execution_count": 59,
   "metadata": {},
   "outputs": [
    {
     "data": {
      "text/plain": [
       "0.13807884655320146"
      ]
     },
     "execution_count": 59,
     "metadata": {},
     "output_type": "execute_result"
    }
   ],
   "source": [
    "list_B.mean() / list_A.mean() - 1"
   ]
  },
  {
   "cell_type": "markdown",
   "metadata": {},
   "source": [
    "При уровне статистической значимости 0.05 мы можем отвергнуть нулевую гипотезу о равенстве среднего количества заказов между группами A/B теста. Мы видим разницу в количестве заказов между группами на 13.8% (относительный прирост по группе В)"
   ]
  },
  {
   "cell_type": "markdown",
   "metadata": {},
   "source": [
    "### 5.11. Посчитаем статистическую значимость различий в среднем чеке заказа между группами по «сырым» данным."
   ]
  },
  {
   "cell_type": "markdown",
   "metadata": {},
   "source": [
    "Нулевая гипотеза: Различия в среднем чеке между группами отсутствуют. \n",
    "\n",
    "Альтернативная гипотеза: Есть различия в среднем чеке между группами. "
   ]
  },
  {
   "cell_type": "markdown",
   "metadata": {},
   "source": [
    "Установим уровень статистической значимости `alpha` 0.05"
   ]
  },
  {
   "cell_type": "code",
   "execution_count": 60,
   "metadata": {},
   "outputs": [
    {
     "name": "stdout",
     "output_type": "stream",
     "text": [
      "p-значение для сравнения групп А и B:  0.7292909855432458\n",
      "Не получилось отвергнуть нулевую гипотезу для сравнения групп А и B\n"
     ]
    }
   ],
   "source": [
    "alpha = 0.05 \n",
    "u_revenue_AB = (st.mannwhitneyu(orders_new[orders_new['group']=='A']['revenue'], \n",
    "                                orders_new[orders_new['group']=='B']['revenue']))\n",
    "\n",
    "print('p-значение для сравнения групп А и B: ', u_revenue_AB.pvalue)\n",
    "\n",
    "if u_revenue_AB.pvalue < alpha:\n",
    "    print('Отвергаем нулевую гипотезу для сравнения групп А и B')\n",
    "else:\n",
    "    print('Не получилось отвергнуть нулевую гипотезу для сравнения групп А и B')"
   ]
  },
  {
   "cell_type": "markdown",
   "metadata": {},
   "source": [
    "Выведем относительный прирост среднего чека группы B"
   ]
  },
  {
   "cell_type": "code",
   "execution_count": 61,
   "metadata": {},
   "outputs": [
    {
     "data": {
      "text/plain": [
       "0.2587136699126005"
      ]
     },
     "execution_count": 61,
     "metadata": {},
     "output_type": "execute_result"
    }
   ],
   "source": [
    "orders_new[orders_new['group']=='B']['revenue'].mean()/orders_new[orders_new['group']=='A']['revenue'].mean()-1"
   ]
  },
  {
   "cell_type": "markdown",
   "metadata": {},
   "source": [
    "Не получилось отвергнуть нулевую гипотезу о равенстве средних чеков между группами А и В, статистически значимые различия мы не обнаружили, p-value значительно больше 0.05. Тем не менее,  мы видим, средний чек в группе В примерно на 26% выше среднего чека по группе А. Возможно, на это влияет наличие выбросов, проверим, как изменятся результаты проверки по очищенным данным."
   ]
  },
  {
   "cell_type": "markdown",
   "metadata": {},
   "source": [
    "### 5.12. Посчитаем статистическую значимость различий в среднем количестве заказов на посетителя между группами по «очищенным» данным."
   ]
  },
  {
   "cell_type": "markdown",
   "metadata": {},
   "source": [
    "- Нулевая гипотеза: Среднее количество заказов по очищенным данным между группами не различается. \n",
    "- Альтернативная гипотеза: Есть различия в среднем количестве заказов по очищенным данным между группами."
   ]
  },
  {
   "cell_type": "markdown",
   "metadata": {},
   "source": [
    "#### 5.12.1. Подготовим список с аномальными данными\n",
    "Ранее мы определили границу аномальных значений в количестве заказов более 99-го перцентиля. Это 3 заказа на пользователя. И более 95-го перцентиля по выручке, граница суммы составила 26785. Сформируем выборки по аномальным юзерам по заказам и по выручке и объединим их в общий список через функцию `pd.concat()`"
   ]
  },
  {
   "cell_type": "markdown",
   "metadata": {},
   "source": [
    "Составим список пользователей с аномальными заказами `orders_abnormal`, для среза используем метод `query()` и внешнюю переменную, равную 99-му перцентилю количества заказов `orders_perc_99` "
   ]
  },
  {
   "cell_type": "code",
   "execution_count": 62,
   "metadata": {},
   "outputs": [],
   "source": [
    "orders_abnormal = pd.concat([orders_by_users_A.query('orders > @orders_perc_99')['user_id'],\n",
    "                            orders_by_users_B.query('orders > @orders_perc_99')['user_id']], axis=0 )"
   ]
  },
  {
   "cell_type": "markdown",
   "metadata": {},
   "source": [
    "Для формирования списка с аномальными значениями по выручке `revenue_abnormal` используем для среза  внешнюю переменную равную 95-му перцентилю `revenue_perc_95`."
   ]
  },
  {
   "cell_type": "code",
   "execution_count": 63,
   "metadata": {},
   "outputs": [],
   "source": [
    "revenue_abnormal = orders_new.query('revenue > @revenue_perc_95')['visitor_id']"
   ]
  },
  {
   "cell_type": "markdown",
   "metadata": {},
   "source": [
    "Объединим списки в переменной `abnormal_users` и определим размер списка через `shape`"
   ]
  },
  {
   "cell_type": "code",
   "execution_count": 64,
   "metadata": {},
   "outputs": [
    {
     "data": {
      "text/plain": [
       "(65,)"
      ]
     },
     "execution_count": 64,
     "metadata": {},
     "output_type": "execute_result"
    }
   ],
   "source": [
    "abnormal_users = (pd.concat([orders_abnormal, revenue_abnormal], axis=0)\n",
    "                #.drop_duplicates()\n",
    "                .sort_values())\n",
    "abnormal_users.shape"
   ]
  },
  {
   "cell_type": "markdown",
   "metadata": {},
   "source": [
    "Общий список с аномальными выручкой и количеством заказов состоит из 65 пользователей."
   ]
  },
  {
   "cell_type": "markdown",
   "metadata": {},
   "source": [
    "#### 5.12.2. Составим списки всех пользователей в группах А/В теста, исключив аномальные значения\n",
    "\n",
    "Очищенные данные по группе А запишем в переменную `list_A_filtered`, по группе В в переменную `list_B_filtered`"
   ]
  },
  {
   "cell_type": "code",
   "execution_count": 65,
   "metadata": {},
   "outputs": [],
   "source": [
    "list_A_filtered = (pd.concat([orders_by_users_A[np.logical_not(orders_by_users_A['user_id']\n",
    "                                                               .isin(abnormal_users))]['orders'],\n",
    "        pd.Series(0, index=np.arange(visitors_A['visitors_in_date_A'].sum() - len(orders_by_users_A['orders'])),\n",
    "        name='orders')],  axis=0))"
   ]
  },
  {
   "cell_type": "code",
   "execution_count": 66,
   "metadata": {},
   "outputs": [],
   "source": [
    "list_B_filtered = (pd.concat([orders_by_users_B[np.logical_not(orders_by_users_B['user_id']\n",
    "                                                               .isin(abnormal_users))]['orders'],\n",
    "        pd.Series(0, index=np.arange(visitors_B['visitors_in_date_B'].sum() - len(orders_by_users_B['orders'])),\n",
    "        name='orders')],  axis=0))"
   ]
  },
  {
   "cell_type": "markdown",
   "metadata": {},
   "source": [
    "Установим уровень статистической значимости `alpha` 0.05"
   ]
  },
  {
   "cell_type": "code",
   "execution_count": 67,
   "metadata": {},
   "outputs": [
    {
     "name": "stdout",
     "output_type": "stream",
     "text": [
      "p-значение для сравнения групп А и B:  0.018457083488550192\n",
      "Отвергаем нулевую гипотезу для сравнения групп А и B\n"
     ]
    }
   ],
   "source": [
    "alpha = 0.05 \n",
    "u_orders_AB_filtered = st.mannwhitneyu(list_A_filtered, list_B_filtered)\n",
    "\n",
    "print('p-значение для сравнения групп А и B: ', u_orders_AB_filtered.pvalue)\n",
    "\n",
    "if u_orders_AB_filtered.pvalue < alpha:\n",
    "    print('Отвергаем нулевую гипотезу для сравнения групп А и B')\n",
    "else:\n",
    "    print('Не получилось отвергнуть нулевую гипотезу для сравнения групп А и B')"
   ]
  },
  {
   "cell_type": "markdown",
   "metadata": {},
   "source": [
    "Выведем относительный прирост среднего числа заказов группы B по очищенным данным"
   ]
  },
  {
   "cell_type": "code",
   "execution_count": 68,
   "metadata": {},
   "outputs": [
    {
     "data": {
      "text/plain": [
       "0.14534846108575383"
      ]
     },
     "execution_count": 68,
     "metadata": {},
     "output_type": "execute_result"
    }
   ],
   "source": [
    "list_B_filtered.mean()/list_A_filtered.mean()-1"
   ]
  },
  {
   "cell_type": "markdown",
   "metadata": {},
   "source": [
    "Результаты проверки по очищенным данным не меняют общую картину о среднем количестве заказов. При статистическом уровне значимости 0.05 у нас снова получилось отвергнуть нулевую гипотезу о равенстве среднего количества заказов  между группами А и В,  относительная разница в среднем количестве заказов у группы В на 14.5%-х пункта больше (по неочищенным данным было 13.8%-х пункта).\n",
    "\n",
    "Посмотрим, как изменились результаты проверки среднего чека по очищенным данным."
   ]
  },
  {
   "cell_type": "markdown",
   "metadata": {},
   "source": [
    "### 5.13. Посчитаем статистическую значимость различий в среднем чеке заказа между группами по «очищенным» данным"
   ]
  },
  {
   "cell_type": "markdown",
   "metadata": {},
   "source": [
    "Нулевая гипотеза: Различия в среднем чеке по очищенным данным между группами отсутствуют. \n",
    "\n",
    "Альтернативная гипотеза: Есть различия в среднем чеке по очищенным данным между группами. \n",
    "\n",
    "Установим уровень статистической значимости `alpha` 0.05"
   ]
  },
  {
   "cell_type": "code",
   "execution_count": 69,
   "metadata": {},
   "outputs": [
    {
     "name": "stdout",
     "output_type": "stream",
     "text": [
      "p-значение для сравнения групп А и B:  0.9612742488180921\n",
      "Не получилось отвергнуть нулевую гипотезу для сравнения групп А и B\n"
     ]
    }
   ],
   "source": [
    "alpha = 0.05\n",
    "\n",
    "u_revenue_AB_filtered = st.mannwhitneyu(\n",
    "            orders_new[np.logical_and(orders_new['group'] == 'A',\n",
    "                    np.logical_not(orders_new['visitor_id'].isin(abnormal_users)))]['revenue'],\n",
    "    \n",
    "            orders_new[np.logical_and(orders_new['group'] == 'B',\n",
    "                    np.logical_not(orders_new['visitor_id'].isin(abnormal_users)))]['revenue'])\n",
    "    \n",
    "print('p-значение для сравнения групп А и B: ', u_revenue_AB_filtered.pvalue)\n",
    "\n",
    "if u_revenue_AB_filtered.pvalue < alpha:\n",
    "    print('Отвергаем нулевую гипотезу для сравнения групп А и B')\n",
    "else:\n",
    "    print('Не получилось отвергнуть нулевую гипотезу для сравнения групп А и B')"
   ]
  },
  {
   "cell_type": "markdown",
   "metadata": {},
   "source": [
    "Выведем относительный прирост среднего чека группы B по очищенным данным"
   ]
  },
  {
   "cell_type": "code",
   "execution_count": 70,
   "metadata": {},
   "outputs": [
    {
     "data": {
      "text/plain": [
       "-0.013825214710713074"
      ]
     },
     "execution_count": 70,
     "metadata": {},
     "output_type": "execute_result"
    }
   ],
   "source": [
    "(orders_new[np.logical_and(orders_new['group'] == 'B', np.logical_not(orders_new['visitor_id']\n",
    "                       .isin(abnormal_users)))]['revenue'].mean() \n",
    "/ \n",
    "orders_new[np.logical_and(orders_new['group'] == 'A', np.logical_not(orders_new['visitor_id']\n",
    "                       .isin(abnormal_users)))]['revenue'].mean() - 1)"
   ]
  },
  {
   "cell_type": "markdown",
   "metadata": {},
   "source": [
    "По очищенным данным p-value стал еще больше, был 0.73, стал 0.96. А вот относительный прирост среднего чека по группе В значительно снизился - примерно на 27%-х пунктов и стал ниже среднего чека по группе А. Это говорит о том, что в группе В было несколько дорогостоящих заказов, которые в итоге и повлияли на уровень среднего чека по неочищенным данным в этой группе."
   ]
  },
  {
   "cell_type": "markdown",
   "metadata": {},
   "source": [
    "### 5.14. Примите решение по результатам теста и объясните его. "
   ]
  },
  {
   "cell_type": "markdown",
   "metadata": {},
   "source": [
    "- По результатам А/В теста можем говорить о наличии статистически значимого различия в среднем количестве заказов между группами теста и по \"сырым\" и по очищенным данным. Получилось опровергнуть нулевую гипотезу о равенстве конверсий между группами. Пользователи из групп В показали лучшую конверсию (относительный прирост на 14.5%-- пункта по очищенным данным).\n",
    "- Статистически значимое различие в среднем чеке между группами мы не обнаружили ни по \"сырым\", ни по очищенным данным.\n",
    "- По графику конверсии, а так же, по результатам проверки статистической значимости среднего количества заказов, мы видим, что пользователи из группы В лучше конвертируются в заказчиков, но при этом сохраняют примерно тот же средний чек, что и пользователи в группе А.\n",
    "- Можем сделать вывод, что введенные изменения помогут интернет магазину увеличить долю покупателей, что скажется на росте доходов даже при сохранении суммы среднего чека. Тест можем остановить и признать его успешным."
   ]
  },
  {
   "cell_type": "markdown",
   "metadata": {},
   "source": [
    "### 5.15. Выводы"
   ]
  },
  {
   "cell_type": "markdown",
   "metadata": {},
   "source": [
    "На этом этапе на основе кумулятивных данных по группам А/В теста мы построили сравнительные графики выручки, среднего количества заказов, среднего чека, а также посчитали статистическую значимость конверсии и среднего чека по группам на основе \"сырых\" и очищенных данных. Для расчета очищенных данных мы избавились от аномальных значений. В аномальные значения мы определили:\n",
    "- количество заказов более 99 перцентиля, это клиенты более, чем с 4 заказами;\n",
    "- выручку более 95 перцентиля, заказы с суммой более 28000.\n",
    "\n",
    "Получили следующие результаты:\n",
    "\n",
    "- Примерно с середины периода кумулятивная выручка в группе В стабильно выше, чем в группе А;\n",
    "\n",
    "- Уровень среднего чека колеблется в обеих группах, присутствуют резкие скачки в группе В, которые были обусловлены наличием дорогих заказов - выбросами. Относительный прирост среднего чека без этих выбросов в группе B оказался несколько ниже, чем в группе А - примерно на 1.4%-х пункта по очищенным данным. Гипотезу о равенстве среднего чека между группами опровергнуть не получилось, статистическая значимость различий не выявлена ни по \"сырым\". ни по очищенным данным. \n",
    "\n",
    "- Пользователи из группы В лучше конвертировались в покупателей, чем в группе А. В группе В конверсия стабильно выше начиная со 2-й недели тестирования. Относительный прирост около 14.5%-х пункта. Проверка гипотезы о статистической значимости различий среднего количества заказов  позволила опровергнуть равенство конверсий между группами как по сырым, так и по очищенным данным.\n",
    "\n",
    "- Тест можем остановить и признать его успешным. По результатам теста уже можем сделать вывод, что введенные изменения помогут интернет-магазину увеличить долю покупателей - повысить конверсию, что отразится на росте доходов, даже при сохранении суммы среднего чека на текущем уровне. "
   ]
  },
  {
   "cell_type": "markdown",
   "metadata": {},
   "source": [
    "## 6. Итоги исследования"
   ]
  },
  {
   "cell_type": "markdown",
   "metadata": {},
   "source": [
    "**Целью** исследования для нас было:   \n",
    "Приоритизировать гипотезы по увеличению выручки интернет-магазина. Проанализировать результаты A/B теста.\n",
    "\n",
    "1. Для достижения цели мы провели анализ 3-х датасетов: \n",
    "    - *hypothesis* -  с информацией о 9 гипотезах для приоритизации;\n",
    "    - *orders_new* - с информацией о заказах;\n",
    "    - *visitors* - с данными о посетителях.\n",
    "\n",
    "Предоставленные данные были хорошего качества, в них отсутствовали пропуски и дубликаты. На этапе предобработки мы только изменили тип данных в столбцах с датами на тип *datetime* и в 2-х столбцах применили \"змеиный\" стиль.\n",
    "\n",
    "\n",
    "2. В датасетах содержатся данные за период с 1 по 31 августа 2019 года. \n",
    "    - При более подробном исследовании датасетов мы выявили 58 пользователей, которые вошли в обе группы тестов, что говорит об ошибке при сборе данных. Заказы этих пользователей составляют 15,12% от общего количества заказов. Этих пользователей сохранили в выборке для дальнейшего корректного расчета конверсии.\n",
    "    - Датасет состоит из 1197 строк (количество наблюдений) и содержит 1031 уникальных пользователя.\n",
    "    - Доля группы A составляет примерно 46.5% от общего объема выборки, доля группы B - примерно 53.5%.\n",
    "    - Суммы заказов распределяются примерно на уровне до 10 тыс и, в основном объеме, не превышают 100 тыс., есть несколько аномальных значений, примерно на 200 тыс. и 1,3 млн.\n",
    "    \n",
    "    \n",
    "3. При приоритизации гипотез методами `ICE` и `RICE` выделили 5 гипотез из 9, но в зависимости от используемого способа, приоритеты у этих гипотез меняются, поскольку в способе `RICE` учитывается параметр *reach* (охват пользователей, на которых повлияет изменение), и чем выше уровень охвата, при прочих равных параметрах, тем выше приоритет у гипотезы.    Список этих гипотез по убыванию приоритета по `RICE`:\n",
    "    - 'Добавить форму подписки на все основные страницы, чтобы собрать базу клиентов для email-рассылок';\n",
    "    - 'Добавить блоки рекомендаций товаров на сайт интернет магазина, чтобы повысить конверсию и средний чек заказа';\n",
    "    - 'Добавить два новых канала привлечения трафика, что позволит привлекать на 30% больше пользователей';\n",
    "    - 'Показать на главной странице баннеры с актуальными акциями и распродажами, чтобы увеличить конверсию';\n",
    "    - 'Запустить акцию, дающую скидку на товар в день рождения'.\n",
    "\n",
    "Гипотезу 'Добавить форму подписки на все основные страницы, чтобы собрать базу клиентов для email-рассылок' можно обозначить как наиболее перспективную.\n",
    "\n",
    "4. На основе кумулятивных данных по группам А/В теста мы построили сравнительные графики выручки, среднего количества заказов, среднего чека, а также посчитали статистическую значимость конверсии и среднего чека по группам на основе \"сырых\" и очищенных данных. Для расчета очищенных данных мы избавились от аномальных значений. В аномальные значения мы определили количество заказов более 99 перцентиля, это клиенты, которые заказали более 4-х раз и выручку более 95 перцентиля, заказы с суммой более 28000. Получили следующие результаты:\n",
    "\n",
    "    - Примерно с середины периода кумулятивная выручка в группе В стабильно выше, чем в группе А;\n",
    "    - Уровень среднего чека колеблется в обеих группах, присутствуют резкие скачки в группе В, которые были обусловлены наличием дорогих заказов - выбросами. Относительный прирост среднего чека без этих выбросов в группе B оказался несколько ниже, чем в группе А - примерно на 1.4%-х пункта по очищенным данным. Гипотезу о равенстве среднего чека между группами опровергнуть не получилось, статистическая значимость различий не выявлена ни по \"сырым\", ни по очищенным данным.\n",
    "    - Пользователи из группы В лучше конвертировались в покупателей, чем в группе А. По группе В конверсия стабильно выше, начиная со 2-й недели тестирования. Относительный прирост около 14.5%-х пункта по очищенным данным. Проверка гипотезы о статистической значимости различий среднего количества заказов  позволила опровергнуть равенство конверсий между группами как по сырым, так и по очищенным данным.\n",
    "    \n",
    "\n",
    "5. Тест можем остановить и признать его успешным. По результатам теста уже можем сделать вывод, что введенные изменения помогут интернет-магазину увеличить долю покупателей - повысить конверсию, что отразится на росте доходов, даже при сохранении суммы среднего чека на текущем уровне."
   ]
  },
  {
   "cell_type": "code",
   "execution_count": null,
   "metadata": {},
   "outputs": [],
   "source": []
  }
 ],
 "metadata": {
  "ExecuteTimeLog": [
   {
    "duration": 1148,
    "start_time": "2023-07-26T05:05:06.716Z"
   },
   {
    "duration": 4,
    "start_time": "2023-07-26T05:06:44.332Z"
   },
   {
    "duration": 153,
    "start_time": "2023-07-26T05:08:27.317Z"
   },
   {
    "duration": 90,
    "start_time": "2023-07-26T05:10:13.346Z"
   },
   {
    "duration": 39,
    "start_time": "2023-07-26T05:10:49.766Z"
   },
   {
    "duration": 38,
    "start_time": "2023-07-26T05:10:58.105Z"
   },
   {
    "duration": 94,
    "start_time": "2023-07-26T05:15:47.646Z"
   },
   {
    "duration": 1017,
    "start_time": "2023-07-26T05:23:36.655Z"
   },
   {
    "duration": 3,
    "start_time": "2023-07-26T05:23:37.674Z"
   },
   {
    "duration": 99,
    "start_time": "2023-07-26T05:23:37.679Z"
   },
   {
    "duration": 50,
    "start_time": "2023-07-26T05:23:37.780Z"
   },
   {
    "duration": 78,
    "start_time": "2023-07-26T05:30:26.774Z"
   },
   {
    "duration": 41,
    "start_time": "2023-07-26T05:38:12.724Z"
   },
   {
    "duration": 1005,
    "start_time": "2023-07-26T05:41:03.095Z"
   },
   {
    "duration": 4,
    "start_time": "2023-07-26T05:41:04.102Z"
   },
   {
    "duration": 153,
    "start_time": "2023-07-26T05:41:04.108Z"
   },
   {
    "duration": 48,
    "start_time": "2023-07-26T05:41:04.263Z"
   },
   {
    "duration": 27,
    "start_time": "2023-07-26T05:41:04.313Z"
   },
   {
    "duration": 4,
    "start_time": "2023-07-26T05:48:03.395Z"
   },
   {
    "duration": 5,
    "start_time": "2023-07-26T05:48:19.092Z"
   },
   {
    "duration": 6,
    "start_time": "2023-07-26T05:49:13.792Z"
   },
   {
    "duration": 6,
    "start_time": "2023-07-26T06:15:36.996Z"
   },
   {
    "duration": 58,
    "start_time": "2023-07-26T06:48:19.922Z"
   },
   {
    "duration": 363,
    "start_time": "2023-07-26T06:48:32.799Z"
   },
   {
    "duration": 12,
    "start_time": "2023-07-26T06:49:03.478Z"
   },
   {
    "duration": 13,
    "start_time": "2023-07-26T06:49:29.127Z"
   },
   {
    "duration": 9,
    "start_time": "2023-07-26T06:49:36.911Z"
   },
   {
    "duration": 10,
    "start_time": "2023-07-26T06:49:47.602Z"
   },
   {
    "duration": 9,
    "start_time": "2023-07-26T06:50:33.671Z"
   },
   {
    "duration": 5,
    "start_time": "2023-07-26T06:50:54.879Z"
   },
   {
    "duration": 4,
    "start_time": "2023-07-26T06:51:08.740Z"
   },
   {
    "duration": 264,
    "start_time": "2023-07-26T06:51:19.515Z"
   },
   {
    "duration": 278,
    "start_time": "2023-07-26T06:51:40.319Z"
   },
   {
    "duration": 321,
    "start_time": "2023-07-26T06:51:47.258Z"
   },
   {
    "duration": 5,
    "start_time": "2023-07-26T06:51:55.867Z"
   },
   {
    "duration": 1056,
    "start_time": "2023-07-26T06:52:17.458Z"
   },
   {
    "duration": 3,
    "start_time": "2023-07-26T06:52:18.517Z"
   },
   {
    "duration": 122,
    "start_time": "2023-07-26T06:52:18.522Z"
   },
   {
    "duration": 55,
    "start_time": "2023-07-26T06:52:18.645Z"
   },
   {
    "duration": 32,
    "start_time": "2023-07-26T06:52:18.704Z"
   },
   {
    "duration": 9,
    "start_time": "2023-07-26T06:52:18.738Z"
   },
   {
    "duration": 16,
    "start_time": "2023-07-26T06:52:18.749Z"
   },
   {
    "duration": 15,
    "start_time": "2023-07-26T06:52:18.767Z"
   },
   {
    "duration": 5,
    "start_time": "2023-07-26T06:54:26.741Z"
   },
   {
    "duration": 11,
    "start_time": "2023-07-26T06:54:46.423Z"
   },
   {
    "duration": 9,
    "start_time": "2023-07-26T06:55:13.765Z"
   },
   {
    "duration": 4,
    "start_time": "2023-07-26T06:56:19.357Z"
   },
   {
    "duration": 1030,
    "start_time": "2023-07-26T06:56:56.243Z"
   },
   {
    "duration": 3,
    "start_time": "2023-07-26T06:56:57.275Z"
   },
   {
    "duration": 95,
    "start_time": "2023-07-26T06:56:57.279Z"
   },
   {
    "duration": 50,
    "start_time": "2023-07-26T06:56:57.376Z"
   },
   {
    "duration": 28,
    "start_time": "2023-07-26T06:56:57.428Z"
   },
   {
    "duration": 6,
    "start_time": "2023-07-26T06:56:57.459Z"
   },
   {
    "duration": 40,
    "start_time": "2023-07-26T06:56:57.467Z"
   },
   {
    "duration": 31,
    "start_time": "2023-07-26T06:56:57.509Z"
   },
   {
    "duration": 401,
    "start_time": "2023-07-26T07:08:02.772Z"
   },
   {
    "duration": 324,
    "start_time": "2023-07-26T07:08:13.084Z"
   },
   {
    "duration": 5,
    "start_time": "2023-07-26T07:08:20.386Z"
   },
   {
    "duration": 1058,
    "start_time": "2023-07-26T07:08:33.076Z"
   },
   {
    "duration": 3,
    "start_time": "2023-07-26T07:08:34.136Z"
   },
   {
    "duration": 125,
    "start_time": "2023-07-26T07:08:34.141Z"
   },
   {
    "duration": 49,
    "start_time": "2023-07-26T07:08:34.268Z"
   },
   {
    "duration": 27,
    "start_time": "2023-07-26T07:08:34.319Z"
   },
   {
    "duration": 5,
    "start_time": "2023-07-26T07:08:34.348Z"
   },
   {
    "duration": 29,
    "start_time": "2023-07-26T07:08:34.355Z"
   },
   {
    "duration": 9,
    "start_time": "2023-07-26T07:08:34.386Z"
   },
   {
    "duration": 4,
    "start_time": "2023-07-26T07:10:21.654Z"
   },
   {
    "duration": 6,
    "start_time": "2023-07-26T07:10:25.517Z"
   },
   {
    "duration": 7,
    "start_time": "2023-07-26T07:10:29.375Z"
   },
   {
    "duration": 4,
    "start_time": "2023-07-26T07:10:29.837Z"
   },
   {
    "duration": 4,
    "start_time": "2023-07-26T07:10:30.698Z"
   },
   {
    "duration": 6,
    "start_time": "2023-07-26T07:25:40.981Z"
   },
   {
    "duration": 6,
    "start_time": "2023-07-26T07:27:26.236Z"
   },
   {
    "duration": 6,
    "start_time": "2023-07-26T07:27:38.322Z"
   },
   {
    "duration": 6,
    "start_time": "2023-07-26T07:28:38.915Z"
   },
   {
    "duration": 4,
    "start_time": "2023-07-26T07:30:52.334Z"
   },
   {
    "duration": 4,
    "start_time": "2023-07-26T07:31:35.267Z"
   },
   {
    "duration": 89,
    "start_time": "2023-07-26T07:37:34.424Z"
   },
   {
    "duration": 5,
    "start_time": "2023-07-26T07:37:40.640Z"
   },
   {
    "duration": 4,
    "start_time": "2023-07-26T07:37:45.843Z"
   },
   {
    "duration": 10,
    "start_time": "2023-07-26T07:38:55.013Z"
   },
   {
    "duration": 6,
    "start_time": "2023-07-26T07:39:57.212Z"
   },
   {
    "duration": 5,
    "start_time": "2023-07-26T07:43:43.044Z"
   },
   {
    "duration": 4,
    "start_time": "2023-07-26T07:44:03.960Z"
   },
   {
    "duration": 4,
    "start_time": "2023-07-26T07:44:12.203Z"
   },
   {
    "duration": 4,
    "start_time": "2023-07-26T07:44:25.939Z"
   },
   {
    "duration": 4,
    "start_time": "2023-07-26T07:45:42.705Z"
   },
   {
    "duration": 4,
    "start_time": "2023-07-26T07:46:17.253Z"
   },
   {
    "duration": 5,
    "start_time": "2023-07-26T07:46:23.550Z"
   },
   {
    "duration": 7,
    "start_time": "2023-07-26T07:48:42.761Z"
   },
   {
    "duration": 4,
    "start_time": "2023-07-26T07:48:45.267Z"
   },
   {
    "duration": 4,
    "start_time": "2023-07-26T07:48:45.513Z"
   },
   {
    "duration": 4,
    "start_time": "2023-07-26T07:48:45.659Z"
   },
   {
    "duration": 5,
    "start_time": "2023-07-26T07:48:45.908Z"
   },
   {
    "duration": 7,
    "start_time": "2023-07-26T07:49:59.317Z"
   },
   {
    "duration": 8,
    "start_time": "2023-07-26T07:52:03.770Z"
   },
   {
    "duration": 7,
    "start_time": "2023-07-26T07:52:10.637Z"
   },
   {
    "duration": 6,
    "start_time": "2023-07-26T07:52:12.390Z"
   },
   {
    "duration": 5,
    "start_time": "2023-07-26T07:55:03.272Z"
   },
   {
    "duration": 5,
    "start_time": "2023-07-26T07:55:16.168Z"
   },
   {
    "duration": 5,
    "start_time": "2023-07-26T07:58:19.910Z"
   },
   {
    "duration": 7,
    "start_time": "2023-07-26T07:59:05.677Z"
   },
   {
    "duration": 1004,
    "start_time": "2023-07-26T08:01:04.686Z"
   },
   {
    "duration": 3,
    "start_time": "2023-07-26T08:01:05.692Z"
   },
   {
    "duration": 128,
    "start_time": "2023-07-26T08:01:05.696Z"
   },
   {
    "duration": 49,
    "start_time": "2023-07-26T08:01:05.827Z"
   },
   {
    "duration": 27,
    "start_time": "2023-07-26T08:01:05.878Z"
   },
   {
    "duration": 5,
    "start_time": "2023-07-26T08:01:05.906Z"
   },
   {
    "duration": 15,
    "start_time": "2023-07-26T08:01:05.913Z"
   },
   {
    "duration": 35,
    "start_time": "2023-07-26T08:01:05.930Z"
   },
   {
    "duration": 16,
    "start_time": "2023-07-26T08:01:05.967Z"
   },
   {
    "duration": 8,
    "start_time": "2023-07-26T08:01:05.986Z"
   },
   {
    "duration": 26,
    "start_time": "2023-07-26T08:01:05.996Z"
   },
   {
    "duration": 4,
    "start_time": "2023-07-26T08:01:06.024Z"
   },
   {
    "duration": 11,
    "start_time": "2023-07-26T08:01:06.030Z"
   },
   {
    "duration": 10,
    "start_time": "2023-07-26T08:01:06.043Z"
   },
   {
    "duration": 11,
    "start_time": "2023-07-26T08:01:06.055Z"
   },
   {
    "duration": 18,
    "start_time": "2023-07-26T08:01:06.067Z"
   },
   {
    "duration": 8,
    "start_time": "2023-07-26T08:01:06.087Z"
   },
   {
    "duration": 10,
    "start_time": "2023-07-26T08:01:06.097Z"
   },
   {
    "duration": 13,
    "start_time": "2023-07-26T08:01:06.108Z"
   },
   {
    "duration": 18,
    "start_time": "2023-07-26T08:01:06.123Z"
   },
   {
    "duration": 8,
    "start_time": "2023-07-26T08:01:06.143Z"
   },
   {
    "duration": 6,
    "start_time": "2023-07-26T08:01:06.156Z"
   },
   {
    "duration": 19,
    "start_time": "2023-07-26T08:01:06.164Z"
   },
   {
    "duration": 7,
    "start_time": "2023-07-26T08:01:06.184Z"
   },
   {
    "duration": 1075,
    "start_time": "2023-07-26T08:01:54.243Z"
   },
   {
    "duration": 4,
    "start_time": "2023-07-26T08:01:55.320Z"
   },
   {
    "duration": 128,
    "start_time": "2023-07-26T08:01:55.326Z"
   },
   {
    "duration": 49,
    "start_time": "2023-07-26T08:01:55.456Z"
   },
   {
    "duration": 27,
    "start_time": "2023-07-26T08:01:55.507Z"
   },
   {
    "duration": 12,
    "start_time": "2023-07-26T08:01:55.536Z"
   },
   {
    "duration": 16,
    "start_time": "2023-07-26T08:01:55.550Z"
   },
   {
    "duration": 23,
    "start_time": "2023-07-26T08:01:55.568Z"
   },
   {
    "duration": 12,
    "start_time": "2023-07-26T08:01:55.593Z"
   },
   {
    "duration": 8,
    "start_time": "2023-07-26T08:01:55.607Z"
   },
   {
    "duration": 10,
    "start_time": "2023-07-26T08:01:55.617Z"
   },
   {
    "duration": 13,
    "start_time": "2023-07-26T08:01:55.629Z"
   },
   {
    "duration": 9,
    "start_time": "2023-07-26T08:01:55.643Z"
   },
   {
    "duration": 5,
    "start_time": "2023-07-26T08:01:55.653Z"
   },
   {
    "duration": 11,
    "start_time": "2023-07-26T08:01:55.660Z"
   },
   {
    "duration": 10,
    "start_time": "2023-07-26T08:01:55.673Z"
   },
   {
    "duration": 8,
    "start_time": "2023-07-26T08:01:55.684Z"
   },
   {
    "duration": 6,
    "start_time": "2023-07-26T08:01:55.694Z"
   },
   {
    "duration": 10,
    "start_time": "2023-07-26T08:01:55.702Z"
   },
   {
    "duration": 7,
    "start_time": "2023-07-26T08:01:55.713Z"
   },
   {
    "duration": 5,
    "start_time": "2023-07-26T08:01:55.721Z"
   },
   {
    "duration": 33,
    "start_time": "2023-07-26T08:01:55.728Z"
   },
   {
    "duration": 5,
    "start_time": "2023-07-26T08:01:55.764Z"
   },
   {
    "duration": 5,
    "start_time": "2023-07-26T08:16:27.954Z"
   },
   {
    "duration": 6,
    "start_time": "2023-07-26T08:18:30.250Z"
   },
   {
    "duration": 10,
    "start_time": "2023-07-26T08:20:56.486Z"
   },
   {
    "duration": 8,
    "start_time": "2023-07-26T08:21:16.749Z"
   },
   {
    "duration": 8,
    "start_time": "2023-07-26T08:22:04.749Z"
   },
   {
    "duration": 8,
    "start_time": "2023-07-26T08:22:19.621Z"
   },
   {
    "duration": 5,
    "start_time": "2023-07-26T08:22:26.248Z"
   },
   {
    "duration": 8,
    "start_time": "2023-07-26T08:24:36.522Z"
   },
   {
    "duration": 7,
    "start_time": "2023-07-26T08:24:48.673Z"
   },
   {
    "duration": 9,
    "start_time": "2023-07-26T08:25:09.166Z"
   },
   {
    "duration": 4,
    "start_time": "2023-07-26T08:27:53.423Z"
   },
   {
    "duration": 4,
    "start_time": "2023-07-26T08:27:54.511Z"
   },
   {
    "duration": 5,
    "start_time": "2023-07-26T08:28:58.358Z"
   },
   {
    "duration": 1095,
    "start_time": "2023-07-26T08:29:33.968Z"
   },
   {
    "duration": 5,
    "start_time": "2023-07-26T08:29:35.065Z"
   },
   {
    "duration": 96,
    "start_time": "2023-07-26T08:29:35.071Z"
   },
   {
    "duration": 55,
    "start_time": "2023-07-26T08:29:35.169Z"
   },
   {
    "duration": 33,
    "start_time": "2023-07-26T08:29:35.226Z"
   },
   {
    "duration": 10,
    "start_time": "2023-07-26T08:29:35.261Z"
   },
   {
    "duration": 18,
    "start_time": "2023-07-26T08:29:35.273Z"
   },
   {
    "duration": 25,
    "start_time": "2023-07-26T08:29:35.293Z"
   },
   {
    "duration": 17,
    "start_time": "2023-07-26T08:29:35.319Z"
   },
   {
    "duration": 27,
    "start_time": "2023-07-26T08:29:35.339Z"
   },
   {
    "duration": 8,
    "start_time": "2023-07-26T08:29:35.368Z"
   },
   {
    "duration": 23,
    "start_time": "2023-07-26T08:29:35.377Z"
   },
   {
    "duration": 31,
    "start_time": "2023-07-26T08:29:35.402Z"
   },
   {
    "duration": 27,
    "start_time": "2023-07-26T08:29:35.435Z"
   },
   {
    "duration": 19,
    "start_time": "2023-07-26T08:29:35.463Z"
   },
   {
    "duration": 8,
    "start_time": "2023-07-26T08:29:35.484Z"
   },
   {
    "duration": 127,
    "start_time": "2023-07-26T08:29:35.494Z"
   },
   {
    "duration": 0,
    "start_time": "2023-07-26T08:29:35.623Z"
   },
   {
    "duration": 0,
    "start_time": "2023-07-26T08:29:35.624Z"
   },
   {
    "duration": 0,
    "start_time": "2023-07-26T08:29:35.624Z"
   },
   {
    "duration": 0,
    "start_time": "2023-07-26T08:29:35.625Z"
   },
   {
    "duration": 0,
    "start_time": "2023-07-26T08:29:35.626Z"
   },
   {
    "duration": 0,
    "start_time": "2023-07-26T08:29:35.628Z"
   },
   {
    "duration": 4,
    "start_time": "2023-07-26T08:29:47.211Z"
   },
   {
    "duration": 6,
    "start_time": "2023-07-26T08:30:06.208Z"
   },
   {
    "duration": 5,
    "start_time": "2023-07-26T08:30:09.547Z"
   },
   {
    "duration": 5,
    "start_time": "2023-07-26T08:30:10.363Z"
   },
   {
    "duration": 12,
    "start_time": "2023-07-26T08:30:39.096Z"
   },
   {
    "duration": 1132,
    "start_time": "2023-07-26T08:30:44.514Z"
   },
   {
    "duration": 4,
    "start_time": "2023-07-26T08:30:45.648Z"
   },
   {
    "duration": 99,
    "start_time": "2023-07-26T08:30:45.657Z"
   },
   {
    "duration": 50,
    "start_time": "2023-07-26T08:30:45.759Z"
   },
   {
    "duration": 25,
    "start_time": "2023-07-26T08:30:45.811Z"
   },
   {
    "duration": 6,
    "start_time": "2023-07-26T08:30:45.837Z"
   },
   {
    "duration": 14,
    "start_time": "2023-07-26T08:30:45.844Z"
   },
   {
    "duration": 8,
    "start_time": "2023-07-26T08:30:45.859Z"
   },
   {
    "duration": 5,
    "start_time": "2023-07-26T08:30:45.869Z"
   },
   {
    "duration": 8,
    "start_time": "2023-07-26T08:30:45.877Z"
   },
   {
    "duration": 5,
    "start_time": "2023-07-26T08:30:45.886Z"
   },
   {
    "duration": 5,
    "start_time": "2023-07-26T08:30:45.893Z"
   },
   {
    "duration": 21,
    "start_time": "2023-07-26T08:30:45.900Z"
   },
   {
    "duration": 23,
    "start_time": "2023-07-26T08:30:45.922Z"
   },
   {
    "duration": 12,
    "start_time": "2023-07-26T08:30:45.956Z"
   },
   {
    "duration": 14,
    "start_time": "2023-07-26T08:30:45.970Z"
   },
   {
    "duration": 133,
    "start_time": "2023-07-26T08:30:45.986Z"
   },
   {
    "duration": 0,
    "start_time": "2023-07-26T08:30:46.121Z"
   },
   {
    "duration": 0,
    "start_time": "2023-07-26T08:30:46.122Z"
   },
   {
    "duration": 0,
    "start_time": "2023-07-26T08:30:46.124Z"
   },
   {
    "duration": 0,
    "start_time": "2023-07-26T08:30:46.125Z"
   },
   {
    "duration": 0,
    "start_time": "2023-07-26T08:30:46.126Z"
   },
   {
    "duration": 6,
    "start_time": "2023-07-26T08:31:06.200Z"
   },
   {
    "duration": 6,
    "start_time": "2023-07-26T08:31:14.152Z"
   },
   {
    "duration": 7,
    "start_time": "2023-07-26T08:31:14.720Z"
   },
   {
    "duration": 5,
    "start_time": "2023-07-26T08:31:28.189Z"
   },
   {
    "duration": 6,
    "start_time": "2023-07-26T08:31:28.841Z"
   },
   {
    "duration": 53,
    "start_time": "2023-07-26T08:33:16.965Z"
   },
   {
    "duration": 6,
    "start_time": "2023-07-26T08:33:22.274Z"
   },
   {
    "duration": 5,
    "start_time": "2023-07-26T08:33:47.925Z"
   },
   {
    "duration": 5,
    "start_time": "2023-07-26T08:34:20.885Z"
   },
   {
    "duration": 6,
    "start_time": "2023-07-26T08:34:24.173Z"
   },
   {
    "duration": 12,
    "start_time": "2023-07-26T08:41:22.818Z"
   },
   {
    "duration": 17,
    "start_time": "2023-07-26T08:41:38.092Z"
   },
   {
    "duration": 5,
    "start_time": "2023-07-26T08:44:44.350Z"
   },
   {
    "duration": 8,
    "start_time": "2023-07-26T08:45:10.113Z"
   },
   {
    "duration": 4,
    "start_time": "2023-07-26T08:55:55.933Z"
   },
   {
    "duration": 1041,
    "start_time": "2023-07-26T08:56:24.995Z"
   },
   {
    "duration": 3,
    "start_time": "2023-07-26T08:56:26.038Z"
   },
   {
    "duration": 107,
    "start_time": "2023-07-26T08:56:26.042Z"
   },
   {
    "duration": 49,
    "start_time": "2023-07-26T08:56:26.151Z"
   },
   {
    "duration": 27,
    "start_time": "2023-07-26T08:56:26.201Z"
   },
   {
    "duration": 5,
    "start_time": "2023-07-26T08:56:26.229Z"
   },
   {
    "duration": 8,
    "start_time": "2023-07-26T08:56:26.236Z"
   },
   {
    "duration": 6,
    "start_time": "2023-07-26T08:56:26.245Z"
   },
   {
    "duration": 5,
    "start_time": "2023-07-26T08:56:26.253Z"
   },
   {
    "duration": 7,
    "start_time": "2023-07-26T08:56:26.260Z"
   },
   {
    "duration": 7,
    "start_time": "2023-07-26T08:56:26.269Z"
   },
   {
    "duration": 19,
    "start_time": "2023-07-26T08:56:26.278Z"
   },
   {
    "duration": 17,
    "start_time": "2023-07-26T08:56:26.298Z"
   },
   {
    "duration": 14,
    "start_time": "2023-07-26T08:56:26.317Z"
   },
   {
    "duration": 6,
    "start_time": "2023-07-26T08:56:26.333Z"
   },
   {
    "duration": 9,
    "start_time": "2023-07-26T08:56:26.340Z"
   },
   {
    "duration": 9,
    "start_time": "2023-07-26T08:56:26.350Z"
   },
   {
    "duration": 9,
    "start_time": "2023-07-26T08:56:26.361Z"
   },
   {
    "duration": 13,
    "start_time": "2023-07-26T08:56:26.372Z"
   },
   {
    "duration": 16,
    "start_time": "2023-07-26T08:56:26.386Z"
   },
   {
    "duration": 10,
    "start_time": "2023-07-26T08:56:26.404Z"
   },
   {
    "duration": 6,
    "start_time": "2023-07-26T08:56:26.416Z"
   },
   {
    "duration": 1006,
    "start_time": "2023-07-26T08:59:15.324Z"
   },
   {
    "duration": 3,
    "start_time": "2023-07-26T08:59:16.332Z"
   },
   {
    "duration": 119,
    "start_time": "2023-07-26T08:59:16.336Z"
   },
   {
    "duration": 50,
    "start_time": "2023-07-26T08:59:16.461Z"
   },
   {
    "duration": 28,
    "start_time": "2023-07-26T08:59:16.513Z"
   },
   {
    "duration": 5,
    "start_time": "2023-07-26T08:59:16.543Z"
   },
   {
    "duration": 26,
    "start_time": "2023-07-26T08:59:16.550Z"
   },
   {
    "duration": 5,
    "start_time": "2023-07-26T08:59:16.578Z"
   },
   {
    "duration": 6,
    "start_time": "2023-07-26T08:59:16.585Z"
   },
   {
    "duration": 7,
    "start_time": "2023-07-26T08:59:16.594Z"
   },
   {
    "duration": 4,
    "start_time": "2023-07-26T08:59:16.602Z"
   },
   {
    "duration": 8,
    "start_time": "2023-07-26T08:59:16.608Z"
   },
   {
    "duration": 6,
    "start_time": "2023-07-26T08:59:16.618Z"
   },
   {
    "duration": 5,
    "start_time": "2023-07-26T08:59:16.625Z"
   },
   {
    "duration": 37,
    "start_time": "2023-07-26T08:59:16.632Z"
   },
   {
    "duration": 13,
    "start_time": "2023-07-26T08:59:16.671Z"
   },
   {
    "duration": 8,
    "start_time": "2023-07-26T08:59:16.686Z"
   },
   {
    "duration": 8,
    "start_time": "2023-07-26T08:59:16.695Z"
   },
   {
    "duration": 15,
    "start_time": "2023-07-26T08:59:16.704Z"
   },
   {
    "duration": 6,
    "start_time": "2023-07-26T08:59:16.721Z"
   },
   {
    "duration": 18,
    "start_time": "2023-07-26T08:59:16.728Z"
   },
   {
    "duration": 23,
    "start_time": "2023-07-26T08:59:16.747Z"
   },
   {
    "duration": 8,
    "start_time": "2023-07-26T09:00:14.898Z"
   },
   {
    "duration": 4,
    "start_time": "2023-07-26T09:01:51.949Z"
   },
   {
    "duration": 4,
    "start_time": "2023-07-26T09:01:59.466Z"
   },
   {
    "duration": 5,
    "start_time": "2023-07-26T09:02:22.432Z"
   },
   {
    "duration": 7,
    "start_time": "2023-07-26T09:02:25.870Z"
   },
   {
    "duration": 5,
    "start_time": "2023-07-26T09:02:28.994Z"
   },
   {
    "duration": 14,
    "start_time": "2023-07-26T09:03:37.675Z"
   },
   {
    "duration": 11,
    "start_time": "2023-07-26T09:03:49.125Z"
   },
   {
    "duration": 16,
    "start_time": "2023-07-26T09:03:59.244Z"
   },
   {
    "duration": 6,
    "start_time": "2023-07-26T09:05:37.849Z"
   },
   {
    "duration": 7,
    "start_time": "2023-07-26T09:06:18.957Z"
   },
   {
    "duration": 2,
    "start_time": "2023-07-26T09:06:39.614Z"
   },
   {
    "duration": 5,
    "start_time": "2023-07-26T09:06:39.630Z"
   },
   {
    "duration": 39,
    "start_time": "2023-07-26T09:06:39.646Z"
   },
   {
    "duration": 48,
    "start_time": "2023-07-26T09:06:39.688Z"
   },
   {
    "duration": 26,
    "start_time": "2023-07-26T09:06:39.737Z"
   },
   {
    "duration": 5,
    "start_time": "2023-07-26T09:06:39.764Z"
   },
   {
    "duration": 8,
    "start_time": "2023-07-26T09:06:39.771Z"
   },
   {
    "duration": 12,
    "start_time": "2023-07-26T09:06:39.781Z"
   },
   {
    "duration": 8,
    "start_time": "2023-07-26T09:06:39.795Z"
   },
   {
    "duration": 6,
    "start_time": "2023-07-26T09:06:39.829Z"
   },
   {
    "duration": 6,
    "start_time": "2023-07-26T09:06:39.837Z"
   },
   {
    "duration": 6,
    "start_time": "2023-07-26T09:06:39.845Z"
   },
   {
    "duration": 5,
    "start_time": "2023-07-26T09:06:39.857Z"
   },
   {
    "duration": 10,
    "start_time": "2023-07-26T09:06:39.864Z"
   },
   {
    "duration": 4,
    "start_time": "2023-07-26T09:06:39.985Z"
   },
   {
    "duration": 7,
    "start_time": "2023-07-26T09:06:40.103Z"
   },
   {
    "duration": 23,
    "start_time": "2023-07-26T09:06:40.123Z"
   },
   {
    "duration": 6,
    "start_time": "2023-07-26T09:06:40.207Z"
   },
   {
    "duration": 5,
    "start_time": "2023-07-26T09:06:40.217Z"
   },
   {
    "duration": 6,
    "start_time": "2023-07-26T09:06:40.224Z"
   },
   {
    "duration": 16,
    "start_time": "2023-07-26T09:06:40.232Z"
   },
   {
    "duration": 9,
    "start_time": "2023-07-26T09:06:40.250Z"
   },
   {
    "duration": 5,
    "start_time": "2023-07-26T09:06:40.260Z"
   },
   {
    "duration": 19,
    "start_time": "2023-07-26T09:06:40.266Z"
   },
   {
    "duration": 4,
    "start_time": "2023-07-26T09:07:43.319Z"
   },
   {
    "duration": 5,
    "start_time": "2023-07-26T09:07:51.212Z"
   },
   {
    "duration": 7,
    "start_time": "2023-07-26T09:08:08.858Z"
   },
   {
    "duration": 92,
    "start_time": "2023-07-26T09:14:58.248Z"
   },
   {
    "duration": 12,
    "start_time": "2023-07-26T09:15:11.712Z"
   },
   {
    "duration": 10,
    "start_time": "2023-07-26T09:15:25.437Z"
   },
   {
    "duration": 10,
    "start_time": "2023-07-26T09:18:00.563Z"
   },
   {
    "duration": 6,
    "start_time": "2023-07-26T09:18:09.575Z"
   },
   {
    "duration": 11,
    "start_time": "2023-07-26T09:18:16.227Z"
   },
   {
    "duration": 10,
    "start_time": "2023-07-26T09:18:57.008Z"
   },
   {
    "duration": 11,
    "start_time": "2023-07-26T09:19:42.334Z"
   },
   {
    "duration": 1436,
    "start_time": "2023-07-26T09:20:12.079Z"
   },
   {
    "duration": 11,
    "start_time": "2023-07-26T09:20:23.756Z"
   },
   {
    "duration": 6,
    "start_time": "2023-07-26T09:21:39.584Z"
   },
   {
    "duration": 9,
    "start_time": "2023-07-26T09:21:55.607Z"
   },
   {
    "duration": 12,
    "start_time": "2023-07-26T09:23:39.624Z"
   },
   {
    "duration": 10,
    "start_time": "2023-07-26T09:23:44.195Z"
   },
   {
    "duration": 11,
    "start_time": "2023-07-26T09:24:17.363Z"
   },
   {
    "duration": 11,
    "start_time": "2023-07-26T09:24:46.072Z"
   },
   {
    "duration": 9,
    "start_time": "2023-07-26T09:24:47.482Z"
   },
   {
    "duration": 10,
    "start_time": "2023-07-26T09:25:10.553Z"
   },
   {
    "duration": 10,
    "start_time": "2023-07-26T09:25:14.965Z"
   },
   {
    "duration": 9,
    "start_time": "2023-07-26T09:25:32.108Z"
   },
   {
    "duration": 9,
    "start_time": "2023-07-26T09:25:49.157Z"
   },
   {
    "duration": 8,
    "start_time": "2023-07-26T09:25:50.783Z"
   },
   {
    "duration": 9,
    "start_time": "2023-07-26T09:27:27.110Z"
   },
   {
    "duration": 14,
    "start_time": "2023-07-26T09:27:56.062Z"
   },
   {
    "duration": 9,
    "start_time": "2023-07-26T09:28:02.121Z"
   },
   {
    "duration": 8,
    "start_time": "2023-07-26T09:28:08.209Z"
   },
   {
    "duration": 10,
    "start_time": "2023-07-26T09:32:11.589Z"
   },
   {
    "duration": 7,
    "start_time": "2023-07-26T09:32:29.345Z"
   },
   {
    "duration": 11,
    "start_time": "2023-07-26T09:32:36.722Z"
   },
   {
    "duration": 9,
    "start_time": "2023-07-26T09:32:50.184Z"
   },
   {
    "duration": 11,
    "start_time": "2023-07-26T09:37:52.053Z"
   },
   {
    "duration": 13,
    "start_time": "2023-07-26T09:38:18.297Z"
   },
   {
    "duration": 20,
    "start_time": "2023-07-26T09:38:44.011Z"
   },
   {
    "duration": 13,
    "start_time": "2023-07-26T09:38:55.099Z"
   },
   {
    "duration": 15,
    "start_time": "2023-07-26T09:39:37.892Z"
   },
   {
    "duration": 9,
    "start_time": "2023-07-26T09:39:46.926Z"
   },
   {
    "duration": 20,
    "start_time": "2023-07-26T09:48:47.526Z"
   },
   {
    "duration": 5,
    "start_time": "2023-07-26T10:05:10.337Z"
   },
   {
    "duration": 5,
    "start_time": "2023-07-26T10:08:06.322Z"
   },
   {
    "duration": 12,
    "start_time": "2023-07-26T10:17:40.246Z"
   },
   {
    "duration": 5,
    "start_time": "2023-07-26T10:19:40.229Z"
   },
   {
    "duration": 8,
    "start_time": "2023-07-26T10:19:45.154Z"
   },
   {
    "duration": 11,
    "start_time": "2023-07-26T10:21:07.393Z"
   },
   {
    "duration": 8,
    "start_time": "2023-07-26T10:22:13.034Z"
   },
   {
    "duration": 15,
    "start_time": "2023-07-26T10:22:14.009Z"
   },
   {
    "duration": 24,
    "start_time": "2023-07-26T10:22:53.049Z"
   },
   {
    "duration": 18,
    "start_time": "2023-07-26T10:23:04.774Z"
   },
   {
    "duration": 14,
    "start_time": "2023-07-26T10:23:17.586Z"
   },
   {
    "duration": 15,
    "start_time": "2023-07-26T10:23:30.476Z"
   },
   {
    "duration": 13,
    "start_time": "2023-07-26T10:23:43.898Z"
   },
   {
    "duration": 7,
    "start_time": "2023-07-26T10:27:15.796Z"
   },
   {
    "duration": 1131,
    "start_time": "2023-07-26T10:29:46.052Z"
   },
   {
    "duration": 5,
    "start_time": "2023-07-26T10:29:47.185Z"
   },
   {
    "duration": 136,
    "start_time": "2023-07-26T10:29:47.192Z"
   },
   {
    "duration": 57,
    "start_time": "2023-07-26T10:29:47.331Z"
   },
   {
    "duration": 32,
    "start_time": "2023-07-26T10:29:47.391Z"
   },
   {
    "duration": 6,
    "start_time": "2023-07-26T10:29:47.426Z"
   },
   {
    "duration": 17,
    "start_time": "2023-07-26T10:29:47.433Z"
   },
   {
    "duration": 11,
    "start_time": "2023-07-26T10:29:47.452Z"
   },
   {
    "duration": 8,
    "start_time": "2023-07-26T10:29:47.465Z"
   },
   {
    "duration": 10,
    "start_time": "2023-07-26T10:29:47.476Z"
   },
   {
    "duration": 6,
    "start_time": "2023-07-26T10:29:47.487Z"
   },
   {
    "duration": 8,
    "start_time": "2023-07-26T10:29:47.495Z"
   },
   {
    "duration": 14,
    "start_time": "2023-07-26T10:29:47.504Z"
   },
   {
    "duration": 9,
    "start_time": "2023-07-26T10:29:47.520Z"
   },
   {
    "duration": 9,
    "start_time": "2023-07-26T10:29:47.531Z"
   },
   {
    "duration": 8,
    "start_time": "2023-07-26T10:29:47.556Z"
   },
   {
    "duration": 6,
    "start_time": "2023-07-26T10:29:47.566Z"
   },
   {
    "duration": 9,
    "start_time": "2023-07-26T10:29:47.573Z"
   },
   {
    "duration": 24,
    "start_time": "2023-07-26T10:29:47.584Z"
   },
   {
    "duration": 4,
    "start_time": "2023-07-26T10:29:47.610Z"
   },
   {
    "duration": 18,
    "start_time": "2023-07-26T10:29:47.616Z"
   },
   {
    "duration": 6,
    "start_time": "2023-07-26T10:29:47.657Z"
   },
   {
    "duration": 40,
    "start_time": "2023-07-26T10:29:47.664Z"
   },
   {
    "duration": 12,
    "start_time": "2023-07-26T10:29:47.706Z"
   },
   {
    "duration": 7,
    "start_time": "2023-07-26T10:29:47.720Z"
   },
   {
    "duration": 110,
    "start_time": "2023-07-26T10:29:47.729Z"
   },
   {
    "duration": 0,
    "start_time": "2023-07-26T10:29:47.842Z"
   },
   {
    "duration": 0,
    "start_time": "2023-07-26T10:29:47.843Z"
   },
   {
    "duration": 0,
    "start_time": "2023-07-26T10:29:47.844Z"
   },
   {
    "duration": 0,
    "start_time": "2023-07-26T10:29:47.856Z"
   },
   {
    "duration": 7,
    "start_time": "2023-07-26T10:37:02.586Z"
   },
   {
    "duration": 4,
    "start_time": "2023-07-26T10:37:04.899Z"
   },
   {
    "duration": 12,
    "start_time": "2023-07-26T11:23:11.209Z"
   },
   {
    "duration": 11,
    "start_time": "2023-07-26T11:24:21.995Z"
   },
   {
    "duration": 4,
    "start_time": "2023-07-26T12:32:18.029Z"
   },
   {
    "duration": 4,
    "start_time": "2023-07-26T12:32:24.497Z"
   },
   {
    "duration": 4,
    "start_time": "2023-07-26T12:32:55.961Z"
   },
   {
    "duration": 4,
    "start_time": "2023-07-26T12:33:00.000Z"
   },
   {
    "duration": 5,
    "start_time": "2023-07-26T12:33:11.301Z"
   },
   {
    "duration": 39,
    "start_time": "2023-07-26T12:33:51.259Z"
   },
   {
    "duration": 10,
    "start_time": "2023-07-26T12:59:44.926Z"
   },
   {
    "duration": 9,
    "start_time": "2023-07-26T12:59:49.389Z"
   },
   {
    "duration": 116,
    "start_time": "2023-07-26T13:08:51.236Z"
   },
   {
    "duration": 12,
    "start_time": "2023-07-26T13:09:00.715Z"
   },
   {
    "duration": 11,
    "start_time": "2023-07-26T13:09:19.130Z"
   },
   {
    "duration": 7,
    "start_time": "2023-07-26T13:09:52.672Z"
   },
   {
    "duration": 4,
    "start_time": "2023-07-26T13:10:20.004Z"
   },
   {
    "duration": 4,
    "start_time": "2023-07-26T13:10:25.889Z"
   },
   {
    "duration": 13,
    "start_time": "2023-07-26T13:14:19.729Z"
   },
   {
    "duration": 6,
    "start_time": "2023-07-26T13:14:28.264Z"
   },
   {
    "duration": 13,
    "start_time": "2023-07-26T13:19:50.556Z"
   },
   {
    "duration": 7,
    "start_time": "2023-07-26T13:20:13.543Z"
   },
   {
    "duration": 7,
    "start_time": "2023-07-26T13:20:34.380Z"
   },
   {
    "duration": 13,
    "start_time": "2023-07-26T13:20:57.335Z"
   },
   {
    "duration": 18,
    "start_time": "2023-07-26T13:21:42.352Z"
   },
   {
    "duration": 9,
    "start_time": "2023-07-26T13:21:44.425Z"
   },
   {
    "duration": 8,
    "start_time": "2023-07-26T13:21:57.697Z"
   },
   {
    "duration": 7,
    "start_time": "2023-07-26T13:22:02.709Z"
   },
   {
    "duration": 11,
    "start_time": "2023-07-26T13:22:16.650Z"
   },
   {
    "duration": 15,
    "start_time": "2023-07-26T13:22:23.226Z"
   },
   {
    "duration": 13,
    "start_time": "2023-07-26T13:23:08.011Z"
   },
   {
    "duration": 6,
    "start_time": "2023-07-26T13:23:15.872Z"
   },
   {
    "duration": 4,
    "start_time": "2023-07-26T13:24:10.986Z"
   },
   {
    "duration": 12,
    "start_time": "2023-07-26T13:28:57.910Z"
   },
   {
    "duration": 12,
    "start_time": "2023-07-26T13:29:18.698Z"
   },
   {
    "duration": 7,
    "start_time": "2023-07-26T13:29:21.974Z"
   },
   {
    "duration": 1260,
    "start_time": "2023-07-26T13:29:23.853Z"
   },
   {
    "duration": 10,
    "start_time": "2023-07-26T13:29:32.787Z"
   },
   {
    "duration": 17,
    "start_time": "2023-07-26T13:29:43.999Z"
   },
   {
    "duration": 7,
    "start_time": "2023-07-26T13:29:46.260Z"
   },
   {
    "duration": 11,
    "start_time": "2023-07-26T13:29:50.509Z"
   },
   {
    "duration": 5,
    "start_time": "2023-07-26T13:30:44.442Z"
   },
   {
    "duration": 8,
    "start_time": "2023-07-26T13:31:53.682Z"
   },
   {
    "duration": 35,
    "start_time": "2023-07-26T13:34:40.484Z"
   },
   {
    "duration": 7,
    "start_time": "2023-07-26T13:36:53.516Z"
   },
   {
    "duration": 14,
    "start_time": "2023-07-26T13:37:35.638Z"
   },
   {
    "duration": 13,
    "start_time": "2023-07-26T13:37:44.315Z"
   },
   {
    "duration": 9,
    "start_time": "2023-07-26T13:37:50.321Z"
   },
   {
    "duration": 12,
    "start_time": "2023-07-26T13:38:18.671Z"
   },
   {
    "duration": 6,
    "start_time": "2023-07-26T13:38:24.385Z"
   },
   {
    "duration": 28,
    "start_time": "2023-07-26T13:38:49.209Z"
   },
   {
    "duration": 995,
    "start_time": "2023-07-26T13:40:33.316Z"
   },
   {
    "duration": 5,
    "start_time": "2023-07-26T13:40:34.313Z"
   },
   {
    "duration": 98,
    "start_time": "2023-07-26T13:40:34.319Z"
   },
   {
    "duration": 49,
    "start_time": "2023-07-26T13:40:34.419Z"
   },
   {
    "duration": 28,
    "start_time": "2023-07-26T13:40:34.470Z"
   },
   {
    "duration": 5,
    "start_time": "2023-07-26T13:40:34.499Z"
   },
   {
    "duration": 9,
    "start_time": "2023-07-26T13:40:34.505Z"
   },
   {
    "duration": 10,
    "start_time": "2023-07-26T13:40:34.515Z"
   },
   {
    "duration": 24,
    "start_time": "2023-07-26T13:40:34.526Z"
   },
   {
    "duration": 9,
    "start_time": "2023-07-26T13:40:34.553Z"
   },
   {
    "duration": 19,
    "start_time": "2023-07-26T13:40:34.564Z"
   },
   {
    "duration": 22,
    "start_time": "2023-07-26T13:40:34.585Z"
   },
   {
    "duration": 23,
    "start_time": "2023-07-26T13:40:34.609Z"
   },
   {
    "duration": 16,
    "start_time": "2023-07-26T13:40:34.634Z"
   },
   {
    "duration": 12,
    "start_time": "2023-07-26T13:40:34.652Z"
   },
   {
    "duration": 12,
    "start_time": "2023-07-26T13:40:34.665Z"
   },
   {
    "duration": 21,
    "start_time": "2023-07-26T13:40:34.678Z"
   },
   {
    "duration": 11,
    "start_time": "2023-07-26T13:40:34.700Z"
   },
   {
    "duration": 21,
    "start_time": "2023-07-26T13:40:34.712Z"
   },
   {
    "duration": 13,
    "start_time": "2023-07-26T13:40:34.735Z"
   },
   {
    "duration": 13,
    "start_time": "2023-07-26T13:40:34.750Z"
   },
   {
    "duration": 7,
    "start_time": "2023-07-26T13:40:34.765Z"
   },
   {
    "duration": 15,
    "start_time": "2023-07-26T13:40:34.774Z"
   },
   {
    "duration": 11,
    "start_time": "2023-07-26T13:40:34.790Z"
   },
   {
    "duration": 5,
    "start_time": "2023-07-26T13:40:34.802Z"
   },
   {
    "duration": 10,
    "start_time": "2023-07-26T13:40:34.809Z"
   },
   {
    "duration": 125,
    "start_time": "2023-07-26T13:40:34.821Z"
   },
   {
    "duration": 0,
    "start_time": "2023-07-26T13:40:34.948Z"
   },
   {
    "duration": 0,
    "start_time": "2023-07-26T13:40:34.956Z"
   },
   {
    "duration": 0,
    "start_time": "2023-07-26T13:40:34.958Z"
   },
   {
    "duration": 0,
    "start_time": "2023-07-26T13:40:34.958Z"
   },
   {
    "duration": 0,
    "start_time": "2023-07-26T13:40:34.960Z"
   },
   {
    "duration": 0,
    "start_time": "2023-07-26T13:40:34.960Z"
   },
   {
    "duration": 0,
    "start_time": "2023-07-26T13:40:34.961Z"
   },
   {
    "duration": 28,
    "start_time": "2023-07-26T13:41:12.713Z"
   },
   {
    "duration": 1008,
    "start_time": "2023-07-26T13:43:01.102Z"
   },
   {
    "duration": 3,
    "start_time": "2023-07-26T13:43:02.112Z"
   },
   {
    "duration": 189,
    "start_time": "2023-07-26T13:43:02.116Z"
   },
   {
    "duration": 51,
    "start_time": "2023-07-26T13:43:02.307Z"
   },
   {
    "duration": 28,
    "start_time": "2023-07-26T13:43:02.360Z"
   },
   {
    "duration": 33,
    "start_time": "2023-07-26T13:43:02.390Z"
   },
   {
    "duration": 51,
    "start_time": "2023-07-26T13:43:02.425Z"
   },
   {
    "duration": 51,
    "start_time": "2023-07-26T13:43:02.478Z"
   },
   {
    "duration": 55,
    "start_time": "2023-07-26T13:43:02.531Z"
   },
   {
    "duration": 20,
    "start_time": "2023-07-26T13:43:02.588Z"
   },
   {
    "duration": 20,
    "start_time": "2023-07-26T13:43:02.610Z"
   },
   {
    "duration": 22,
    "start_time": "2023-07-26T13:43:02.632Z"
   },
   {
    "duration": 16,
    "start_time": "2023-07-26T13:43:02.655Z"
   },
   {
    "duration": 30,
    "start_time": "2023-07-26T13:43:02.674Z"
   },
   {
    "duration": 14,
    "start_time": "2023-07-26T13:43:02.706Z"
   },
   {
    "duration": 37,
    "start_time": "2023-07-26T13:43:02.722Z"
   },
   {
    "duration": 18,
    "start_time": "2023-07-26T13:43:02.760Z"
   },
   {
    "duration": 19,
    "start_time": "2023-07-26T13:43:02.780Z"
   },
   {
    "duration": 31,
    "start_time": "2023-07-26T13:43:02.801Z"
   },
   {
    "duration": 19,
    "start_time": "2023-07-26T13:43:02.833Z"
   },
   {
    "duration": 17,
    "start_time": "2023-07-26T13:43:02.854Z"
   },
   {
    "duration": 9,
    "start_time": "2023-07-26T13:43:02.873Z"
   },
   {
    "duration": 23,
    "start_time": "2023-07-26T13:43:02.883Z"
   },
   {
    "duration": 12,
    "start_time": "2023-07-26T13:43:02.907Z"
   },
   {
    "duration": 22,
    "start_time": "2023-07-26T13:43:02.921Z"
   },
   {
    "duration": 100,
    "start_time": "2023-07-26T13:43:02.945Z"
   },
   {
    "duration": 0,
    "start_time": "2023-07-26T13:43:03.047Z"
   },
   {
    "duration": 0,
    "start_time": "2023-07-26T13:43:03.048Z"
   },
   {
    "duration": 0,
    "start_time": "2023-07-26T13:43:03.048Z"
   },
   {
    "duration": 0,
    "start_time": "2023-07-26T13:43:03.050Z"
   },
   {
    "duration": 0,
    "start_time": "2023-07-26T13:43:03.050Z"
   },
   {
    "duration": 0,
    "start_time": "2023-07-26T13:43:03.051Z"
   },
   {
    "duration": 0,
    "start_time": "2023-07-26T13:43:03.056Z"
   },
   {
    "duration": 0,
    "start_time": "2023-07-26T13:43:03.057Z"
   },
   {
    "duration": 1011,
    "start_time": "2023-07-26T13:43:25.310Z"
   },
   {
    "duration": 3,
    "start_time": "2023-07-26T13:43:26.323Z"
   },
   {
    "duration": 97,
    "start_time": "2023-07-26T13:43:26.327Z"
   },
   {
    "duration": 50,
    "start_time": "2023-07-26T13:43:26.426Z"
   },
   {
    "duration": 29,
    "start_time": "2023-07-26T13:43:26.478Z"
   },
   {
    "duration": 5,
    "start_time": "2023-07-26T13:43:26.508Z"
   },
   {
    "duration": 18,
    "start_time": "2023-07-26T13:43:26.515Z"
   },
   {
    "duration": 19,
    "start_time": "2023-07-26T13:43:26.535Z"
   },
   {
    "duration": 30,
    "start_time": "2023-07-26T13:43:26.555Z"
   },
   {
    "duration": 26,
    "start_time": "2023-07-26T13:43:26.587Z"
   },
   {
    "duration": 8,
    "start_time": "2023-07-26T13:43:26.615Z"
   },
   {
    "duration": 13,
    "start_time": "2023-07-26T13:43:26.625Z"
   },
   {
    "duration": 6,
    "start_time": "2023-07-26T13:43:26.639Z"
   },
   {
    "duration": 5,
    "start_time": "2023-07-26T13:43:26.646Z"
   },
   {
    "duration": 5,
    "start_time": "2023-07-26T13:43:26.653Z"
   },
   {
    "duration": 13,
    "start_time": "2023-07-26T13:43:26.659Z"
   },
   {
    "duration": 6,
    "start_time": "2023-07-26T13:43:26.673Z"
   },
   {
    "duration": 10,
    "start_time": "2023-07-26T13:43:26.681Z"
   },
   {
    "duration": 28,
    "start_time": "2023-07-26T13:43:26.693Z"
   },
   {
    "duration": 16,
    "start_time": "2023-07-26T13:43:26.722Z"
   },
   {
    "duration": 6,
    "start_time": "2023-07-26T13:43:26.740Z"
   },
   {
    "duration": 13,
    "start_time": "2023-07-26T13:43:26.747Z"
   },
   {
    "duration": 13,
    "start_time": "2023-07-26T13:43:26.762Z"
   },
   {
    "duration": 11,
    "start_time": "2023-07-26T13:43:26.777Z"
   },
   {
    "duration": 5,
    "start_time": "2023-07-26T13:43:26.789Z"
   },
   {
    "duration": 20,
    "start_time": "2023-07-26T13:43:26.795Z"
   },
   {
    "duration": 132,
    "start_time": "2023-07-26T13:43:26.817Z"
   },
   {
    "duration": 0,
    "start_time": "2023-07-26T13:43:26.951Z"
   },
   {
    "duration": 0,
    "start_time": "2023-07-26T13:43:26.956Z"
   },
   {
    "duration": 0,
    "start_time": "2023-07-26T13:43:26.958Z"
   },
   {
    "duration": 0,
    "start_time": "2023-07-26T13:43:26.959Z"
   },
   {
    "duration": 0,
    "start_time": "2023-07-26T13:43:26.960Z"
   },
   {
    "duration": 0,
    "start_time": "2023-07-26T13:43:26.960Z"
   },
   {
    "duration": 0,
    "start_time": "2023-07-26T13:43:26.962Z"
   },
   {
    "duration": 19,
    "start_time": "2023-07-26T13:43:49.759Z"
   },
   {
    "duration": 1068,
    "start_time": "2023-07-26T13:44:17.419Z"
   },
   {
    "duration": 4,
    "start_time": "2023-07-26T13:44:18.489Z"
   },
   {
    "duration": 132,
    "start_time": "2023-07-26T13:44:18.495Z"
   },
   {
    "duration": 49,
    "start_time": "2023-07-26T13:44:18.629Z"
   },
   {
    "duration": 30,
    "start_time": "2023-07-26T13:44:18.680Z"
   },
   {
    "duration": 6,
    "start_time": "2023-07-26T13:44:18.712Z"
   },
   {
    "duration": 25,
    "start_time": "2023-07-26T13:44:18.719Z"
   },
   {
    "duration": 15,
    "start_time": "2023-07-26T13:44:18.745Z"
   },
   {
    "duration": 6,
    "start_time": "2023-07-26T13:44:18.762Z"
   },
   {
    "duration": 7,
    "start_time": "2023-07-26T13:44:18.770Z"
   },
   {
    "duration": 10,
    "start_time": "2023-07-26T13:44:18.778Z"
   },
   {
    "duration": 19,
    "start_time": "2023-07-26T13:44:18.790Z"
   },
   {
    "duration": 14,
    "start_time": "2023-07-26T13:44:18.811Z"
   },
   {
    "duration": 8,
    "start_time": "2023-07-26T13:44:18.826Z"
   },
   {
    "duration": 6,
    "start_time": "2023-07-26T13:44:18.835Z"
   },
   {
    "duration": 23,
    "start_time": "2023-07-26T13:44:18.843Z"
   },
   {
    "duration": 14,
    "start_time": "2023-07-26T13:44:18.868Z"
   },
   {
    "duration": 9,
    "start_time": "2023-07-26T13:44:18.884Z"
   },
   {
    "duration": 31,
    "start_time": "2023-07-26T13:44:18.894Z"
   },
   {
    "duration": 15,
    "start_time": "2023-07-26T13:44:18.928Z"
   },
   {
    "duration": 13,
    "start_time": "2023-07-26T13:44:18.945Z"
   },
   {
    "duration": 7,
    "start_time": "2023-07-26T13:44:18.961Z"
   },
   {
    "duration": 19,
    "start_time": "2023-07-26T13:44:18.970Z"
   },
   {
    "duration": 23,
    "start_time": "2023-07-26T13:44:18.991Z"
   },
   {
    "duration": 6,
    "start_time": "2023-07-26T13:44:19.016Z"
   },
   {
    "duration": 13,
    "start_time": "2023-07-26T13:44:19.023Z"
   },
   {
    "duration": 127,
    "start_time": "2023-07-26T13:44:19.056Z"
   },
   {
    "duration": 0,
    "start_time": "2023-07-26T13:44:19.185Z"
   },
   {
    "duration": 0,
    "start_time": "2023-07-26T13:44:19.185Z"
   },
   {
    "duration": 0,
    "start_time": "2023-07-26T13:44:19.187Z"
   },
   {
    "duration": 0,
    "start_time": "2023-07-26T13:44:19.188Z"
   },
   {
    "duration": 0,
    "start_time": "2023-07-26T13:44:19.189Z"
   },
   {
    "duration": 0,
    "start_time": "2023-07-26T13:44:19.190Z"
   },
   {
    "duration": 0,
    "start_time": "2023-07-26T13:44:19.191Z"
   },
   {
    "duration": 6,
    "start_time": "2023-07-26T13:48:01.788Z"
   },
   {
    "duration": 14,
    "start_time": "2023-07-26T13:48:12.042Z"
   },
   {
    "duration": 7,
    "start_time": "2023-07-26T13:49:04.698Z"
   },
   {
    "duration": 8,
    "start_time": "2023-07-26T13:49:18.392Z"
   },
   {
    "duration": 4,
    "start_time": "2023-07-26T13:49:42.811Z"
   },
   {
    "duration": 10,
    "start_time": "2023-07-26T13:49:47.097Z"
   },
   {
    "duration": 9,
    "start_time": "2023-07-26T13:50:04.406Z"
   },
   {
    "duration": 96,
    "start_time": "2023-07-26T13:50:59.998Z"
   },
   {
    "duration": 9,
    "start_time": "2023-07-26T13:51:14.488Z"
   },
   {
    "duration": 67,
    "start_time": "2023-07-26T13:51:28.864Z"
   },
   {
    "duration": 3,
    "start_time": "2023-07-26T14:02:04.810Z"
   },
   {
    "duration": 4,
    "start_time": "2023-07-26T14:02:10.860Z"
   },
   {
    "duration": 9,
    "start_time": "2023-07-26T14:03:11.717Z"
   },
   {
    "duration": 10,
    "start_time": "2023-07-26T14:03:24.572Z"
   },
   {
    "duration": 9,
    "start_time": "2023-07-26T14:03:54.851Z"
   },
   {
    "duration": 8,
    "start_time": "2023-07-26T14:04:17.291Z"
   },
   {
    "duration": 5,
    "start_time": "2023-07-26T14:04:47.224Z"
   },
   {
    "duration": 5,
    "start_time": "2023-07-26T14:04:59.953Z"
   },
   {
    "duration": 7,
    "start_time": "2023-07-26T14:06:00.621Z"
   },
   {
    "duration": 4,
    "start_time": "2023-07-26T14:08:26.728Z"
   },
   {
    "duration": 4,
    "start_time": "2023-07-26T14:08:38.391Z"
   },
   {
    "duration": 1162,
    "start_time": "2023-07-26T14:09:04.354Z"
   },
   {
    "duration": 8,
    "start_time": "2023-07-26T14:09:11.392Z"
   },
   {
    "duration": 8,
    "start_time": "2023-07-26T14:13:06.220Z"
   },
   {
    "duration": 6,
    "start_time": "2023-07-26T14:17:30.313Z"
   },
   {
    "duration": 6,
    "start_time": "2023-07-26T14:17:50.547Z"
   },
   {
    "duration": 4,
    "start_time": "2023-07-26T14:18:05.577Z"
   },
   {
    "duration": 13,
    "start_time": "2023-07-26T14:20:03.632Z"
   },
   {
    "duration": 8,
    "start_time": "2023-07-26T14:20:23.305Z"
   },
   {
    "duration": 6,
    "start_time": "2023-07-26T14:20:47.557Z"
   },
   {
    "duration": 6,
    "start_time": "2023-07-26T14:21:07.586Z"
   },
   {
    "duration": 7,
    "start_time": "2023-07-26T14:21:18.711Z"
   },
   {
    "duration": 58,
    "start_time": "2023-07-26T14:23:39.160Z"
   },
   {
    "duration": 4,
    "start_time": "2023-07-26T14:23:51.783Z"
   },
   {
    "duration": 5,
    "start_time": "2023-07-26T14:24:01.400Z"
   },
   {
    "duration": 4,
    "start_time": "2023-07-26T14:24:32.891Z"
   },
   {
    "duration": 4,
    "start_time": "2023-07-26T14:28:46.683Z"
   },
   {
    "duration": 6,
    "start_time": "2023-07-26T14:29:09.268Z"
   },
   {
    "duration": 3,
    "start_time": "2023-07-26T14:29:18.674Z"
   },
   {
    "duration": 4,
    "start_time": "2023-07-26T14:29:28.862Z"
   },
   {
    "duration": 6,
    "start_time": "2023-07-26T14:34:21.864Z"
   },
   {
    "duration": 7,
    "start_time": "2023-07-26T14:34:22.685Z"
   },
   {
    "duration": 10,
    "start_time": "2023-07-26T14:35:19.057Z"
   },
   {
    "duration": 54,
    "start_time": "2023-07-26T14:35:42.787Z"
   },
   {
    "duration": 78,
    "start_time": "2023-07-26T14:36:25.218Z"
   },
   {
    "duration": 65,
    "start_time": "2023-07-26T14:36:33.849Z"
   },
   {
    "duration": 7,
    "start_time": "2023-07-26T14:36:39.728Z"
   },
   {
    "duration": 4,
    "start_time": "2023-07-26T14:37:11.134Z"
   },
   {
    "duration": 7,
    "start_time": "2023-07-26T14:37:18.287Z"
   },
   {
    "duration": 6,
    "start_time": "2023-07-26T14:37:40.221Z"
   },
   {
    "duration": 8,
    "start_time": "2023-07-26T14:37:41.034Z"
   },
   {
    "duration": 8,
    "start_time": "2023-07-26T14:37:43.318Z"
   },
   {
    "duration": 8,
    "start_time": "2023-07-26T14:37:50.154Z"
   },
   {
    "duration": 9,
    "start_time": "2023-07-26T14:42:17.865Z"
   },
   {
    "duration": 4,
    "start_time": "2023-07-26T14:42:41.513Z"
   },
   {
    "duration": 5,
    "start_time": "2023-07-26T14:42:42.397Z"
   },
   {
    "duration": 6,
    "start_time": "2023-07-26T14:42:43.073Z"
   },
   {
    "duration": 8,
    "start_time": "2023-07-26T14:42:51.030Z"
   },
   {
    "duration": 1150,
    "start_time": "2023-07-26T17:40:19.824Z"
   },
   {
    "duration": 3,
    "start_time": "2023-07-26T17:40:20.976Z"
   },
   {
    "duration": 106,
    "start_time": "2023-07-26T17:40:20.981Z"
   },
   {
    "duration": 98,
    "start_time": "2023-07-26T17:40:21.089Z"
   },
   {
    "duration": 63,
    "start_time": "2023-07-26T17:40:21.188Z"
   },
   {
    "duration": 4,
    "start_time": "2023-07-26T17:40:21.253Z"
   },
   {
    "duration": 13,
    "start_time": "2023-07-26T17:40:21.258Z"
   },
   {
    "duration": 10,
    "start_time": "2023-07-26T17:40:21.272Z"
   },
   {
    "duration": 8,
    "start_time": "2023-07-26T17:40:21.284Z"
   },
   {
    "duration": 24,
    "start_time": "2023-07-26T17:40:21.294Z"
   },
   {
    "duration": 7,
    "start_time": "2023-07-26T17:40:21.320Z"
   },
   {
    "duration": 11,
    "start_time": "2023-07-26T17:40:21.328Z"
   },
   {
    "duration": 24,
    "start_time": "2023-07-26T17:40:21.340Z"
   },
   {
    "duration": 21,
    "start_time": "2023-07-26T17:40:21.365Z"
   },
   {
    "duration": 17,
    "start_time": "2023-07-26T17:40:21.387Z"
   },
   {
    "duration": 19,
    "start_time": "2023-07-26T17:40:21.405Z"
   },
   {
    "duration": 17,
    "start_time": "2023-07-26T17:40:21.425Z"
   },
   {
    "duration": 34,
    "start_time": "2023-07-26T17:40:21.443Z"
   },
   {
    "duration": 30,
    "start_time": "2023-07-26T17:40:21.479Z"
   },
   {
    "duration": 10,
    "start_time": "2023-07-26T17:40:21.510Z"
   },
   {
    "duration": 18,
    "start_time": "2023-07-26T17:40:21.521Z"
   },
   {
    "duration": 29,
    "start_time": "2023-07-26T17:40:21.540Z"
   },
   {
    "duration": 30,
    "start_time": "2023-07-26T17:40:21.570Z"
   },
   {
    "duration": 22,
    "start_time": "2023-07-26T17:40:21.601Z"
   },
   {
    "duration": 12,
    "start_time": "2023-07-26T17:40:21.624Z"
   },
   {
    "duration": 18,
    "start_time": "2023-07-26T17:40:21.637Z"
   },
   {
    "duration": 18,
    "start_time": "2023-07-26T17:40:21.657Z"
   },
   {
    "duration": 12,
    "start_time": "2023-07-26T17:40:21.678Z"
   },
   {
    "duration": 5,
    "start_time": "2023-07-26T17:40:21.691Z"
   },
   {
    "duration": 8,
    "start_time": "2023-07-26T17:40:21.697Z"
   },
   {
    "duration": 29,
    "start_time": "2023-07-26T17:40:21.707Z"
   },
   {
    "duration": 37,
    "start_time": "2023-07-26T17:40:21.737Z"
   },
   {
    "duration": 8,
    "start_time": "2023-07-26T17:40:21.776Z"
   },
   {
    "duration": 6,
    "start_time": "2023-07-26T17:40:21.785Z"
   },
   {
    "duration": 22,
    "start_time": "2023-07-26T17:40:21.792Z"
   },
   {
    "duration": 7,
    "start_time": "2023-07-26T17:44:53.449Z"
   },
   {
    "duration": 193,
    "start_time": "2023-07-26T17:45:12.435Z"
   },
   {
    "duration": 166,
    "start_time": "2023-07-26T17:45:20.158Z"
   },
   {
    "duration": 178,
    "start_time": "2023-07-26T17:45:29.200Z"
   },
   {
    "duration": 136,
    "start_time": "2023-07-26T17:45:43.449Z"
   },
   {
    "duration": 195,
    "start_time": "2023-07-26T17:45:50.235Z"
   },
   {
    "duration": 255,
    "start_time": "2023-07-26T17:45:56.276Z"
   },
   {
    "duration": 1333,
    "start_time": "2023-07-26T17:46:10.963Z"
   },
   {
    "duration": 251,
    "start_time": "2023-07-26T17:46:19.634Z"
   },
   {
    "duration": 218,
    "start_time": "2023-07-26T17:47:06.813Z"
   },
   {
    "duration": 191,
    "start_time": "2023-07-26T17:47:17.698Z"
   },
   {
    "duration": 4,
    "start_time": "2023-07-26T17:47:52.793Z"
   },
   {
    "duration": 202,
    "start_time": "2023-07-26T17:48:13.720Z"
   },
   {
    "duration": 188,
    "start_time": "2023-07-26T17:50:11.806Z"
   },
   {
    "duration": 258,
    "start_time": "2023-07-26T17:50:18.032Z"
   },
   {
    "duration": 258,
    "start_time": "2023-07-26T17:50:27.171Z"
   },
   {
    "duration": 256,
    "start_time": "2023-07-26T17:52:45.028Z"
   },
   {
    "duration": 194,
    "start_time": "2023-07-26T17:55:58.101Z"
   },
   {
    "duration": 100,
    "start_time": "2023-07-26T17:58:05.998Z"
   },
   {
    "duration": 106,
    "start_time": "2023-07-26T17:58:13.505Z"
   },
   {
    "duration": 100,
    "start_time": "2023-07-26T17:58:22.392Z"
   },
   {
    "duration": 97,
    "start_time": "2023-07-26T17:58:34.024Z"
   },
   {
    "duration": 92,
    "start_time": "2023-07-26T18:03:18.329Z"
   },
   {
    "duration": 95,
    "start_time": "2023-07-26T18:03:31.908Z"
   },
   {
    "duration": 87,
    "start_time": "2023-07-26T18:04:24.609Z"
   },
   {
    "duration": 102,
    "start_time": "2023-07-26T18:05:08.556Z"
   },
   {
    "duration": 109,
    "start_time": "2023-07-26T18:06:39.370Z"
   },
   {
    "duration": 107,
    "start_time": "2023-07-26T18:07:03.908Z"
   },
   {
    "duration": 115,
    "start_time": "2023-07-26T18:07:59.827Z"
   },
   {
    "duration": 1221,
    "start_time": "2023-07-26T18:09:19.039Z"
   },
   {
    "duration": 3,
    "start_time": "2023-07-26T18:09:20.262Z"
   },
   {
    "duration": 53,
    "start_time": "2023-07-26T18:09:20.266Z"
   },
   {
    "duration": 50,
    "start_time": "2023-07-26T18:09:20.322Z"
   },
   {
    "duration": 25,
    "start_time": "2023-07-26T18:09:20.374Z"
   },
   {
    "duration": 4,
    "start_time": "2023-07-26T18:09:20.400Z"
   },
   {
    "duration": 6,
    "start_time": "2023-07-26T18:09:20.406Z"
   },
   {
    "duration": 12,
    "start_time": "2023-07-26T18:09:20.413Z"
   },
   {
    "duration": 10,
    "start_time": "2023-07-26T18:09:20.426Z"
   },
   {
    "duration": 19,
    "start_time": "2023-07-26T18:09:20.438Z"
   },
   {
    "duration": 12,
    "start_time": "2023-07-26T18:09:20.458Z"
   },
   {
    "duration": 5,
    "start_time": "2023-07-26T18:09:20.471Z"
   },
   {
    "duration": 20,
    "start_time": "2023-07-26T18:09:20.477Z"
   },
   {
    "duration": 8,
    "start_time": "2023-07-26T18:09:20.498Z"
   },
   {
    "duration": 8,
    "start_time": "2023-07-26T18:09:20.507Z"
   },
   {
    "duration": 9,
    "start_time": "2023-07-26T18:09:20.516Z"
   },
   {
    "duration": 3,
    "start_time": "2023-07-26T18:09:20.526Z"
   },
   {
    "duration": 9,
    "start_time": "2023-07-26T18:09:20.530Z"
   },
   {
    "duration": 22,
    "start_time": "2023-07-26T18:09:20.540Z"
   },
   {
    "duration": 6,
    "start_time": "2023-07-26T18:09:20.564Z"
   },
   {
    "duration": 11,
    "start_time": "2023-07-26T18:09:20.571Z"
   },
   {
    "duration": 13,
    "start_time": "2023-07-26T18:09:20.583Z"
   },
   {
    "duration": 18,
    "start_time": "2023-07-26T18:09:20.598Z"
   },
   {
    "duration": 9,
    "start_time": "2023-07-26T18:09:20.618Z"
   },
   {
    "duration": 7,
    "start_time": "2023-07-26T18:09:20.629Z"
   },
   {
    "duration": 14,
    "start_time": "2023-07-26T18:09:20.637Z"
   },
   {
    "duration": 17,
    "start_time": "2023-07-26T18:09:20.653Z"
   },
   {
    "duration": 9,
    "start_time": "2023-07-26T18:09:20.673Z"
   },
   {
    "duration": 27,
    "start_time": "2023-07-26T18:09:20.684Z"
   },
   {
    "duration": 10,
    "start_time": "2023-07-26T18:09:20.713Z"
   },
   {
    "duration": 16,
    "start_time": "2023-07-26T18:09:20.725Z"
   },
   {
    "duration": 8,
    "start_time": "2023-07-26T18:09:20.743Z"
   },
   {
    "duration": 288,
    "start_time": "2023-07-26T18:09:20.752Z"
   },
   {
    "duration": 4,
    "start_time": "2023-07-26T18:09:21.041Z"
   },
   {
    "duration": 110,
    "start_time": "2023-07-26T18:09:21.046Z"
   },
   {
    "duration": 125,
    "start_time": "2023-07-26T18:09:21.158Z"
   },
   {
    "duration": 4,
    "start_time": "2023-07-26T18:09:21.284Z"
   },
   {
    "duration": 15,
    "start_time": "2023-07-26T18:09:21.289Z"
   },
   {
    "duration": 7,
    "start_time": "2023-07-26T18:09:21.305Z"
   },
   {
    "duration": 100,
    "start_time": "2023-07-26T18:09:53.408Z"
   },
   {
    "duration": 98,
    "start_time": "2023-07-26T18:09:58.908Z"
   },
   {
    "duration": 4,
    "start_time": "2023-07-26T18:11:06.170Z"
   },
   {
    "duration": 264,
    "start_time": "2023-07-26T18:11:14.199Z"
   },
   {
    "duration": 98,
    "start_time": "2023-07-26T18:11:17.470Z"
   },
   {
    "duration": 139,
    "start_time": "2023-07-26T18:11:56.431Z"
   },
   {
    "duration": 95,
    "start_time": "2023-07-26T18:12:33.335Z"
   },
   {
    "duration": 99,
    "start_time": "2023-07-26T18:14:34.790Z"
   },
   {
    "duration": 106,
    "start_time": "2023-07-26T18:16:47.491Z"
   },
   {
    "duration": 111,
    "start_time": "2023-07-26T18:17:05.002Z"
   },
   {
    "duration": 5,
    "start_time": "2023-07-26T18:31:34.809Z"
   },
   {
    "duration": 5,
    "start_time": "2023-07-26T18:33:08.253Z"
   },
   {
    "duration": 7,
    "start_time": "2023-07-26T18:34:00.965Z"
   },
   {
    "duration": 6,
    "start_time": "2023-07-26T18:34:23.890Z"
   },
   {
    "duration": 135,
    "start_time": "2023-07-26T18:35:10.266Z"
   },
   {
    "duration": 158,
    "start_time": "2023-07-26T18:35:54.551Z"
   },
   {
    "duration": 140,
    "start_time": "2023-07-26T18:36:01.957Z"
   },
   {
    "duration": 4,
    "start_time": "2023-07-26T18:39:00.608Z"
   },
   {
    "duration": 3,
    "start_time": "2023-07-26T18:39:37.512Z"
   },
   {
    "duration": 99,
    "start_time": "2023-07-26T18:43:15.952Z"
   },
   {
    "duration": 108,
    "start_time": "2023-07-26T18:44:10.529Z"
   },
   {
    "duration": 118,
    "start_time": "2023-07-26T18:44:58.608Z"
   },
   {
    "duration": 119,
    "start_time": "2023-07-26T18:46:36.923Z"
   },
   {
    "duration": 96,
    "start_time": "2023-07-26T18:47:22.714Z"
   },
   {
    "duration": 6,
    "start_time": "2023-07-26T18:47:27.917Z"
   },
   {
    "duration": 188,
    "start_time": "2023-07-26T18:47:29.499Z"
   },
   {
    "duration": 44,
    "start_time": "2023-07-27T04:53:42.837Z"
   },
   {
    "duration": 1188,
    "start_time": "2023-07-27T04:53:52.951Z"
   },
   {
    "duration": 3,
    "start_time": "2023-07-27T04:53:54.141Z"
   },
   {
    "duration": 86,
    "start_time": "2023-07-27T04:53:54.145Z"
   },
   {
    "duration": 94,
    "start_time": "2023-07-27T04:53:54.232Z"
   },
   {
    "duration": 63,
    "start_time": "2023-07-27T04:53:54.327Z"
   },
   {
    "duration": 4,
    "start_time": "2023-07-27T04:53:54.391Z"
   },
   {
    "duration": 8,
    "start_time": "2023-07-27T04:53:54.396Z"
   },
   {
    "duration": 5,
    "start_time": "2023-07-27T04:53:54.405Z"
   },
   {
    "duration": 5,
    "start_time": "2023-07-27T04:53:54.411Z"
   },
   {
    "duration": 7,
    "start_time": "2023-07-27T04:53:54.418Z"
   },
   {
    "duration": 6,
    "start_time": "2023-07-27T04:53:54.427Z"
   },
   {
    "duration": 5,
    "start_time": "2023-07-27T04:53:54.434Z"
   },
   {
    "duration": 7,
    "start_time": "2023-07-27T04:53:54.440Z"
   },
   {
    "duration": 4,
    "start_time": "2023-07-27T04:53:54.449Z"
   },
   {
    "duration": 5,
    "start_time": "2023-07-27T04:53:54.454Z"
   },
   {
    "duration": 8,
    "start_time": "2023-07-27T04:53:54.460Z"
   },
   {
    "duration": 4,
    "start_time": "2023-07-27T04:53:54.469Z"
   },
   {
    "duration": 4,
    "start_time": "2023-07-27T04:53:54.499Z"
   },
   {
    "duration": 17,
    "start_time": "2023-07-27T04:53:54.504Z"
   },
   {
    "duration": 5,
    "start_time": "2023-07-27T04:53:54.522Z"
   },
   {
    "duration": 3,
    "start_time": "2023-07-27T04:53:54.529Z"
   },
   {
    "duration": 7,
    "start_time": "2023-07-27T04:53:54.533Z"
   },
   {
    "duration": 10,
    "start_time": "2023-07-27T04:53:54.541Z"
   },
   {
    "duration": 9,
    "start_time": "2023-07-27T04:53:54.552Z"
   },
   {
    "duration": 4,
    "start_time": "2023-07-27T04:53:54.563Z"
   },
   {
    "duration": 6,
    "start_time": "2023-07-27T04:53:54.599Z"
   },
   {
    "duration": 8,
    "start_time": "2023-07-27T04:53:54.606Z"
   },
   {
    "duration": 3,
    "start_time": "2023-07-27T04:53:54.617Z"
   },
   {
    "duration": 4,
    "start_time": "2023-07-27T04:53:54.621Z"
   },
   {
    "duration": 6,
    "start_time": "2023-07-27T04:53:54.626Z"
   },
   {
    "duration": 6,
    "start_time": "2023-07-27T04:53:54.633Z"
   },
   {
    "duration": 6,
    "start_time": "2023-07-27T04:53:54.640Z"
   },
   {
    "duration": 147,
    "start_time": "2023-07-27T04:53:54.647Z"
   },
   {
    "duration": 6,
    "start_time": "2023-07-27T04:53:54.796Z"
   },
   {
    "duration": 119,
    "start_time": "2023-07-27T04:53:54.803Z"
   },
   {
    "duration": 135,
    "start_time": "2023-07-27T04:53:54.923Z"
   },
   {
    "duration": 8,
    "start_time": "2023-07-27T04:53:55.059Z"
   },
   {
    "duration": 7,
    "start_time": "2023-07-27T04:53:55.068Z"
   },
   {
    "duration": 11,
    "start_time": "2023-07-27T04:53:55.076Z"
   },
   {
    "duration": 11,
    "start_time": "2023-07-27T04:53:55.089Z"
   },
   {
    "duration": 360,
    "start_time": "2023-07-27T05:02:32.814Z"
   },
   {
    "duration": 255,
    "start_time": "2023-07-27T05:02:49.934Z"
   },
   {
    "duration": 201,
    "start_time": "2023-07-27T05:04:05.647Z"
   },
   {
    "duration": 201,
    "start_time": "2023-07-27T05:04:13.442Z"
   },
   {
    "duration": 205,
    "start_time": "2023-07-27T05:06:42.052Z"
   },
   {
    "duration": 215,
    "start_time": "2023-07-27T05:06:57.801Z"
   },
   {
    "duration": 258,
    "start_time": "2023-07-27T05:07:38.481Z"
   },
   {
    "duration": 232,
    "start_time": "2023-07-27T05:09:42.387Z"
   },
   {
    "duration": 222,
    "start_time": "2023-07-27T05:09:55.155Z"
   },
   {
    "duration": 254,
    "start_time": "2023-07-27T05:10:05.304Z"
   },
   {
    "duration": 218,
    "start_time": "2023-07-27T05:10:11.033Z"
   },
   {
    "duration": 236,
    "start_time": "2023-07-27T05:10:32.158Z"
   },
   {
    "duration": 71,
    "start_time": "2023-07-27T05:10:44.242Z"
   },
   {
    "duration": 233,
    "start_time": "2023-07-27T05:10:50.593Z"
   },
   {
    "duration": 88,
    "start_time": "2023-07-27T05:12:56.507Z"
   },
   {
    "duration": 16,
    "start_time": "2023-07-27T05:13:38.823Z"
   },
   {
    "duration": 189,
    "start_time": "2023-07-27T05:14:09.921Z"
   },
   {
    "duration": 226,
    "start_time": "2023-07-27T05:14:15.834Z"
   },
   {
    "duration": 251,
    "start_time": "2023-07-27T05:14:52.398Z"
   },
   {
    "duration": 268,
    "start_time": "2023-07-27T05:16:08.744Z"
   },
   {
    "duration": 183,
    "start_time": "2023-07-27T05:16:21.921Z"
   },
   {
    "duration": 199,
    "start_time": "2023-07-27T05:16:57.144Z"
   },
   {
    "duration": 299,
    "start_time": "2023-07-27T05:17:08.183Z"
   },
   {
    "duration": 206,
    "start_time": "2023-07-27T05:17:44.820Z"
   },
   {
    "duration": 216,
    "start_time": "2023-07-27T05:20:15.828Z"
   },
   {
    "duration": 209,
    "start_time": "2023-07-27T05:21:06.652Z"
   },
   {
    "duration": 197,
    "start_time": "2023-07-27T05:21:52.128Z"
   },
   {
    "duration": 1175,
    "start_time": "2023-07-27T05:23:41.727Z"
   },
   {
    "duration": 3,
    "start_time": "2023-07-27T05:23:42.904Z"
   },
   {
    "duration": 63,
    "start_time": "2023-07-27T05:23:42.909Z"
   },
   {
    "duration": 49,
    "start_time": "2023-07-27T05:23:42.973Z"
   },
   {
    "duration": 29,
    "start_time": "2023-07-27T05:23:43.023Z"
   },
   {
    "duration": 6,
    "start_time": "2023-07-27T05:23:43.054Z"
   },
   {
    "duration": 22,
    "start_time": "2023-07-27T05:23:43.062Z"
   },
   {
    "duration": 10,
    "start_time": "2023-07-27T05:23:43.086Z"
   },
   {
    "duration": 10,
    "start_time": "2023-07-27T05:23:43.097Z"
   },
   {
    "duration": 20,
    "start_time": "2023-07-27T05:23:43.111Z"
   },
   {
    "duration": 19,
    "start_time": "2023-07-27T05:23:43.133Z"
   },
   {
    "duration": 24,
    "start_time": "2023-07-27T05:23:43.153Z"
   },
   {
    "duration": 12,
    "start_time": "2023-07-27T05:23:43.180Z"
   },
   {
    "duration": 26,
    "start_time": "2023-07-27T05:23:43.194Z"
   },
   {
    "duration": 23,
    "start_time": "2023-07-27T05:23:43.222Z"
   },
   {
    "duration": 40,
    "start_time": "2023-07-27T05:23:43.247Z"
   },
   {
    "duration": 8,
    "start_time": "2023-07-27T05:23:43.289Z"
   },
   {
    "duration": 16,
    "start_time": "2023-07-27T05:23:43.299Z"
   },
   {
    "duration": 25,
    "start_time": "2023-07-27T05:23:43.317Z"
   },
   {
    "duration": 11,
    "start_time": "2023-07-27T05:23:43.343Z"
   },
   {
    "duration": 23,
    "start_time": "2023-07-27T05:23:43.356Z"
   },
   {
    "duration": 15,
    "start_time": "2023-07-27T05:23:43.381Z"
   },
   {
    "duration": 30,
    "start_time": "2023-07-27T05:23:43.397Z"
   },
   {
    "duration": 11,
    "start_time": "2023-07-27T05:23:43.429Z"
   },
   {
    "duration": 7,
    "start_time": "2023-07-27T05:23:43.442Z"
   },
   {
    "duration": 8,
    "start_time": "2023-07-27T05:23:43.451Z"
   },
   {
    "duration": 15,
    "start_time": "2023-07-27T05:23:43.461Z"
   },
   {
    "duration": 14,
    "start_time": "2023-07-27T05:23:43.479Z"
   },
   {
    "duration": 31,
    "start_time": "2023-07-27T05:23:43.495Z"
   },
   {
    "duration": 25,
    "start_time": "2023-07-27T05:23:43.528Z"
   },
   {
    "duration": 31,
    "start_time": "2023-07-27T05:23:43.555Z"
   },
   {
    "duration": 10,
    "start_time": "2023-07-27T05:23:43.588Z"
   },
   {
    "duration": 270,
    "start_time": "2023-07-27T05:23:43.600Z"
   },
   {
    "duration": 6,
    "start_time": "2023-07-27T05:23:43.871Z"
   },
   {
    "duration": 133,
    "start_time": "2023-07-27T05:23:43.879Z"
   },
   {
    "duration": 152,
    "start_time": "2023-07-27T05:23:44.013Z"
   },
   {
    "duration": 4,
    "start_time": "2023-07-27T05:23:44.167Z"
   },
   {
    "duration": 17,
    "start_time": "2023-07-27T05:23:44.174Z"
   },
   {
    "duration": 3,
    "start_time": "2023-07-27T05:23:44.199Z"
   },
   {
    "duration": 4,
    "start_time": "2023-07-27T05:25:51.980Z"
   },
   {
    "duration": 1175,
    "start_time": "2023-07-27T05:28:49.288Z"
   },
   {
    "duration": 4,
    "start_time": "2023-07-27T05:28:50.465Z"
   },
   {
    "duration": 54,
    "start_time": "2023-07-27T05:28:50.470Z"
   },
   {
    "duration": 56,
    "start_time": "2023-07-27T05:28:50.526Z"
   },
   {
    "duration": 34,
    "start_time": "2023-07-27T05:28:50.584Z"
   },
   {
    "duration": 5,
    "start_time": "2023-07-27T05:28:50.620Z"
   },
   {
    "duration": 23,
    "start_time": "2023-07-27T05:28:50.626Z"
   },
   {
    "duration": 7,
    "start_time": "2023-07-27T05:28:50.651Z"
   },
   {
    "duration": 12,
    "start_time": "2023-07-27T05:28:50.659Z"
   },
   {
    "duration": 14,
    "start_time": "2023-07-27T05:28:50.674Z"
   },
   {
    "duration": 14,
    "start_time": "2023-07-27T05:28:50.690Z"
   },
   {
    "duration": 6,
    "start_time": "2023-07-27T05:28:50.706Z"
   },
   {
    "duration": 16,
    "start_time": "2023-07-27T05:28:50.714Z"
   },
   {
    "duration": 6,
    "start_time": "2023-07-27T05:28:50.731Z"
   },
   {
    "duration": 16,
    "start_time": "2023-07-27T05:28:50.738Z"
   },
   {
    "duration": 35,
    "start_time": "2023-07-27T05:28:50.755Z"
   },
   {
    "duration": 16,
    "start_time": "2023-07-27T05:28:50.791Z"
   },
   {
    "duration": 14,
    "start_time": "2023-07-27T05:28:50.808Z"
   },
   {
    "duration": 22,
    "start_time": "2023-07-27T05:28:50.824Z"
   },
   {
    "duration": 10,
    "start_time": "2023-07-27T05:28:50.847Z"
   },
   {
    "duration": 12,
    "start_time": "2023-07-27T05:28:50.858Z"
   },
   {
    "duration": 17,
    "start_time": "2023-07-27T05:28:50.871Z"
   },
   {
    "duration": 36,
    "start_time": "2023-07-27T05:28:50.889Z"
   },
   {
    "duration": 27,
    "start_time": "2023-07-27T05:28:50.926Z"
   },
   {
    "duration": 6,
    "start_time": "2023-07-27T05:28:50.954Z"
   },
   {
    "duration": 12,
    "start_time": "2023-07-27T05:28:50.961Z"
   },
   {
    "duration": 24,
    "start_time": "2023-07-27T05:28:50.974Z"
   },
   {
    "duration": 13,
    "start_time": "2023-07-27T05:28:51.001Z"
   },
   {
    "duration": 17,
    "start_time": "2023-07-27T05:28:51.015Z"
   },
   {
    "duration": 11,
    "start_time": "2023-07-27T05:28:51.033Z"
   },
   {
    "duration": 8,
    "start_time": "2023-07-27T05:28:51.045Z"
   },
   {
    "duration": 6,
    "start_time": "2023-07-27T05:28:51.054Z"
   },
   {
    "duration": 16,
    "start_time": "2023-07-27T05:28:51.061Z"
   },
   {
    "duration": 207,
    "start_time": "2023-07-27T05:28:51.078Z"
   },
   {
    "duration": 5,
    "start_time": "2023-07-27T05:28:51.286Z"
   },
   {
    "duration": 120,
    "start_time": "2023-07-27T05:28:51.299Z"
   },
   {
    "duration": 137,
    "start_time": "2023-07-27T05:28:51.420Z"
   },
   {
    "duration": 3,
    "start_time": "2023-07-27T05:28:51.559Z"
   },
   {
    "duration": 25,
    "start_time": "2023-07-27T05:28:51.563Z"
   },
   {
    "duration": 14,
    "start_time": "2023-07-27T05:28:51.589Z"
   },
   {
    "duration": 112,
    "start_time": "2023-07-27T05:32:41.725Z"
   },
   {
    "duration": 1375,
    "start_time": "2023-07-28T05:01:18.370Z"
   },
   {
    "duration": 3,
    "start_time": "2023-07-28T05:01:19.748Z"
   },
   {
    "duration": 113,
    "start_time": "2023-07-28T05:01:19.753Z"
   },
   {
    "duration": 102,
    "start_time": "2023-07-28T05:01:19.868Z"
   },
   {
    "duration": 88,
    "start_time": "2023-07-28T05:01:19.971Z"
   },
   {
    "duration": 6,
    "start_time": "2023-07-28T05:01:20.061Z"
   },
   {
    "duration": 28,
    "start_time": "2023-07-28T05:01:20.069Z"
   },
   {
    "duration": 21,
    "start_time": "2023-07-28T05:01:20.101Z"
   },
   {
    "duration": 9,
    "start_time": "2023-07-28T05:01:20.124Z"
   },
   {
    "duration": 16,
    "start_time": "2023-07-28T05:01:20.135Z"
   },
   {
    "duration": 16,
    "start_time": "2023-07-28T05:01:20.152Z"
   },
   {
    "duration": 63,
    "start_time": "2023-07-28T05:01:20.170Z"
   },
   {
    "duration": 28,
    "start_time": "2023-07-28T05:01:20.235Z"
   },
   {
    "duration": 33,
    "start_time": "2023-07-28T05:01:20.265Z"
   },
   {
    "duration": 85,
    "start_time": "2023-07-28T05:01:20.300Z"
   },
   {
    "duration": 91,
    "start_time": "2023-07-28T05:01:20.387Z"
   },
   {
    "duration": 77,
    "start_time": "2023-07-28T05:01:20.480Z"
   },
   {
    "duration": 50,
    "start_time": "2023-07-28T05:01:20.559Z"
   },
   {
    "duration": 98,
    "start_time": "2023-07-28T05:01:20.610Z"
   },
   {
    "duration": 34,
    "start_time": "2023-07-28T05:01:20.709Z"
   },
   {
    "duration": 74,
    "start_time": "2023-07-28T05:01:20.745Z"
   },
   {
    "duration": 85,
    "start_time": "2023-07-28T05:01:20.820Z"
   },
   {
    "duration": 39,
    "start_time": "2023-07-28T05:01:20.907Z"
   },
   {
    "duration": 11,
    "start_time": "2023-07-28T05:01:20.948Z"
   },
   {
    "duration": 16,
    "start_time": "2023-07-28T05:01:20.960Z"
   },
   {
    "duration": 57,
    "start_time": "2023-07-28T05:01:20.977Z"
   },
   {
    "duration": 20,
    "start_time": "2023-07-28T05:01:21.036Z"
   },
   {
    "duration": 28,
    "start_time": "2023-07-28T05:01:21.061Z"
   },
   {
    "duration": 20,
    "start_time": "2023-07-28T05:01:21.096Z"
   },
   {
    "duration": 45,
    "start_time": "2023-07-28T05:01:21.121Z"
   },
   {
    "duration": 71,
    "start_time": "2023-07-28T05:01:21.168Z"
   },
   {
    "duration": 65,
    "start_time": "2023-07-28T05:01:21.241Z"
   },
   {
    "duration": 7,
    "start_time": "2023-07-28T05:01:21.308Z"
   },
   {
    "duration": 340,
    "start_time": "2023-07-28T05:01:21.316Z"
   },
   {
    "duration": 5,
    "start_time": "2023-07-28T05:01:21.658Z"
   },
   {
    "duration": 188,
    "start_time": "2023-07-28T05:01:21.664Z"
   },
   {
    "duration": 183,
    "start_time": "2023-07-28T05:01:21.854Z"
   },
   {
    "duration": 4,
    "start_time": "2023-07-28T05:01:22.038Z"
   },
   {
    "duration": 6,
    "start_time": "2023-07-28T05:01:22.044Z"
   },
   {
    "duration": 5,
    "start_time": "2023-07-28T05:01:22.052Z"
   },
   {
    "duration": 9,
    "start_time": "2023-07-28T05:12:08.711Z"
   },
   {
    "duration": 8,
    "start_time": "2023-07-28T05:12:26.909Z"
   },
   {
    "duration": 116,
    "start_time": "2023-07-28T05:15:12.089Z"
   },
   {
    "duration": 7,
    "start_time": "2023-07-28T05:16:37.653Z"
   },
   {
    "duration": 96,
    "start_time": "2023-07-28T05:17:50.100Z"
   },
   {
    "duration": 70,
    "start_time": "2023-07-28T05:18:06.617Z"
   },
   {
    "duration": 83,
    "start_time": "2023-07-28T05:19:33.160Z"
   },
   {
    "duration": 88,
    "start_time": "2023-07-28T05:27:28.517Z"
   },
   {
    "duration": 137,
    "start_time": "2023-07-28T05:46:08.130Z"
   },
   {
    "duration": 151,
    "start_time": "2023-07-28T05:46:38.538Z"
   },
   {
    "duration": 76,
    "start_time": "2023-07-28T05:48:09.621Z"
   },
   {
    "duration": 113,
    "start_time": "2023-07-28T05:48:18.249Z"
   },
   {
    "duration": 74,
    "start_time": "2023-07-28T05:49:04.819Z"
   },
   {
    "duration": 123,
    "start_time": "2023-07-28T05:50:25.062Z"
   },
   {
    "duration": 109,
    "start_time": "2023-07-28T05:50:33.824Z"
   },
   {
    "duration": 92,
    "start_time": "2023-07-28T05:50:43.066Z"
   },
   {
    "duration": 111,
    "start_time": "2023-07-28T05:50:49.245Z"
   },
   {
    "duration": 90,
    "start_time": "2023-07-28T05:50:57.593Z"
   },
   {
    "duration": 107,
    "start_time": "2023-07-28T05:51:21.434Z"
   },
   {
    "duration": 77,
    "start_time": "2023-07-28T05:51:41.791Z"
   },
   {
    "duration": 13,
    "start_time": "2023-07-28T05:52:14.723Z"
   },
   {
    "duration": 81,
    "start_time": "2023-07-28T05:52:25.669Z"
   },
   {
    "duration": 98,
    "start_time": "2023-07-28T05:52:39.002Z"
   },
   {
    "duration": 92,
    "start_time": "2023-07-28T05:53:27.001Z"
   },
   {
    "duration": 98,
    "start_time": "2023-07-28T05:56:07.425Z"
   },
   {
    "duration": 82,
    "start_time": "2023-07-28T05:56:31.511Z"
   },
   {
    "duration": 91,
    "start_time": "2023-07-28T05:58:47.930Z"
   },
   {
    "duration": 88,
    "start_time": "2023-07-28T05:58:53.366Z"
   },
   {
    "duration": 1389,
    "start_time": "2023-07-28T05:59:22.816Z"
   },
   {
    "duration": 5,
    "start_time": "2023-07-28T05:59:24.208Z"
   },
   {
    "duration": 79,
    "start_time": "2023-07-28T05:59:24.215Z"
   },
   {
    "duration": 54,
    "start_time": "2023-07-28T05:59:24.302Z"
   },
   {
    "duration": 50,
    "start_time": "2023-07-28T05:59:24.359Z"
   },
   {
    "duration": 8,
    "start_time": "2023-07-28T05:59:24.411Z"
   },
   {
    "duration": 9,
    "start_time": "2023-07-28T05:59:24.421Z"
   },
   {
    "duration": 10,
    "start_time": "2023-07-28T05:59:24.433Z"
   },
   {
    "duration": 8,
    "start_time": "2023-07-28T05:59:24.445Z"
   },
   {
    "duration": 15,
    "start_time": "2023-07-28T05:59:24.455Z"
   },
   {
    "duration": 33,
    "start_time": "2023-07-28T05:59:24.472Z"
   },
   {
    "duration": 12,
    "start_time": "2023-07-28T05:59:24.507Z"
   },
   {
    "duration": 9,
    "start_time": "2023-07-28T05:59:24.525Z"
   },
   {
    "duration": 12,
    "start_time": "2023-07-28T05:59:24.537Z"
   },
   {
    "duration": 18,
    "start_time": "2023-07-28T05:59:24.551Z"
   },
   {
    "duration": 21,
    "start_time": "2023-07-28T05:59:24.570Z"
   },
   {
    "duration": 19,
    "start_time": "2023-07-28T05:59:24.595Z"
   },
   {
    "duration": 10,
    "start_time": "2023-07-28T05:59:24.619Z"
   },
   {
    "duration": 30,
    "start_time": "2023-07-28T05:59:24.631Z"
   },
   {
    "duration": 9,
    "start_time": "2023-07-28T05:59:24.662Z"
   },
   {
    "duration": 14,
    "start_time": "2023-07-28T05:59:24.672Z"
   },
   {
    "duration": 13,
    "start_time": "2023-07-28T05:59:24.688Z"
   },
   {
    "duration": 40,
    "start_time": "2023-07-28T05:59:24.703Z"
   },
   {
    "duration": 15,
    "start_time": "2023-07-28T05:59:24.744Z"
   },
   {
    "duration": 7,
    "start_time": "2023-07-28T05:59:24.761Z"
   },
   {
    "duration": 16,
    "start_time": "2023-07-28T05:59:24.770Z"
   },
   {
    "duration": 15,
    "start_time": "2023-07-28T05:59:24.792Z"
   },
   {
    "duration": 12,
    "start_time": "2023-07-28T05:59:24.809Z"
   },
   {
    "duration": 16,
    "start_time": "2023-07-28T05:59:24.823Z"
   },
   {
    "duration": 7,
    "start_time": "2023-07-28T05:59:24.841Z"
   },
   {
    "duration": 7,
    "start_time": "2023-07-28T05:59:24.851Z"
   },
   {
    "duration": 95,
    "start_time": "2023-07-28T05:59:24.859Z"
   },
   {
    "duration": 280,
    "start_time": "2023-07-28T05:59:24.956Z"
   },
   {
    "duration": 5,
    "start_time": "2023-07-28T05:59:25.237Z"
   },
   {
    "duration": 206,
    "start_time": "2023-07-28T05:59:25.244Z"
   },
   {
    "duration": 193,
    "start_time": "2023-07-28T05:59:25.452Z"
   },
   {
    "duration": 5,
    "start_time": "2023-07-28T05:59:25.647Z"
   },
   {
    "duration": 11,
    "start_time": "2023-07-28T05:59:25.654Z"
   },
   {
    "duration": 15,
    "start_time": "2023-07-28T05:59:25.667Z"
   },
   {
    "duration": 207,
    "start_time": "2023-07-28T06:02:14.800Z"
   },
   {
    "duration": 115,
    "start_time": "2023-07-28T06:02:27.728Z"
   },
   {
    "duration": 107,
    "start_time": "2023-07-28T06:03:26.300Z"
   },
   {
    "duration": 139,
    "start_time": "2023-07-28T06:03:41.157Z"
   },
   {
    "duration": 111,
    "start_time": "2023-07-28T06:03:58.422Z"
   },
   {
    "duration": 423,
    "start_time": "2023-07-28T06:04:14.602Z"
   },
   {
    "duration": 96,
    "start_time": "2023-07-28T06:04:21.410Z"
   },
   {
    "duration": 124,
    "start_time": "2023-07-28T06:05:20.442Z"
   },
   {
    "duration": 98,
    "start_time": "2023-07-28T06:05:43.571Z"
   },
   {
    "duration": 98,
    "start_time": "2023-07-28T06:05:56.099Z"
   },
   {
    "duration": 1314,
    "start_time": "2023-07-28T06:06:15.195Z"
   },
   {
    "duration": 11,
    "start_time": "2023-07-28T06:06:16.512Z"
   },
   {
    "duration": 84,
    "start_time": "2023-07-28T06:06:16.524Z"
   },
   {
    "duration": 64,
    "start_time": "2023-07-28T06:06:16.610Z"
   },
   {
    "duration": 43,
    "start_time": "2023-07-28T06:06:16.685Z"
   },
   {
    "duration": 12,
    "start_time": "2023-07-28T06:06:16.730Z"
   },
   {
    "duration": 23,
    "start_time": "2023-07-28T06:06:16.744Z"
   },
   {
    "duration": 55,
    "start_time": "2023-07-28T06:06:16.768Z"
   },
   {
    "duration": 14,
    "start_time": "2023-07-28T06:06:16.831Z"
   },
   {
    "duration": 22,
    "start_time": "2023-07-28T06:06:16.847Z"
   },
   {
    "duration": 51,
    "start_time": "2023-07-28T06:06:16.870Z"
   },
   {
    "duration": 15,
    "start_time": "2023-07-28T06:06:16.926Z"
   },
   {
    "duration": 14,
    "start_time": "2023-07-28T06:06:16.944Z"
   },
   {
    "duration": 25,
    "start_time": "2023-07-28T06:06:16.963Z"
   },
   {
    "duration": 42,
    "start_time": "2023-07-28T06:06:16.991Z"
   },
   {
    "duration": 22,
    "start_time": "2023-07-28T06:06:17.035Z"
   },
   {
    "duration": 28,
    "start_time": "2023-07-28T06:06:17.059Z"
   },
   {
    "duration": 31,
    "start_time": "2023-07-28T06:06:17.089Z"
   },
   {
    "duration": 24,
    "start_time": "2023-07-28T06:06:17.122Z"
   },
   {
    "duration": 6,
    "start_time": "2023-07-28T06:06:17.148Z"
   },
   {
    "duration": 14,
    "start_time": "2023-07-28T06:06:17.156Z"
   },
   {
    "duration": 61,
    "start_time": "2023-07-28T06:06:17.172Z"
   },
   {
    "duration": 22,
    "start_time": "2023-07-28T06:06:17.235Z"
   },
   {
    "duration": 15,
    "start_time": "2023-07-28T06:06:17.258Z"
   },
   {
    "duration": 13,
    "start_time": "2023-07-28T06:06:17.281Z"
   },
   {
    "duration": 27,
    "start_time": "2023-07-28T06:06:17.301Z"
   },
   {
    "duration": 6,
    "start_time": "2023-07-28T06:06:17.334Z"
   },
   {
    "duration": 15,
    "start_time": "2023-07-28T06:06:17.341Z"
   },
   {
    "duration": 7,
    "start_time": "2023-07-28T06:06:17.358Z"
   },
   {
    "duration": 6,
    "start_time": "2023-07-28T06:06:17.366Z"
   },
   {
    "duration": 18,
    "start_time": "2023-07-28T06:06:17.373Z"
   },
   {
    "duration": 108,
    "start_time": "2023-07-28T06:06:17.393Z"
   },
   {
    "duration": 282,
    "start_time": "2023-07-28T06:06:17.505Z"
   },
   {
    "duration": 12,
    "start_time": "2023-07-28T06:06:17.789Z"
   },
   {
    "duration": 154,
    "start_time": "2023-07-28T06:06:17.805Z"
   },
   {
    "duration": 200,
    "start_time": "2023-07-28T06:06:17.961Z"
   },
   {
    "duration": 4,
    "start_time": "2023-07-28T06:06:18.163Z"
   },
   {
    "duration": 27,
    "start_time": "2023-07-28T06:06:18.168Z"
   },
   {
    "duration": 25,
    "start_time": "2023-07-28T06:06:18.196Z"
   },
   {
    "duration": 81,
    "start_time": "2023-07-28T06:24:06.416Z"
   },
   {
    "duration": 10,
    "start_time": "2023-07-28T06:29:03.639Z"
   },
   {
    "duration": 149,
    "start_time": "2023-07-28T06:38:00.822Z"
   },
   {
    "duration": 7,
    "start_time": "2023-07-28T06:46:37.818Z"
   },
   {
    "duration": 8,
    "start_time": "2023-07-28T06:49:38.706Z"
   },
   {
    "duration": 1196,
    "start_time": "2023-07-28T06:58:10.943Z"
   },
   {
    "duration": 3,
    "start_time": "2023-07-28T06:58:12.141Z"
   },
   {
    "duration": 64,
    "start_time": "2023-07-28T06:58:12.146Z"
   },
   {
    "duration": 53,
    "start_time": "2023-07-28T06:58:12.213Z"
   },
   {
    "duration": 44,
    "start_time": "2023-07-28T06:58:12.268Z"
   },
   {
    "duration": 7,
    "start_time": "2023-07-28T06:58:12.313Z"
   },
   {
    "duration": 8,
    "start_time": "2023-07-28T06:58:12.321Z"
   },
   {
    "duration": 6,
    "start_time": "2023-07-28T06:58:12.330Z"
   },
   {
    "duration": 6,
    "start_time": "2023-07-28T06:58:12.338Z"
   },
   {
    "duration": 5,
    "start_time": "2023-07-28T06:58:12.347Z"
   },
   {
    "duration": 37,
    "start_time": "2023-07-28T06:58:12.354Z"
   },
   {
    "duration": 11,
    "start_time": "2023-07-28T06:58:12.394Z"
   },
   {
    "duration": 11,
    "start_time": "2023-07-28T06:58:12.407Z"
   },
   {
    "duration": 8,
    "start_time": "2023-07-28T06:58:12.420Z"
   },
   {
    "duration": 10,
    "start_time": "2023-07-28T06:58:12.429Z"
   },
   {
    "duration": 22,
    "start_time": "2023-07-28T06:58:12.440Z"
   },
   {
    "duration": 33,
    "start_time": "2023-07-28T06:58:12.464Z"
   },
   {
    "duration": 8,
    "start_time": "2023-07-28T06:58:12.506Z"
   },
   {
    "duration": 6,
    "start_time": "2023-07-28T06:58:12.515Z"
   },
   {
    "duration": 14,
    "start_time": "2023-07-28T06:58:12.523Z"
   },
   {
    "duration": 12,
    "start_time": "2023-07-28T06:58:12.538Z"
   },
   {
    "duration": 5,
    "start_time": "2023-07-28T06:58:12.551Z"
   },
   {
    "duration": 8,
    "start_time": "2023-07-28T06:58:12.557Z"
   },
   {
    "duration": 27,
    "start_time": "2023-07-28T06:58:12.566Z"
   },
   {
    "duration": 19,
    "start_time": "2023-07-28T06:58:12.594Z"
   },
   {
    "duration": 3,
    "start_time": "2023-07-28T06:58:12.615Z"
   },
   {
    "duration": 9,
    "start_time": "2023-07-28T06:58:12.620Z"
   },
   {
    "duration": 6,
    "start_time": "2023-07-28T06:58:12.631Z"
   },
   {
    "duration": 90,
    "start_time": "2023-07-28T06:58:12.638Z"
   },
   {
    "duration": 270,
    "start_time": "2023-07-28T06:58:12.730Z"
   },
   {
    "duration": 5,
    "start_time": "2023-07-28T06:58:13.006Z"
   },
   {
    "duration": 143,
    "start_time": "2023-07-28T06:58:13.013Z"
   },
   {
    "duration": 184,
    "start_time": "2023-07-28T06:58:13.158Z"
   },
   {
    "duration": 5,
    "start_time": "2023-07-28T06:58:13.343Z"
   },
   {
    "duration": 8,
    "start_time": "2023-07-28T06:58:13.349Z"
   },
   {
    "duration": 8,
    "start_time": "2023-07-28T06:58:13.359Z"
   },
   {
    "duration": 82,
    "start_time": "2023-07-28T06:59:05.946Z"
   },
   {
    "duration": 5,
    "start_time": "2023-07-28T07:16:47.098Z"
   },
   {
    "duration": 9,
    "start_time": "2023-07-28T07:17:20.648Z"
   },
   {
    "duration": 18,
    "start_time": "2023-07-28T07:18:42.456Z"
   },
   {
    "duration": 13,
    "start_time": "2023-07-28T07:24:11.899Z"
   },
   {
    "duration": 16,
    "start_time": "2023-07-28T07:24:39.969Z"
   },
   {
    "duration": 15,
    "start_time": "2023-07-28T07:25:18.992Z"
   },
   {
    "duration": 20,
    "start_time": "2023-07-28T07:34:44.665Z"
   },
   {
    "duration": 10,
    "start_time": "2023-07-28T07:35:14.553Z"
   },
   {
    "duration": 15,
    "start_time": "2023-07-28T07:35:36.366Z"
   },
   {
    "duration": 1174,
    "start_time": "2023-07-28T07:35:47.693Z"
   },
   {
    "duration": 3,
    "start_time": "2023-07-28T07:35:48.869Z"
   },
   {
    "duration": 53,
    "start_time": "2023-07-28T07:35:48.877Z"
   },
   {
    "duration": 56,
    "start_time": "2023-07-28T07:35:48.932Z"
   },
   {
    "duration": 26,
    "start_time": "2023-07-28T07:35:48.990Z"
   },
   {
    "duration": 5,
    "start_time": "2023-07-28T07:35:49.018Z"
   },
   {
    "duration": 6,
    "start_time": "2023-07-28T07:35:49.025Z"
   },
   {
    "duration": 6,
    "start_time": "2023-07-28T07:35:49.033Z"
   },
   {
    "duration": 4,
    "start_time": "2023-07-28T07:35:49.041Z"
   },
   {
    "duration": 4,
    "start_time": "2023-07-28T07:35:49.048Z"
   },
   {
    "duration": 33,
    "start_time": "2023-07-28T07:35:49.054Z"
   },
   {
    "duration": 5,
    "start_time": "2023-07-28T07:35:49.089Z"
   },
   {
    "duration": 15,
    "start_time": "2023-07-28T07:35:49.095Z"
   },
   {
    "duration": 10,
    "start_time": "2023-07-28T07:35:49.112Z"
   },
   {
    "duration": 9,
    "start_time": "2023-07-28T07:35:49.123Z"
   },
   {
    "duration": 24,
    "start_time": "2023-07-28T07:35:49.133Z"
   },
   {
    "duration": 4,
    "start_time": "2023-07-28T07:35:49.159Z"
   },
   {
    "duration": 32,
    "start_time": "2023-07-28T07:35:49.165Z"
   },
   {
    "duration": 15,
    "start_time": "2023-07-28T07:35:49.199Z"
   },
   {
    "duration": 30,
    "start_time": "2023-07-28T07:35:49.216Z"
   },
   {
    "duration": 25,
    "start_time": "2023-07-28T07:35:49.247Z"
   },
   {
    "duration": 22,
    "start_time": "2023-07-28T07:35:49.274Z"
   },
   {
    "duration": 20,
    "start_time": "2023-07-28T07:35:49.297Z"
   },
   {
    "duration": 12,
    "start_time": "2023-07-28T07:35:49.318Z"
   },
   {
    "duration": 4,
    "start_time": "2023-07-28T07:35:49.332Z"
   },
   {
    "duration": 3,
    "start_time": "2023-07-28T07:35:49.338Z"
   },
   {
    "duration": 6,
    "start_time": "2023-07-28T07:35:49.343Z"
   },
   {
    "duration": 9,
    "start_time": "2023-07-28T07:35:49.351Z"
   },
   {
    "duration": 77,
    "start_time": "2023-07-28T07:35:49.361Z"
   },
   {
    "duration": 218,
    "start_time": "2023-07-28T07:35:49.439Z"
   },
   {
    "duration": 5,
    "start_time": "2023-07-28T07:35:49.658Z"
   },
   {
    "duration": 132,
    "start_time": "2023-07-28T07:35:49.664Z"
   },
   {
    "duration": 7,
    "start_time": "2023-07-28T07:35:49.797Z"
   },
   {
    "duration": 13,
    "start_time": "2023-07-28T07:35:49.805Z"
   },
   {
    "duration": 35,
    "start_time": "2023-07-28T07:35:49.819Z"
   },
   {
    "duration": 143,
    "start_time": "2023-07-28T07:35:49.855Z"
   },
   {
    "duration": 3,
    "start_time": "2023-07-28T07:35:50.000Z"
   },
   {
    "duration": 7,
    "start_time": "2023-07-28T07:35:50.005Z"
   },
   {
    "duration": 14,
    "start_time": "2023-07-28T07:35:50.013Z"
   },
   {
    "duration": 11,
    "start_time": "2023-07-28T07:47:49.064Z"
   },
   {
    "duration": 1173,
    "start_time": "2023-07-28T07:48:08.535Z"
   },
   {
    "duration": 4,
    "start_time": "2023-07-28T07:48:09.711Z"
   },
   {
    "duration": 48,
    "start_time": "2023-07-28T07:48:09.718Z"
   },
   {
    "duration": 67,
    "start_time": "2023-07-28T07:48:09.768Z"
   },
   {
    "duration": 26,
    "start_time": "2023-07-28T07:48:09.837Z"
   },
   {
    "duration": 5,
    "start_time": "2023-07-28T07:48:09.864Z"
   },
   {
    "duration": 31,
    "start_time": "2023-07-28T07:48:09.870Z"
   },
   {
    "duration": 5,
    "start_time": "2023-07-28T07:48:09.903Z"
   },
   {
    "duration": 6,
    "start_time": "2023-07-28T07:48:09.909Z"
   },
   {
    "duration": 5,
    "start_time": "2023-07-28T07:48:09.918Z"
   },
   {
    "duration": 13,
    "start_time": "2023-07-28T07:48:09.925Z"
   },
   {
    "duration": 15,
    "start_time": "2023-07-28T07:48:09.939Z"
   },
   {
    "duration": 10,
    "start_time": "2023-07-28T07:48:09.956Z"
   },
   {
    "duration": 13,
    "start_time": "2023-07-28T07:48:09.968Z"
   },
   {
    "duration": 12,
    "start_time": "2023-07-28T07:48:09.990Z"
   },
   {
    "duration": 25,
    "start_time": "2023-07-28T07:48:10.003Z"
   },
   {
    "duration": 6,
    "start_time": "2023-07-28T07:48:10.030Z"
   },
   {
    "duration": 15,
    "start_time": "2023-07-28T07:48:10.037Z"
   },
   {
    "duration": 31,
    "start_time": "2023-07-28T07:48:10.054Z"
   },
   {
    "duration": 23,
    "start_time": "2023-07-28T07:48:10.087Z"
   },
   {
    "duration": 32,
    "start_time": "2023-07-28T07:48:10.114Z"
   },
   {
    "duration": 45,
    "start_time": "2023-07-28T07:48:10.148Z"
   },
   {
    "duration": 16,
    "start_time": "2023-07-28T07:48:10.198Z"
   },
   {
    "duration": 11,
    "start_time": "2023-07-28T07:48:10.217Z"
   },
   {
    "duration": 15,
    "start_time": "2023-07-28T07:48:10.230Z"
   },
   {
    "duration": 10,
    "start_time": "2023-07-28T07:48:10.247Z"
   },
   {
    "duration": 34,
    "start_time": "2023-07-28T07:48:10.259Z"
   },
   {
    "duration": 12,
    "start_time": "2023-07-28T07:48:10.301Z"
   },
   {
    "duration": 103,
    "start_time": "2023-07-28T07:48:10.315Z"
   },
   {
    "duration": 298,
    "start_time": "2023-07-28T07:48:10.422Z"
   },
   {
    "duration": 5,
    "start_time": "2023-07-28T07:48:10.722Z"
   },
   {
    "duration": 140,
    "start_time": "2023-07-28T07:48:10.728Z"
   },
   {
    "duration": 17,
    "start_time": "2023-07-28T07:48:10.878Z"
   },
   {
    "duration": 26,
    "start_time": "2023-07-28T07:48:10.903Z"
   },
   {
    "duration": 16,
    "start_time": "2023-07-28T07:48:10.931Z"
   },
   {
    "duration": 196,
    "start_time": "2023-07-28T07:48:10.948Z"
   },
   {
    "duration": 3,
    "start_time": "2023-07-28T07:48:11.146Z"
   },
   {
    "duration": 21,
    "start_time": "2023-07-28T07:48:11.150Z"
   },
   {
    "duration": 13,
    "start_time": "2023-07-28T07:48:11.172Z"
   },
   {
    "duration": 11,
    "start_time": "2023-07-28T07:48:39.829Z"
   },
   {
    "duration": 15,
    "start_time": "2023-07-28T08:49:21.519Z"
   },
   {
    "duration": 117,
    "start_time": "2023-07-28T09:15:03.016Z"
   },
   {
    "duration": 105,
    "start_time": "2023-07-28T09:15:35.951Z"
   },
   {
    "duration": 266,
    "start_time": "2023-07-28T09:15:49.638Z"
   },
   {
    "duration": 71,
    "start_time": "2023-07-28T09:15:57.002Z"
   },
   {
    "duration": 82,
    "start_time": "2023-07-28T09:18:18.636Z"
   },
   {
    "duration": 164,
    "start_time": "2023-07-28T09:18:35.799Z"
   },
   {
    "duration": 79,
    "start_time": "2023-07-28T09:18:59.340Z"
   },
   {
    "duration": 77,
    "start_time": "2023-07-28T09:19:10.096Z"
   },
   {
    "duration": 84,
    "start_time": "2023-07-28T09:19:28.963Z"
   },
   {
    "duration": 7,
    "start_time": "2023-07-28T09:22:45.577Z"
   },
   {
    "duration": 6,
    "start_time": "2023-07-28T09:22:53.094Z"
   },
   {
    "duration": 14,
    "start_time": "2023-07-28T09:44:38.273Z"
   },
   {
    "duration": 14,
    "start_time": "2023-07-28T09:44:59.158Z"
   },
   {
    "duration": 16,
    "start_time": "2023-07-28T09:45:08.400Z"
   },
   {
    "duration": 14,
    "start_time": "2023-07-28T09:45:21.934Z"
   },
   {
    "duration": 7,
    "start_time": "2023-07-28T09:45:27.744Z"
   },
   {
    "duration": 16,
    "start_time": "2023-07-28T09:48:46.362Z"
   },
   {
    "duration": 6,
    "start_time": "2023-07-28T09:49:00.749Z"
   },
   {
    "duration": 7,
    "start_time": "2023-07-28T09:49:42.940Z"
   },
   {
    "duration": 11,
    "start_time": "2023-07-28T09:54:03.886Z"
   },
   {
    "duration": 14,
    "start_time": "2023-07-28T09:56:10.054Z"
   },
   {
    "duration": 5,
    "start_time": "2023-07-28T10:05:37.710Z"
   },
   {
    "duration": 5,
    "start_time": "2023-07-28T10:06:00.749Z"
   },
   {
    "duration": 9,
    "start_time": "2023-07-28T10:06:12.488Z"
   },
   {
    "duration": 5,
    "start_time": "2023-07-28T10:06:16.688Z"
   },
   {
    "duration": 182,
    "start_time": "2023-07-28T10:07:40.021Z"
   },
   {
    "duration": 179,
    "start_time": "2023-07-28T10:07:55.217Z"
   },
   {
    "duration": 213,
    "start_time": "2023-07-28T10:08:20.298Z"
   },
   {
    "duration": 6,
    "start_time": "2023-07-28T10:10:47.646Z"
   },
   {
    "duration": 5,
    "start_time": "2023-07-28T10:17:00.797Z"
   },
   {
    "duration": 13,
    "start_time": "2023-07-28T10:17:07.050Z"
   },
   {
    "duration": 25,
    "start_time": "2023-07-28T10:20:06.889Z"
   },
   {
    "duration": 23,
    "start_time": "2023-07-28T10:20:38.548Z"
   },
   {
    "duration": 184,
    "start_time": "2023-07-28T10:21:56.312Z"
   },
   {
    "duration": 15,
    "start_time": "2023-07-28T10:22:39.792Z"
   },
   {
    "duration": 185,
    "start_time": "2023-07-28T10:23:02.758Z"
   },
   {
    "duration": 272,
    "start_time": "2023-07-28T10:26:43.797Z"
   },
   {
    "duration": 15,
    "start_time": "2023-07-28T10:26:45.716Z"
   },
   {
    "duration": 125,
    "start_time": "2023-07-28T10:27:07.263Z"
   },
   {
    "duration": 165,
    "start_time": "2023-07-28T10:27:33.901Z"
   },
   {
    "duration": 9,
    "start_time": "2023-07-28T10:52:01.100Z"
   },
   {
    "duration": 15,
    "start_time": "2023-07-28T10:52:08.403Z"
   },
   {
    "duration": 12,
    "start_time": "2023-07-28T10:55:10.049Z"
   },
   {
    "duration": 1281,
    "start_time": "2023-07-28T10:55:47.312Z"
   },
   {
    "duration": 11,
    "start_time": "2023-07-28T10:55:48.595Z"
   },
   {
    "duration": 43,
    "start_time": "2023-07-28T10:55:48.608Z"
   },
   {
    "duration": 61,
    "start_time": "2023-07-28T10:55:48.653Z"
   },
   {
    "duration": 26,
    "start_time": "2023-07-28T10:55:48.715Z"
   },
   {
    "duration": 5,
    "start_time": "2023-07-28T10:55:48.743Z"
   },
   {
    "duration": 10,
    "start_time": "2023-07-28T10:55:48.749Z"
   },
   {
    "duration": 9,
    "start_time": "2023-07-28T10:55:48.760Z"
   },
   {
    "duration": 31,
    "start_time": "2023-07-28T10:55:48.770Z"
   },
   {
    "duration": 14,
    "start_time": "2023-07-28T10:55:48.805Z"
   },
   {
    "duration": 13,
    "start_time": "2023-07-28T10:55:48.820Z"
   },
   {
    "duration": 9,
    "start_time": "2023-07-28T10:55:48.834Z"
   },
   {
    "duration": 9,
    "start_time": "2023-07-28T10:55:48.844Z"
   },
   {
    "duration": 10,
    "start_time": "2023-07-28T10:55:48.854Z"
   },
   {
    "duration": 35,
    "start_time": "2023-07-28T10:55:48.865Z"
   },
   {
    "duration": 23,
    "start_time": "2023-07-28T10:55:48.904Z"
   },
   {
    "duration": 6,
    "start_time": "2023-07-28T10:55:48.928Z"
   },
   {
    "duration": 7,
    "start_time": "2023-07-28T10:55:48.936Z"
   },
   {
    "duration": 7,
    "start_time": "2023-07-28T10:55:48.944Z"
   },
   {
    "duration": 12,
    "start_time": "2023-07-28T10:55:48.952Z"
   },
   {
    "duration": 43,
    "start_time": "2023-07-28T10:55:48.966Z"
   },
   {
    "duration": 5,
    "start_time": "2023-07-28T10:55:49.011Z"
   },
   {
    "duration": 7,
    "start_time": "2023-07-28T10:55:49.017Z"
   },
   {
    "duration": 13,
    "start_time": "2023-07-28T10:55:49.025Z"
   },
   {
    "duration": 8,
    "start_time": "2023-07-28T10:55:49.039Z"
   },
   {
    "duration": 41,
    "start_time": "2023-07-28T10:55:49.048Z"
   },
   {
    "duration": 4,
    "start_time": "2023-07-28T10:55:49.095Z"
   },
   {
    "duration": 8,
    "start_time": "2023-07-28T10:55:49.103Z"
   },
   {
    "duration": 93,
    "start_time": "2023-07-28T10:55:49.112Z"
   },
   {
    "duration": 245,
    "start_time": "2023-07-28T10:55:49.215Z"
   },
   {
    "duration": 5,
    "start_time": "2023-07-28T10:55:49.462Z"
   },
   {
    "duration": 146,
    "start_time": "2023-07-28T10:55:49.468Z"
   },
   {
    "duration": 7,
    "start_time": "2023-07-28T10:55:49.616Z"
   },
   {
    "duration": 12,
    "start_time": "2023-07-28T10:55:49.624Z"
   },
   {
    "duration": 13,
    "start_time": "2023-07-28T10:55:49.637Z"
   },
   {
    "duration": 27,
    "start_time": "2023-07-28T10:55:49.651Z"
   },
   {
    "duration": 30,
    "start_time": "2023-07-28T10:55:49.679Z"
   },
   {
    "duration": 200,
    "start_time": "2023-07-28T10:55:49.711Z"
   },
   {
    "duration": 149,
    "start_time": "2023-07-28T10:55:49.913Z"
   },
   {
    "duration": 32,
    "start_time": "2023-07-28T10:55:50.064Z"
   },
   {
    "duration": 24,
    "start_time": "2023-07-28T10:55:50.103Z"
   },
   {
    "duration": 9,
    "start_time": "2023-07-28T10:55:50.130Z"
   },
   {
    "duration": 10,
    "start_time": "2023-07-28T10:55:50.141Z"
   },
   {
    "duration": 52,
    "start_time": "2023-07-28T10:55:50.154Z"
   },
   {
    "duration": 220,
    "start_time": "2023-07-28T10:55:50.211Z"
   },
   {
    "duration": 193,
    "start_time": "2023-07-28T11:21:02.200Z"
   },
   {
    "duration": 364,
    "start_time": "2023-07-28T11:21:42.440Z"
   },
   {
    "duration": 400,
    "start_time": "2023-07-28T11:22:56.017Z"
   },
   {
    "duration": 288,
    "start_time": "2023-07-28T11:23:21.348Z"
   },
   {
    "duration": 392,
    "start_time": "2023-07-28T11:34:37.329Z"
   },
   {
    "duration": 281,
    "start_time": "2023-07-28T11:35:11.987Z"
   },
   {
    "duration": 276,
    "start_time": "2023-07-28T11:35:26.824Z"
   },
   {
    "duration": 297,
    "start_time": "2023-07-28T11:35:38.592Z"
   },
   {
    "duration": 295,
    "start_time": "2023-07-28T11:36:05.302Z"
   },
   {
    "duration": 305,
    "start_time": "2023-07-28T11:36:17.488Z"
   },
   {
    "duration": 256,
    "start_time": "2023-07-28T11:38:04.588Z"
   },
   {
    "duration": 13,
    "start_time": "2023-07-28T11:40:56.643Z"
   },
   {
    "duration": 337,
    "start_time": "2023-07-28T11:42:14.515Z"
   },
   {
    "duration": 336,
    "start_time": "2023-07-28T11:42:48.093Z"
   },
   {
    "duration": 340,
    "start_time": "2023-07-28T11:43:00.991Z"
   },
   {
    "duration": 4,
    "start_time": "2023-07-28T11:58:36.397Z"
   },
   {
    "duration": 14,
    "start_time": "2023-07-28T11:58:42.733Z"
   },
   {
    "duration": 8,
    "start_time": "2023-07-28T12:01:16.948Z"
   },
   {
    "duration": 16,
    "start_time": "2023-07-28T12:01:22.628Z"
   },
   {
    "duration": 14,
    "start_time": "2023-07-28T12:01:31.590Z"
   },
   {
    "duration": 14,
    "start_time": "2023-07-28T12:01:34.834Z"
   },
   {
    "duration": 6,
    "start_time": "2023-07-28T12:01:52.655Z"
   },
   {
    "duration": 6,
    "start_time": "2023-07-28T12:02:05.929Z"
   },
   {
    "duration": 284,
    "start_time": "2023-07-28T12:02:42.522Z"
   },
   {
    "duration": 365,
    "start_time": "2023-07-28T12:03:50.295Z"
   },
   {
    "duration": 368,
    "start_time": "2023-07-28T12:03:56.088Z"
   },
   {
    "duration": 307,
    "start_time": "2023-07-28T12:05:41.991Z"
   },
   {
    "duration": 4,
    "start_time": "2023-07-28T12:05:48.602Z"
   },
   {
    "duration": 279,
    "start_time": "2023-07-28T12:06:08.686Z"
   },
   {
    "duration": 4,
    "start_time": "2023-07-28T12:06:11.387Z"
   },
   {
    "duration": 266,
    "start_time": "2023-07-28T12:06:28.594Z"
   },
   {
    "duration": 249,
    "start_time": "2023-07-28T12:07:07.701Z"
   },
   {
    "duration": 4,
    "start_time": "2023-07-28T12:07:13.616Z"
   },
   {
    "duration": 231,
    "start_time": "2023-07-28T12:07:25.592Z"
   },
   {
    "duration": 3,
    "start_time": "2023-07-28T12:07:28.546Z"
   },
   {
    "duration": 337,
    "start_time": "2023-07-28T12:08:40.535Z"
   },
   {
    "duration": 345,
    "start_time": "2023-07-28T12:09:32.828Z"
   },
   {
    "duration": 548,
    "start_time": "2023-07-28T12:09:52.929Z"
   },
   {
    "duration": 16,
    "start_time": "2023-07-28T12:10:05.497Z"
   },
   {
    "duration": 290,
    "start_time": "2023-07-28T12:10:12.431Z"
   },
   {
    "duration": 323,
    "start_time": "2023-07-28T12:10:22.972Z"
   },
   {
    "duration": 4,
    "start_time": "2023-07-28T12:11:41.091Z"
   },
   {
    "duration": 360,
    "start_time": "2023-07-28T12:11:44.665Z"
   },
   {
    "duration": 14,
    "start_time": "2023-07-28T12:12:16.405Z"
   },
   {
    "duration": 14,
    "start_time": "2023-07-28T12:12:24.657Z"
   },
   {
    "duration": 22,
    "start_time": "2023-07-28T12:12:40.221Z"
   },
   {
    "duration": 325,
    "start_time": "2023-07-28T12:12:58.800Z"
   },
   {
    "duration": 334,
    "start_time": "2023-07-28T12:13:57.031Z"
   },
   {
    "duration": 459,
    "start_time": "2023-07-28T12:14:16.565Z"
   },
   {
    "duration": 319,
    "start_time": "2023-07-28T12:14:39.515Z"
   },
   {
    "duration": 346,
    "start_time": "2023-07-28T12:15:06.512Z"
   },
   {
    "duration": 14,
    "start_time": "2023-07-28T12:15:07.868Z"
   },
   {
    "duration": 22,
    "start_time": "2023-07-28T12:15:19.841Z"
   },
   {
    "duration": 26,
    "start_time": "2023-07-28T12:15:25.462Z"
   },
   {
    "duration": 14,
    "start_time": "2023-07-28T12:17:18.995Z"
   },
   {
    "duration": 291,
    "start_time": "2023-07-28T12:17:24.625Z"
   },
   {
    "duration": 5,
    "start_time": "2023-07-28T12:20:22.632Z"
   },
   {
    "duration": 6,
    "start_time": "2023-07-28T12:21:01.000Z"
   },
   {
    "duration": 1254,
    "start_time": "2023-07-28T12:26:30.594Z"
   },
   {
    "duration": 3,
    "start_time": "2023-07-28T12:26:31.850Z"
   },
   {
    "duration": 86,
    "start_time": "2023-07-28T12:26:31.855Z"
   },
   {
    "duration": 59,
    "start_time": "2023-07-28T12:26:31.943Z"
   },
   {
    "duration": 34,
    "start_time": "2023-07-28T12:26:32.005Z"
   },
   {
    "duration": 7,
    "start_time": "2023-07-28T12:26:32.041Z"
   },
   {
    "duration": 41,
    "start_time": "2023-07-28T12:26:32.049Z"
   },
   {
    "duration": 32,
    "start_time": "2023-07-28T12:26:32.095Z"
   },
   {
    "duration": 59,
    "start_time": "2023-07-28T12:26:32.129Z"
   },
   {
    "duration": 53,
    "start_time": "2023-07-28T12:26:32.190Z"
   },
   {
    "duration": 20,
    "start_time": "2023-07-28T12:26:32.245Z"
   },
   {
    "duration": 36,
    "start_time": "2023-07-28T12:26:32.267Z"
   },
   {
    "duration": 27,
    "start_time": "2023-07-28T12:26:32.305Z"
   },
   {
    "duration": 24,
    "start_time": "2023-07-28T12:26:32.336Z"
   },
   {
    "duration": 8,
    "start_time": "2023-07-28T12:26:32.363Z"
   },
   {
    "duration": 22,
    "start_time": "2023-07-28T12:26:32.373Z"
   },
   {
    "duration": 35,
    "start_time": "2023-07-28T12:26:32.398Z"
   },
   {
    "duration": 128,
    "start_time": "2023-07-28T12:26:32.435Z"
   },
   {
    "duration": 0,
    "start_time": "2023-07-28T12:26:32.566Z"
   },
   {
    "duration": 0,
    "start_time": "2023-07-28T12:26:32.567Z"
   },
   {
    "duration": 0,
    "start_time": "2023-07-28T12:26:32.569Z"
   },
   {
    "duration": 0,
    "start_time": "2023-07-28T12:26:32.574Z"
   },
   {
    "duration": 0,
    "start_time": "2023-07-28T12:26:32.575Z"
   },
   {
    "duration": 0,
    "start_time": "2023-07-28T12:26:32.576Z"
   },
   {
    "duration": 0,
    "start_time": "2023-07-28T12:26:32.577Z"
   },
   {
    "duration": 0,
    "start_time": "2023-07-28T12:26:32.578Z"
   },
   {
    "duration": 0,
    "start_time": "2023-07-28T12:26:32.579Z"
   },
   {
    "duration": 0,
    "start_time": "2023-07-28T12:26:32.580Z"
   },
   {
    "duration": 0,
    "start_time": "2023-07-28T12:26:32.581Z"
   },
   {
    "duration": 0,
    "start_time": "2023-07-28T12:26:32.581Z"
   },
   {
    "duration": 0,
    "start_time": "2023-07-28T12:26:32.583Z"
   },
   {
    "duration": 0,
    "start_time": "2023-07-28T12:26:32.584Z"
   },
   {
    "duration": 0,
    "start_time": "2023-07-28T12:26:32.585Z"
   },
   {
    "duration": 0,
    "start_time": "2023-07-28T12:26:32.586Z"
   },
   {
    "duration": 0,
    "start_time": "2023-07-28T12:26:32.586Z"
   },
   {
    "duration": 0,
    "start_time": "2023-07-28T12:26:32.587Z"
   },
   {
    "duration": 0,
    "start_time": "2023-07-28T12:26:32.588Z"
   },
   {
    "duration": 0,
    "start_time": "2023-07-28T12:26:32.589Z"
   },
   {
    "duration": 0,
    "start_time": "2023-07-28T12:26:32.590Z"
   },
   {
    "duration": 0,
    "start_time": "2023-07-28T12:26:32.594Z"
   },
   {
    "duration": 0,
    "start_time": "2023-07-28T12:26:32.595Z"
   },
   {
    "duration": 0,
    "start_time": "2023-07-28T12:26:32.596Z"
   },
   {
    "duration": 0,
    "start_time": "2023-07-28T12:26:32.598Z"
   },
   {
    "duration": 0,
    "start_time": "2023-07-28T12:26:32.599Z"
   },
   {
    "duration": 0,
    "start_time": "2023-07-28T12:26:32.600Z"
   },
   {
    "duration": 0,
    "start_time": "2023-07-28T12:26:32.601Z"
   },
   {
    "duration": 0,
    "start_time": "2023-07-28T12:26:32.603Z"
   },
   {
    "duration": 0,
    "start_time": "2023-07-28T12:26:32.604Z"
   },
   {
    "duration": 0,
    "start_time": "2023-07-28T12:26:32.605Z"
   },
   {
    "duration": 0,
    "start_time": "2023-07-28T12:26:32.606Z"
   },
   {
    "duration": 0,
    "start_time": "2023-07-28T12:26:32.608Z"
   },
   {
    "duration": 0,
    "start_time": "2023-07-28T12:26:32.609Z"
   },
   {
    "duration": 0,
    "start_time": "2023-07-28T12:26:32.610Z"
   },
   {
    "duration": 0,
    "start_time": "2023-07-28T12:26:32.611Z"
   },
   {
    "duration": 6,
    "start_time": "2023-07-28T12:27:20.453Z"
   },
   {
    "duration": 1106,
    "start_time": "2023-07-28T12:27:55.245Z"
   },
   {
    "duration": 3,
    "start_time": "2023-07-28T12:27:56.353Z"
   },
   {
    "duration": 76,
    "start_time": "2023-07-28T12:27:56.358Z"
   },
   {
    "duration": 57,
    "start_time": "2023-07-28T12:27:56.436Z"
   },
   {
    "duration": 26,
    "start_time": "2023-07-28T12:27:56.495Z"
   },
   {
    "duration": 42,
    "start_time": "2023-07-28T12:27:56.523Z"
   },
   {
    "duration": 24,
    "start_time": "2023-07-28T12:27:56.567Z"
   },
   {
    "duration": 16,
    "start_time": "2023-07-28T12:27:56.593Z"
   },
   {
    "duration": 19,
    "start_time": "2023-07-28T12:27:56.611Z"
   },
   {
    "duration": 9,
    "start_time": "2023-07-28T12:27:56.632Z"
   },
   {
    "duration": 18,
    "start_time": "2023-07-28T12:27:56.643Z"
   },
   {
    "duration": 27,
    "start_time": "2023-07-28T12:27:56.662Z"
   },
   {
    "duration": 39,
    "start_time": "2023-07-28T12:27:56.691Z"
   },
   {
    "duration": 25,
    "start_time": "2023-07-28T12:27:56.732Z"
   },
   {
    "duration": 13,
    "start_time": "2023-07-28T12:27:56.759Z"
   },
   {
    "duration": 24,
    "start_time": "2023-07-28T12:27:56.774Z"
   },
   {
    "duration": 87,
    "start_time": "2023-07-28T12:27:56.799Z"
   },
   {
    "duration": 33,
    "start_time": "2023-07-28T12:27:56.888Z"
   },
   {
    "duration": 24,
    "start_time": "2023-07-28T12:27:56.922Z"
   },
   {
    "duration": 39,
    "start_time": "2023-07-28T12:27:56.948Z"
   },
   {
    "duration": 28,
    "start_time": "2023-07-28T12:27:56.989Z"
   },
   {
    "duration": 20,
    "start_time": "2023-07-28T12:27:57.019Z"
   },
   {
    "duration": 26,
    "start_time": "2023-07-28T12:27:57.041Z"
   },
   {
    "duration": 17,
    "start_time": "2023-07-28T12:27:57.068Z"
   },
   {
    "duration": 11,
    "start_time": "2023-07-28T12:27:57.088Z"
   },
   {
    "duration": 29,
    "start_time": "2023-07-28T12:27:57.101Z"
   },
   {
    "duration": 24,
    "start_time": "2023-07-28T12:27:57.132Z"
   },
   {
    "duration": 30,
    "start_time": "2023-07-28T12:27:57.161Z"
   },
   {
    "duration": 29,
    "start_time": "2023-07-28T12:27:57.193Z"
   },
   {
    "duration": 122,
    "start_time": "2023-07-28T12:27:57.224Z"
   },
   {
    "duration": 238,
    "start_time": "2023-07-28T12:27:57.347Z"
   },
   {
    "duration": 106,
    "start_time": "2023-07-28T12:27:57.588Z"
   },
   {
    "duration": 0,
    "start_time": "2023-07-28T12:27:57.696Z"
   },
   {
    "duration": 0,
    "start_time": "2023-07-28T12:27:57.697Z"
   },
   {
    "duration": 0,
    "start_time": "2023-07-28T12:27:57.698Z"
   },
   {
    "duration": 0,
    "start_time": "2023-07-28T12:27:57.699Z"
   },
   {
    "duration": 0,
    "start_time": "2023-07-28T12:27:57.700Z"
   },
   {
    "duration": 0,
    "start_time": "2023-07-28T12:27:57.701Z"
   },
   {
    "duration": 0,
    "start_time": "2023-07-28T12:27:57.702Z"
   },
   {
    "duration": 0,
    "start_time": "2023-07-28T12:27:57.703Z"
   },
   {
    "duration": 0,
    "start_time": "2023-07-28T12:27:57.704Z"
   },
   {
    "duration": 0,
    "start_time": "2023-07-28T12:27:57.706Z"
   },
   {
    "duration": 0,
    "start_time": "2023-07-28T12:27:57.707Z"
   },
   {
    "duration": 0,
    "start_time": "2023-07-28T12:27:57.708Z"
   },
   {
    "duration": 0,
    "start_time": "2023-07-28T12:27:57.709Z"
   },
   {
    "duration": 0,
    "start_time": "2023-07-28T12:27:57.710Z"
   },
   {
    "duration": 0,
    "start_time": "2023-07-28T12:27:57.711Z"
   },
   {
    "duration": 0,
    "start_time": "2023-07-28T12:27:57.712Z"
   },
   {
    "duration": 0,
    "start_time": "2023-07-28T12:27:57.713Z"
   },
   {
    "duration": 0,
    "start_time": "2023-07-28T12:27:57.714Z"
   },
   {
    "duration": 0,
    "start_time": "2023-07-28T12:27:57.715Z"
   },
   {
    "duration": 0,
    "start_time": "2023-07-28T12:27:57.716Z"
   },
   {
    "duration": 0,
    "start_time": "2023-07-28T12:27:57.717Z"
   },
   {
    "duration": 0,
    "start_time": "2023-07-28T12:27:57.718Z"
   },
   {
    "duration": 4,
    "start_time": "2023-07-28T12:28:42.591Z"
   },
   {
    "duration": 128,
    "start_time": "2023-07-28T12:28:46.214Z"
   },
   {
    "duration": 8,
    "start_time": "2023-07-28T12:28:47.302Z"
   },
   {
    "duration": 11,
    "start_time": "2023-07-28T12:28:47.996Z"
   },
   {
    "duration": 16,
    "start_time": "2023-07-28T12:28:48.638Z"
   },
   {
    "duration": 8,
    "start_time": "2023-07-28T12:28:49.898Z"
   },
   {
    "duration": 12,
    "start_time": "2023-07-28T12:28:51.112Z"
   },
   {
    "duration": 185,
    "start_time": "2023-07-28T12:28:51.838Z"
   },
   {
    "duration": 119,
    "start_time": "2023-07-28T12:28:52.538Z"
   },
   {
    "duration": 20,
    "start_time": "2023-07-28T12:28:52.839Z"
   },
   {
    "duration": 14,
    "start_time": "2023-07-28T12:28:53.102Z"
   },
   {
    "duration": 370,
    "start_time": "2023-07-28T12:28:54.558Z"
   },
   {
    "duration": 357,
    "start_time": "2023-07-28T12:29:07.937Z"
   },
   {
    "duration": 17,
    "start_time": "2023-07-28T12:29:10.395Z"
   },
   {
    "duration": 405,
    "start_time": "2023-07-28T12:29:11.015Z"
   },
   {
    "duration": 14,
    "start_time": "2023-07-28T12:29:11.608Z"
   },
   {
    "duration": 402,
    "start_time": "2023-07-28T12:29:12.396Z"
   },
   {
    "duration": 3,
    "start_time": "2023-07-28T12:29:13.939Z"
   },
   {
    "duration": 11,
    "start_time": "2023-07-28T12:29:49.508Z"
   },
   {
    "duration": 1293,
    "start_time": "2023-07-28T12:31:10.396Z"
   },
   {
    "duration": 5,
    "start_time": "2023-07-28T12:31:11.695Z"
   },
   {
    "duration": 97,
    "start_time": "2023-07-28T12:31:11.702Z"
   },
   {
    "duration": 53,
    "start_time": "2023-07-28T12:31:11.801Z"
   },
   {
    "duration": 40,
    "start_time": "2023-07-28T12:31:11.856Z"
   },
   {
    "duration": 6,
    "start_time": "2023-07-28T12:31:11.899Z"
   },
   {
    "duration": 19,
    "start_time": "2023-07-28T12:31:11.907Z"
   },
   {
    "duration": 20,
    "start_time": "2023-07-28T12:31:11.928Z"
   },
   {
    "duration": 35,
    "start_time": "2023-07-28T12:31:11.950Z"
   },
   {
    "duration": 6,
    "start_time": "2023-07-28T12:31:11.990Z"
   },
   {
    "duration": 30,
    "start_time": "2023-07-28T12:31:11.998Z"
   },
   {
    "duration": 22,
    "start_time": "2023-07-28T12:31:12.031Z"
   },
   {
    "duration": 36,
    "start_time": "2023-07-28T12:31:12.055Z"
   },
   {
    "duration": 12,
    "start_time": "2023-07-28T12:31:12.093Z"
   },
   {
    "duration": 42,
    "start_time": "2023-07-28T12:31:12.108Z"
   },
   {
    "duration": 41,
    "start_time": "2023-07-28T12:31:12.152Z"
   },
   {
    "duration": 28,
    "start_time": "2023-07-28T12:31:12.198Z"
   },
   {
    "duration": 10,
    "start_time": "2023-07-28T12:31:12.228Z"
   },
   {
    "duration": 14,
    "start_time": "2023-07-28T12:31:12.240Z"
   },
   {
    "duration": 23,
    "start_time": "2023-07-28T12:31:12.257Z"
   },
   {
    "duration": 30,
    "start_time": "2023-07-28T12:31:12.284Z"
   },
   {
    "duration": 12,
    "start_time": "2023-07-28T12:31:12.315Z"
   },
   {
    "duration": 18,
    "start_time": "2023-07-28T12:31:12.329Z"
   },
   {
    "duration": 12,
    "start_time": "2023-07-28T12:31:12.348Z"
   },
   {
    "duration": 15,
    "start_time": "2023-07-28T12:31:12.362Z"
   },
   {
    "duration": 13,
    "start_time": "2023-07-28T12:31:12.383Z"
   },
   {
    "duration": 10,
    "start_time": "2023-07-28T12:31:12.398Z"
   },
   {
    "duration": 8,
    "start_time": "2023-07-28T12:31:12.412Z"
   },
   {
    "duration": 123,
    "start_time": "2023-07-28T12:31:12.422Z"
   },
   {
    "duration": 288,
    "start_time": "2023-07-28T12:31:12.548Z"
   },
   {
    "duration": 6,
    "start_time": "2023-07-28T12:31:12.838Z"
   },
   {
    "duration": 217,
    "start_time": "2023-07-28T12:31:12.845Z"
   },
   {
    "duration": 10,
    "start_time": "2023-07-28T12:31:13.063Z"
   },
   {
    "duration": 18,
    "start_time": "2023-07-28T12:31:13.087Z"
   },
   {
    "duration": 15,
    "start_time": "2023-07-28T12:31:13.108Z"
   },
   {
    "duration": 28,
    "start_time": "2023-07-28T12:31:13.125Z"
   },
   {
    "duration": 17,
    "start_time": "2023-07-28T12:31:13.155Z"
   },
   {
    "duration": 179,
    "start_time": "2023-07-28T12:31:13.174Z"
   },
   {
    "duration": 151,
    "start_time": "2023-07-28T12:31:13.355Z"
   },
   {
    "duration": 16,
    "start_time": "2023-07-28T12:31:13.508Z"
   },
   {
    "duration": 31,
    "start_time": "2023-07-28T12:31:13.526Z"
   },
   {
    "duration": 444,
    "start_time": "2023-07-28T12:31:13.559Z"
   },
   {
    "duration": 316,
    "start_time": "2023-07-28T12:31:14.005Z"
   },
   {
    "duration": 21,
    "start_time": "2023-07-28T12:31:14.323Z"
   },
   {
    "duration": 482,
    "start_time": "2023-07-28T12:31:14.347Z"
   },
   {
    "duration": 15,
    "start_time": "2023-07-28T12:31:14.831Z"
   },
   {
    "duration": 350,
    "start_time": "2023-07-28T12:31:14.848Z"
   },
   {
    "duration": 4,
    "start_time": "2023-07-28T12:31:15.200Z"
   },
   {
    "duration": 38,
    "start_time": "2023-07-28T12:31:15.206Z"
   },
   {
    "duration": 27,
    "start_time": "2023-07-28T12:31:15.246Z"
   },
   {
    "duration": 23,
    "start_time": "2023-07-28T12:31:15.278Z"
   },
   {
    "duration": 14,
    "start_time": "2023-07-28T12:31:15.303Z"
   },
   {
    "duration": 275,
    "start_time": "2023-07-28T12:31:15.318Z"
   },
   {
    "duration": 262,
    "start_time": "2023-07-28T12:33:09.539Z"
   },
   {
    "duration": 259,
    "start_time": "2023-07-28T12:33:49.490Z"
   },
   {
    "duration": 3,
    "start_time": "2023-07-28T12:33:52.295Z"
   },
   {
    "duration": 256,
    "start_time": "2023-07-28T12:34:11.044Z"
   },
   {
    "duration": 260,
    "start_time": "2023-07-28T12:34:24.500Z"
   },
   {
    "duration": 284,
    "start_time": "2023-07-28T12:34:35.347Z"
   },
   {
    "duration": 6,
    "start_time": "2023-07-28T12:34:43.004Z"
   },
   {
    "duration": 5,
    "start_time": "2023-07-28T12:34:43.491Z"
   },
   {
    "duration": 248,
    "start_time": "2023-07-28T12:37:29.422Z"
   },
   {
    "duration": 4,
    "start_time": "2023-07-28T12:37:32.966Z"
   },
   {
    "duration": 116,
    "start_time": "2023-07-28T12:37:59.939Z"
   },
   {
    "duration": 275,
    "start_time": "2023-07-28T12:38:06.187Z"
   },
   {
    "duration": 278,
    "start_time": "2023-07-28T12:40:13.899Z"
   },
   {
    "duration": 4,
    "start_time": "2023-07-28T12:40:19.770Z"
   },
   {
    "duration": 1270,
    "start_time": "2023-07-28T12:40:48.338Z"
   },
   {
    "duration": 3,
    "start_time": "2023-07-28T12:40:49.611Z"
   },
   {
    "duration": 48,
    "start_time": "2023-07-28T12:40:49.616Z"
   },
   {
    "duration": 56,
    "start_time": "2023-07-28T12:40:49.667Z"
   },
   {
    "duration": 29,
    "start_time": "2023-07-28T12:40:49.725Z"
   },
   {
    "duration": 5,
    "start_time": "2023-07-28T12:40:49.756Z"
   },
   {
    "duration": 21,
    "start_time": "2023-07-28T12:40:49.762Z"
   },
   {
    "duration": 28,
    "start_time": "2023-07-28T12:40:49.785Z"
   },
   {
    "duration": 14,
    "start_time": "2023-07-28T12:40:49.816Z"
   },
   {
    "duration": 26,
    "start_time": "2023-07-28T12:40:49.834Z"
   },
   {
    "duration": 31,
    "start_time": "2023-07-28T12:40:49.862Z"
   },
   {
    "duration": 5,
    "start_time": "2023-07-28T12:40:49.895Z"
   },
   {
    "duration": 8,
    "start_time": "2023-07-28T12:40:49.901Z"
   },
   {
    "duration": 5,
    "start_time": "2023-07-28T12:40:49.911Z"
   },
   {
    "duration": 6,
    "start_time": "2023-07-28T12:40:49.918Z"
   },
   {
    "duration": 19,
    "start_time": "2023-07-28T12:40:49.926Z"
   },
   {
    "duration": 33,
    "start_time": "2023-07-28T12:40:49.947Z"
   },
   {
    "duration": 13,
    "start_time": "2023-07-28T12:40:49.984Z"
   },
   {
    "duration": 9,
    "start_time": "2023-07-28T12:40:49.999Z"
   },
   {
    "duration": 22,
    "start_time": "2023-07-28T12:40:50.011Z"
   },
   {
    "duration": 13,
    "start_time": "2023-07-28T12:40:50.035Z"
   },
   {
    "duration": 6,
    "start_time": "2023-07-28T12:40:50.049Z"
   },
   {
    "duration": 35,
    "start_time": "2023-07-28T12:40:50.057Z"
   },
   {
    "duration": 5,
    "start_time": "2023-07-28T12:40:50.094Z"
   },
   {
    "duration": 17,
    "start_time": "2023-07-28T12:40:50.101Z"
   },
   {
    "duration": 23,
    "start_time": "2023-07-28T12:40:50.120Z"
   },
   {
    "duration": 5,
    "start_time": "2023-07-28T12:40:50.145Z"
   },
   {
    "duration": 13,
    "start_time": "2023-07-28T12:40:50.154Z"
   },
   {
    "duration": 131,
    "start_time": "2023-07-28T12:40:50.168Z"
   },
   {
    "duration": 300,
    "start_time": "2023-07-28T12:40:50.301Z"
   },
   {
    "duration": 7,
    "start_time": "2023-07-28T12:40:50.603Z"
   },
   {
    "duration": 147,
    "start_time": "2023-07-28T12:40:50.613Z"
   },
   {
    "duration": 27,
    "start_time": "2023-07-28T12:40:50.762Z"
   },
   {
    "duration": 14,
    "start_time": "2023-07-28T12:40:50.791Z"
   },
   {
    "duration": 15,
    "start_time": "2023-07-28T12:40:50.807Z"
   },
   {
    "duration": 28,
    "start_time": "2023-07-28T12:40:50.824Z"
   },
   {
    "duration": 31,
    "start_time": "2023-07-28T12:40:50.855Z"
   },
   {
    "duration": 198,
    "start_time": "2023-07-28T12:40:50.888Z"
   },
   {
    "duration": 136,
    "start_time": "2023-07-28T12:40:51.088Z"
   },
   {
    "duration": 16,
    "start_time": "2023-07-28T12:40:51.226Z"
   },
   {
    "duration": 24,
    "start_time": "2023-07-28T12:40:51.244Z"
   },
   {
    "duration": 382,
    "start_time": "2023-07-28T12:40:51.275Z"
   },
   {
    "duration": 275,
    "start_time": "2023-07-28T12:40:51.659Z"
   },
   {
    "duration": 22,
    "start_time": "2023-07-28T12:40:51.936Z"
   },
   {
    "duration": 409,
    "start_time": "2023-07-28T12:40:51.960Z"
   },
   {
    "duration": 23,
    "start_time": "2023-07-28T12:40:52.371Z"
   },
   {
    "duration": 285,
    "start_time": "2023-07-28T12:40:52.396Z"
   },
   {
    "duration": 6,
    "start_time": "2023-07-28T12:40:52.685Z"
   },
   {
    "duration": 11,
    "start_time": "2023-07-28T12:40:52.693Z"
   },
   {
    "duration": 16,
    "start_time": "2023-07-28T12:40:52.706Z"
   },
   {
    "duration": 11,
    "start_time": "2023-07-28T12:40:52.723Z"
   },
   {
    "duration": 257,
    "start_time": "2023-07-28T12:40:52.735Z"
   },
   {
    "duration": 15,
    "start_time": "2023-07-28T12:44:27.446Z"
   },
   {
    "duration": 377,
    "start_time": "2023-07-28T12:46:40.943Z"
   },
   {
    "duration": 364,
    "start_time": "2023-07-28T12:46:54.506Z"
   },
   {
    "duration": 379,
    "start_time": "2023-07-28T12:47:02.538Z"
   },
   {
    "duration": 419,
    "start_time": "2023-07-28T12:47:50.308Z"
   },
   {
    "duration": 256,
    "start_time": "2023-07-28T12:48:02.241Z"
   },
   {
    "duration": 219,
    "start_time": "2023-07-28T12:48:13.296Z"
   },
   {
    "duration": 251,
    "start_time": "2023-07-28T12:48:38.946Z"
   },
   {
    "duration": 69,
    "start_time": "2023-07-28T12:49:09.704Z"
   },
   {
    "duration": 79,
    "start_time": "2023-07-28T12:49:28.142Z"
   },
   {
    "duration": 372,
    "start_time": "2023-07-28T12:49:47.062Z"
   },
   {
    "duration": 316,
    "start_time": "2023-07-28T12:50:26.840Z"
   },
   {
    "duration": 323,
    "start_time": "2023-07-28T12:50:43.738Z"
   },
   {
    "duration": 352,
    "start_time": "2023-07-28T12:51:00.799Z"
   },
   {
    "duration": 407,
    "start_time": "2023-07-28T12:51:10.464Z"
   },
   {
    "duration": 464,
    "start_time": "2023-07-28T12:51:21.509Z"
   },
   {
    "duration": 466,
    "start_time": "2023-07-28T12:51:50.255Z"
   },
   {
    "duration": 352,
    "start_time": "2023-07-28T12:53:06.299Z"
   },
   {
    "duration": 362,
    "start_time": "2023-07-28T12:53:56.469Z"
   },
   {
    "duration": 380,
    "start_time": "2023-07-28T12:54:16.255Z"
   },
   {
    "duration": 291,
    "start_time": "2023-07-28T12:55:05.444Z"
   },
   {
    "duration": 374,
    "start_time": "2023-07-28T12:55:22.763Z"
   },
   {
    "duration": 282,
    "start_time": "2023-07-28T12:56:02.636Z"
   },
   {
    "duration": 411,
    "start_time": "2023-07-28T12:56:10.343Z"
   },
   {
    "duration": 191,
    "start_time": "2023-07-28T13:00:21.499Z"
   },
   {
    "duration": 13,
    "start_time": "2023-07-28T13:04:50.219Z"
   },
   {
    "duration": 9,
    "start_time": "2023-07-28T13:05:04.000Z"
   },
   {
    "duration": 17,
    "start_time": "2023-07-28T13:05:12.044Z"
   },
   {
    "duration": 27,
    "start_time": "2023-07-28T13:06:11.768Z"
   },
   {
    "duration": 14,
    "start_time": "2023-07-28T13:07:05.741Z"
   },
   {
    "duration": 19,
    "start_time": "2023-07-28T13:08:04.039Z"
   },
   {
    "duration": 24,
    "start_time": "2023-07-28T13:08:59.366Z"
   },
   {
    "duration": 160,
    "start_time": "2023-07-28T13:09:43.542Z"
   },
   {
    "duration": 150,
    "start_time": "2023-07-28T13:10:45.491Z"
   },
   {
    "duration": 174,
    "start_time": "2023-07-28T13:12:37.746Z"
   },
   {
    "duration": 307,
    "start_time": "2023-07-28T13:12:54.765Z"
   },
   {
    "duration": 195,
    "start_time": "2023-07-28T13:13:13.832Z"
   },
   {
    "duration": 200,
    "start_time": "2023-07-28T13:13:20.207Z"
   },
   {
    "duration": 176,
    "start_time": "2023-07-28T13:13:26.505Z"
   },
   {
    "duration": 206,
    "start_time": "2023-07-28T13:13:34.256Z"
   },
   {
    "duration": 1374,
    "start_time": "2023-07-29T06:58:18.108Z"
   },
   {
    "duration": 3,
    "start_time": "2023-07-29T06:58:19.484Z"
   },
   {
    "duration": 99,
    "start_time": "2023-07-29T06:58:19.489Z"
   },
   {
    "duration": 93,
    "start_time": "2023-07-29T06:58:19.590Z"
   },
   {
    "duration": 63,
    "start_time": "2023-07-29T06:58:19.684Z"
   },
   {
    "duration": 4,
    "start_time": "2023-07-29T06:58:19.748Z"
   },
   {
    "duration": 9,
    "start_time": "2023-07-29T06:58:19.753Z"
   },
   {
    "duration": 7,
    "start_time": "2023-07-29T06:58:19.764Z"
   },
   {
    "duration": 5,
    "start_time": "2023-07-29T06:58:19.772Z"
   },
   {
    "duration": 5,
    "start_time": "2023-07-29T06:58:19.779Z"
   },
   {
    "duration": 9,
    "start_time": "2023-07-29T06:58:19.785Z"
   },
   {
    "duration": 8,
    "start_time": "2023-07-29T06:58:19.795Z"
   },
   {
    "duration": 10,
    "start_time": "2023-07-29T06:58:19.804Z"
   },
   {
    "duration": 16,
    "start_time": "2023-07-29T06:58:19.815Z"
   },
   {
    "duration": 16,
    "start_time": "2023-07-29T06:58:19.833Z"
   },
   {
    "duration": 19,
    "start_time": "2023-07-29T06:58:19.850Z"
   },
   {
    "duration": 4,
    "start_time": "2023-07-29T06:58:19.871Z"
   },
   {
    "duration": 5,
    "start_time": "2023-07-29T06:58:19.877Z"
   },
   {
    "duration": 8,
    "start_time": "2023-07-29T06:58:19.884Z"
   },
   {
    "duration": 23,
    "start_time": "2023-07-29T06:58:19.893Z"
   },
   {
    "duration": 11,
    "start_time": "2023-07-29T06:58:19.917Z"
   },
   {
    "duration": 5,
    "start_time": "2023-07-29T06:58:19.930Z"
   },
   {
    "duration": 11,
    "start_time": "2023-07-29T06:58:19.936Z"
   },
   {
    "duration": 10,
    "start_time": "2023-07-29T06:58:19.949Z"
   },
   {
    "duration": 16,
    "start_time": "2023-07-29T06:58:19.960Z"
   },
   {
    "duration": 20,
    "start_time": "2023-07-29T06:58:19.977Z"
   },
   {
    "duration": 25,
    "start_time": "2023-07-29T06:58:19.998Z"
   },
   {
    "duration": 21,
    "start_time": "2023-07-29T06:58:20.027Z"
   },
   {
    "duration": 86,
    "start_time": "2023-07-29T06:58:20.050Z"
   },
   {
    "duration": 208,
    "start_time": "2023-07-29T06:58:20.138Z"
   },
   {
    "duration": 4,
    "start_time": "2023-07-29T06:58:20.348Z"
   },
   {
    "duration": 124,
    "start_time": "2023-07-29T06:58:20.354Z"
   },
   {
    "duration": 8,
    "start_time": "2023-07-29T06:58:20.480Z"
   },
   {
    "duration": 19,
    "start_time": "2023-07-29T06:58:20.489Z"
   },
   {
    "duration": 15,
    "start_time": "2023-07-29T06:58:20.510Z"
   },
   {
    "duration": 21,
    "start_time": "2023-07-29T06:58:20.526Z"
   },
   {
    "duration": 21,
    "start_time": "2023-07-29T06:58:20.549Z"
   },
   {
    "duration": 151,
    "start_time": "2023-07-29T06:58:20.572Z"
   },
   {
    "duration": 110,
    "start_time": "2023-07-29T06:58:20.724Z"
   },
   {
    "duration": 13,
    "start_time": "2023-07-29T06:58:20.836Z"
   },
   {
    "duration": 12,
    "start_time": "2023-07-29T06:58:20.850Z"
   },
   {
    "duration": 330,
    "start_time": "2023-07-29T06:58:20.863Z"
   },
   {
    "duration": 237,
    "start_time": "2023-07-29T06:58:21.194Z"
   },
   {
    "duration": 12,
    "start_time": "2023-07-29T06:58:21.432Z"
   },
   {
    "duration": 359,
    "start_time": "2023-07-29T06:58:21.446Z"
   },
   {
    "duration": 20,
    "start_time": "2023-07-29T06:58:21.807Z"
   },
   {
    "duration": 214,
    "start_time": "2023-07-29T06:58:21.829Z"
   },
   {
    "duration": 4,
    "start_time": "2023-07-29T06:58:22.045Z"
   },
   {
    "duration": 19,
    "start_time": "2023-07-29T06:58:22.050Z"
   },
   {
    "duration": 381,
    "start_time": "2023-07-29T06:58:22.070Z"
   },
   {
    "duration": 10,
    "start_time": "2023-07-29T06:58:22.453Z"
   },
   {
    "duration": 124,
    "start_time": "2023-07-29T06:58:22.464Z"
   },
   {
    "duration": 132,
    "start_time": "2023-07-29T06:58:22.590Z"
   },
   {
    "duration": 140,
    "start_time": "2023-07-29T06:58:22.723Z"
   },
   {
    "duration": 4,
    "start_time": "2023-07-29T06:58:22.865Z"
   },
   {
    "duration": 15,
    "start_time": "2023-07-29T06:58:22.870Z"
   },
   {
    "duration": 5,
    "start_time": "2023-07-29T06:58:22.886Z"
   },
   {
    "duration": 98,
    "start_time": "2023-07-29T07:09:38.571Z"
   },
   {
    "duration": 2,
    "start_time": "2023-07-29T07:09:43.360Z"
   },
   {
    "duration": 5,
    "start_time": "2023-07-29T07:09:45.486Z"
   },
   {
    "duration": 5,
    "start_time": "2023-07-29T07:11:11.408Z"
   },
   {
    "duration": 3,
    "start_time": "2023-07-29T07:11:21.006Z"
   },
   {
    "duration": 5,
    "start_time": "2023-07-29T07:12:10.199Z"
   },
   {
    "duration": 131,
    "start_time": "2023-07-29T07:16:19.939Z"
   },
   {
    "duration": 193,
    "start_time": "2023-07-29T07:17:02.079Z"
   },
   {
    "duration": 244,
    "start_time": "2023-07-29T07:17:12.543Z"
   },
   {
    "duration": 4,
    "start_time": "2023-07-29T07:18:47.420Z"
   },
   {
    "duration": 12,
    "start_time": "2023-07-29T07:42:03.776Z"
   },
   {
    "duration": 9,
    "start_time": "2023-07-29T07:42:42.274Z"
   },
   {
    "duration": 160,
    "start_time": "2023-07-29T07:45:29.054Z"
   },
   {
    "duration": 8,
    "start_time": "2023-07-29T07:49:38.305Z"
   },
   {
    "duration": 242,
    "start_time": "2023-07-29T07:50:24.355Z"
   },
   {
    "duration": 112,
    "start_time": "2023-07-29T08:01:02.073Z"
   },
   {
    "duration": 11,
    "start_time": "2023-07-29T08:03:05.574Z"
   },
   {
    "duration": 11,
    "start_time": "2023-07-29T08:03:12.635Z"
   },
   {
    "duration": 110,
    "start_time": "2023-07-29T08:03:21.354Z"
   },
   {
    "duration": 151,
    "start_time": "2023-07-29T08:03:29.622Z"
   },
   {
    "duration": 4,
    "start_time": "2023-07-29T08:03:55.396Z"
   },
   {
    "duration": 5,
    "start_time": "2023-07-29T08:10:46.568Z"
   },
   {
    "duration": 12,
    "start_time": "2023-07-29T08:11:22.295Z"
   },
   {
    "duration": 4,
    "start_time": "2023-07-29T08:11:26.074Z"
   },
   {
    "duration": 255,
    "start_time": "2023-07-29T08:16:54.584Z"
   },
   {
    "duration": 279,
    "start_time": "2023-07-29T08:17:29.228Z"
   },
   {
    "duration": 301,
    "start_time": "2023-07-29T08:17:44.814Z"
   },
   {
    "duration": 280,
    "start_time": "2023-07-29T08:29:02.880Z"
   },
   {
    "duration": 16,
    "start_time": "2023-07-29T08:29:52.600Z"
   },
   {
    "duration": 253,
    "start_time": "2023-07-29T08:32:24.799Z"
   },
   {
    "duration": 267,
    "start_time": "2023-07-29T08:46:58.528Z"
   },
   {
    "duration": 5,
    "start_time": "2023-07-29T08:51:23.413Z"
   },
   {
    "duration": 272,
    "start_time": "2023-07-29T08:51:47.310Z"
   },
   {
    "duration": 10,
    "start_time": "2023-07-29T09:07:53.231Z"
   },
   {
    "duration": 350,
    "start_time": "2023-07-29T09:12:09.359Z"
   },
   {
    "duration": 363,
    "start_time": "2023-07-29T09:12:21.245Z"
   },
   {
    "duration": 355,
    "start_time": "2023-07-29T09:13:16.616Z"
   },
   {
    "duration": 320,
    "start_time": "2023-07-29T09:13:27.280Z"
   },
   {
    "duration": 366,
    "start_time": "2023-07-29T09:35:28.403Z"
   },
   {
    "duration": 10,
    "start_time": "2023-07-29T09:42:06.799Z"
   },
   {
    "duration": 9,
    "start_time": "2023-07-29T09:42:50.185Z"
   },
   {
    "duration": 3,
    "start_time": "2023-07-29T09:44:07.034Z"
   },
   {
    "duration": 233,
    "start_time": "2023-07-29T09:44:10.092Z"
   },
   {
    "duration": 1084,
    "start_time": "2023-07-29T09:44:18.866Z"
   },
   {
    "duration": 3,
    "start_time": "2023-07-29T09:44:19.952Z"
   },
   {
    "duration": 70,
    "start_time": "2023-07-29T09:44:19.957Z"
   },
   {
    "duration": 48,
    "start_time": "2023-07-29T09:44:20.029Z"
   },
   {
    "duration": 90,
    "start_time": "2023-07-29T09:44:20.079Z"
   },
   {
    "duration": 122,
    "start_time": "2023-07-29T09:44:20.170Z"
   },
   {
    "duration": 42,
    "start_time": "2023-07-29T09:44:20.294Z"
   },
   {
    "duration": 63,
    "start_time": "2023-07-29T09:44:20.337Z"
   },
   {
    "duration": 44,
    "start_time": "2023-07-29T09:44:20.402Z"
   },
   {
    "duration": 29,
    "start_time": "2023-07-29T09:44:20.450Z"
   },
   {
    "duration": 39,
    "start_time": "2023-07-29T09:44:20.481Z"
   },
   {
    "duration": 36,
    "start_time": "2023-07-29T09:44:20.522Z"
   },
   {
    "duration": 25,
    "start_time": "2023-07-29T09:44:20.560Z"
   },
   {
    "duration": 21,
    "start_time": "2023-07-29T09:44:20.586Z"
   },
   {
    "duration": 41,
    "start_time": "2023-07-29T09:44:20.609Z"
   },
   {
    "duration": 36,
    "start_time": "2023-07-29T09:44:20.651Z"
   },
   {
    "duration": 24,
    "start_time": "2023-07-29T09:44:20.689Z"
   },
   {
    "duration": 19,
    "start_time": "2023-07-29T09:44:20.715Z"
   },
   {
    "duration": 22,
    "start_time": "2023-07-29T09:44:20.735Z"
   },
   {
    "duration": 31,
    "start_time": "2023-07-29T09:44:20.758Z"
   },
   {
    "duration": 14,
    "start_time": "2023-07-29T09:44:20.790Z"
   },
   {
    "duration": 26,
    "start_time": "2023-07-29T09:44:20.806Z"
   },
   {
    "duration": 32,
    "start_time": "2023-07-29T09:44:20.833Z"
   },
   {
    "duration": 19,
    "start_time": "2023-07-29T09:44:20.867Z"
   },
   {
    "duration": 29,
    "start_time": "2023-07-29T09:44:20.887Z"
   },
   {
    "duration": 14,
    "start_time": "2023-07-29T09:44:20.918Z"
   },
   {
    "duration": 48,
    "start_time": "2023-07-29T09:44:20.934Z"
   },
   {
    "duration": 36,
    "start_time": "2023-07-29T09:44:20.986Z"
   },
   {
    "duration": 100,
    "start_time": "2023-07-29T09:44:21.024Z"
   },
   {
    "duration": 227,
    "start_time": "2023-07-29T09:44:21.126Z"
   },
   {
    "duration": 5,
    "start_time": "2023-07-29T09:44:21.355Z"
   },
   {
    "duration": 174,
    "start_time": "2023-07-29T09:44:21.362Z"
   },
   {
    "duration": 7,
    "start_time": "2023-07-29T09:44:21.538Z"
   },
   {
    "duration": 17,
    "start_time": "2023-07-29T09:44:21.546Z"
   },
   {
    "duration": 21,
    "start_time": "2023-07-29T09:44:21.565Z"
   },
   {
    "duration": 17,
    "start_time": "2023-07-29T09:44:21.588Z"
   },
   {
    "duration": 22,
    "start_time": "2023-07-29T09:44:21.606Z"
   },
   {
    "duration": 154,
    "start_time": "2023-07-29T09:44:21.630Z"
   },
   {
    "duration": 122,
    "start_time": "2023-07-29T09:44:21.785Z"
   },
   {
    "duration": 21,
    "start_time": "2023-07-29T09:44:21.908Z"
   },
   {
    "duration": 19,
    "start_time": "2023-07-29T09:44:21.931Z"
   },
   {
    "duration": 347,
    "start_time": "2023-07-29T09:44:21.952Z"
   },
   {
    "duration": 274,
    "start_time": "2023-07-29T09:44:22.301Z"
   },
   {
    "duration": 11,
    "start_time": "2023-07-29T09:44:22.577Z"
   },
   {
    "duration": 418,
    "start_time": "2023-07-29T09:44:22.589Z"
   },
   {
    "duration": 18,
    "start_time": "2023-07-29T09:44:23.010Z"
   },
   {
    "duration": 23,
    "start_time": "2023-07-29T09:44:23.029Z"
   },
   {
    "duration": 232,
    "start_time": "2023-07-29T09:44:23.054Z"
   },
   {
    "duration": 4,
    "start_time": "2023-07-29T09:44:23.288Z"
   },
   {
    "duration": 20,
    "start_time": "2023-07-29T09:44:23.293Z"
   },
   {
    "duration": 374,
    "start_time": "2023-07-29T09:44:23.320Z"
   },
   {
    "duration": 9,
    "start_time": "2023-07-29T09:44:23.696Z"
   },
   {
    "duration": 138,
    "start_time": "2023-07-29T09:44:23.707Z"
   },
   {
    "duration": 2,
    "start_time": "2023-07-29T09:44:23.846Z"
   },
   {
    "duration": 11,
    "start_time": "2023-07-29T09:44:23.850Z"
   },
   {
    "duration": 145,
    "start_time": "2023-07-29T09:44:23.863Z"
   },
   {
    "duration": 10,
    "start_time": "2023-07-29T09:44:24.010Z"
   },
   {
    "duration": 4,
    "start_time": "2023-07-29T09:44:26.069Z"
   },
   {
    "duration": 11,
    "start_time": "2023-07-29T09:44:26.075Z"
   },
   {
    "duration": 18,
    "start_time": "2023-07-29T09:44:26.087Z"
   },
   {
    "duration": 12,
    "start_time": "2023-07-29T09:47:47.343Z"
   },
   {
    "duration": 226,
    "start_time": "2023-07-29T09:48:09.402Z"
   },
   {
    "duration": 233,
    "start_time": "2023-07-29T09:50:17.573Z"
   },
   {
    "duration": 234,
    "start_time": "2023-07-29T09:54:43.669Z"
   },
   {
    "duration": 15,
    "start_time": "2023-07-29T09:55:54.235Z"
   },
   {
    "duration": 309,
    "start_time": "2023-07-29T09:56:22.456Z"
   },
   {
    "duration": 293,
    "start_time": "2023-07-29T09:56:32.060Z"
   },
   {
    "duration": 420,
    "start_time": "2023-07-29T09:56:39.711Z"
   },
   {
    "duration": 322,
    "start_time": "2023-07-29T09:57:26.656Z"
   },
   {
    "duration": 412,
    "start_time": "2023-07-29T09:58:40.808Z"
   },
   {
    "duration": 12,
    "start_time": "2023-07-29T10:13:26.505Z"
   },
   {
    "duration": 310,
    "start_time": "2023-07-29T10:15:17.869Z"
   },
   {
    "duration": 1244,
    "start_time": "2023-07-29T18:16:39.296Z"
   },
   {
    "duration": 2,
    "start_time": "2023-07-29T18:16:40.542Z"
   },
   {
    "duration": 82,
    "start_time": "2023-07-29T18:16:40.546Z"
   },
   {
    "duration": 95,
    "start_time": "2023-07-29T18:16:40.630Z"
   },
   {
    "duration": 64,
    "start_time": "2023-07-29T18:16:40.726Z"
   },
   {
    "duration": 5,
    "start_time": "2023-07-29T18:16:40.792Z"
   },
   {
    "duration": 14,
    "start_time": "2023-07-29T18:16:40.799Z"
   },
   {
    "duration": 12,
    "start_time": "2023-07-29T18:16:40.815Z"
   },
   {
    "duration": 5,
    "start_time": "2023-07-29T18:16:40.828Z"
   },
   {
    "duration": 11,
    "start_time": "2023-07-29T18:16:40.836Z"
   },
   {
    "duration": 12,
    "start_time": "2023-07-29T18:16:40.848Z"
   },
   {
    "duration": 5,
    "start_time": "2023-07-29T18:16:40.861Z"
   },
   {
    "duration": 6,
    "start_time": "2023-07-29T18:16:40.867Z"
   },
   {
    "duration": 4,
    "start_time": "2023-07-29T18:16:40.875Z"
   },
   {
    "duration": 21,
    "start_time": "2023-07-29T18:16:40.881Z"
   },
   {
    "duration": 18,
    "start_time": "2023-07-29T18:16:40.903Z"
   },
   {
    "duration": 6,
    "start_time": "2023-07-29T18:16:40.923Z"
   },
   {
    "duration": 10,
    "start_time": "2023-07-29T18:16:40.931Z"
   },
   {
    "duration": 20,
    "start_time": "2023-07-29T18:16:40.943Z"
   },
   {
    "duration": 39,
    "start_time": "2023-07-29T18:16:40.964Z"
   },
   {
    "duration": 10,
    "start_time": "2023-07-29T18:16:41.005Z"
   },
   {
    "duration": 4,
    "start_time": "2023-07-29T18:16:41.017Z"
   },
   {
    "duration": 10,
    "start_time": "2023-07-29T18:16:41.023Z"
   },
   {
    "duration": 18,
    "start_time": "2023-07-29T18:16:41.035Z"
   },
   {
    "duration": 6,
    "start_time": "2023-07-29T18:16:41.054Z"
   },
   {
    "duration": 5,
    "start_time": "2023-07-29T18:16:41.061Z"
   },
   {
    "duration": 5,
    "start_time": "2023-07-29T18:16:41.068Z"
   },
   {
    "duration": 27,
    "start_time": "2023-07-29T18:16:41.077Z"
   },
   {
    "duration": 80,
    "start_time": "2023-07-29T18:16:41.106Z"
   },
   {
    "duration": 221,
    "start_time": "2023-07-29T18:16:41.200Z"
   },
   {
    "duration": 4,
    "start_time": "2023-07-29T18:16:41.423Z"
   },
   {
    "duration": 133,
    "start_time": "2023-07-29T18:16:41.428Z"
   },
   {
    "duration": 7,
    "start_time": "2023-07-29T18:16:41.563Z"
   },
   {
    "duration": 15,
    "start_time": "2023-07-29T18:16:41.571Z"
   },
   {
    "duration": 23,
    "start_time": "2023-07-29T18:16:41.587Z"
   },
   {
    "duration": 13,
    "start_time": "2023-07-29T18:16:41.611Z"
   },
   {
    "duration": 10,
    "start_time": "2023-07-29T18:16:41.626Z"
   },
   {
    "duration": 173,
    "start_time": "2023-07-29T18:16:41.638Z"
   },
   {
    "duration": 132,
    "start_time": "2023-07-29T18:16:41.812Z"
   },
   {
    "duration": 11,
    "start_time": "2023-07-29T18:16:41.945Z"
   },
   {
    "duration": 8,
    "start_time": "2023-07-29T18:16:41.957Z"
   },
   {
    "duration": 359,
    "start_time": "2023-07-29T18:16:41.966Z"
   },
   {
    "duration": 287,
    "start_time": "2023-07-29T18:16:42.327Z"
   },
   {
    "duration": 11,
    "start_time": "2023-07-29T18:16:42.615Z"
   },
   {
    "duration": 402,
    "start_time": "2023-07-29T18:16:42.627Z"
   },
   {
    "duration": 11,
    "start_time": "2023-07-29T18:16:43.030Z"
   },
   {
    "duration": 19,
    "start_time": "2023-07-29T18:16:43.042Z"
   },
   {
    "duration": 275,
    "start_time": "2023-07-29T18:16:43.062Z"
   },
   {
    "duration": 13,
    "start_time": "2023-07-29T18:16:43.338Z"
   },
   {
    "duration": 428,
    "start_time": "2023-07-29T18:16:43.352Z"
   },
   {
    "duration": 10,
    "start_time": "2023-07-29T18:16:43.782Z"
   },
   {
    "duration": 155,
    "start_time": "2023-07-29T18:16:43.793Z"
   },
   {
    "duration": 2,
    "start_time": "2023-07-29T18:16:43.950Z"
   },
   {
    "duration": 21,
    "start_time": "2023-07-29T18:16:43.953Z"
   },
   {
    "duration": 144,
    "start_time": "2023-07-29T18:16:43.975Z"
   },
   {
    "duration": 5,
    "start_time": "2023-07-29T18:16:44.120Z"
   },
   {
    "duration": 6,
    "start_time": "2023-07-29T18:16:44.126Z"
   },
   {
    "duration": 13,
    "start_time": "2023-07-29T18:16:44.133Z"
   },
   {
    "duration": 8,
    "start_time": "2023-07-29T18:16:44.147Z"
   },
   {
    "duration": 5,
    "start_time": "2023-07-29T18:24:33.453Z"
   },
   {
    "duration": 11,
    "start_time": "2023-07-29T18:29:42.186Z"
   },
   {
    "duration": 161,
    "start_time": "2023-07-29T18:29:48.459Z"
   },
   {
    "duration": 3,
    "start_time": "2023-07-29T18:30:00.719Z"
   },
   {
    "duration": 5,
    "start_time": "2023-07-29T18:30:03.940Z"
   },
   {
    "duration": 9,
    "start_time": "2023-07-29T18:30:55.060Z"
   },
   {
    "duration": 121,
    "start_time": "2023-07-29T18:31:17.810Z"
   },
   {
    "duration": 147,
    "start_time": "2023-07-29T18:31:44.931Z"
   },
   {
    "duration": 113,
    "start_time": "2023-07-29T18:31:54.947Z"
   },
   {
    "duration": 10,
    "start_time": "2023-07-29T18:32:03.607Z"
   },
   {
    "duration": 139,
    "start_time": "2023-07-29T18:32:27.016Z"
   },
   {
    "duration": 107,
    "start_time": "2023-07-29T18:32:30.635Z"
   },
   {
    "duration": 10,
    "start_time": "2023-07-29T18:32:34.174Z"
   },
   {
    "duration": 4,
    "start_time": "2023-07-29T18:32:41.544Z"
   },
   {
    "duration": 278,
    "start_time": "2023-07-29T18:32:47.719Z"
   },
   {
    "duration": 246,
    "start_time": "2023-07-29T18:33:00.129Z"
   },
   {
    "duration": 11,
    "start_time": "2023-07-29T18:34:11.753Z"
   },
   {
    "duration": 5,
    "start_time": "2023-07-29T18:34:13.795Z"
   },
   {
    "duration": 246,
    "start_time": "2023-07-29T18:34:18.726Z"
   },
   {
    "duration": 272,
    "start_time": "2023-07-29T18:34:42.251Z"
   },
   {
    "duration": 12,
    "start_time": "2023-07-29T18:34:52.195Z"
   },
   {
    "duration": 331,
    "start_time": "2023-07-29T18:34:57.111Z"
   },
   {
    "duration": 10,
    "start_time": "2023-07-29T18:35:09.550Z"
   },
   {
    "duration": 10,
    "start_time": "2023-07-29T18:35:38.594Z"
   },
   {
    "duration": 372,
    "start_time": "2023-07-29T18:35:44.290Z"
   },
   {
    "duration": 10,
    "start_time": "2023-07-29T18:35:49.815Z"
   },
   {
    "duration": 3,
    "start_time": "2023-07-29T18:35:54.213Z"
   },
   {
    "duration": 233,
    "start_time": "2023-07-29T18:35:56.395Z"
   },
   {
    "duration": 232,
    "start_time": "2023-07-29T18:36:01.609Z"
   },
   {
    "duration": 10,
    "start_time": "2023-07-29T18:46:03.459Z"
   },
   {
    "duration": 389,
    "start_time": "2023-07-29T18:46:07.961Z"
   },
   {
    "duration": 9,
    "start_time": "2023-07-29T18:48:02.890Z"
   },
   {
    "duration": 3,
    "start_time": "2023-07-29T18:48:04.572Z"
   },
   {
    "duration": 231,
    "start_time": "2023-07-29T18:48:09.299Z"
   },
   {
    "duration": 247,
    "start_time": "2023-07-29T18:48:45.684Z"
   },
   {
    "duration": 262,
    "start_time": "2023-07-29T18:49:02.239Z"
   },
   {
    "duration": 227,
    "start_time": "2023-07-29T18:49:30.645Z"
   },
   {
    "duration": 12,
    "start_time": "2023-07-29T18:50:00.601Z"
   },
   {
    "duration": 350,
    "start_time": "2023-07-29T18:50:06.001Z"
   },
   {
    "duration": 10,
    "start_time": "2023-07-29T18:50:39.284Z"
   },
   {
    "duration": 130,
    "start_time": "2023-07-29T18:50:42.842Z"
   },
   {
    "duration": 135,
    "start_time": "2023-07-29T18:51:05.067Z"
   },
   {
    "duration": 126,
    "start_time": "2023-07-29T18:51:11.079Z"
   },
   {
    "duration": 4,
    "start_time": "2023-07-29T18:51:16.873Z"
   },
   {
    "duration": 125,
    "start_time": "2023-07-29T19:00:21.216Z"
   },
   {
    "duration": 152,
    "start_time": "2023-07-29T19:05:46.935Z"
   },
   {
    "duration": 142,
    "start_time": "2023-07-29T19:06:39.260Z"
   },
   {
    "duration": 4,
    "start_time": "2023-07-29T19:07:17.758Z"
   },
   {
    "duration": 206,
    "start_time": "2023-07-29T19:10:36.670Z"
   },
   {
    "duration": 5,
    "start_time": "2023-07-29T19:20:05.137Z"
   },
   {
    "duration": 122,
    "start_time": "2023-07-29T19:20:08.044Z"
   },
   {
    "duration": 5,
    "start_time": "2023-07-29T19:26:25.451Z"
   },
   {
    "duration": 7,
    "start_time": "2023-07-29T19:26:33.411Z"
   },
   {
    "duration": 8,
    "start_time": "2023-07-29T19:28:15.111Z"
   },
   {
    "duration": 4,
    "start_time": "2023-07-29T19:28:21.078Z"
   },
   {
    "duration": 7,
    "start_time": "2023-07-29T19:28:21.929Z"
   },
   {
    "duration": 80,
    "start_time": "2023-07-29T19:29:29.932Z"
   },
   {
    "duration": 2,
    "start_time": "2023-07-29T19:29:38.759Z"
   },
   {
    "duration": 4,
    "start_time": "2023-07-29T19:29:46.794Z"
   },
   {
    "duration": 2,
    "start_time": "2023-07-29T19:29:48.487Z"
   },
   {
    "duration": 5,
    "start_time": "2023-07-29T19:30:03.740Z"
   },
   {
    "duration": 16,
    "start_time": "2023-07-29T19:31:44.997Z"
   },
   {
    "duration": 14,
    "start_time": "2023-07-29T19:32:18.172Z"
   },
   {
    "duration": 4,
    "start_time": "2023-07-29T19:32:24.286Z"
   },
   {
    "duration": 8,
    "start_time": "2023-07-29T19:32:25.027Z"
   },
   {
    "duration": 9,
    "start_time": "2023-07-29T19:33:14.043Z"
   },
   {
    "duration": 11,
    "start_time": "2023-07-29T19:34:29.414Z"
   },
   {
    "duration": 4,
    "start_time": "2023-07-29T19:34:41.043Z"
   },
   {
    "duration": 8,
    "start_time": "2023-07-29T19:34:41.630Z"
   },
   {
    "duration": 47,
    "start_time": "2023-07-29T19:35:11.913Z"
   },
   {
    "duration": 45,
    "start_time": "2023-07-29T19:37:47.073Z"
   },
   {
    "duration": 4,
    "start_time": "2023-07-29T19:37:59.431Z"
   },
   {
    "duration": 37,
    "start_time": "2023-07-29T19:38:09.233Z"
   },
   {
    "duration": 39,
    "start_time": "2023-07-29T19:38:19.444Z"
   },
   {
    "duration": 41,
    "start_time": "2023-07-29T19:38:41.218Z"
   },
   {
    "duration": 8,
    "start_time": "2023-07-29T19:38:53.011Z"
   },
   {
    "duration": 10,
    "start_time": "2023-07-29T19:39:05.515Z"
   },
   {
    "duration": 11,
    "start_time": "2023-07-29T19:41:56.030Z"
   },
   {
    "duration": 9,
    "start_time": "2023-07-29T19:42:11.576Z"
   },
   {
    "duration": 8,
    "start_time": "2023-07-29T19:42:17.258Z"
   },
   {
    "duration": 39,
    "start_time": "2023-07-29T19:47:11.893Z"
   },
   {
    "duration": 48,
    "start_time": "2023-07-29T19:47:28.971Z"
   },
   {
    "duration": 8,
    "start_time": "2023-07-29T19:49:24.957Z"
   },
   {
    "duration": 43,
    "start_time": "2023-07-29T19:50:26.216Z"
   },
   {
    "duration": 26,
    "start_time": "2023-07-29T19:51:22.296Z"
   },
   {
    "duration": 14,
    "start_time": "2023-07-29T19:53:04.367Z"
   },
   {
    "duration": 16,
    "start_time": "2023-07-29T19:53:10.397Z"
   },
   {
    "duration": 7,
    "start_time": "2023-07-29T19:56:25.561Z"
   },
   {
    "duration": 13,
    "start_time": "2023-07-29T19:56:30.727Z"
   },
   {
    "duration": 8,
    "start_time": "2023-07-29T19:56:31.861Z"
   },
   {
    "duration": 19,
    "start_time": "2023-07-29T19:57:26.626Z"
   },
   {
    "duration": 16,
    "start_time": "2023-07-29T19:59:07.758Z"
   },
   {
    "duration": 26,
    "start_time": "2023-07-29T19:59:16.800Z"
   },
   {
    "duration": 17,
    "start_time": "2023-07-29T19:59:17.950Z"
   },
   {
    "duration": 47,
    "start_time": "2023-07-29T20:02:48.451Z"
   },
   {
    "duration": 8,
    "start_time": "2023-07-29T20:02:54.435Z"
   },
   {
    "duration": 41,
    "start_time": "2023-07-29T20:04:00.721Z"
   },
   {
    "duration": 57,
    "start_time": "2023-07-29T20:04:10.563Z"
   },
   {
    "duration": 9,
    "start_time": "2023-07-29T20:04:12.881Z"
   },
   {
    "duration": 65,
    "start_time": "2023-07-29T20:04:35.120Z"
   },
   {
    "duration": 52,
    "start_time": "2023-07-29T20:05:44.937Z"
   },
   {
    "duration": 66,
    "start_time": "2023-07-29T20:06:36.031Z"
   },
   {
    "duration": 24,
    "start_time": "2023-07-29T20:12:02.858Z"
   },
   {
    "duration": 73,
    "start_time": "2023-07-29T20:22:29.994Z"
   },
   {
    "duration": 8,
    "start_time": "2023-07-29T20:22:35.880Z"
   },
   {
    "duration": 70,
    "start_time": "2023-07-29T20:28:11.244Z"
   },
   {
    "duration": 69,
    "start_time": "2023-07-29T20:28:44.344Z"
   },
   {
    "duration": 8,
    "start_time": "2023-07-29T20:28:49.671Z"
   },
   {
    "duration": 1109,
    "start_time": "2023-07-29T20:29:09.750Z"
   },
   {
    "duration": 3,
    "start_time": "2023-07-29T20:29:10.861Z"
   },
   {
    "duration": 54,
    "start_time": "2023-07-29T20:29:10.865Z"
   },
   {
    "duration": 48,
    "start_time": "2023-07-29T20:29:10.921Z"
   },
   {
    "duration": 25,
    "start_time": "2023-07-29T20:29:10.970Z"
   },
   {
    "duration": 15,
    "start_time": "2023-07-29T20:29:10.996Z"
   },
   {
    "duration": 10,
    "start_time": "2023-07-29T20:29:11.012Z"
   },
   {
    "duration": 10,
    "start_time": "2023-07-29T20:29:11.024Z"
   },
   {
    "duration": 13,
    "start_time": "2023-07-29T20:29:11.036Z"
   },
   {
    "duration": 6,
    "start_time": "2023-07-29T20:29:11.053Z"
   },
   {
    "duration": 8,
    "start_time": "2023-07-29T20:29:11.060Z"
   },
   {
    "duration": 6,
    "start_time": "2023-07-29T20:29:11.070Z"
   },
   {
    "duration": 6,
    "start_time": "2023-07-29T20:29:11.078Z"
   },
   {
    "duration": 4,
    "start_time": "2023-07-29T20:29:11.086Z"
   },
   {
    "duration": 6,
    "start_time": "2023-07-29T20:29:11.105Z"
   },
   {
    "duration": 19,
    "start_time": "2023-07-29T20:29:11.113Z"
   },
   {
    "duration": 5,
    "start_time": "2023-07-29T20:29:11.134Z"
   },
   {
    "duration": 4,
    "start_time": "2023-07-29T20:29:11.140Z"
   },
   {
    "duration": 13,
    "start_time": "2023-07-29T20:29:11.145Z"
   },
   {
    "duration": 18,
    "start_time": "2023-07-29T20:29:11.159Z"
   },
   {
    "duration": 40,
    "start_time": "2023-07-29T20:29:11.178Z"
   },
   {
    "duration": 5,
    "start_time": "2023-07-29T20:29:11.219Z"
   },
   {
    "duration": 8,
    "start_time": "2023-07-29T20:29:11.225Z"
   },
   {
    "duration": 8,
    "start_time": "2023-07-29T20:29:11.235Z"
   },
   {
    "duration": 5,
    "start_time": "2023-07-29T20:29:11.245Z"
   },
   {
    "duration": 7,
    "start_time": "2023-07-29T20:29:11.251Z"
   },
   {
    "duration": 5,
    "start_time": "2023-07-29T20:29:11.259Z"
   },
   {
    "duration": 10,
    "start_time": "2023-07-29T20:29:11.268Z"
   },
   {
    "duration": 93,
    "start_time": "2023-07-29T20:29:11.280Z"
   },
   {
    "duration": 231,
    "start_time": "2023-07-29T20:29:11.375Z"
   },
   {
    "duration": 5,
    "start_time": "2023-07-29T20:29:11.607Z"
   },
   {
    "duration": 132,
    "start_time": "2023-07-29T20:29:11.614Z"
   },
   {
    "duration": 7,
    "start_time": "2023-07-29T20:29:11.748Z"
   },
   {
    "duration": 13,
    "start_time": "2023-07-29T20:29:11.756Z"
   },
   {
    "duration": 33,
    "start_time": "2023-07-29T20:29:11.770Z"
   },
   {
    "duration": 14,
    "start_time": "2023-07-29T20:29:11.805Z"
   },
   {
    "duration": 22,
    "start_time": "2023-07-29T20:29:11.821Z"
   },
   {
    "duration": 168,
    "start_time": "2023-07-29T20:29:11.844Z"
   },
   {
    "duration": 125,
    "start_time": "2023-07-29T20:29:12.013Z"
   },
   {
    "duration": 16,
    "start_time": "2023-07-29T20:29:12.140Z"
   },
   {
    "duration": 19,
    "start_time": "2023-07-29T20:29:12.157Z"
   },
   {
    "duration": 354,
    "start_time": "2023-07-29T20:29:12.178Z"
   },
   {
    "duration": 288,
    "start_time": "2023-07-29T20:29:12.534Z"
   },
   {
    "duration": 11,
    "start_time": "2023-07-29T20:29:12.823Z"
   },
   {
    "duration": 346,
    "start_time": "2023-07-29T20:29:12.835Z"
   },
   {
    "duration": 10,
    "start_time": "2023-07-29T20:29:13.182Z"
   },
   {
    "duration": 4,
    "start_time": "2023-07-29T20:29:13.199Z"
   },
   {
    "duration": 264,
    "start_time": "2023-07-29T20:29:13.204Z"
   },
   {
    "duration": 13,
    "start_time": "2023-07-29T20:29:13.470Z"
   },
   {
    "duration": 407,
    "start_time": "2023-07-29T20:29:13.484Z"
   },
   {
    "duration": 14,
    "start_time": "2023-07-29T20:29:13.893Z"
   },
   {
    "duration": 179,
    "start_time": "2023-07-29T20:29:13.909Z"
   },
   {
    "duration": 2,
    "start_time": "2023-07-29T20:29:14.090Z"
   },
   {
    "duration": 9,
    "start_time": "2023-07-29T20:29:14.093Z"
   },
   {
    "duration": 166,
    "start_time": "2023-07-29T20:29:14.103Z"
   },
   {
    "duration": 5,
    "start_time": "2023-07-29T20:29:14.270Z"
   },
   {
    "duration": 21,
    "start_time": "2023-07-29T20:29:14.279Z"
   },
   {
    "duration": 8,
    "start_time": "2023-07-29T20:29:14.301Z"
   },
   {
    "duration": 45,
    "start_time": "2023-07-29T20:29:14.311Z"
   },
   {
    "duration": 63,
    "start_time": "2023-07-29T20:29:14.358Z"
   },
   {
    "duration": 40,
    "start_time": "2023-07-29T20:29:14.422Z"
   },
   {
    "duration": 18,
    "start_time": "2023-07-29T20:29:14.463Z"
   },
   {
    "duration": 52,
    "start_time": "2023-07-29T20:29:14.483Z"
   },
   {
    "duration": 49,
    "start_time": "2023-07-29T20:29:14.537Z"
   },
   {
    "duration": 37,
    "start_time": "2023-07-29T20:29:14.588Z"
   },
   {
    "duration": 86,
    "start_time": "2023-07-29T20:29:14.627Z"
   },
   {
    "duration": 119,
    "start_time": "2023-07-29T20:29:14.715Z"
   },
   {
    "duration": 0,
    "start_time": "2023-07-29T20:29:14.836Z"
   },
   {
    "duration": 0,
    "start_time": "2023-07-29T20:29:14.837Z"
   },
   {
    "duration": 0,
    "start_time": "2023-07-29T20:29:14.838Z"
   },
   {
    "duration": 80,
    "start_time": "2023-07-29T20:30:23.950Z"
   },
   {
    "duration": 4,
    "start_time": "2023-07-29T20:37:40.833Z"
   },
   {
    "duration": 5,
    "start_time": "2023-07-29T20:41:19.616Z"
   },
   {
    "duration": 5,
    "start_time": "2023-07-29T20:41:20.712Z"
   },
   {
    "duration": 7,
    "start_time": "2023-07-29T20:43:08.017Z"
   },
   {
    "duration": 6,
    "start_time": "2023-07-29T20:43:48.019Z"
   },
   {
    "duration": 68,
    "start_time": "2023-07-29T20:45:21.007Z"
   },
   {
    "duration": 74,
    "start_time": "2023-07-29T20:45:48.305Z"
   },
   {
    "duration": 6,
    "start_time": "2023-07-29T20:45:55.551Z"
   },
   {
    "duration": 10,
    "start_time": "2023-07-29T20:47:33.140Z"
   },
   {
    "duration": 31,
    "start_time": "2023-07-29T20:48:03.929Z"
   },
   {
    "duration": 20,
    "start_time": "2023-07-29T20:50:40.790Z"
   },
   {
    "duration": 6,
    "start_time": "2023-07-29T20:51:13.288Z"
   },
   {
    "duration": 11,
    "start_time": "2023-07-29T20:56:01.346Z"
   },
   {
    "duration": 9,
    "start_time": "2023-07-29T20:56:08.651Z"
   },
   {
    "duration": 7,
    "start_time": "2023-07-29T20:56:15.345Z"
   },
   {
    "duration": 9,
    "start_time": "2023-07-29T20:57:40.275Z"
   },
   {
    "duration": 9,
    "start_time": "2023-07-29T20:57:47.306Z"
   },
   {
    "duration": 7,
    "start_time": "2023-07-29T20:58:42.191Z"
   },
   {
    "duration": 1312,
    "start_time": "2023-07-30T03:46:17.747Z"
   },
   {
    "duration": 1079,
    "start_time": "2023-07-30T03:46:25.861Z"
   },
   {
    "duration": 3,
    "start_time": "2023-07-30T03:46:26.943Z"
   },
   {
    "duration": 82,
    "start_time": "2023-07-30T03:46:26.947Z"
   },
   {
    "duration": 95,
    "start_time": "2023-07-30T03:46:27.031Z"
   },
   {
    "duration": 63,
    "start_time": "2023-07-30T03:46:27.127Z"
   },
   {
    "duration": 4,
    "start_time": "2023-07-30T03:46:27.192Z"
   },
   {
    "duration": 8,
    "start_time": "2023-07-30T03:46:27.198Z"
   },
   {
    "duration": 15,
    "start_time": "2023-07-30T03:46:27.207Z"
   },
   {
    "duration": 13,
    "start_time": "2023-07-30T03:46:27.223Z"
   },
   {
    "duration": 6,
    "start_time": "2023-07-30T03:46:27.238Z"
   },
   {
    "duration": 10,
    "start_time": "2023-07-30T03:46:27.245Z"
   },
   {
    "duration": 13,
    "start_time": "2023-07-30T03:46:27.256Z"
   },
   {
    "duration": 8,
    "start_time": "2023-07-30T03:46:27.271Z"
   },
   {
    "duration": 4,
    "start_time": "2023-07-30T03:46:27.280Z"
   },
   {
    "duration": 7,
    "start_time": "2023-07-30T03:46:27.286Z"
   },
   {
    "duration": 19,
    "start_time": "2023-07-30T03:46:27.295Z"
   },
   {
    "duration": 5,
    "start_time": "2023-07-30T03:46:27.315Z"
   },
   {
    "duration": 10,
    "start_time": "2023-07-30T03:46:27.322Z"
   },
   {
    "duration": 9,
    "start_time": "2023-07-30T03:46:27.333Z"
   },
   {
    "duration": 12,
    "start_time": "2023-07-30T03:46:27.343Z"
   },
   {
    "duration": 12,
    "start_time": "2023-07-30T03:46:27.356Z"
   },
   {
    "duration": 4,
    "start_time": "2023-07-30T03:46:27.370Z"
   },
   {
    "duration": 30,
    "start_time": "2023-07-30T03:46:27.375Z"
   },
   {
    "duration": 6,
    "start_time": "2023-07-30T03:46:27.406Z"
   },
   {
    "duration": 6,
    "start_time": "2023-07-30T03:46:27.413Z"
   },
   {
    "duration": 9,
    "start_time": "2023-07-30T03:46:27.420Z"
   },
   {
    "duration": 5,
    "start_time": "2023-07-30T03:46:27.431Z"
   },
   {
    "duration": 6,
    "start_time": "2023-07-30T03:46:27.441Z"
   },
   {
    "duration": 99,
    "start_time": "2023-07-30T03:46:27.448Z"
   },
   {
    "duration": 230,
    "start_time": "2023-07-30T03:46:27.549Z"
   },
   {
    "duration": 5,
    "start_time": "2023-07-30T03:46:27.781Z"
   },
   {
    "duration": 126,
    "start_time": "2023-07-30T03:46:27.788Z"
   },
   {
    "duration": 7,
    "start_time": "2023-07-30T03:46:27.916Z"
   },
   {
    "duration": 16,
    "start_time": "2023-07-30T03:46:27.925Z"
   },
   {
    "duration": 42,
    "start_time": "2023-07-30T03:46:27.943Z"
   },
   {
    "duration": 16,
    "start_time": "2023-07-30T03:46:27.987Z"
   },
   {
    "duration": 12,
    "start_time": "2023-07-30T03:46:28.005Z"
   },
   {
    "duration": 169,
    "start_time": "2023-07-30T03:46:28.019Z"
   },
   {
    "duration": 116,
    "start_time": "2023-07-30T03:46:28.190Z"
   },
   {
    "duration": 11,
    "start_time": "2023-07-30T03:46:28.307Z"
   },
   {
    "duration": 6,
    "start_time": "2023-07-30T03:46:28.319Z"
   },
   {
    "duration": 337,
    "start_time": "2023-07-30T03:46:28.326Z"
   },
   {
    "duration": 265,
    "start_time": "2023-07-30T03:46:28.664Z"
   },
   {
    "duration": 10,
    "start_time": "2023-07-30T03:46:28.931Z"
   },
   {
    "duration": 337,
    "start_time": "2023-07-30T03:46:28.942Z"
   },
   {
    "duration": 9,
    "start_time": "2023-07-30T03:46:29.281Z"
   },
   {
    "duration": 5,
    "start_time": "2023-07-30T03:46:29.299Z"
   },
   {
    "duration": 240,
    "start_time": "2023-07-30T03:46:29.305Z"
   },
   {
    "duration": 12,
    "start_time": "2023-07-30T03:46:29.546Z"
   },
   {
    "duration": 412,
    "start_time": "2023-07-30T03:46:29.559Z"
   },
   {
    "duration": 10,
    "start_time": "2023-07-30T03:46:29.972Z"
   },
   {
    "duration": 158,
    "start_time": "2023-07-30T03:46:29.984Z"
   },
   {
    "duration": 6,
    "start_time": "2023-07-30T03:46:30.144Z"
   },
   {
    "duration": 45,
    "start_time": "2023-07-30T03:46:30.151Z"
   },
   {
    "duration": 182,
    "start_time": "2023-07-30T03:46:30.198Z"
   },
   {
    "duration": 4,
    "start_time": "2023-07-30T03:46:30.382Z"
   },
   {
    "duration": 37,
    "start_time": "2023-07-30T03:46:30.388Z"
   },
   {
    "duration": 42,
    "start_time": "2023-07-30T03:46:30.426Z"
   },
   {
    "duration": 74,
    "start_time": "2023-07-30T03:46:30.470Z"
   },
   {
    "duration": 76,
    "start_time": "2023-07-30T03:46:30.546Z"
   },
   {
    "duration": 65,
    "start_time": "2023-07-30T03:46:30.623Z"
   },
   {
    "duration": 62,
    "start_time": "2023-07-30T03:46:30.689Z"
   },
   {
    "duration": 95,
    "start_time": "2023-07-30T03:46:30.752Z"
   },
   {
    "duration": 100,
    "start_time": "2023-07-30T03:46:30.848Z"
   },
   {
    "duration": 76,
    "start_time": "2023-07-30T03:46:30.950Z"
   },
   {
    "duration": 82,
    "start_time": "2023-07-30T03:46:31.027Z"
   },
   {
    "duration": 118,
    "start_time": "2023-07-30T03:46:31.110Z"
   },
   {
    "duration": 5,
    "start_time": "2023-07-30T03:46:31.229Z"
   },
   {
    "duration": 41,
    "start_time": "2023-07-30T03:46:31.236Z"
   },
   {
    "duration": 49,
    "start_time": "2023-07-30T03:46:31.278Z"
   },
   {
    "duration": 30,
    "start_time": "2023-07-30T03:46:31.328Z"
   },
   {
    "duration": 53,
    "start_time": "2023-07-30T03:46:31.359Z"
   },
   {
    "duration": 20,
    "start_time": "2023-07-30T03:46:31.413Z"
   },
   {
    "duration": 28,
    "start_time": "2023-07-30T03:46:31.435Z"
   },
   {
    "duration": 37,
    "start_time": "2023-07-30T03:46:31.468Z"
   },
   {
    "duration": 40,
    "start_time": "2023-07-30T03:46:31.506Z"
   },
   {
    "duration": 23,
    "start_time": "2023-07-30T03:46:31.548Z"
   },
   {
    "duration": 4,
    "start_time": "2023-07-30T03:48:54.409Z"
   },
   {
    "duration": 4,
    "start_time": "2023-07-30T03:52:43.086Z"
   },
   {
    "duration": 4,
    "start_time": "2023-07-30T03:53:56.834Z"
   },
   {
    "duration": 3,
    "start_time": "2023-07-30T03:56:39.173Z"
   },
   {
    "duration": 3,
    "start_time": "2023-07-30T03:56:53.049Z"
   },
   {
    "duration": 4,
    "start_time": "2023-07-30T03:57:00.169Z"
   },
   {
    "duration": 4,
    "start_time": "2023-07-30T03:57:26.756Z"
   },
   {
    "duration": 4,
    "start_time": "2023-07-30T03:59:09.511Z"
   },
   {
    "duration": 4,
    "start_time": "2023-07-30T03:59:10.251Z"
   },
   {
    "duration": 4,
    "start_time": "2023-07-30T04:00:11.125Z"
   },
   {
    "duration": 4,
    "start_time": "2023-07-30T04:00:31.194Z"
   },
   {
    "duration": 245,
    "start_time": "2023-07-30T04:01:52.882Z"
   },
   {
    "duration": 159,
    "start_time": "2023-07-30T04:02:30.519Z"
   },
   {
    "duration": 151,
    "start_time": "2023-07-30T04:02:50.303Z"
   },
   {
    "duration": 154,
    "start_time": "2023-07-30T04:03:04.919Z"
   },
   {
    "duration": 6,
    "start_time": "2023-07-30T04:22:56.500Z"
   },
   {
    "duration": 7,
    "start_time": "2023-07-30T04:57:48.042Z"
   },
   {
    "duration": 1129,
    "start_time": "2023-07-30T04:58:23.289Z"
   },
   {
    "duration": 3,
    "start_time": "2023-07-30T04:58:24.420Z"
   },
   {
    "duration": 50,
    "start_time": "2023-07-30T04:58:24.424Z"
   },
   {
    "duration": 51,
    "start_time": "2023-07-30T04:58:24.476Z"
   },
   {
    "duration": 27,
    "start_time": "2023-07-30T04:58:24.529Z"
   },
   {
    "duration": 8,
    "start_time": "2023-07-30T04:58:24.558Z"
   },
   {
    "duration": 19,
    "start_time": "2023-07-30T04:58:24.567Z"
   },
   {
    "duration": 18,
    "start_time": "2023-07-30T04:58:24.588Z"
   },
   {
    "duration": 10,
    "start_time": "2023-07-30T04:58:24.607Z"
   },
   {
    "duration": 11,
    "start_time": "2023-07-30T04:58:24.619Z"
   },
   {
    "duration": 11,
    "start_time": "2023-07-30T04:58:24.632Z"
   },
   {
    "duration": 22,
    "start_time": "2023-07-30T04:58:24.645Z"
   },
   {
    "duration": 6,
    "start_time": "2023-07-30T04:58:24.669Z"
   },
   {
    "duration": 8,
    "start_time": "2023-07-30T04:58:24.676Z"
   },
   {
    "duration": 14,
    "start_time": "2023-07-30T04:58:24.685Z"
   },
   {
    "duration": 18,
    "start_time": "2023-07-30T04:58:24.700Z"
   },
   {
    "duration": 5,
    "start_time": "2023-07-30T04:58:24.720Z"
   },
   {
    "duration": 6,
    "start_time": "2023-07-30T04:58:24.726Z"
   },
   {
    "duration": 19,
    "start_time": "2023-07-30T04:58:24.733Z"
   },
   {
    "duration": 12,
    "start_time": "2023-07-30T04:58:24.754Z"
   },
   {
    "duration": 10,
    "start_time": "2023-07-30T04:58:24.767Z"
   },
   {
    "duration": 4,
    "start_time": "2023-07-30T04:58:24.778Z"
   },
   {
    "duration": 9,
    "start_time": "2023-07-30T04:58:24.800Z"
   },
   {
    "duration": 8,
    "start_time": "2023-07-30T04:58:24.810Z"
   },
   {
    "duration": 7,
    "start_time": "2023-07-30T04:58:24.819Z"
   },
   {
    "duration": 9,
    "start_time": "2023-07-30T04:58:24.827Z"
   },
   {
    "duration": 4,
    "start_time": "2023-07-30T04:58:24.837Z"
   },
   {
    "duration": 6,
    "start_time": "2023-07-30T04:58:24.843Z"
   },
   {
    "duration": 90,
    "start_time": "2023-07-30T04:58:24.850Z"
   },
   {
    "duration": 207,
    "start_time": "2023-07-30T04:58:24.942Z"
   },
   {
    "duration": 4,
    "start_time": "2023-07-30T04:58:25.150Z"
   },
   {
    "duration": 118,
    "start_time": "2023-07-30T04:58:25.156Z"
   },
   {
    "duration": 7,
    "start_time": "2023-07-30T04:58:25.276Z"
   },
   {
    "duration": 22,
    "start_time": "2023-07-30T04:58:25.285Z"
   },
   {
    "duration": 14,
    "start_time": "2023-07-30T04:58:25.308Z"
   },
   {
    "duration": 14,
    "start_time": "2023-07-30T04:58:25.326Z"
   },
   {
    "duration": 16,
    "start_time": "2023-07-30T04:58:25.342Z"
   },
   {
    "duration": 176,
    "start_time": "2023-07-30T04:58:25.359Z"
   },
   {
    "duration": 113,
    "start_time": "2023-07-30T04:58:25.537Z"
   },
   {
    "duration": 11,
    "start_time": "2023-07-30T04:58:25.651Z"
   },
   {
    "duration": 6,
    "start_time": "2023-07-30T04:58:25.663Z"
   },
   {
    "duration": 399,
    "start_time": "2023-07-30T04:58:25.670Z"
   },
   {
    "duration": 292,
    "start_time": "2023-07-30T04:58:26.071Z"
   },
   {
    "duration": 10,
    "start_time": "2023-07-30T04:58:26.364Z"
   },
   {
    "duration": 371,
    "start_time": "2023-07-30T04:58:26.377Z"
   },
   {
    "duration": 9,
    "start_time": "2023-07-30T04:58:26.749Z"
   },
   {
    "duration": 37,
    "start_time": "2023-07-30T04:58:26.760Z"
   },
   {
    "duration": 264,
    "start_time": "2023-07-30T04:58:26.799Z"
   },
   {
    "duration": 12,
    "start_time": "2023-07-30T04:58:27.065Z"
   },
   {
    "duration": 432,
    "start_time": "2023-07-30T04:58:27.078Z"
   },
   {
    "duration": 10,
    "start_time": "2023-07-30T04:58:27.512Z"
   },
   {
    "duration": 163,
    "start_time": "2023-07-30T04:58:27.523Z"
   },
   {
    "duration": 4,
    "start_time": "2023-07-30T04:58:27.687Z"
   },
   {
    "duration": 9,
    "start_time": "2023-07-30T04:58:27.692Z"
   },
   {
    "duration": 153,
    "start_time": "2023-07-30T04:58:27.703Z"
   },
   {
    "duration": 4,
    "start_time": "2023-07-30T04:58:27.858Z"
   },
   {
    "duration": 5,
    "start_time": "2023-07-30T04:58:27.863Z"
   },
   {
    "duration": 8,
    "start_time": "2023-07-30T04:58:27.870Z"
   },
   {
    "duration": 27,
    "start_time": "2023-07-30T04:58:27.879Z"
   },
   {
    "duration": 50,
    "start_time": "2023-07-30T04:58:27.907Z"
   },
   {
    "duration": 53,
    "start_time": "2023-07-30T04:58:27.958Z"
   },
   {
    "duration": 17,
    "start_time": "2023-07-30T04:58:28.013Z"
   },
   {
    "duration": 21,
    "start_time": "2023-07-30T04:58:28.032Z"
   },
   {
    "duration": 62,
    "start_time": "2023-07-30T04:58:28.054Z"
   },
   {
    "duration": 56,
    "start_time": "2023-07-30T04:58:28.122Z"
   },
   {
    "duration": 40,
    "start_time": "2023-07-30T04:58:28.180Z"
   },
   {
    "duration": 56,
    "start_time": "2023-07-30T04:58:28.221Z"
   },
   {
    "duration": 80,
    "start_time": "2023-07-30T04:58:28.278Z"
   },
   {
    "duration": 5,
    "start_time": "2023-07-30T04:58:28.360Z"
   },
   {
    "duration": 13,
    "start_time": "2023-07-30T04:58:28.367Z"
   },
   {
    "duration": 20,
    "start_time": "2023-07-30T04:58:28.383Z"
   },
   {
    "duration": 19,
    "start_time": "2023-07-30T04:58:28.405Z"
   },
   {
    "duration": 3,
    "start_time": "2023-07-30T04:58:28.426Z"
   },
   {
    "duration": 22,
    "start_time": "2023-07-30T04:58:28.430Z"
   },
   {
    "duration": 7,
    "start_time": "2023-07-30T04:58:28.453Z"
   },
   {
    "duration": 5,
    "start_time": "2023-07-30T04:58:28.462Z"
   },
   {
    "duration": 33,
    "start_time": "2023-07-30T04:58:28.469Z"
   },
   {
    "duration": 7,
    "start_time": "2023-07-30T04:58:28.503Z"
   },
   {
    "duration": 6,
    "start_time": "2023-07-30T04:58:28.511Z"
   },
   {
    "duration": 19,
    "start_time": "2023-07-30T05:09:06.328Z"
   },
   {
    "duration": 20,
    "start_time": "2023-07-30T05:09:14.927Z"
   },
   {
    "duration": 5,
    "start_time": "2023-07-30T05:09:21.596Z"
   },
   {
    "duration": 1077,
    "start_time": "2023-07-30T05:09:38.939Z"
   },
   {
    "duration": 3,
    "start_time": "2023-07-30T05:09:40.017Z"
   },
   {
    "duration": 50,
    "start_time": "2023-07-30T05:09:40.021Z"
   },
   {
    "duration": 49,
    "start_time": "2023-07-30T05:09:40.072Z"
   },
   {
    "duration": 24,
    "start_time": "2023-07-30T05:09:40.123Z"
   },
   {
    "duration": 5,
    "start_time": "2023-07-30T05:09:40.148Z"
   },
   {
    "duration": 13,
    "start_time": "2023-07-30T05:09:40.154Z"
   },
   {
    "duration": 9,
    "start_time": "2023-07-30T05:09:40.168Z"
   },
   {
    "duration": 4,
    "start_time": "2023-07-30T05:09:40.178Z"
   },
   {
    "duration": 9,
    "start_time": "2023-07-30T05:09:40.184Z"
   },
   {
    "duration": 14,
    "start_time": "2023-07-30T05:09:40.194Z"
   },
   {
    "duration": 11,
    "start_time": "2023-07-30T05:09:40.209Z"
   },
   {
    "duration": 7,
    "start_time": "2023-07-30T05:09:40.221Z"
   },
   {
    "duration": 3,
    "start_time": "2023-07-30T05:09:40.231Z"
   },
   {
    "duration": 5,
    "start_time": "2023-07-30T05:09:40.236Z"
   },
   {
    "duration": 17,
    "start_time": "2023-07-30T05:09:40.243Z"
   },
   {
    "duration": 6,
    "start_time": "2023-07-30T05:09:40.261Z"
   },
   {
    "duration": 6,
    "start_time": "2023-07-30T05:09:40.268Z"
   },
   {
    "duration": 8,
    "start_time": "2023-07-30T05:09:40.275Z"
   },
   {
    "duration": 24,
    "start_time": "2023-07-30T05:09:40.284Z"
   },
   {
    "duration": 9,
    "start_time": "2023-07-30T05:09:40.309Z"
   },
   {
    "duration": 9,
    "start_time": "2023-07-30T05:09:40.319Z"
   },
   {
    "duration": 7,
    "start_time": "2023-07-30T05:09:40.329Z"
   },
   {
    "duration": 7,
    "start_time": "2023-07-30T05:09:40.337Z"
   },
   {
    "duration": 8,
    "start_time": "2023-07-30T05:09:40.346Z"
   },
   {
    "duration": 10,
    "start_time": "2023-07-30T05:09:40.355Z"
   },
   {
    "duration": 10,
    "start_time": "2023-07-30T05:09:40.366Z"
   },
   {
    "duration": 8,
    "start_time": "2023-07-30T05:09:40.377Z"
   },
   {
    "duration": 81,
    "start_time": "2023-07-30T05:09:40.386Z"
   },
   {
    "duration": 203,
    "start_time": "2023-07-30T05:09:40.468Z"
   },
   {
    "duration": 4,
    "start_time": "2023-07-30T05:09:40.672Z"
   },
   {
    "duration": 111,
    "start_time": "2023-07-30T05:09:40.678Z"
   },
   {
    "duration": 13,
    "start_time": "2023-07-30T05:09:40.790Z"
   },
   {
    "duration": 11,
    "start_time": "2023-07-30T05:09:40.804Z"
   },
   {
    "duration": 11,
    "start_time": "2023-07-30T05:09:40.816Z"
   },
   {
    "duration": 9,
    "start_time": "2023-07-30T05:09:40.828Z"
   },
   {
    "duration": 13,
    "start_time": "2023-07-30T05:09:40.838Z"
   },
   {
    "duration": 180,
    "start_time": "2023-07-30T05:09:40.852Z"
   },
   {
    "duration": 117,
    "start_time": "2023-07-30T05:09:41.034Z"
   },
   {
    "duration": 10,
    "start_time": "2023-07-30T05:09:41.153Z"
   },
   {
    "duration": 8,
    "start_time": "2023-07-30T05:09:41.166Z"
   },
   {
    "duration": 327,
    "start_time": "2023-07-30T05:09:41.175Z"
   },
   {
    "duration": 258,
    "start_time": "2023-07-30T05:09:41.504Z"
   },
   {
    "duration": 11,
    "start_time": "2023-07-30T05:09:41.763Z"
   },
   {
    "duration": 357,
    "start_time": "2023-07-30T05:09:41.776Z"
   },
   {
    "duration": 10,
    "start_time": "2023-07-30T05:09:42.135Z"
   },
   {
    "duration": 3,
    "start_time": "2023-07-30T05:09:42.147Z"
   },
   {
    "duration": 244,
    "start_time": "2023-07-30T05:09:42.152Z"
   },
   {
    "duration": 13,
    "start_time": "2023-07-30T05:09:42.399Z"
   },
   {
    "duration": 409,
    "start_time": "2023-07-30T05:09:42.414Z"
   },
   {
    "duration": 11,
    "start_time": "2023-07-30T05:09:42.825Z"
   },
   {
    "duration": 173,
    "start_time": "2023-07-30T05:09:42.837Z"
   },
   {
    "duration": 4,
    "start_time": "2023-07-30T05:09:43.011Z"
   },
   {
    "duration": 21,
    "start_time": "2023-07-30T05:09:43.017Z"
   },
   {
    "duration": 163,
    "start_time": "2023-07-30T05:09:43.040Z"
   },
   {
    "duration": 4,
    "start_time": "2023-07-30T05:09:43.205Z"
   },
   {
    "duration": 16,
    "start_time": "2023-07-30T05:09:43.210Z"
   },
   {
    "duration": 9,
    "start_time": "2023-07-30T05:09:43.227Z"
   },
   {
    "duration": 10,
    "start_time": "2023-07-30T05:09:43.238Z"
   },
   {
    "duration": 57,
    "start_time": "2023-07-30T05:09:43.249Z"
   },
   {
    "duration": 62,
    "start_time": "2023-07-30T05:09:43.308Z"
   },
   {
    "duration": 19,
    "start_time": "2023-07-30T05:09:43.371Z"
   },
   {
    "duration": 16,
    "start_time": "2023-07-30T05:09:43.391Z"
   },
   {
    "duration": 51,
    "start_time": "2023-07-30T05:09:43.409Z"
   },
   {
    "duration": 80,
    "start_time": "2023-07-30T05:09:43.462Z"
   },
   {
    "duration": 36,
    "start_time": "2023-07-30T05:09:43.544Z"
   },
   {
    "duration": 67,
    "start_time": "2023-07-30T05:09:43.581Z"
   },
   {
    "duration": 84,
    "start_time": "2023-07-30T05:09:43.649Z"
   },
   {
    "duration": 6,
    "start_time": "2023-07-30T05:09:43.734Z"
   },
   {
    "duration": 13,
    "start_time": "2023-07-30T05:09:43.741Z"
   },
   {
    "duration": 30,
    "start_time": "2023-07-30T05:09:43.755Z"
   },
   {
    "duration": 4,
    "start_time": "2023-07-30T05:09:43.786Z"
   },
   {
    "duration": 31,
    "start_time": "2023-07-30T05:09:43.791Z"
   },
   {
    "duration": 7,
    "start_time": "2023-07-30T05:09:43.823Z"
   },
   {
    "duration": 7,
    "start_time": "2023-07-30T05:09:43.832Z"
   },
   {
    "duration": 17,
    "start_time": "2023-07-30T05:09:43.840Z"
   },
   {
    "duration": 14,
    "start_time": "2023-07-30T05:09:43.858Z"
   },
   {
    "duration": 7,
    "start_time": "2023-07-30T05:09:43.874Z"
   },
   {
    "duration": 10,
    "start_time": "2023-07-30T05:09:43.882Z"
   },
   {
    "duration": 109,
    "start_time": "2023-07-30T05:18:21.522Z"
   },
   {
    "duration": 23,
    "start_time": "2023-07-30T05:18:25.953Z"
   },
   {
    "duration": 19,
    "start_time": "2023-07-30T05:19:06.983Z"
   },
   {
    "duration": 25,
    "start_time": "2023-07-30T05:19:21.499Z"
   },
   {
    "duration": 20,
    "start_time": "2023-07-30T05:20:03.251Z"
   },
   {
    "duration": 1150,
    "start_time": "2023-07-30T05:21:35.764Z"
   },
   {
    "duration": 3,
    "start_time": "2023-07-30T05:21:36.916Z"
   },
   {
    "duration": 51,
    "start_time": "2023-07-30T05:21:36.920Z"
   },
   {
    "duration": 50,
    "start_time": "2023-07-30T05:21:36.973Z"
   },
   {
    "duration": 25,
    "start_time": "2023-07-30T05:21:37.024Z"
   },
   {
    "duration": 14,
    "start_time": "2023-07-30T05:21:37.050Z"
   },
   {
    "duration": 43,
    "start_time": "2023-07-30T05:21:37.066Z"
   },
   {
    "duration": 53,
    "start_time": "2023-07-30T05:21:37.111Z"
   },
   {
    "duration": 51,
    "start_time": "2023-07-30T05:21:37.166Z"
   },
   {
    "duration": 36,
    "start_time": "2023-07-30T05:21:37.219Z"
   },
   {
    "duration": 27,
    "start_time": "2023-07-30T05:21:37.256Z"
   },
   {
    "duration": 25,
    "start_time": "2023-07-30T05:21:37.284Z"
   },
   {
    "duration": 19,
    "start_time": "2023-07-30T05:21:37.310Z"
   },
   {
    "duration": 33,
    "start_time": "2023-07-30T05:21:37.330Z"
   },
   {
    "duration": 25,
    "start_time": "2023-07-30T05:21:37.365Z"
   },
   {
    "duration": 31,
    "start_time": "2023-07-30T05:21:37.392Z"
   },
   {
    "duration": 5,
    "start_time": "2023-07-30T05:21:37.425Z"
   },
   {
    "duration": 19,
    "start_time": "2023-07-30T05:21:37.432Z"
   },
   {
    "duration": 11,
    "start_time": "2023-07-30T05:21:37.452Z"
   },
   {
    "duration": 29,
    "start_time": "2023-07-30T05:21:37.464Z"
   },
   {
    "duration": 23,
    "start_time": "2023-07-30T05:21:37.495Z"
   },
   {
    "duration": 33,
    "start_time": "2023-07-30T05:21:37.520Z"
   },
   {
    "duration": 7,
    "start_time": "2023-07-30T05:21:37.555Z"
   },
   {
    "duration": 44,
    "start_time": "2023-07-30T05:21:37.563Z"
   },
   {
    "duration": 33,
    "start_time": "2023-07-30T05:21:37.608Z"
   },
   {
    "duration": 20,
    "start_time": "2023-07-30T05:21:37.643Z"
   },
   {
    "duration": 7,
    "start_time": "2023-07-30T05:21:37.665Z"
   },
   {
    "duration": 40,
    "start_time": "2023-07-30T05:21:37.676Z"
   },
   {
    "duration": 93,
    "start_time": "2023-07-30T05:21:37.717Z"
   },
   {
    "duration": 200,
    "start_time": "2023-07-30T05:21:37.812Z"
   },
   {
    "duration": 4,
    "start_time": "2023-07-30T05:21:38.013Z"
   },
   {
    "duration": 122,
    "start_time": "2023-07-30T05:21:38.018Z"
   },
   {
    "duration": 7,
    "start_time": "2023-07-30T05:21:38.142Z"
   },
   {
    "duration": 21,
    "start_time": "2023-07-30T05:21:38.150Z"
   },
   {
    "duration": 20,
    "start_time": "2023-07-30T05:21:38.172Z"
   },
   {
    "duration": 12,
    "start_time": "2023-07-30T05:21:38.194Z"
   },
   {
    "duration": 12,
    "start_time": "2023-07-30T05:21:38.208Z"
   },
   {
    "duration": 148,
    "start_time": "2023-07-30T05:21:38.221Z"
   },
   {
    "duration": 113,
    "start_time": "2023-07-30T05:21:38.370Z"
   },
   {
    "duration": 20,
    "start_time": "2023-07-30T05:21:38.485Z"
   },
   {
    "duration": 10,
    "start_time": "2023-07-30T05:21:38.506Z"
   },
   {
    "duration": 319,
    "start_time": "2023-07-30T05:21:38.518Z"
   },
   {
    "duration": 249,
    "start_time": "2023-07-30T05:21:38.838Z"
   },
   {
    "duration": 17,
    "start_time": "2023-07-30T05:21:39.089Z"
   },
   {
    "duration": 333,
    "start_time": "2023-07-30T05:21:39.107Z"
   },
   {
    "duration": 10,
    "start_time": "2023-07-30T05:21:39.442Z"
   },
   {
    "duration": 13,
    "start_time": "2023-07-30T05:21:39.454Z"
   },
   {
    "duration": 241,
    "start_time": "2023-07-30T05:21:39.469Z"
   },
   {
    "duration": 13,
    "start_time": "2023-07-30T05:21:39.712Z"
   },
   {
    "duration": 410,
    "start_time": "2023-07-30T05:21:39.726Z"
   },
   {
    "duration": 9,
    "start_time": "2023-07-30T05:21:40.137Z"
   },
   {
    "duration": 164,
    "start_time": "2023-07-30T05:21:40.148Z"
   },
   {
    "duration": 4,
    "start_time": "2023-07-30T05:21:40.314Z"
   },
   {
    "duration": 10,
    "start_time": "2023-07-30T05:21:40.320Z"
   },
   {
    "duration": 156,
    "start_time": "2023-07-30T05:21:40.331Z"
   },
   {
    "duration": 11,
    "start_time": "2023-07-30T05:21:40.489Z"
   },
   {
    "duration": 9,
    "start_time": "2023-07-30T05:21:40.501Z"
   },
   {
    "duration": 11,
    "start_time": "2023-07-30T05:21:40.511Z"
   },
   {
    "duration": 11,
    "start_time": "2023-07-30T05:21:40.523Z"
   },
   {
    "duration": 66,
    "start_time": "2023-07-30T05:21:40.535Z"
   },
   {
    "duration": 47,
    "start_time": "2023-07-30T05:21:40.603Z"
   },
   {
    "duration": 20,
    "start_time": "2023-07-30T05:21:40.652Z"
   },
   {
    "duration": 28,
    "start_time": "2023-07-30T05:21:40.674Z"
   },
   {
    "duration": 55,
    "start_time": "2023-07-30T05:21:40.703Z"
   },
   {
    "duration": 54,
    "start_time": "2023-07-30T05:21:40.759Z"
   },
   {
    "duration": 24,
    "start_time": "2023-07-30T05:21:40.814Z"
   },
   {
    "duration": 69,
    "start_time": "2023-07-30T05:21:40.840Z"
   },
   {
    "duration": 63,
    "start_time": "2023-07-30T05:21:40.910Z"
   },
   {
    "duration": 25,
    "start_time": "2023-07-30T05:21:40.975Z"
   },
   {
    "duration": 7,
    "start_time": "2023-07-30T05:21:41.001Z"
   },
   {
    "duration": 19,
    "start_time": "2023-07-30T05:21:41.009Z"
   },
   {
    "duration": 3,
    "start_time": "2023-07-30T05:21:41.029Z"
   },
   {
    "duration": 21,
    "start_time": "2023-07-30T05:21:41.034Z"
   },
   {
    "duration": 4,
    "start_time": "2023-07-30T05:21:41.056Z"
   },
   {
    "duration": 48,
    "start_time": "2023-07-30T05:21:41.061Z"
   },
   {
    "duration": 6,
    "start_time": "2023-07-30T05:21:41.111Z"
   },
   {
    "duration": 5,
    "start_time": "2023-07-30T05:21:41.119Z"
   },
   {
    "duration": 8,
    "start_time": "2023-07-30T05:21:41.125Z"
   },
   {
    "duration": 6,
    "start_time": "2023-07-30T05:21:41.135Z"
   },
   {
    "duration": 4,
    "start_time": "2023-07-30T05:21:41.142Z"
   },
   {
    "duration": 4,
    "start_time": "2023-07-30T05:21:41.148Z"
   },
   {
    "duration": 21,
    "start_time": "2023-07-30T05:23:27.835Z"
   },
   {
    "duration": 19,
    "start_time": "2023-07-30T05:23:35.187Z"
   },
   {
    "duration": 120,
    "start_time": "2023-07-30T05:29:52.727Z"
   },
   {
    "duration": 9,
    "start_time": "2023-07-30T05:30:27.217Z"
   },
   {
    "duration": 128,
    "start_time": "2023-07-30T06:00:09.338Z"
   },
   {
    "duration": 2092,
    "start_time": "2023-07-30T06:03:42.935Z"
   },
   {
    "duration": 2127,
    "start_time": "2023-07-30T06:03:59.496Z"
   },
   {
    "duration": 2258,
    "start_time": "2023-07-30T06:04:20.233Z"
   },
   {
    "duration": 8,
    "start_time": "2023-07-30T06:06:10.132Z"
   },
   {
    "duration": 13,
    "start_time": "2023-07-30T06:06:51.503Z"
   },
   {
    "duration": 6,
    "start_time": "2023-07-30T06:07:28.783Z"
   },
   {
    "duration": 5,
    "start_time": "2023-07-30T06:07:52.838Z"
   },
   {
    "duration": 4,
    "start_time": "2023-07-30T06:08:10.395Z"
   },
   {
    "duration": 4,
    "start_time": "2023-07-30T06:08:23.335Z"
   },
   {
    "duration": 5,
    "start_time": "2023-07-30T06:08:40.113Z"
   },
   {
    "duration": 6,
    "start_time": "2023-07-30T06:10:10.581Z"
   },
   {
    "duration": 5,
    "start_time": "2023-07-30T06:14:01.158Z"
   },
   {
    "duration": 4,
    "start_time": "2023-07-30T06:15:11.114Z"
   },
   {
    "duration": 7,
    "start_time": "2023-07-30T06:15:17.721Z"
   },
   {
    "duration": 5,
    "start_time": "2023-07-30T06:15:19.361Z"
   },
   {
    "duration": 6,
    "start_time": "2023-07-30T06:15:22.103Z"
   },
   {
    "duration": 7,
    "start_time": "2023-07-30T06:16:10.759Z"
   },
   {
    "duration": 5,
    "start_time": "2023-07-30T06:22:06.935Z"
   },
   {
    "duration": 5,
    "start_time": "2023-07-30T06:28:22.117Z"
   },
   {
    "duration": 6,
    "start_time": "2023-07-30T06:28:44.284Z"
   },
   {
    "duration": 7,
    "start_time": "2023-07-30T06:28:48.721Z"
   },
   {
    "duration": 1118,
    "start_time": "2023-07-30T06:30:16.297Z"
   },
   {
    "duration": 3,
    "start_time": "2023-07-30T06:30:17.418Z"
   },
   {
    "duration": 66,
    "start_time": "2023-07-30T06:30:17.422Z"
   },
   {
    "duration": 55,
    "start_time": "2023-07-30T06:30:17.491Z"
   },
   {
    "duration": 36,
    "start_time": "2023-07-30T06:30:17.548Z"
   },
   {
    "duration": 5,
    "start_time": "2023-07-30T06:30:17.586Z"
   },
   {
    "duration": 15,
    "start_time": "2023-07-30T06:30:17.593Z"
   },
   {
    "duration": 6,
    "start_time": "2023-07-30T06:30:17.610Z"
   },
   {
    "duration": 18,
    "start_time": "2023-07-30T06:30:17.617Z"
   },
   {
    "duration": 11,
    "start_time": "2023-07-30T06:30:17.638Z"
   },
   {
    "duration": 10,
    "start_time": "2023-07-30T06:30:17.650Z"
   },
   {
    "duration": 11,
    "start_time": "2023-07-30T06:30:17.662Z"
   },
   {
    "duration": 28,
    "start_time": "2023-07-30T06:30:17.675Z"
   },
   {
    "duration": 5,
    "start_time": "2023-07-30T06:30:17.705Z"
   },
   {
    "duration": 15,
    "start_time": "2023-07-30T06:30:17.712Z"
   },
   {
    "duration": 33,
    "start_time": "2023-07-30T06:30:17.728Z"
   },
   {
    "duration": 18,
    "start_time": "2023-07-30T06:30:17.763Z"
   },
   {
    "duration": 20,
    "start_time": "2023-07-30T06:30:17.783Z"
   },
   {
    "duration": 12,
    "start_time": "2023-07-30T06:30:17.805Z"
   },
   {
    "duration": 22,
    "start_time": "2023-07-30T06:30:17.818Z"
   },
   {
    "duration": 42,
    "start_time": "2023-07-30T06:30:17.841Z"
   },
   {
    "duration": 7,
    "start_time": "2023-07-30T06:30:17.887Z"
   },
   {
    "duration": 18,
    "start_time": "2023-07-30T06:30:17.895Z"
   },
   {
    "duration": 30,
    "start_time": "2023-07-30T06:30:17.915Z"
   },
   {
    "duration": 14,
    "start_time": "2023-07-30T06:30:17.948Z"
   },
   {
    "duration": 13,
    "start_time": "2023-07-30T06:30:17.963Z"
   },
   {
    "duration": 8,
    "start_time": "2023-07-30T06:30:17.977Z"
   },
   {
    "duration": 8,
    "start_time": "2023-07-30T06:30:17.987Z"
   },
   {
    "duration": 94,
    "start_time": "2023-07-30T06:30:17.997Z"
   },
   {
    "duration": 227,
    "start_time": "2023-07-30T06:30:18.092Z"
   },
   {
    "duration": 6,
    "start_time": "2023-07-30T06:30:18.321Z"
   },
   {
    "duration": 196,
    "start_time": "2023-07-30T06:30:18.329Z"
   },
   {
    "duration": 8,
    "start_time": "2023-07-30T06:30:18.527Z"
   },
   {
    "duration": 16,
    "start_time": "2023-07-30T06:30:18.537Z"
   },
   {
    "duration": 30,
    "start_time": "2023-07-30T06:30:18.555Z"
   },
   {
    "duration": 12,
    "start_time": "2023-07-30T06:30:18.600Z"
   },
   {
    "duration": 11,
    "start_time": "2023-07-30T06:30:18.614Z"
   },
   {
    "duration": 183,
    "start_time": "2023-07-30T06:30:18.627Z"
   },
   {
    "duration": 140,
    "start_time": "2023-07-30T06:30:18.812Z"
   },
   {
    "duration": 11,
    "start_time": "2023-07-30T06:30:18.954Z"
   },
   {
    "duration": 6,
    "start_time": "2023-07-30T06:30:18.968Z"
   },
   {
    "duration": 358,
    "start_time": "2023-07-30T06:30:18.976Z"
   },
   {
    "duration": 284,
    "start_time": "2023-07-30T06:30:19.335Z"
   },
   {
    "duration": 15,
    "start_time": "2023-07-30T06:30:19.620Z"
   },
   {
    "duration": 347,
    "start_time": "2023-07-30T06:30:19.637Z"
   },
   {
    "duration": 10,
    "start_time": "2023-07-30T06:30:19.999Z"
   },
   {
    "duration": 4,
    "start_time": "2023-07-30T06:30:20.011Z"
   },
   {
    "duration": 260,
    "start_time": "2023-07-30T06:30:20.016Z"
   },
   {
    "duration": 28,
    "start_time": "2023-07-30T06:30:20.278Z"
   },
   {
    "duration": 449,
    "start_time": "2023-07-30T06:30:20.308Z"
   },
   {
    "duration": 11,
    "start_time": "2023-07-30T06:30:20.759Z"
   },
   {
    "duration": 176,
    "start_time": "2023-07-30T06:30:20.772Z"
   },
   {
    "duration": 6,
    "start_time": "2023-07-30T06:30:20.949Z"
   },
   {
    "duration": 17,
    "start_time": "2023-07-30T06:30:20.957Z"
   },
   {
    "duration": 221,
    "start_time": "2023-07-30T06:30:20.976Z"
   },
   {
    "duration": 5,
    "start_time": "2023-07-30T06:30:21.198Z"
   },
   {
    "duration": 13,
    "start_time": "2023-07-30T06:30:21.206Z"
   },
   {
    "duration": 23,
    "start_time": "2023-07-30T06:30:21.221Z"
   },
   {
    "duration": 41,
    "start_time": "2023-07-30T06:30:21.246Z"
   },
   {
    "duration": 84,
    "start_time": "2023-07-30T06:30:21.289Z"
   },
   {
    "duration": 73,
    "start_time": "2023-07-30T06:30:21.375Z"
   },
   {
    "duration": 28,
    "start_time": "2023-07-30T06:30:21.450Z"
   },
   {
    "duration": 39,
    "start_time": "2023-07-30T06:30:21.482Z"
   },
   {
    "duration": 51,
    "start_time": "2023-07-30T06:30:21.522Z"
   },
   {
    "duration": 61,
    "start_time": "2023-07-30T06:30:21.575Z"
   },
   {
    "duration": 46,
    "start_time": "2023-07-30T06:30:21.638Z"
   },
   {
    "duration": 118,
    "start_time": "2023-07-30T06:30:21.686Z"
   },
   {
    "duration": 100,
    "start_time": "2023-07-30T06:30:21.806Z"
   },
   {
    "duration": 7,
    "start_time": "2023-07-30T06:30:21.908Z"
   },
   {
    "duration": 20,
    "start_time": "2023-07-30T06:30:21.917Z"
   },
   {
    "duration": 36,
    "start_time": "2023-07-30T06:30:21.939Z"
   },
   {
    "duration": 26,
    "start_time": "2023-07-30T06:30:21.976Z"
   },
   {
    "duration": 28,
    "start_time": "2023-07-30T06:30:22.004Z"
   },
   {
    "duration": 9,
    "start_time": "2023-07-30T06:30:22.034Z"
   },
   {
    "duration": 11,
    "start_time": "2023-07-30T06:30:22.044Z"
   },
   {
    "duration": 9,
    "start_time": "2023-07-30T06:30:22.057Z"
   },
   {
    "duration": 37,
    "start_time": "2023-07-30T06:30:22.068Z"
   },
   {
    "duration": 9,
    "start_time": "2023-07-30T06:30:22.107Z"
   },
   {
    "duration": 13,
    "start_time": "2023-07-30T06:30:22.120Z"
   },
   {
    "duration": 11,
    "start_time": "2023-07-30T06:30:22.134Z"
   },
   {
    "duration": 13,
    "start_time": "2023-07-30T06:30:22.147Z"
   },
   {
    "duration": 8,
    "start_time": "2023-07-30T06:30:22.162Z"
   },
   {
    "duration": 6,
    "start_time": "2023-07-30T06:30:22.172Z"
   },
   {
    "duration": 36,
    "start_time": "2023-07-30T06:30:22.179Z"
   },
   {
    "duration": 9,
    "start_time": "2023-07-30T06:36:20.398Z"
   },
   {
    "duration": 113,
    "start_time": "2023-07-30T06:37:18.194Z"
   },
   {
    "duration": 5,
    "start_time": "2023-07-30T06:37:28.240Z"
   },
   {
    "duration": 5,
    "start_time": "2023-07-30T06:37:35.739Z"
   },
   {
    "duration": 6,
    "start_time": "2023-07-30T06:40:47.523Z"
   },
   {
    "duration": 5,
    "start_time": "2023-07-30T06:40:50.641Z"
   },
   {
    "duration": 6,
    "start_time": "2023-07-30T06:41:23.288Z"
   },
   {
    "duration": 5,
    "start_time": "2023-07-30T06:41:25.543Z"
   },
   {
    "duration": 6,
    "start_time": "2023-07-30T06:43:36.651Z"
   },
   {
    "duration": 5,
    "start_time": "2023-07-30T06:43:45.150Z"
   },
   {
    "duration": 21,
    "start_time": "2023-07-30T06:45:45.517Z"
   },
   {
    "duration": 20,
    "start_time": "2023-07-30T06:48:33.742Z"
   },
   {
    "duration": 28,
    "start_time": "2023-07-30T06:48:42.691Z"
   },
   {
    "duration": 27,
    "start_time": "2023-07-30T06:48:48.700Z"
   },
   {
    "duration": 5,
    "start_time": "2023-07-30T06:49:11.599Z"
   },
   {
    "duration": 4,
    "start_time": "2023-07-30T06:49:17.858Z"
   },
   {
    "duration": 111,
    "start_time": "2023-07-30T06:53:49.938Z"
   },
   {
    "duration": 91,
    "start_time": "2023-07-30T06:54:12.338Z"
   },
   {
    "duration": 1773,
    "start_time": "2023-07-30T06:54:18.012Z"
   },
   {
    "duration": 10,
    "start_time": "2023-07-30T06:54:32.717Z"
   },
   {
    "duration": 7,
    "start_time": "2023-07-30T07:36:36.373Z"
   },
   {
    "duration": 8,
    "start_time": "2023-07-30T07:36:38.861Z"
   },
   {
    "duration": 21,
    "start_time": "2023-07-30T07:36:40.554Z"
   },
   {
    "duration": 4,
    "start_time": "2023-07-30T07:36:41.689Z"
   },
   {
    "duration": 22,
    "start_time": "2023-07-30T07:36:44.564Z"
   },
   {
    "duration": 5,
    "start_time": "2023-07-30T07:37:54.001Z"
   },
   {
    "duration": 5,
    "start_time": "2023-07-30T07:37:55.576Z"
   },
   {
    "duration": 6,
    "start_time": "2023-07-30T07:37:56.976Z"
   },
   {
    "duration": 4,
    "start_time": "2023-07-30T07:37:59.155Z"
   },
   {
    "duration": 21,
    "start_time": "2023-07-30T07:38:00.190Z"
   },
   {
    "duration": 5,
    "start_time": "2023-07-30T07:38:05.672Z"
   },
   {
    "duration": 19,
    "start_time": "2023-07-30T07:51:55.622Z"
   },
   {
    "duration": 5,
    "start_time": "2023-07-30T07:53:11.014Z"
   },
   {
    "duration": 9,
    "start_time": "2023-07-30T07:57:33.968Z"
   },
   {
    "duration": 9,
    "start_time": "2023-07-30T07:57:35.104Z"
   },
   {
    "duration": 32,
    "start_time": "2023-07-30T07:57:38.922Z"
   },
   {
    "duration": 5,
    "start_time": "2023-07-30T07:57:50.849Z"
   },
   {
    "duration": 8,
    "start_time": "2023-07-30T08:00:03.462Z"
   },
   {
    "duration": 8,
    "start_time": "2023-07-30T08:00:10.310Z"
   },
   {
    "duration": 9,
    "start_time": "2023-07-30T08:05:06.446Z"
   },
   {
    "duration": 6,
    "start_time": "2023-07-30T08:05:16.716Z"
   },
   {
    "duration": 5,
    "start_time": "2023-07-30T08:05:18.208Z"
   },
   {
    "duration": 21,
    "start_time": "2023-07-30T08:05:19.571Z"
   },
   {
    "duration": 4,
    "start_time": "2023-07-30T08:05:38.646Z"
   },
   {
    "duration": 10,
    "start_time": "2023-07-30T08:06:38.376Z"
   },
   {
    "duration": 4,
    "start_time": "2023-07-30T08:07:41.355Z"
   },
   {
    "duration": 6,
    "start_time": "2023-07-30T08:10:42.911Z"
   },
   {
    "duration": 6,
    "start_time": "2023-07-30T08:11:30.897Z"
   },
   {
    "duration": 9,
    "start_time": "2023-07-30T08:18:56.822Z"
   },
   {
    "duration": 110,
    "start_time": "2023-07-30T08:24:47.427Z"
   },
   {
    "duration": 11,
    "start_time": "2023-07-30T08:27:25.657Z"
   },
   {
    "duration": 10,
    "start_time": "2023-07-30T08:27:40.854Z"
   },
   {
    "duration": 19,
    "start_time": "2023-07-30T08:30:39.784Z"
   },
   {
    "duration": 5,
    "start_time": "2023-07-30T08:30:41.885Z"
   },
   {
    "duration": 9,
    "start_time": "2023-07-30T08:30:51.409Z"
   },
   {
    "duration": 7,
    "start_time": "2023-07-30T08:30:56.477Z"
   },
   {
    "duration": 20,
    "start_time": "2023-07-30T08:31:10.684Z"
   },
   {
    "duration": 1281,
    "start_time": "2023-07-30T08:31:59.296Z"
   },
   {
    "duration": 4,
    "start_time": "2023-07-30T08:32:00.579Z"
   },
   {
    "duration": 93,
    "start_time": "2023-07-30T08:32:00.584Z"
   },
   {
    "duration": 49,
    "start_time": "2023-07-30T08:32:00.679Z"
   },
   {
    "duration": 25,
    "start_time": "2023-07-30T08:32:00.729Z"
   },
   {
    "duration": 114,
    "start_time": "2023-07-30T08:32:00.755Z"
   },
   {
    "duration": 50,
    "start_time": "2023-07-30T08:32:00.870Z"
   },
   {
    "duration": 35,
    "start_time": "2023-07-30T08:32:00.922Z"
   },
   {
    "duration": 47,
    "start_time": "2023-07-30T08:32:00.959Z"
   },
   {
    "duration": 49,
    "start_time": "2023-07-30T08:32:01.009Z"
   },
   {
    "duration": 41,
    "start_time": "2023-07-30T08:32:01.059Z"
   },
   {
    "duration": 110,
    "start_time": "2023-07-30T08:32:01.101Z"
   },
   {
    "duration": 137,
    "start_time": "2023-07-30T08:32:01.212Z"
   },
   {
    "duration": 208,
    "start_time": "2023-07-30T08:32:01.351Z"
   },
   {
    "duration": 36,
    "start_time": "2023-07-30T08:32:01.561Z"
   },
   {
    "duration": 53,
    "start_time": "2023-07-30T08:32:01.598Z"
   },
   {
    "duration": 53,
    "start_time": "2023-07-30T08:32:01.653Z"
   },
   {
    "duration": 44,
    "start_time": "2023-07-30T08:32:01.708Z"
   },
   {
    "duration": 66,
    "start_time": "2023-07-30T08:32:01.754Z"
   },
   {
    "duration": 42,
    "start_time": "2023-07-30T08:32:01.822Z"
   },
   {
    "duration": 55,
    "start_time": "2023-07-30T08:32:01.865Z"
   },
   {
    "duration": 283,
    "start_time": "2023-07-30T08:32:01.921Z"
   },
   {
    "duration": 80,
    "start_time": "2023-07-30T08:32:02.205Z"
   },
   {
    "duration": 39,
    "start_time": "2023-07-30T08:32:02.287Z"
   },
   {
    "duration": 34,
    "start_time": "2023-07-30T08:32:02.328Z"
   },
   {
    "duration": 54,
    "start_time": "2023-07-30T08:32:02.364Z"
   },
   {
    "duration": 36,
    "start_time": "2023-07-30T08:32:02.420Z"
   },
   {
    "duration": 34,
    "start_time": "2023-07-30T08:32:02.460Z"
   },
   {
    "duration": 104,
    "start_time": "2023-07-30T08:32:02.496Z"
   },
   {
    "duration": 216,
    "start_time": "2023-07-30T08:32:02.601Z"
   },
   {
    "duration": 5,
    "start_time": "2023-07-30T08:32:02.819Z"
   },
   {
    "duration": 116,
    "start_time": "2023-07-30T08:32:02.825Z"
   },
   {
    "duration": 7,
    "start_time": "2023-07-30T08:32:02.942Z"
   },
   {
    "duration": 16,
    "start_time": "2023-07-30T08:32:02.950Z"
   },
   {
    "duration": 11,
    "start_time": "2023-07-30T08:32:02.967Z"
   },
   {
    "duration": 28,
    "start_time": "2023-07-30T08:32:02.980Z"
   },
   {
    "duration": 16,
    "start_time": "2023-07-30T08:32:03.010Z"
   },
   {
    "duration": 156,
    "start_time": "2023-07-30T08:32:03.027Z"
   },
   {
    "duration": 134,
    "start_time": "2023-07-30T08:32:03.184Z"
   },
   {
    "duration": 12,
    "start_time": "2023-07-30T08:32:03.320Z"
   },
   {
    "duration": 22,
    "start_time": "2023-07-30T08:32:03.333Z"
   },
   {
    "duration": 327,
    "start_time": "2023-07-30T08:32:03.357Z"
   },
   {
    "duration": 262,
    "start_time": "2023-07-30T08:32:03.686Z"
   },
   {
    "duration": 11,
    "start_time": "2023-07-30T08:32:03.950Z"
   },
   {
    "duration": 354,
    "start_time": "2023-07-30T08:32:03.962Z"
   },
   {
    "duration": 11,
    "start_time": "2023-07-30T08:32:04.318Z"
   },
   {
    "duration": 4,
    "start_time": "2023-07-30T08:32:04.330Z"
   },
   {
    "duration": 241,
    "start_time": "2023-07-30T08:32:04.336Z"
   },
   {
    "duration": 22,
    "start_time": "2023-07-30T08:32:04.578Z"
   },
   {
    "duration": 400,
    "start_time": "2023-07-30T08:32:04.602Z"
   },
   {
    "duration": 10,
    "start_time": "2023-07-30T08:32:05.004Z"
   },
   {
    "duration": 163,
    "start_time": "2023-07-30T08:32:05.015Z"
   },
   {
    "duration": 4,
    "start_time": "2023-07-30T08:32:05.179Z"
   },
   {
    "duration": 16,
    "start_time": "2023-07-30T08:32:05.184Z"
   },
   {
    "duration": 174,
    "start_time": "2023-07-30T08:32:05.201Z"
   },
   {
    "duration": 5,
    "start_time": "2023-07-30T08:32:05.377Z"
   },
   {
    "duration": 23,
    "start_time": "2023-07-30T08:32:05.384Z"
   },
   {
    "duration": 19,
    "start_time": "2023-07-30T08:32:05.410Z"
   },
   {
    "duration": 9,
    "start_time": "2023-07-30T08:32:05.431Z"
   },
   {
    "duration": 73,
    "start_time": "2023-07-30T08:32:05.442Z"
   },
   {
    "duration": 69,
    "start_time": "2023-07-30T08:32:05.517Z"
   },
   {
    "duration": 6,
    "start_time": "2023-07-30T08:32:05.600Z"
   },
   {
    "duration": 12,
    "start_time": "2023-07-30T08:32:05.607Z"
   },
   {
    "duration": 21,
    "start_time": "2023-07-30T08:32:05.621Z"
   },
   {
    "duration": 4,
    "start_time": "2023-07-30T08:32:05.643Z"
   },
   {
    "duration": 17,
    "start_time": "2023-07-30T08:32:05.648Z"
   },
   {
    "duration": 8,
    "start_time": "2023-07-30T08:32:05.667Z"
   },
   {
    "duration": 6,
    "start_time": "2023-07-30T08:32:05.677Z"
   },
   {
    "duration": 18,
    "start_time": "2023-07-30T08:32:05.684Z"
   },
   {
    "duration": 9,
    "start_time": "2023-07-30T08:32:05.703Z"
   },
   {
    "duration": 15,
    "start_time": "2023-07-30T08:32:05.714Z"
   },
   {
    "duration": 24,
    "start_time": "2023-07-30T08:32:05.730Z"
   },
   {
    "duration": 44,
    "start_time": "2023-07-30T08:32:05.756Z"
   },
   {
    "duration": 5,
    "start_time": "2023-07-30T08:32:05.802Z"
   },
   {
    "duration": 29,
    "start_time": "2023-07-30T08:32:05.809Z"
   },
   {
    "duration": 24,
    "start_time": "2023-07-30T08:32:05.840Z"
   },
   {
    "duration": 13,
    "start_time": "2023-07-30T08:32:05.865Z"
   },
   {
    "duration": 27,
    "start_time": "2023-07-30T08:32:05.880Z"
   },
   {
    "duration": 33,
    "start_time": "2023-07-30T08:32:05.909Z"
   },
   {
    "duration": 1102,
    "start_time": "2023-07-30T09:18:30.117Z"
   },
   {
    "duration": 3,
    "start_time": "2023-07-30T09:18:31.221Z"
   },
   {
    "duration": 69,
    "start_time": "2023-07-30T09:18:31.226Z"
   },
   {
    "duration": 79,
    "start_time": "2023-07-30T09:18:31.296Z"
   },
   {
    "duration": 32,
    "start_time": "2023-07-30T09:18:31.377Z"
   },
   {
    "duration": 14,
    "start_time": "2023-07-30T09:18:31.410Z"
   },
   {
    "duration": 45,
    "start_time": "2023-07-30T09:18:31.425Z"
   },
   {
    "duration": 21,
    "start_time": "2023-07-30T09:18:31.471Z"
   },
   {
    "duration": 23,
    "start_time": "2023-07-30T09:18:31.493Z"
   },
   {
    "duration": 23,
    "start_time": "2023-07-30T09:18:31.518Z"
   },
   {
    "duration": 13,
    "start_time": "2023-07-30T09:18:31.542Z"
   },
   {
    "duration": 27,
    "start_time": "2023-07-30T09:18:31.557Z"
   },
   {
    "duration": 29,
    "start_time": "2023-07-30T09:18:31.585Z"
   },
   {
    "duration": 16,
    "start_time": "2023-07-30T09:18:31.617Z"
   },
   {
    "duration": 24,
    "start_time": "2023-07-30T09:18:31.635Z"
   },
   {
    "duration": 33,
    "start_time": "2023-07-30T09:18:31.661Z"
   },
   {
    "duration": 18,
    "start_time": "2023-07-30T09:18:31.695Z"
   },
   {
    "duration": 36,
    "start_time": "2023-07-30T09:18:31.714Z"
   },
   {
    "duration": 34,
    "start_time": "2023-07-30T09:18:31.752Z"
   },
   {
    "duration": 81,
    "start_time": "2023-07-30T09:18:31.788Z"
   },
   {
    "duration": 50,
    "start_time": "2023-07-30T09:18:31.871Z"
   },
   {
    "duration": 31,
    "start_time": "2023-07-30T09:18:31.922Z"
   },
   {
    "duration": 21,
    "start_time": "2023-07-30T09:18:31.954Z"
   },
   {
    "duration": 35,
    "start_time": "2023-07-30T09:18:31.977Z"
   },
   {
    "duration": 42,
    "start_time": "2023-07-30T09:18:32.013Z"
   },
   {
    "duration": 33,
    "start_time": "2023-07-30T09:18:32.057Z"
   },
   {
    "duration": 19,
    "start_time": "2023-07-30T09:18:32.091Z"
   },
   {
    "duration": 33,
    "start_time": "2023-07-30T09:18:32.111Z"
   },
   {
    "duration": 106,
    "start_time": "2023-07-30T09:18:32.145Z"
   },
   {
    "duration": 204,
    "start_time": "2023-07-30T09:18:32.252Z"
   },
   {
    "duration": 5,
    "start_time": "2023-07-30T09:18:32.458Z"
   },
   {
    "duration": 143,
    "start_time": "2023-07-30T09:18:32.465Z"
   },
   {
    "duration": 8,
    "start_time": "2023-07-30T09:18:32.609Z"
   },
   {
    "duration": 13,
    "start_time": "2023-07-30T09:18:32.619Z"
   },
   {
    "duration": 17,
    "start_time": "2023-07-30T09:18:32.633Z"
   },
   {
    "duration": 21,
    "start_time": "2023-07-30T09:18:32.652Z"
   },
   {
    "duration": 161,
    "start_time": "2023-07-30T09:18:32.674Z"
   },
   {
    "duration": 120,
    "start_time": "2023-07-30T09:18:32.836Z"
   },
   {
    "duration": 10,
    "start_time": "2023-07-30T09:18:32.957Z"
   },
   {
    "duration": 26,
    "start_time": "2023-07-30T09:18:32.968Z"
   },
   {
    "duration": 338,
    "start_time": "2023-07-30T09:18:32.997Z"
   },
   {
    "duration": 271,
    "start_time": "2023-07-30T09:18:33.336Z"
   },
   {
    "duration": 10,
    "start_time": "2023-07-30T09:18:33.608Z"
   },
   {
    "duration": 343,
    "start_time": "2023-07-30T09:18:33.619Z"
   },
   {
    "duration": 9,
    "start_time": "2023-07-30T09:18:33.964Z"
   },
   {
    "duration": 22,
    "start_time": "2023-07-30T09:18:33.974Z"
   },
   {
    "duration": 238,
    "start_time": "2023-07-30T09:18:33.998Z"
   },
   {
    "duration": 11,
    "start_time": "2023-07-30T09:18:34.237Z"
   },
   {
    "duration": 396,
    "start_time": "2023-07-30T09:18:34.250Z"
   },
   {
    "duration": 10,
    "start_time": "2023-07-30T09:18:34.647Z"
   },
   {
    "duration": 163,
    "start_time": "2023-07-30T09:18:34.658Z"
   },
   {
    "duration": 4,
    "start_time": "2023-07-30T09:18:34.823Z"
   },
   {
    "duration": 10,
    "start_time": "2023-07-30T09:18:34.828Z"
   },
   {
    "duration": 160,
    "start_time": "2023-07-30T09:18:34.839Z"
   },
   {
    "duration": 4,
    "start_time": "2023-07-30T09:18:35.001Z"
   },
   {
    "duration": 6,
    "start_time": "2023-07-30T09:18:35.006Z"
   },
   {
    "duration": 14,
    "start_time": "2023-07-30T09:18:35.013Z"
   },
   {
    "duration": 11,
    "start_time": "2023-07-30T09:18:35.029Z"
   },
   {
    "duration": 78,
    "start_time": "2023-07-30T09:18:35.042Z"
   },
   {
    "duration": 78,
    "start_time": "2023-07-30T09:18:35.121Z"
   },
   {
    "duration": 6,
    "start_time": "2023-07-30T09:18:35.201Z"
   },
   {
    "duration": 9,
    "start_time": "2023-07-30T09:18:35.208Z"
   },
   {
    "duration": 19,
    "start_time": "2023-07-30T09:18:35.218Z"
   },
   {
    "duration": 3,
    "start_time": "2023-07-30T09:18:35.239Z"
   },
   {
    "duration": 17,
    "start_time": "2023-07-30T09:18:35.243Z"
   },
   {
    "duration": 6,
    "start_time": "2023-07-30T09:18:35.261Z"
   },
   {
    "duration": 9,
    "start_time": "2023-07-30T09:18:35.268Z"
   },
   {
    "duration": 24,
    "start_time": "2023-07-30T09:18:35.279Z"
   },
   {
    "duration": 7,
    "start_time": "2023-07-30T09:18:35.304Z"
   },
   {
    "duration": 6,
    "start_time": "2023-07-30T09:18:35.312Z"
   },
   {
    "duration": 8,
    "start_time": "2023-07-30T09:18:35.319Z"
   },
   {
    "duration": 37,
    "start_time": "2023-07-30T09:18:35.328Z"
   },
   {
    "duration": 4,
    "start_time": "2023-07-30T09:18:35.367Z"
   },
   {
    "duration": 27,
    "start_time": "2023-07-30T09:18:35.372Z"
   },
   {
    "duration": 17,
    "start_time": "2023-07-30T09:18:35.401Z"
   },
   {
    "duration": 7,
    "start_time": "2023-07-30T09:18:35.419Z"
   },
   {
    "duration": 10,
    "start_time": "2023-07-30T09:18:35.427Z"
   },
   {
    "duration": 7,
    "start_time": "2023-07-30T09:18:35.438Z"
   },
   {
    "duration": 1117,
    "start_time": "2023-07-30T09:21:32.194Z"
   },
   {
    "duration": 4,
    "start_time": "2023-07-30T09:21:33.313Z"
   },
   {
    "duration": 58,
    "start_time": "2023-07-30T09:21:33.318Z"
   },
   {
    "duration": 49,
    "start_time": "2023-07-30T09:21:33.378Z"
   },
   {
    "duration": 26,
    "start_time": "2023-07-30T09:21:33.428Z"
   },
   {
    "duration": 4,
    "start_time": "2023-07-30T09:21:33.455Z"
   },
   {
    "duration": 22,
    "start_time": "2023-07-30T09:21:33.461Z"
   },
   {
    "duration": 5,
    "start_time": "2023-07-30T09:21:33.485Z"
   },
   {
    "duration": 10,
    "start_time": "2023-07-30T09:21:33.491Z"
   },
   {
    "duration": 6,
    "start_time": "2023-07-30T09:21:33.504Z"
   },
   {
    "duration": 12,
    "start_time": "2023-07-30T09:21:33.511Z"
   },
   {
    "duration": 9,
    "start_time": "2023-07-30T09:21:33.524Z"
   },
   {
    "duration": 10,
    "start_time": "2023-07-30T09:21:33.534Z"
   },
   {
    "duration": 5,
    "start_time": "2023-07-30T09:21:33.546Z"
   },
   {
    "duration": 6,
    "start_time": "2023-07-30T09:21:33.553Z"
   },
   {
    "duration": 39,
    "start_time": "2023-07-30T09:21:33.561Z"
   },
   {
    "duration": 14,
    "start_time": "2023-07-30T09:21:33.601Z"
   },
   {
    "duration": 11,
    "start_time": "2023-07-30T09:21:33.616Z"
   },
   {
    "duration": 10,
    "start_time": "2023-07-30T09:21:33.629Z"
   },
   {
    "duration": 15,
    "start_time": "2023-07-30T09:21:33.640Z"
   },
   {
    "duration": 10,
    "start_time": "2023-07-30T09:21:33.656Z"
   },
   {
    "duration": 19,
    "start_time": "2023-07-30T09:21:33.667Z"
   },
   {
    "duration": 14,
    "start_time": "2023-07-30T09:21:33.687Z"
   },
   {
    "duration": 11,
    "start_time": "2023-07-30T09:21:33.704Z"
   },
   {
    "duration": 8,
    "start_time": "2023-07-30T09:21:33.716Z"
   },
   {
    "duration": 9,
    "start_time": "2023-07-30T09:21:33.726Z"
   },
   {
    "duration": 18,
    "start_time": "2023-07-30T09:21:33.736Z"
   },
   {
    "duration": 14,
    "start_time": "2023-07-30T09:21:33.758Z"
   },
   {
    "duration": 72,
    "start_time": "2023-07-30T09:21:33.774Z"
   },
   {
    "duration": 211,
    "start_time": "2023-07-30T09:21:33.848Z"
   },
   {
    "duration": 6,
    "start_time": "2023-07-30T09:21:34.061Z"
   },
   {
    "duration": 142,
    "start_time": "2023-07-30T09:21:34.069Z"
   },
   {
    "duration": 7,
    "start_time": "2023-07-30T09:21:34.212Z"
   },
   {
    "duration": 44,
    "start_time": "2023-07-30T09:21:34.220Z"
   },
   {
    "duration": 36,
    "start_time": "2023-07-30T09:21:34.265Z"
   },
   {
    "duration": 20,
    "start_time": "2023-07-30T09:21:34.303Z"
   },
   {
    "duration": 165,
    "start_time": "2023-07-30T09:21:34.325Z"
   },
   {
    "duration": 131,
    "start_time": "2023-07-30T09:21:34.492Z"
   },
   {
    "duration": 13,
    "start_time": "2023-07-30T09:21:34.624Z"
   },
   {
    "duration": 14,
    "start_time": "2023-07-30T09:21:34.638Z"
   },
   {
    "duration": 346,
    "start_time": "2023-07-30T09:21:34.654Z"
   },
   {
    "duration": 273,
    "start_time": "2023-07-30T09:21:35.002Z"
   },
   {
    "duration": 11,
    "start_time": "2023-07-30T09:21:35.277Z"
   },
   {
    "duration": 363,
    "start_time": "2023-07-30T09:21:35.298Z"
   },
   {
    "duration": 10,
    "start_time": "2023-07-30T09:21:35.663Z"
   },
   {
    "duration": 10,
    "start_time": "2023-07-30T09:21:35.674Z"
   },
   {
    "duration": 251,
    "start_time": "2023-07-30T09:21:35.685Z"
   },
   {
    "duration": 15,
    "start_time": "2023-07-30T09:21:35.938Z"
   },
   {
    "duration": 418,
    "start_time": "2023-07-30T09:21:35.954Z"
   },
   {
    "duration": 10,
    "start_time": "2023-07-30T09:21:36.373Z"
   },
   {
    "duration": 166,
    "start_time": "2023-07-30T09:21:36.384Z"
   },
   {
    "duration": 3,
    "start_time": "2023-07-30T09:21:36.552Z"
   },
   {
    "duration": 21,
    "start_time": "2023-07-30T09:21:36.557Z"
   },
   {
    "duration": 151,
    "start_time": "2023-07-30T09:21:36.580Z"
   },
   {
    "duration": 4,
    "start_time": "2023-07-30T09:21:36.732Z"
   },
   {
    "duration": 6,
    "start_time": "2023-07-30T09:21:36.738Z"
   },
   {
    "duration": 19,
    "start_time": "2023-07-30T09:21:36.745Z"
   },
   {
    "duration": 11,
    "start_time": "2023-07-30T09:21:36.766Z"
   },
   {
    "duration": 66,
    "start_time": "2023-07-30T09:21:36.778Z"
   },
   {
    "duration": 81,
    "start_time": "2023-07-30T09:21:36.845Z"
   },
   {
    "duration": 6,
    "start_time": "2023-07-30T09:21:36.928Z"
   },
   {
    "duration": 8,
    "start_time": "2023-07-30T09:21:36.935Z"
   },
   {
    "duration": 21,
    "start_time": "2023-07-30T09:21:36.944Z"
   },
   {
    "duration": 3,
    "start_time": "2023-07-30T09:21:36.967Z"
   },
   {
    "duration": 28,
    "start_time": "2023-07-30T09:21:36.971Z"
   },
   {
    "duration": 5,
    "start_time": "2023-07-30T09:21:37.001Z"
   },
   {
    "duration": 7,
    "start_time": "2023-07-30T09:21:37.008Z"
   },
   {
    "duration": 6,
    "start_time": "2023-07-30T09:21:37.016Z"
   },
   {
    "duration": 9,
    "start_time": "2023-07-30T09:21:37.023Z"
   },
   {
    "duration": 6,
    "start_time": "2023-07-30T09:21:37.033Z"
   },
   {
    "duration": 7,
    "start_time": "2023-07-30T09:21:37.040Z"
   },
   {
    "duration": 23,
    "start_time": "2023-07-30T09:21:37.048Z"
   },
   {
    "duration": 4,
    "start_time": "2023-07-30T09:21:37.072Z"
   },
   {
    "duration": 28,
    "start_time": "2023-07-30T09:21:37.077Z"
   },
   {
    "duration": 10,
    "start_time": "2023-07-30T09:21:37.106Z"
   },
   {
    "duration": 3,
    "start_time": "2023-07-30T09:21:37.118Z"
   },
   {
    "duration": 5,
    "start_time": "2023-07-30T09:21:37.125Z"
   },
   {
    "duration": 6,
    "start_time": "2023-07-30T09:21:37.131Z"
   },
   {
    "duration": 1240,
    "start_time": "2023-07-30T09:23:42.963Z"
   },
   {
    "duration": 3,
    "start_time": "2023-07-30T09:23:44.205Z"
   },
   {
    "duration": 47,
    "start_time": "2023-07-30T09:23:44.210Z"
   },
   {
    "duration": 49,
    "start_time": "2023-07-30T09:23:44.259Z"
   },
   {
    "duration": 25,
    "start_time": "2023-07-30T09:23:44.310Z"
   },
   {
    "duration": 4,
    "start_time": "2023-07-30T09:23:44.337Z"
   },
   {
    "duration": 10,
    "start_time": "2023-07-30T09:23:44.342Z"
   },
   {
    "duration": 10,
    "start_time": "2023-07-30T09:23:44.353Z"
   },
   {
    "duration": 7,
    "start_time": "2023-07-30T09:23:44.364Z"
   },
   {
    "duration": 11,
    "start_time": "2023-07-30T09:23:44.373Z"
   },
   {
    "duration": 14,
    "start_time": "2023-07-30T09:23:44.386Z"
   },
   {
    "duration": 15,
    "start_time": "2023-07-30T09:23:44.401Z"
   },
   {
    "duration": 6,
    "start_time": "2023-07-30T09:23:44.418Z"
   },
   {
    "duration": 4,
    "start_time": "2023-07-30T09:23:44.426Z"
   },
   {
    "duration": 9,
    "start_time": "2023-07-30T09:23:44.431Z"
   },
   {
    "duration": 26,
    "start_time": "2023-07-30T09:23:44.441Z"
   },
   {
    "duration": 5,
    "start_time": "2023-07-30T09:23:44.468Z"
   },
   {
    "duration": 8,
    "start_time": "2023-07-30T09:23:44.474Z"
   },
   {
    "duration": 17,
    "start_time": "2023-07-30T09:23:44.483Z"
   },
   {
    "duration": 12,
    "start_time": "2023-07-30T09:23:44.501Z"
   },
   {
    "duration": 10,
    "start_time": "2023-07-30T09:23:44.516Z"
   },
   {
    "duration": 4,
    "start_time": "2023-07-30T09:23:44.528Z"
   },
   {
    "duration": 9,
    "start_time": "2023-07-30T09:23:44.534Z"
   },
   {
    "duration": 12,
    "start_time": "2023-07-30T09:23:44.545Z"
   },
   {
    "duration": 7,
    "start_time": "2023-07-30T09:23:44.560Z"
   },
   {
    "duration": 5,
    "start_time": "2023-07-30T09:23:44.568Z"
   },
   {
    "duration": 4,
    "start_time": "2023-07-30T09:23:44.600Z"
   },
   {
    "duration": 11,
    "start_time": "2023-07-30T09:23:44.609Z"
   },
   {
    "duration": 88,
    "start_time": "2023-07-30T09:23:44.622Z"
   },
   {
    "duration": 227,
    "start_time": "2023-07-30T09:23:44.712Z"
   },
   {
    "duration": 5,
    "start_time": "2023-07-30T09:23:44.941Z"
   },
   {
    "duration": 136,
    "start_time": "2023-07-30T09:23:44.948Z"
   },
   {
    "duration": 15,
    "start_time": "2023-07-30T09:23:45.086Z"
   },
   {
    "duration": 38,
    "start_time": "2023-07-30T09:23:45.103Z"
   },
   {
    "duration": 15,
    "start_time": "2023-07-30T09:23:45.143Z"
   },
   {
    "duration": 23,
    "start_time": "2023-07-30T09:23:45.159Z"
   },
   {
    "duration": 173,
    "start_time": "2023-07-30T09:23:45.183Z"
   },
   {
    "duration": 131,
    "start_time": "2023-07-30T09:23:45.357Z"
   },
   {
    "duration": 18,
    "start_time": "2023-07-30T09:23:45.490Z"
   },
   {
    "duration": 15,
    "start_time": "2023-07-30T09:23:45.510Z"
   },
   {
    "duration": 370,
    "start_time": "2023-07-30T09:23:45.527Z"
   },
   {
    "duration": 349,
    "start_time": "2023-07-30T09:23:45.899Z"
   },
   {
    "duration": 12,
    "start_time": "2023-07-30T09:23:46.250Z"
   },
   {
    "duration": 399,
    "start_time": "2023-07-30T09:23:46.264Z"
   },
   {
    "duration": 10,
    "start_time": "2023-07-30T09:23:46.665Z"
   },
   {
    "duration": 4,
    "start_time": "2023-07-30T09:23:46.677Z"
   },
   {
    "duration": 304,
    "start_time": "2023-07-30T09:23:46.682Z"
   },
   {
    "duration": 14,
    "start_time": "2023-07-30T09:23:46.988Z"
   },
   {
    "duration": 507,
    "start_time": "2023-07-30T09:23:47.003Z"
   },
   {
    "duration": 14,
    "start_time": "2023-07-30T09:23:47.513Z"
   },
   {
    "duration": 283,
    "start_time": "2023-07-30T09:23:47.529Z"
   },
   {
    "duration": 5,
    "start_time": "2023-07-30T09:23:47.813Z"
   },
   {
    "duration": 8,
    "start_time": "2023-07-30T09:23:47.819Z"
   },
   {
    "duration": 190,
    "start_time": "2023-07-30T09:23:47.828Z"
   },
   {
    "duration": 4,
    "start_time": "2023-07-30T09:23:48.020Z"
   },
   {
    "duration": 10,
    "start_time": "2023-07-30T09:23:48.026Z"
   },
   {
    "duration": 10,
    "start_time": "2023-07-30T09:23:48.037Z"
   },
   {
    "duration": 12,
    "start_time": "2023-07-30T09:23:48.048Z"
   },
   {
    "duration": 82,
    "start_time": "2023-07-30T09:23:48.061Z"
   },
   {
    "duration": 83,
    "start_time": "2023-07-30T09:23:48.144Z"
   },
   {
    "duration": 7,
    "start_time": "2023-07-30T09:23:48.228Z"
   },
   {
    "duration": 20,
    "start_time": "2023-07-30T09:23:48.236Z"
   },
   {
    "duration": 25,
    "start_time": "2023-07-30T09:23:48.257Z"
   },
   {
    "duration": 4,
    "start_time": "2023-07-30T09:23:48.284Z"
   },
   {
    "duration": 8,
    "start_time": "2023-07-30T09:23:48.289Z"
   },
   {
    "duration": 6,
    "start_time": "2023-07-30T09:23:48.298Z"
   },
   {
    "duration": 7,
    "start_time": "2023-07-30T09:23:48.305Z"
   },
   {
    "duration": 6,
    "start_time": "2023-07-30T09:23:48.313Z"
   },
   {
    "duration": 7,
    "start_time": "2023-07-30T09:23:48.320Z"
   },
   {
    "duration": 5,
    "start_time": "2023-07-30T09:23:48.328Z"
   },
   {
    "duration": 4,
    "start_time": "2023-07-30T09:23:48.335Z"
   },
   {
    "duration": 64,
    "start_time": "2023-07-30T09:23:48.341Z"
   },
   {
    "duration": 5,
    "start_time": "2023-07-30T09:23:48.406Z"
   },
   {
    "duration": 11,
    "start_time": "2023-07-30T09:23:48.413Z"
   },
   {
    "duration": 10,
    "start_time": "2023-07-30T09:23:48.425Z"
   },
   {
    "duration": 4,
    "start_time": "2023-07-30T09:23:48.437Z"
   },
   {
    "duration": 9,
    "start_time": "2023-07-30T09:23:48.442Z"
   },
   {
    "duration": 4,
    "start_time": "2023-07-30T09:23:48.453Z"
   },
   {
    "duration": 35,
    "start_time": "2023-07-30T09:32:57.775Z"
   },
   {
    "duration": 21,
    "start_time": "2023-07-30T09:33:05.398Z"
   },
   {
    "duration": 248,
    "start_time": "2023-07-30T09:39:14.180Z"
   },
   {
    "duration": 1160,
    "start_time": "2023-07-30T11:49:15.473Z"
   },
   {
    "duration": 2,
    "start_time": "2023-07-30T11:49:16.636Z"
   },
   {
    "duration": 58,
    "start_time": "2023-07-30T11:49:16.640Z"
   },
   {
    "duration": 49,
    "start_time": "2023-07-30T11:49:16.700Z"
   },
   {
    "duration": 30,
    "start_time": "2023-07-30T11:49:16.751Z"
   },
   {
    "duration": 4,
    "start_time": "2023-07-30T11:49:16.782Z"
   },
   {
    "duration": 10,
    "start_time": "2023-07-30T11:49:16.787Z"
   },
   {
    "duration": 12,
    "start_time": "2023-07-30T11:49:16.798Z"
   },
   {
    "duration": 6,
    "start_time": "2023-07-30T11:49:16.812Z"
   },
   {
    "duration": 9,
    "start_time": "2023-07-30T11:49:16.822Z"
   },
   {
    "duration": 14,
    "start_time": "2023-07-30T11:49:16.832Z"
   },
   {
    "duration": 5,
    "start_time": "2023-07-30T11:49:16.847Z"
   },
   {
    "duration": 6,
    "start_time": "2023-07-30T11:49:16.854Z"
   },
   {
    "duration": 3,
    "start_time": "2023-07-30T11:49:16.862Z"
   },
   {
    "duration": 11,
    "start_time": "2023-07-30T11:49:16.867Z"
   },
   {
    "duration": 33,
    "start_time": "2023-07-30T11:49:16.879Z"
   },
   {
    "duration": 5,
    "start_time": "2023-07-30T11:49:16.913Z"
   },
   {
    "duration": 10,
    "start_time": "2023-07-30T11:49:16.920Z"
   },
   {
    "duration": 17,
    "start_time": "2023-07-30T11:49:16.931Z"
   },
   {
    "duration": 12,
    "start_time": "2023-07-30T11:49:16.949Z"
   },
   {
    "duration": 12,
    "start_time": "2023-07-30T11:49:16.963Z"
   },
   {
    "duration": 26,
    "start_time": "2023-07-30T11:49:16.977Z"
   },
   {
    "duration": 19,
    "start_time": "2023-07-30T11:49:17.005Z"
   },
   {
    "duration": 5,
    "start_time": "2023-07-30T11:49:17.026Z"
   },
   {
    "duration": 18,
    "start_time": "2023-07-30T11:49:17.033Z"
   },
   {
    "duration": 11,
    "start_time": "2023-07-30T11:49:17.053Z"
   },
   {
    "duration": 5,
    "start_time": "2023-07-30T11:49:17.066Z"
   },
   {
    "duration": 7,
    "start_time": "2023-07-30T11:49:17.076Z"
   },
   {
    "duration": 127,
    "start_time": "2023-07-30T11:49:17.084Z"
   },
   {
    "duration": 207,
    "start_time": "2023-07-30T11:49:17.213Z"
   },
   {
    "duration": 6,
    "start_time": "2023-07-30T11:49:17.422Z"
   },
   {
    "duration": 127,
    "start_time": "2023-07-30T11:49:17.430Z"
   },
   {
    "duration": 7,
    "start_time": "2023-07-30T11:49:17.558Z"
   },
   {
    "duration": 15,
    "start_time": "2023-07-30T11:49:17.567Z"
   },
   {
    "duration": 26,
    "start_time": "2023-07-30T11:49:17.584Z"
   },
   {
    "duration": 16,
    "start_time": "2023-07-30T11:49:17.612Z"
   },
   {
    "duration": 157,
    "start_time": "2023-07-30T11:49:17.630Z"
   },
   {
    "duration": 128,
    "start_time": "2023-07-30T11:49:17.789Z"
   },
   {
    "duration": 11,
    "start_time": "2023-07-30T11:49:17.918Z"
   },
   {
    "duration": 7,
    "start_time": "2023-07-30T11:49:17.930Z"
   },
   {
    "duration": 350,
    "start_time": "2023-07-30T11:49:17.939Z"
   },
   {
    "duration": 264,
    "start_time": "2023-07-30T11:49:18.290Z"
   },
   {
    "duration": 11,
    "start_time": "2023-07-30T11:49:18.558Z"
   },
   {
    "duration": 365,
    "start_time": "2023-07-30T11:49:18.570Z"
   },
   {
    "duration": 9,
    "start_time": "2023-07-30T11:49:18.936Z"
   },
   {
    "duration": 7,
    "start_time": "2023-07-30T11:49:18.946Z"
   },
   {
    "duration": 239,
    "start_time": "2023-07-30T11:49:18.954Z"
   },
   {
    "duration": 13,
    "start_time": "2023-07-30T11:49:19.195Z"
   },
   {
    "duration": 366,
    "start_time": "2023-07-30T11:49:19.210Z"
   },
   {
    "duration": 10,
    "start_time": "2023-07-30T11:49:19.577Z"
   },
   {
    "duration": 155,
    "start_time": "2023-07-30T11:49:19.599Z"
   },
   {
    "duration": 4,
    "start_time": "2023-07-30T11:49:19.755Z"
   },
   {
    "duration": 13,
    "start_time": "2023-07-30T11:49:19.761Z"
   },
   {
    "duration": 163,
    "start_time": "2023-07-30T11:49:19.775Z"
   },
   {
    "duration": 4,
    "start_time": "2023-07-30T11:49:19.940Z"
   },
   {
    "duration": 7,
    "start_time": "2023-07-30T11:49:19.945Z"
   },
   {
    "duration": 10,
    "start_time": "2023-07-30T11:49:19.954Z"
   },
   {
    "duration": 13,
    "start_time": "2023-07-30T11:49:19.966Z"
   },
   {
    "duration": 71,
    "start_time": "2023-07-30T11:49:19.980Z"
   },
   {
    "duration": 70,
    "start_time": "2023-07-30T11:49:20.053Z"
   },
   {
    "duration": 6,
    "start_time": "2023-07-30T11:49:20.124Z"
   },
   {
    "duration": 7,
    "start_time": "2023-07-30T11:49:20.131Z"
   },
   {
    "duration": 25,
    "start_time": "2023-07-30T11:49:20.139Z"
   },
   {
    "duration": 4,
    "start_time": "2023-07-30T11:49:20.165Z"
   },
   {
    "duration": 29,
    "start_time": "2023-07-30T11:49:20.171Z"
   },
   {
    "duration": 6,
    "start_time": "2023-07-30T11:49:20.202Z"
   },
   {
    "duration": 8,
    "start_time": "2023-07-30T11:49:20.209Z"
   },
   {
    "duration": 22,
    "start_time": "2023-07-30T11:49:20.219Z"
   },
   {
    "duration": 13,
    "start_time": "2023-07-30T11:49:20.242Z"
   },
   {
    "duration": 16,
    "start_time": "2023-07-30T11:49:20.256Z"
   },
   {
    "duration": 8,
    "start_time": "2023-07-30T11:49:20.274Z"
   },
   {
    "duration": 28,
    "start_time": "2023-07-30T11:49:20.283Z"
   },
   {
    "duration": 7,
    "start_time": "2023-07-30T11:49:20.313Z"
   },
   {
    "duration": 14,
    "start_time": "2023-07-30T11:49:20.321Z"
   },
   {
    "duration": 16,
    "start_time": "2023-07-30T11:49:20.337Z"
   },
   {
    "duration": 1130,
    "start_time": "2023-07-30T12:04:02.969Z"
   },
   {
    "duration": 4,
    "start_time": "2023-07-30T12:04:04.102Z"
   },
   {
    "duration": 110,
    "start_time": "2023-07-30T12:04:04.107Z"
   },
   {
    "duration": 57,
    "start_time": "2023-07-30T12:04:04.219Z"
   },
   {
    "duration": 31,
    "start_time": "2023-07-30T12:04:04.279Z"
   },
   {
    "duration": 6,
    "start_time": "2023-07-30T12:04:04.312Z"
   },
   {
    "duration": 30,
    "start_time": "2023-07-30T12:04:04.319Z"
   },
   {
    "duration": 39,
    "start_time": "2023-07-30T12:04:04.351Z"
   },
   {
    "duration": 14,
    "start_time": "2023-07-30T12:04:04.391Z"
   },
   {
    "duration": 39,
    "start_time": "2023-07-30T12:04:04.407Z"
   },
   {
    "duration": 62,
    "start_time": "2023-07-30T12:04:04.448Z"
   },
   {
    "duration": 30,
    "start_time": "2023-07-30T12:04:04.512Z"
   },
   {
    "duration": 35,
    "start_time": "2023-07-30T12:04:04.544Z"
   },
   {
    "duration": 12,
    "start_time": "2023-07-30T12:04:04.583Z"
   },
   {
    "duration": 10,
    "start_time": "2023-07-30T12:04:04.597Z"
   },
   {
    "duration": 21,
    "start_time": "2023-07-30T12:04:04.609Z"
   },
   {
    "duration": 6,
    "start_time": "2023-07-30T12:04:04.631Z"
   },
   {
    "duration": 11,
    "start_time": "2023-07-30T12:04:04.638Z"
   },
   {
    "duration": 26,
    "start_time": "2023-07-30T12:04:04.651Z"
   },
   {
    "duration": 28,
    "start_time": "2023-07-30T12:04:04.679Z"
   },
   {
    "duration": 11,
    "start_time": "2023-07-30T12:04:04.709Z"
   },
   {
    "duration": 6,
    "start_time": "2023-07-30T12:04:04.721Z"
   },
   {
    "duration": 20,
    "start_time": "2023-07-30T12:04:04.728Z"
   },
   {
    "duration": 11,
    "start_time": "2023-07-30T12:04:04.750Z"
   },
   {
    "duration": 26,
    "start_time": "2023-07-30T12:04:04.763Z"
   },
   {
    "duration": 29,
    "start_time": "2023-07-30T12:04:04.790Z"
   },
   {
    "duration": 21,
    "start_time": "2023-07-30T12:04:04.820Z"
   },
   {
    "duration": 13,
    "start_time": "2023-07-30T12:04:04.843Z"
   },
   {
    "duration": 103,
    "start_time": "2023-07-30T12:04:04.858Z"
   },
   {
    "duration": 247,
    "start_time": "2023-07-30T12:04:04.962Z"
   },
   {
    "duration": 4,
    "start_time": "2023-07-30T12:04:05.211Z"
   },
   {
    "duration": 126,
    "start_time": "2023-07-30T12:04:05.217Z"
   },
   {
    "duration": 8,
    "start_time": "2023-07-30T12:04:05.344Z"
   },
   {
    "duration": 26,
    "start_time": "2023-07-30T12:04:05.354Z"
   },
   {
    "duration": 31,
    "start_time": "2023-07-30T12:04:05.382Z"
   },
   {
    "duration": 15,
    "start_time": "2023-07-30T12:04:05.415Z"
   },
   {
    "duration": 204,
    "start_time": "2023-07-30T12:04:05.432Z"
   },
   {
    "duration": 118,
    "start_time": "2023-07-30T12:04:05.637Z"
   },
   {
    "duration": 29,
    "start_time": "2023-07-30T12:04:05.756Z"
   },
   {
    "duration": 20,
    "start_time": "2023-07-30T12:04:05.787Z"
   },
   {
    "duration": 430,
    "start_time": "2023-07-30T12:04:05.810Z"
   },
   {
    "duration": 298,
    "start_time": "2023-07-30T12:04:06.241Z"
   },
   {
    "duration": 11,
    "start_time": "2023-07-30T12:04:06.541Z"
   },
   {
    "duration": 383,
    "start_time": "2023-07-30T12:04:06.554Z"
   },
   {
    "duration": 9,
    "start_time": "2023-07-30T12:04:06.939Z"
   },
   {
    "duration": 29,
    "start_time": "2023-07-30T12:04:06.950Z"
   },
   {
    "duration": 264,
    "start_time": "2023-07-30T12:04:06.982Z"
   },
   {
    "duration": 13,
    "start_time": "2023-07-30T12:04:07.248Z"
   },
   {
    "duration": 433,
    "start_time": "2023-07-30T12:04:07.263Z"
   },
   {
    "duration": 11,
    "start_time": "2023-07-30T12:04:07.699Z"
   },
   {
    "duration": 177,
    "start_time": "2023-07-30T12:04:07.711Z"
   },
   {
    "duration": 4,
    "start_time": "2023-07-30T12:04:07.890Z"
   },
   {
    "duration": 12,
    "start_time": "2023-07-30T12:04:07.900Z"
   },
   {
    "duration": 154,
    "start_time": "2023-07-30T12:04:07.914Z"
   },
   {
    "duration": 4,
    "start_time": "2023-07-30T12:04:08.070Z"
   },
   {
    "duration": 19,
    "start_time": "2023-07-30T12:04:08.076Z"
   },
   {
    "duration": 10,
    "start_time": "2023-07-30T12:04:08.099Z"
   },
   {
    "duration": 52,
    "start_time": "2023-07-30T12:04:08.111Z"
   },
   {
    "duration": 103,
    "start_time": "2023-07-30T12:04:08.165Z"
   },
   {
    "duration": 91,
    "start_time": "2023-07-30T12:04:08.270Z"
   },
   {
    "duration": 7,
    "start_time": "2023-07-30T12:04:08.363Z"
   },
   {
    "duration": 30,
    "start_time": "2023-07-30T12:04:08.371Z"
   },
   {
    "duration": 30,
    "start_time": "2023-07-30T12:04:08.403Z"
   },
   {
    "duration": 5,
    "start_time": "2023-07-30T12:04:08.435Z"
   },
   {
    "duration": 20,
    "start_time": "2023-07-30T12:04:08.441Z"
   },
   {
    "duration": 13,
    "start_time": "2023-07-30T12:04:08.463Z"
   },
   {
    "duration": 36,
    "start_time": "2023-07-30T12:04:08.478Z"
   },
   {
    "duration": 22,
    "start_time": "2023-07-30T12:04:08.515Z"
   },
   {
    "duration": 13,
    "start_time": "2023-07-30T12:04:08.539Z"
   },
   {
    "duration": 27,
    "start_time": "2023-07-30T12:04:08.554Z"
   },
   {
    "duration": 26,
    "start_time": "2023-07-30T12:04:08.582Z"
   },
   {
    "duration": 39,
    "start_time": "2023-07-30T12:04:08.610Z"
   },
   {
    "duration": 4,
    "start_time": "2023-07-30T12:04:08.651Z"
   },
   {
    "duration": 15,
    "start_time": "2023-07-30T12:04:08.656Z"
   },
   {
    "duration": 8,
    "start_time": "2023-07-30T12:04:08.672Z"
   },
   {
    "duration": 1035,
    "start_time": "2023-07-30T13:11:02.256Z"
   },
   {
    "duration": 3,
    "start_time": "2023-07-30T13:11:03.293Z"
   },
   {
    "duration": 87,
    "start_time": "2023-07-30T13:11:03.299Z"
   },
   {
    "duration": 93,
    "start_time": "2023-07-30T13:11:03.388Z"
   },
   {
    "duration": 63,
    "start_time": "2023-07-30T13:11:03.483Z"
   },
   {
    "duration": 4,
    "start_time": "2023-07-30T13:11:03.548Z"
   },
   {
    "duration": 10,
    "start_time": "2023-07-30T13:11:03.554Z"
   },
   {
    "duration": 21,
    "start_time": "2023-07-30T13:11:03.565Z"
   },
   {
    "duration": 20,
    "start_time": "2023-07-30T13:11:03.587Z"
   },
   {
    "duration": 7,
    "start_time": "2023-07-30T13:11:03.610Z"
   },
   {
    "duration": 16,
    "start_time": "2023-07-30T13:11:03.619Z"
   },
   {
    "duration": 9,
    "start_time": "2023-07-30T13:11:03.636Z"
   },
   {
    "duration": 7,
    "start_time": "2023-07-30T13:11:03.647Z"
   },
   {
    "duration": 10,
    "start_time": "2023-07-30T13:11:03.656Z"
   },
   {
    "duration": 9,
    "start_time": "2023-07-30T13:11:03.668Z"
   },
   {
    "duration": 33,
    "start_time": "2023-07-30T13:11:03.679Z"
   },
   {
    "duration": 7,
    "start_time": "2023-07-30T13:11:03.714Z"
   },
   {
    "duration": 16,
    "start_time": "2023-07-30T13:11:03.723Z"
   },
   {
    "duration": 18,
    "start_time": "2023-07-30T13:11:03.741Z"
   },
   {
    "duration": 19,
    "start_time": "2023-07-30T13:11:03.761Z"
   },
   {
    "duration": 11,
    "start_time": "2023-07-30T13:11:03.782Z"
   },
   {
    "duration": 9,
    "start_time": "2023-07-30T13:11:03.799Z"
   },
   {
    "duration": 19,
    "start_time": "2023-07-30T13:11:03.810Z"
   },
   {
    "duration": 10,
    "start_time": "2023-07-30T13:11:03.830Z"
   },
   {
    "duration": 10,
    "start_time": "2023-07-30T13:11:03.841Z"
   },
   {
    "duration": 7,
    "start_time": "2023-07-30T13:11:03.853Z"
   },
   {
    "duration": 12,
    "start_time": "2023-07-30T13:11:03.861Z"
   },
   {
    "duration": 6,
    "start_time": "2023-07-30T13:11:03.876Z"
   },
   {
    "duration": 81,
    "start_time": "2023-07-30T13:11:03.883Z"
   },
   {
    "duration": 222,
    "start_time": "2023-07-30T13:11:03.965Z"
   },
   {
    "duration": 13,
    "start_time": "2023-07-30T13:11:04.189Z"
   },
   {
    "duration": 120,
    "start_time": "2023-07-30T13:11:04.203Z"
   },
   {
    "duration": 7,
    "start_time": "2023-07-30T13:11:04.325Z"
   },
   {
    "duration": 13,
    "start_time": "2023-07-30T13:11:04.334Z"
   },
   {
    "duration": 22,
    "start_time": "2023-07-30T13:11:04.349Z"
   },
   {
    "duration": 26,
    "start_time": "2023-07-30T13:11:04.373Z"
   },
   {
    "duration": 162,
    "start_time": "2023-07-30T13:11:04.401Z"
   },
   {
    "duration": 113,
    "start_time": "2023-07-30T13:11:04.565Z"
   },
   {
    "duration": 26,
    "start_time": "2023-07-30T13:11:04.679Z"
   },
   {
    "duration": 8,
    "start_time": "2023-07-30T13:11:04.706Z"
   },
   {
    "duration": 328,
    "start_time": "2023-07-30T13:11:04.715Z"
   },
   {
    "duration": 264,
    "start_time": "2023-07-30T13:11:05.044Z"
   },
   {
    "duration": 11,
    "start_time": "2023-07-30T13:11:05.309Z"
   },
   {
    "duration": 340,
    "start_time": "2023-07-30T13:11:05.322Z"
   },
   {
    "duration": 11,
    "start_time": "2023-07-30T13:11:05.663Z"
   },
   {
    "duration": 5,
    "start_time": "2023-07-30T13:11:05.675Z"
   },
   {
    "duration": 268,
    "start_time": "2023-07-30T13:11:05.682Z"
   },
   {
    "duration": 17,
    "start_time": "2023-07-30T13:11:05.952Z"
   },
   {
    "duration": 432,
    "start_time": "2023-07-30T13:11:05.971Z"
   },
   {
    "duration": 17,
    "start_time": "2023-07-30T13:11:06.405Z"
   },
   {
    "duration": 213,
    "start_time": "2023-07-30T13:11:06.424Z"
   },
   {
    "duration": 5,
    "start_time": "2023-07-30T13:11:06.638Z"
   },
   {
    "duration": 22,
    "start_time": "2023-07-30T13:11:06.644Z"
   },
   {
    "duration": 166,
    "start_time": "2023-07-30T13:11:06.668Z"
   },
   {
    "duration": 4,
    "start_time": "2023-07-30T13:11:06.836Z"
   },
   {
    "duration": 38,
    "start_time": "2023-07-30T13:11:06.841Z"
   },
   {
    "duration": 21,
    "start_time": "2023-07-30T13:11:06.881Z"
   },
   {
    "duration": 112,
    "start_time": "2023-07-30T13:11:06.904Z"
   },
   {
    "duration": 97,
    "start_time": "2023-07-30T13:11:07.018Z"
   },
   {
    "duration": 91,
    "start_time": "2023-07-30T13:11:07.117Z"
   },
   {
    "duration": 23,
    "start_time": "2023-07-30T13:11:07.209Z"
   },
   {
    "duration": 19,
    "start_time": "2023-07-30T13:11:07.234Z"
   },
   {
    "duration": 48,
    "start_time": "2023-07-30T13:11:07.254Z"
   },
   {
    "duration": 33,
    "start_time": "2023-07-30T13:11:07.303Z"
   },
   {
    "duration": 30,
    "start_time": "2023-07-30T13:11:07.338Z"
   },
   {
    "duration": 16,
    "start_time": "2023-07-30T13:11:07.370Z"
   },
   {
    "duration": 26,
    "start_time": "2023-07-30T13:11:07.388Z"
   },
   {
    "duration": 20,
    "start_time": "2023-07-30T13:11:07.416Z"
   },
   {
    "duration": 17,
    "start_time": "2023-07-30T13:11:07.438Z"
   },
   {
    "duration": 21,
    "start_time": "2023-07-30T13:11:07.457Z"
   },
   {
    "duration": 23,
    "start_time": "2023-07-30T13:11:07.480Z"
   },
   {
    "duration": 32,
    "start_time": "2023-07-30T13:11:07.504Z"
   },
   {
    "duration": 5,
    "start_time": "2023-07-30T13:11:07.538Z"
   },
   {
    "duration": 11,
    "start_time": "2023-07-30T13:11:07.544Z"
   },
   {
    "duration": 8,
    "start_time": "2023-07-30T13:11:07.556Z"
   },
   {
    "duration": 1551,
    "start_time": "2023-07-30T18:39:20.957Z"
   },
   {
    "duration": 5,
    "start_time": "2023-07-30T18:39:22.511Z"
   },
   {
    "duration": 107,
    "start_time": "2023-07-30T18:39:22.518Z"
   },
   {
    "duration": 193,
    "start_time": "2023-07-30T18:39:22.627Z"
   },
   {
    "duration": 94,
    "start_time": "2023-07-30T18:39:22.822Z"
   },
   {
    "duration": 7,
    "start_time": "2023-07-30T18:39:22.918Z"
   },
   {
    "duration": 19,
    "start_time": "2023-07-30T18:39:22.926Z"
   },
   {
    "duration": 32,
    "start_time": "2023-07-30T18:39:22.947Z"
   },
   {
    "duration": 43,
    "start_time": "2023-07-30T18:39:22.981Z"
   },
   {
    "duration": 8,
    "start_time": "2023-07-30T18:39:23.027Z"
   },
   {
    "duration": 27,
    "start_time": "2023-07-30T18:39:23.036Z"
   },
   {
    "duration": 10,
    "start_time": "2023-07-30T18:39:23.064Z"
   },
   {
    "duration": 35,
    "start_time": "2023-07-30T18:39:23.076Z"
   },
   {
    "duration": 11,
    "start_time": "2023-07-30T18:39:23.113Z"
   },
   {
    "duration": 7,
    "start_time": "2023-07-30T18:39:23.126Z"
   },
   {
    "duration": 29,
    "start_time": "2023-07-30T18:39:23.136Z"
   },
   {
    "duration": 41,
    "start_time": "2023-07-30T18:39:23.167Z"
   },
   {
    "duration": 6,
    "start_time": "2023-07-30T18:39:23.210Z"
   },
   {
    "duration": 16,
    "start_time": "2023-07-30T18:39:23.218Z"
   },
   {
    "duration": 20,
    "start_time": "2023-07-30T18:39:23.235Z"
   },
   {
    "duration": 19,
    "start_time": "2023-07-30T18:39:23.257Z"
   },
   {
    "duration": 6,
    "start_time": "2023-07-30T18:39:23.278Z"
   },
   {
    "duration": 32,
    "start_time": "2023-07-30T18:39:23.286Z"
   },
   {
    "duration": 10,
    "start_time": "2023-07-30T18:39:23.319Z"
   },
   {
    "duration": 13,
    "start_time": "2023-07-30T18:39:23.331Z"
   },
   {
    "duration": 11,
    "start_time": "2023-07-30T18:39:23.345Z"
   },
   {
    "duration": 47,
    "start_time": "2023-07-30T18:39:23.357Z"
   },
   {
    "duration": 7,
    "start_time": "2023-07-30T18:39:23.408Z"
   },
   {
    "duration": 111,
    "start_time": "2023-07-30T18:39:23.417Z"
   },
   {
    "duration": 262,
    "start_time": "2023-07-30T18:39:23.530Z"
   },
   {
    "duration": 9,
    "start_time": "2023-07-30T18:39:23.793Z"
   },
   {
    "duration": 160,
    "start_time": "2023-07-30T18:39:23.803Z"
   },
   {
    "duration": 33,
    "start_time": "2023-07-30T18:39:23.965Z"
   },
   {
    "duration": 16,
    "start_time": "2023-07-30T18:39:24.001Z"
   },
   {
    "duration": 26,
    "start_time": "2023-07-30T18:39:24.019Z"
   },
   {
    "duration": 18,
    "start_time": "2023-07-30T18:39:24.047Z"
   },
   {
    "duration": 247,
    "start_time": "2023-07-30T18:39:24.067Z"
   },
   {
    "duration": 147,
    "start_time": "2023-07-30T18:39:24.316Z"
   },
   {
    "duration": 31,
    "start_time": "2023-07-30T18:39:24.476Z"
   },
   {
    "duration": 11,
    "start_time": "2023-07-30T18:39:24.511Z"
   },
   {
    "duration": 481,
    "start_time": "2023-07-30T18:39:24.524Z"
   },
   {
    "duration": 381,
    "start_time": "2023-07-30T18:39:25.008Z"
   },
   {
    "duration": 27,
    "start_time": "2023-07-30T18:39:25.391Z"
   },
   {
    "duration": 429,
    "start_time": "2023-07-30T18:39:25.420Z"
   },
   {
    "duration": 11,
    "start_time": "2023-07-30T18:39:25.851Z"
   },
   {
    "duration": 36,
    "start_time": "2023-07-30T18:39:25.864Z"
   },
   {
    "duration": 347,
    "start_time": "2023-07-30T18:39:25.905Z"
   },
   {
    "duration": 32,
    "start_time": "2023-07-30T18:39:26.255Z"
   },
   {
    "duration": 553,
    "start_time": "2023-07-30T18:39:26.295Z"
   },
   {
    "duration": 31,
    "start_time": "2023-07-30T18:39:26.850Z"
   },
   {
    "duration": 205,
    "start_time": "2023-07-30T18:39:26.886Z"
   },
   {
    "duration": 5,
    "start_time": "2023-07-30T18:39:27.093Z"
   },
   {
    "duration": 12,
    "start_time": "2023-07-30T18:39:27.101Z"
   },
   {
    "duration": 205,
    "start_time": "2023-07-30T18:39:27.115Z"
   },
   {
    "duration": 5,
    "start_time": "2023-07-30T18:39:27.322Z"
   },
   {
    "duration": 14,
    "start_time": "2023-07-30T18:39:27.329Z"
   },
   {
    "duration": 14,
    "start_time": "2023-07-30T18:39:27.344Z"
   },
   {
    "duration": 24,
    "start_time": "2023-07-30T18:39:27.376Z"
   },
   {
    "duration": 88,
    "start_time": "2023-07-30T18:39:27.406Z"
   },
   {
    "duration": 93,
    "start_time": "2023-07-30T18:39:27.497Z"
   },
   {
    "duration": 13,
    "start_time": "2023-07-30T18:39:27.593Z"
   },
   {
    "duration": 14,
    "start_time": "2023-07-30T18:39:27.611Z"
   },
   {
    "duration": 40,
    "start_time": "2023-07-30T18:39:27.627Z"
   },
   {
    "duration": 20,
    "start_time": "2023-07-30T18:39:27.670Z"
   },
   {
    "duration": 13,
    "start_time": "2023-07-30T18:39:27.701Z"
   },
   {
    "duration": 14,
    "start_time": "2023-07-30T18:39:27.715Z"
   },
   {
    "duration": 15,
    "start_time": "2023-07-30T18:39:27.731Z"
   },
   {
    "duration": 13,
    "start_time": "2023-07-30T18:39:27.748Z"
   },
   {
    "duration": 19,
    "start_time": "2023-07-30T18:39:27.763Z"
   },
   {
    "duration": 25,
    "start_time": "2023-07-30T18:39:27.786Z"
   },
   {
    "duration": 7,
    "start_time": "2023-07-30T18:39:27.812Z"
   },
   {
    "duration": 31,
    "start_time": "2023-07-30T18:39:27.820Z"
   },
   {
    "duration": 4,
    "start_time": "2023-07-30T18:39:27.852Z"
   },
   {
    "duration": 19,
    "start_time": "2023-07-30T18:39:27.858Z"
   },
   {
    "duration": 42,
    "start_time": "2023-07-30T18:39:27.878Z"
   },
   {
    "duration": 1767,
    "start_time": "2023-07-30T19:13:06.098Z"
   },
   {
    "duration": 8,
    "start_time": "2023-07-30T19:13:07.869Z"
   },
   {
    "duration": 202,
    "start_time": "2023-07-30T19:13:07.879Z"
   },
   {
    "duration": 164,
    "start_time": "2023-07-30T19:13:08.087Z"
   },
   {
    "duration": 97,
    "start_time": "2023-07-30T19:13:08.253Z"
   },
   {
    "duration": 5,
    "start_time": "2023-07-30T19:13:08.352Z"
   },
   {
    "duration": 264,
    "start_time": "2023-07-30T19:13:08.358Z"
   },
   {
    "duration": 0,
    "start_time": "2023-07-30T19:13:08.634Z"
   },
   {
    "duration": 0,
    "start_time": "2023-07-30T19:13:08.641Z"
   },
   {
    "duration": 0,
    "start_time": "2023-07-30T19:13:08.645Z"
   },
   {
    "duration": 0,
    "start_time": "2023-07-30T19:13:08.648Z"
   },
   {
    "duration": 0,
    "start_time": "2023-07-30T19:13:08.649Z"
   },
   {
    "duration": 0,
    "start_time": "2023-07-30T19:13:08.650Z"
   },
   {
    "duration": 0,
    "start_time": "2023-07-30T19:13:08.651Z"
   },
   {
    "duration": 0,
    "start_time": "2023-07-30T19:13:08.652Z"
   },
   {
    "duration": 0,
    "start_time": "2023-07-30T19:13:08.654Z"
   },
   {
    "duration": 0,
    "start_time": "2023-07-30T19:13:08.655Z"
   },
   {
    "duration": 0,
    "start_time": "2023-07-30T19:13:08.656Z"
   },
   {
    "duration": 0,
    "start_time": "2023-07-30T19:13:08.657Z"
   },
   {
    "duration": 0,
    "start_time": "2023-07-30T19:13:08.658Z"
   },
   {
    "duration": 0,
    "start_time": "2023-07-30T19:13:08.659Z"
   },
   {
    "duration": 0,
    "start_time": "2023-07-30T19:13:08.660Z"
   },
   {
    "duration": 0,
    "start_time": "2023-07-30T19:13:08.661Z"
   },
   {
    "duration": 0,
    "start_time": "2023-07-30T19:13:08.662Z"
   },
   {
    "duration": 0,
    "start_time": "2023-07-30T19:13:08.665Z"
   },
   {
    "duration": 0,
    "start_time": "2023-07-30T19:13:08.666Z"
   },
   {
    "duration": 0,
    "start_time": "2023-07-30T19:13:08.668Z"
   },
   {
    "duration": 0,
    "start_time": "2023-07-30T19:13:08.669Z"
   },
   {
    "duration": 0,
    "start_time": "2023-07-30T19:13:08.682Z"
   },
   {
    "duration": 0,
    "start_time": "2023-07-30T19:13:08.683Z"
   },
   {
    "duration": 0,
    "start_time": "2023-07-30T19:13:08.684Z"
   },
   {
    "duration": 0,
    "start_time": "2023-07-30T19:13:08.685Z"
   },
   {
    "duration": 0,
    "start_time": "2023-07-30T19:13:08.695Z"
   },
   {
    "duration": 0,
    "start_time": "2023-07-30T19:13:08.695Z"
   },
   {
    "duration": 0,
    "start_time": "2023-07-30T19:13:08.697Z"
   },
   {
    "duration": 0,
    "start_time": "2023-07-30T19:13:08.697Z"
   },
   {
    "duration": 0,
    "start_time": "2023-07-30T19:13:08.698Z"
   },
   {
    "duration": 0,
    "start_time": "2023-07-30T19:13:08.699Z"
   },
   {
    "duration": 0,
    "start_time": "2023-07-30T19:13:08.699Z"
   },
   {
    "duration": 0,
    "start_time": "2023-07-30T19:13:08.700Z"
   },
   {
    "duration": 0,
    "start_time": "2023-07-30T19:13:08.701Z"
   },
   {
    "duration": 0,
    "start_time": "2023-07-30T19:13:08.712Z"
   },
   {
    "duration": 0,
    "start_time": "2023-07-30T19:13:08.721Z"
   },
   {
    "duration": 0,
    "start_time": "2023-07-30T19:13:08.723Z"
   },
   {
    "duration": 0,
    "start_time": "2023-07-30T19:13:08.724Z"
   },
   {
    "duration": 0,
    "start_time": "2023-07-30T19:13:08.725Z"
   },
   {
    "duration": 0,
    "start_time": "2023-07-30T19:13:08.731Z"
   },
   {
    "duration": 0,
    "start_time": "2023-07-30T19:13:08.735Z"
   },
   {
    "duration": 0,
    "start_time": "2023-07-30T19:13:08.737Z"
   },
   {
    "duration": 0,
    "start_time": "2023-07-30T19:13:08.743Z"
   },
   {
    "duration": 0,
    "start_time": "2023-07-30T19:13:08.745Z"
   },
   {
    "duration": 0,
    "start_time": "2023-07-30T19:13:08.747Z"
   },
   {
    "duration": 0,
    "start_time": "2023-07-30T19:13:08.757Z"
   },
   {
    "duration": 0,
    "start_time": "2023-07-30T19:13:08.758Z"
   },
   {
    "duration": 0,
    "start_time": "2023-07-30T19:13:08.759Z"
   },
   {
    "duration": 0,
    "start_time": "2023-07-30T19:13:08.761Z"
   },
   {
    "duration": 0,
    "start_time": "2023-07-30T19:13:08.762Z"
   },
   {
    "duration": 0,
    "start_time": "2023-07-30T19:13:08.763Z"
   },
   {
    "duration": 0,
    "start_time": "2023-07-30T19:13:08.765Z"
   },
   {
    "duration": 0,
    "start_time": "2023-07-30T19:13:08.766Z"
   },
   {
    "duration": 0,
    "start_time": "2023-07-30T19:13:08.769Z"
   },
   {
    "duration": 0,
    "start_time": "2023-07-30T19:13:08.771Z"
   },
   {
    "duration": 0,
    "start_time": "2023-07-30T19:13:08.774Z"
   },
   {
    "duration": 0,
    "start_time": "2023-07-30T19:13:08.776Z"
   },
   {
    "duration": 0,
    "start_time": "2023-07-30T19:13:08.781Z"
   },
   {
    "duration": 0,
    "start_time": "2023-07-30T19:13:08.782Z"
   },
   {
    "duration": 0,
    "start_time": "2023-07-30T19:13:08.784Z"
   },
   {
    "duration": 0,
    "start_time": "2023-07-30T19:13:08.789Z"
   },
   {
    "duration": 0,
    "start_time": "2023-07-30T19:13:08.791Z"
   },
   {
    "duration": 0,
    "start_time": "2023-07-30T19:13:08.792Z"
   },
   {
    "duration": 0,
    "start_time": "2023-07-30T19:13:08.796Z"
   },
   {
    "duration": 0,
    "start_time": "2023-07-30T19:13:08.798Z"
   },
   {
    "duration": 0,
    "start_time": "2023-07-30T19:13:08.801Z"
   },
   {
    "duration": 0,
    "start_time": "2023-07-30T19:13:08.805Z"
   },
   {
    "duration": 1596,
    "start_time": "2023-07-30T19:13:41.067Z"
   },
   {
    "duration": 3,
    "start_time": "2023-07-30T19:13:42.665Z"
   },
   {
    "duration": 119,
    "start_time": "2023-07-30T19:13:42.669Z"
   },
   {
    "duration": 71,
    "start_time": "2023-07-30T19:13:42.790Z"
   },
   {
    "duration": 44,
    "start_time": "2023-07-30T19:13:42.863Z"
   },
   {
    "duration": 33,
    "start_time": "2023-07-30T19:13:42.909Z"
   },
   {
    "duration": 8,
    "start_time": "2023-07-30T19:13:42.944Z"
   },
   {
    "duration": 7,
    "start_time": "2023-07-30T19:13:42.953Z"
   },
   {
    "duration": 7,
    "start_time": "2023-07-30T19:13:42.961Z"
   },
   {
    "duration": 71,
    "start_time": "2023-07-30T19:13:42.971Z"
   },
   {
    "duration": 7,
    "start_time": "2023-07-30T19:13:43.044Z"
   },
   {
    "duration": 7,
    "start_time": "2023-07-30T19:13:43.053Z"
   },
   {
    "duration": 8,
    "start_time": "2023-07-30T19:13:43.062Z"
   },
   {
    "duration": 62,
    "start_time": "2023-07-30T19:13:43.074Z"
   },
   {
    "duration": 40,
    "start_time": "2023-07-30T19:13:43.138Z"
   },
   {
    "duration": 20,
    "start_time": "2023-07-30T19:13:43.180Z"
   },
   {
    "duration": 41,
    "start_time": "2023-07-30T19:13:43.201Z"
   },
   {
    "duration": 10,
    "start_time": "2023-07-30T19:13:43.244Z"
   },
   {
    "duration": 17,
    "start_time": "2023-07-30T19:13:43.256Z"
   },
   {
    "duration": 3,
    "start_time": "2023-07-30T19:13:43.277Z"
   },
   {
    "duration": 54,
    "start_time": "2023-07-30T19:13:43.282Z"
   },
   {
    "duration": 5,
    "start_time": "2023-07-30T19:13:43.338Z"
   },
   {
    "duration": 5,
    "start_time": "2023-07-30T19:13:43.345Z"
   },
   {
    "duration": 5,
    "start_time": "2023-07-30T19:13:43.352Z"
   },
   {
    "duration": 6,
    "start_time": "2023-07-30T19:13:43.359Z"
   },
   {
    "duration": 37,
    "start_time": "2023-07-30T19:13:43.367Z"
   },
   {
    "duration": 145,
    "start_time": "2023-07-30T19:13:43.406Z"
   },
   {
    "duration": 0,
    "start_time": "2023-07-30T19:13:43.554Z"
   },
   {
    "duration": 0,
    "start_time": "2023-07-30T19:13:43.555Z"
   },
   {
    "duration": 0,
    "start_time": "2023-07-30T19:13:43.556Z"
   },
   {
    "duration": 0,
    "start_time": "2023-07-30T19:13:43.557Z"
   },
   {
    "duration": 0,
    "start_time": "2023-07-30T19:13:43.559Z"
   },
   {
    "duration": 0,
    "start_time": "2023-07-30T19:13:43.560Z"
   },
   {
    "duration": 0,
    "start_time": "2023-07-30T19:13:43.561Z"
   },
   {
    "duration": 0,
    "start_time": "2023-07-30T19:13:43.562Z"
   },
   {
    "duration": 0,
    "start_time": "2023-07-30T19:13:43.563Z"
   },
   {
    "duration": 0,
    "start_time": "2023-07-30T19:13:43.564Z"
   },
   {
    "duration": 0,
    "start_time": "2023-07-30T19:13:43.565Z"
   },
   {
    "duration": 0,
    "start_time": "2023-07-30T19:13:43.567Z"
   },
   {
    "duration": 0,
    "start_time": "2023-07-30T19:13:43.568Z"
   },
   {
    "duration": 0,
    "start_time": "2023-07-30T19:13:43.569Z"
   },
   {
    "duration": 0,
    "start_time": "2023-07-30T19:13:43.573Z"
   },
   {
    "duration": 0,
    "start_time": "2023-07-30T19:13:43.574Z"
   },
   {
    "duration": 0,
    "start_time": "2023-07-30T19:13:43.578Z"
   },
   {
    "duration": 0,
    "start_time": "2023-07-30T19:13:43.580Z"
   },
   {
    "duration": 0,
    "start_time": "2023-07-30T19:13:43.585Z"
   },
   {
    "duration": 0,
    "start_time": "2023-07-30T19:13:43.590Z"
   },
   {
    "duration": 0,
    "start_time": "2023-07-30T19:13:43.591Z"
   },
   {
    "duration": 0,
    "start_time": "2023-07-30T19:13:43.592Z"
   },
   {
    "duration": 0,
    "start_time": "2023-07-30T19:13:43.596Z"
   },
   {
    "duration": 0,
    "start_time": "2023-07-30T19:13:43.597Z"
   },
   {
    "duration": 0,
    "start_time": "2023-07-30T19:13:43.598Z"
   },
   {
    "duration": 0,
    "start_time": "2023-07-30T19:13:43.599Z"
   },
   {
    "duration": 0,
    "start_time": "2023-07-30T19:13:43.600Z"
   },
   {
    "duration": 0,
    "start_time": "2023-07-30T19:13:43.601Z"
   },
   {
    "duration": 0,
    "start_time": "2023-07-30T19:13:43.602Z"
   },
   {
    "duration": 0,
    "start_time": "2023-07-30T19:13:43.603Z"
   },
   {
    "duration": 0,
    "start_time": "2023-07-30T19:13:43.605Z"
   },
   {
    "duration": 0,
    "start_time": "2023-07-30T19:13:43.606Z"
   },
   {
    "duration": 0,
    "start_time": "2023-07-30T19:13:43.607Z"
   },
   {
    "duration": 0,
    "start_time": "2023-07-30T19:13:43.608Z"
   },
   {
    "duration": 0,
    "start_time": "2023-07-30T19:13:43.609Z"
   },
   {
    "duration": 0,
    "start_time": "2023-07-30T19:13:43.610Z"
   },
   {
    "duration": 0,
    "start_time": "2023-07-30T19:13:43.611Z"
   },
   {
    "duration": 0,
    "start_time": "2023-07-30T19:13:43.612Z"
   },
   {
    "duration": 0,
    "start_time": "2023-07-30T19:13:43.614Z"
   },
   {
    "duration": 0,
    "start_time": "2023-07-30T19:13:43.616Z"
   },
   {
    "duration": 0,
    "start_time": "2023-07-30T19:13:43.618Z"
   },
   {
    "duration": 0,
    "start_time": "2023-07-30T19:13:43.619Z"
   },
   {
    "duration": 0,
    "start_time": "2023-07-30T19:13:43.621Z"
   },
   {
    "duration": 0,
    "start_time": "2023-07-30T19:13:43.623Z"
   },
   {
    "duration": 0,
    "start_time": "2023-07-30T19:13:43.625Z"
   },
   {
    "duration": 0,
    "start_time": "2023-07-30T19:13:43.627Z"
   },
   {
    "duration": 0,
    "start_time": "2023-07-30T19:13:43.628Z"
   },
   {
    "duration": 1448,
    "start_time": "2023-07-30T19:14:33.955Z"
   },
   {
    "duration": 12,
    "start_time": "2023-07-30T19:14:35.412Z"
   },
   {
    "duration": 64,
    "start_time": "2023-07-30T19:14:35.430Z"
   },
   {
    "duration": 67,
    "start_time": "2023-07-30T19:14:35.497Z"
   },
   {
    "duration": 47,
    "start_time": "2023-07-30T19:14:35.566Z"
   },
   {
    "duration": 26,
    "start_time": "2023-07-30T19:14:35.615Z"
   },
   {
    "duration": 9,
    "start_time": "2023-07-30T19:14:35.643Z"
   },
   {
    "duration": 78,
    "start_time": "2023-07-30T19:14:35.654Z"
   },
   {
    "duration": 7,
    "start_time": "2023-07-30T19:14:35.734Z"
   },
   {
    "duration": 13,
    "start_time": "2023-07-30T19:14:35.744Z"
   },
   {
    "duration": 7,
    "start_time": "2023-07-30T19:14:35.759Z"
   },
   {
    "duration": 65,
    "start_time": "2023-07-30T19:14:35.768Z"
   },
   {
    "duration": 63,
    "start_time": "2023-07-30T19:14:35.836Z"
   },
   {
    "duration": 53,
    "start_time": "2023-07-30T19:14:35.902Z"
   },
   {
    "duration": 69,
    "start_time": "2023-07-30T19:14:35.957Z"
   },
   {
    "duration": 17,
    "start_time": "2023-07-30T19:14:36.028Z"
   },
   {
    "duration": 10,
    "start_time": "2023-07-30T19:14:36.047Z"
   },
   {
    "duration": 77,
    "start_time": "2023-07-30T19:14:36.059Z"
   },
   {
    "duration": 14,
    "start_time": "2023-07-30T19:14:36.139Z"
   },
   {
    "duration": 5,
    "start_time": "2023-07-30T19:14:36.156Z"
   },
   {
    "duration": 86,
    "start_time": "2023-07-30T19:14:36.164Z"
   },
   {
    "duration": 11,
    "start_time": "2023-07-30T19:14:36.252Z"
   },
   {
    "duration": 80,
    "start_time": "2023-07-30T19:14:36.266Z"
   },
   {
    "duration": 10,
    "start_time": "2023-07-30T19:14:36.349Z"
   },
   {
    "duration": 84,
    "start_time": "2023-07-30T19:14:36.361Z"
   },
   {
    "duration": 11,
    "start_time": "2023-07-30T19:14:36.447Z"
   },
   {
    "duration": 14,
    "start_time": "2023-07-30T19:14:36.460Z"
   },
   {
    "duration": 240,
    "start_time": "2023-07-30T19:14:36.482Z"
   },
   {
    "duration": 328,
    "start_time": "2023-07-30T19:14:36.724Z"
   },
   {
    "duration": 6,
    "start_time": "2023-07-30T19:14:37.053Z"
   },
   {
    "duration": 202,
    "start_time": "2023-07-30T19:14:37.060Z"
   },
   {
    "duration": 19,
    "start_time": "2023-07-30T19:14:37.264Z"
   },
   {
    "duration": 63,
    "start_time": "2023-07-30T19:14:37.286Z"
   },
   {
    "duration": 85,
    "start_time": "2023-07-30T19:14:37.350Z"
   },
   {
    "duration": 14,
    "start_time": "2023-07-30T19:14:37.437Z"
   },
   {
    "duration": 252,
    "start_time": "2023-07-30T19:14:37.453Z"
   },
   {
    "duration": 173,
    "start_time": "2023-07-30T19:14:37.707Z"
   },
   {
    "duration": 16,
    "start_time": "2023-07-30T19:14:37.882Z"
   },
   {
    "duration": 50,
    "start_time": "2023-07-30T19:14:37.900Z"
   },
   {
    "duration": 552,
    "start_time": "2023-07-30T19:14:37.951Z"
   },
   {
    "duration": 411,
    "start_time": "2023-07-30T19:14:38.506Z"
   },
   {
    "duration": 20,
    "start_time": "2023-07-30T19:14:38.919Z"
   },
   {
    "duration": 515,
    "start_time": "2023-07-30T19:14:38.944Z"
   },
   {
    "duration": 29,
    "start_time": "2023-07-30T19:14:39.461Z"
   },
   {
    "duration": 42,
    "start_time": "2023-07-30T19:14:39.494Z"
   },
   {
    "duration": 397,
    "start_time": "2023-07-30T19:14:39.538Z"
   },
   {
    "duration": 14,
    "start_time": "2023-07-30T19:14:39.937Z"
   },
   {
    "duration": 603,
    "start_time": "2023-07-30T19:14:39.954Z"
   },
   {
    "duration": 25,
    "start_time": "2023-07-30T19:14:40.559Z"
   },
   {
    "duration": 263,
    "start_time": "2023-07-30T19:14:40.586Z"
   },
   {
    "duration": 6,
    "start_time": "2023-07-30T19:14:40.851Z"
   },
   {
    "duration": 59,
    "start_time": "2023-07-30T19:14:40.858Z"
   },
   {
    "duration": 306,
    "start_time": "2023-07-30T19:14:40.919Z"
   },
   {
    "duration": 11,
    "start_time": "2023-07-30T19:14:41.227Z"
   },
   {
    "duration": 13,
    "start_time": "2023-07-30T19:14:41.239Z"
   },
   {
    "duration": 88,
    "start_time": "2023-07-30T19:14:41.254Z"
   },
   {
    "duration": 18,
    "start_time": "2023-07-30T19:14:41.344Z"
   },
   {
    "duration": 174,
    "start_time": "2023-07-30T19:14:41.364Z"
   },
   {
    "duration": 116,
    "start_time": "2023-07-30T19:14:41.540Z"
   },
   {
    "duration": 7,
    "start_time": "2023-07-30T19:14:41.658Z"
   },
   {
    "duration": 70,
    "start_time": "2023-07-30T19:14:41.667Z"
   },
   {
    "duration": 23,
    "start_time": "2023-07-30T19:14:41.739Z"
   },
   {
    "duration": 4,
    "start_time": "2023-07-30T19:14:41.764Z"
   },
   {
    "duration": 72,
    "start_time": "2023-07-30T19:14:41.770Z"
   },
   {
    "duration": 9,
    "start_time": "2023-07-30T19:14:41.843Z"
   },
   {
    "duration": 9,
    "start_time": "2023-07-30T19:14:41.855Z"
   },
   {
    "duration": 33,
    "start_time": "2023-07-30T19:14:41.866Z"
   },
   {
    "duration": 39,
    "start_time": "2023-07-30T19:14:41.901Z"
   },
   {
    "duration": 10,
    "start_time": "2023-07-30T19:14:41.942Z"
   },
   {
    "duration": 8,
    "start_time": "2023-07-30T19:14:41.953Z"
   },
   {
    "duration": 81,
    "start_time": "2023-07-30T19:14:41.963Z"
   },
   {
    "duration": 5,
    "start_time": "2023-07-30T19:14:42.046Z"
   },
   {
    "duration": 14,
    "start_time": "2023-07-30T19:14:42.052Z"
   },
   {
    "duration": 21,
    "start_time": "2023-07-30T19:14:42.068Z"
   },
   {
    "duration": 12,
    "start_time": "2023-07-30T19:26:21.915Z"
   },
   {
    "duration": 7,
    "start_time": "2023-07-30T19:26:32.355Z"
   },
   {
    "duration": 9,
    "start_time": "2023-07-30T19:27:13.759Z"
   },
   {
    "duration": 6,
    "start_time": "2023-07-30T19:28:18.132Z"
   },
   {
    "duration": 8,
    "start_time": "2023-07-30T19:28:48.229Z"
   },
   {
    "duration": 4,
    "start_time": "2023-07-30T19:29:51.158Z"
   },
   {
    "duration": 9,
    "start_time": "2023-07-30T19:30:44.658Z"
   },
   {
    "duration": 7,
    "start_time": "2023-07-30T19:36:55.343Z"
   },
   {
    "duration": 9,
    "start_time": "2023-07-30T19:40:46.434Z"
   },
   {
    "duration": 7,
    "start_time": "2023-07-30T19:43:21.576Z"
   },
   {
    "duration": 1504,
    "start_time": "2023-07-30T19:43:38.683Z"
   },
   {
    "duration": 5,
    "start_time": "2023-07-30T19:43:40.193Z"
   },
   {
    "duration": 112,
    "start_time": "2023-07-30T19:43:40.199Z"
   },
   {
    "duration": 125,
    "start_time": "2023-07-30T19:43:40.313Z"
   },
   {
    "duration": 83,
    "start_time": "2023-07-30T19:43:40.439Z"
   },
   {
    "duration": 6,
    "start_time": "2023-07-30T19:43:40.524Z"
   },
   {
    "duration": 16,
    "start_time": "2023-07-30T19:43:40.532Z"
   },
   {
    "duration": 9,
    "start_time": "2023-07-30T19:43:40.550Z"
   },
   {
    "duration": 9,
    "start_time": "2023-07-30T19:43:40.560Z"
   },
   {
    "duration": 34,
    "start_time": "2023-07-30T19:43:40.573Z"
   },
   {
    "duration": 12,
    "start_time": "2023-07-30T19:43:40.609Z"
   },
   {
    "duration": 23,
    "start_time": "2023-07-30T19:43:40.623Z"
   },
   {
    "duration": 6,
    "start_time": "2023-07-30T19:43:40.647Z"
   },
   {
    "duration": 9,
    "start_time": "2023-07-30T19:43:40.654Z"
   },
   {
    "duration": 27,
    "start_time": "2023-07-30T19:43:40.665Z"
   },
   {
    "duration": 5,
    "start_time": "2023-07-30T19:43:40.695Z"
   },
   {
    "duration": 11,
    "start_time": "2023-07-30T19:43:40.703Z"
   },
   {
    "duration": 11,
    "start_time": "2023-07-30T19:43:40.716Z"
   },
   {
    "duration": 16,
    "start_time": "2023-07-30T19:43:40.728Z"
   },
   {
    "duration": 30,
    "start_time": "2023-07-30T19:43:40.746Z"
   },
   {
    "duration": 6,
    "start_time": "2023-07-30T19:43:40.777Z"
   },
   {
    "duration": 13,
    "start_time": "2023-07-30T19:43:40.785Z"
   },
   {
    "duration": 20,
    "start_time": "2023-07-30T19:43:40.800Z"
   },
   {
    "duration": 159,
    "start_time": "2023-07-30T19:43:40.825Z"
   },
   {
    "duration": 0,
    "start_time": "2023-07-30T19:43:40.986Z"
   },
   {
    "duration": 0,
    "start_time": "2023-07-30T19:43:40.988Z"
   },
   {
    "duration": 0,
    "start_time": "2023-07-30T19:43:40.989Z"
   },
   {
    "duration": 0,
    "start_time": "2023-07-30T19:43:40.990Z"
   },
   {
    "duration": 0,
    "start_time": "2023-07-30T19:43:40.992Z"
   },
   {
    "duration": 0,
    "start_time": "2023-07-30T19:43:40.994Z"
   },
   {
    "duration": 0,
    "start_time": "2023-07-30T19:43:40.995Z"
   },
   {
    "duration": 0,
    "start_time": "2023-07-30T19:43:40.997Z"
   },
   {
    "duration": 0,
    "start_time": "2023-07-30T19:43:40.998Z"
   },
   {
    "duration": 0,
    "start_time": "2023-07-30T19:43:41.000Z"
   },
   {
    "duration": 0,
    "start_time": "2023-07-30T19:43:41.006Z"
   },
   {
    "duration": 0,
    "start_time": "2023-07-30T19:43:41.007Z"
   },
   {
    "duration": 0,
    "start_time": "2023-07-30T19:43:41.009Z"
   },
   {
    "duration": 0,
    "start_time": "2023-07-30T19:43:41.011Z"
   },
   {
    "duration": 0,
    "start_time": "2023-07-30T19:43:41.014Z"
   },
   {
    "duration": 0,
    "start_time": "2023-07-30T19:43:41.015Z"
   },
   {
    "duration": 0,
    "start_time": "2023-07-30T19:43:41.016Z"
   },
   {
    "duration": 0,
    "start_time": "2023-07-30T19:43:41.016Z"
   },
   {
    "duration": 0,
    "start_time": "2023-07-30T19:43:41.017Z"
   },
   {
    "duration": 0,
    "start_time": "2023-07-30T19:43:41.018Z"
   },
   {
    "duration": 61,
    "start_time": "2023-07-30T19:43:41.022Z"
   },
   {
    "duration": 0,
    "start_time": "2023-07-30T19:43:41.085Z"
   },
   {
    "duration": 0,
    "start_time": "2023-07-30T19:43:41.087Z"
   },
   {
    "duration": 12,
    "start_time": "2023-07-30T19:43:41.143Z"
   },
   {
    "duration": 15,
    "start_time": "2023-07-30T19:43:41.193Z"
   },
   {
    "duration": 16,
    "start_time": "2023-07-30T19:43:41.235Z"
   },
   {
    "duration": 201,
    "start_time": "2023-07-30T19:43:41.263Z"
   },
   {
    "duration": 7,
    "start_time": "2023-07-30T19:43:41.470Z"
   },
   {
    "duration": 7,
    "start_time": "2023-07-30T19:43:41.479Z"
   },
   {
    "duration": 202,
    "start_time": "2023-07-30T19:43:41.489Z"
   },
   {
    "duration": 5,
    "start_time": "2023-07-30T19:43:41.693Z"
   },
   {
    "duration": 14,
    "start_time": "2023-07-30T19:43:41.700Z"
   },
   {
    "duration": 19,
    "start_time": "2023-07-30T19:43:41.716Z"
   },
   {
    "duration": 27,
    "start_time": "2023-07-30T19:43:41.737Z"
   },
   {
    "duration": 83,
    "start_time": "2023-07-30T19:43:41.766Z"
   },
   {
    "duration": 122,
    "start_time": "2023-07-30T19:43:41.850Z"
   },
   {
    "duration": 13,
    "start_time": "2023-07-30T19:43:41.975Z"
   },
   {
    "duration": 11,
    "start_time": "2023-07-30T19:43:41.990Z"
   },
   {
    "duration": 44,
    "start_time": "2023-07-30T19:43:42.003Z"
   },
   {
    "duration": 26,
    "start_time": "2023-07-30T19:43:42.049Z"
   },
   {
    "duration": 22,
    "start_time": "2023-07-30T19:43:42.077Z"
   },
   {
    "duration": 16,
    "start_time": "2023-07-30T19:43:42.101Z"
   },
   {
    "duration": 20,
    "start_time": "2023-07-30T19:43:42.119Z"
   },
   {
    "duration": 9,
    "start_time": "2023-07-30T19:43:42.141Z"
   },
   {
    "duration": 14,
    "start_time": "2023-07-30T19:43:42.151Z"
   },
   {
    "duration": 14,
    "start_time": "2023-07-30T19:43:42.170Z"
   },
   {
    "duration": 10,
    "start_time": "2023-07-30T19:43:42.187Z"
   },
   {
    "duration": 30,
    "start_time": "2023-07-30T19:43:42.199Z"
   },
   {
    "duration": 4,
    "start_time": "2023-07-30T19:43:42.231Z"
   },
   {
    "duration": 17,
    "start_time": "2023-07-30T19:43:42.237Z"
   },
   {
    "duration": 22,
    "start_time": "2023-07-30T19:43:42.256Z"
   },
   {
    "duration": 1372,
    "start_time": "2023-07-30T19:44:31.332Z"
   },
   {
    "duration": 4,
    "start_time": "2023-07-30T19:44:32.706Z"
   },
   {
    "duration": 50,
    "start_time": "2023-07-30T19:44:32.711Z"
   },
   {
    "duration": 60,
    "start_time": "2023-07-30T19:44:32.763Z"
   },
   {
    "duration": 35,
    "start_time": "2023-07-30T19:44:32.826Z"
   },
   {
    "duration": 5,
    "start_time": "2023-07-30T19:44:32.863Z"
   },
   {
    "duration": 9,
    "start_time": "2023-07-30T19:44:32.870Z"
   },
   {
    "duration": 17,
    "start_time": "2023-07-30T19:44:32.880Z"
   },
   {
    "duration": 7,
    "start_time": "2023-07-30T19:44:32.899Z"
   },
   {
    "duration": 12,
    "start_time": "2023-07-30T19:44:32.908Z"
   },
   {
    "duration": 7,
    "start_time": "2023-07-30T19:44:32.922Z"
   },
   {
    "duration": 8,
    "start_time": "2023-07-30T19:44:32.931Z"
   },
   {
    "duration": 6,
    "start_time": "2023-07-30T19:44:32.940Z"
   },
   {
    "duration": 23,
    "start_time": "2023-07-30T19:44:32.949Z"
   },
   {
    "duration": 31,
    "start_time": "2023-07-30T19:44:32.974Z"
   },
   {
    "duration": 24,
    "start_time": "2023-07-30T19:44:33.007Z"
   },
   {
    "duration": 8,
    "start_time": "2023-07-30T19:44:33.033Z"
   },
   {
    "duration": 13,
    "start_time": "2023-07-30T19:44:33.042Z"
   },
   {
    "duration": 17,
    "start_time": "2023-07-30T19:44:33.056Z"
   },
   {
    "duration": 12,
    "start_time": "2023-07-30T19:44:33.075Z"
   },
   {
    "duration": 12,
    "start_time": "2023-07-30T19:44:33.089Z"
   },
   {
    "duration": 9,
    "start_time": "2023-07-30T19:44:33.103Z"
   },
   {
    "duration": 12,
    "start_time": "2023-07-30T19:44:33.114Z"
   },
   {
    "duration": 12,
    "start_time": "2023-07-30T19:44:33.127Z"
   },
   {
    "duration": 7,
    "start_time": "2023-07-30T19:44:33.141Z"
   },
   {
    "duration": 24,
    "start_time": "2023-07-30T19:44:33.150Z"
   },
   {
    "duration": 11,
    "start_time": "2023-07-30T19:44:33.177Z"
   },
   {
    "duration": 118,
    "start_time": "2023-07-30T19:44:33.190Z"
   },
   {
    "duration": 263,
    "start_time": "2023-07-30T19:44:33.310Z"
   },
   {
    "duration": 6,
    "start_time": "2023-07-30T19:44:33.575Z"
   },
   {
    "duration": 142,
    "start_time": "2023-07-30T19:44:33.583Z"
   },
   {
    "duration": 9,
    "start_time": "2023-07-30T19:44:33.727Z"
   },
   {
    "duration": 22,
    "start_time": "2023-07-30T19:44:33.738Z"
   },
   {
    "duration": 15,
    "start_time": "2023-07-30T19:44:33.770Z"
   },
   {
    "duration": 31,
    "start_time": "2023-07-30T19:44:33.787Z"
   },
   {
    "duration": 185,
    "start_time": "2023-07-30T19:44:33.819Z"
   },
   {
    "duration": 143,
    "start_time": "2023-07-30T19:44:34.006Z"
   },
   {
    "duration": 30,
    "start_time": "2023-07-30T19:44:34.151Z"
   },
   {
    "duration": 6,
    "start_time": "2023-07-30T19:44:34.183Z"
   },
   {
    "duration": 400,
    "start_time": "2023-07-30T19:44:34.191Z"
   },
   {
    "duration": 330,
    "start_time": "2023-07-30T19:44:34.596Z"
   },
   {
    "duration": 16,
    "start_time": "2023-07-30T19:44:34.928Z"
   },
   {
    "duration": 454,
    "start_time": "2023-07-30T19:44:34.946Z"
   },
   {
    "duration": 11,
    "start_time": "2023-07-30T19:44:35.402Z"
   },
   {
    "duration": 18,
    "start_time": "2023-07-30T19:44:35.415Z"
   },
   {
    "duration": 301,
    "start_time": "2023-07-30T19:44:35.435Z"
   },
   {
    "duration": 16,
    "start_time": "2023-07-30T19:44:35.738Z"
   },
   {
    "duration": 535,
    "start_time": "2023-07-30T19:44:35.756Z"
   },
   {
    "duration": 15,
    "start_time": "2023-07-30T19:44:36.293Z"
   },
   {
    "duration": 227,
    "start_time": "2023-07-30T19:44:36.310Z"
   },
   {
    "duration": 10,
    "start_time": "2023-07-30T19:44:36.539Z"
   },
   {
    "duration": 22,
    "start_time": "2023-07-30T19:44:36.552Z"
   },
   {
    "duration": 202,
    "start_time": "2023-07-30T19:44:36.575Z"
   },
   {
    "duration": 5,
    "start_time": "2023-07-30T19:44:36.778Z"
   },
   {
    "duration": 16,
    "start_time": "2023-07-30T19:44:36.785Z"
   },
   {
    "duration": 25,
    "start_time": "2023-07-30T19:44:36.803Z"
   },
   {
    "duration": 17,
    "start_time": "2023-07-30T19:44:36.830Z"
   },
   {
    "duration": 79,
    "start_time": "2023-07-30T19:44:36.848Z"
   },
   {
    "duration": 86,
    "start_time": "2023-07-30T19:44:36.929Z"
   },
   {
    "duration": 10,
    "start_time": "2023-07-30T19:44:37.017Z"
   },
   {
    "duration": 17,
    "start_time": "2023-07-30T19:44:37.028Z"
   },
   {
    "duration": 54,
    "start_time": "2023-07-30T19:44:37.047Z"
   },
   {
    "duration": 6,
    "start_time": "2023-07-30T19:44:37.103Z"
   },
   {
    "duration": 15,
    "start_time": "2023-07-30T19:44:37.111Z"
   },
   {
    "duration": 15,
    "start_time": "2023-07-30T19:44:37.128Z"
   },
   {
    "duration": 26,
    "start_time": "2023-07-30T19:44:37.145Z"
   },
   {
    "duration": 6,
    "start_time": "2023-07-30T19:44:37.173Z"
   },
   {
    "duration": 18,
    "start_time": "2023-07-30T19:44:37.180Z"
   },
   {
    "duration": 18,
    "start_time": "2023-07-30T19:44:37.200Z"
   },
   {
    "duration": 8,
    "start_time": "2023-07-30T19:44:37.220Z"
   },
   {
    "duration": 31,
    "start_time": "2023-07-30T19:44:37.230Z"
   },
   {
    "duration": 9,
    "start_time": "2023-07-30T19:44:37.263Z"
   },
   {
    "duration": 25,
    "start_time": "2023-07-30T19:44:37.274Z"
   },
   {
    "duration": 12,
    "start_time": "2023-07-30T19:44:37.301Z"
   },
   {
    "duration": 2429,
    "start_time": "2023-07-30T20:45:04.289Z"
   },
   {
    "duration": 4,
    "start_time": "2023-07-30T20:45:06.720Z"
   },
   {
    "duration": 59,
    "start_time": "2023-07-30T20:45:06.726Z"
   },
   {
    "duration": 55,
    "start_time": "2023-07-30T20:45:06.791Z"
   },
   {
    "duration": 31,
    "start_time": "2023-07-30T20:45:06.848Z"
   },
   {
    "duration": 6,
    "start_time": "2023-07-30T20:45:06.880Z"
   },
   {
    "duration": 22,
    "start_time": "2023-07-30T20:45:06.892Z"
   },
   {
    "duration": 10,
    "start_time": "2023-07-30T20:45:06.916Z"
   },
   {
    "duration": 12,
    "start_time": "2023-07-30T20:45:06.927Z"
   },
   {
    "duration": 9,
    "start_time": "2023-07-30T20:45:06.942Z"
   },
   {
    "duration": 6,
    "start_time": "2023-07-30T20:45:06.953Z"
   },
   {
    "duration": 17,
    "start_time": "2023-07-30T20:45:06.961Z"
   },
   {
    "duration": 13,
    "start_time": "2023-07-30T20:45:06.980Z"
   },
   {
    "duration": 7,
    "start_time": "2023-07-30T20:45:06.995Z"
   },
   {
    "duration": 42,
    "start_time": "2023-07-30T20:45:07.004Z"
   },
   {
    "duration": 8,
    "start_time": "2023-07-30T20:45:07.048Z"
   },
   {
    "duration": 6,
    "start_time": "2023-07-30T20:45:07.057Z"
   },
   {
    "duration": 9,
    "start_time": "2023-07-30T20:45:07.065Z"
   },
   {
    "duration": 44,
    "start_time": "2023-07-30T20:45:07.076Z"
   },
   {
    "duration": 11,
    "start_time": "2023-07-30T20:45:07.121Z"
   },
   {
    "duration": 15,
    "start_time": "2023-07-30T20:45:07.134Z"
   },
   {
    "duration": 13,
    "start_time": "2023-07-30T20:45:07.151Z"
   },
   {
    "duration": 21,
    "start_time": "2023-07-30T20:45:07.166Z"
   },
   {
    "duration": 99,
    "start_time": "2023-07-30T20:45:07.189Z"
   },
   {
    "duration": 239,
    "start_time": "2023-07-30T20:45:07.290Z"
   },
   {
    "duration": 5,
    "start_time": "2023-07-30T20:45:07.531Z"
   },
   {
    "duration": 248,
    "start_time": "2023-07-30T20:45:07.538Z"
   },
   {
    "duration": 8,
    "start_time": "2023-07-30T20:45:07.790Z"
   },
   {
    "duration": 18,
    "start_time": "2023-07-30T20:45:07.799Z"
   },
   {
    "duration": 27,
    "start_time": "2023-07-30T20:45:07.819Z"
   },
   {
    "duration": 26,
    "start_time": "2023-07-30T20:45:07.848Z"
   },
   {
    "duration": 224,
    "start_time": "2023-07-30T20:45:07.875Z"
   },
   {
    "duration": 144,
    "start_time": "2023-07-30T20:45:08.101Z"
   },
   {
    "duration": 35,
    "start_time": "2023-07-30T20:45:08.247Z"
   },
   {
    "duration": 27,
    "start_time": "2023-07-30T20:45:08.285Z"
   },
   {
    "duration": 399,
    "start_time": "2023-07-30T20:45:08.314Z"
   },
   {
    "duration": 334,
    "start_time": "2023-07-30T20:45:08.714Z"
   },
   {
    "duration": 11,
    "start_time": "2023-07-30T20:45:09.050Z"
   },
   {
    "duration": 428,
    "start_time": "2023-07-30T20:45:09.070Z"
   },
   {
    "duration": 12,
    "start_time": "2023-07-30T20:45:09.499Z"
   },
   {
    "duration": 5,
    "start_time": "2023-07-30T20:45:09.513Z"
   },
   {
    "duration": 304,
    "start_time": "2023-07-30T20:45:09.519Z"
   },
   {
    "duration": 20,
    "start_time": "2023-07-30T20:45:09.824Z"
   },
   {
    "duration": 514,
    "start_time": "2023-07-30T20:45:09.846Z"
   },
   {
    "duration": 24,
    "start_time": "2023-07-30T20:45:10.370Z"
   },
   {
    "duration": 193,
    "start_time": "2023-07-30T20:45:10.396Z"
   },
   {
    "duration": 5,
    "start_time": "2023-07-30T20:45:10.591Z"
   },
   {
    "duration": 8,
    "start_time": "2023-07-30T20:45:10.598Z"
   },
   {
    "duration": 194,
    "start_time": "2023-07-30T20:45:10.608Z"
   },
   {
    "duration": 6,
    "start_time": "2023-07-30T20:45:10.804Z"
   },
   {
    "duration": 19,
    "start_time": "2023-07-30T20:45:10.812Z"
   },
   {
    "duration": 14,
    "start_time": "2023-07-30T20:45:10.833Z"
   },
   {
    "duration": 27,
    "start_time": "2023-07-30T20:45:10.849Z"
   },
   {
    "duration": 82,
    "start_time": "2023-07-30T20:45:10.884Z"
   },
   {
    "duration": 102,
    "start_time": "2023-07-30T20:45:10.968Z"
   },
   {
    "duration": 17,
    "start_time": "2023-07-30T20:45:11.072Z"
   },
   {
    "duration": 13,
    "start_time": "2023-07-30T20:45:11.091Z"
   },
   {
    "duration": 27,
    "start_time": "2023-07-30T20:45:11.106Z"
   },
   {
    "duration": 4,
    "start_time": "2023-07-30T20:45:11.135Z"
   },
   {
    "duration": 9,
    "start_time": "2023-07-30T20:45:11.141Z"
   },
   {
    "duration": 41,
    "start_time": "2023-07-30T20:45:11.152Z"
   },
   {
    "duration": 9,
    "start_time": "2023-07-30T20:45:11.194Z"
   },
   {
    "duration": 10,
    "start_time": "2023-07-30T20:45:11.204Z"
   },
   {
    "duration": 11,
    "start_time": "2023-07-30T20:45:11.216Z"
   },
   {
    "duration": 10,
    "start_time": "2023-07-30T20:45:11.229Z"
   },
   {
    "duration": 7,
    "start_time": "2023-07-30T20:45:11.240Z"
   },
   {
    "duration": 38,
    "start_time": "2023-07-30T20:45:11.249Z"
   },
   {
    "duration": 6,
    "start_time": "2023-07-30T20:45:11.289Z"
   },
   {
    "duration": 14,
    "start_time": "2023-07-30T20:45:11.296Z"
   },
   {
    "duration": 8,
    "start_time": "2023-07-30T20:45:11.311Z"
   },
   {
    "duration": 1182,
    "start_time": "2023-07-30T20:46:52.617Z"
   },
   {
    "duration": 3,
    "start_time": "2023-07-30T20:46:53.801Z"
   },
   {
    "duration": 48,
    "start_time": "2023-07-30T20:46:53.806Z"
   },
   {
    "duration": 54,
    "start_time": "2023-07-30T20:46:53.857Z"
   },
   {
    "duration": 27,
    "start_time": "2023-07-30T20:46:53.912Z"
   },
   {
    "duration": 5,
    "start_time": "2023-07-30T20:46:53.940Z"
   },
   {
    "duration": 12,
    "start_time": "2023-07-30T20:46:53.947Z"
   },
   {
    "duration": 8,
    "start_time": "2023-07-30T20:46:53.961Z"
   },
   {
    "duration": 24,
    "start_time": "2023-07-30T20:46:53.972Z"
   },
   {
    "duration": 11,
    "start_time": "2023-07-30T20:46:53.999Z"
   },
   {
    "duration": 9,
    "start_time": "2023-07-30T20:46:54.011Z"
   },
   {
    "duration": 13,
    "start_time": "2023-07-30T20:46:54.021Z"
   },
   {
    "duration": 10,
    "start_time": "2023-07-30T20:46:54.035Z"
   },
   {
    "duration": 9,
    "start_time": "2023-07-30T20:46:54.047Z"
   },
   {
    "duration": 34,
    "start_time": "2023-07-30T20:46:54.057Z"
   },
   {
    "duration": 14,
    "start_time": "2023-07-30T20:46:54.092Z"
   },
   {
    "duration": 10,
    "start_time": "2023-07-30T20:46:54.108Z"
   },
   {
    "duration": 11,
    "start_time": "2023-07-30T20:46:54.120Z"
   },
   {
    "duration": 25,
    "start_time": "2023-07-30T20:46:54.132Z"
   },
   {
    "duration": 24,
    "start_time": "2023-07-30T20:46:54.159Z"
   },
   {
    "duration": 14,
    "start_time": "2023-07-30T20:46:54.185Z"
   },
   {
    "duration": 10,
    "start_time": "2023-07-30T20:46:54.201Z"
   },
   {
    "duration": 9,
    "start_time": "2023-07-30T20:46:54.213Z"
   },
   {
    "duration": 105,
    "start_time": "2023-07-30T20:46:54.224Z"
   },
   {
    "duration": 258,
    "start_time": "2023-07-30T20:46:54.331Z"
   },
   {
    "duration": 6,
    "start_time": "2023-07-30T20:46:54.591Z"
   },
   {
    "duration": 148,
    "start_time": "2023-07-30T20:46:54.598Z"
   },
   {
    "duration": 8,
    "start_time": "2023-07-30T20:46:54.750Z"
   },
   {
    "duration": 14,
    "start_time": "2023-07-30T20:46:54.774Z"
   },
   {
    "duration": 14,
    "start_time": "2023-07-30T20:46:54.790Z"
   },
   {
    "duration": 10,
    "start_time": "2023-07-30T20:46:54.805Z"
   },
   {
    "duration": 189,
    "start_time": "2023-07-30T20:46:54.816Z"
   },
   {
    "duration": 136,
    "start_time": "2023-07-30T20:46:55.007Z"
   },
   {
    "duration": 11,
    "start_time": "2023-07-30T20:46:55.145Z"
   },
   {
    "duration": 38,
    "start_time": "2023-07-30T20:46:55.157Z"
   },
   {
    "duration": 394,
    "start_time": "2023-07-30T20:46:55.196Z"
   },
   {
    "duration": 322,
    "start_time": "2023-07-30T20:46:55.592Z"
   },
   {
    "duration": 11,
    "start_time": "2023-07-30T20:46:55.916Z"
   },
   {
    "duration": 481,
    "start_time": "2023-07-30T20:46:55.929Z"
   },
   {
    "duration": 17,
    "start_time": "2023-07-30T20:46:56.412Z"
   },
   {
    "duration": 26,
    "start_time": "2023-07-30T20:46:56.431Z"
   },
   {
    "duration": 318,
    "start_time": "2023-07-30T20:46:56.460Z"
   },
   {
    "duration": 14,
    "start_time": "2023-07-30T20:46:56.782Z"
   },
   {
    "duration": 476,
    "start_time": "2023-07-30T20:46:56.798Z"
   },
   {
    "duration": 14,
    "start_time": "2023-07-30T20:46:57.284Z"
   },
   {
    "duration": 183,
    "start_time": "2023-07-30T20:46:57.300Z"
   },
   {
    "duration": 6,
    "start_time": "2023-07-30T20:46:57.484Z"
   },
   {
    "duration": 7,
    "start_time": "2023-07-30T20:46:57.492Z"
   },
   {
    "duration": 206,
    "start_time": "2023-07-30T20:46:57.501Z"
   },
   {
    "duration": 4,
    "start_time": "2023-07-30T20:46:57.709Z"
   },
   {
    "duration": 8,
    "start_time": "2023-07-30T20:46:57.714Z"
   },
   {
    "duration": 11,
    "start_time": "2023-07-30T20:46:57.724Z"
   },
   {
    "duration": 13,
    "start_time": "2023-07-30T20:46:57.736Z"
   },
   {
    "duration": 136,
    "start_time": "2023-07-30T20:46:57.751Z"
   },
   {
    "duration": 87,
    "start_time": "2023-07-30T20:46:57.889Z"
   },
   {
    "duration": 10,
    "start_time": "2023-07-30T20:46:57.978Z"
   },
   {
    "duration": 14,
    "start_time": "2023-07-30T20:46:57.990Z"
   },
   {
    "duration": 25,
    "start_time": "2023-07-30T20:46:58.006Z"
   },
   {
    "duration": 4,
    "start_time": "2023-07-30T20:46:58.033Z"
   },
   {
    "duration": 12,
    "start_time": "2023-07-30T20:46:58.039Z"
   },
   {
    "duration": 24,
    "start_time": "2023-07-30T20:46:58.053Z"
   },
   {
    "duration": 22,
    "start_time": "2023-07-30T20:46:58.078Z"
   },
   {
    "duration": 7,
    "start_time": "2023-07-30T20:46:58.101Z"
   },
   {
    "duration": 7,
    "start_time": "2023-07-30T20:46:58.109Z"
   },
   {
    "duration": 6,
    "start_time": "2023-07-30T20:46:58.118Z"
   },
   {
    "duration": 7,
    "start_time": "2023-07-30T20:46:58.125Z"
   },
   {
    "duration": 24,
    "start_time": "2023-07-30T20:46:58.134Z"
   },
   {
    "duration": 15,
    "start_time": "2023-07-30T20:46:58.159Z"
   },
   {
    "duration": 13,
    "start_time": "2023-07-30T20:46:58.176Z"
   },
   {
    "duration": 9,
    "start_time": "2023-07-30T20:46:58.190Z"
   },
   {
    "duration": 37,
    "start_time": "2023-07-30T20:53:44.932Z"
   },
   {
    "duration": 1336,
    "start_time": "2023-07-30T21:15:30.755Z"
   },
   {
    "duration": 4,
    "start_time": "2023-07-30T21:15:32.093Z"
   },
   {
    "duration": 80,
    "start_time": "2023-07-30T21:15:32.099Z"
   },
   {
    "duration": 51,
    "start_time": "2023-07-30T21:15:32.184Z"
   },
   {
    "duration": 27,
    "start_time": "2023-07-30T21:15:32.236Z"
   },
   {
    "duration": 12,
    "start_time": "2023-07-30T21:15:32.265Z"
   },
   {
    "duration": 66,
    "start_time": "2023-07-30T21:15:32.278Z"
   },
   {
    "duration": 23,
    "start_time": "2023-07-30T21:15:32.346Z"
   },
   {
    "duration": 28,
    "start_time": "2023-07-30T21:15:32.372Z"
   },
   {
    "duration": 25,
    "start_time": "2023-07-30T21:15:32.404Z"
   },
   {
    "duration": 12,
    "start_time": "2023-07-30T21:15:32.431Z"
   },
   {
    "duration": 9,
    "start_time": "2023-07-30T21:15:32.445Z"
   },
   {
    "duration": 12,
    "start_time": "2023-07-30T21:15:32.456Z"
   },
   {
    "duration": 25,
    "start_time": "2023-07-30T21:15:32.470Z"
   },
   {
    "duration": 35,
    "start_time": "2023-07-30T21:15:32.497Z"
   },
   {
    "duration": 70,
    "start_time": "2023-07-30T21:15:32.534Z"
   },
   {
    "duration": 46,
    "start_time": "2023-07-30T21:15:32.605Z"
   },
   {
    "duration": 12,
    "start_time": "2023-07-30T21:15:32.653Z"
   },
   {
    "duration": 35,
    "start_time": "2023-07-30T21:15:32.667Z"
   },
   {
    "duration": 20,
    "start_time": "2023-07-30T21:15:32.704Z"
   },
   {
    "duration": 11,
    "start_time": "2023-07-30T21:15:32.726Z"
   },
   {
    "duration": 19,
    "start_time": "2023-07-30T21:15:32.739Z"
   },
   {
    "duration": 36,
    "start_time": "2023-07-30T21:15:32.759Z"
   },
   {
    "duration": 102,
    "start_time": "2023-07-30T21:15:32.797Z"
   },
   {
    "duration": 237,
    "start_time": "2023-07-30T21:15:32.901Z"
   },
   {
    "duration": 5,
    "start_time": "2023-07-30T21:15:33.140Z"
   },
   {
    "duration": 146,
    "start_time": "2023-07-30T21:15:33.147Z"
   },
   {
    "duration": 7,
    "start_time": "2023-07-30T21:15:33.297Z"
   },
   {
    "duration": 19,
    "start_time": "2023-07-30T21:15:33.306Z"
   },
   {
    "duration": 20,
    "start_time": "2023-07-30T21:15:33.326Z"
   },
   {
    "duration": 30,
    "start_time": "2023-07-30T21:15:33.349Z"
   },
   {
    "duration": 183,
    "start_time": "2023-07-30T21:15:33.382Z"
   },
   {
    "duration": 135,
    "start_time": "2023-07-30T21:15:33.567Z"
   },
   {
    "duration": 11,
    "start_time": "2023-07-30T21:15:33.704Z"
   },
   {
    "duration": 13,
    "start_time": "2023-07-30T21:15:33.716Z"
   },
   {
    "duration": 408,
    "start_time": "2023-07-30T21:15:33.731Z"
   },
   {
    "duration": 325,
    "start_time": "2023-07-30T21:15:34.140Z"
   },
   {
    "duration": 16,
    "start_time": "2023-07-30T21:15:34.470Z"
   },
   {
    "duration": 405,
    "start_time": "2023-07-30T21:15:34.488Z"
   },
   {
    "duration": 10,
    "start_time": "2023-07-30T21:15:34.895Z"
   },
   {
    "duration": 10,
    "start_time": "2023-07-30T21:15:34.906Z"
   },
   {
    "duration": 294,
    "start_time": "2023-07-30T21:15:34.917Z"
   },
   {
    "duration": 13,
    "start_time": "2023-07-30T21:15:35.214Z"
   },
   {
    "duration": 439,
    "start_time": "2023-07-30T21:15:35.228Z"
   },
   {
    "duration": 21,
    "start_time": "2023-07-30T21:15:35.668Z"
   },
   {
    "duration": 195,
    "start_time": "2023-07-30T21:15:35.691Z"
   },
   {
    "duration": 5,
    "start_time": "2023-07-30T21:15:35.888Z"
   },
   {
    "duration": 10,
    "start_time": "2023-07-30T21:15:35.894Z"
   },
   {
    "duration": 190,
    "start_time": "2023-07-30T21:15:35.905Z"
   },
   {
    "duration": 4,
    "start_time": "2023-07-30T21:15:36.097Z"
   },
   {
    "duration": 14,
    "start_time": "2023-07-30T21:15:36.102Z"
   },
   {
    "duration": 11,
    "start_time": "2023-07-30T21:15:36.117Z"
   },
   {
    "duration": 12,
    "start_time": "2023-07-30T21:15:36.129Z"
   },
   {
    "duration": 96,
    "start_time": "2023-07-30T21:15:36.143Z"
   },
   {
    "duration": 107,
    "start_time": "2023-07-30T21:15:36.241Z"
   },
   {
    "duration": 28,
    "start_time": "2023-07-30T21:15:36.350Z"
   },
   {
    "duration": 19,
    "start_time": "2023-07-30T21:15:36.380Z"
   },
   {
    "duration": 41,
    "start_time": "2023-07-30T21:15:36.402Z"
   },
   {
    "duration": 19,
    "start_time": "2023-07-30T21:15:36.444Z"
   },
   {
    "duration": 33,
    "start_time": "2023-07-30T21:15:36.465Z"
   },
   {
    "duration": 16,
    "start_time": "2023-07-30T21:15:36.500Z"
   },
   {
    "duration": 19,
    "start_time": "2023-07-30T21:15:36.518Z"
   },
   {
    "duration": 16,
    "start_time": "2023-07-30T21:15:36.540Z"
   },
   {
    "duration": 15,
    "start_time": "2023-07-30T21:15:36.558Z"
   },
   {
    "duration": 21,
    "start_time": "2023-07-30T21:15:36.578Z"
   },
   {
    "duration": 9,
    "start_time": "2023-07-30T21:15:36.601Z"
   },
   {
    "duration": 81,
    "start_time": "2023-07-30T21:15:36.612Z"
   },
   {
    "duration": 4,
    "start_time": "2023-07-30T21:15:36.695Z"
   },
   {
    "duration": 12,
    "start_time": "2023-07-30T21:15:36.701Z"
   },
   {
    "duration": 9,
    "start_time": "2023-07-30T21:15:36.715Z"
   },
   {
    "duration": 2129,
    "start_time": "2023-07-31T07:54:17.490Z"
   },
   {
    "duration": 4,
    "start_time": "2023-07-31T07:54:19.621Z"
   },
   {
    "duration": 175,
    "start_time": "2023-07-31T07:54:19.626Z"
   },
   {
    "duration": 83,
    "start_time": "2023-07-31T07:54:19.804Z"
   },
   {
    "duration": 69,
    "start_time": "2023-07-31T07:54:19.889Z"
   },
   {
    "duration": 5,
    "start_time": "2023-07-31T07:54:19.960Z"
   },
   {
    "duration": 8,
    "start_time": "2023-07-31T07:54:19.968Z"
   },
   {
    "duration": 7,
    "start_time": "2023-07-31T07:54:19.978Z"
   },
   {
    "duration": 12,
    "start_time": "2023-07-31T07:54:19.987Z"
   },
   {
    "duration": 45,
    "start_time": "2023-07-31T07:54:20.002Z"
   },
   {
    "duration": 13,
    "start_time": "2023-07-31T07:54:20.049Z"
   },
   {
    "duration": 22,
    "start_time": "2023-07-31T07:54:20.064Z"
   },
   {
    "duration": 7,
    "start_time": "2023-07-31T07:54:20.088Z"
   },
   {
    "duration": 9,
    "start_time": "2023-07-31T07:54:20.097Z"
   },
   {
    "duration": 23,
    "start_time": "2023-07-31T07:54:20.107Z"
   },
   {
    "duration": 30,
    "start_time": "2023-07-31T07:54:20.132Z"
   },
   {
    "duration": 7,
    "start_time": "2023-07-31T07:54:20.164Z"
   },
   {
    "duration": 17,
    "start_time": "2023-07-31T07:54:20.172Z"
   },
   {
    "duration": 13,
    "start_time": "2023-07-31T07:54:20.191Z"
   },
   {
    "duration": 14,
    "start_time": "2023-07-31T07:54:20.206Z"
   },
   {
    "duration": 6,
    "start_time": "2023-07-31T07:54:20.221Z"
   },
   {
    "duration": 10,
    "start_time": "2023-07-31T07:54:20.259Z"
   },
   {
    "duration": 9,
    "start_time": "2023-07-31T07:54:20.271Z"
   },
   {
    "duration": 102,
    "start_time": "2023-07-31T07:54:20.282Z"
   },
   {
    "duration": 241,
    "start_time": "2023-07-31T07:54:20.387Z"
   },
   {
    "duration": 7,
    "start_time": "2023-07-31T07:54:20.629Z"
   },
   {
    "duration": 143,
    "start_time": "2023-07-31T07:54:20.637Z"
   },
   {
    "duration": 9,
    "start_time": "2023-07-31T07:54:20.784Z"
   },
   {
    "duration": 23,
    "start_time": "2023-07-31T07:54:20.795Z"
   },
   {
    "duration": 37,
    "start_time": "2023-07-31T07:54:20.820Z"
   },
   {
    "duration": 27,
    "start_time": "2023-07-31T07:54:20.859Z"
   },
   {
    "duration": 193,
    "start_time": "2023-07-31T07:54:20.888Z"
   },
   {
    "duration": 141,
    "start_time": "2023-07-31T07:54:21.083Z"
   },
   {
    "duration": 13,
    "start_time": "2023-07-31T07:54:21.225Z"
   },
   {
    "duration": 31,
    "start_time": "2023-07-31T07:54:21.240Z"
   },
   {
    "duration": 409,
    "start_time": "2023-07-31T07:54:21.273Z"
   },
   {
    "duration": 321,
    "start_time": "2023-07-31T07:54:21.684Z"
   },
   {
    "duration": 13,
    "start_time": "2023-07-31T07:54:22.006Z"
   },
   {
    "duration": 440,
    "start_time": "2023-07-31T07:54:22.021Z"
   },
   {
    "duration": 23,
    "start_time": "2023-07-31T07:54:22.464Z"
   },
   {
    "duration": 4,
    "start_time": "2023-07-31T07:54:22.493Z"
   },
   {
    "duration": 310,
    "start_time": "2023-07-31T07:54:22.499Z"
   },
   {
    "duration": 15,
    "start_time": "2023-07-31T07:54:22.811Z"
   },
   {
    "duration": 533,
    "start_time": "2023-07-31T07:54:22.828Z"
   },
   {
    "duration": 11,
    "start_time": "2023-07-31T07:54:23.363Z"
   },
   {
    "duration": 185,
    "start_time": "2023-07-31T07:54:23.376Z"
   },
   {
    "duration": 6,
    "start_time": "2023-07-31T07:54:23.562Z"
   },
   {
    "duration": 14,
    "start_time": "2023-07-31T07:54:23.570Z"
   },
   {
    "duration": 231,
    "start_time": "2023-07-31T07:54:23.585Z"
   },
   {
    "duration": 6,
    "start_time": "2023-07-31T07:54:23.819Z"
   },
   {
    "duration": 21,
    "start_time": "2023-07-31T07:54:23.828Z"
   },
   {
    "duration": 21,
    "start_time": "2023-07-31T07:54:23.851Z"
   },
   {
    "duration": 14,
    "start_time": "2023-07-31T07:54:23.874Z"
   },
   {
    "duration": 93,
    "start_time": "2023-07-31T07:54:23.890Z"
   },
   {
    "duration": 122,
    "start_time": "2023-07-31T07:54:23.985Z"
   },
   {
    "duration": 10,
    "start_time": "2023-07-31T07:54:24.109Z"
   },
   {
    "duration": 9,
    "start_time": "2023-07-31T07:54:24.121Z"
   },
   {
    "duration": 50,
    "start_time": "2023-07-31T07:54:24.133Z"
   },
   {
    "duration": 6,
    "start_time": "2023-07-31T07:54:24.184Z"
   },
   {
    "duration": 16,
    "start_time": "2023-07-31T07:54:24.192Z"
   },
   {
    "duration": 24,
    "start_time": "2023-07-31T07:54:24.209Z"
   },
   {
    "duration": 30,
    "start_time": "2023-07-31T07:54:24.235Z"
   },
   {
    "duration": 11,
    "start_time": "2023-07-31T07:54:24.268Z"
   },
   {
    "duration": 6,
    "start_time": "2023-07-31T07:54:24.281Z"
   },
   {
    "duration": 7,
    "start_time": "2023-07-31T07:54:24.289Z"
   },
   {
    "duration": 20,
    "start_time": "2023-07-31T07:54:24.297Z"
   },
   {
    "duration": 27,
    "start_time": "2023-07-31T07:54:24.319Z"
   },
   {
    "duration": 14,
    "start_time": "2023-07-31T07:54:24.348Z"
   },
   {
    "duration": 29,
    "start_time": "2023-07-31T07:54:24.363Z"
   },
   {
    "duration": 23,
    "start_time": "2023-07-31T07:54:24.394Z"
   },
   {
    "duration": 73,
    "start_time": "2023-08-06T08:50:31.979Z"
   },
   {
    "duration": 1059,
    "start_time": "2023-08-06T08:50:41.197Z"
   },
   {
    "duration": 3,
    "start_time": "2023-08-06T08:50:42.258Z"
   },
   {
    "duration": 99,
    "start_time": "2023-08-06T08:50:42.262Z"
   },
   {
    "duration": 106,
    "start_time": "2023-08-06T08:50:42.362Z"
   },
   {
    "duration": 62,
    "start_time": "2023-08-06T08:50:42.469Z"
   },
   {
    "duration": 4,
    "start_time": "2023-08-06T08:50:42.532Z"
   },
   {
    "duration": 16,
    "start_time": "2023-08-06T08:50:42.546Z"
   },
   {
    "duration": 9,
    "start_time": "2023-08-06T08:50:42.564Z"
   },
   {
    "duration": 8,
    "start_time": "2023-08-06T08:50:42.574Z"
   },
   {
    "duration": 12,
    "start_time": "2023-08-06T08:50:42.584Z"
   },
   {
    "duration": 12,
    "start_time": "2023-08-06T08:50:42.597Z"
   },
   {
    "duration": 21,
    "start_time": "2023-08-06T08:50:42.610Z"
   },
   {
    "duration": 15,
    "start_time": "2023-08-06T08:50:42.633Z"
   },
   {
    "duration": 8,
    "start_time": "2023-08-06T08:50:42.657Z"
   },
   {
    "duration": 16,
    "start_time": "2023-08-06T08:50:42.667Z"
   },
   {
    "duration": 14,
    "start_time": "2023-08-06T08:50:42.685Z"
   },
   {
    "duration": 6,
    "start_time": "2023-08-06T08:50:42.700Z"
   },
   {
    "duration": 9,
    "start_time": "2023-08-06T08:50:42.707Z"
   },
   {
    "duration": 22,
    "start_time": "2023-08-06T08:50:42.717Z"
   },
   {
    "duration": 21,
    "start_time": "2023-08-06T08:50:42.740Z"
   },
   {
    "duration": 8,
    "start_time": "2023-08-06T08:50:42.762Z"
   },
   {
    "duration": 8,
    "start_time": "2023-08-06T08:50:42.771Z"
   },
   {
    "duration": 7,
    "start_time": "2023-08-06T08:50:42.780Z"
   },
   {
    "duration": 85,
    "start_time": "2023-08-06T08:50:42.788Z"
   },
   {
    "duration": 5,
    "start_time": "2023-08-06T08:50:42.875Z"
   },
   {
    "duration": 225,
    "start_time": "2023-08-06T08:50:42.881Z"
   },
   {
    "duration": 5,
    "start_time": "2023-08-06T08:50:43.108Z"
   },
   {
    "duration": 146,
    "start_time": "2023-08-06T08:50:43.116Z"
   },
   {
    "duration": 8,
    "start_time": "2023-08-06T08:50:43.264Z"
   },
   {
    "duration": 46,
    "start_time": "2023-08-06T08:50:43.273Z"
   },
   {
    "duration": 23,
    "start_time": "2023-08-06T08:50:43.321Z"
   },
   {
    "duration": 21,
    "start_time": "2023-08-06T08:50:43.349Z"
   },
   {
    "duration": 162,
    "start_time": "2023-08-06T08:50:43.371Z"
   },
   {
    "duration": 120,
    "start_time": "2023-08-06T08:50:43.535Z"
   },
   {
    "duration": 10,
    "start_time": "2023-08-06T08:50:43.656Z"
   },
   {
    "duration": 6,
    "start_time": "2023-08-06T08:50:43.667Z"
   },
   {
    "duration": 355,
    "start_time": "2023-08-06T08:50:43.675Z"
   },
   {
    "duration": 290,
    "start_time": "2023-08-06T08:50:44.031Z"
   },
   {
    "duration": 10,
    "start_time": "2023-08-06T08:50:44.323Z"
   },
   {
    "duration": 420,
    "start_time": "2023-08-06T08:50:44.346Z"
   },
   {
    "duration": 13,
    "start_time": "2023-08-06T08:50:44.768Z"
   },
   {
    "duration": 15,
    "start_time": "2023-08-06T08:50:44.783Z"
   },
   {
    "duration": 266,
    "start_time": "2023-08-06T08:50:44.799Z"
   },
   {
    "duration": 12,
    "start_time": "2023-08-06T08:50:45.066Z"
   },
   {
    "duration": 411,
    "start_time": "2023-08-06T08:50:45.080Z"
   },
   {
    "duration": 13,
    "start_time": "2023-08-06T08:50:45.493Z"
   },
   {
    "duration": 172,
    "start_time": "2023-08-06T08:50:45.508Z"
   },
   {
    "duration": 5,
    "start_time": "2023-08-06T08:50:45.681Z"
   },
   {
    "duration": 13,
    "start_time": "2023-08-06T08:50:45.688Z"
   },
   {
    "duration": 168,
    "start_time": "2023-08-06T08:50:45.702Z"
   },
   {
    "duration": 4,
    "start_time": "2023-08-06T08:50:45.872Z"
   },
   {
    "duration": 7,
    "start_time": "2023-08-06T08:50:45.877Z"
   },
   {
    "duration": 12,
    "start_time": "2023-08-06T08:50:45.885Z"
   },
   {
    "duration": 12,
    "start_time": "2023-08-06T08:50:45.898Z"
   },
   {
    "duration": 90,
    "start_time": "2023-08-06T08:50:45.911Z"
   },
   {
    "duration": 94,
    "start_time": "2023-08-06T08:50:46.003Z"
   },
   {
    "duration": 9,
    "start_time": "2023-08-06T08:50:46.099Z"
   },
   {
    "duration": 39,
    "start_time": "2023-08-06T08:50:46.109Z"
   },
   {
    "duration": 56,
    "start_time": "2023-08-06T08:50:46.153Z"
   },
   {
    "duration": 5,
    "start_time": "2023-08-06T08:50:46.211Z"
   },
   {
    "duration": 31,
    "start_time": "2023-08-06T08:50:46.217Z"
   },
   {
    "duration": 26,
    "start_time": "2023-08-06T08:50:46.249Z"
   },
   {
    "duration": 9,
    "start_time": "2023-08-06T08:50:46.277Z"
   },
   {
    "duration": 11,
    "start_time": "2023-08-06T08:50:46.288Z"
   },
   {
    "duration": 11,
    "start_time": "2023-08-06T08:50:46.300Z"
   },
   {
    "duration": 21,
    "start_time": "2023-08-06T08:50:46.312Z"
   },
   {
    "duration": 28,
    "start_time": "2023-08-06T08:50:46.335Z"
   },
   {
    "duration": 30,
    "start_time": "2023-08-06T08:50:46.365Z"
   },
   {
    "duration": 4,
    "start_time": "2023-08-06T08:50:46.396Z"
   },
   {
    "duration": 23,
    "start_time": "2023-08-06T08:50:46.402Z"
   },
   {
    "duration": 37,
    "start_time": "2023-08-06T08:50:46.427Z"
   },
   {
    "duration": 1440,
    "start_time": "2023-08-07T15:11:05.480Z"
   },
   {
    "duration": 3,
    "start_time": "2023-08-07T15:11:06.922Z"
   },
   {
    "duration": 113,
    "start_time": "2023-08-07T15:11:06.927Z"
   },
   {
    "duration": 99,
    "start_time": "2023-08-07T15:11:07.042Z"
   },
   {
    "duration": 67,
    "start_time": "2023-08-07T15:11:07.144Z"
   },
   {
    "duration": 5,
    "start_time": "2023-08-07T15:11:07.213Z"
   },
   {
    "duration": 36,
    "start_time": "2023-08-07T15:11:07.220Z"
   },
   {
    "duration": 16,
    "start_time": "2023-08-07T15:11:07.257Z"
   },
   {
    "duration": 31,
    "start_time": "2023-08-07T15:11:07.274Z"
   },
   {
    "duration": 39,
    "start_time": "2023-08-07T15:11:07.306Z"
   },
   {
    "duration": 27,
    "start_time": "2023-08-07T15:11:07.347Z"
   },
   {
    "duration": 34,
    "start_time": "2023-08-07T15:11:07.376Z"
   },
   {
    "duration": 23,
    "start_time": "2023-08-07T15:11:07.411Z"
   },
   {
    "duration": 31,
    "start_time": "2023-08-07T15:11:07.437Z"
   },
   {
    "duration": 43,
    "start_time": "2023-08-07T15:11:07.470Z"
   },
   {
    "duration": 52,
    "start_time": "2023-08-07T15:11:07.515Z"
   },
   {
    "duration": 30,
    "start_time": "2023-08-07T15:11:07.568Z"
   },
   {
    "duration": 23,
    "start_time": "2023-08-07T15:11:07.600Z"
   },
   {
    "duration": 36,
    "start_time": "2023-08-07T15:11:07.625Z"
   },
   {
    "duration": 11,
    "start_time": "2023-08-07T15:11:07.663Z"
   },
   {
    "duration": 18,
    "start_time": "2023-08-07T15:11:07.676Z"
   },
   {
    "duration": 14,
    "start_time": "2023-08-07T15:11:07.695Z"
   },
   {
    "duration": 22,
    "start_time": "2023-08-07T15:11:07.710Z"
   },
   {
    "duration": 106,
    "start_time": "2023-08-07T15:11:07.733Z"
   },
   {
    "duration": 234,
    "start_time": "2023-08-07T15:11:07.840Z"
   },
   {
    "duration": 4,
    "start_time": "2023-08-07T15:11:08.076Z"
   },
   {
    "duration": 154,
    "start_time": "2023-08-07T15:11:08.082Z"
   },
   {
    "duration": 15,
    "start_time": "2023-08-07T15:11:08.238Z"
   },
   {
    "duration": 28,
    "start_time": "2023-08-07T15:11:08.255Z"
   },
   {
    "duration": 35,
    "start_time": "2023-08-07T15:11:08.285Z"
   },
   {
    "duration": 37,
    "start_time": "2023-08-07T15:11:08.322Z"
   },
   {
    "duration": 197,
    "start_time": "2023-08-07T15:11:08.360Z"
   },
   {
    "duration": 138,
    "start_time": "2023-08-07T15:11:08.559Z"
   },
   {
    "duration": 11,
    "start_time": "2023-08-07T15:11:08.698Z"
   },
   {
    "duration": 37,
    "start_time": "2023-08-07T15:11:08.710Z"
   },
   {
    "duration": 410,
    "start_time": "2023-08-07T15:11:08.748Z"
   },
   {
    "duration": 312,
    "start_time": "2023-08-07T15:11:09.159Z"
   },
   {
    "duration": 11,
    "start_time": "2023-08-07T15:11:09.473Z"
   },
   {
    "duration": 438,
    "start_time": "2023-08-07T15:11:09.487Z"
   },
   {
    "duration": 11,
    "start_time": "2023-08-07T15:11:09.927Z"
   },
   {
    "duration": 3,
    "start_time": "2023-08-07T15:11:09.957Z"
   },
   {
    "duration": 300,
    "start_time": "2023-08-07T15:11:09.962Z"
   },
   {
    "duration": 14,
    "start_time": "2023-08-07T15:11:10.263Z"
   },
   {
    "duration": 464,
    "start_time": "2023-08-07T15:11:10.279Z"
   },
   {
    "duration": 14,
    "start_time": "2023-08-07T15:11:10.745Z"
   },
   {
    "duration": 191,
    "start_time": "2023-08-07T15:11:10.760Z"
   },
   {
    "duration": 5,
    "start_time": "2023-08-07T15:11:10.954Z"
   },
   {
    "duration": 10,
    "start_time": "2023-08-07T15:11:10.960Z"
   },
   {
    "duration": 206,
    "start_time": "2023-08-07T15:11:10.972Z"
   },
   {
    "duration": 5,
    "start_time": "2023-08-07T15:11:11.180Z"
   },
   {
    "duration": 17,
    "start_time": "2023-08-07T15:11:11.186Z"
   },
   {
    "duration": 18,
    "start_time": "2023-08-07T15:11:11.205Z"
   },
   {
    "duration": 23,
    "start_time": "2023-08-07T15:11:11.226Z"
   },
   {
    "duration": 121,
    "start_time": "2023-08-07T15:11:11.254Z"
   },
   {
    "duration": 99,
    "start_time": "2023-08-07T15:11:11.378Z"
   },
   {
    "duration": 8,
    "start_time": "2023-08-07T15:11:11.479Z"
   },
   {
    "duration": 14,
    "start_time": "2023-08-07T15:11:11.488Z"
   },
   {
    "duration": 52,
    "start_time": "2023-08-07T15:11:11.504Z"
   },
   {
    "duration": 6,
    "start_time": "2023-08-07T15:11:11.558Z"
   },
   {
    "duration": 17,
    "start_time": "2023-08-07T15:11:11.565Z"
   },
   {
    "duration": 14,
    "start_time": "2023-08-07T15:11:11.583Z"
   },
   {
    "duration": 11,
    "start_time": "2023-08-07T15:11:11.598Z"
   },
   {
    "duration": 14,
    "start_time": "2023-08-07T15:11:11.611Z"
   },
   {
    "duration": 28,
    "start_time": "2023-08-07T15:11:11.627Z"
   },
   {
    "duration": 14,
    "start_time": "2023-08-07T15:11:11.657Z"
   },
   {
    "duration": 7,
    "start_time": "2023-08-07T15:11:11.673Z"
   },
   {
    "duration": 29,
    "start_time": "2023-08-07T15:11:11.682Z"
   },
   {
    "duration": 4,
    "start_time": "2023-08-07T15:11:11.713Z"
   },
   {
    "duration": 19,
    "start_time": "2023-08-07T15:11:11.719Z"
   },
   {
    "duration": 14,
    "start_time": "2023-08-07T15:11:11.754Z"
   },
   {
    "duration": 1766,
    "start_time": "2023-10-11T09:47:54.265Z"
   },
   {
    "duration": 3,
    "start_time": "2023-10-11T09:47:56.034Z"
   },
   {
    "duration": 115,
    "start_time": "2023-10-11T09:47:56.044Z"
   },
   {
    "duration": 112,
    "start_time": "2023-10-11T09:47:56.165Z"
   },
   {
    "duration": 70,
    "start_time": "2023-10-11T09:47:56.279Z"
   },
   {
    "duration": 11,
    "start_time": "2023-10-11T09:47:56.354Z"
   },
   {
    "duration": 28,
    "start_time": "2023-10-11T09:47:56.372Z"
   },
   {
    "duration": 36,
    "start_time": "2023-10-11T09:47:56.403Z"
   },
   {
    "duration": 28,
    "start_time": "2023-10-11T09:47:56.440Z"
   },
   {
    "duration": 8,
    "start_time": "2023-10-11T09:47:56.472Z"
   },
   {
    "duration": 7,
    "start_time": "2023-10-11T09:47:56.481Z"
   },
   {
    "duration": 16,
    "start_time": "2023-10-11T09:47:56.490Z"
   },
   {
    "duration": 7,
    "start_time": "2023-10-11T09:47:56.508Z"
   },
   {
    "duration": 22,
    "start_time": "2023-10-11T09:47:56.516Z"
   },
   {
    "duration": 39,
    "start_time": "2023-10-11T09:47:56.540Z"
   },
   {
    "duration": 32,
    "start_time": "2023-10-11T09:47:56.581Z"
   },
   {
    "duration": 33,
    "start_time": "2023-10-11T09:47:56.615Z"
   },
   {
    "duration": 33,
    "start_time": "2023-10-11T09:47:56.657Z"
   },
   {
    "duration": 32,
    "start_time": "2023-10-11T09:47:56.692Z"
   },
   {
    "duration": 45,
    "start_time": "2023-10-11T09:47:56.725Z"
   },
   {
    "duration": 41,
    "start_time": "2023-10-11T09:47:56.772Z"
   },
   {
    "duration": 46,
    "start_time": "2023-10-11T09:47:56.814Z"
   },
   {
    "duration": 20,
    "start_time": "2023-10-11T09:47:56.862Z"
   },
   {
    "duration": 101,
    "start_time": "2023-10-11T09:47:56.883Z"
   },
   {
    "duration": 249,
    "start_time": "2023-10-11T09:47:56.986Z"
   },
   {
    "duration": 4,
    "start_time": "2023-10-11T09:47:57.237Z"
   },
   {
    "duration": 151,
    "start_time": "2023-10-11T09:47:57.243Z"
   },
   {
    "duration": 8,
    "start_time": "2023-10-11T09:47:57.398Z"
   },
   {
    "duration": 21,
    "start_time": "2023-10-11T09:47:57.408Z"
   },
   {
    "duration": 24,
    "start_time": "2023-10-11T09:47:57.431Z"
   },
   {
    "duration": 21,
    "start_time": "2023-10-11T09:47:57.457Z"
   },
   {
    "duration": 206,
    "start_time": "2023-10-11T09:47:57.480Z"
   },
   {
    "duration": 148,
    "start_time": "2023-10-11T09:47:57.688Z"
   },
   {
    "duration": 22,
    "start_time": "2023-10-11T09:47:57.845Z"
   },
   {
    "duration": 18,
    "start_time": "2023-10-11T09:47:57.870Z"
   },
   {
    "duration": 428,
    "start_time": "2023-10-11T09:47:57.889Z"
   },
   {
    "duration": 346,
    "start_time": "2023-10-11T09:47:58.319Z"
   },
   {
    "duration": 14,
    "start_time": "2023-10-11T09:47:58.668Z"
   },
   {
    "duration": 503,
    "start_time": "2023-10-11T09:47:58.684Z"
   },
   {
    "duration": 11,
    "start_time": "2023-10-11T09:47:59.189Z"
   },
   {
    "duration": 15,
    "start_time": "2023-10-11T09:47:59.202Z"
   },
   {
    "duration": 297,
    "start_time": "2023-10-11T09:47:59.218Z"
   },
   {
    "duration": 14,
    "start_time": "2023-10-11T09:47:59.516Z"
   },
   {
    "duration": 518,
    "start_time": "2023-10-11T09:47:59.531Z"
   },
   {
    "duration": 22,
    "start_time": "2023-10-11T09:48:00.051Z"
   },
   {
    "duration": 212,
    "start_time": "2023-10-11T09:48:00.075Z"
   },
   {
    "duration": 4,
    "start_time": "2023-10-11T09:48:00.290Z"
   },
   {
    "duration": 30,
    "start_time": "2023-10-11T09:48:00.296Z"
   },
   {
    "duration": 246,
    "start_time": "2023-10-11T09:48:00.327Z"
   },
   {
    "duration": 5,
    "start_time": "2023-10-11T09:48:00.575Z"
   },
   {
    "duration": 43,
    "start_time": "2023-10-11T09:48:00.582Z"
   },
   {
    "duration": 49,
    "start_time": "2023-10-11T09:48:00.626Z"
   },
   {
    "duration": 75,
    "start_time": "2023-10-11T09:48:00.677Z"
   },
   {
    "duration": 159,
    "start_time": "2023-10-11T09:48:00.760Z"
   },
   {
    "duration": 107,
    "start_time": "2023-10-11T09:48:00.921Z"
   },
   {
    "duration": 33,
    "start_time": "2023-10-11T09:48:01.030Z"
   },
   {
    "duration": 31,
    "start_time": "2023-10-11T09:48:01.066Z"
   },
   {
    "duration": 80,
    "start_time": "2023-10-11T09:48:01.099Z"
   },
   {
    "duration": 22,
    "start_time": "2023-10-11T09:48:01.180Z"
   },
   {
    "duration": 66,
    "start_time": "2023-10-11T09:48:01.204Z"
   },
   {
    "duration": 50,
    "start_time": "2023-10-11T09:48:01.272Z"
   },
   {
    "duration": 69,
    "start_time": "2023-10-11T09:48:01.323Z"
   },
   {
    "duration": 126,
    "start_time": "2023-10-11T09:48:01.394Z"
   },
   {
    "duration": 164,
    "start_time": "2023-10-11T09:48:01.522Z"
   },
   {
    "duration": 76,
    "start_time": "2023-10-11T09:48:01.688Z"
   },
   {
    "duration": 116,
    "start_time": "2023-10-11T09:48:01.766Z"
   },
   {
    "duration": 92,
    "start_time": "2023-10-11T09:48:01.884Z"
   },
   {
    "duration": 38,
    "start_time": "2023-10-11T09:48:01.979Z"
   },
   {
    "duration": 80,
    "start_time": "2023-10-11T09:48:02.020Z"
   },
   {
    "duration": 182,
    "start_time": "2023-10-11T09:48:02.102Z"
   },
   {
    "duration": 52,
    "start_time": "2023-10-11T17:56:28.894Z"
   },
   {
    "duration": 1246,
    "start_time": "2023-10-11T17:56:33.859Z"
   },
   {
    "duration": 3,
    "start_time": "2023-10-11T17:56:35.107Z"
   },
   {
    "duration": 242,
    "start_time": "2023-10-11T17:56:35.112Z"
   },
   {
    "duration": 84,
    "start_time": "2023-10-11T17:56:35.355Z"
   },
   {
    "duration": 67,
    "start_time": "2023-10-11T17:56:35.441Z"
   },
   {
    "duration": 4,
    "start_time": "2023-10-11T17:56:35.509Z"
   },
   {
    "duration": 30,
    "start_time": "2023-10-11T17:56:35.515Z"
   },
   {
    "duration": 16,
    "start_time": "2023-10-11T17:56:35.546Z"
   },
   {
    "duration": 16,
    "start_time": "2023-10-11T17:56:35.563Z"
   },
   {
    "duration": 36,
    "start_time": "2023-10-11T17:56:35.581Z"
   },
   {
    "duration": 24,
    "start_time": "2023-10-11T17:56:35.618Z"
   },
   {
    "duration": 32,
    "start_time": "2023-10-11T17:56:35.643Z"
   },
   {
    "duration": 12,
    "start_time": "2023-10-11T17:56:35.676Z"
   },
   {
    "duration": 27,
    "start_time": "2023-10-11T17:56:35.690Z"
   },
   {
    "duration": 33,
    "start_time": "2023-10-11T17:56:35.718Z"
   },
   {
    "duration": 8,
    "start_time": "2023-10-11T17:56:35.753Z"
   },
   {
    "duration": 38,
    "start_time": "2023-10-11T17:56:35.763Z"
   },
   {
    "duration": 13,
    "start_time": "2023-10-11T17:56:35.803Z"
   },
   {
    "duration": 26,
    "start_time": "2023-10-11T17:56:35.818Z"
   },
   {
    "duration": 30,
    "start_time": "2023-10-11T17:56:35.846Z"
   },
   {
    "duration": 22,
    "start_time": "2023-10-11T17:56:35.878Z"
   },
   {
    "duration": 15,
    "start_time": "2023-10-11T17:56:35.902Z"
   },
   {
    "duration": 13,
    "start_time": "2023-10-11T17:56:35.919Z"
   },
   {
    "duration": 102,
    "start_time": "2023-10-11T17:56:35.933Z"
   },
   {
    "duration": 217,
    "start_time": "2023-10-11T17:56:36.037Z"
   },
   {
    "duration": 6,
    "start_time": "2023-10-11T17:56:36.256Z"
   },
   {
    "duration": 141,
    "start_time": "2023-10-11T17:56:36.264Z"
   },
   {
    "duration": 8,
    "start_time": "2023-10-11T17:56:36.407Z"
   },
   {
    "duration": 33,
    "start_time": "2023-10-11T17:56:36.417Z"
   },
   {
    "duration": 31,
    "start_time": "2023-10-11T17:56:36.452Z"
   },
   {
    "duration": 46,
    "start_time": "2023-10-11T17:56:36.485Z"
   },
   {
    "duration": 185,
    "start_time": "2023-10-11T17:56:36.533Z"
   },
   {
    "duration": 129,
    "start_time": "2023-10-11T17:56:36.719Z"
   },
   {
    "duration": 11,
    "start_time": "2023-10-11T17:56:36.850Z"
   },
   {
    "duration": 23,
    "start_time": "2023-10-11T17:56:36.862Z"
   },
   {
    "duration": 399,
    "start_time": "2023-10-11T17:56:36.887Z"
   },
   {
    "duration": 301,
    "start_time": "2023-10-11T17:56:37.288Z"
   },
   {
    "duration": 11,
    "start_time": "2023-10-11T17:56:37.591Z"
   },
   {
    "duration": 452,
    "start_time": "2023-10-11T17:56:37.603Z"
   },
   {
    "duration": 11,
    "start_time": "2023-10-11T17:56:38.056Z"
   },
   {
    "duration": 27,
    "start_time": "2023-10-11T17:56:38.070Z"
   },
   {
    "duration": 405,
    "start_time": "2023-10-11T17:56:38.098Z"
   },
   {
    "duration": 13,
    "start_time": "2023-10-11T17:56:38.505Z"
   },
   {
    "duration": 481,
    "start_time": "2023-10-11T17:56:38.519Z"
   },
   {
    "duration": 10,
    "start_time": "2023-10-11T17:56:39.002Z"
   },
   {
    "duration": 202,
    "start_time": "2023-10-11T17:56:39.014Z"
   },
   {
    "duration": 4,
    "start_time": "2023-10-11T17:56:39.218Z"
   },
   {
    "duration": 38,
    "start_time": "2023-10-11T17:56:39.223Z"
   },
   {
    "duration": 173,
    "start_time": "2023-10-11T17:56:39.263Z"
   },
   {
    "duration": 8,
    "start_time": "2023-10-11T17:56:39.438Z"
   },
   {
    "duration": 13,
    "start_time": "2023-10-11T17:56:39.447Z"
   },
   {
    "duration": 24,
    "start_time": "2023-10-11T17:56:39.462Z"
   },
   {
    "duration": 10,
    "start_time": "2023-10-11T17:56:39.487Z"
   },
   {
    "duration": 96,
    "start_time": "2023-10-11T17:56:39.499Z"
   },
   {
    "duration": 81,
    "start_time": "2023-10-11T17:56:39.597Z"
   },
   {
    "duration": 6,
    "start_time": "2023-10-11T17:56:39.679Z"
   },
   {
    "duration": 18,
    "start_time": "2023-10-11T17:56:39.687Z"
   },
   {
    "duration": 24,
    "start_time": "2023-10-11T17:56:39.706Z"
   },
   {
    "duration": 14,
    "start_time": "2023-10-11T17:56:39.732Z"
   },
   {
    "duration": 16,
    "start_time": "2023-10-11T17:56:39.747Z"
   },
   {
    "duration": 21,
    "start_time": "2023-10-11T17:56:39.765Z"
   },
   {
    "duration": 9,
    "start_time": "2023-10-11T17:56:39.788Z"
   },
   {
    "duration": 17,
    "start_time": "2023-10-11T17:56:39.799Z"
   },
   {
    "duration": 20,
    "start_time": "2023-10-11T17:56:39.818Z"
   },
   {
    "duration": 28,
    "start_time": "2023-10-11T17:56:39.839Z"
   },
   {
    "duration": 18,
    "start_time": "2023-10-11T17:56:39.869Z"
   },
   {
    "duration": 34,
    "start_time": "2023-10-11T17:56:39.889Z"
   },
   {
    "duration": 4,
    "start_time": "2023-10-11T17:56:39.925Z"
   },
   {
    "duration": 19,
    "start_time": "2023-10-11T17:56:39.931Z"
   },
   {
    "duration": 9,
    "start_time": "2023-10-11T17:56:39.952Z"
   },
   {
    "duration": 209,
    "start_time": "2023-10-11T17:57:21.970Z"
   },
   {
    "duration": 231,
    "start_time": "2023-10-11T17:57:34.943Z"
   },
   {
    "duration": 210,
    "start_time": "2023-10-11T17:57:57.604Z"
   },
   {
    "duration": 226,
    "start_time": "2023-10-11T17:59:10.433Z"
   },
   {
    "duration": 215,
    "start_time": "2023-10-11T17:59:47.313Z"
   },
   {
    "duration": 129,
    "start_time": "2023-10-11T18:03:19.861Z"
   },
   {
    "duration": 137,
    "start_time": "2023-10-11T18:05:39.841Z"
   },
   {
    "duration": 146,
    "start_time": "2023-10-11T18:13:27.041Z"
   },
   {
    "duration": 1210,
    "start_time": "2023-10-11T18:21:34.514Z"
   },
   {
    "duration": 4,
    "start_time": "2023-10-11T18:21:35.725Z"
   },
   {
    "duration": 55,
    "start_time": "2023-10-11T18:21:35.730Z"
   },
   {
    "duration": 50,
    "start_time": "2023-10-11T18:21:35.787Z"
   },
   {
    "duration": 27,
    "start_time": "2023-10-11T18:21:35.838Z"
   },
   {
    "duration": 27,
    "start_time": "2023-10-11T18:21:35.867Z"
   },
   {
    "duration": 8,
    "start_time": "2023-10-11T18:21:35.896Z"
   },
   {
    "duration": 10,
    "start_time": "2023-10-11T18:21:35.905Z"
   },
   {
    "duration": 7,
    "start_time": "2023-10-11T18:21:35.917Z"
   },
   {
    "duration": 11,
    "start_time": "2023-10-11T18:21:35.926Z"
   },
   {
    "duration": 15,
    "start_time": "2023-10-11T18:21:35.938Z"
   },
   {
    "duration": 7,
    "start_time": "2023-10-11T18:21:35.955Z"
   },
   {
    "duration": 8,
    "start_time": "2023-10-11T18:21:35.964Z"
   },
   {
    "duration": 6,
    "start_time": "2023-10-11T18:21:35.973Z"
   },
   {
    "duration": 22,
    "start_time": "2023-10-11T18:21:35.980Z"
   },
   {
    "duration": 15,
    "start_time": "2023-10-11T18:21:36.003Z"
   },
   {
    "duration": 6,
    "start_time": "2023-10-11T18:21:36.020Z"
   },
   {
    "duration": 18,
    "start_time": "2023-10-11T18:21:36.027Z"
   },
   {
    "duration": 11,
    "start_time": "2023-10-11T18:21:36.046Z"
   },
   {
    "duration": 10,
    "start_time": "2023-10-11T18:21:36.058Z"
   },
   {
    "duration": 14,
    "start_time": "2023-10-11T18:21:36.070Z"
   },
   {
    "duration": 32,
    "start_time": "2023-10-11T18:21:36.086Z"
   },
   {
    "duration": 24,
    "start_time": "2023-10-11T18:21:36.119Z"
   },
   {
    "duration": 85,
    "start_time": "2023-10-11T18:21:36.145Z"
   },
   {
    "duration": 267,
    "start_time": "2023-10-11T18:21:36.232Z"
   },
   {
    "duration": 6,
    "start_time": "2023-10-11T18:21:36.501Z"
   },
   {
    "duration": 153,
    "start_time": "2023-10-11T18:21:36.508Z"
   },
   {
    "duration": 8,
    "start_time": "2023-10-11T18:21:36.665Z"
   },
   {
    "duration": 11,
    "start_time": "2023-10-11T18:21:36.675Z"
   },
   {
    "duration": 27,
    "start_time": "2023-10-11T18:21:36.688Z"
   },
   {
    "duration": 14,
    "start_time": "2023-10-11T18:21:36.716Z"
   },
   {
    "duration": 186,
    "start_time": "2023-10-11T18:21:36.732Z"
   },
   {
    "duration": 127,
    "start_time": "2023-10-11T18:21:36.920Z"
   },
   {
    "duration": 12,
    "start_time": "2023-10-11T18:21:37.049Z"
   },
   {
    "duration": 12,
    "start_time": "2023-10-11T18:21:37.063Z"
   },
   {
    "duration": 386,
    "start_time": "2023-10-11T18:21:37.076Z"
   },
   {
    "duration": 295,
    "start_time": "2023-10-11T18:21:37.463Z"
   },
   {
    "duration": 10,
    "start_time": "2023-10-11T18:21:37.760Z"
   },
   {
    "duration": 397,
    "start_time": "2023-10-11T18:21:37.771Z"
   },
   {
    "duration": 10,
    "start_time": "2023-10-11T18:21:38.170Z"
   },
   {
    "duration": 7,
    "start_time": "2023-10-11T18:21:38.181Z"
   },
   {
    "duration": 256,
    "start_time": "2023-10-11T18:21:38.190Z"
   },
   {
    "duration": 12,
    "start_time": "2023-10-11T18:21:38.448Z"
   },
   {
    "duration": 447,
    "start_time": "2023-10-11T18:21:38.462Z"
   },
   {
    "duration": 11,
    "start_time": "2023-10-11T18:21:38.911Z"
   },
   {
    "duration": 319,
    "start_time": "2023-10-11T18:21:38.923Z"
   },
   {
    "duration": 4,
    "start_time": "2023-10-11T18:21:39.244Z"
   },
   {
    "duration": 268,
    "start_time": "2023-10-11T18:21:39.250Z"
   },
   {
    "duration": 176,
    "start_time": "2023-10-11T18:21:39.520Z"
   },
   {
    "duration": 5,
    "start_time": "2023-10-11T18:21:39.697Z"
   },
   {
    "duration": 10,
    "start_time": "2023-10-11T18:21:39.703Z"
   },
   {
    "duration": 9,
    "start_time": "2023-10-11T18:21:39.715Z"
   },
   {
    "duration": 25,
    "start_time": "2023-10-11T18:21:39.726Z"
   },
   {
    "duration": 78,
    "start_time": "2023-10-11T18:21:39.752Z"
   },
   {
    "duration": 80,
    "start_time": "2023-10-11T18:21:39.832Z"
   },
   {
    "duration": 9,
    "start_time": "2023-10-11T18:21:39.913Z"
   },
   {
    "duration": 26,
    "start_time": "2023-10-11T18:21:39.924Z"
   },
   {
    "duration": 28,
    "start_time": "2023-10-11T18:21:39.952Z"
   },
   {
    "duration": 6,
    "start_time": "2023-10-11T18:21:39.982Z"
   },
   {
    "duration": 10,
    "start_time": "2023-10-11T18:21:39.990Z"
   },
   {
    "duration": 46,
    "start_time": "2023-10-11T18:21:40.002Z"
   },
   {
    "duration": 8,
    "start_time": "2023-10-11T18:21:40.050Z"
   },
   {
    "duration": 18,
    "start_time": "2023-10-11T18:21:40.060Z"
   },
   {
    "duration": 14,
    "start_time": "2023-10-11T18:21:40.080Z"
   },
   {
    "duration": 12,
    "start_time": "2023-10-11T18:21:40.096Z"
   },
   {
    "duration": 7,
    "start_time": "2023-10-11T18:21:40.110Z"
   },
   {
    "duration": 28,
    "start_time": "2023-10-11T18:21:40.118Z"
   },
   {
    "duration": 4,
    "start_time": "2023-10-11T18:21:40.148Z"
   },
   {
    "duration": 17,
    "start_time": "2023-10-11T18:21:40.154Z"
   },
   {
    "duration": 9,
    "start_time": "2023-10-11T18:21:40.172Z"
   },
   {
    "duration": 1217,
    "start_time": "2023-11-09T07:53:59.554Z"
   },
   {
    "duration": 5,
    "start_time": "2023-11-09T07:54:00.774Z"
   },
   {
    "duration": 176,
    "start_time": "2023-11-09T07:54:00.780Z"
   },
   {
    "duration": 83,
    "start_time": "2023-11-09T07:54:00.958Z"
   },
   {
    "duration": 130,
    "start_time": "2023-11-09T07:54:01.043Z"
   },
   {
    "duration": 7,
    "start_time": "2023-11-09T07:54:01.175Z"
   },
   {
    "duration": 97,
    "start_time": "2023-11-09T07:54:01.184Z"
   },
   {
    "duration": 205,
    "start_time": "2023-11-09T07:54:01.284Z"
   },
   {
    "duration": 95,
    "start_time": "2023-11-09T07:54:01.490Z"
   },
   {
    "duration": 113,
    "start_time": "2023-11-09T07:54:01.587Z"
   },
   {
    "duration": 50,
    "start_time": "2023-11-09T07:54:01.702Z"
   },
   {
    "duration": 53,
    "start_time": "2023-11-09T07:54:01.754Z"
   },
   {
    "duration": 49,
    "start_time": "2023-11-09T07:54:01.808Z"
   },
   {
    "duration": 102,
    "start_time": "2023-11-09T07:54:01.858Z"
   },
   {
    "duration": 47,
    "start_time": "2023-11-09T07:54:01.962Z"
   },
   {
    "duration": 38,
    "start_time": "2023-11-09T07:54:02.011Z"
   },
   {
    "duration": 58,
    "start_time": "2023-11-09T07:54:02.050Z"
   },
   {
    "duration": 74,
    "start_time": "2023-11-09T07:54:02.109Z"
   },
   {
    "duration": 33,
    "start_time": "2023-11-09T07:54:02.185Z"
   },
   {
    "duration": 30,
    "start_time": "2023-11-09T07:54:02.219Z"
   },
   {
    "duration": 32,
    "start_time": "2023-11-09T07:54:02.251Z"
   },
   {
    "duration": 34,
    "start_time": "2023-11-09T07:54:02.285Z"
   },
   {
    "duration": 40,
    "start_time": "2023-11-09T07:54:02.321Z"
   },
   {
    "duration": 193,
    "start_time": "2023-11-09T07:54:02.362Z"
   },
   {
    "duration": 229,
    "start_time": "2023-11-09T07:54:02.556Z"
   },
   {
    "duration": 5,
    "start_time": "2023-11-09T07:54:02.787Z"
   },
   {
    "duration": 166,
    "start_time": "2023-11-09T07:54:02.794Z"
   },
   {
    "duration": 9,
    "start_time": "2023-11-09T07:54:02.980Z"
   },
   {
    "duration": 29,
    "start_time": "2023-11-09T07:54:02.992Z"
   },
   {
    "duration": 35,
    "start_time": "2023-11-09T07:54:03.023Z"
   },
   {
    "duration": 43,
    "start_time": "2023-11-09T07:54:03.060Z"
   },
   {
    "duration": 187,
    "start_time": "2023-11-09T07:54:03.105Z"
   },
   {
    "duration": 129,
    "start_time": "2023-11-09T07:54:03.294Z"
   },
   {
    "duration": 11,
    "start_time": "2023-11-09T07:54:03.424Z"
   },
   {
    "duration": 29,
    "start_time": "2023-11-09T07:54:03.444Z"
   },
   {
    "duration": 380,
    "start_time": "2023-11-09T07:54:03.475Z"
   },
   {
    "duration": 329,
    "start_time": "2023-11-09T07:54:03.857Z"
   },
   {
    "duration": 16,
    "start_time": "2023-11-09T07:54:04.190Z"
   },
   {
    "duration": 438,
    "start_time": "2023-11-09T07:54:04.208Z"
   },
   {
    "duration": 9,
    "start_time": "2023-11-09T07:54:04.648Z"
   },
   {
    "duration": 56,
    "start_time": "2023-11-09T07:54:04.658Z"
   },
   {
    "duration": 290,
    "start_time": "2023-11-09T07:54:04.715Z"
   },
   {
    "duration": 15,
    "start_time": "2023-11-09T07:54:05.007Z"
   },
   {
    "duration": 486,
    "start_time": "2023-11-09T07:54:05.024Z"
   },
   {
    "duration": 11,
    "start_time": "2023-11-09T07:54:05.511Z"
   },
   {
    "duration": 163,
    "start_time": "2023-11-09T07:54:05.524Z"
   },
   {
    "duration": 5,
    "start_time": "2023-11-09T07:54:05.689Z"
   },
   {
    "duration": 18,
    "start_time": "2023-11-09T07:54:05.695Z"
   },
   {
    "duration": 177,
    "start_time": "2023-11-09T07:54:05.715Z"
   },
   {
    "duration": 6,
    "start_time": "2023-11-09T07:54:05.893Z"
   },
   {
    "duration": 32,
    "start_time": "2023-11-09T07:54:05.900Z"
   },
   {
    "duration": 38,
    "start_time": "2023-11-09T07:54:05.933Z"
   },
   {
    "duration": 74,
    "start_time": "2023-11-09T07:54:05.973Z"
   },
   {
    "duration": 144,
    "start_time": "2023-11-09T07:54:06.048Z"
   },
   {
    "duration": 81,
    "start_time": "2023-11-09T07:54:06.194Z"
   },
   {
    "duration": 6,
    "start_time": "2023-11-09T07:54:06.277Z"
   },
   {
    "duration": 33,
    "start_time": "2023-11-09T07:54:06.284Z"
   },
   {
    "duration": 48,
    "start_time": "2023-11-09T07:54:06.319Z"
   },
   {
    "duration": 12,
    "start_time": "2023-11-09T07:54:06.369Z"
   },
   {
    "duration": 18,
    "start_time": "2023-11-09T07:54:06.382Z"
   },
   {
    "duration": 29,
    "start_time": "2023-11-09T07:54:06.401Z"
   },
   {
    "duration": 34,
    "start_time": "2023-11-09T07:54:06.432Z"
   },
   {
    "duration": 13,
    "start_time": "2023-11-09T07:54:06.467Z"
   },
   {
    "duration": 21,
    "start_time": "2023-11-09T07:54:06.481Z"
   },
   {
    "duration": 23,
    "start_time": "2023-11-09T07:54:06.503Z"
   },
   {
    "duration": 22,
    "start_time": "2023-11-09T07:54:06.528Z"
   },
   {
    "duration": 162,
    "start_time": "2023-11-09T07:54:06.552Z"
   },
   {
    "duration": 5,
    "start_time": "2023-11-09T07:54:06.716Z"
   },
   {
    "duration": 38,
    "start_time": "2023-11-09T07:54:06.722Z"
   },
   {
    "duration": 40,
    "start_time": "2023-11-09T07:54:06.761Z"
   },
   {
    "duration": 1125,
    "start_time": "2023-11-09T08:03:25.359Z"
   },
   {
    "duration": 4,
    "start_time": "2023-11-09T08:03:26.486Z"
   },
   {
    "duration": 60,
    "start_time": "2023-11-09T08:03:26.491Z"
   },
   {
    "duration": 49,
    "start_time": "2023-11-09T08:03:26.553Z"
   },
   {
    "duration": 28,
    "start_time": "2023-11-09T08:03:26.604Z"
   },
   {
    "duration": 5,
    "start_time": "2023-11-09T08:03:26.633Z"
   },
   {
    "duration": 7,
    "start_time": "2023-11-09T08:03:26.640Z"
   },
   {
    "duration": 29,
    "start_time": "2023-11-09T08:03:26.649Z"
   },
   {
    "duration": 14,
    "start_time": "2023-11-09T08:03:26.680Z"
   },
   {
    "duration": 19,
    "start_time": "2023-11-09T08:03:26.697Z"
   },
   {
    "duration": 25,
    "start_time": "2023-11-09T08:03:26.718Z"
   },
   {
    "duration": 9,
    "start_time": "2023-11-09T08:03:26.745Z"
   },
   {
    "duration": 9,
    "start_time": "2023-11-09T08:03:26.755Z"
   },
   {
    "duration": 11,
    "start_time": "2023-11-09T08:03:26.765Z"
   },
   {
    "duration": 31,
    "start_time": "2023-11-09T08:03:26.777Z"
   },
   {
    "duration": 5,
    "start_time": "2023-11-09T08:03:26.810Z"
   },
   {
    "duration": 27,
    "start_time": "2023-11-09T08:03:26.816Z"
   },
   {
    "duration": 17,
    "start_time": "2023-11-09T08:03:26.844Z"
   },
   {
    "duration": 22,
    "start_time": "2023-11-09T08:03:26.862Z"
   },
   {
    "duration": 12,
    "start_time": "2023-11-09T08:03:26.886Z"
   },
   {
    "duration": 13,
    "start_time": "2023-11-09T08:03:26.899Z"
   },
   {
    "duration": 11,
    "start_time": "2023-11-09T08:03:26.914Z"
   },
   {
    "duration": 12,
    "start_time": "2023-11-09T08:03:26.927Z"
   },
   {
    "duration": 84,
    "start_time": "2023-11-09T08:03:26.942Z"
   },
   {
    "duration": 258,
    "start_time": "2023-11-09T08:03:27.028Z"
   },
   {
    "duration": 6,
    "start_time": "2023-11-09T08:03:27.288Z"
   },
   {
    "duration": 136,
    "start_time": "2023-11-09T08:03:27.296Z"
   },
   {
    "duration": 8,
    "start_time": "2023-11-09T08:03:27.443Z"
   },
   {
    "duration": 28,
    "start_time": "2023-11-09T08:03:27.453Z"
   },
   {
    "duration": 34,
    "start_time": "2023-11-09T08:03:27.482Z"
   },
   {
    "duration": 15,
    "start_time": "2023-11-09T08:03:27.517Z"
   },
   {
    "duration": 160,
    "start_time": "2023-11-09T08:03:27.534Z"
   },
   {
    "duration": 126,
    "start_time": "2023-11-09T08:03:27.695Z"
   },
   {
    "duration": 23,
    "start_time": "2023-11-09T08:03:27.823Z"
   },
   {
    "duration": 5,
    "start_time": "2023-11-09T08:03:27.847Z"
   },
   {
    "duration": 365,
    "start_time": "2023-11-09T08:03:27.854Z"
   },
   {
    "duration": 285,
    "start_time": "2023-11-09T08:03:28.221Z"
   },
   {
    "duration": 11,
    "start_time": "2023-11-09T08:03:28.508Z"
   },
   {
    "duration": 407,
    "start_time": "2023-11-09T08:03:28.521Z"
   },
   {
    "duration": 22,
    "start_time": "2023-11-09T08:03:28.930Z"
   },
   {
    "duration": 3,
    "start_time": "2023-11-09T08:03:28.954Z"
   },
   {
    "duration": 311,
    "start_time": "2023-11-09T08:03:28.959Z"
   },
   {
    "duration": 14,
    "start_time": "2023-11-09T08:03:29.272Z"
   },
   {
    "duration": 446,
    "start_time": "2023-11-09T08:03:29.287Z"
   },
   {
    "duration": 19,
    "start_time": "2023-11-09T08:03:29.735Z"
   },
   {
    "duration": 215,
    "start_time": "2023-11-09T08:03:29.756Z"
   },
   {
    "duration": 4,
    "start_time": "2023-11-09T08:03:29.973Z"
   },
   {
    "duration": 6,
    "start_time": "2023-11-09T08:03:29.979Z"
   },
   {
    "duration": 216,
    "start_time": "2023-11-09T08:03:29.986Z"
   },
   {
    "duration": 5,
    "start_time": "2023-11-09T08:03:30.204Z"
   },
   {
    "duration": 60,
    "start_time": "2023-11-09T08:03:30.210Z"
   },
   {
    "duration": 44,
    "start_time": "2023-11-09T08:03:30.271Z"
   },
   {
    "duration": 113,
    "start_time": "2023-11-09T08:03:30.317Z"
   },
   {
    "duration": 106,
    "start_time": "2023-11-09T08:03:30.432Z"
   },
   {
    "duration": 113,
    "start_time": "2023-11-09T08:03:30.540Z"
   },
   {
    "duration": 8,
    "start_time": "2023-11-09T08:03:30.655Z"
   },
   {
    "duration": 51,
    "start_time": "2023-11-09T08:03:30.665Z"
   },
   {
    "duration": 70,
    "start_time": "2023-11-09T08:03:30.718Z"
   },
   {
    "duration": 49,
    "start_time": "2023-11-09T08:03:30.790Z"
   },
   {
    "duration": 49,
    "start_time": "2023-11-09T08:03:30.840Z"
   },
   {
    "duration": 72,
    "start_time": "2023-11-09T08:03:30.891Z"
   },
   {
    "duration": 37,
    "start_time": "2023-11-09T08:03:30.965Z"
   },
   {
    "duration": 54,
    "start_time": "2023-11-09T08:03:31.003Z"
   },
   {
    "duration": 43,
    "start_time": "2023-11-09T08:03:31.059Z"
   },
   {
    "duration": 50,
    "start_time": "2023-11-09T08:03:31.104Z"
   },
   {
    "duration": 48,
    "start_time": "2023-11-09T08:03:31.157Z"
   },
   {
    "duration": 81,
    "start_time": "2023-11-09T08:03:31.207Z"
   },
   {
    "duration": 48,
    "start_time": "2023-11-09T08:03:31.291Z"
   },
   {
    "duration": 91,
    "start_time": "2023-11-09T08:03:31.343Z"
   },
   {
    "duration": 78,
    "start_time": "2023-11-09T08:03:31.436Z"
   }
  ],
  "kernelspec": {
   "display_name": "Python 3 (ipykernel)",
   "language": "python",
   "name": "python3"
  },
  "language_info": {
   "codemirror_mode": {
    "name": "ipython",
    "version": 3
   },
   "file_extension": ".py",
   "mimetype": "text/x-python",
   "name": "python",
   "nbconvert_exporter": "python",
   "pygments_lexer": "ipython3",
   "version": "3.9.5"
  },
  "toc": {
   "base_numbering": 1,
   "nav_menu": {},
   "number_sections": true,
   "sideBar": true,
   "skip_h1_title": true,
   "title_cell": "Table of Contents",
   "title_sidebar": "Contents",
   "toc_cell": false,
   "toc_position": {},
   "toc_section_display": true,
   "toc_window_display": true
  }
 },
 "nbformat": 4,
 "nbformat_minor": 2
}
