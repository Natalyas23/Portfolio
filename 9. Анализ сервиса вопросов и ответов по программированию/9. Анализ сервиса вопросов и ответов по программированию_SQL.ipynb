{
 "cells": [
  {
   "cell_type": "markdown",
   "id": "1089dfd1",
   "metadata": {},
   "source": [
    "# Анализ сервиса вопросов и ответов по программированию"
   ]
  },
  {
   "cell_type": "markdown",
   "id": "1bb5b5cb",
   "metadata": {},
   "source": [
    "**Задача исследования**: С помощью SQL посчитать заданные метрики сервис-системы вопросов и ответов о программировании.\n",
    "\n",
    "**Описание данных**: Данные для анализа содержатся в 6 таблицах.\n",
    "1. `stackoverflow.badges` хранит информацию о значках, которые присуждаются за разные достижения:\n",
    "    - `id` \tидентификатор значка, первичный ключ таблицы;\n",
    "    - `name`\tназвание значка;\n",
    "    - `user_id`\t  идентификатор пользователя, которому присвоили значок, внешний ключ, отсылающий к таблице `users`;\n",
    "    - `creation_date`\tдата присвоения значка.\n",
    "    \n",
    "    \n",
    "2. `stackoverflow.post_types` содержит информацию о типе постов, их может быть два:\n",
    "    - `id`\tидентификатор поста, первичный ключ таблицы;\n",
    "    - `type`  тип поста:\n",
    "        - `Question` — пост с вопросом;\n",
    "        - `Answer` — пост с ответом.\n",
    "    \n",
    "    \n",
    "3. `stackoverflow.posts` содержит данные о постах:\n",
    "    - `id`\tидентификатор поста, первичный ключ таблицы;\n",
    "    - `title`\tзаголовок поста;\n",
    "    - `creation_date`\tдата создания поста;\n",
    "    - `favorites_count`\tчисло, которое показывает, сколько раз пост добавили в «Закладки»;\n",
    "    - `last_activity_date`\tдата последнего действия в посте, например комментария;\n",
    "    - `last_edit_date`\tдата последнего изменения поста;\n",
    "    - `user_id`\tидентификатор пользователя, который создал пост, внешний ключ к таблице users;\n",
    "    - `parent_id`\tесли пост написали в ответ на другую публикацию, в это поле попадёт идентификатор поста с вопросом;\n",
    "    - `post_type_id`\tидентификатор типа поста, внешний ключ к таблице post_types;\n",
    "    - `score`\tколичество очков, которое набрал пост;\n",
    "    - `views_count`\tколичество просмотров.\n",
    "    \n",
    "    \n",
    "4. `stackoverflow.users` содержит информацию о пользователях:\n",
    "    - `id`\tидентификатор пользователя, первичный ключ таблицы;\n",
    "    - `creation_date`\tдата регистрации пользователя;\n",
    "    - `display_name`\tимя пользователя;\n",
    "    - `last_access_date`\tдата последнего входа;\n",
    "    - `location`\tместоположение;\n",
    "    - `reputation`\tочки репутации, которые получают за хорошие вопросы и полезные ответы;\n",
    "    - `views`\tчисло просмотров профиля пользователя.\n",
    "    \n",
    "    \n",
    "5. `stackoverflow.vote_types` содержит информацию о типах голосов. Голос — это метка, которую пользователи ставят посту. Типов бывает несколько:\n",
    "    - `id`\tидентификатор типа голоса, первичный ключ;\n",
    "    - `name`\tназвание метки:\n",
    "        - `UpMod` — такую отметку получают посты с вопросами или ответами, которые пользователи посчитали уместными и полезными.\n",
    "        - `DownMod` — такую отметку получают посты, которые показались пользователям наименее полезными.\n",
    "        - `Close` — такую метку ставят опытные пользователи сервиса, если заданный вопрос нужно доработать или он вообще не подходит для платформы.\n",
    "        - `Offensive` — такую метку могут поставить, если пользователь ответил на вопрос в грубой и оскорбительной манере, например, указав на неопытность автора поста.\n",
    "        - `Spam` — такую метку ставят в случае, если пост пользователя выглядит откровенной рекламой.\n",
    "        \n",
    "        \n",
    "6. `stackoverflow.votes` содержит информацию о голосах за посты:\n",
    "    - `id`\tидентификатор голоса, первичный ключ;\n",
    "    - `post_id`\tидентификатор поста, внешний ключ к таблице posts;\n",
    "    - `user_id`\tидентификатор пользователя, который поставил посту голос, внешний ключ к таблице users;\n",
    "    - `bounty_amount`\tсумма вознаграждения, которое назначают, чтобы привлечь внимание к посту;\n",
    "    - `vote_type_id`\tидентификатор типа голоса, внешний ключ к таблице vote_types;\n",
    "    - `creation_date`\tдата назначения голоса.\n",
    "    \n",
    "    \n",
    "    \n",
    "    \n",
    "**Ход исследования**\n",
    "\n",
    "1. Проведем обзор данных.\n",
    "2. Выполним 20 заданий и подведем итоги.  "
   ]
  },
  {
   "cell_type": "markdown",
   "id": "14961de9",
   "metadata": {},
   "source": [
    "## Обзор данных\n",
    "\n",
    "Импортируем библиотеки:"
   ]
  },
  {
   "cell_type": "code",
   "execution_count": 1,
   "id": "cf355924",
   "metadata": {},
   "outputs": [],
   "source": [
    "import pandas as pd\n",
    "import sqlalchemy as sa\n",
    "pd.set_option('display.max_colwidth', False)"
   ]
  },
  {
   "cell_type": "markdown",
   "id": "697dd93a",
   "metadata": {},
   "source": [
    "Устанавливаем параметры:"
   ]
  },
  {
   "cell_type": "code",
   "execution_count": 2,
   "id": "599cd6a4",
   "metadata": {},
   "outputs": [],
   "source": [
    "db_config = {\n",
    "    'user': '', # имя пользователя\n",
    "    'pwd': '', # пароль\n",
    "    'host': '',\n",
    "    'port': , # порт подключения\n",
    "    'db': '' # название базы данных\n",
    "}\n",
    "connection_string = 'postgresql://{user}:{pwd}@{host}:{port}/{db}'.format(**db_config)\n",
    "\n",
    "#сохраняем коннектор:\n",
    "engine = sa.create_engine(connection_string, connect_args={'sslmode':'require'})"
   ]
  },
  {
   "cell_type": "markdown",
   "id": "a298bae7",
   "metadata": {},
   "source": [
    "Чтобы выполнить SQL-запрос, напишем функцию с использованием pandas `get_sql_data`:"
   ]
  },
  {
   "cell_type": "code",
   "execution_count": 3,
   "id": "21190b67",
   "metadata": {},
   "outputs": [],
   "source": [
    "def get_sql_data(query:str, engine:sa.engine.base.Engine=engine) -> pd.DataFrame:\n",
    "    '''Открываем соединение, \n",
    "    получаем данные из sql, \n",
    "    закрываем соединение'''\n",
    "    with engine.connect() as con:\n",
    "        return pd.read_sql(sql=sa.text(query), con = con)"
   ]
  },
  {
   "cell_type": "markdown",
   "id": "266c7f39",
   "metadata": {},
   "source": [
    "Для вывода первых пяти строк и информации о таблицах напишем функцию `read_sql_tabl`"
   ]
  },
  {
   "cell_type": "code",
   "execution_count": 4,
   "id": "aee5a39c",
   "metadata": {},
   "outputs": [],
   "source": [
    "def read_sql_tabl(df):\n",
    "    '''Функция для вывода \n",
    "    5 первых строк и общей\n",
    "    информации о таблице\n",
    "    Args:\n",
    "        df: SQL запрос\n",
    "    для вывода таблицы\n",
    "    Returns:\n",
    "        5 строк pd.DataFrame\n",
    "        общая информация pd.DataFrame.\n",
    "    '''    \n",
    "\n",
    "    display(pd.io.sql.read_sql(sql=sa.text(df), con = engine).head())\n",
    "    pd.io.sql.read_sql(sql=sa.text(df), con = engine).info()"
   ]
  },
  {
   "cell_type": "markdown",
   "id": "13569696",
   "metadata": {},
   "source": [
    "### Обзор таблицы `stackoverflow.badges`\n",
    "Используем функцию `read_sql_tabl` и выведем информацию о таблице `stackoverflow.badges`"
   ]
  },
  {
   "cell_type": "code",
   "execution_count": 5,
   "id": "d620f306",
   "metadata": {},
   "outputs": [
    {
     "data": {
      "text/html": [
       "<div>\n",
       "<style scoped>\n",
       "    .dataframe tbody tr th:only-of-type {\n",
       "        vertical-align: middle;\n",
       "    }\n",
       "\n",
       "    .dataframe tbody tr th {\n",
       "        vertical-align: top;\n",
       "    }\n",
       "\n",
       "    .dataframe thead th {\n",
       "        text-align: right;\n",
       "    }\n",
       "</style>\n",
       "<table border=\"1\" class=\"dataframe\">\n",
       "  <thead>\n",
       "    <tr style=\"text-align: right;\">\n",
       "      <th></th>\n",
       "      <th>id</th>\n",
       "      <th>name</th>\n",
       "      <th>user_id</th>\n",
       "      <th>creation_date</th>\n",
       "    </tr>\n",
       "  </thead>\n",
       "  <tbody>\n",
       "    <tr>\n",
       "      <th>0</th>\n",
       "      <td>82947</td>\n",
       "      <td>Teacher</td>\n",
       "      <td>994</td>\n",
       "      <td>2008-09-15 08:55:04</td>\n",
       "    </tr>\n",
       "    <tr>\n",
       "      <th>1</th>\n",
       "      <td>82949</td>\n",
       "      <td>Teacher</td>\n",
       "      <td>3893</td>\n",
       "      <td>2008-09-15 08:55:04</td>\n",
       "    </tr>\n",
       "    <tr>\n",
       "      <th>2</th>\n",
       "      <td>82950</td>\n",
       "      <td>Teacher</td>\n",
       "      <td>4591</td>\n",
       "      <td>2008-09-15 08:55:04</td>\n",
       "    </tr>\n",
       "    <tr>\n",
       "      <th>3</th>\n",
       "      <td>82951</td>\n",
       "      <td>Teacher</td>\n",
       "      <td>5196</td>\n",
       "      <td>2008-09-15 08:55:04</td>\n",
       "    </tr>\n",
       "    <tr>\n",
       "      <th>4</th>\n",
       "      <td>82952</td>\n",
       "      <td>Teacher</td>\n",
       "      <td>2635</td>\n",
       "      <td>2008-09-15 08:55:04</td>\n",
       "    </tr>\n",
       "  </tbody>\n",
       "</table>\n",
       "</div>"
      ],
      "text/plain": [
       "      id     name  user_id       creation_date\n",
       "0  82947  Teacher  994     2008-09-15 08:55:04\n",
       "1  82949  Teacher  3893    2008-09-15 08:55:04\n",
       "2  82950  Teacher  4591    2008-09-15 08:55:04\n",
       "3  82951  Teacher  5196    2008-09-15 08:55:04\n",
       "4  82952  Teacher  2635    2008-09-15 08:55:04"
      ]
     },
     "metadata": {},
     "output_type": "display_data"
    },
    {
     "name": "stdout",
     "output_type": "stream",
     "text": [
      "<class 'pandas.core.frame.DataFrame'>\n",
      "RangeIndex: 330130 entries, 0 to 330129\n",
      "Data columns (total 4 columns):\n",
      " #   Column         Non-Null Count   Dtype         \n",
      "---  ------         --------------   -----         \n",
      " 0   id             330130 non-null  int64         \n",
      " 1   name           330128 non-null  object        \n",
      " 2   user_id        330130 non-null  int64         \n",
      " 3   creation_date  330130 non-null  datetime64[ns]\n",
      "dtypes: datetime64[ns](1), int64(2), object(1)\n",
      "memory usage: 10.1+ MB\n"
     ]
    }
   ],
   "source": [
    "read_sql_tabl('''SELECT * FROM stackoverflow.badges''')"
   ]
  },
  {
   "cell_type": "markdown",
   "id": "a5e3288e",
   "metadata": {},
   "source": [
    "В таблице с данными о значках 4 столбца и 330130 строк. 2 столбца с числами, 1 с типом object, 1 содержит даты. Объем памяти 10.1 MB. Имеются пропуски в столбце *name*."
   ]
  },
  {
   "cell_type": "markdown",
   "id": "b1ca5ec9",
   "metadata": {},
   "source": [
    "### Обзор таблицы `stackoverflow.post_types`\n",
    "\n",
    "Выгрузим данные о типах постов."
   ]
  },
  {
   "cell_type": "code",
   "execution_count": 6,
   "id": "cfade9eb",
   "metadata": {},
   "outputs": [
    {
     "data": {
      "text/html": [
       "<div>\n",
       "<style scoped>\n",
       "    .dataframe tbody tr th:only-of-type {\n",
       "        vertical-align: middle;\n",
       "    }\n",
       "\n",
       "    .dataframe tbody tr th {\n",
       "        vertical-align: top;\n",
       "    }\n",
       "\n",
       "    .dataframe thead th {\n",
       "        text-align: right;\n",
       "    }\n",
       "</style>\n",
       "<table border=\"1\" class=\"dataframe\">\n",
       "  <thead>\n",
       "    <tr style=\"text-align: right;\">\n",
       "      <th></th>\n",
       "      <th>id</th>\n",
       "      <th>type</th>\n",
       "    </tr>\n",
       "  </thead>\n",
       "  <tbody>\n",
       "    <tr>\n",
       "      <th>0</th>\n",
       "      <td>1</td>\n",
       "      <td>Question</td>\n",
       "    </tr>\n",
       "    <tr>\n",
       "      <th>1</th>\n",
       "      <td>2</td>\n",
       "      <td>Answer</td>\n",
       "    </tr>\n",
       "  </tbody>\n",
       "</table>\n",
       "</div>"
      ],
      "text/plain": [
       "   id      type\n",
       "0  1   Question\n",
       "1  2   Answer  "
      ]
     },
     "metadata": {},
     "output_type": "display_data"
    },
    {
     "name": "stdout",
     "output_type": "stream",
     "text": [
      "<class 'pandas.core.frame.DataFrame'>\n",
      "RangeIndex: 2 entries, 0 to 1\n",
      "Data columns (total 2 columns):\n",
      " #   Column  Non-Null Count  Dtype \n",
      "---  ------  --------------  ----- \n",
      " 0   id      2 non-null      int64 \n",
      " 1   type    2 non-null      object\n",
      "dtypes: int64(1), object(1)\n",
      "memory usage: 160.0+ bytes\n"
     ]
    }
   ],
   "source": [
    "read_sql_tabl('''SELECT * FROM stackoverflow.post_types''')"
   ]
  },
  {
   "cell_type": "markdown",
   "id": "0c5234f4",
   "metadata": {},
   "source": [
    "В таблице с типами постов 2 столбца и 2 строки. 1 столбец содержит числа, а 2-й с типом object содержит текст. Объем памяти 160 bytes."
   ]
  },
  {
   "cell_type": "markdown",
   "id": "affc491a",
   "metadata": {},
   "source": [
    "### Обзор таблицы `stackoverflow.posts`\n",
    "\n",
    "Выгрузим данные о постах."
   ]
  },
  {
   "cell_type": "code",
   "execution_count": 7,
   "id": "d403486f",
   "metadata": {},
   "outputs": [
    {
     "data": {
      "text/html": [
       "<div>\n",
       "<style scoped>\n",
       "    .dataframe tbody tr th:only-of-type {\n",
       "        vertical-align: middle;\n",
       "    }\n",
       "\n",
       "    .dataframe tbody tr th {\n",
       "        vertical-align: top;\n",
       "    }\n",
       "\n",
       "    .dataframe thead th {\n",
       "        text-align: right;\n",
       "    }\n",
       "</style>\n",
       "<table border=\"1\" class=\"dataframe\">\n",
       "  <thead>\n",
       "    <tr style=\"text-align: right;\">\n",
       "      <th></th>\n",
       "      <th>id</th>\n",
       "      <th>title</th>\n",
       "      <th>creation_date</th>\n",
       "      <th>favorites_count</th>\n",
       "      <th>last_activity_date</th>\n",
       "      <th>last_edit_date</th>\n",
       "      <th>user_id</th>\n",
       "      <th>parent_id</th>\n",
       "      <th>post_type_id</th>\n",
       "      <th>score</th>\n",
       "      <th>views_count</th>\n",
       "    </tr>\n",
       "  </thead>\n",
       "  <tbody>\n",
       "    <tr>\n",
       "      <th>0</th>\n",
       "      <td>4</td>\n",
       "      <td>Convert Decimal to Double?</td>\n",
       "      <td>2008-07-31 21:42:53</td>\n",
       "      <td>41</td>\n",
       "      <td>2018-07-02 17:55:27.247</td>\n",
       "      <td>2018-07-02 17:55:27</td>\n",
       "      <td>8</td>\n",
       "      <td>0</td>\n",
       "      <td>1</td>\n",
       "      <td>573</td>\n",
       "      <td>37080</td>\n",
       "    </tr>\n",
       "    <tr>\n",
       "      <th>1</th>\n",
       "      <td>6</td>\n",
       "      <td>Percentage width child element in absolutely positioned parent on Internet Explorer 7</td>\n",
       "      <td>2008-07-31 22:08:09</td>\n",
       "      <td>10</td>\n",
       "      <td>2016-03-19 06:10:52.170</td>\n",
       "      <td>2016-03-19 06:05:48</td>\n",
       "      <td>9</td>\n",
       "      <td>0</td>\n",
       "      <td>1</td>\n",
       "      <td>256</td>\n",
       "      <td>16306</td>\n",
       "    </tr>\n",
       "    <tr>\n",
       "      <th>2</th>\n",
       "      <td>7</td>\n",
       "      <td>None</td>\n",
       "      <td>2008-07-31 22:17:58</td>\n",
       "      <td>0</td>\n",
       "      <td>2017-12-16 05:06:57.613</td>\n",
       "      <td>2017-12-16 05:06:58</td>\n",
       "      <td>9</td>\n",
       "      <td>4</td>\n",
       "      <td>2</td>\n",
       "      <td>401</td>\n",
       "      <td>0</td>\n",
       "    </tr>\n",
       "    <tr>\n",
       "      <th>3</th>\n",
       "      <td>9</td>\n",
       "      <td>How do I calculate someone's age in C#?</td>\n",
       "      <td>2008-07-31 23:41:00</td>\n",
       "      <td>399</td>\n",
       "      <td>2018-07-25 11:57:14.110</td>\n",
       "      <td>2018-04-21 17:48:14</td>\n",
       "      <td>1</td>\n",
       "      <td>0</td>\n",
       "      <td>1</td>\n",
       "      <td>1743</td>\n",
       "      <td>480476</td>\n",
       "    </tr>\n",
       "    <tr>\n",
       "      <th>4</th>\n",
       "      <td>11</td>\n",
       "      <td>Calculate relative time in C#</td>\n",
       "      <td>2008-07-31 23:55:38</td>\n",
       "      <td>529</td>\n",
       "      <td>2018-07-05 04:00:56.633</td>\n",
       "      <td>2017-06-04 15:51:20</td>\n",
       "      <td>1</td>\n",
       "      <td>0</td>\n",
       "      <td>1</td>\n",
       "      <td>1348</td>\n",
       "      <td>136033</td>\n",
       "    </tr>\n",
       "  </tbody>\n",
       "</table>\n",
       "</div>"
      ],
      "text/plain": [
       "   id  \\\n",
       "0  4    \n",
       "1  6    \n",
       "2  7    \n",
       "3  9    \n",
       "4  11   \n",
       "\n",
       "                                                                                   title  \\\n",
       "0  Convert Decimal to Double?                                                              \n",
       "1  Percentage width child element in absolutely positioned parent on Internet Explorer 7   \n",
       "2  None                                                                                    \n",
       "3  How do I calculate someone's age in C#?                                                 \n",
       "4  Calculate relative time in C#                                                           \n",
       "\n",
       "        creation_date  favorites_count       last_activity_date  \\\n",
       "0 2008-07-31 21:42:53  41               2018-07-02 17:55:27.247   \n",
       "1 2008-07-31 22:08:09  10               2016-03-19 06:10:52.170   \n",
       "2 2008-07-31 22:17:58  0                2017-12-16 05:06:57.613   \n",
       "3 2008-07-31 23:41:00  399              2018-07-25 11:57:14.110   \n",
       "4 2008-07-31 23:55:38  529              2018-07-05 04:00:56.633   \n",
       "\n",
       "       last_edit_date  user_id  parent_id  post_type_id  score  views_count  \n",
       "0 2018-07-02 17:55:27  8        0          1             573    37080        \n",
       "1 2016-03-19 06:05:48  9        0          1             256    16306        \n",
       "2 2017-12-16 05:06:58  9        4          2             401    0            \n",
       "3 2018-04-21 17:48:14  1        0          1             1743   480476       \n",
       "4 2017-06-04 15:51:20  1        0          1             1348   136033       "
      ]
     },
     "metadata": {},
     "output_type": "display_data"
    },
    {
     "name": "stdout",
     "output_type": "stream",
     "text": [
      "<class 'pandas.core.frame.DataFrame'>\n",
      "RangeIndex: 243796 entries, 0 to 243795\n",
      "Data columns (total 11 columns):\n",
      " #   Column              Non-Null Count   Dtype         \n",
      "---  ------              --------------   -----         \n",
      " 0   id                  243796 non-null  int64         \n",
      " 1   title               52345 non-null   object        \n",
      " 2   creation_date       243796 non-null  datetime64[ns]\n",
      " 3   favorites_count     243796 non-null  int64         \n",
      " 4   last_activity_date  243796 non-null  object        \n",
      " 5   last_edit_date      87139 non-null   datetime64[ns]\n",
      " 6   user_id             243796 non-null  int64         \n",
      " 7   parent_id           243796 non-null  int64         \n",
      " 8   post_type_id        243796 non-null  int64         \n",
      " 9   score               243796 non-null  int64         \n",
      " 10  views_count         243796 non-null  int64         \n",
      "dtypes: datetime64[ns](2), int64(7), object(2)\n",
      "memory usage: 20.5+ MB\n"
     ]
    }
   ],
   "source": [
    "read_sql_tabl('''SELECT * FROM stackoverflow.posts''')"
   ]
  },
  {
   "cell_type": "markdown",
   "id": "231cd028",
   "metadata": {},
   "source": [
    "В таблице постов 11 столбцов и 243796 строк. 7 столбцов с числами, 2 с типом object, 2 содержат даты. Объем памяти 20.5 MB. Имеются пропуски в столбцах *title* и *last_edit_date*."
   ]
  },
  {
   "cell_type": "markdown",
   "id": "d3040753",
   "metadata": {},
   "source": [
    "### Обзор таблицы `stackoverflow.users`\n",
    "\n",
    "Выгрузим данные о пользователях."
   ]
  },
  {
   "cell_type": "code",
   "execution_count": 8,
   "id": "a8f9b01b",
   "metadata": {},
   "outputs": [
    {
     "data": {
      "text/html": [
       "<div>\n",
       "<style scoped>\n",
       "    .dataframe tbody tr th:only-of-type {\n",
       "        vertical-align: middle;\n",
       "    }\n",
       "\n",
       "    .dataframe tbody tr th {\n",
       "        vertical-align: top;\n",
       "    }\n",
       "\n",
       "    .dataframe thead th {\n",
       "        text-align: right;\n",
       "    }\n",
       "</style>\n",
       "<table border=\"1\" class=\"dataframe\">\n",
       "  <thead>\n",
       "    <tr style=\"text-align: right;\">\n",
       "      <th></th>\n",
       "      <th>id</th>\n",
       "      <th>creation_date</th>\n",
       "      <th>display_name</th>\n",
       "      <th>last_access_date</th>\n",
       "      <th>location</th>\n",
       "      <th>reputation</th>\n",
       "      <th>views</th>\n",
       "    </tr>\n",
       "  </thead>\n",
       "  <tbody>\n",
       "    <tr>\n",
       "      <th>0</th>\n",
       "      <td>1</td>\n",
       "      <td>2008-07-31 14:22:31</td>\n",
       "      <td>Jeff Atwood</td>\n",
       "      <td>2018-08-29 02:34:23</td>\n",
       "      <td>El Cerrito, CA</td>\n",
       "      <td>44300</td>\n",
       "      <td>408587</td>\n",
       "    </tr>\n",
       "    <tr>\n",
       "      <th>1</th>\n",
       "      <td>2</td>\n",
       "      <td>2008-07-31 14:22:31</td>\n",
       "      <td>Geoff Dalgas</td>\n",
       "      <td>2018-08-23 17:31:56</td>\n",
       "      <td>Corvallis, OR</td>\n",
       "      <td>3491</td>\n",
       "      <td>23966</td>\n",
       "    </tr>\n",
       "    <tr>\n",
       "      <th>2</th>\n",
       "      <td>3</td>\n",
       "      <td>2008-07-31 14:22:31</td>\n",
       "      <td>Jarrod Dixon</td>\n",
       "      <td>2018-08-30 20:56:24</td>\n",
       "      <td>Raleigh, NC, United States</td>\n",
       "      <td>13418</td>\n",
       "      <td>24396</td>\n",
       "    </tr>\n",
       "    <tr>\n",
       "      <th>3</th>\n",
       "      <td>4</td>\n",
       "      <td>2008-07-31 14:22:31</td>\n",
       "      <td>Joel Spolsky</td>\n",
       "      <td>2018-08-14 22:18:15</td>\n",
       "      <td>New York, NY</td>\n",
       "      <td>28768</td>\n",
       "      <td>73755</td>\n",
       "    </tr>\n",
       "    <tr>\n",
       "      <th>4</th>\n",
       "      <td>5</td>\n",
       "      <td>2008-07-31 14:22:31</td>\n",
       "      <td>Jon Galloway</td>\n",
       "      <td>2018-08-29 16:48:36</td>\n",
       "      <td>San Diego, CA</td>\n",
       "      <td>39172</td>\n",
       "      <td>11700</td>\n",
       "    </tr>\n",
       "  </tbody>\n",
       "</table>\n",
       "</div>"
      ],
      "text/plain": [
       "   id       creation_date  display_name    last_access_date  \\\n",
       "0  1  2008-07-31 14:22:31  Jeff Atwood  2018-08-29 02:34:23   \n",
       "1  2  2008-07-31 14:22:31  Geoff Dalgas 2018-08-23 17:31:56   \n",
       "2  3  2008-07-31 14:22:31  Jarrod Dixon 2018-08-30 20:56:24   \n",
       "3  4  2008-07-31 14:22:31  Joel Spolsky 2018-08-14 22:18:15   \n",
       "4  5  2008-07-31 14:22:31  Jon Galloway 2018-08-29 16:48:36   \n",
       "\n",
       "                     location  reputation   views  \n",
       "0  El Cerrito, CA              44300       408587  \n",
       "1  Corvallis, OR               3491        23966   \n",
       "2  Raleigh, NC, United States  13418       24396   \n",
       "3  New York, NY                28768       73755   \n",
       "4  San Diego, CA               39172       11700   "
      ]
     },
     "metadata": {},
     "output_type": "display_data"
    },
    {
     "name": "stdout",
     "output_type": "stream",
     "text": [
      "<class 'pandas.core.frame.DataFrame'>\n",
      "RangeIndex: 24044 entries, 0 to 24043\n",
      "Data columns (total 7 columns):\n",
      " #   Column            Non-Null Count  Dtype         \n",
      "---  ------            --------------  -----         \n",
      " 0   id                24044 non-null  int64         \n",
      " 1   creation_date     24044 non-null  datetime64[ns]\n",
      " 2   display_name      24042 non-null  object        \n",
      " 3   last_access_date  24044 non-null  datetime64[ns]\n",
      " 4   location          15599 non-null  object        \n",
      " 5   reputation        24044 non-null  int64         \n",
      " 6   views             24044 non-null  int64         \n",
      "dtypes: datetime64[ns](2), int64(3), object(2)\n",
      "memory usage: 1.3+ MB\n"
     ]
    }
   ],
   "source": [
    "read_sql_tabl('''SELECT * FROM stackoverflow.users''')"
   ]
  },
  {
   "cell_type": "markdown",
   "id": "6064aad6",
   "metadata": {},
   "source": [
    "В таблице с данными о пользователях 7 столбцов и 24044 строки. 3 столбца с числами, 2 с типом object, 2 содержит даты. Объем памяти 1.3 MB. Имеются пропуски в столбце *location*."
   ]
  },
  {
   "cell_type": "markdown",
   "id": "3dd50d48",
   "metadata": {},
   "source": [
    "### Обзор таблицы `stackoverflow.vote_types`\n",
    "\n",
    "Выгрузим данные о типах голосов."
   ]
  },
  {
   "cell_type": "code",
   "execution_count": 9,
   "id": "81766e0b",
   "metadata": {},
   "outputs": [
    {
     "data": {
      "text/html": [
       "<div>\n",
       "<style scoped>\n",
       "    .dataframe tbody tr th:only-of-type {\n",
       "        vertical-align: middle;\n",
       "    }\n",
       "\n",
       "    .dataframe tbody tr th {\n",
       "        vertical-align: top;\n",
       "    }\n",
       "\n",
       "    .dataframe thead th {\n",
       "        text-align: right;\n",
       "    }\n",
       "</style>\n",
       "<table border=\"1\" class=\"dataframe\">\n",
       "  <thead>\n",
       "    <tr style=\"text-align: right;\">\n",
       "      <th></th>\n",
       "      <th>id</th>\n",
       "      <th>name</th>\n",
       "    </tr>\n",
       "  </thead>\n",
       "  <tbody>\n",
       "    <tr>\n",
       "      <th>0</th>\n",
       "      <td>1</td>\n",
       "      <td>AcceptedByOriginator</td>\n",
       "    </tr>\n",
       "    <tr>\n",
       "      <th>1</th>\n",
       "      <td>2</td>\n",
       "      <td>UpMod</td>\n",
       "    </tr>\n",
       "    <tr>\n",
       "      <th>2</th>\n",
       "      <td>3</td>\n",
       "      <td>DownMod</td>\n",
       "    </tr>\n",
       "    <tr>\n",
       "      <th>3</th>\n",
       "      <td>4</td>\n",
       "      <td>Offensive</td>\n",
       "    </tr>\n",
       "    <tr>\n",
       "      <th>4</th>\n",
       "      <td>5</td>\n",
       "      <td>Favorite</td>\n",
       "    </tr>\n",
       "  </tbody>\n",
       "</table>\n",
       "</div>"
      ],
      "text/plain": [
       "   id                  name\n",
       "0  1   AcceptedByOriginator\n",
       "1  2   UpMod               \n",
       "2  3   DownMod             \n",
       "3  4   Offensive           \n",
       "4  5   Favorite            "
      ]
     },
     "metadata": {},
     "output_type": "display_data"
    },
    {
     "name": "stdout",
     "output_type": "stream",
     "text": [
      "<class 'pandas.core.frame.DataFrame'>\n",
      "RangeIndex: 15 entries, 0 to 14\n",
      "Data columns (total 2 columns):\n",
      " #   Column  Non-Null Count  Dtype \n",
      "---  ------  --------------  ----- \n",
      " 0   id      15 non-null     int64 \n",
      " 1   name    15 non-null     object\n",
      "dtypes: int64(1), object(1)\n",
      "memory usage: 368.0+ bytes\n"
     ]
    }
   ],
   "source": [
    "read_sql_tabl('''SELECT * FROM stackoverflow.vote_types''')"
   ]
  },
  {
   "cell_type": "markdown",
   "id": "3dda3ed6",
   "metadata": {},
   "source": [
    "В таблице с типами голосов 2 столбца и 15 строк. 1 столбец содержит числа, а 2-й с типом object содержит текст. Объем памяти 368 bytes."
   ]
  },
  {
   "cell_type": "markdown",
   "id": "ff39bca2",
   "metadata": {},
   "source": [
    "### Обзор таблицы `stackoverflow.votes`\n",
    "\n",
    "Выгрузим данные о голосах за посты."
   ]
  },
  {
   "cell_type": "code",
   "execution_count": 10,
   "id": "f85cffc1",
   "metadata": {},
   "outputs": [
    {
     "data": {
      "text/html": [
       "<div>\n",
       "<style scoped>\n",
       "    .dataframe tbody tr th:only-of-type {\n",
       "        vertical-align: middle;\n",
       "    }\n",
       "\n",
       "    .dataframe tbody tr th {\n",
       "        vertical-align: top;\n",
       "    }\n",
       "\n",
       "    .dataframe thead th {\n",
       "        text-align: right;\n",
       "    }\n",
       "</style>\n",
       "<table border=\"1\" class=\"dataframe\">\n",
       "  <thead>\n",
       "    <tr style=\"text-align: right;\">\n",
       "      <th></th>\n",
       "      <th>id</th>\n",
       "      <th>post_id</th>\n",
       "      <th>user_id</th>\n",
       "      <th>bounty_amount</th>\n",
       "      <th>vote_type_id</th>\n",
       "      <th>creation_date</th>\n",
       "    </tr>\n",
       "  </thead>\n",
       "  <tbody>\n",
       "    <tr>\n",
       "      <th>0</th>\n",
       "      <td>434364</td>\n",
       "      <td>146794</td>\n",
       "      <td>4918</td>\n",
       "      <td>NaN</td>\n",
       "      <td>5</td>\n",
       "      <td>2008-10-03</td>\n",
       "    </tr>\n",
       "    <tr>\n",
       "      <th>1</th>\n",
       "      <td>434366</td>\n",
       "      <td>135535</td>\n",
       "      <td>16511</td>\n",
       "      <td>NaN</td>\n",
       "      <td>3</td>\n",
       "      <td>2008-10-03</td>\n",
       "    </tr>\n",
       "    <tr>\n",
       "      <th>2</th>\n",
       "      <td>434372</td>\n",
       "      <td>162181</td>\n",
       "      <td>12818</td>\n",
       "      <td>NaN</td>\n",
       "      <td>1</td>\n",
       "      <td>2008-10-03</td>\n",
       "    </tr>\n",
       "    <tr>\n",
       "      <th>3</th>\n",
       "      <td>434380</td>\n",
       "      <td>21965</td>\n",
       "      <td>4002</td>\n",
       "      <td>NaN</td>\n",
       "      <td>1</td>\n",
       "      <td>2008-10-03</td>\n",
       "    </tr>\n",
       "    <tr>\n",
       "      <th>4</th>\n",
       "      <td>434401</td>\n",
       "      <td>165975</td>\n",
       "      <td>8161</td>\n",
       "      <td>NaN</td>\n",
       "      <td>2</td>\n",
       "      <td>2008-10-03</td>\n",
       "    </tr>\n",
       "  </tbody>\n",
       "</table>\n",
       "</div>"
      ],
      "text/plain": [
       "       id  post_id  user_id  bounty_amount  vote_type_id creation_date\n",
       "0  434364  146794   4918    NaN             5             2008-10-03  \n",
       "1  434366  135535   16511   NaN             3             2008-10-03  \n",
       "2  434372  162181   12818   NaN             1             2008-10-03  \n",
       "3  434380  21965    4002    NaN             1             2008-10-03  \n",
       "4  434401  165975   8161    NaN             2             2008-10-03  "
      ]
     },
     "metadata": {},
     "output_type": "display_data"
    },
    {
     "name": "stdout",
     "output_type": "stream",
     "text": [
      "<class 'pandas.core.frame.DataFrame'>\n",
      "RangeIndex: 58790 entries, 0 to 58789\n",
      "Data columns (total 6 columns):\n",
      " #   Column         Non-Null Count  Dtype  \n",
      "---  ------         --------------  -----  \n",
      " 0   id             58790 non-null  int64  \n",
      " 1   post_id        58790 non-null  int64  \n",
      " 2   user_id        58790 non-null  int64  \n",
      " 3   bounty_amount  220 non-null    float64\n",
      " 4   vote_type_id   58790 non-null  int64  \n",
      " 5   creation_date  58790 non-null  object \n",
      "dtypes: float64(1), int64(4), object(1)\n",
      "memory usage: 2.7+ MB\n"
     ]
    }
   ],
   "source": [
    "read_sql_tabl('''SELECT * FROM stackoverflow.votes''')"
   ]
  },
  {
   "cell_type": "markdown",
   "id": "ac0f97f9",
   "metadata": {},
   "source": [
    "В таблице с данными о голосах за посты 6 столбцов и 58790 строк. 5 столбцов с числами, 1 с типом object, 2 содержит даты. Объем памяти 1.3 MB. Есть пропуски в столбце *bounty_amount*."
   ]
  },
  {
   "cell_type": "markdown",
   "id": "1acedca1",
   "metadata": {},
   "source": [
    "### Выводы\n",
    "\n",
    "Для анализа предоставлено 6 таблиц:\n",
    "\n",
    "1. `stackoverflow.badges`- В таблице с данными о значках 4 столбца и 330130 строк. Имеются пропуски в столбце *name*.\n",
    "2. `stackoverflow.post_types` - в таблице с типами постов 2 столбца и 2 строки. \n",
    "3. `stackoverflow.posts` - В таблице постов 11 столбцов и 243796 строк. Имеются пропуски в столбцах *title* и *last_edit_date*. \n",
    "4. `stackoverflow.users` - В таблице с данными о пользователях 7 столбцов и 24044 строки. Имеются пропуски в столбце *location*.\n",
    "5. `stackoverflow.vote_types` - В таблице с типами голосов 2 столбца и 15 строк.\n",
    "6. `stackoverflow.votes` - В таблице с данными о голосах за посты 6 столбцов и 58790 строк. Есть пропуски в столбце *bounty_amount*."
   ]
  },
  {
   "cell_type": "markdown",
   "id": "3b835b27",
   "metadata": {},
   "source": [
    "## Выполнение заданий"
   ]
  },
  {
   "cell_type": "markdown",
   "id": "f31c8cd9",
   "metadata": {},
   "source": [
    "### Найдем количество вопросов, которые набрали больше 300 очков или как минимум 100 раз были добавлены в «Закладки»\n",
    "\n",
    "Данные о постах содержатся в таблице `stackoverflow.posts`, а типы постов в таблице `stackoverflow.post_types`. "
   ]
  },
  {
   "cell_type": "code",
   "execution_count": 11,
   "id": "f3fddd63",
   "metadata": {},
   "outputs": [
    {
     "data": {
      "text/html": [
       "<div>\n",
       "<style scoped>\n",
       "    .dataframe tbody tr th:only-of-type {\n",
       "        vertical-align: middle;\n",
       "    }\n",
       "\n",
       "    .dataframe tbody tr th {\n",
       "        vertical-align: top;\n",
       "    }\n",
       "\n",
       "    .dataframe thead th {\n",
       "        text-align: right;\n",
       "    }\n",
       "</style>\n",
       "<table border=\"1\" class=\"dataframe\">\n",
       "  <thead>\n",
       "    <tr style=\"text-align: right;\">\n",
       "      <th></th>\n",
       "      <th>count</th>\n",
       "    </tr>\n",
       "  </thead>\n",
       "  <tbody>\n",
       "    <tr>\n",
       "      <th>0</th>\n",
       "      <td>1355</td>\n",
       "    </tr>\n",
       "  </tbody>\n",
       "</table>\n",
       "</div>"
      ],
      "text/plain": [
       "   count\n",
       "0  1355 "
      ]
     },
     "execution_count": 11,
     "metadata": {},
     "output_type": "execute_result"
    }
   ],
   "source": [
    "get_sql_data(\n",
    "'''\n",
    "SELECT COUNT(p.id)\n",
    "FROM stackoverflow.posts AS p\n",
    "JOIN stackoverflow.post_types AS pt ON p.post_type_id = pt.id\n",
    "WHERE type = 'Question'\n",
    "    AND (score > 300\n",
    "    OR favorites_count >= 100)\n",
    "    \n",
    "''')"
   ]
  },
  {
   "cell_type": "markdown",
   "id": "2ad2ff87",
   "metadata": {},
   "source": [
    "Мы получили 1355 вопросов, которые набрали более 300 очков или не менее 100 раз были добавлены в \"Закладки\"."
   ]
  },
  {
   "cell_type": "markdown",
   "id": "f278deff",
   "metadata": {},
   "source": [
    "### Определим, сколько в среднем в день задавали вопросов с 1 по 18 ноября 2008 включительно? Результат округлим до целого числа.\n",
    "\n",
    "Для выполнения запроса используем эти же таблицы: `stackoverflow.posts` и `stackoverflow.post_types`. "
   ]
  },
  {
   "cell_type": "code",
   "execution_count": 12,
   "id": "e60f2ba6",
   "metadata": {},
   "outputs": [
    {
     "data": {
      "text/html": [
       "<div>\n",
       "<style scoped>\n",
       "    .dataframe tbody tr th:only-of-type {\n",
       "        vertical-align: middle;\n",
       "    }\n",
       "\n",
       "    .dataframe tbody tr th {\n",
       "        vertical-align: top;\n",
       "    }\n",
       "\n",
       "    .dataframe thead th {\n",
       "        text-align: right;\n",
       "    }\n",
       "</style>\n",
       "<table border=\"1\" class=\"dataframe\">\n",
       "  <thead>\n",
       "    <tr style=\"text-align: right;\">\n",
       "      <th></th>\n",
       "      <th>round</th>\n",
       "    </tr>\n",
       "  </thead>\n",
       "  <tbody>\n",
       "    <tr>\n",
       "      <th>0</th>\n",
       "      <td>383.0</td>\n",
       "    </tr>\n",
       "  </tbody>\n",
       "</table>\n",
       "</div>"
      ],
      "text/plain": [
       "   round\n",
       "0  383.0"
      ]
     },
     "execution_count": 12,
     "metadata": {},
     "output_type": "execute_result"
    }
   ],
   "source": [
    "get_sql_data(\n",
    "'''\n",
    "WITH i AS\n",
    "(SELECT \n",
    "        CAST(date_trunc('day', creation_date) AS date) AS dt,\n",
    "        COUNT(user_id)\n",
    "    FROM stackoverflow.posts AS p\n",
    "    JOIN stackoverflow.post_types AS pt ON p.post_type_id = pt.id\n",
    "    WHERE type = 'Question' \n",
    "        AND \n",
    "        CAST(date_trunc('day', creation_date) AS date) BETWEEN '2008-11-01' AND '2008-11-18'\n",
    "    GROUP BY dt\n",
    "    ORDER BY dt)  \n",
    "    \n",
    "SELECT ROUND(AVG(count))\n",
    "FROM i\n",
    "''')"
   ]
  },
  {
   "cell_type": "markdown",
   "id": "c54a30b1",
   "metadata": {},
   "source": [
    "С 1 по 18 ноября 2008 года в день задавали по 383 вопроса, в среднем."
   ]
  },
  {
   "cell_type": "markdown",
   "id": "b2ff46d2",
   "metadata": {},
   "source": [
    "### Определим количество уникальных пользователей, получивших значки сразу в день регистрации. "
   ]
  },
  {
   "cell_type": "markdown",
   "id": "c1eb3c95",
   "metadata": {},
   "source": [
    "Данные о пользователях содержатся в таблице  `stackoverflow.users`, а о значках в таблице  `stackoverflow.badges`"
   ]
  },
  {
   "cell_type": "code",
   "execution_count": 13,
   "id": "edc4b5f8",
   "metadata": {},
   "outputs": [
    {
     "data": {
      "text/html": [
       "<div>\n",
       "<style scoped>\n",
       "    .dataframe tbody tr th:only-of-type {\n",
       "        vertical-align: middle;\n",
       "    }\n",
       "\n",
       "    .dataframe tbody tr th {\n",
       "        vertical-align: top;\n",
       "    }\n",
       "\n",
       "    .dataframe thead th {\n",
       "        text-align: right;\n",
       "    }\n",
       "</style>\n",
       "<table border=\"1\" class=\"dataframe\">\n",
       "  <thead>\n",
       "    <tr style=\"text-align: right;\">\n",
       "      <th></th>\n",
       "      <th>count</th>\n",
       "    </tr>\n",
       "  </thead>\n",
       "  <tbody>\n",
       "    <tr>\n",
       "      <th>0</th>\n",
       "      <td>7047</td>\n",
       "    </tr>\n",
       "  </tbody>\n",
       "</table>\n",
       "</div>"
      ],
      "text/plain": [
       "   count\n",
       "0  7047 "
      ]
     },
     "execution_count": 13,
     "metadata": {},
     "output_type": "execute_result"
    }
   ],
   "source": [
    "get_sql_data(\n",
    "'''\n",
    "SELECT COUNT(DISTINCT b.user_id)\n",
    "FROM stackoverflow.badges AS b\n",
    "JOIN stackoverflow.users AS u ON b.user_id = u.id\n",
    "WHERE b.creation_date::date = u.creation_date::date\n",
    "\n",
    "''')"
   ]
  },
  {
   "cell_type": "markdown",
   "id": "a0170d08",
   "metadata": {},
   "source": [
    "7047 уникальных пользователей получили значки сразу в день регистрации. Это 29.3% от общего количества пользователей."
   ]
  },
  {
   "cell_type": "markdown",
   "id": "ed59b084",
   "metadata": {},
   "source": [
    "### Сколько уникальных постов пользователя с именем Joel Coehoorn получили хотя бы один голос?"
   ]
  },
  {
   "cell_type": "markdown",
   "id": "e6f09c2b",
   "metadata": {},
   "source": [
    "Для выполнения запроса нам нужны 3 таблицы:\n",
    "- о пользователях;\n",
    "- о постах;\n",
    "- о голосах за посты."
   ]
  },
  {
   "cell_type": "code",
   "execution_count": 14,
   "id": "b2abbd6c",
   "metadata": {},
   "outputs": [
    {
     "data": {
      "text/html": [
       "<div>\n",
       "<style scoped>\n",
       "    .dataframe tbody tr th:only-of-type {\n",
       "        vertical-align: middle;\n",
       "    }\n",
       "\n",
       "    .dataframe tbody tr th {\n",
       "        vertical-align: top;\n",
       "    }\n",
       "\n",
       "    .dataframe thead th {\n",
       "        text-align: right;\n",
       "    }\n",
       "</style>\n",
       "<table border=\"1\" class=\"dataframe\">\n",
       "  <thead>\n",
       "    <tr style=\"text-align: right;\">\n",
       "      <th></th>\n",
       "      <th>count</th>\n",
       "    </tr>\n",
       "  </thead>\n",
       "  <tbody>\n",
       "    <tr>\n",
       "      <th>0</th>\n",
       "      <td>12</td>\n",
       "    </tr>\n",
       "  </tbody>\n",
       "</table>\n",
       "</div>"
      ],
      "text/plain": [
       "   count\n",
       "0  12   "
      ]
     },
     "execution_count": 14,
     "metadata": {},
     "output_type": "execute_result"
    }
   ],
   "source": [
    "get_sql_data(\n",
    "'''\n",
    "SELECT COUNT(DISTINCT p.id)\n",
    "FROM stackoverflow.users AS u\n",
    "JOIN stackoverflow.posts AS p ON u.id = p.user_id\n",
    "JOIN stackoverflow.votes AS v ON p.id = v.post_id\n",
    "WHERE u.display_name = 'Joel Coehoorn'\n",
    "\n",
    "''')"
   ]
  },
  {
   "cell_type": "markdown",
   "id": "19b46009",
   "metadata": {},
   "source": [
    "12 уникальных постов пользователя Joel Coehoorn получили голоса"
   ]
  },
  {
   "cell_type": "markdown",
   "id": "72dbd543",
   "metadata": {},
   "source": [
    "### Выгрузим все поля таблицы vote_types. Добавим к таблице поле rank, в которое войдут номера записей в обратном порядке и отсортируем таблицу по полю id."
   ]
  },
  {
   "cell_type": "code",
   "execution_count": 15,
   "id": "9de766f4",
   "metadata": {},
   "outputs": [
    {
     "data": {
      "text/html": [
       "<div>\n",
       "<style scoped>\n",
       "    .dataframe tbody tr th:only-of-type {\n",
       "        vertical-align: middle;\n",
       "    }\n",
       "\n",
       "    .dataframe tbody tr th {\n",
       "        vertical-align: top;\n",
       "    }\n",
       "\n",
       "    .dataframe thead th {\n",
       "        text-align: right;\n",
       "    }\n",
       "</style>\n",
       "<table border=\"1\" class=\"dataframe\">\n",
       "  <thead>\n",
       "    <tr style=\"text-align: right;\">\n",
       "      <th></th>\n",
       "      <th>id</th>\n",
       "      <th>name</th>\n",
       "      <th>rank</th>\n",
       "    </tr>\n",
       "  </thead>\n",
       "  <tbody>\n",
       "    <tr>\n",
       "      <th>0</th>\n",
       "      <td>1</td>\n",
       "      <td>AcceptedByOriginator</td>\n",
       "      <td>15</td>\n",
       "    </tr>\n",
       "    <tr>\n",
       "      <th>1</th>\n",
       "      <td>2</td>\n",
       "      <td>UpMod</td>\n",
       "      <td>14</td>\n",
       "    </tr>\n",
       "    <tr>\n",
       "      <th>2</th>\n",
       "      <td>3</td>\n",
       "      <td>DownMod</td>\n",
       "      <td>13</td>\n",
       "    </tr>\n",
       "    <tr>\n",
       "      <th>3</th>\n",
       "      <td>4</td>\n",
       "      <td>Offensive</td>\n",
       "      <td>12</td>\n",
       "    </tr>\n",
       "    <tr>\n",
       "      <th>4</th>\n",
       "      <td>5</td>\n",
       "      <td>Favorite</td>\n",
       "      <td>11</td>\n",
       "    </tr>\n",
       "    <tr>\n",
       "      <th>5</th>\n",
       "      <td>6</td>\n",
       "      <td>Close</td>\n",
       "      <td>10</td>\n",
       "    </tr>\n",
       "    <tr>\n",
       "      <th>6</th>\n",
       "      <td>7</td>\n",
       "      <td>Reopen</td>\n",
       "      <td>9</td>\n",
       "    </tr>\n",
       "    <tr>\n",
       "      <th>7</th>\n",
       "      <td>8</td>\n",
       "      <td>BountyStart</td>\n",
       "      <td>8</td>\n",
       "    </tr>\n",
       "    <tr>\n",
       "      <th>8</th>\n",
       "      <td>9</td>\n",
       "      <td>BountyClose</td>\n",
       "      <td>7</td>\n",
       "    </tr>\n",
       "    <tr>\n",
       "      <th>9</th>\n",
       "      <td>10</td>\n",
       "      <td>Deletion</td>\n",
       "      <td>6</td>\n",
       "    </tr>\n",
       "    <tr>\n",
       "      <th>10</th>\n",
       "      <td>11</td>\n",
       "      <td>Undeletion</td>\n",
       "      <td>5</td>\n",
       "    </tr>\n",
       "    <tr>\n",
       "      <th>11</th>\n",
       "      <td>12</td>\n",
       "      <td>Spam</td>\n",
       "      <td>4</td>\n",
       "    </tr>\n",
       "    <tr>\n",
       "      <th>12</th>\n",
       "      <td>13</td>\n",
       "      <td>InformModerator</td>\n",
       "      <td>3</td>\n",
       "    </tr>\n",
       "    <tr>\n",
       "      <th>13</th>\n",
       "      <td>14</td>\n",
       "      <td>ModeratorReview</td>\n",
       "      <td>2</td>\n",
       "    </tr>\n",
       "    <tr>\n",
       "      <th>14</th>\n",
       "      <td>15</td>\n",
       "      <td>ApproveEditSuggestion</td>\n",
       "      <td>1</td>\n",
       "    </tr>\n",
       "  </tbody>\n",
       "</table>\n",
       "</div>"
      ],
      "text/plain": [
       "    id                   name  rank\n",
       "0   1   AcceptedByOriginator   15  \n",
       "1   2   UpMod                  14  \n",
       "2   3   DownMod                13  \n",
       "3   4   Offensive              12  \n",
       "4   5   Favorite               11  \n",
       "5   6   Close                  10  \n",
       "6   7   Reopen                 9   \n",
       "7   8   BountyStart            8   \n",
       "8   9   BountyClose            7   \n",
       "9   10  Deletion               6   \n",
       "10  11  Undeletion             5   \n",
       "11  12  Spam                   4   \n",
       "12  13  InformModerator        3   \n",
       "13  14  ModeratorReview        2   \n",
       "14  15  ApproveEditSuggestion  1   "
      ]
     },
     "execution_count": 15,
     "metadata": {},
     "output_type": "execute_result"
    }
   ],
   "source": [
    "get_sql_data(\n",
    "'''\n",
    "SELECT *,\n",
    "    RANK() OVER (ORDER BY id DESC)\n",
    "FROM stackoverflow.vote_types\n",
    "ORDER BY id\n",
    "\n",
    "''')"
   ]
  },
  {
   "cell_type": "markdown",
   "id": "c75b16bf",
   "metadata": {},
   "source": [
    "Проранжировали записи в таблице `stackoverflow.vote_types` и отсортировали ее по возрастанию id"
   ]
  },
  {
   "cell_type": "markdown",
   "id": "60f803db",
   "metadata": {},
   "source": [
    "### Отберем 10 пользователей, которые поставили больше всего голосов типа Close. \n",
    "Отобразим таблицу из двух полей: идентификатор пользователя и количество голосов. Отсортируем данные сначала по убыванию количества голосов, потом по убыванию значения идентификатора пользователя.\n",
    "\n",
    "Для выполнения запроса используем таблицы о голосах за посты и типах голосов."
   ]
  },
  {
   "cell_type": "code",
   "execution_count": 16,
   "id": "676fc816",
   "metadata": {},
   "outputs": [
    {
     "data": {
      "text/html": [
       "<div>\n",
       "<style scoped>\n",
       "    .dataframe tbody tr th:only-of-type {\n",
       "        vertical-align: middle;\n",
       "    }\n",
       "\n",
       "    .dataframe tbody tr th {\n",
       "        vertical-align: top;\n",
       "    }\n",
       "\n",
       "    .dataframe thead th {\n",
       "        text-align: right;\n",
       "    }\n",
       "</style>\n",
       "<table border=\"1\" class=\"dataframe\">\n",
       "  <thead>\n",
       "    <tr style=\"text-align: right;\">\n",
       "      <th></th>\n",
       "      <th>user_id</th>\n",
       "      <th>count</th>\n",
       "    </tr>\n",
       "  </thead>\n",
       "  <tbody>\n",
       "    <tr>\n",
       "      <th>0</th>\n",
       "      <td>20646</td>\n",
       "      <td>36</td>\n",
       "    </tr>\n",
       "    <tr>\n",
       "      <th>1</th>\n",
       "      <td>14728</td>\n",
       "      <td>36</td>\n",
       "    </tr>\n",
       "    <tr>\n",
       "      <th>2</th>\n",
       "      <td>27163</td>\n",
       "      <td>29</td>\n",
       "    </tr>\n",
       "    <tr>\n",
       "      <th>3</th>\n",
       "      <td>41158</td>\n",
       "      <td>24</td>\n",
       "    </tr>\n",
       "    <tr>\n",
       "      <th>4</th>\n",
       "      <td>24820</td>\n",
       "      <td>23</td>\n",
       "    </tr>\n",
       "    <tr>\n",
       "      <th>5</th>\n",
       "      <td>9345</td>\n",
       "      <td>23</td>\n",
       "    </tr>\n",
       "    <tr>\n",
       "      <th>6</th>\n",
       "      <td>3241</td>\n",
       "      <td>23</td>\n",
       "    </tr>\n",
       "    <tr>\n",
       "      <th>7</th>\n",
       "      <td>44330</td>\n",
       "      <td>20</td>\n",
       "    </tr>\n",
       "    <tr>\n",
       "      <th>8</th>\n",
       "      <td>38426</td>\n",
       "      <td>19</td>\n",
       "    </tr>\n",
       "    <tr>\n",
       "      <th>9</th>\n",
       "      <td>19074</td>\n",
       "      <td>19</td>\n",
       "    </tr>\n",
       "  </tbody>\n",
       "</table>\n",
       "</div>"
      ],
      "text/plain": [
       "   user_id  count\n",
       "0  20646    36   \n",
       "1  14728    36   \n",
       "2  27163    29   \n",
       "3  41158    24   \n",
       "4  24820    23   \n",
       "5  9345     23   \n",
       "6  3241     23   \n",
       "7  44330    20   \n",
       "8  38426    19   \n",
       "9  19074    19   "
      ]
     },
     "execution_count": 16,
     "metadata": {},
     "output_type": "execute_result"
    }
   ],
   "source": [
    "get_sql_data(\n",
    "'''\n",
    "SELECT v.user_id,\n",
    "    COUNT(vt.name) AS count\n",
    "FROM stackoverflow.votes AS v\n",
    "JOIN stackoverflow.vote_types AS vt ON v.vote_type_id = vt.id\n",
    "WHERE vt.name = 'Close'\n",
    "GROUP BY v.user_id\n",
    "ORDER BY count desc, v.user_id desc\n",
    "LIMIT 10\n",
    "\n",
    "''')"
   ]
  },
  {
   "cell_type": "markdown",
   "id": "ae261a6a",
   "metadata": {},
   "source": [
    "Максимальное количество 36 голосов типа Close поставил пользователь с id 20646."
   ]
  },
  {
   "cell_type": "markdown",
   "id": "e71c365c",
   "metadata": {},
   "source": [
    "### Отберем 10 пользователей по количеству значков, полученных в период с 15 ноября по 15 декабря 2008 года включительно.\n",
    "Отобразим несколько полей:\n",
    "- идентификатор пользователя;\n",
    "- число значков;\n",
    "- место в рейтинге — чем больше значков, тем выше рейтинг.\n",
    "\n",
    "Пользователям, которые набрали одинаковое количество значков, присвоим одно и то же место в рейтинге.\n",
    "Отсортируем записи по количеству значков по убыванию, а затем по возрастанию значения идентификатора пользователя."
   ]
  },
  {
   "cell_type": "code",
   "execution_count": 17,
   "id": "f950afb0",
   "metadata": {},
   "outputs": [
    {
     "data": {
      "text/html": [
       "<div>\n",
       "<style scoped>\n",
       "    .dataframe tbody tr th:only-of-type {\n",
       "        vertical-align: middle;\n",
       "    }\n",
       "\n",
       "    .dataframe tbody tr th {\n",
       "        vertical-align: top;\n",
       "    }\n",
       "\n",
       "    .dataframe thead th {\n",
       "        text-align: right;\n",
       "    }\n",
       "</style>\n",
       "<table border=\"1\" class=\"dataframe\">\n",
       "  <thead>\n",
       "    <tr style=\"text-align: right;\">\n",
       "      <th></th>\n",
       "      <th>user_id</th>\n",
       "      <th>count</th>\n",
       "      <th>dense_rank</th>\n",
       "    </tr>\n",
       "  </thead>\n",
       "  <tbody>\n",
       "    <tr>\n",
       "      <th>0</th>\n",
       "      <td>22656</td>\n",
       "      <td>149</td>\n",
       "      <td>1</td>\n",
       "    </tr>\n",
       "    <tr>\n",
       "      <th>1</th>\n",
       "      <td>34509</td>\n",
       "      <td>45</td>\n",
       "      <td>2</td>\n",
       "    </tr>\n",
       "    <tr>\n",
       "      <th>2</th>\n",
       "      <td>1288</td>\n",
       "      <td>40</td>\n",
       "      <td>3</td>\n",
       "    </tr>\n",
       "    <tr>\n",
       "      <th>3</th>\n",
       "      <td>5190</td>\n",
       "      <td>31</td>\n",
       "      <td>4</td>\n",
       "    </tr>\n",
       "    <tr>\n",
       "      <th>4</th>\n",
       "      <td>13913</td>\n",
       "      <td>30</td>\n",
       "      <td>5</td>\n",
       "    </tr>\n",
       "    <tr>\n",
       "      <th>5</th>\n",
       "      <td>893</td>\n",
       "      <td>28</td>\n",
       "      <td>6</td>\n",
       "    </tr>\n",
       "    <tr>\n",
       "      <th>6</th>\n",
       "      <td>10661</td>\n",
       "      <td>28</td>\n",
       "      <td>6</td>\n",
       "    </tr>\n",
       "    <tr>\n",
       "      <th>7</th>\n",
       "      <td>33213</td>\n",
       "      <td>25</td>\n",
       "      <td>7</td>\n",
       "    </tr>\n",
       "    <tr>\n",
       "      <th>8</th>\n",
       "      <td>12950</td>\n",
       "      <td>23</td>\n",
       "      <td>8</td>\n",
       "    </tr>\n",
       "    <tr>\n",
       "      <th>9</th>\n",
       "      <td>25222</td>\n",
       "      <td>20</td>\n",
       "      <td>9</td>\n",
       "    </tr>\n",
       "  </tbody>\n",
       "</table>\n",
       "</div>"
      ],
      "text/plain": [
       "   user_id  count  dense_rank\n",
       "0  22656    149    1         \n",
       "1  34509    45     2         \n",
       "2  1288     40     3         \n",
       "3  5190     31     4         \n",
       "4  13913    30     5         \n",
       "5  893      28     6         \n",
       "6  10661    28     6         \n",
       "7  33213    25     7         \n",
       "8  12950    23     8         \n",
       "9  25222    20     9         "
      ]
     },
     "execution_count": 17,
     "metadata": {},
     "output_type": "execute_result"
    }
   ],
   "source": [
    "get_sql_data(\n",
    "'''\n",
    "WITH i as\n",
    "\n",
    "    (SELECT user_id,\n",
    "        COUNT(name) AS count\n",
    "    FROM stackoverflow.badges\n",
    "    WHERE creation_date::date between '2008-11-15' AND '2008-12-15'\n",
    "    GROUP BY user_id\n",
    "    ORDER BY count desc)\n",
    "    \n",
    "SELECT user_id,\n",
    "    COUNT,\n",
    "    DENSE_RANK() OVER (ORDER BY count desc)\n",
    "FROM i\n",
    "ORDER BY count desc, user_id\n",
    "LIMIT 10\n",
    "\n",
    "''')"
   ]
  },
  {
   "cell_type": "markdown",
   "id": "5ae69ea6",
   "metadata": {},
   "source": [
    "Больше всех значков (149) за установленный период получил пользователь с id 22656."
   ]
  },
  {
   "cell_type": "markdown",
   "id": "d23aceda",
   "metadata": {},
   "source": [
    "### Определим, сколько в среднем очков получает пост каждого пользователя.\n",
    "Сформируем таблицу из следующих полей:\n",
    "- заголовок поста;\n",
    "- идентификатор пользователя;\n",
    "- число очков поста;\n",
    "- среднее число очков пользователя за пост, округлённое до целого числа.\n",
    "\n",
    "Не будем учитывать пост без заголовка, а также те, что набрали ноль очков."
   ]
  },
  {
   "cell_type": "code",
   "execution_count": 18,
   "id": "6b3fcaa2",
   "metadata": {},
   "outputs": [
    {
     "data": {
      "text/html": [
       "<div>\n",
       "<style scoped>\n",
       "    .dataframe tbody tr th:only-of-type {\n",
       "        vertical-align: middle;\n",
       "    }\n",
       "\n",
       "    .dataframe tbody tr th {\n",
       "        vertical-align: top;\n",
       "    }\n",
       "\n",
       "    .dataframe thead th {\n",
       "        text-align: right;\n",
       "    }\n",
       "</style>\n",
       "<table border=\"1\" class=\"dataframe\">\n",
       "  <thead>\n",
       "    <tr style=\"text-align: right;\">\n",
       "      <th></th>\n",
       "      <th>title</th>\n",
       "      <th>user_id</th>\n",
       "      <th>score</th>\n",
       "      <th>avg_score</th>\n",
       "    </tr>\n",
       "  </thead>\n",
       "  <tbody>\n",
       "    <tr>\n",
       "      <th>0</th>\n",
       "      <td>Diagnosing Deadlocks in SQL Server 2005</td>\n",
       "      <td>1</td>\n",
       "      <td>82</td>\n",
       "      <td>573.0</td>\n",
       "    </tr>\n",
       "    <tr>\n",
       "      <th>1</th>\n",
       "      <td>How do I calculate someone's age in C#?</td>\n",
       "      <td>1</td>\n",
       "      <td>1743</td>\n",
       "      <td>573.0</td>\n",
       "    </tr>\n",
       "    <tr>\n",
       "      <th>2</th>\n",
       "      <td>Why doesn't IE7 copy &lt;pre&gt;&lt;code&gt; blocks to the clipboard correctly?</td>\n",
       "      <td>1</td>\n",
       "      <td>37</td>\n",
       "      <td>573.0</td>\n",
       "    </tr>\n",
       "    <tr>\n",
       "      <th>3</th>\n",
       "      <td>Calculate relative time in C#</td>\n",
       "      <td>1</td>\n",
       "      <td>1348</td>\n",
       "      <td>573.0</td>\n",
       "    </tr>\n",
       "    <tr>\n",
       "      <th>4</th>\n",
       "      <td>Wrapping StopWatch timing with a delegate or lambda?</td>\n",
       "      <td>1</td>\n",
       "      <td>92</td>\n",
       "      <td>573.0</td>\n",
       "    </tr>\n",
       "    <tr>\n",
       "      <th>...</th>\n",
       "      <td>...</td>\n",
       "      <td>...</td>\n",
       "      <td>...</td>\n",
       "      <td>...</td>\n",
       "    </tr>\n",
       "    <tr>\n",
       "      <th>47349</th>\n",
       "      <td>Multi-lingual projects in Visual Studio</td>\n",
       "      <td>3742716</td>\n",
       "      <td>1</td>\n",
       "      <td>1.0</td>\n",
       "    </tr>\n",
       "    <tr>\n",
       "      <th>47350</th>\n",
       "      <td>Change datatype when importing Excel file into Access</td>\n",
       "      <td>3930756</td>\n",
       "      <td>5</td>\n",
       "      <td>5.0</td>\n",
       "    </tr>\n",
       "    <tr>\n",
       "      <th>47351</th>\n",
       "      <td>How to host a Silverlight app in a Sharepoint 2007 Web Part</td>\n",
       "      <td>4020932</td>\n",
       "      <td>8</td>\n",
       "      <td>8.0</td>\n",
       "    </tr>\n",
       "    <tr>\n",
       "      <th>47352</th>\n",
       "      <td>Getting counts for a paged SQL search stored procedure</td>\n",
       "      <td>5696608</td>\n",
       "      <td>2</td>\n",
       "      <td>2.0</td>\n",
       "    </tr>\n",
       "    <tr>\n",
       "      <th>47353</th>\n",
       "      <td>Reuse of SQL stored procedures across applications</td>\n",
       "      <td>5696608</td>\n",
       "      <td>2</td>\n",
       "      <td>2.0</td>\n",
       "    </tr>\n",
       "  </tbody>\n",
       "</table>\n",
       "<p>47354 rows × 4 columns</p>\n",
       "</div>"
      ],
      "text/plain": [
       "                                                                     title  \\\n",
       "0      Diagnosing Deadlocks in SQL Server 2005                               \n",
       "1      How do I calculate someone's age in C#?                               \n",
       "2      Why doesn't IE7 copy <pre><code> blocks to the clipboard correctly?   \n",
       "3      Calculate relative time in C#                                         \n",
       "4      Wrapping StopWatch timing with a delegate or lambda?                  \n",
       "...                                                     ...                  \n",
       "47349  Multi-lingual projects in Visual Studio                               \n",
       "47350  Change datatype when importing Excel file into Access                 \n",
       "47351  How to host a Silverlight app in a Sharepoint 2007 Web Part           \n",
       "47352  Getting counts for a paged SQL search stored procedure                \n",
       "47353  Reuse of SQL stored procedures across applications                    \n",
       "\n",
       "       user_id  score  avg_score  \n",
       "0      1        82     573.0      \n",
       "1      1        1743   573.0      \n",
       "2      1        37     573.0      \n",
       "3      1        1348   573.0      \n",
       "4      1        92     573.0      \n",
       "...   ..        ..       ...      \n",
       "47349  3742716  1      1.0        \n",
       "47350  3930756  5      5.0        \n",
       "47351  4020932  8      8.0        \n",
       "47352  5696608  2      2.0        \n",
       "47353  5696608  2      2.0        \n",
       "\n",
       "[47354 rows x 4 columns]"
      ]
     },
     "execution_count": 18,
     "metadata": {},
     "output_type": "execute_result"
    }
   ],
   "source": [
    "get_sql_data(\n",
    "'''\n",
    "SELECT\n",
    "    title,\n",
    "    user_id,\n",
    "    score,\n",
    "    ROUND(AVG(score) OVER (PARTITION BY user_id)) AS avg_score\n",
    "FROM stackoverflow.posts\n",
    "WHERE title IS NOT NULL AND\n",
    "       score != 0\n",
    "\n",
    "''')"
   ]
  },
  {
   "cell_type": "markdown",
   "id": "2c067479",
   "metadata": {},
   "source": [
    "В столбце *avg_score* содержится среднее количество очков у пользователя за посты"
   ]
  },
  {
   "cell_type": "markdown",
   "id": "7f703e72",
   "metadata": {},
   "source": [
    "### Отобразим заголовки постов, которые были написаны пользователями, получившими более 1000 значков. Посты без заголовков исключим из списка.\n",
    "Для выполнения запроса используем таблицы с информацией о пользователях и о значках."
   ]
  },
  {
   "cell_type": "code",
   "execution_count": 19,
   "id": "2585753a",
   "metadata": {},
   "outputs": [
    {
     "data": {
      "text/html": [
       "<div>\n",
       "<style scoped>\n",
       "    .dataframe tbody tr th:only-of-type {\n",
       "        vertical-align: middle;\n",
       "    }\n",
       "\n",
       "    .dataframe tbody tr th {\n",
       "        vertical-align: top;\n",
       "    }\n",
       "\n",
       "    .dataframe thead th {\n",
       "        text-align: right;\n",
       "    }\n",
       "</style>\n",
       "<table border=\"1\" class=\"dataframe\">\n",
       "  <thead>\n",
       "    <tr style=\"text-align: right;\">\n",
       "      <th></th>\n",
       "      <th>title</th>\n",
       "    </tr>\n",
       "  </thead>\n",
       "  <tbody>\n",
       "    <tr>\n",
       "      <th>0</th>\n",
       "      <td>What's the strangest corner case you've seen in C# or .NET?</td>\n",
       "    </tr>\n",
       "    <tr>\n",
       "      <th>1</th>\n",
       "      <td>What's the hardest or most misunderstood aspect of LINQ?</td>\n",
       "    </tr>\n",
       "    <tr>\n",
       "      <th>2</th>\n",
       "      <td>What are the correct version numbers for C#?</td>\n",
       "    </tr>\n",
       "    <tr>\n",
       "      <th>3</th>\n",
       "      <td>Project management to go with GitHub</td>\n",
       "    </tr>\n",
       "  </tbody>\n",
       "</table>\n",
       "</div>"
      ],
      "text/plain": [
       "                                                         title\n",
       "0  What's the strangest corner case you've seen in C# or .NET?\n",
       "1  What's the hardest or most misunderstood aspect of LINQ?   \n",
       "2  What are the correct version numbers for C#?               \n",
       "3  Project management to go with GitHub                       "
      ]
     },
     "execution_count": 19,
     "metadata": {},
     "output_type": "execute_result"
    }
   ],
   "source": [
    "get_sql_data(\n",
    "'''\n",
    "SELECT title\n",
    "FROM stackoverflow.posts AS p\n",
    "WHERE user_id IN \n",
    "   (SELECT b.user_id\n",
    "    FROM stackoverflow.users AS u\n",
    "    JOIN stackoverflow.badges AS b ON u.id = b.user_id\n",
    "    GROUP BY b.user_id\n",
    "    HAVING COUNT(name) > 1000)\n",
    "AND title IS NOT NULL\n",
    "\n",
    "''')"
   ]
  },
  {
   "cell_type": "markdown",
   "id": "5adb27f2",
   "metadata": {},
   "source": [
    "4 поста написаны пользователями, имеющих более  1 тыс. значков."
   ]
  },
  {
   "cell_type": "markdown",
   "id": "9dfa5aa9",
   "metadata": {},
   "source": [
    "### Выгрузим данные о пользователях из Канады (англ. Canada) и разделим пользователей на три группы в зависимости от количества просмотров их профилей:\n",
    "- пользователям с числом просмотров больше либо равным 350 присвоим группу 1;\n",
    "- пользователям с числом просмотров меньше 350, но больше либо равно 100 — группу 2;\n",
    "- пользователям с числом просмотров меньше 100 — группу 3.\n",
    "\n",
    "Отобразим в итоговой таблице идентификатор пользователя, количество просмотров профиля и группу. Пользователи с количеством просмотров меньше либо равным нулю исключим из итоговой таблицы."
   ]
  },
  {
   "cell_type": "code",
   "execution_count": 20,
   "id": "64e68225",
   "metadata": {},
   "outputs": [
    {
     "data": {
      "text/html": [
       "<div>\n",
       "<style scoped>\n",
       "    .dataframe tbody tr th:only-of-type {\n",
       "        vertical-align: middle;\n",
       "    }\n",
       "\n",
       "    .dataframe tbody tr th {\n",
       "        vertical-align: top;\n",
       "    }\n",
       "\n",
       "    .dataframe thead th {\n",
       "        text-align: right;\n",
       "    }\n",
       "</style>\n",
       "<table border=\"1\" class=\"dataframe\">\n",
       "  <thead>\n",
       "    <tr style=\"text-align: right;\">\n",
       "      <th></th>\n",
       "      <th>id</th>\n",
       "      <th>views</th>\n",
       "      <th>case</th>\n",
       "    </tr>\n",
       "  </thead>\n",
       "  <tbody>\n",
       "    <tr>\n",
       "      <th>0</th>\n",
       "      <td>22</td>\n",
       "      <td>1079</td>\n",
       "      <td>1</td>\n",
       "    </tr>\n",
       "    <tr>\n",
       "      <th>1</th>\n",
       "      <td>34</td>\n",
       "      <td>1707</td>\n",
       "      <td>1</td>\n",
       "    </tr>\n",
       "    <tr>\n",
       "      <th>2</th>\n",
       "      <td>37</td>\n",
       "      <td>757</td>\n",
       "      <td>1</td>\n",
       "    </tr>\n",
       "    <tr>\n",
       "      <th>3</th>\n",
       "      <td>41</td>\n",
       "      <td>174</td>\n",
       "      <td>2</td>\n",
       "    </tr>\n",
       "    <tr>\n",
       "      <th>4</th>\n",
       "      <td>42</td>\n",
       "      <td>1063</td>\n",
       "      <td>1</td>\n",
       "    </tr>\n",
       "    <tr>\n",
       "      <th>...</th>\n",
       "      <td>...</td>\n",
       "      <td>...</td>\n",
       "      <td>...</td>\n",
       "    </tr>\n",
       "    <tr>\n",
       "      <th>832</th>\n",
       "      <td>431315</td>\n",
       "      <td>103</td>\n",
       "      <td>2</td>\n",
       "    </tr>\n",
       "    <tr>\n",
       "      <th>833</th>\n",
       "      <td>266220</td>\n",
       "      <td>13</td>\n",
       "      <td>3</td>\n",
       "    </tr>\n",
       "    <tr>\n",
       "      <th>834</th>\n",
       "      <td>474548</td>\n",
       "      <td>24</td>\n",
       "      <td>3</td>\n",
       "    </tr>\n",
       "    <tr>\n",
       "      <th>835</th>\n",
       "      <td>455635</td>\n",
       "      <td>17</td>\n",
       "      <td>3</td>\n",
       "    </tr>\n",
       "    <tr>\n",
       "      <th>836</th>\n",
       "      <td>476101</td>\n",
       "      <td>107</td>\n",
       "      <td>2</td>\n",
       "    </tr>\n",
       "  </tbody>\n",
       "</table>\n",
       "<p>837 rows × 3 columns</p>\n",
       "</div>"
      ],
      "text/plain": [
       "         id  views  case\n",
       "0    22      1079   1   \n",
       "1    34      1707   1   \n",
       "2    37      757    1   \n",
       "3    41      174    2   \n",
       "4    42      1063   1   \n",
       "..   ..       ...  ..   \n",
       "832  431315  103    2   \n",
       "833  266220  13     3   \n",
       "834  474548  24     3   \n",
       "835  455635  17     3   \n",
       "836  476101  107    2   \n",
       "\n",
       "[837 rows x 3 columns]"
      ]
     },
     "execution_count": 20,
     "metadata": {},
     "output_type": "execute_result"
    }
   ],
   "source": [
    "get_sql_data(\n",
    "'''\n",
    "SELECT \n",
    "    id,\n",
    "    views,\n",
    "    CASE\n",
    "        WHEN views >= 350 THEN 1\n",
    "        WHEN views >= 100 AND views < 350 THEN 2\n",
    "        WHEN views < 100 THEN 3\n",
    "     END\n",
    "FROM stackoverflow.users\n",
    "WHERE location LIKE '%Canada%' AND views != 0\n",
    "\n",
    "''')"
   ]
  },
  {
   "cell_type": "markdown",
   "id": "04960aed",
   "metadata": {},
   "source": [
    "Из Канады, согласно условиям выгрузки, 837 пользователей, это около 3.5% от всех пользователей."
   ]
  },
  {
   "cell_type": "markdown",
   "id": "e8c6e1cb",
   "metadata": {},
   "source": [
    "### Дополним предыдущий запрос. Отобразим лидеров каждой группы  — \n",
    "пользователей, которые набрали максимальное число просмотров в своей группе. Выведем поля с идентификатором пользователя, группой и количеством просмотров. Отсортируем таблицу по убыванию просмотров, а затем по возрастанию значения идентификатора."
   ]
  },
  {
   "cell_type": "code",
   "execution_count": 21,
   "id": "a61fb2fa",
   "metadata": {},
   "outputs": [
    {
     "data": {
      "text/html": [
       "<div>\n",
       "<style scoped>\n",
       "    .dataframe tbody tr th:only-of-type {\n",
       "        vertical-align: middle;\n",
       "    }\n",
       "\n",
       "    .dataframe tbody tr th {\n",
       "        vertical-align: top;\n",
       "    }\n",
       "\n",
       "    .dataframe thead th {\n",
       "        text-align: right;\n",
       "    }\n",
       "</style>\n",
       "<table border=\"1\" class=\"dataframe\">\n",
       "  <thead>\n",
       "    <tr style=\"text-align: right;\">\n",
       "      <th></th>\n",
       "      <th>id</th>\n",
       "      <th>rang</th>\n",
       "      <th>views</th>\n",
       "    </tr>\n",
       "  </thead>\n",
       "  <tbody>\n",
       "    <tr>\n",
       "      <th>0</th>\n",
       "      <td>3153</td>\n",
       "      <td>1</td>\n",
       "      <td>21991</td>\n",
       "    </tr>\n",
       "    <tr>\n",
       "      <th>1</th>\n",
       "      <td>46981</td>\n",
       "      <td>2</td>\n",
       "      <td>349</td>\n",
       "    </tr>\n",
       "    <tr>\n",
       "      <th>2</th>\n",
       "      <td>3444</td>\n",
       "      <td>3</td>\n",
       "      <td>99</td>\n",
       "    </tr>\n",
       "    <tr>\n",
       "      <th>3</th>\n",
       "      <td>22273</td>\n",
       "      <td>3</td>\n",
       "      <td>99</td>\n",
       "    </tr>\n",
       "    <tr>\n",
       "      <th>4</th>\n",
       "      <td>190298</td>\n",
       "      <td>3</td>\n",
       "      <td>99</td>\n",
       "    </tr>\n",
       "  </tbody>\n",
       "</table>\n",
       "</div>"
      ],
      "text/plain": [
       "       id  rang  views\n",
       "0  3153    1     21991\n",
       "1  46981   2     349  \n",
       "2  3444    3     99   \n",
       "3  22273   3     99   \n",
       "4  190298  3     99   "
      ]
     },
     "execution_count": 21,
     "metadata": {},
     "output_type": "execute_result"
    }
   ],
   "source": [
    "get_sql_data(\n",
    "'''\n",
    "WITH i AS \n",
    "    (SELECT \n",
    "        id,\n",
    "        views,\n",
    "        CASE\n",
    "            WHEN views >= 350 THEN 1\n",
    "            WHEN views >= 100 and views < 350 THEN 2\n",
    "            WHEN views < 100 THEN 3\n",
    "         END AS rang\n",
    "    FROM stackoverflow.users\n",
    "    WHERE location LIKE '%Canada%' AND views != 0),\n",
    "j AS\n",
    "    (SELECT *,\n",
    "        MAX(views) OVER (PARTITION BY rang) AS max_views\n",
    "    FROM i)\n",
    "    \n",
    "SELECT\n",
    "    id,\n",
    "    rang,\n",
    "    views\n",
    "FROM j\n",
    "WHERE views = max_views\n",
    "ORDER BY views DESC, id\n",
    "\n",
    "''')"
   ]
  },
  {
   "cell_type": "markdown",
   "id": "2f92d692",
   "metadata": {},
   "source": [
    "Из Канады в 1-й и 2-й группах по одному лидеру, в 3-й группе 3 пользователя с максимальным числом просмотров. Максимальное количество просмотров у пользователя 3153."
   ]
  },
  {
   "cell_type": "markdown",
   "id": "3a20d428",
   "metadata": {},
   "source": [
    "### Посчитаем ежедневный прирост новых пользователей в ноябре 2008 года. Сформируем таблицу с полями:\n",
    "- номер дня;\n",
    "- число пользователей, зарегистрированных в этот день;\n",
    "- сумму пользователей с накоплением."
   ]
  },
  {
   "cell_type": "code",
   "execution_count": 22,
   "id": "060bd8ef",
   "metadata": {},
   "outputs": [
    {
     "data": {
      "text/html": [
       "<div>\n",
       "<style scoped>\n",
       "    .dataframe tbody tr th:only-of-type {\n",
       "        vertical-align: middle;\n",
       "    }\n",
       "\n",
       "    .dataframe tbody tr th {\n",
       "        vertical-align: top;\n",
       "    }\n",
       "\n",
       "    .dataframe thead th {\n",
       "        text-align: right;\n",
       "    }\n",
       "</style>\n",
       "<table border=\"1\" class=\"dataframe\">\n",
       "  <thead>\n",
       "    <tr style=\"text-align: right;\">\n",
       "      <th></th>\n",
       "      <th>day</th>\n",
       "      <th>users_in_day</th>\n",
       "      <th>sum</th>\n",
       "    </tr>\n",
       "  </thead>\n",
       "  <tbody>\n",
       "    <tr>\n",
       "      <th>0</th>\n",
       "      <td>1.0</td>\n",
       "      <td>34</td>\n",
       "      <td>34.0</td>\n",
       "    </tr>\n",
       "    <tr>\n",
       "      <th>1</th>\n",
       "      <td>2.0</td>\n",
       "      <td>48</td>\n",
       "      <td>82.0</td>\n",
       "    </tr>\n",
       "    <tr>\n",
       "      <th>2</th>\n",
       "      <td>3.0</td>\n",
       "      <td>75</td>\n",
       "      <td>157.0</td>\n",
       "    </tr>\n",
       "    <tr>\n",
       "      <th>3</th>\n",
       "      <td>4.0</td>\n",
       "      <td>192</td>\n",
       "      <td>349.0</td>\n",
       "    </tr>\n",
       "    <tr>\n",
       "      <th>4</th>\n",
       "      <td>5.0</td>\n",
       "      <td>122</td>\n",
       "      <td>471.0</td>\n",
       "    </tr>\n",
       "    <tr>\n",
       "      <th>5</th>\n",
       "      <td>6.0</td>\n",
       "      <td>132</td>\n",
       "      <td>603.0</td>\n",
       "    </tr>\n",
       "    <tr>\n",
       "      <th>6</th>\n",
       "      <td>7.0</td>\n",
       "      <td>104</td>\n",
       "      <td>707.0</td>\n",
       "    </tr>\n",
       "    <tr>\n",
       "      <th>7</th>\n",
       "      <td>8.0</td>\n",
       "      <td>42</td>\n",
       "      <td>749.0</td>\n",
       "    </tr>\n",
       "    <tr>\n",
       "      <th>8</th>\n",
       "      <td>9.0</td>\n",
       "      <td>45</td>\n",
       "      <td>794.0</td>\n",
       "    </tr>\n",
       "    <tr>\n",
       "      <th>9</th>\n",
       "      <td>10.0</td>\n",
       "      <td>93</td>\n",
       "      <td>887.0</td>\n",
       "    </tr>\n",
       "    <tr>\n",
       "      <th>10</th>\n",
       "      <td>11.0</td>\n",
       "      <td>113</td>\n",
       "      <td>1000.0</td>\n",
       "    </tr>\n",
       "    <tr>\n",
       "      <th>11</th>\n",
       "      <td>12.0</td>\n",
       "      <td>113</td>\n",
       "      <td>1113.0</td>\n",
       "    </tr>\n",
       "    <tr>\n",
       "      <th>12</th>\n",
       "      <td>13.0</td>\n",
       "      <td>96</td>\n",
       "      <td>1209.0</td>\n",
       "    </tr>\n",
       "    <tr>\n",
       "      <th>13</th>\n",
       "      <td>14.0</td>\n",
       "      <td>89</td>\n",
       "      <td>1298.0</td>\n",
       "    </tr>\n",
       "    <tr>\n",
       "      <th>14</th>\n",
       "      <td>15.0</td>\n",
       "      <td>42</td>\n",
       "      <td>1340.0</td>\n",
       "    </tr>\n",
       "    <tr>\n",
       "      <th>15</th>\n",
       "      <td>16.0</td>\n",
       "      <td>32</td>\n",
       "      <td>1372.0</td>\n",
       "    </tr>\n",
       "    <tr>\n",
       "      <th>16</th>\n",
       "      <td>17.0</td>\n",
       "      <td>84</td>\n",
       "      <td>1456.0</td>\n",
       "    </tr>\n",
       "    <tr>\n",
       "      <th>17</th>\n",
       "      <td>18.0</td>\n",
       "      <td>89</td>\n",
       "      <td>1545.0</td>\n",
       "    </tr>\n",
       "    <tr>\n",
       "      <th>18</th>\n",
       "      <td>19.0</td>\n",
       "      <td>107</td>\n",
       "      <td>1652.0</td>\n",
       "    </tr>\n",
       "    <tr>\n",
       "      <th>19</th>\n",
       "      <td>20.0</td>\n",
       "      <td>95</td>\n",
       "      <td>1747.0</td>\n",
       "    </tr>\n",
       "    <tr>\n",
       "      <th>20</th>\n",
       "      <td>21.0</td>\n",
       "      <td>81</td>\n",
       "      <td>1828.0</td>\n",
       "    </tr>\n",
       "    <tr>\n",
       "      <th>21</th>\n",
       "      <td>22.0</td>\n",
       "      <td>40</td>\n",
       "      <td>1868.0</td>\n",
       "    </tr>\n",
       "    <tr>\n",
       "      <th>22</th>\n",
       "      <td>23.0</td>\n",
       "      <td>50</td>\n",
       "      <td>1918.0</td>\n",
       "    </tr>\n",
       "    <tr>\n",
       "      <th>23</th>\n",
       "      <td>24.0</td>\n",
       "      <td>84</td>\n",
       "      <td>2002.0</td>\n",
       "    </tr>\n",
       "    <tr>\n",
       "      <th>24</th>\n",
       "      <td>25.0</td>\n",
       "      <td>104</td>\n",
       "      <td>2106.0</td>\n",
       "    </tr>\n",
       "    <tr>\n",
       "      <th>25</th>\n",
       "      <td>26.0</td>\n",
       "      <td>98</td>\n",
       "      <td>2204.0</td>\n",
       "    </tr>\n",
       "    <tr>\n",
       "      <th>26</th>\n",
       "      <td>27.0</td>\n",
       "      <td>71</td>\n",
       "      <td>2275.0</td>\n",
       "    </tr>\n",
       "    <tr>\n",
       "      <th>27</th>\n",
       "      <td>28.0</td>\n",
       "      <td>56</td>\n",
       "      <td>2331.0</td>\n",
       "    </tr>\n",
       "    <tr>\n",
       "      <th>28</th>\n",
       "      <td>29.0</td>\n",
       "      <td>44</td>\n",
       "      <td>2375.0</td>\n",
       "    </tr>\n",
       "    <tr>\n",
       "      <th>29</th>\n",
       "      <td>30.0</td>\n",
       "      <td>33</td>\n",
       "      <td>2408.0</td>\n",
       "    </tr>\n",
       "  </tbody>\n",
       "</table>\n",
       "</div>"
      ],
      "text/plain": [
       "     day  users_in_day     sum\n",
       "0   1.0   34            34.0  \n",
       "1   2.0   48            82.0  \n",
       "2   3.0   75            157.0 \n",
       "3   4.0   192           349.0 \n",
       "4   5.0   122           471.0 \n",
       "5   6.0   132           603.0 \n",
       "6   7.0   104           707.0 \n",
       "7   8.0   42            749.0 \n",
       "8   9.0   45            794.0 \n",
       "9   10.0  93            887.0 \n",
       "10  11.0  113           1000.0\n",
       "11  12.0  113           1113.0\n",
       "12  13.0  96            1209.0\n",
       "13  14.0  89            1298.0\n",
       "14  15.0  42            1340.0\n",
       "15  16.0  32            1372.0\n",
       "16  17.0  84            1456.0\n",
       "17  18.0  89            1545.0\n",
       "18  19.0  107           1652.0\n",
       "19  20.0  95            1747.0\n",
       "20  21.0  81            1828.0\n",
       "21  22.0  40            1868.0\n",
       "22  23.0  50            1918.0\n",
       "23  24.0  84            2002.0\n",
       "24  25.0  104           2106.0\n",
       "25  26.0  98            2204.0\n",
       "26  27.0  71            2275.0\n",
       "27  28.0  56            2331.0\n",
       "28  29.0  44            2375.0\n",
       "29  30.0  33            2408.0"
      ]
     },
     "execution_count": 22,
     "metadata": {},
     "output_type": "execute_result"
    }
   ],
   "source": [
    "get_sql_data(\n",
    "'''\n",
    "SELECT  \n",
    "    EXTRACT(day FROM CAST(creation_date AS timestamp)) AS day,\n",
    "    COUNT(DISTINCT id) AS users_in_day,\n",
    "    SUM(COUNT(DISTINCT id)) OVER (ORDER BY EXTRACT(day FROM CAST(creation_date AS timestamp)))\n",
    "FROM stackoverflow.users\n",
    "WHERE CAST(DATE_TRUNC('month', creation_date) AS date) = '2008-11-01'\n",
    "GROUP BY day\n",
    "ORDER BY day\n",
    "\n",
    "''')"
   ]
  },
  {
   "cell_type": "markdown",
   "id": "742a057b",
   "metadata": {},
   "source": [
    "Минимальное количество пользователей в ноябре 2008 года регистрировались 1, 15 и 30 числа (32-34 новых пользователей). Больше всего пользователей зарегистрировано 4 ноября (192)."
   ]
  },
  {
   "cell_type": "markdown",
   "id": "c69fc7f3",
   "metadata": {},
   "source": [
    "### Для каждого пользователя, который написал хотя бы один пост, найдем интервал между регистрацией и временем создания первого поста. \n",
    "Отобразим:\n",
    "- идентификатор пользователя;\n",
    "- разницу во времени между регистрацией и первым постом.\n",
    "\n",
    "Для выполнения запроса используем данные из таблиц о пользователях и постах."
   ]
  },
  {
   "cell_type": "code",
   "execution_count": 23,
   "id": "dafc4935",
   "metadata": {},
   "outputs": [
    {
     "data": {
      "text/html": [
       "<div>\n",
       "<style scoped>\n",
       "    .dataframe tbody tr th:only-of-type {\n",
       "        vertical-align: middle;\n",
       "    }\n",
       "\n",
       "    .dataframe tbody tr th {\n",
       "        vertical-align: top;\n",
       "    }\n",
       "\n",
       "    .dataframe thead th {\n",
       "        text-align: right;\n",
       "    }\n",
       "</style>\n",
       "<table border=\"1\" class=\"dataframe\">\n",
       "  <thead>\n",
       "    <tr style=\"text-align: right;\">\n",
       "      <th></th>\n",
       "      <th>user_id</th>\n",
       "      <th>time_dt</th>\n",
       "    </tr>\n",
       "  </thead>\n",
       "  <tbody>\n",
       "    <tr>\n",
       "      <th>0</th>\n",
       "      <td>27088</td>\n",
       "      <td>22 days 10:32:25</td>\n",
       "    </tr>\n",
       "    <tr>\n",
       "      <th>1</th>\n",
       "      <td>4666</td>\n",
       "      <td>4 days 13:51:01</td>\n",
       "    </tr>\n",
       "    <tr>\n",
       "      <th>2</th>\n",
       "      <td>43473</td>\n",
       "      <td>0 days 00:00:00</td>\n",
       "    </tr>\n",
       "    <tr>\n",
       "      <th>3</th>\n",
       "      <td>761503</td>\n",
       "      <td>0 days 00:00:00</td>\n",
       "    </tr>\n",
       "    <tr>\n",
       "      <th>4</th>\n",
       "      <td>9293</td>\n",
       "      <td>8 days 00:39:24</td>\n",
       "    </tr>\n",
       "    <tr>\n",
       "      <th>...</th>\n",
       "      <td>...</td>\n",
       "      <td>...</td>\n",
       "    </tr>\n",
       "    <tr>\n",
       "      <th>18844</th>\n",
       "      <td>34508</td>\n",
       "      <td>34 days 19:26:31</td>\n",
       "    </tr>\n",
       "    <tr>\n",
       "      <th>18845</th>\n",
       "      <td>18334</td>\n",
       "      <td>6 days 14:36:26</td>\n",
       "    </tr>\n",
       "    <tr>\n",
       "      <th>18846</th>\n",
       "      <td>4014</td>\n",
       "      <td>42 days 04:46:18</td>\n",
       "    </tr>\n",
       "    <tr>\n",
       "      <th>18847</th>\n",
       "      <td>1658</td>\n",
       "      <td>1 days 14:20:32</td>\n",
       "    </tr>\n",
       "    <tr>\n",
       "      <th>18848</th>\n",
       "      <td>21606</td>\n",
       "      <td>0 days 00:26:02</td>\n",
       "    </tr>\n",
       "  </tbody>\n",
       "</table>\n",
       "<p>18849 rows × 2 columns</p>\n",
       "</div>"
      ],
      "text/plain": [
       "       user_id          time_dt\n",
       "0      27088   22 days 10:32:25\n",
       "1      4666    4 days 13:51:01 \n",
       "2      43473   0 days 00:00:00 \n",
       "3      761503  0 days 00:00:00 \n",
       "4      9293    8 days 00:39:24 \n",
       "...     ...                ... \n",
       "18844  34508   34 days 19:26:31\n",
       "18845  18334   6 days 14:36:26 \n",
       "18846  4014    42 days 04:46:18\n",
       "18847  1658    1 days 14:20:32 \n",
       "18848  21606   0 days 00:26:02 \n",
       "\n",
       "[18849 rows x 2 columns]"
      ]
     },
     "execution_count": 23,
     "metadata": {},
     "output_type": "execute_result"
    }
   ],
   "source": [
    "get_sql_data(\n",
    "'''\n",
    "SELECT\n",
    "    DISTINCT p.user_id,\n",
    "    (MIN(p.creation_date) OVER (PARTITION BY p.user_id) - u.creation_date) AS time_dt\n",
    "FROM stackoverflow.posts AS p\n",
    "JOIN stackoverflow.users AS u ON p.user_id = u.id\n",
    "\n",
    "''')"
   ]
  },
  {
   "cell_type": "markdown",
   "id": "7084a1dc",
   "metadata": {},
   "source": [
    "В столбце *time_dt* отразили интервал между датой регистрации и датой создания первого поста. Всего публиковали посты 18849 пользователей из общего количества пользователей (24044), что составляет 78.39%."
   ]
  },
  {
   "cell_type": "markdown",
   "id": "06a186a2",
   "metadata": {},
   "source": [
    "### Выведем общую сумму просмотров у постов, опубликованных в каждый месяц 2008 года. \n",
    "Если данных за какой-либо месяц в базе нет, такой месяц пропустим. Результат отсортируем по убыванию общего количества просмотров."
   ]
  },
  {
   "cell_type": "code",
   "execution_count": 24,
   "id": "7218a190",
   "metadata": {},
   "outputs": [
    {
     "data": {
      "text/html": [
       "<div>\n",
       "<style scoped>\n",
       "    .dataframe tbody tr th:only-of-type {\n",
       "        vertical-align: middle;\n",
       "    }\n",
       "\n",
       "    .dataframe tbody tr th {\n",
       "        vertical-align: top;\n",
       "    }\n",
       "\n",
       "    .dataframe thead th {\n",
       "        text-align: right;\n",
       "    }\n",
       "</style>\n",
       "<table border=\"1\" class=\"dataframe\">\n",
       "  <thead>\n",
       "    <tr style=\"text-align: right;\">\n",
       "      <th></th>\n",
       "      <th>month</th>\n",
       "      <th>sum_views</th>\n",
       "    </tr>\n",
       "  </thead>\n",
       "  <tbody>\n",
       "    <tr>\n",
       "      <th>0</th>\n",
       "      <td>2008-09-01</td>\n",
       "      <td>452928568</td>\n",
       "    </tr>\n",
       "    <tr>\n",
       "      <th>1</th>\n",
       "      <td>2008-10-01</td>\n",
       "      <td>365400138</td>\n",
       "    </tr>\n",
       "    <tr>\n",
       "      <th>2</th>\n",
       "      <td>2008-11-01</td>\n",
       "      <td>221759651</td>\n",
       "    </tr>\n",
       "    <tr>\n",
       "      <th>3</th>\n",
       "      <td>2008-12-01</td>\n",
       "      <td>197792841</td>\n",
       "    </tr>\n",
       "    <tr>\n",
       "      <th>4</th>\n",
       "      <td>2008-08-01</td>\n",
       "      <td>131367083</td>\n",
       "    </tr>\n",
       "    <tr>\n",
       "      <th>5</th>\n",
       "      <td>2008-07-01</td>\n",
       "      <td>669895</td>\n",
       "    </tr>\n",
       "  </tbody>\n",
       "</table>\n",
       "</div>"
      ],
      "text/plain": [
       "        month  sum_views\n",
       "0  2008-09-01  452928568\n",
       "1  2008-10-01  365400138\n",
       "2  2008-11-01  221759651\n",
       "3  2008-12-01  197792841\n",
       "4  2008-08-01  131367083\n",
       "5  2008-07-01  669895   "
      ]
     },
     "execution_count": 24,
     "metadata": {},
     "output_type": "execute_result"
    }
   ],
   "source": [
    "get_sql_data(\n",
    "'''\n",
    "SELECT\n",
    "    CAST(DATE_TRUNC('month', creation_date) AS date) AS month,\n",
    "    SUM(views_count) AS sum_views\n",
    "FROM stackoverflow.posts\n",
    "WHERE EXTRACT(year FROM creation_date) = '2008'\n",
    "GROUP BY month\n",
    "ORDER BY sum_views DESC\n",
    "\n",
    "''')"
   ]
  },
  {
   "cell_type": "markdown",
   "id": "aa626a4f",
   "metadata": {},
   "source": [
    "Больше всего просмотров у постов, опубликованных в сентябре 2008 года, менее всего просмотров у июльских постов."
   ]
  },
  {
   "cell_type": "markdown",
   "id": "351de677",
   "metadata": {},
   "source": [
    "### Выведем имена самых активных пользователей, которые в первый месяц после регистрации (включая день регистрации) дали больше 100 ответов. \n",
    "Вопросы, которые задавали пользователи, не будем учитывать. Для каждого имени пользователя выведем количество уникальных значений user_id. Отсортируем результат по полю с именами в лексикографическом порядке.\n",
    "\n",
    "Для выполнения запроса понадобятся данные из 3 таблиц:\n",
    "- о постах;\n",
    "- о типах постов;\n",
    "- о пользователях."
   ]
  },
  {
   "cell_type": "code",
   "execution_count": 25,
   "id": "658eef2f",
   "metadata": {},
   "outputs": [
    {
     "data": {
      "text/html": [
       "<div>\n",
       "<style scoped>\n",
       "    .dataframe tbody tr th:only-of-type {\n",
       "        vertical-align: middle;\n",
       "    }\n",
       "\n",
       "    .dataframe tbody tr th {\n",
       "        vertical-align: top;\n",
       "    }\n",
       "\n",
       "    .dataframe thead th {\n",
       "        text-align: right;\n",
       "    }\n",
       "</style>\n",
       "<table border=\"1\" class=\"dataframe\">\n",
       "  <thead>\n",
       "    <tr style=\"text-align: right;\">\n",
       "      <th></th>\n",
       "      <th>display_name</th>\n",
       "      <th>count</th>\n",
       "    </tr>\n",
       "  </thead>\n",
       "  <tbody>\n",
       "    <tr>\n",
       "      <th>0</th>\n",
       "      <td>1800 INFORMATION</td>\n",
       "      <td>1</td>\n",
       "    </tr>\n",
       "    <tr>\n",
       "      <th>1</th>\n",
       "      <td>Adam Bellaire</td>\n",
       "      <td>1</td>\n",
       "    </tr>\n",
       "    <tr>\n",
       "      <th>2</th>\n",
       "      <td>Adam Davis</td>\n",
       "      <td>1</td>\n",
       "    </tr>\n",
       "    <tr>\n",
       "      <th>3</th>\n",
       "      <td>Adam Liss</td>\n",
       "      <td>1</td>\n",
       "    </tr>\n",
       "    <tr>\n",
       "      <th>4</th>\n",
       "      <td>Alan</td>\n",
       "      <td>8</td>\n",
       "    </tr>\n",
       "    <tr>\n",
       "      <th>...</th>\n",
       "      <td>...</td>\n",
       "      <td>...</td>\n",
       "    </tr>\n",
       "    <tr>\n",
       "      <th>74</th>\n",
       "      <td>lomaxx</td>\n",
       "      <td>1</td>\n",
       "    </tr>\n",
       "    <tr>\n",
       "      <th>75</th>\n",
       "      <td>mattlant</td>\n",
       "      <td>1</td>\n",
       "    </tr>\n",
       "    <tr>\n",
       "      <th>76</th>\n",
       "      <td>paxdiablo</td>\n",
       "      <td>1</td>\n",
       "    </tr>\n",
       "    <tr>\n",
       "      <th>77</th>\n",
       "      <td>tvanfosson</td>\n",
       "      <td>1</td>\n",
       "    </tr>\n",
       "    <tr>\n",
       "      <th>78</th>\n",
       "      <td>tzot</td>\n",
       "      <td>1</td>\n",
       "    </tr>\n",
       "  </tbody>\n",
       "</table>\n",
       "<p>79 rows × 2 columns</p>\n",
       "</div>"
      ],
      "text/plain": [
       "        display_name  count\n",
       "0   1800 INFORMATION  1    \n",
       "1   Adam Bellaire     1    \n",
       "2   Adam Davis        1    \n",
       "3   Adam Liss         1    \n",
       "4   Alan              8    \n",
       "..   ...             ..    \n",
       "74  lomaxx            1    \n",
       "75  mattlant          1    \n",
       "76  paxdiablo         1    \n",
       "77  tvanfosson        1    \n",
       "78  tzot              1    \n",
       "\n",
       "[79 rows x 2 columns]"
      ]
     },
     "execution_count": 25,
     "metadata": {},
     "output_type": "execute_result"
    }
   ],
   "source": [
    "get_sql_data(\n",
    "'''\n",
    "SELECT \n",
    "    u.display_name,\n",
    "    COUNT(DISTINCT user_id)\n",
    "FROM stackoverflow.posts AS p\n",
    "JOIN stackoverflow.post_types AS pt ON p.post_type_id=pt.id\n",
    "JOIN stackoverflow.users AS u ON p.user_id = u.id\n",
    "WHERE pt.type = 'Answer' and \n",
    "    (DATE_TRUNC('day', p.creation_date) >= DATE_TRUNC('day', u.creation_date)\n",
    "    AND DATE_TRUNC('day', p.creation_date) <= DATE_TRUNC('day', u.creation_date) + INTERVAL '1 month')\n",
    "GROUP BY u.display_name\n",
    "HAVING count(type) > 100\n",
    "ORDER BY u.display_name\n",
    "\n",
    "''')"
   ]
  },
  {
   "cell_type": "markdown",
   "id": "cd55e2df",
   "metadata": {},
   "source": [
    "В полученной таблице 79 записей. Видим пользователей с неуникальными именами, например, с именем \"Alan\" 8 пользователей."
   ]
  },
  {
   "cell_type": "markdown",
   "id": "8490e14d",
   "metadata": {},
   "source": [
    "### Выведем количество постов за 2008 год по месяцам и отберем посты от пользователей, которые зарегистрировались в сентябре 2008 года и сделали хотя бы один пост в декабре того же года. \n",
    "Отсортируем таблицу по значению месяца по убыванию.\n",
    "\n",
    "Для выполнения запроса нужны данные из таблиц о пользователях и о постах."
   ]
  },
  {
   "cell_type": "code",
   "execution_count": 26,
   "id": "fa143c0d",
   "metadata": {},
   "outputs": [
    {
     "data": {
      "text/html": [
       "<div>\n",
       "<style scoped>\n",
       "    .dataframe tbody tr th:only-of-type {\n",
       "        vertical-align: middle;\n",
       "    }\n",
       "\n",
       "    .dataframe tbody tr th {\n",
       "        vertical-align: top;\n",
       "    }\n",
       "\n",
       "    .dataframe thead th {\n",
       "        text-align: right;\n",
       "    }\n",
       "</style>\n",
       "<table border=\"1\" class=\"dataframe\">\n",
       "  <thead>\n",
       "    <tr style=\"text-align: right;\">\n",
       "      <th></th>\n",
       "      <th>month</th>\n",
       "      <th>count</th>\n",
       "    </tr>\n",
       "  </thead>\n",
       "  <tbody>\n",
       "    <tr>\n",
       "      <th>0</th>\n",
       "      <td>2008-12-01</td>\n",
       "      <td>17641</td>\n",
       "    </tr>\n",
       "    <tr>\n",
       "      <th>1</th>\n",
       "      <td>2008-11-01</td>\n",
       "      <td>18294</td>\n",
       "    </tr>\n",
       "    <tr>\n",
       "      <th>2</th>\n",
       "      <td>2008-10-01</td>\n",
       "      <td>27171</td>\n",
       "    </tr>\n",
       "    <tr>\n",
       "      <th>3</th>\n",
       "      <td>2008-09-01</td>\n",
       "      <td>24870</td>\n",
       "    </tr>\n",
       "    <tr>\n",
       "      <th>4</th>\n",
       "      <td>2008-08-01</td>\n",
       "      <td>32</td>\n",
       "    </tr>\n",
       "  </tbody>\n",
       "</table>\n",
       "</div>"
      ],
      "text/plain": [
       "        month  count\n",
       "0  2008-12-01  17641\n",
       "1  2008-11-01  18294\n",
       "2  2008-10-01  27171\n",
       "3  2008-09-01  24870\n",
       "4  2008-08-01  32   "
      ]
     },
     "execution_count": 26,
     "metadata": {},
     "output_type": "execute_result"
    }
   ],
   "source": [
    "get_sql_data(\n",
    "'''\n",
    "WITH i AS\n",
    "    (SELECT DISTINCT u.id\n",
    "    FROM stackoverflow.users AS u\n",
    "    JOIN stackoverflow.posts AS p ON u.id = p.user_id\n",
    "    WHERE CAST(DATE_TRUNC('month', u.creation_date) AS date) = '2008-09-01' AND\n",
    "        CAST(date_trunc('month', p.creation_date) AS date) = '2008-12-01')\n",
    "        \n",
    "SELECT\n",
    "    CAST(DATE_TRUNC('month', creation_date) AS date) AS month,\n",
    "    COUNT(id)\n",
    "FROM stackoverflow.posts\n",
    "WHERE user_id in (SELECT DISTINCT u.id\n",
    "    FROM stackoverflow.users AS u\n",
    "    JOIN stackoverflow.posts AS p ON u.id = p.user_id\n",
    "    WHERE CAST(DATE_TRUNC('month', u.creation_date) AS date) = '2008-09-01' AND\n",
    "        CAST(DATE_TRUNC('month', p.creation_date) AS date) = '2008-12-01')\n",
    "GROUP BY month\n",
    "ORDER BY month DESC\n",
    "\n",
    "''')"
   ]
  },
  {
   "cell_type": "markdown",
   "id": "01acd0e3",
   "metadata": {},
   "source": [
    "По таблице видим  32 поста в августе от пользователей, зарегистрированных в сентябре. Значит, в данных имеются ошибки."
   ]
  },
  {
   "cell_type": "markdown",
   "id": "0fc76a91",
   "metadata": {},
   "source": [
    "### Используя данные о постах, выведем несколько полей:\n",
    "- идентификатор пользователя, который написал пост;\n",
    "- дата создания поста;\n",
    "- количество просмотров у текущего поста;\n",
    "- сумма просмотров постов автора с накоплением.\n",
    "Данные в таблице отсортируем по возрастанию идентификаторов пользователей, а данные об одном и том же пользователе — по возрастанию даты создания поста."
   ]
  },
  {
   "cell_type": "code",
   "execution_count": 27,
   "id": "eba8baf1",
   "metadata": {},
   "outputs": [
    {
     "data": {
      "text/html": [
       "<div>\n",
       "<style scoped>\n",
       "    .dataframe tbody tr th:only-of-type {\n",
       "        vertical-align: middle;\n",
       "    }\n",
       "\n",
       "    .dataframe tbody tr th {\n",
       "        vertical-align: top;\n",
       "    }\n",
       "\n",
       "    .dataframe thead th {\n",
       "        text-align: right;\n",
       "    }\n",
       "</style>\n",
       "<table border=\"1\" class=\"dataframe\">\n",
       "  <thead>\n",
       "    <tr style=\"text-align: right;\">\n",
       "      <th></th>\n",
       "      <th>user_id</th>\n",
       "      <th>creation_date</th>\n",
       "      <th>views_count</th>\n",
       "      <th>sum_views</th>\n",
       "    </tr>\n",
       "  </thead>\n",
       "  <tbody>\n",
       "    <tr>\n",
       "      <th>0</th>\n",
       "      <td>1</td>\n",
       "      <td>2008-07-31 23:41:00</td>\n",
       "      <td>480476</td>\n",
       "      <td>480476</td>\n",
       "    </tr>\n",
       "    <tr>\n",
       "      <th>1</th>\n",
       "      <td>1</td>\n",
       "      <td>2008-07-31 23:55:38</td>\n",
       "      <td>136033</td>\n",
       "      <td>616509</td>\n",
       "    </tr>\n",
       "    <tr>\n",
       "      <th>2</th>\n",
       "      <td>1</td>\n",
       "      <td>2008-07-31 23:56:41</td>\n",
       "      <td>0</td>\n",
       "      <td>616509</td>\n",
       "    </tr>\n",
       "    <tr>\n",
       "      <th>3</th>\n",
       "      <td>1</td>\n",
       "      <td>2008-08-04 02:45:08</td>\n",
       "      <td>0</td>\n",
       "      <td>616509</td>\n",
       "    </tr>\n",
       "    <tr>\n",
       "      <th>4</th>\n",
       "      <td>1</td>\n",
       "      <td>2008-08-04 04:31:03</td>\n",
       "      <td>0</td>\n",
       "      <td>616509</td>\n",
       "    </tr>\n",
       "    <tr>\n",
       "      <th>...</th>\n",
       "      <td>...</td>\n",
       "      <td>...</td>\n",
       "      <td>...</td>\n",
       "      <td>...</td>\n",
       "    </tr>\n",
       "    <tr>\n",
       "      <th>243791</th>\n",
       "      <td>5696608</td>\n",
       "      <td>2008-12-23 16:00:37</td>\n",
       "      <td>0</td>\n",
       "      <td>2804</td>\n",
       "    </tr>\n",
       "    <tr>\n",
       "      <th>243792</th>\n",
       "      <td>5696608</td>\n",
       "      <td>2008-12-23 17:35:09</td>\n",
       "      <td>0</td>\n",
       "      <td>2804</td>\n",
       "    </tr>\n",
       "    <tr>\n",
       "      <th>243793</th>\n",
       "      <td>5696608</td>\n",
       "      <td>2008-12-24 01:02:48</td>\n",
       "      <td>0</td>\n",
       "      <td>2804</td>\n",
       "    </tr>\n",
       "    <tr>\n",
       "      <th>243794</th>\n",
       "      <td>5696608</td>\n",
       "      <td>2008-12-30 14:34:45</td>\n",
       "      <td>0</td>\n",
       "      <td>2804</td>\n",
       "    </tr>\n",
       "    <tr>\n",
       "      <th>243795</th>\n",
       "      <td>5696608</td>\n",
       "      <td>2008-12-30 16:32:12</td>\n",
       "      <td>0</td>\n",
       "      <td>2804</td>\n",
       "    </tr>\n",
       "  </tbody>\n",
       "</table>\n",
       "<p>243796 rows × 4 columns</p>\n",
       "</div>"
      ],
      "text/plain": [
       "        user_id       creation_date  views_count  sum_views\n",
       "0       1       2008-07-31 23:41:00  480476       480476   \n",
       "1       1       2008-07-31 23:55:38  136033       616509   \n",
       "2       1       2008-07-31 23:56:41  0            616509   \n",
       "3       1       2008-08-04 02:45:08  0            616509   \n",
       "4       1       2008-08-04 04:31:03  0            616509   \n",
       "...    ..                       ... ..               ...   \n",
       "243791  5696608 2008-12-23 16:00:37  0            2804     \n",
       "243792  5696608 2008-12-23 17:35:09  0            2804     \n",
       "243793  5696608 2008-12-24 01:02:48  0            2804     \n",
       "243794  5696608 2008-12-30 14:34:45  0            2804     \n",
       "243795  5696608 2008-12-30 16:32:12  0            2804     \n",
       "\n",
       "[243796 rows x 4 columns]"
      ]
     },
     "execution_count": 27,
     "metadata": {},
     "output_type": "execute_result"
    }
   ],
   "source": [
    "get_sql_data(\n",
    "'''\n",
    "SELECT\n",
    "    user_id,\n",
    "    creation_date,\n",
    "    views_count,\n",
    "    SUM(views_count) OVER (PARTITION BY user_id ORDER BY creation_date) AS sum_views\n",
    "FROM stackoverflow.posts\n",
    "ORDER BY user_id\n",
    "\n",
    "''')"
   ]
  },
  {
   "cell_type": "markdown",
   "id": "315b2d8d",
   "metadata": {},
   "source": [
    "Получили обновленную таблицу о постах каждого автора с накоплением просмотров."
   ]
  },
  {
   "cell_type": "markdown",
   "id": "204786a5",
   "metadata": {},
   "source": [
    "### Определим, сколько в среднем дней в период с 1 по 7 декабря 2008 года включительно пользователи взаимодействовали с платформой? \n",
    "Для каждого пользователя отберем дни, в которые он или она опубликовали хотя бы один пост. Нужно получить одно целое число."
   ]
  },
  {
   "cell_type": "code",
   "execution_count": 28,
   "id": "6ee38561",
   "metadata": {},
   "outputs": [
    {
     "data": {
      "text/html": [
       "<div>\n",
       "<style scoped>\n",
       "    .dataframe tbody tr th:only-of-type {\n",
       "        vertical-align: middle;\n",
       "    }\n",
       "\n",
       "    .dataframe tbody tr th {\n",
       "        vertical-align: top;\n",
       "    }\n",
       "\n",
       "    .dataframe thead th {\n",
       "        text-align: right;\n",
       "    }\n",
       "</style>\n",
       "<table border=\"1\" class=\"dataframe\">\n",
       "  <thead>\n",
       "    <tr style=\"text-align: right;\">\n",
       "      <th></th>\n",
       "      <th>round</th>\n",
       "    </tr>\n",
       "  </thead>\n",
       "  <tbody>\n",
       "    <tr>\n",
       "      <th>0</th>\n",
       "      <td>2.0</td>\n",
       "    </tr>\n",
       "  </tbody>\n",
       "</table>\n",
       "</div>"
      ],
      "text/plain": [
       "   round\n",
       "0  2.0  "
      ]
     },
     "execution_count": 28,
     "metadata": {},
     "output_type": "execute_result"
    }
   ],
   "source": [
    "get_sql_data(\n",
    "'''\n",
    "WITH i AS \n",
    "    (SELECT user_id,\n",
    "        COUNT(DISTINCT CAST(DATE_TRUNC('day', creation_date) AS date)) AS day_act\n",
    "    FROM stackoverflow.posts\n",
    "    WHERE CAST(DATE_TRUNC('day', creation_date) AS date) BETWEEN '2008-12-01' AND '2008-12-07'\n",
    "    GROUP BY user_id)\n",
    "    \n",
    "    \n",
    "SELECT ROUND(AVG(day_act))\n",
    "FROM i\n",
    "\n",
    "''')"
   ]
  },
  {
   "cell_type": "markdown",
   "id": "84b11058",
   "metadata": {},
   "source": [
    "В среднем, с 1 по 7 декабря 2008 года, пользователи взаимодействовали с платформой 2 дня. "
   ]
  },
  {
   "cell_type": "markdown",
   "id": "04171bca",
   "metadata": {},
   "source": [
    "### На сколько процентов менялось количество постов ежемесячно с 1 сентября по 31 декабря 2008 года? Отобразим таблицу со следующими полями:\n",
    "- Номер месяца.\n",
    "- Количество постов за месяц.\n",
    "- Процент, который показывает, насколько изменилось количество постов в текущем месяце по сравнению с предыдущим.\n",
    "\n",
    "Если постов стало меньше, значение процента будем отрицательным, если больше — положительным. Округлим значение процента до двух знаков после запятой."
   ]
  },
  {
   "cell_type": "code",
   "execution_count": 29,
   "id": "c274e863",
   "metadata": {},
   "outputs": [
    {
     "data": {
      "text/html": [
       "<div>\n",
       "<style scoped>\n",
       "    .dataframe tbody tr th:only-of-type {\n",
       "        vertical-align: middle;\n",
       "    }\n",
       "\n",
       "    .dataframe tbody tr th {\n",
       "        vertical-align: top;\n",
       "    }\n",
       "\n",
       "    .dataframe thead th {\n",
       "        text-align: right;\n",
       "    }\n",
       "</style>\n",
       "<table border=\"1\" class=\"dataframe\">\n",
       "  <thead>\n",
       "    <tr style=\"text-align: right;\">\n",
       "      <th></th>\n",
       "      <th>extract</th>\n",
       "      <th>count_posts</th>\n",
       "      <th>percent</th>\n",
       "    </tr>\n",
       "  </thead>\n",
       "  <tbody>\n",
       "    <tr>\n",
       "      <th>0</th>\n",
       "      <td>9.0</td>\n",
       "      <td>70371</td>\n",
       "      <td>NaN</td>\n",
       "    </tr>\n",
       "    <tr>\n",
       "      <th>1</th>\n",
       "      <td>10.0</td>\n",
       "      <td>63102</td>\n",
       "      <td>-10.33</td>\n",
       "    </tr>\n",
       "    <tr>\n",
       "      <th>2</th>\n",
       "      <td>11.0</td>\n",
       "      <td>46975</td>\n",
       "      <td>-25.56</td>\n",
       "    </tr>\n",
       "    <tr>\n",
       "      <th>3</th>\n",
       "      <td>12.0</td>\n",
       "      <td>44592</td>\n",
       "      <td>-5.07</td>\n",
       "    </tr>\n",
       "  </tbody>\n",
       "</table>\n",
       "</div>"
      ],
      "text/plain": [
       "   extract  count_posts  percent\n",
       "0  9.0      70371       NaN     \n",
       "1  10.0     63102       -10.33  \n",
       "2  11.0     46975       -25.56  \n",
       "3  12.0     44592       -5.07   "
      ]
     },
     "execution_count": 29,
     "metadata": {},
     "output_type": "execute_result"
    }
   ],
   "source": [
    "get_sql_data(\n",
    "'''\n",
    "WITH i AS \n",
    "    (SELECT\n",
    "        CAST(DATE_TRUNC('month', creation_date) AS date) AS month,\n",
    "        COUNT(id) AS count_posts\n",
    "    FROM stackoverflow.posts\n",
    "    GROUP BY month\n",
    "    ORDER BY month),\n",
    "\n",
    " j AS \n",
    "    (SELECT *,\n",
    "        LAG(count_posts) OVER () AS pr_count_posts\n",
    "      \n",
    "    FROM i) \n",
    "    \n",
    "SELECT EXTRACT(month FROM month),\n",
    "    count_posts,\n",
    "    ROUND(((count_posts - LAG(count_posts) OVER ())::numeric / LAG(count_posts) OVER ())*100, 2) AS percent\n",
    "FROM i\n",
    "WHERE month > '2008-08-01'\n",
    "\n",
    "''')"
   ]
  },
  {
   "cell_type": "markdown",
   "id": "65fd1b2d",
   "metadata": {},
   "source": [
    "Мы наблюдаем ежемесячное снижение количества постов. Максимальное снижение произошло в ноябре (25.56%)."
   ]
  },
  {
   "cell_type": "markdown",
   "id": "2a6e657b",
   "metadata": {},
   "source": [
    "### Найдем пользователя, который опубликовал больше всего постов за всё время с момента регистрации. Выведем данные его активности за октябрь 2008 года в таком виде:\n",
    "- номер недели;\n",
    "- дата и время последнего поста, опубликованного на этой неделе."
   ]
  },
  {
   "cell_type": "markdown",
   "id": "2fb8f10b",
   "metadata": {},
   "source": [
    "Сначала выведем id этого пользователя и количество его постов:"
   ]
  },
  {
   "cell_type": "code",
   "execution_count": 30,
   "id": "55a273e5",
   "metadata": {},
   "outputs": [
    {
     "data": {
      "text/html": [
       "<div>\n",
       "<style scoped>\n",
       "    .dataframe tbody tr th:only-of-type {\n",
       "        vertical-align: middle;\n",
       "    }\n",
       "\n",
       "    .dataframe tbody tr th {\n",
       "        vertical-align: top;\n",
       "    }\n",
       "\n",
       "    .dataframe thead th {\n",
       "        text-align: right;\n",
       "    }\n",
       "</style>\n",
       "<table border=\"1\" class=\"dataframe\">\n",
       "  <thead>\n",
       "    <tr style=\"text-align: right;\">\n",
       "      <th></th>\n",
       "      <th>user_id</th>\n",
       "      <th>max_posts</th>\n",
       "    </tr>\n",
       "  </thead>\n",
       "  <tbody>\n",
       "    <tr>\n",
       "      <th>0</th>\n",
       "      <td>22656</td>\n",
       "      <td>1174</td>\n",
       "    </tr>\n",
       "  </tbody>\n",
       "</table>\n",
       "</div>"
      ],
      "text/plain": [
       "   user_id  max_posts\n",
       "0  22656    1174     "
      ]
     },
     "execution_count": 30,
     "metadata": {},
     "output_type": "execute_result"
    }
   ],
   "source": [
    "get_sql_data(\n",
    "'''\n",
    "SELECT user_id,\n",
    "       COUNT(id) AS max_posts\n",
    "FROM stackoverflow.posts\n",
    "GROUP BY user_id\n",
    "ORDER BY max_posts DESC\n",
    "LIMIT 1\n",
    "\n",
    "''')"
   ]
  },
  {
   "cell_type": "markdown",
   "id": "a234aae1",
   "metadata": {},
   "source": [
    "И теперь выведем активности этого пользователя за октябрь 2008:"
   ]
  },
  {
   "cell_type": "code",
   "execution_count": 31,
   "id": "3c65b406",
   "metadata": {},
   "outputs": [
    {
     "data": {
      "text/html": [
       "<div>\n",
       "<style scoped>\n",
       "    .dataframe tbody tr th:only-of-type {\n",
       "        vertical-align: middle;\n",
       "    }\n",
       "\n",
       "    .dataframe tbody tr th {\n",
       "        vertical-align: top;\n",
       "    }\n",
       "\n",
       "    .dataframe thead th {\n",
       "        text-align: right;\n",
       "    }\n",
       "</style>\n",
       "<table border=\"1\" class=\"dataframe\">\n",
       "  <thead>\n",
       "    <tr style=\"text-align: right;\">\n",
       "      <th></th>\n",
       "      <th>date_part</th>\n",
       "      <th>dt_last_posts</th>\n",
       "    </tr>\n",
       "  </thead>\n",
       "  <tbody>\n",
       "    <tr>\n",
       "      <th>0</th>\n",
       "      <td>40.0</td>\n",
       "      <td>2008-10-05 09:00:58</td>\n",
       "    </tr>\n",
       "    <tr>\n",
       "      <th>1</th>\n",
       "      <td>41.0</td>\n",
       "      <td>2008-10-12 21:22:23</td>\n",
       "    </tr>\n",
       "    <tr>\n",
       "      <th>2</th>\n",
       "      <td>42.0</td>\n",
       "      <td>2008-10-19 06:49:30</td>\n",
       "    </tr>\n",
       "    <tr>\n",
       "      <th>3</th>\n",
       "      <td>43.0</td>\n",
       "      <td>2008-10-26 21:44:36</td>\n",
       "    </tr>\n",
       "    <tr>\n",
       "      <th>4</th>\n",
       "      <td>44.0</td>\n",
       "      <td>2008-10-31 22:16:01</td>\n",
       "    </tr>\n",
       "  </tbody>\n",
       "</table>\n",
       "</div>"
      ],
      "text/plain": [
       "   date_part       dt_last_posts\n",
       "0  40.0      2008-10-05 09:00:58\n",
       "1  41.0      2008-10-12 21:22:23\n",
       "2  42.0      2008-10-19 06:49:30\n",
       "3  43.0      2008-10-26 21:44:36\n",
       "4  44.0      2008-10-31 22:16:01"
      ]
     },
     "execution_count": 31,
     "metadata": {},
     "output_type": "execute_result"
    }
   ],
   "source": [
    "get_sql_data(\n",
    "'''\n",
    "WITH i AS \n",
    "    (SELECT user_id,\n",
    "        COUNT(id) AS max_posts\n",
    "    FROM stackoverflow.posts\n",
    "    GROUP BY user_id\n",
    "    ORDER BY max_posts DESC\n",
    "    LIMIT 1),\n",
    "\n",
    "j AS \n",
    "    (  \n",
    "    SELECT\n",
    "        EXTRACT(week from creation_date) AS date_part,\n",
    "        creation_date,\n",
    "        MAX(creation_date) OVER (PARTITION BY EXTRACT(week FROM creation_date)) AS dt_last_posts\n",
    "\n",
    "    FROM stackoverflow.posts\n",
    "    WHERE user_id IN (select user_id FROM i) AND\n",
    "        CAST(DATE_TRUNC('month', creation_date ) AS date) = '2008-10-01')\n",
    "    \n",
    "SELECT DISTINCT date_part,\n",
    "    dt_last_posts\n",
    "FROM j\n",
    "ORDER BY date_part\n",
    "\n",
    "''')"
   ]
  },
  {
   "cell_type": "markdown",
   "id": "8d1cd71c",
   "metadata": {},
   "source": [
    "Максимальное количество постов 1174 у пользователя с id 22656, он демонстрирует регулярную еженедельную активность в течение октября 2008."
   ]
  },
  {
   "cell_type": "markdown",
   "id": "b07cc3b4",
   "metadata": {},
   "source": [
    "### Выводы"
   ]
  },
  {
   "cell_type": "markdown",
   "id": "c3e7ca78",
   "metadata": {},
   "source": [
    "- Всего 1355 вопросов, которые набрали более 300 очков или не менее 100 раз были добавлены в \"Закладки\".\n",
    "- 7047 уникальных пользователя получили значки сразу в день регистрации. Это 29.3% от общего количества пользователей.\n",
    "- Максимальное количество 36 голосов типа Close поставил пользователь с id 20646.\n",
    "- С 15 ноября по 15 декабря 2008 года больше всех значков (149) за установленный период получил пользователь с id 22656.\n",
    "- 4 поста написаны пользователями, имеющих более  1 тыс. значков.\n",
    "- Минимальное количество пользователей в ноябре 2008 года регистрировались 1, 15 и 30 числа (32-34 новых пользователей). Больше всего пользователей зарегистрировано 4 ноября (192).\n",
    "- Всего публиковали посты 18849 пользователей из общего количества пользователей (24044), что составляет 78.39%. Максимальное количество постов 1174 у пользователя с id 22656.\n",
    "- Больше всего просмотров у постов, опубликованных в сентябре 2008 года, менее всего просмотров у июльских постов.\n",
    "- Не все имена пользователей являются уникальными.\n",
    "- В данных имеются ошибки, т.к. присутствуют посты в августе 2008 от пользователей, зарегистрированных в сентябре 2008.\n",
    "- В среднем, с 1 по 7 декабря 2008 года, пользователи взаимодействовали с платформой 2 дня. \n",
    "- с 1 сентября по 31 декабря 2008 года мы наблюдаем ежемесячное снижение количества постов от месяца к месяцу. Максимальное снижение произошло в ноябре (25.56%)."
   ]
  },
  {
   "cell_type": "code",
   "execution_count": null,
   "id": "6fbfb818",
   "metadata": {},
   "outputs": [],
   "source": []
  }
 ],
 "metadata": {
  "ExecuteTimeLog": [
   {
    "duration": 518,
    "start_time": "2023-11-05T11:21:27.484Z"
   },
   {
    "duration": 7802,
    "start_time": "2023-11-05T11:21:48.308Z"
   },
   {
    "duration": 4,
    "start_time": "2023-11-05T11:22:15.205Z"
   },
   {
    "duration": 4,
    "start_time": "2023-11-05T11:22:27.380Z"
   },
   {
    "duration": 380,
    "start_time": "2023-11-05T11:23:27.852Z"
   },
   {
    "duration": 2,
    "start_time": "2023-11-05T11:27:58.559Z"
   },
   {
    "duration": 546,
    "start_time": "2023-11-05T11:33:20.360Z"
   },
   {
    "duration": 8076,
    "start_time": "2023-11-05T11:33:20.908Z"
   },
   {
    "duration": 4,
    "start_time": "2023-11-05T11:33:28.986Z"
   },
   {
    "duration": 4,
    "start_time": "2023-11-05T11:33:28.993Z"
   },
   {
    "duration": 2984,
    "start_time": "2023-11-05T11:33:28.999Z"
   },
   {
    "duration": 3397,
    "start_time": "2023-11-05T11:34:29.021Z"
   },
   {
    "duration": 145,
    "start_time": "2023-11-05T11:35:05.369Z"
   },
   {
    "duration": 3442,
    "start_time": "2023-11-05T11:35:08.865Z"
   },
   {
    "duration": 3371,
    "start_time": "2023-11-05T11:35:38.791Z"
   },
   {
    "duration": 405,
    "start_time": "2023-11-05T11:36:05.486Z"
   },
   {
    "duration": 143,
    "start_time": "2023-11-05T11:36:26.904Z"
   },
   {
    "duration": 686,
    "start_time": "2023-11-05T11:36:51.822Z"
   },
   {
    "duration": 66,
    "start_time": "2023-11-05T11:40:35.697Z"
   },
   {
    "duration": 519,
    "start_time": "2023-11-05T11:41:58.592Z"
   },
   {
    "duration": 8546,
    "start_time": "2023-11-05T11:41:59.113Z"
   },
   {
    "duration": 4,
    "start_time": "2023-11-05T11:42:07.660Z"
   },
   {
    "duration": 29,
    "start_time": "2023-11-05T11:42:07.666Z"
   },
   {
    "duration": 3013,
    "start_time": "2023-11-05T11:42:07.697Z"
   },
   {
    "duration": 140,
    "start_time": "2023-11-05T11:42:10.712Z"
   },
   {
    "duration": 3263,
    "start_time": "2023-11-05T11:42:10.854Z"
   },
   {
    "duration": 397,
    "start_time": "2023-11-05T11:42:14.119Z"
   },
   {
    "duration": 144,
    "start_time": "2023-11-05T11:42:14.518Z"
   },
   {
    "duration": 680,
    "start_time": "2023-11-05T11:42:14.665Z"
   },
   {
    "duration": 71,
    "start_time": "2023-11-05T11:48:35.115Z"
   },
   {
    "duration": 71,
    "start_time": "2023-11-05T11:50:00.753Z"
   },
   {
    "duration": 73,
    "start_time": "2023-11-05T11:50:18.116Z"
   },
   {
    "duration": 4,
    "start_time": "2023-11-05T11:52:37.763Z"
   },
   {
    "duration": 69,
    "start_time": "2023-11-05T11:52:48.747Z"
   },
   {
    "duration": 84,
    "start_time": "2023-11-05T11:53:29.544Z"
   },
   {
    "duration": 71,
    "start_time": "2023-11-05T11:54:20.010Z"
   },
   {
    "duration": 80,
    "start_time": "2023-11-05T11:54:20.647Z"
   },
   {
    "duration": 96,
    "start_time": "2023-11-05T11:57:37.226Z"
   },
   {
    "duration": 76,
    "start_time": "2023-11-05T11:58:59.245Z"
   },
   {
    "duration": 51,
    "start_time": "2023-11-05T12:00:46.717Z"
   },
   {
    "duration": 61,
    "start_time": "2023-11-05T12:02:30.340Z"
   },
   {
    "duration": 84,
    "start_time": "2023-11-05T12:03:46.948Z"
   },
   {
    "duration": 352,
    "start_time": "2023-11-05T12:05:29.191Z"
   },
   {
    "duration": 151,
    "start_time": "2023-11-05T12:06:38.950Z"
   },
   {
    "duration": 65,
    "start_time": "2023-11-05T12:07:36.219Z"
   },
   {
    "duration": 55,
    "start_time": "2023-11-05T12:08:44.314Z"
   },
   {
    "duration": 63,
    "start_time": "2023-11-05T12:09:46.734Z"
   },
   {
    "duration": 466,
    "start_time": "2023-11-05T12:10:54.569Z"
   },
   {
    "duration": 114,
    "start_time": "2023-11-05T12:11:59.183Z"
   },
   {
    "duration": 176,
    "start_time": "2023-11-05T12:12:52.949Z"
   },
   {
    "duration": 161,
    "start_time": "2023-11-05T12:13:49.425Z"
   },
   {
    "duration": 1308,
    "start_time": "2023-11-05T12:14:33.662Z"
   },
   {
    "duration": 91,
    "start_time": "2023-11-05T12:15:14.824Z"
   },
   {
    "duration": 156,
    "start_time": "2023-11-05T12:16:00.872Z"
   },
   {
    "duration": 141,
    "start_time": "2023-11-05T12:16:57.052Z"
   },
   {
    "duration": 65,
    "start_time": "2023-11-05T12:23:17.588Z"
   },
   {
    "duration": 162,
    "start_time": "2023-11-05T12:24:26.720Z"
   },
   {
    "duration": 111,
    "start_time": "2023-11-05T12:25:06.113Z"
   },
   {
    "duration": 67,
    "start_time": "2023-11-05T12:29:14.936Z"
   },
   {
    "duration": 150,
    "start_time": "2023-11-05T12:29:31.158Z"
   },
   {
    "duration": 45,
    "start_time": "2023-11-06T17:50:46.772Z"
   },
   {
    "duration": 538,
    "start_time": "2023-11-06T17:50:52.425Z"
   },
   {
    "duration": 9012,
    "start_time": "2023-11-06T17:50:52.964Z"
   },
   {
    "duration": 3,
    "start_time": "2023-11-06T17:51:01.977Z"
   },
   {
    "duration": 14,
    "start_time": "2023-11-06T17:51:01.982Z"
   },
   {
    "duration": 2387,
    "start_time": "2023-11-06T17:51:01.997Z"
   },
   {
    "duration": 146,
    "start_time": "2023-11-06T17:51:04.385Z"
   },
   {
    "duration": 2655,
    "start_time": "2023-11-06T17:51:04.532Z"
   },
   {
    "duration": 350,
    "start_time": "2023-11-06T17:51:07.188Z"
   },
   {
    "duration": 148,
    "start_time": "2023-11-06T17:51:07.540Z"
   },
   {
    "duration": 530,
    "start_time": "2023-11-06T17:51:07.690Z"
   },
   {
    "duration": 71,
    "start_time": "2023-11-06T17:51:08.221Z"
   },
   {
    "duration": 83,
    "start_time": "2023-11-06T17:51:08.293Z"
   },
   {
    "duration": 98,
    "start_time": "2023-11-06T17:51:08.378Z"
   },
   {
    "duration": 76,
    "start_time": "2023-11-06T17:51:08.477Z"
   },
   {
    "duration": 54,
    "start_time": "2023-11-06T17:51:08.555Z"
   },
   {
    "duration": 61,
    "start_time": "2023-11-06T17:51:08.611Z"
   },
   {
    "duration": 85,
    "start_time": "2023-11-06T17:51:08.674Z"
   },
   {
    "duration": 268,
    "start_time": "2023-11-06T17:51:08.760Z"
   },
   {
    "duration": 151,
    "start_time": "2023-11-06T17:51:09.029Z"
   },
   {
    "duration": 57,
    "start_time": "2023-11-06T17:51:09.182Z"
   },
   {
    "duration": 56,
    "start_time": "2023-11-06T17:51:09.241Z"
   },
   {
    "duration": 62,
    "start_time": "2023-11-06T17:51:09.298Z"
   },
   {
    "duration": 387,
    "start_time": "2023-11-06T17:51:09.361Z"
   },
   {
    "duration": 117,
    "start_time": "2023-11-06T17:51:09.749Z"
   },
   {
    "duration": 181,
    "start_time": "2023-11-06T17:51:09.867Z"
   },
   {
    "duration": 166,
    "start_time": "2023-11-06T17:51:10.050Z"
   },
   {
    "duration": 1053,
    "start_time": "2023-11-06T17:51:10.218Z"
   },
   {
    "duration": 81,
    "start_time": "2023-11-06T17:51:11.273Z"
   },
   {
    "duration": 154,
    "start_time": "2023-11-06T17:51:11.356Z"
   },
   {
    "duration": 148,
    "start_time": "2023-11-06T17:51:11.511Z"
   },
   {
    "duration": 146,
    "start_time": "2023-11-06T17:51:11.661Z"
   },
   {
    "duration": 144,
    "start_time": "2023-11-06T17:51:11.808Z"
   },
   {
    "duration": 109,
    "start_time": "2023-11-06T17:51:11.953Z"
   },
   {
    "duration": 488,
    "start_time": "2023-11-06T18:13:24.496Z"
   },
   {
    "duration": 7998,
    "start_time": "2023-11-06T18:13:24.986Z"
   },
   {
    "duration": 4,
    "start_time": "2023-11-06T18:13:32.986Z"
   },
   {
    "duration": 13,
    "start_time": "2023-11-06T18:13:32.992Z"
   },
   {
    "duration": 2510,
    "start_time": "2023-11-06T18:13:33.006Z"
   },
   {
    "duration": 151,
    "start_time": "2023-11-06T18:13:35.518Z"
   },
   {
    "duration": 2981,
    "start_time": "2023-11-06T18:13:35.670Z"
   },
   {
    "duration": 419,
    "start_time": "2023-11-06T18:13:38.652Z"
   },
   {
    "duration": 152,
    "start_time": "2023-11-06T18:13:39.072Z"
   },
   {
    "duration": 590,
    "start_time": "2023-11-06T18:13:39.227Z"
   },
   {
    "duration": 73,
    "start_time": "2023-11-06T18:13:39.819Z"
   },
   {
    "duration": 85,
    "start_time": "2023-11-06T18:13:39.894Z"
   },
   {
    "duration": 101,
    "start_time": "2023-11-06T18:13:39.981Z"
   },
   {
    "duration": 81,
    "start_time": "2023-11-06T18:13:40.083Z"
   },
   {
    "duration": 57,
    "start_time": "2023-11-06T18:13:40.166Z"
   },
   {
    "duration": 62,
    "start_time": "2023-11-06T18:13:40.225Z"
   },
   {
    "duration": 88,
    "start_time": "2023-11-06T18:13:40.288Z"
   },
   {
    "duration": 311,
    "start_time": "2023-11-06T18:13:40.377Z"
   },
   {
    "duration": 161,
    "start_time": "2023-11-06T18:13:40.689Z"
   },
   {
    "duration": 60,
    "start_time": "2023-11-06T18:13:40.851Z"
   },
   {
    "duration": 58,
    "start_time": "2023-11-06T18:13:40.912Z"
   },
   {
    "duration": 64,
    "start_time": "2023-11-06T18:13:40.971Z"
   },
   {
    "duration": 414,
    "start_time": "2023-11-06T18:13:41.037Z"
   },
   {
    "duration": 122,
    "start_time": "2023-11-06T18:13:41.453Z"
   },
   {
    "duration": 182,
    "start_time": "2023-11-06T18:13:41.576Z"
   },
   {
    "duration": 165,
    "start_time": "2023-11-06T18:13:41.760Z"
   },
   {
    "duration": 1287,
    "start_time": "2023-11-06T18:13:41.926Z"
   },
   {
    "duration": 83,
    "start_time": "2023-11-06T18:13:43.216Z"
   },
   {
    "duration": 154,
    "start_time": "2023-11-06T18:13:43.300Z"
   },
   {
    "duration": 150,
    "start_time": "2023-11-06T18:13:43.456Z"
   },
   {
    "duration": 155,
    "start_time": "2023-11-06T18:13:43.608Z"
   },
   {
    "duration": 145,
    "start_time": "2023-11-06T18:13:43.765Z"
   },
   {
    "duration": 114,
    "start_time": "2023-11-06T18:13:43.912Z"
   },
   {
    "duration": 168,
    "start_time": "2023-11-06T18:51:12.508Z"
   },
   {
    "duration": 72,
    "start_time": "2023-11-06T18:54:43.566Z"
   },
   {
    "duration": 76,
    "start_time": "2023-11-06T18:57:42.478Z"
   },
   {
    "duration": 80,
    "start_time": "2023-11-06T18:59:38.253Z"
   },
   {
    "duration": 86,
    "start_time": "2023-11-06T19:06:07.274Z"
   },
   {
    "duration": 83,
    "start_time": "2023-11-06T19:06:36.034Z"
   },
   {
    "duration": 98,
    "start_time": "2023-11-06T19:07:42.324Z"
   },
   {
    "duration": 77,
    "start_time": "2023-11-06T19:09:09.158Z"
   },
   {
    "duration": 57,
    "start_time": "2023-11-06T19:11:40.621Z"
   },
   {
    "duration": 96,
    "start_time": "2023-11-06T19:13:55.470Z"
   },
   {
    "duration": 579,
    "start_time": "2023-11-07T13:03:05.359Z"
   },
   {
    "duration": 15097,
    "start_time": "2023-11-07T13:03:05.941Z"
   },
   {
    "duration": 5,
    "start_time": "2023-11-07T13:03:21.040Z"
   },
   {
    "duration": 25,
    "start_time": "2023-11-07T13:03:21.046Z"
   },
   {
    "duration": 2911,
    "start_time": "2023-11-07T13:03:21.073Z"
   },
   {
    "duration": 151,
    "start_time": "2023-11-07T13:03:23.986Z"
   },
   {
    "duration": 3177,
    "start_time": "2023-11-07T13:03:24.139Z"
   },
   {
    "duration": 398,
    "start_time": "2023-11-07T13:03:27.324Z"
   },
   {
    "duration": 152,
    "start_time": "2023-11-07T13:03:27.724Z"
   },
   {
    "duration": 623,
    "start_time": "2023-11-07T13:03:27.879Z"
   },
   {
    "duration": 74,
    "start_time": "2023-11-07T13:03:28.503Z"
   },
   {
    "duration": 84,
    "start_time": "2023-11-07T13:03:28.579Z"
   },
   {
    "duration": 99,
    "start_time": "2023-11-07T13:03:28.665Z"
   },
   {
    "duration": 77,
    "start_time": "2023-11-07T13:03:28.766Z"
   },
   {
    "duration": 56,
    "start_time": "2023-11-07T13:03:28.845Z"
   },
   {
    "duration": 63,
    "start_time": "2023-11-07T13:03:28.903Z"
   },
   {
    "duration": 91,
    "start_time": "2023-11-07T13:03:28.968Z"
   },
   {
    "duration": 307,
    "start_time": "2023-11-07T13:03:29.061Z"
   },
   {
    "duration": 153,
    "start_time": "2023-11-07T13:03:29.369Z"
   },
   {
    "duration": 61,
    "start_time": "2023-11-07T13:03:29.523Z"
   },
   {
    "duration": 58,
    "start_time": "2023-11-07T13:03:29.586Z"
   },
   {
    "duration": 64,
    "start_time": "2023-11-07T13:03:29.646Z"
   },
   {
    "duration": 417,
    "start_time": "2023-11-07T13:03:29.712Z"
   },
   {
    "duration": 122,
    "start_time": "2023-11-07T13:03:30.131Z"
   },
   {
    "duration": 182,
    "start_time": "2023-11-07T13:03:30.255Z"
   },
   {
    "duration": 165,
    "start_time": "2023-11-07T13:03:30.439Z"
   },
   {
    "duration": 1272,
    "start_time": "2023-11-07T13:03:30.606Z"
   },
   {
    "duration": 101,
    "start_time": "2023-11-07T13:03:31.881Z"
   },
   {
    "duration": 161,
    "start_time": "2023-11-07T13:03:31.983Z"
   },
   {
    "duration": 212,
    "start_time": "2023-11-07T13:03:32.145Z"
   },
   {
    "duration": 125,
    "start_time": "2023-11-07T13:06:10.424Z"
   },
   {
    "duration": 87,
    "start_time": "2023-11-07T13:06:41.498Z"
   },
   {
    "duration": 310,
    "start_time": "2023-11-07T13:08:28.267Z"
   },
   {
    "duration": 86,
    "start_time": "2023-11-07T13:09:20.144Z"
   },
   {
    "duration": 64,
    "start_time": "2023-11-07T13:12:04.327Z"
   },
   {
    "duration": 63,
    "start_time": "2023-11-07T13:13:29.298Z"
   },
   {
    "duration": 163,
    "start_time": "2023-11-07T13:14:04.825Z"
   },
   {
    "duration": 158,
    "start_time": "2023-11-07T13:15:42.607Z"
   },
   {
    "duration": 156,
    "start_time": "2023-11-07T13:15:56.471Z"
   },
   {
    "duration": 157,
    "start_time": "2023-11-07T13:16:20.717Z"
   },
   {
    "duration": 165,
    "start_time": "2023-11-07T13:16:43.271Z"
   },
   {
    "duration": 69,
    "start_time": "2023-11-07T13:18:58.680Z"
   },
   {
    "duration": 68,
    "start_time": "2023-11-07T13:19:14.122Z"
   },
   {
    "duration": 62,
    "start_time": "2023-11-07T13:22:25.927Z"
   },
   {
    "duration": 58,
    "start_time": "2023-11-07T13:22:43.676Z"
   },
   {
    "duration": 59,
    "start_time": "2023-11-07T13:22:49.883Z"
   },
   {
    "duration": 67,
    "start_time": "2023-11-07T13:25:30.329Z"
   },
   {
    "duration": 463,
    "start_time": "2023-11-07T13:27:04.049Z"
   },
   {
    "duration": 119,
    "start_time": "2023-11-07T13:28:40.794Z"
   },
   {
    "duration": 121,
    "start_time": "2023-11-07T13:29:15.105Z"
   },
   {
    "duration": 176,
    "start_time": "2023-11-07T13:31:29.704Z"
   },
   {
    "duration": 4,
    "start_time": "2023-11-07T13:34:35.580Z"
   },
   {
    "duration": 177,
    "start_time": "2023-11-07T13:34:57.152Z"
   },
   {
    "duration": 187,
    "start_time": "2023-11-07T13:37:06.201Z"
   },
   {
    "duration": 178,
    "start_time": "2023-11-07T13:37:14.646Z"
   },
   {
    "duration": 175,
    "start_time": "2023-11-07T13:37:38.529Z"
   },
   {
    "duration": 177,
    "start_time": "2023-11-07T13:37:46.393Z"
   },
   {
    "duration": 172,
    "start_time": "2023-11-07T13:37:56.658Z"
   },
   {
    "duration": 153,
    "start_time": "2023-11-07T13:38:13.505Z"
   },
   {
    "duration": 63,
    "start_time": "2023-11-07T13:38:38.499Z"
   },
   {
    "duration": 157,
    "start_time": "2023-11-07T13:39:53.594Z"
   },
   {
    "duration": 161,
    "start_time": "2023-11-07T13:40:09.030Z"
   },
   {
    "duration": 159,
    "start_time": "2023-11-07T13:40:15.509Z"
   },
   {
    "duration": 151,
    "start_time": "2023-11-07T13:40:54.807Z"
   },
   {
    "duration": 155,
    "start_time": "2023-11-07T13:41:06.401Z"
   },
   {
    "duration": 160,
    "start_time": "2023-11-07T13:41:18.030Z"
   },
   {
    "duration": 161,
    "start_time": "2023-11-07T13:41:24.877Z"
   },
   {
    "duration": 169,
    "start_time": "2023-11-07T13:41:30.741Z"
   },
   {
    "duration": 182,
    "start_time": "2023-11-07T13:41:58.593Z"
   },
   {
    "duration": 184,
    "start_time": "2023-11-07T13:42:30.010Z"
   },
   {
    "duration": 63,
    "start_time": "2023-11-07T13:46:27.998Z"
   },
   {
    "duration": 65,
    "start_time": "2023-11-07T13:46:42.069Z"
   },
   {
    "duration": 66,
    "start_time": "2023-11-07T13:46:49.753Z"
   },
   {
    "duration": 68,
    "start_time": "2023-11-07T13:47:45.394Z"
   },
   {
    "duration": 166,
    "start_time": "2023-11-07T13:47:57.988Z"
   },
   {
    "duration": 1251,
    "start_time": "2023-11-07T13:49:59.385Z"
   },
   {
    "duration": 1064,
    "start_time": "2023-11-07T13:50:21.322Z"
   },
   {
    "duration": 85,
    "start_time": "2023-11-07T13:52:33.368Z"
   },
   {
    "duration": 84,
    "start_time": "2023-11-07T13:52:51.229Z"
   },
   {
    "duration": 166,
    "start_time": "2023-11-07T13:56:03.653Z"
   },
   {
    "duration": 151,
    "start_time": "2023-11-07T13:58:36.061Z"
   },
   {
    "duration": 149,
    "start_time": "2023-11-07T14:00:13.233Z"
   },
   {
    "duration": 167,
    "start_time": "2023-11-07T14:00:43.827Z"
   },
   {
    "duration": 119,
    "start_time": "2023-11-07T14:00:52.378Z"
   },
   {
    "duration": 419,
    "start_time": "2023-11-07T14:00:56.986Z"
   },
   {
    "duration": 66,
    "start_time": "2023-11-07T14:01:02.743Z"
   },
   {
    "duration": 57,
    "start_time": "2023-11-07T14:01:08.339Z"
   },
   {
    "duration": 83,
    "start_time": "2023-11-07T14:01:28.214Z"
   },
   {
    "duration": 556,
    "start_time": "2023-11-07T14:01:41.242Z"
   },
   {
    "duration": 17913,
    "start_time": "2023-11-07T14:01:41.800Z"
   },
   {
    "duration": 4,
    "start_time": "2023-11-07T14:01:59.715Z"
   },
   {
    "duration": 49,
    "start_time": "2023-11-07T14:01:59.721Z"
   },
   {
    "duration": 2841,
    "start_time": "2023-11-07T14:01:59.772Z"
   },
   {
    "duration": 158,
    "start_time": "2023-11-07T14:02:02.615Z"
   },
   {
    "duration": 3022,
    "start_time": "2023-11-07T14:02:02.775Z"
   },
   {
    "duration": 413,
    "start_time": "2023-11-07T14:02:05.798Z"
   },
   {
    "duration": 152,
    "start_time": "2023-11-07T14:02:06.213Z"
   },
   {
    "duration": 645,
    "start_time": "2023-11-07T14:02:06.368Z"
   },
   {
    "duration": 73,
    "start_time": "2023-11-07T14:02:07.015Z"
   },
   {
    "duration": 155,
    "start_time": "2023-11-07T14:02:07.090Z"
   },
   {
    "duration": 306,
    "start_time": "2023-11-07T14:02:07.247Z"
   },
   {
    "duration": 79,
    "start_time": "2023-11-07T14:02:07.554Z"
   },
   {
    "duration": 54,
    "start_time": "2023-11-07T14:02:07.635Z"
   },
   {
    "duration": 62,
    "start_time": "2023-11-07T14:02:07.691Z"
   },
   {
    "duration": 89,
    "start_time": "2023-11-07T14:02:07.754Z"
   },
   {
    "duration": 333,
    "start_time": "2023-11-07T14:02:07.844Z"
   },
   {
    "duration": 165,
    "start_time": "2023-11-07T14:02:08.179Z"
   },
   {
    "duration": 59,
    "start_time": "2023-11-07T14:02:08.346Z"
   },
   {
    "duration": 58,
    "start_time": "2023-11-07T14:02:08.407Z"
   },
   {
    "duration": 96,
    "start_time": "2023-11-07T14:02:08.467Z"
   },
   {
    "duration": 436,
    "start_time": "2023-11-07T14:02:08.565Z"
   },
   {
    "duration": 119,
    "start_time": "2023-11-07T14:02:09.002Z"
   },
   {
    "duration": 200,
    "start_time": "2023-11-07T14:02:09.123Z"
   },
   {
    "duration": 171,
    "start_time": "2023-11-07T14:02:09.325Z"
   },
   {
    "duration": 1166,
    "start_time": "2023-11-07T14:02:09.497Z"
   },
   {
    "duration": 84,
    "start_time": "2023-11-07T14:02:10.665Z"
   },
   {
    "duration": 161,
    "start_time": "2023-11-07T14:02:10.751Z"
   },
   {
    "duration": 148,
    "start_time": "2023-11-07T14:02:10.914Z"
   },
   {
    "duration": 161,
    "start_time": "2023-11-07T14:03:07.551Z"
   },
   {
    "duration": 313,
    "start_time": "2023-11-07T14:27:29.614Z"
   },
   {
    "duration": 154,
    "start_time": "2023-11-07T14:29:35.583Z"
   },
   {
    "duration": 546,
    "start_time": "2023-11-07T14:37:48.639Z"
   },
   {
    "duration": 206,
    "start_time": "2023-11-07T14:38:24.623Z"
   },
   {
    "duration": 276,
    "start_time": "2023-11-07T14:38:31.852Z"
   },
   {
    "duration": 6,
    "start_time": "2023-11-07T14:39:06.180Z"
   },
   {
    "duration": 537,
    "start_time": "2023-11-07T14:49:32.035Z"
   },
   {
    "duration": 413,
    "start_time": "2023-11-07T14:49:49.715Z"
   },
   {
    "duration": 183,
    "start_time": "2023-11-07T14:57:42.261Z"
   },
   {
    "duration": 147,
    "start_time": "2023-11-07T15:13:00.809Z"
   },
   {
    "duration": 1699,
    "start_time": "2023-11-07T15:13:32.385Z"
   },
   {
    "duration": 1256,
    "start_time": "2023-11-07T15:13:41.682Z"
   },
   {
    "duration": 1147,
    "start_time": "2023-11-07T15:14:19.352Z"
   },
   {
    "duration": 65,
    "start_time": "2023-11-07T15:27:21.811Z"
   },
   {
    "duration": 64,
    "start_time": "2023-11-07T15:27:32.006Z"
   },
   {
    "duration": 64,
    "start_time": "2023-11-07T15:27:59.747Z"
   },
   {
    "duration": 77,
    "start_time": "2023-11-07T15:28:16.783Z"
   },
   {
    "duration": 117,
    "start_time": "2023-11-07T15:34:45.989Z"
   },
   {
    "duration": 150,
    "start_time": "2023-11-07T15:34:50.533Z"
   },
   {
    "duration": 109,
    "start_time": "2023-11-07T15:37:28.400Z"
   },
   {
    "duration": 150,
    "start_time": "2023-11-07T15:37:30.964Z"
   },
   {
    "duration": 552,
    "start_time": "2023-11-07T15:50:47.444Z"
   },
   {
    "duration": 14358,
    "start_time": "2023-11-07T15:50:47.998Z"
   },
   {
    "duration": 4,
    "start_time": "2023-11-07T15:51:02.357Z"
   },
   {
    "duration": 44,
    "start_time": "2023-11-07T15:51:02.363Z"
   },
   {
    "duration": 2861,
    "start_time": "2023-11-07T15:51:02.409Z"
   },
   {
    "duration": 153,
    "start_time": "2023-11-07T15:51:05.271Z"
   },
   {
    "duration": 3140,
    "start_time": "2023-11-07T15:51:05.425Z"
   },
   {
    "duration": 401,
    "start_time": "2023-11-07T15:51:08.567Z"
   },
   {
    "duration": 153,
    "start_time": "2023-11-07T15:51:08.970Z"
   },
   {
    "duration": 617,
    "start_time": "2023-11-07T15:51:09.126Z"
   },
   {
    "duration": 73,
    "start_time": "2023-11-07T15:51:09.745Z"
   },
   {
    "duration": 84,
    "start_time": "2023-11-07T15:51:09.820Z"
   },
   {
    "duration": 99,
    "start_time": "2023-11-07T15:51:09.906Z"
   },
   {
    "duration": 79,
    "start_time": "2023-11-07T15:51:10.006Z"
   },
   {
    "duration": 56,
    "start_time": "2023-11-07T15:51:10.087Z"
   },
   {
    "duration": 63,
    "start_time": "2023-11-07T15:51:10.144Z"
   },
   {
    "duration": 89,
    "start_time": "2023-11-07T15:51:10.209Z"
   },
   {
    "duration": 322,
    "start_time": "2023-11-07T15:51:10.300Z"
   },
   {
    "duration": 155,
    "start_time": "2023-11-07T15:51:10.625Z"
   },
   {
    "duration": 59,
    "start_time": "2023-11-07T15:51:10.782Z"
   },
   {
    "duration": 58,
    "start_time": "2023-11-07T15:51:10.843Z"
   },
   {
    "duration": 64,
    "start_time": "2023-11-07T15:51:10.903Z"
   },
   {
    "duration": 407,
    "start_time": "2023-11-07T15:51:10.969Z"
   },
   {
    "duration": 116,
    "start_time": "2023-11-07T15:51:11.378Z"
   },
   {
    "duration": 174,
    "start_time": "2023-11-07T15:51:11.496Z"
   },
   {
    "duration": 162,
    "start_time": "2023-11-07T15:51:11.672Z"
   },
   {
    "duration": 1236,
    "start_time": "2023-11-07T15:51:11.836Z"
   },
   {
    "duration": 84,
    "start_time": "2023-11-07T15:51:13.076Z"
   },
   {
    "duration": 157,
    "start_time": "2023-11-07T15:51:13.162Z"
   },
   {
    "duration": 111,
    "start_time": "2023-11-07T15:51:13.320Z"
   },
   {
    "duration": 145,
    "start_time": "2023-11-07T15:51:13.433Z"
   },
   {
    "duration": 541,
    "start_time": "2023-11-07T16:06:55.262Z"
   },
   {
    "duration": 14955,
    "start_time": "2023-11-07T16:06:55.806Z"
   },
   {
    "duration": 3,
    "start_time": "2023-11-07T16:07:10.763Z"
   },
   {
    "duration": 55,
    "start_time": "2023-11-07T16:07:10.768Z"
   },
   {
    "duration": 3006,
    "start_time": "2023-11-07T16:07:10.826Z"
   },
   {
    "duration": 150,
    "start_time": "2023-11-07T16:07:13.834Z"
   },
   {
    "duration": 3391,
    "start_time": "2023-11-07T16:07:13.986Z"
   },
   {
    "duration": 445,
    "start_time": "2023-11-07T16:07:17.379Z"
   },
   {
    "duration": 162,
    "start_time": "2023-11-07T16:07:17.825Z"
   },
   {
    "duration": 670,
    "start_time": "2023-11-07T16:07:17.990Z"
   },
   {
    "duration": 76,
    "start_time": "2023-11-07T16:07:18.661Z"
   },
   {
    "duration": 84,
    "start_time": "2023-11-07T16:07:18.739Z"
   },
   {
    "duration": 98,
    "start_time": "2023-11-07T16:07:18.824Z"
   },
   {
    "duration": 86,
    "start_time": "2023-11-07T16:07:18.924Z"
   },
   {
    "duration": 60,
    "start_time": "2023-11-07T16:07:19.012Z"
   },
   {
    "duration": 68,
    "start_time": "2023-11-07T16:07:19.073Z"
   },
   {
    "duration": 90,
    "start_time": "2023-11-07T16:07:19.143Z"
   },
   {
    "duration": 319,
    "start_time": "2023-11-07T16:07:19.235Z"
   },
   {
    "duration": 156,
    "start_time": "2023-11-07T16:07:19.556Z"
   },
   {
    "duration": 66,
    "start_time": "2023-11-07T16:07:19.713Z"
   },
   {
    "duration": 57,
    "start_time": "2023-11-07T16:07:19.781Z"
   },
   {
    "duration": 70,
    "start_time": "2023-11-07T16:07:19.840Z"
   },
   {
    "duration": 455,
    "start_time": "2023-11-07T16:07:19.913Z"
   },
   {
    "duration": 118,
    "start_time": "2023-11-07T16:07:20.370Z"
   },
   {
    "duration": 181,
    "start_time": "2023-11-07T16:07:20.490Z"
   },
   {
    "duration": 173,
    "start_time": "2023-11-07T16:07:20.673Z"
   },
   {
    "duration": 1188,
    "start_time": "2023-11-07T16:07:20.847Z"
   },
   {
    "duration": 83,
    "start_time": "2023-11-07T16:07:22.038Z"
   },
   {
    "duration": 158,
    "start_time": "2023-11-07T16:07:22.123Z"
   },
   {
    "duration": 112,
    "start_time": "2023-11-07T16:07:22.282Z"
   },
   {
    "duration": 152,
    "start_time": "2023-11-07T16:07:22.395Z"
   },
   {
    "duration": 530,
    "start_time": "2023-11-08T09:30:38.987Z"
   },
   {
    "duration": 43817,
    "start_time": "2023-11-08T09:30:39.519Z"
   },
   {
    "duration": 4,
    "start_time": "2023-11-08T09:31:23.337Z"
   },
   {
    "duration": 11,
    "start_time": "2023-11-08T09:31:23.343Z"
   },
   {
    "duration": 2852,
    "start_time": "2023-11-08T09:31:23.355Z"
   },
   {
    "duration": 143,
    "start_time": "2023-11-08T09:31:26.208Z"
   },
   {
    "duration": 3293,
    "start_time": "2023-11-08T09:31:26.353Z"
   },
   {
    "duration": 404,
    "start_time": "2023-11-08T09:31:29.648Z"
   },
   {
    "duration": 148,
    "start_time": "2023-11-08T09:31:30.054Z"
   },
   {
    "duration": 644,
    "start_time": "2023-11-08T09:31:30.204Z"
   },
   {
    "duration": 72,
    "start_time": "2023-11-08T09:31:30.850Z"
   },
   {
    "duration": 126,
    "start_time": "2023-11-08T09:31:30.923Z"
   },
   {
    "duration": 103,
    "start_time": "2023-11-08T09:31:31.051Z"
   },
   {
    "duration": 78,
    "start_time": "2023-11-08T09:31:31.156Z"
   },
   {
    "duration": 54,
    "start_time": "2023-11-08T09:31:31.235Z"
   },
   {
    "duration": 61,
    "start_time": "2023-11-08T09:31:31.291Z"
   },
   {
    "duration": 84,
    "start_time": "2023-11-08T09:31:31.354Z"
   },
   {
    "duration": 304,
    "start_time": "2023-11-08T09:31:31.440Z"
   },
   {
    "duration": 164,
    "start_time": "2023-11-08T09:31:31.745Z"
   },
   {
    "duration": 58,
    "start_time": "2023-11-08T09:31:31.911Z"
   },
   {
    "duration": 56,
    "start_time": "2023-11-08T09:31:31.971Z"
   },
   {
    "duration": 63,
    "start_time": "2023-11-08T09:31:32.029Z"
   },
   {
    "duration": 444,
    "start_time": "2023-11-08T09:31:32.094Z"
   },
   {
    "duration": 121,
    "start_time": "2023-11-08T09:31:32.540Z"
   },
   {
    "duration": 187,
    "start_time": "2023-11-08T09:31:32.662Z"
   },
   {
    "duration": 170,
    "start_time": "2023-11-08T09:31:32.851Z"
   },
   {
    "duration": 1242,
    "start_time": "2023-11-08T09:31:33.023Z"
   },
   {
    "duration": 81,
    "start_time": "2023-11-08T09:31:34.268Z"
   },
   {
    "duration": 168,
    "start_time": "2023-11-08T09:31:34.351Z"
   },
   {
    "duration": 112,
    "start_time": "2023-11-08T09:31:34.520Z"
   },
   {
    "duration": 146,
    "start_time": "2023-11-08T09:31:34.634Z"
   },
   {
    "duration": 563,
    "start_time": "2023-11-08T09:42:37.781Z"
   },
   {
    "duration": 11886,
    "start_time": "2023-11-08T09:42:38.346Z"
   },
   {
    "duration": 4,
    "start_time": "2023-11-08T09:42:50.233Z"
   },
   {
    "duration": 6,
    "start_time": "2023-11-08T09:42:50.239Z"
   },
   {
    "duration": 2940,
    "start_time": "2023-11-08T09:42:50.247Z"
   },
   {
    "duration": 141,
    "start_time": "2023-11-08T09:42:53.189Z"
   },
   {
    "duration": 3521,
    "start_time": "2023-11-08T09:42:53.331Z"
   },
   {
    "duration": 473,
    "start_time": "2023-11-08T09:42:56.854Z"
   },
   {
    "duration": 145,
    "start_time": "2023-11-08T09:42:57.329Z"
   },
   {
    "duration": 641,
    "start_time": "2023-11-08T09:42:57.478Z"
   },
   {
    "duration": 69,
    "start_time": "2023-11-08T09:42:58.121Z"
   },
   {
    "duration": 80,
    "start_time": "2023-11-08T09:42:58.193Z"
   },
   {
    "duration": 94,
    "start_time": "2023-11-08T09:42:58.276Z"
   },
   {
    "duration": 77,
    "start_time": "2023-11-08T09:42:58.372Z"
   },
   {
    "duration": 152,
    "start_time": "2023-11-08T09:42:58.451Z"
   },
   {
    "duration": 58,
    "start_time": "2023-11-08T09:42:58.605Z"
   },
   {
    "duration": 455,
    "start_time": "2023-11-08T09:42:58.665Z"
   },
   {
    "duration": 315,
    "start_time": "2023-11-08T09:42:59.122Z"
   },
   {
    "duration": 159,
    "start_time": "2023-11-08T09:42:59.439Z"
   },
   {
    "duration": 57,
    "start_time": "2023-11-08T09:42:59.599Z"
   },
   {
    "duration": 55,
    "start_time": "2023-11-08T09:42:59.657Z"
   },
   {
    "duration": 61,
    "start_time": "2023-11-08T09:42:59.714Z"
   },
   {
    "duration": 433,
    "start_time": "2023-11-08T09:42:59.778Z"
   },
   {
    "duration": 125,
    "start_time": "2023-11-08T09:43:00.214Z"
   },
   {
    "duration": 178,
    "start_time": "2023-11-08T09:43:00.342Z"
   },
   {
    "duration": 163,
    "start_time": "2023-11-08T09:43:00.522Z"
   },
   {
    "duration": 1274,
    "start_time": "2023-11-08T09:43:00.687Z"
   },
   {
    "duration": 83,
    "start_time": "2023-11-08T09:43:01.964Z"
   },
   {
    "duration": 162,
    "start_time": "2023-11-08T09:43:02.048Z"
   },
   {
    "duration": 113,
    "start_time": "2023-11-08T09:43:02.212Z"
   },
   {
    "duration": 147,
    "start_time": "2023-11-08T09:43:02.326Z"
   },
   {
    "duration": 524,
    "start_time": "2023-11-08T10:03:25.789Z"
   },
   {
    "duration": 23201,
    "start_time": "2023-11-08T10:03:26.315Z"
   },
   {
    "duration": 4,
    "start_time": "2023-11-08T10:03:49.518Z"
   },
   {
    "duration": 6,
    "start_time": "2023-11-08T10:03:49.524Z"
   },
   {
    "duration": 2838,
    "start_time": "2023-11-08T10:03:49.531Z"
   },
   {
    "duration": 143,
    "start_time": "2023-11-08T10:03:52.370Z"
   },
   {
    "duration": 3378,
    "start_time": "2023-11-08T10:03:52.514Z"
   },
   {
    "duration": 411,
    "start_time": "2023-11-08T10:03:55.894Z"
   },
   {
    "duration": 140,
    "start_time": "2023-11-08T10:03:56.309Z"
   },
   {
    "duration": 638,
    "start_time": "2023-11-08T10:03:56.451Z"
   },
   {
    "duration": 69,
    "start_time": "2023-11-08T10:03:57.091Z"
   },
   {
    "duration": 79,
    "start_time": "2023-11-08T10:03:57.162Z"
   },
   {
    "duration": 95,
    "start_time": "2023-11-08T10:03:57.243Z"
   },
   {
    "duration": 78,
    "start_time": "2023-11-08T10:03:57.340Z"
   },
   {
    "duration": 55,
    "start_time": "2023-11-08T10:03:57.419Z"
   },
   {
    "duration": 62,
    "start_time": "2023-11-08T10:03:57.476Z"
   },
   {
    "duration": 85,
    "start_time": "2023-11-08T10:03:57.543Z"
   },
   {
    "duration": 309,
    "start_time": "2023-11-08T10:03:57.629Z"
   },
   {
    "duration": 150,
    "start_time": "2023-11-08T10:03:57.941Z"
   },
   {
    "duration": 58,
    "start_time": "2023-11-08T10:03:58.094Z"
   },
   {
    "duration": 56,
    "start_time": "2023-11-08T10:03:58.154Z"
   },
   {
    "duration": 63,
    "start_time": "2023-11-08T10:03:58.212Z"
   },
   {
    "duration": 413,
    "start_time": "2023-11-08T10:03:58.277Z"
   },
   {
    "duration": 115,
    "start_time": "2023-11-08T10:03:58.694Z"
   },
   {
    "duration": 169,
    "start_time": "2023-11-08T10:03:58.810Z"
   },
   {
    "duration": 159,
    "start_time": "2023-11-08T10:03:58.980Z"
   },
   {
    "duration": 1273,
    "start_time": "2023-11-08T10:03:59.141Z"
   },
   {
    "duration": 82,
    "start_time": "2023-11-08T10:04:00.416Z"
   },
   {
    "duration": 166,
    "start_time": "2023-11-08T10:04:00.500Z"
   },
   {
    "duration": 117,
    "start_time": "2023-11-08T10:04:00.668Z"
   },
   {
    "duration": 152,
    "start_time": "2023-11-08T10:04:00.787Z"
   }
  ],
  "kernelspec": {
   "display_name": "Python 3 (ipykernel)",
   "language": "python",
   "name": "python3"
  },
  "language_info": {
   "codemirror_mode": {
    "name": "ipython",
    "version": 3
   },
   "file_extension": ".py",
   "mimetype": "text/x-python",
   "name": "python",
   "nbconvert_exporter": "python",
   "pygments_lexer": "ipython3",
   "version": "3.9.5"
  },
  "toc": {
   "base_numbering": 1,
   "nav_menu": {},
   "number_sections": true,
   "sideBar": true,
   "skip_h1_title": true,
   "title_cell": "Table of Contents",
   "title_sidebar": "Contents",
   "toc_cell": false,
   "toc_position": {
    "height": "calc(100% - 180px)",
    "left": "10px",
    "top": "150px",
    "width": "396.8px"
   },
   "toc_section_display": true,
   "toc_window_display": true
  }
 },
 "nbformat": 4,
 "nbformat_minor": 5
}
