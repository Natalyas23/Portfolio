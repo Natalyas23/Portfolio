{
 "cells": [
  {
   "cell_type": "markdown",
   "metadata": {},
   "source": [
    "# Анализ сервиса для чтения книг по подписке"
   ]
  },
  {
   "cell_type": "markdown",
   "metadata": {},
   "source": [
    "**Цель исследования**: Провести анализ базы данных. Результаты помогут сформулировать ценностное предложение нового продукта.\n",
    "\n",
    "**Описание данных**: Данные для анализа содержатся в 5 таблицах.\n",
    "1. `books` содержит данные о книгах:\n",
    "    - `book_id` — идентификатор книги;\n",
    "    - `author_id` — идентификатор автора;\n",
    "    - `title` — название книги;\n",
    "    - `num_pages` — количество страниц;\n",
    "    - `publication_date` — дата публикации книги;\n",
    "    - `publisher_id` — идентификатор издателя.\n",
    "    \n",
    "    \n",
    "2. `authors` содержит данные об авторах:\n",
    "    - `author_id` — идентификатор автора;\n",
    "    - `author` — имя автора.\n",
    "    \n",
    "    \n",
    "3. `publishers` Содержит данные об издательствах:\n",
    "    - `publisher_id` — идентификатор издательства;\n",
    "    - `publisher` — название издательства;\n",
    "    \n",
    "    \n",
    "4. `ratings` содержит данные о пользовательских оценках книг:\n",
    "    - `rating_id` — идентификатор оценки;\n",
    "    - `book_id` — идентификатор книги;\n",
    "    - `username` — имя пользователя, оставившего оценку;\n",
    "    - `rating` — оценка книги.\n",
    "    \n",
    "    \n",
    "5. `reviews` содержит данные о пользовательских обзорах на книги:\n",
    "    - `review_id` — идентификатор обзора;\n",
    "    - `book_id` — идентификатор книги;\n",
    "    - `username` — имя пользователя, написавшего обзор;\n",
    "    - `text` — текст обзора.\n",
    "    \n",
    "    \n",
    "    \n",
    "**Ход исследования**\n",
    "\n",
    "1. Проведем обзор данных\n",
    "2. Выполним 5 заданий:\n",
    "    2.1. Посчитать, сколько книг вышло после 1 января 2000 года;\n",
    "    2.2. Для каждой книги посчитать количество обзоров и среднюю оценку;\n",
    "    2.3. Определить издательство, которое выпустило наибольшее число книг толще 50 страниц (чтобы исключить из анализа брошюры);\n",
    "    2.4. Определить автора с самой высокой средней оценкой книг — учесть только книги с 50 и более оценками;\n",
    "    2.5. Посчитать среднее количество обзоров от пользователей, которые поставили больше 48 оценок.\n",
    "    \n",
    "3. Подведем итоги"
   ]
  },
  {
   "cell_type": "markdown",
   "metadata": {},
   "source": [
    "## 1. Обзор данных\n",
    "\n",
    "Импортируем библиотеки:"
   ]
  },
  {
   "cell_type": "code",
   "execution_count": 1,
   "metadata": {},
   "outputs": [],
   "source": [
    "import pandas as pd\n",
    "import sqlalchemy as sa\n",
    "pd.set_option('display.max_colwidth', False)"
   ]
  },
  {
   "cell_type": "markdown",
   "metadata": {},
   "source": [
    "Устанавливаем параметры:"
   ]
  },
  {
   "cell_type": "code",
   "execution_count": 2,
   "metadata": {},
   "outputs": [],
   "source": [
    "db_config = {\n",
    "    'user': '', # имя пользователя\n",
    "    'pwd': '', # пароль\n",
    "    'host': '',\n",
    "    'port': , # порт подключения\n",
    "    'db': '' # название базы данных\n",
    "}\n",
    "connection_string = 'postgresql://{user}:{pwd}@{host}:{port}/{db}'.format(**db_config)\n",
    "\n",
    "#сохраняем коннектор:\n",
    "engine = sa.create_engine(connection_string, connect_args={'sslmode':'require'})"
   ]
  },
  {
   "cell_type": "markdown",
   "metadata": {},
   "source": [
    "Чтобы выполнить SQL-запрос, напишем функцию с использованием Pandas `get_sql_data`:"
   ]
  },
  {
   "cell_type": "code",
   "execution_count": 3,
   "metadata": {},
   "outputs": [],
   "source": [
    "def get_sql_data(query:str, engine:sa.engine.base.Engine=engine) -> pd.DataFrame:\n",
    "    '''Открываем соединение, \n",
    "    получаем данные из sql, \n",
    "    закрываем соединение'''\n",
    "    with engine.connect() as con:\n",
    "        return pd.read_sql(sql=sa.text(query), con = con)"
   ]
  },
  {
   "cell_type": "markdown",
   "metadata": {},
   "source": [
    "Для вывода первых пяти строк и информации о таблицах напишем функцию `read_sql_tabl`"
   ]
  },
  {
   "cell_type": "code",
   "execution_count": 4,
   "metadata": {},
   "outputs": [],
   "source": [
    "def read_sql_tabl(df):\n",
    "    '''Функция для вывода \n",
    "    5 первых строк и общей\n",
    "    информации о таблице\n",
    "    Args:\n",
    "        df: SQL запрос\n",
    "    для вывода таблицы\n",
    "    Returns:\n",
    "        5 строк pd.DataFrame\n",
    "        общая информация pd.DataFrame.\n",
    "    '''    \n",
    "\n",
    "    display(pd.io.sql.read_sql(sql=sa.text(df), con = engine).head())\n",
    "    pd.io.sql.read_sql(sql=sa.text(df), con = engine).info()\n"
   ]
  },
  {
   "cell_type": "markdown",
   "metadata": {},
   "source": [
    "### 1.1. Обзор таблицы `books`\n",
    "\n",
    "Используем функцию `read_sql_tabl` и выведем информацию о таблице `books`"
   ]
  },
  {
   "cell_type": "code",
   "execution_count": 5,
   "metadata": {},
   "outputs": [
    {
     "data": {
      "text/html": [
       "<div>\n",
       "<style scoped>\n",
       "    .dataframe tbody tr th:only-of-type {\n",
       "        vertical-align: middle;\n",
       "    }\n",
       "\n",
       "    .dataframe tbody tr th {\n",
       "        vertical-align: top;\n",
       "    }\n",
       "\n",
       "    .dataframe thead th {\n",
       "        text-align: right;\n",
       "    }\n",
       "</style>\n",
       "<table border=\"1\" class=\"dataframe\">\n",
       "  <thead>\n",
       "    <tr style=\"text-align: right;\">\n",
       "      <th></th>\n",
       "      <th>book_id</th>\n",
       "      <th>author_id</th>\n",
       "      <th>title</th>\n",
       "      <th>num_pages</th>\n",
       "      <th>publication_date</th>\n",
       "      <th>publisher_id</th>\n",
       "    </tr>\n",
       "  </thead>\n",
       "  <tbody>\n",
       "    <tr>\n",
       "      <th>0</th>\n",
       "      <td>1</td>\n",
       "      <td>546</td>\n",
       "      <td>'Salem's Lot</td>\n",
       "      <td>594</td>\n",
       "      <td>2005-11-01</td>\n",
       "      <td>93</td>\n",
       "    </tr>\n",
       "    <tr>\n",
       "      <th>1</th>\n",
       "      <td>2</td>\n",
       "      <td>465</td>\n",
       "      <td>1 000 Places to See Before You Die</td>\n",
       "      <td>992</td>\n",
       "      <td>2003-05-22</td>\n",
       "      <td>336</td>\n",
       "    </tr>\n",
       "    <tr>\n",
       "      <th>2</th>\n",
       "      <td>3</td>\n",
       "      <td>407</td>\n",
       "      <td>13 Little Blue Envelopes (Little Blue Envelope  #1)</td>\n",
       "      <td>322</td>\n",
       "      <td>2010-12-21</td>\n",
       "      <td>135</td>\n",
       "    </tr>\n",
       "    <tr>\n",
       "      <th>3</th>\n",
       "      <td>4</td>\n",
       "      <td>82</td>\n",
       "      <td>1491: New Revelations of the Americas Before Columbus</td>\n",
       "      <td>541</td>\n",
       "      <td>2006-10-10</td>\n",
       "      <td>309</td>\n",
       "    </tr>\n",
       "    <tr>\n",
       "      <th>4</th>\n",
       "      <td>5</td>\n",
       "      <td>125</td>\n",
       "      <td>1776</td>\n",
       "      <td>386</td>\n",
       "      <td>2006-07-04</td>\n",
       "      <td>268</td>\n",
       "    </tr>\n",
       "  </tbody>\n",
       "</table>\n",
       "</div>"
      ],
      "text/plain": [
       "   book_id  author_id                                                  title  \\\n",
       "0  1        546        'Salem's Lot                                            \n",
       "1  2        465        1 000 Places to See Before You Die                      \n",
       "2  3        407        13 Little Blue Envelopes (Little Blue Envelope  #1)     \n",
       "3  4        82         1491: New Revelations of the Americas Before Columbus   \n",
       "4  5        125        1776                                                    \n",
       "\n",
       "   num_pages publication_date  publisher_id  \n",
       "0  594        2005-11-01       93            \n",
       "1  992        2003-05-22       336           \n",
       "2  322        2010-12-21       135           \n",
       "3  541        2006-10-10       309           \n",
       "4  386        2006-07-04       268           "
      ]
     },
     "metadata": {},
     "output_type": "display_data"
    },
    {
     "name": "stdout",
     "output_type": "stream",
     "text": [
      "<class 'pandas.core.frame.DataFrame'>\n",
      "RangeIndex: 1000 entries, 0 to 999\n",
      "Data columns (total 6 columns):\n",
      " #   Column            Non-Null Count  Dtype \n",
      "---  ------            --------------  ----- \n",
      " 0   book_id           1000 non-null   int64 \n",
      " 1   author_id         1000 non-null   int64 \n",
      " 2   title             1000 non-null   object\n",
      " 3   num_pages         1000 non-null   int64 \n",
      " 4   publication_date  1000 non-null   object\n",
      " 5   publisher_id      1000 non-null   int64 \n",
      "dtypes: int64(4), object(2)\n",
      "memory usage: 47.0+ KB\n"
     ]
    }
   ],
   "source": [
    "read_sql_tabl('''SELECT * FROM books''')"
   ]
  },
  {
   "cell_type": "markdown",
   "metadata": {},
   "source": [
    "В таблице `books` 6 столбцов и 1000 строк. 4 столбца с числами и 2 с типом object, один из которых содержит даты. Объем памяти 47.0 KB. Пропуски в данных отсутствуют."
   ]
  },
  {
   "cell_type": "markdown",
   "metadata": {},
   "source": [
    "### 1.2. Обзор таблицы `authors`\n",
    "\n",
    "Выгрузим данные об авторах."
   ]
  },
  {
   "cell_type": "code",
   "execution_count": 6,
   "metadata": {},
   "outputs": [
    {
     "data": {
      "text/html": [
       "<div>\n",
       "<style scoped>\n",
       "    .dataframe tbody tr th:only-of-type {\n",
       "        vertical-align: middle;\n",
       "    }\n",
       "\n",
       "    .dataframe tbody tr th {\n",
       "        vertical-align: top;\n",
       "    }\n",
       "\n",
       "    .dataframe thead th {\n",
       "        text-align: right;\n",
       "    }\n",
       "</style>\n",
       "<table border=\"1\" class=\"dataframe\">\n",
       "  <thead>\n",
       "    <tr style=\"text-align: right;\">\n",
       "      <th></th>\n",
       "      <th>author_id</th>\n",
       "      <th>author</th>\n",
       "    </tr>\n",
       "  </thead>\n",
       "  <tbody>\n",
       "    <tr>\n",
       "      <th>0</th>\n",
       "      <td>1</td>\n",
       "      <td>A.S. Byatt</td>\n",
       "    </tr>\n",
       "    <tr>\n",
       "      <th>1</th>\n",
       "      <td>2</td>\n",
       "      <td>Aesop/Laura Harris/Laura Gibbs</td>\n",
       "    </tr>\n",
       "    <tr>\n",
       "      <th>2</th>\n",
       "      <td>3</td>\n",
       "      <td>Agatha Christie</td>\n",
       "    </tr>\n",
       "    <tr>\n",
       "      <th>3</th>\n",
       "      <td>4</td>\n",
       "      <td>Alan Brennert</td>\n",
       "    </tr>\n",
       "    <tr>\n",
       "      <th>4</th>\n",
       "      <td>5</td>\n",
       "      <td>Alan Moore/David   Lloyd</td>\n",
       "    </tr>\n",
       "  </tbody>\n",
       "</table>\n",
       "</div>"
      ],
      "text/plain": [
       "   author_id                          author\n",
       "0  1          A.S. Byatt                    \n",
       "1  2          Aesop/Laura Harris/Laura Gibbs\n",
       "2  3          Agatha Christie               \n",
       "3  4          Alan Brennert                 \n",
       "4  5          Alan Moore/David   Lloyd      "
      ]
     },
     "metadata": {},
     "output_type": "display_data"
    },
    {
     "name": "stdout",
     "output_type": "stream",
     "text": [
      "<class 'pandas.core.frame.DataFrame'>\n",
      "RangeIndex: 636 entries, 0 to 635\n",
      "Data columns (total 2 columns):\n",
      " #   Column     Non-Null Count  Dtype \n",
      "---  ------     --------------  ----- \n",
      " 0   author_id  636 non-null    int64 \n",
      " 1   author     636 non-null    object\n",
      "dtypes: int64(1), object(1)\n",
      "memory usage: 10.1+ KB\n"
     ]
    }
   ],
   "source": [
    "read_sql_tabl('''SELECT * FROM authors''')"
   ]
  },
  {
   "cell_type": "markdown",
   "metadata": {},
   "source": [
    "В таблице `authors` 2 столбца и 636 строк. 1 столбец содержит числа, а 2-й с типом object содержит текст. Объем памяти 10.1 KB. Пропуски в данных отсутствуют."
   ]
  },
  {
   "cell_type": "markdown",
   "metadata": {},
   "source": [
    "### 1.3. Обзор таблицы `publishers`\n",
    "\n",
    "Выгрузим данные об издательствах."
   ]
  },
  {
   "cell_type": "code",
   "execution_count": 7,
   "metadata": {},
   "outputs": [
    {
     "data": {
      "text/html": [
       "<div>\n",
       "<style scoped>\n",
       "    .dataframe tbody tr th:only-of-type {\n",
       "        vertical-align: middle;\n",
       "    }\n",
       "\n",
       "    .dataframe tbody tr th {\n",
       "        vertical-align: top;\n",
       "    }\n",
       "\n",
       "    .dataframe thead th {\n",
       "        text-align: right;\n",
       "    }\n",
       "</style>\n",
       "<table border=\"1\" class=\"dataframe\">\n",
       "  <thead>\n",
       "    <tr style=\"text-align: right;\">\n",
       "      <th></th>\n",
       "      <th>publisher_id</th>\n",
       "      <th>publisher</th>\n",
       "    </tr>\n",
       "  </thead>\n",
       "  <tbody>\n",
       "    <tr>\n",
       "      <th>0</th>\n",
       "      <td>1</td>\n",
       "      <td>Ace</td>\n",
       "    </tr>\n",
       "    <tr>\n",
       "      <th>1</th>\n",
       "      <td>2</td>\n",
       "      <td>Ace Book</td>\n",
       "    </tr>\n",
       "    <tr>\n",
       "      <th>2</th>\n",
       "      <td>3</td>\n",
       "      <td>Ace Books</td>\n",
       "    </tr>\n",
       "    <tr>\n",
       "      <th>3</th>\n",
       "      <td>4</td>\n",
       "      <td>Ace Hardcover</td>\n",
       "    </tr>\n",
       "    <tr>\n",
       "      <th>4</th>\n",
       "      <td>5</td>\n",
       "      <td>Addison Wesley Publishing Company</td>\n",
       "    </tr>\n",
       "  </tbody>\n",
       "</table>\n",
       "</div>"
      ],
      "text/plain": [
       "   publisher_id                          publisher\n",
       "0  1             Ace                              \n",
       "1  2             Ace Book                         \n",
       "2  3             Ace Books                        \n",
       "3  4             Ace Hardcover                    \n",
       "4  5             Addison Wesley Publishing Company"
      ]
     },
     "metadata": {},
     "output_type": "display_data"
    },
    {
     "name": "stdout",
     "output_type": "stream",
     "text": [
      "<class 'pandas.core.frame.DataFrame'>\n",
      "RangeIndex: 340 entries, 0 to 339\n",
      "Data columns (total 2 columns):\n",
      " #   Column        Non-Null Count  Dtype \n",
      "---  ------        --------------  ----- \n",
      " 0   publisher_id  340 non-null    int64 \n",
      " 1   publisher     340 non-null    object\n",
      "dtypes: int64(1), object(1)\n",
      "memory usage: 5.4+ KB\n"
     ]
    }
   ],
   "source": [
    "read_sql_tabl('''SELECT * FROM publishers''')"
   ]
  },
  {
   "cell_type": "markdown",
   "metadata": {},
   "source": [
    "В таблице `publishers` 2 столбца и 340 строк. 1 столбец содержит числа, а 2-й с типом object содержит текст. Объем памяти 5.4 KB. Пропуски в данных отсутствуют."
   ]
  },
  {
   "cell_type": "markdown",
   "metadata": {},
   "source": [
    "### 1.4. Обзор таблицы `ratings`\n",
    "\n",
    "Выгрузим данные о пользовательских оценках книг."
   ]
  },
  {
   "cell_type": "code",
   "execution_count": 8,
   "metadata": {},
   "outputs": [
    {
     "data": {
      "text/html": [
       "<div>\n",
       "<style scoped>\n",
       "    .dataframe tbody tr th:only-of-type {\n",
       "        vertical-align: middle;\n",
       "    }\n",
       "\n",
       "    .dataframe tbody tr th {\n",
       "        vertical-align: top;\n",
       "    }\n",
       "\n",
       "    .dataframe thead th {\n",
       "        text-align: right;\n",
       "    }\n",
       "</style>\n",
       "<table border=\"1\" class=\"dataframe\">\n",
       "  <thead>\n",
       "    <tr style=\"text-align: right;\">\n",
       "      <th></th>\n",
       "      <th>rating_id</th>\n",
       "      <th>book_id</th>\n",
       "      <th>username</th>\n",
       "      <th>rating</th>\n",
       "    </tr>\n",
       "  </thead>\n",
       "  <tbody>\n",
       "    <tr>\n",
       "      <th>0</th>\n",
       "      <td>1</td>\n",
       "      <td>1</td>\n",
       "      <td>ryanfranco</td>\n",
       "      <td>4</td>\n",
       "    </tr>\n",
       "    <tr>\n",
       "      <th>1</th>\n",
       "      <td>2</td>\n",
       "      <td>1</td>\n",
       "      <td>grantpatricia</td>\n",
       "      <td>2</td>\n",
       "    </tr>\n",
       "    <tr>\n",
       "      <th>2</th>\n",
       "      <td>3</td>\n",
       "      <td>1</td>\n",
       "      <td>brandtandrea</td>\n",
       "      <td>5</td>\n",
       "    </tr>\n",
       "    <tr>\n",
       "      <th>3</th>\n",
       "      <td>4</td>\n",
       "      <td>2</td>\n",
       "      <td>lorichen</td>\n",
       "      <td>3</td>\n",
       "    </tr>\n",
       "    <tr>\n",
       "      <th>4</th>\n",
       "      <td>5</td>\n",
       "      <td>2</td>\n",
       "      <td>mariokeller</td>\n",
       "      <td>2</td>\n",
       "    </tr>\n",
       "  </tbody>\n",
       "</table>\n",
       "</div>"
      ],
      "text/plain": [
       "   rating_id  book_id       username  rating\n",
       "0  1          1        ryanfranco     4     \n",
       "1  2          1        grantpatricia  2     \n",
       "2  3          1        brandtandrea   5     \n",
       "3  4          2        lorichen       3     \n",
       "4  5          2        mariokeller    2     "
      ]
     },
     "metadata": {},
     "output_type": "display_data"
    },
    {
     "name": "stdout",
     "output_type": "stream",
     "text": [
      "<class 'pandas.core.frame.DataFrame'>\n",
      "RangeIndex: 6456 entries, 0 to 6455\n",
      "Data columns (total 4 columns):\n",
      " #   Column     Non-Null Count  Dtype \n",
      "---  ------     --------------  ----- \n",
      " 0   rating_id  6456 non-null   int64 \n",
      " 1   book_id    6456 non-null   int64 \n",
      " 2   username   6456 non-null   object\n",
      " 3   rating     6456 non-null   int64 \n",
      "dtypes: int64(3), object(1)\n",
      "memory usage: 201.9+ KB\n"
     ]
    }
   ],
   "source": [
    "read_sql_tabl('''SELECT * FROM ratings''')"
   ]
  },
  {
   "cell_type": "markdown",
   "metadata": {},
   "source": [
    "В таблице `ratings` 4 столбца и 6456 строк. 3 столбца содержит числа, 1 тип object содержит текст. Объем памяти 201.9 KB. Пропуски в данных отсутствуют."
   ]
  },
  {
   "cell_type": "markdown",
   "metadata": {},
   "source": [
    "### 1.5. Обзор таблицы `reviews`\n",
    "\n",
    "Выгрузим данные о пользовательских обзорах на книги"
   ]
  },
  {
   "cell_type": "code",
   "execution_count": 9,
   "metadata": {},
   "outputs": [
    {
     "data": {
      "text/html": [
       "<div>\n",
       "<style scoped>\n",
       "    .dataframe tbody tr th:only-of-type {\n",
       "        vertical-align: middle;\n",
       "    }\n",
       "\n",
       "    .dataframe tbody tr th {\n",
       "        vertical-align: top;\n",
       "    }\n",
       "\n",
       "    .dataframe thead th {\n",
       "        text-align: right;\n",
       "    }\n",
       "</style>\n",
       "<table border=\"1\" class=\"dataframe\">\n",
       "  <thead>\n",
       "    <tr style=\"text-align: right;\">\n",
       "      <th></th>\n",
       "      <th>review_id</th>\n",
       "      <th>book_id</th>\n",
       "      <th>username</th>\n",
       "      <th>text</th>\n",
       "    </tr>\n",
       "  </thead>\n",
       "  <tbody>\n",
       "    <tr>\n",
       "      <th>0</th>\n",
       "      <td>1</td>\n",
       "      <td>1</td>\n",
       "      <td>brandtandrea</td>\n",
       "      <td>Mention society tell send professor analysis. Over provide race technology continue these.</td>\n",
       "    </tr>\n",
       "    <tr>\n",
       "      <th>1</th>\n",
       "      <td>2</td>\n",
       "      <td>1</td>\n",
       "      <td>ryanfranco</td>\n",
       "      <td>Foot glass pretty audience hit themselves. Among admit investment argue security.</td>\n",
       "    </tr>\n",
       "    <tr>\n",
       "      <th>2</th>\n",
       "      <td>3</td>\n",
       "      <td>2</td>\n",
       "      <td>lorichen</td>\n",
       "      <td>Listen treat keep worry. Miss husband tax but person sport treatment industry. Kitchen decision deep the. Social party body the.</td>\n",
       "    </tr>\n",
       "    <tr>\n",
       "      <th>3</th>\n",
       "      <td>4</td>\n",
       "      <td>3</td>\n",
       "      <td>johnsonamanda</td>\n",
       "      <td>Finally month interesting blue could nature cultural bit. Prepare beat finish grow that smile teach. Dream me play near.</td>\n",
       "    </tr>\n",
       "    <tr>\n",
       "      <th>4</th>\n",
       "      <td>5</td>\n",
       "      <td>3</td>\n",
       "      <td>scotttamara</td>\n",
       "      <td>Nation purpose heavy give wait song will. List dinner another whole positive radio fast. Music staff many green.</td>\n",
       "    </tr>\n",
       "  </tbody>\n",
       "</table>\n",
       "</div>"
      ],
      "text/plain": [
       "   review_id  book_id       username  \\\n",
       "0  1          1        brandtandrea    \n",
       "1  2          1        ryanfranco      \n",
       "2  3          2        lorichen        \n",
       "3  4          3        johnsonamanda   \n",
       "4  5          3        scotttamara     \n",
       "\n",
       "                                                                                                                               text  \n",
       "0  Mention society tell send professor analysis. Over provide race technology continue these.                                        \n",
       "1  Foot glass pretty audience hit themselves. Among admit investment argue security.                                                 \n",
       "2  Listen treat keep worry. Miss husband tax but person sport treatment industry. Kitchen decision deep the. Social party body the.  \n",
       "3  Finally month interesting blue could nature cultural bit. Prepare beat finish grow that smile teach. Dream me play near.          \n",
       "4  Nation purpose heavy give wait song will. List dinner another whole positive radio fast. Music staff many green.                  "
      ]
     },
     "metadata": {},
     "output_type": "display_data"
    },
    {
     "name": "stdout",
     "output_type": "stream",
     "text": [
      "<class 'pandas.core.frame.DataFrame'>\n",
      "RangeIndex: 2793 entries, 0 to 2792\n",
      "Data columns (total 4 columns):\n",
      " #   Column     Non-Null Count  Dtype \n",
      "---  ------     --------------  ----- \n",
      " 0   review_id  2793 non-null   int64 \n",
      " 1   book_id    2793 non-null   int64 \n",
      " 2   username   2793 non-null   object\n",
      " 3   text       2793 non-null   object\n",
      "dtypes: int64(2), object(2)\n",
      "memory usage: 87.4+ KB\n"
     ]
    }
   ],
   "source": [
    "read_sql_tabl('''SELECT * FROM reviews''')"
   ]
  },
  {
   "cell_type": "markdown",
   "metadata": {},
   "source": [
    "В таблице `reviews` 4 столбца и 2793 строки. 2 столбца содержит числа, 2 тип object содержат текст. Объем памяти 87.4 KB. Пропуски в данных отсутствуют."
   ]
  },
  {
   "cell_type": "markdown",
   "metadata": {},
   "source": [
    "### 1.6. Выводы\n",
    "\n",
    "Для анализа предоставлено 5 таблиц:\n",
    "- `books` 6 столбцов и 1000 строк.\n",
    "- `authors` 2 столбца и 636 строк.\n",
    "- `publishers` 2 столбца и 340 строк.\n",
    "- `ratings` 4 столбца и 6456 строк.\n",
    "- `reviews` 4 столбца и 2793 строки\n",
    "\n",
    "Пропуски в данных отсутствуют."
   ]
  },
  {
   "cell_type": "markdown",
   "metadata": {},
   "source": [
    "## 2. Выполнение заданий"
   ]
  },
  {
   "cell_type": "markdown",
   "metadata": {},
   "source": [
    "### 2.1. Посчитаем, сколько книг вышло после 1 января 2000 года.\n",
    "\n",
    "Данные о книгах содержатся в таблице `books`, для расчета количества книг, выпущенных в указанный период, нам достаточно только этой таблицы:"
   ]
  },
  {
   "cell_type": "code",
   "execution_count": 10,
   "metadata": {},
   "outputs": [
    {
     "data": {
      "text/html": [
       "<div>\n",
       "<style scoped>\n",
       "    .dataframe tbody tr th:only-of-type {\n",
       "        vertical-align: middle;\n",
       "    }\n",
       "\n",
       "    .dataframe tbody tr th {\n",
       "        vertical-align: top;\n",
       "    }\n",
       "\n",
       "    .dataframe thead th {\n",
       "        text-align: right;\n",
       "    }\n",
       "</style>\n",
       "<table border=\"1\" class=\"dataframe\">\n",
       "  <thead>\n",
       "    <tr style=\"text-align: right;\">\n",
       "      <th></th>\n",
       "      <th>count</th>\n",
       "    </tr>\n",
       "  </thead>\n",
       "  <tbody>\n",
       "    <tr>\n",
       "      <th>0</th>\n",
       "      <td>819</td>\n",
       "    </tr>\n",
       "  </tbody>\n",
       "</table>\n",
       "</div>"
      ],
      "text/plain": [
       "   count\n",
       "0  819  "
      ]
     },
     "execution_count": 10,
     "metadata": {},
     "output_type": "execute_result"
    }
   ],
   "source": [
    "query = (\n",
    "    '''\n",
    "    SELECT\n",
    "        COUNT(title) \n",
    "    FROM books\n",
    "    WHERE publication_date > '2000-01-01'\n",
    "    '''\n",
    ")\n",
    "get_sql_data(query)"
   ]
  },
  {
   "cell_type": "markdown",
   "metadata": {},
   "source": [
    "После 1 января 2000 года вышло 819 книг (81.9% от базы данных о книгах)"
   ]
  },
  {
   "cell_type": "markdown",
   "metadata": {},
   "source": [
    "### 2.2. Для каждой книги посчитаем количество обзоров и среднюю оценку.\n",
    "\n",
    "Данные об обзорах содержатся в таблице `reviews`, данные об оценках в таблице `ratings`, добавим их к таблице `books`, выведем на экран идентификатор книги, название книги, количество обзоров и средний рейтинг "
   ]
  },
  {
   "cell_type": "code",
   "execution_count": 11,
   "metadata": {},
   "outputs": [
    {
     "data": {
      "text/html": [
       "<div>\n",
       "<style scoped>\n",
       "    .dataframe tbody tr th:only-of-type {\n",
       "        vertical-align: middle;\n",
       "    }\n",
       "\n",
       "    .dataframe tbody tr th {\n",
       "        vertical-align: top;\n",
       "    }\n",
       "\n",
       "    .dataframe thead th {\n",
       "        text-align: right;\n",
       "    }\n",
       "</style>\n",
       "<table border=\"1\" class=\"dataframe\">\n",
       "  <thead>\n",
       "    <tr style=\"text-align: right;\">\n",
       "      <th></th>\n",
       "      <th>book_id</th>\n",
       "      <th>title</th>\n",
       "      <th>count_review</th>\n",
       "      <th>avg_rating</th>\n",
       "    </tr>\n",
       "  </thead>\n",
       "  <tbody>\n",
       "    <tr>\n",
       "      <th>0</th>\n",
       "      <td>948</td>\n",
       "      <td>Twilight (Twilight  #1)</td>\n",
       "      <td>7</td>\n",
       "      <td>3.66</td>\n",
       "    </tr>\n",
       "    <tr>\n",
       "      <th>1</th>\n",
       "      <td>302</td>\n",
       "      <td>Harry Potter and the Prisoner of Azkaban (Harry Potter  #3)</td>\n",
       "      <td>6</td>\n",
       "      <td>4.41</td>\n",
       "    </tr>\n",
       "    <tr>\n",
       "      <th>2</th>\n",
       "      <td>299</td>\n",
       "      <td>Harry Potter and the Chamber of Secrets (Harry Potter  #2)</td>\n",
       "      <td>6</td>\n",
       "      <td>4.29</td>\n",
       "    </tr>\n",
       "    <tr>\n",
       "      <th>3</th>\n",
       "      <td>656</td>\n",
       "      <td>The Book Thief</td>\n",
       "      <td>6</td>\n",
       "      <td>4.26</td>\n",
       "    </tr>\n",
       "    <tr>\n",
       "      <th>4</th>\n",
       "      <td>734</td>\n",
       "      <td>The Glass Castle</td>\n",
       "      <td>6</td>\n",
       "      <td>4.21</td>\n",
       "    </tr>\n",
       "    <tr>\n",
       "      <th>...</th>\n",
       "      <td>...</td>\n",
       "      <td>...</td>\n",
       "      <td>...</td>\n",
       "      <td>...</td>\n",
       "    </tr>\n",
       "    <tr>\n",
       "      <th>995</th>\n",
       "      <td>191</td>\n",
       "      <td>Disney's Beauty and the Beast (A Little Golden Book)</td>\n",
       "      <td>0</td>\n",
       "      <td>4.00</td>\n",
       "    </tr>\n",
       "    <tr>\n",
       "      <th>996</th>\n",
       "      <td>387</td>\n",
       "      <td>Leonardo's Notebooks</td>\n",
       "      <td>0</td>\n",
       "      <td>4.00</td>\n",
       "    </tr>\n",
       "    <tr>\n",
       "      <th>997</th>\n",
       "      <td>221</td>\n",
       "      <td>Essential Tales and Poems</td>\n",
       "      <td>0</td>\n",
       "      <td>4.00</td>\n",
       "    </tr>\n",
       "    <tr>\n",
       "      <th>998</th>\n",
       "      <td>83</td>\n",
       "      <td>Anne Rice's The Vampire Lestat: A Graphic Novel</td>\n",
       "      <td>0</td>\n",
       "      <td>3.67</td>\n",
       "    </tr>\n",
       "    <tr>\n",
       "      <th>999</th>\n",
       "      <td>808</td>\n",
       "      <td>The Natural Way to Draw</td>\n",
       "      <td>0</td>\n",
       "      <td>3.00</td>\n",
       "    </tr>\n",
       "  </tbody>\n",
       "</table>\n",
       "<p>1000 rows × 4 columns</p>\n",
       "</div>"
      ],
      "text/plain": [
       "     book_id                                                        title  \\\n",
       "0    948      Twilight (Twilight  #1)                                       \n",
       "1    302      Harry Potter and the Prisoner of Azkaban (Harry Potter  #3)   \n",
       "2    299      Harry Potter and the Chamber of Secrets (Harry Potter  #2)    \n",
       "3    656      The Book Thief                                                \n",
       "4    734      The Glass Castle                                              \n",
       "..   ...                   ...                                              \n",
       "995  191      Disney's Beauty and the Beast (A Little Golden Book)          \n",
       "996  387      Leonardo's Notebooks                                          \n",
       "997  221      Essential Tales and Poems                                     \n",
       "998  83       Anne Rice's The Vampire Lestat: A Graphic Novel               \n",
       "999  808      The Natural Way to Draw                                       \n",
       "\n",
       "     count_review  avg_rating  \n",
       "0    7             3.66        \n",
       "1    6             4.41        \n",
       "2    6             4.29        \n",
       "3    6             4.26        \n",
       "4    6             4.21        \n",
       "..  ..              ...        \n",
       "995  0             4.00        \n",
       "996  0             4.00        \n",
       "997  0             4.00        \n",
       "998  0             3.67        \n",
       "999  0             3.00        \n",
       "\n",
       "[1000 rows x 4 columns]"
      ]
     },
     "execution_count": 11,
     "metadata": {},
     "output_type": "execute_result"
    }
   ],
   "source": [
    "query = (\n",
    "    '''\n",
    "SELECT b.book_id, \n",
    "       b.title,\n",
    "       COUNT(DISTINCT review_id) AS count_review,\n",
    "       ROUND(AVG(rating), 2) AS avg_rating      \n",
    "FROM books AS b\n",
    "LEFT JOIN reviews AS rv ON b.book_id = rv.book_id\n",
    "LEFT JOIN ratings AS rt ON b.book_id = rt.book_id\n",
    "GROUP BY b.book_id\n",
    "ORDER BY count_review DESC, avg_rating DESC\n",
    "    '''\n",
    ")\n",
    "get_sql_data(query)"
   ]
  },
  {
   "cell_type": "markdown",
   "metadata": {},
   "source": [
    "- Больше всего обзоров на книгу `Twilight (Twilight #1)` - 7, при этом у нее средний уровень рейтинга 3.66 баллов.\n",
    "- В ТОП-3 книг по количеству обзоров книги из серии о Гарри Поттере `Harry Potter and the Prisoner of Azkaban (Harry Potter #3)\t` и `Harry Potter and the Chamber of Secrets (Harry Potter #2)`, у этих книг по 6 обзоров и самый высокий рейтинг среди книг с таким количеством обзоров."
   ]
  },
  {
   "cell_type": "markdown",
   "metadata": {},
   "source": [
    "### 2.3. Определим издательство, которое выпустило наибольшее число книг толще 50 страниц (чтобы исключить из анализа брошюры).\n",
    "\n",
    "Информация об издательствах содержится в таблице `publishers`. Добавим эту таблицу к таблице `books`."
   ]
  },
  {
   "cell_type": "code",
   "execution_count": 12,
   "metadata": {},
   "outputs": [
    {
     "data": {
      "text/html": [
       "<div>\n",
       "<style scoped>\n",
       "    .dataframe tbody tr th:only-of-type {\n",
       "        vertical-align: middle;\n",
       "    }\n",
       "\n",
       "    .dataframe tbody tr th {\n",
       "        vertical-align: top;\n",
       "    }\n",
       "\n",
       "    .dataframe thead th {\n",
       "        text-align: right;\n",
       "    }\n",
       "</style>\n",
       "<table border=\"1\" class=\"dataframe\">\n",
       "  <thead>\n",
       "    <tr style=\"text-align: right;\">\n",
       "      <th></th>\n",
       "      <th>publisher</th>\n",
       "      <th>count_book</th>\n",
       "    </tr>\n",
       "  </thead>\n",
       "  <tbody>\n",
       "    <tr>\n",
       "      <th>0</th>\n",
       "      <td>Penguin Books</td>\n",
       "      <td>42</td>\n",
       "    </tr>\n",
       "  </tbody>\n",
       "</table>\n",
       "</div>"
      ],
      "text/plain": [
       "       publisher  count_book\n",
       "0  Penguin Books  42        "
      ]
     },
     "execution_count": 12,
     "metadata": {},
     "output_type": "execute_result"
    }
   ],
   "source": [
    "query = (\n",
    "    '''\n",
    "SELECT publisher,\n",
    "        COUNT(book_id) AS count_book\n",
    "\n",
    "FROM books AS b\n",
    "LEFT JOIN publishers AS p ON b.publisher_id = p.publisher_id\n",
    "WHERE num_pages > 50\n",
    "GROUP BY publisher\n",
    "ORDER BY count_book DESC      \n",
    "LIMIT 1\n",
    "    '''\n",
    ")\n",
    "get_sql_data(query)"
   ]
  },
  {
   "cell_type": "markdown",
   "metadata": {},
   "source": [
    "Наибольшее число 42 книги толщиной более 50 страниц выпустило издательство `Penguin Books` "
   ]
  },
  {
   "cell_type": "markdown",
   "metadata": {},
   "source": [
    "### 2.4. Определим автора с самой высокой средней оценкой книг — учтем только книги с 50 и более оценками.\n",
    "\n",
    "Данные об авторах содержатся в таблице `authors`, оценки содержатся в таблице `ratings`. Прямых связей между таблицами нет, объединим их через таблицу `books`"
   ]
  },
  {
   "cell_type": "code",
   "execution_count": 13,
   "metadata": {},
   "outputs": [
    {
     "data": {
      "text/html": [
       "<div>\n",
       "<style scoped>\n",
       "    .dataframe tbody tr th:only-of-type {\n",
       "        vertical-align: middle;\n",
       "    }\n",
       "\n",
       "    .dataframe tbody tr th {\n",
       "        vertical-align: top;\n",
       "    }\n",
       "\n",
       "    .dataframe thead th {\n",
       "        text-align: right;\n",
       "    }\n",
       "</style>\n",
       "<table border=\"1\" class=\"dataframe\">\n",
       "  <thead>\n",
       "    <tr style=\"text-align: right;\">\n",
       "      <th></th>\n",
       "      <th>author</th>\n",
       "      <th>avg_rating</th>\n",
       "    </tr>\n",
       "  </thead>\n",
       "  <tbody>\n",
       "    <tr>\n",
       "      <th>0</th>\n",
       "      <td>J.K. Rowling/Mary GrandPré</td>\n",
       "      <td>4.29</td>\n",
       "    </tr>\n",
       "    <tr>\n",
       "      <th>1</th>\n",
       "      <td>Markus Zusak/Cao Xuân Việt Khương</td>\n",
       "      <td>4.26</td>\n",
       "    </tr>\n",
       "    <tr>\n",
       "      <th>2</th>\n",
       "      <td>J.R.R. Tolkien</td>\n",
       "      <td>4.24</td>\n",
       "    </tr>\n",
       "    <tr>\n",
       "      <th>3</th>\n",
       "      <td>Louisa May Alcott</td>\n",
       "      <td>4.20</td>\n",
       "    </tr>\n",
       "    <tr>\n",
       "      <th>4</th>\n",
       "      <td>Rick Riordan</td>\n",
       "      <td>4.13</td>\n",
       "    </tr>\n",
       "  </tbody>\n",
       "</table>\n",
       "</div>"
      ],
      "text/plain": [
       "                              author  avg_rating\n",
       "0  J.K. Rowling/Mary GrandPré         4.29      \n",
       "1  Markus Zusak/Cao Xuân Việt Khương  4.26      \n",
       "2  J.R.R. Tolkien                     4.24      \n",
       "3  Louisa May Alcott                  4.20      \n",
       "4  Rick Riordan                       4.13      "
      ]
     },
     "execution_count": 13,
     "metadata": {},
     "output_type": "execute_result"
    }
   ],
   "source": [
    "query = (\n",
    "    '''\n",
    "  \n",
    "SELECT a.author,\n",
    "       ROUND(AVG(rating), 2) AS avg_rating\n",
    "FROM authors AS a\n",
    "LEFT JOIN books AS b ON a.author_id = b.author_id\n",
    "LEFT JOIN ratings AS rt ON b.book_id = rt.book_id\n",
    "WHERE a.author_id in (SELECT b.author_id\n",
    "                    FROM books AS b\n",
    "                    LEFT JOIN ratings AS rt ON b.book_id = rt.book_id\n",
    "                    GROUP BY b.book_id\n",
    "                    HAVING COUNT(rating) >= 50)\n",
    "GROUP BY a.author_id\n",
    "ORDER BY avg_rating DESC\n",
    "LIMIT 5\n",
    "\n",
    "    '''\n",
    ")\n",
    "get_sql_data(query)"
   ]
  },
  {
   "cell_type": "markdown",
   "metadata": {},
   "source": [
    "Среди книг с 50 и более оценками с самой высокой средней оценкой 4.29 автор  `J.K. Rowling/Mary GrandPré`. Дж. Роулинг и ее \"Гарри Поттер\" с иллюстрациями от Мари ГранПре. "
   ]
  },
  {
   "cell_type": "markdown",
   "metadata": {},
   "source": [
    "### 2.5. Посчитаем среднее количество обзоров от пользователей, которые поставили больше 48 оценок.\n",
    "\n",
    "Данные об обзорах содержатся в таблице `reviews`, данные об оценках в таблице `ratings`"
   ]
  },
  {
   "cell_type": "code",
   "execution_count": 14,
   "metadata": {},
   "outputs": [
    {
     "data": {
      "text/html": [
       "<div>\n",
       "<style scoped>\n",
       "    .dataframe tbody tr th:only-of-type {\n",
       "        vertical-align: middle;\n",
       "    }\n",
       "\n",
       "    .dataframe tbody tr th {\n",
       "        vertical-align: top;\n",
       "    }\n",
       "\n",
       "    .dataframe thead th {\n",
       "        text-align: right;\n",
       "    }\n",
       "</style>\n",
       "<table border=\"1\" class=\"dataframe\">\n",
       "  <thead>\n",
       "    <tr style=\"text-align: right;\">\n",
       "      <th></th>\n",
       "      <th>avg</th>\n",
       "    </tr>\n",
       "  </thead>\n",
       "  <tbody>\n",
       "    <tr>\n",
       "      <th>0</th>\n",
       "      <td>24.0</td>\n",
       "    </tr>\n",
       "  </tbody>\n",
       "</table>\n",
       "</div>"
      ],
      "text/plain": [
       "    avg\n",
       "0  24.0"
      ]
     },
     "execution_count": 14,
     "metadata": {},
     "output_type": "execute_result"
    }
   ],
   "source": [
    "query = (\n",
    "    '''\n",
    "WITH\n",
    "rt AS \n",
    "    (SELECT username\n",
    "    FROM ratings\n",
    "    GROUP BY username\n",
    "    HAVING COUNT(rating) > 48\n",
    "    ORDER BY COUNT(rating) DESC),\n",
    "\n",
    "rv AS\n",
    "    (SELECT username,\n",
    "           COUNT(review_id) AS count_review\n",
    "    FROM reviews \n",
    "    GROUP BY username)\n",
    "    \n",
    "\n",
    "SELECT AVG(count_review)\n",
    "FROM rt\n",
    "JOIN rv ON rt.username = rv.username\n",
    "\n",
    "    '''\n",
    ")\n",
    "get_sql_data(query)"
   ]
  },
  {
   "cell_type": "markdown",
   "metadata": {},
   "source": [
    "Пользователи, поставившие более 48 оценок, оставили в среднем 24 обзора."
   ]
  },
  {
   "cell_type": "markdown",
   "metadata": {},
   "source": [
    "## 3. Итоги исследования\n",
    "\n",
    "\n",
    "Мы проанализировали 5 таблиц в соответствии с ТЗ и получили следующую информацию:\n",
    "\n",
    "1. После 1 января 2000 года вышло 819 книг (81.9% от базы данных о книгах)\n",
    "\n",
    "\n",
    "2. Средни всех книг, содержащися в базе: \n",
    "    - Больше всего обзоров на книгу `Twilight (Twilight #1)` - 7, при этом у нее средний уровень рейтинга 3.66 баллов.\n",
    "    - В ТОП-3 книг по количеству обзоров книги из серии о Гарри Поттере `Harry Potter and the Prisoner of Azkaban (Harry Potter #3)\t` и `Harry Potter and the Chamber of Secrets (Harry Potter #2)`, у этих книг по 6 обзоров и самый высокий рейтинг среди книг с таким количеством обзоров.\n",
    "    \n",
    "    \n",
    "3. Наибольшее число 42 книги толщиной более 50 страниц выпустило издательство `Penguin Books`.\n",
    "\n",
    "\n",
    "4. Среди книг с 50 и более оценками с самой высокой средней оценкой 4.29 автор  `J.K. Rowling/Mary GrandPré`. Дж. Роулинг и ее \"Гарри Поттер\" с иллюстрациями от Мари ГранПре. \n",
    "\n",
    "\n",
    "5. Пользователи, поставившие более 48 оценок, оставили в среднем 24 обзора.\n",
    "\n",
    "Рекомендации:\n",
    "\n",
    "1. Для привлечения новых пользователей нужно увеличить книготеку, 1000 книг в подборке от 636 авторов - это небольшое количество. \n",
    "2. Пользователи оставляют небольшое количество обзоров и оценок книг, нужно внедрить инструменты, которые помогут пользователям более активно делиться своим мнением. В качестве инструмента поощрения за участие в рецензировании можно дарить подписку на чтение какой-то рейтинговой книги.\n",
    "3. При формировании ценностного предложения учитывать количество обзоров и уровень рейтинга в совокупности. Можем сказать, в лидерах серии книг от Дж. Роулинг о Гарри Поттере, и от таких авторов как:\n",
    "    - Маркус Зусак,\n",
    "    - Дж.Р.Толкиен,\n",
    "    - Луиза Мей Олкотт,\n",
    "    - Рик Риордан.        "
   ]
  },
  {
   "cell_type": "code",
   "execution_count": null,
   "metadata": {},
   "outputs": [],
   "source": []
  }
 ],
 "metadata": {
  "ExecuteTimeLog": [
   {
    "duration": 483,
    "start_time": "2023-10-03T19:11:50.472Z"
   },
   {
    "duration": 10870,
    "start_time": "2023-10-03T19:12:13.105Z"
   },
   {
    "duration": 4,
    "start_time": "2023-10-03T19:12:37.595Z"
   },
   {
    "duration": 486,
    "start_time": "2023-10-03T19:13:14.770Z"
   },
   {
    "duration": 9907,
    "start_time": "2023-10-03T19:13:15.258Z"
   },
   {
    "duration": 4,
    "start_time": "2023-10-03T19:13:25.166Z"
   },
   {
    "duration": 21,
    "start_time": "2023-10-03T19:13:25.172Z"
   },
   {
    "duration": 384,
    "start_time": "2023-10-03T19:13:56.886Z"
   },
   {
    "duration": 169,
    "start_time": "2023-10-03T19:14:41.920Z"
   },
   {
    "duration": 159,
    "start_time": "2023-10-03T19:15:26.761Z"
   },
   {
    "duration": 223,
    "start_time": "2023-10-03T19:16:14.491Z"
   },
   {
    "duration": 209,
    "start_time": "2023-10-03T19:17:07.106Z"
   },
   {
    "duration": 51,
    "start_time": "2023-10-03T19:18:16.828Z"
   },
   {
    "duration": 96,
    "start_time": "2023-10-03T19:20:16.077Z"
   },
   {
    "duration": 54,
    "start_time": "2023-10-03T19:21:45.141Z"
   },
   {
    "duration": 51,
    "start_time": "2023-10-03T19:22:17.504Z"
   },
   {
    "duration": 55,
    "start_time": "2023-10-03T19:25:35.019Z"
   },
   {
    "duration": 54,
    "start_time": "2023-10-03T19:26:56.730Z"
   },
   {
    "duration": 537,
    "start_time": "2023-10-03T19:28:25.138Z"
   },
   {
    "duration": 9377,
    "start_time": "2023-10-03T19:28:25.677Z"
   },
   {
    "duration": 3,
    "start_time": "2023-10-03T19:28:35.056Z"
   },
   {
    "duration": 11,
    "start_time": "2023-10-03T19:28:35.060Z"
   },
   {
    "duration": 370,
    "start_time": "2023-10-03T19:28:35.072Z"
   },
   {
    "duration": 145,
    "start_time": "2023-10-03T19:28:35.444Z"
   },
   {
    "duration": 143,
    "start_time": "2023-10-03T19:28:35.591Z"
   },
   {
    "duration": 177,
    "start_time": "2023-10-03T19:28:35.736Z"
   },
   {
    "duration": 164,
    "start_time": "2023-10-03T19:28:35.915Z"
   },
   {
    "duration": 53,
    "start_time": "2023-10-03T19:28:36.082Z"
   },
   {
    "duration": 73,
    "start_time": "2023-10-03T19:28:36.136Z"
   },
   {
    "duration": 52,
    "start_time": "2023-10-03T19:28:36.211Z"
   },
   {
    "duration": 57,
    "start_time": "2023-10-03T19:28:36.264Z"
   },
   {
    "duration": 53,
    "start_time": "2023-10-03T19:28:36.323Z"
   },
   {
    "duration": 484,
    "start_time": "2023-10-03T19:36:19.382Z"
   },
   {
    "duration": 9908,
    "start_time": "2023-10-03T19:36:19.868Z"
   },
   {
    "duration": 3,
    "start_time": "2023-10-03T19:36:29.777Z"
   },
   {
    "duration": 38,
    "start_time": "2023-10-03T19:36:29.782Z"
   },
   {
    "duration": 392,
    "start_time": "2023-10-03T19:36:29.821Z"
   },
   {
    "duration": 147,
    "start_time": "2023-10-03T19:36:30.214Z"
   },
   {
    "duration": 170,
    "start_time": "2023-10-03T19:36:30.363Z"
   },
   {
    "duration": 179,
    "start_time": "2023-10-03T19:36:30.535Z"
   },
   {
    "duration": 156,
    "start_time": "2023-10-03T19:36:30.716Z"
   },
   {
    "duration": 51,
    "start_time": "2023-10-03T19:36:30.874Z"
   },
   {
    "duration": 153,
    "start_time": "2023-10-03T19:36:30.926Z"
   },
   {
    "duration": 178,
    "start_time": "2023-10-03T19:36:31.080Z"
   },
   {
    "duration": 73,
    "start_time": "2023-10-03T19:36:31.260Z"
   },
   {
    "duration": 66,
    "start_time": "2023-10-03T19:36:31.334Z"
   },
   {
    "duration": 576,
    "start_time": "2023-10-04T09:03:42.265Z"
   },
   {
    "duration": 13049,
    "start_time": "2023-10-04T09:03:42.843Z"
   },
   {
    "duration": 4,
    "start_time": "2023-10-04T09:03:55.893Z"
   },
   {
    "duration": 7,
    "start_time": "2023-10-04T09:03:55.899Z"
   },
   {
    "duration": 90,
    "start_time": "2023-10-04T09:03:55.909Z"
   },
   {
    "duration": 27,
    "start_time": "2023-10-04T09:03:56.000Z"
   },
   {
    "duration": 27,
    "start_time": "2023-10-04T09:03:56.029Z"
   },
   {
    "duration": 54,
    "start_time": "2023-10-04T09:03:56.058Z"
   },
   {
    "duration": 80,
    "start_time": "2023-10-04T09:03:56.114Z"
   },
   {
    "duration": 78,
    "start_time": "2023-10-04T09:03:56.197Z"
   },
   {
    "duration": 215,
    "start_time": "2023-10-04T09:03:56.276Z"
   },
   {
    "duration": 34,
    "start_time": "2023-10-04T09:03:56.493Z"
   },
   {
    "duration": 30,
    "start_time": "2023-10-04T09:03:56.529Z"
   },
   {
    "duration": 26,
    "start_time": "2023-10-04T09:03:56.562Z"
   },
   {
    "duration": 577,
    "start_time": "2023-10-04T10:34:09.293Z"
   },
   {
    "duration": 15272,
    "start_time": "2023-10-04T10:34:09.872Z"
   },
   {
    "duration": 4,
    "start_time": "2023-10-04T10:34:25.146Z"
   },
   {
    "duration": 23,
    "start_time": "2023-10-04T10:34:25.152Z"
   },
   {
    "duration": 413,
    "start_time": "2023-10-04T10:34:25.177Z"
   },
   {
    "duration": 149,
    "start_time": "2023-10-04T10:34:25.592Z"
   },
   {
    "duration": 146,
    "start_time": "2023-10-04T10:34:25.743Z"
   },
   {
    "duration": 236,
    "start_time": "2023-10-04T10:34:25.891Z"
   },
   {
    "duration": 187,
    "start_time": "2023-10-04T10:34:26.129Z"
   },
   {
    "duration": 51,
    "start_time": "2023-10-04T10:34:26.319Z"
   },
   {
    "duration": 74,
    "start_time": "2023-10-04T10:34:26.371Z"
   },
   {
    "duration": 54,
    "start_time": "2023-10-04T10:34:26.447Z"
   },
   {
    "duration": 78,
    "start_time": "2023-10-04T10:34:26.503Z"
   },
   {
    "duration": 54,
    "start_time": "2023-10-04T10:34:26.582Z"
   },
   {
    "duration": 4,
    "start_time": "2023-10-04T10:39:41.203Z"
   },
   {
    "duration": 5,
    "start_time": "2023-10-04T10:40:11.882Z"
   },
   {
    "duration": 585,
    "start_time": "2023-10-04T10:40:24.532Z"
   },
   {
    "duration": 13089,
    "start_time": "2023-10-04T10:40:25.120Z"
   },
   {
    "duration": 5,
    "start_time": "2023-10-04T10:40:38.211Z"
   },
   {
    "duration": 29,
    "start_time": "2023-10-04T10:40:38.218Z"
   },
   {
    "duration": 83,
    "start_time": "2023-10-04T10:40:38.248Z"
   },
   {
    "duration": 0,
    "start_time": "2023-10-04T10:40:38.333Z"
   },
   {
    "duration": 0,
    "start_time": "2023-10-04T10:40:38.335Z"
   },
   {
    "duration": 0,
    "start_time": "2023-10-04T10:40:38.336Z"
   },
   {
    "duration": 1,
    "start_time": "2023-10-04T10:40:38.337Z"
   },
   {
    "duration": 0,
    "start_time": "2023-10-04T10:40:38.339Z"
   },
   {
    "duration": 0,
    "start_time": "2023-10-04T10:40:38.340Z"
   },
   {
    "duration": 0,
    "start_time": "2023-10-04T10:40:38.341Z"
   },
   {
    "duration": 0,
    "start_time": "2023-10-04T10:40:38.342Z"
   },
   {
    "duration": 0,
    "start_time": "2023-10-04T10:40:38.344Z"
   },
   {
    "duration": 568,
    "start_time": "2023-10-04T10:40:58.162Z"
   },
   {
    "duration": 18798,
    "start_time": "2023-10-04T10:40:58.733Z"
   },
   {
    "duration": 4,
    "start_time": "2023-10-04T10:41:17.536Z"
   },
   {
    "duration": 184,
    "start_time": "2023-10-04T10:41:17.543Z"
   },
   {
    "duration": 104,
    "start_time": "2023-10-04T10:41:17.729Z"
   },
   {
    "duration": 0,
    "start_time": "2023-10-04T10:41:17.836Z"
   },
   {
    "duration": 0,
    "start_time": "2023-10-04T10:41:17.837Z"
   },
   {
    "duration": 0,
    "start_time": "2023-10-04T10:41:17.839Z"
   },
   {
    "duration": 1,
    "start_time": "2023-10-04T10:41:17.840Z"
   },
   {
    "duration": 0,
    "start_time": "2023-10-04T10:41:17.842Z"
   },
   {
    "duration": 0,
    "start_time": "2023-10-04T10:41:17.843Z"
   },
   {
    "duration": 0,
    "start_time": "2023-10-04T10:41:17.844Z"
   },
   {
    "duration": 0,
    "start_time": "2023-10-04T10:41:17.845Z"
   },
   {
    "duration": 0,
    "start_time": "2023-10-04T10:41:17.847Z"
   },
   {
    "duration": 3,
    "start_time": "2023-10-04T10:44:42.838Z"
   },
   {
    "duration": 4,
    "start_time": "2023-10-04T10:52:31.033Z"
   },
   {
    "duration": 308,
    "start_time": "2023-10-04T10:52:35.574Z"
   },
   {
    "duration": 5,
    "start_time": "2023-10-04T10:53:34.477Z"
   },
   {
    "duration": 189,
    "start_time": "2023-10-04T10:53:42.335Z"
   },
   {
    "duration": 589,
    "start_time": "2023-10-04T10:55:24.973Z"
   },
   {
    "duration": 15495,
    "start_time": "2023-10-04T10:55:25.564Z"
   },
   {
    "duration": 4,
    "start_time": "2023-10-04T10:55:41.061Z"
   },
   {
    "duration": 25,
    "start_time": "2023-10-04T10:55:41.067Z"
   },
   {
    "duration": 380,
    "start_time": "2023-10-04T10:55:41.094Z"
   },
   {
    "duration": 150,
    "start_time": "2023-10-04T10:55:41.476Z"
   },
   {
    "duration": 149,
    "start_time": "2023-10-04T10:55:41.628Z"
   },
   {
    "duration": 184,
    "start_time": "2023-10-04T10:55:41.779Z"
   },
   {
    "duration": 162,
    "start_time": "2023-10-04T10:55:41.965Z"
   },
   {
    "duration": 52,
    "start_time": "2023-10-04T10:55:42.131Z"
   },
   {
    "duration": 70,
    "start_time": "2023-10-04T10:55:42.185Z"
   },
   {
    "duration": 53,
    "start_time": "2023-10-04T10:55:42.257Z"
   },
   {
    "duration": 58,
    "start_time": "2023-10-04T10:55:42.312Z"
   },
   {
    "duration": 54,
    "start_time": "2023-10-04T10:55:42.372Z"
   },
   {
    "duration": 57,
    "start_time": "2023-10-04T11:02:09.476Z"
   },
   {
    "duration": 4,
    "start_time": "2023-10-04T11:06:28.292Z"
   },
   {
    "duration": 573,
    "start_time": "2023-10-04T11:06:33.706Z"
   },
   {
    "duration": 13017,
    "start_time": "2023-10-04T11:06:34.282Z"
   },
   {
    "duration": 3,
    "start_time": "2023-10-04T11:06:47.301Z"
   },
   {
    "duration": 30,
    "start_time": "2023-10-04T11:06:47.306Z"
   },
   {
    "duration": 139,
    "start_time": "2023-10-04T11:06:47.338Z"
   },
   {
    "duration": 0,
    "start_time": "2023-10-04T11:06:47.479Z"
   },
   {
    "duration": 0,
    "start_time": "2023-10-04T11:06:47.480Z"
   },
   {
    "duration": 0,
    "start_time": "2023-10-04T11:06:47.481Z"
   },
   {
    "duration": 0,
    "start_time": "2023-10-04T11:06:47.482Z"
   },
   {
    "duration": 0,
    "start_time": "2023-10-04T11:06:47.483Z"
   },
   {
    "duration": 0,
    "start_time": "2023-10-04T11:06:47.484Z"
   },
   {
    "duration": 0,
    "start_time": "2023-10-04T11:06:47.486Z"
   },
   {
    "duration": 0,
    "start_time": "2023-10-04T11:06:47.486Z"
   },
   {
    "duration": 0,
    "start_time": "2023-10-04T11:06:47.488Z"
   },
   {
    "duration": 0,
    "start_time": "2023-10-04T11:06:47.502Z"
   },
   {
    "duration": 501,
    "start_time": "2023-10-04T11:07:16.147Z"
   },
   {
    "duration": 11595,
    "start_time": "2023-10-04T11:07:16.650Z"
   },
   {
    "duration": 3,
    "start_time": "2023-10-04T11:07:28.247Z"
   },
   {
    "duration": 111,
    "start_time": "2023-10-04T11:07:28.252Z"
   },
   {
    "duration": 425,
    "start_time": "2023-10-04T11:07:28.365Z"
   },
   {
    "duration": 152,
    "start_time": "2023-10-04T11:07:28.792Z"
   },
   {
    "duration": 149,
    "start_time": "2023-10-04T11:07:28.945Z"
   },
   {
    "duration": 192,
    "start_time": "2023-10-04T11:07:29.096Z"
   },
   {
    "duration": 166,
    "start_time": "2023-10-04T11:07:29.290Z"
   },
   {
    "duration": 224,
    "start_time": "2023-10-04T11:07:29.459Z"
   },
   {
    "duration": 146,
    "start_time": "2023-10-04T11:07:29.685Z"
   },
   {
    "duration": 129,
    "start_time": "2023-10-04T11:07:29.833Z"
   },
   {
    "duration": 346,
    "start_time": "2023-10-04T11:07:29.964Z"
   },
   {
    "duration": 880,
    "start_time": "2023-10-04T11:07:30.311Z"
   },
   {
    "duration": 645,
    "start_time": "2023-10-04T11:07:31.193Z"
   },
   {
    "duration": 189,
    "start_time": "2023-10-04T11:10:08.009Z"
   },
   {
    "duration": 59,
    "start_time": "2023-10-04T11:11:19.775Z"
   },
   {
    "duration": 61,
    "start_time": "2023-10-04T11:11:58.944Z"
   },
   {
    "duration": 188,
    "start_time": "2023-10-04T11:13:33.466Z"
   },
   {
    "duration": 883,
    "start_time": "2023-10-04T11:16:34.484Z"
   },
   {
    "duration": 58,
    "start_time": "2023-10-04T11:17:23.337Z"
   },
   {
    "duration": 57,
    "start_time": "2023-10-04T11:17:40.217Z"
   },
   {
    "duration": 61,
    "start_time": "2023-10-04T11:32:33.482Z"
   },
   {
    "duration": 143,
    "start_time": "2023-10-04T11:32:56.582Z"
   },
   {
    "duration": 67,
    "start_time": "2023-10-04T11:34:36.905Z"
   },
   {
    "duration": 65,
    "start_time": "2023-10-04T11:35:04.872Z"
   },
   {
    "duration": 67,
    "start_time": "2023-10-04T11:35:45.808Z"
   },
   {
    "duration": 60,
    "start_time": "2023-10-04T11:35:57.208Z"
   },
   {
    "duration": 66,
    "start_time": "2023-10-04T11:45:26.687Z"
   },
   {
    "duration": 67,
    "start_time": "2023-10-04T11:46:24.080Z"
   },
   {
    "duration": 60,
    "start_time": "2023-10-04T11:46:52.933Z"
   },
   {
    "duration": 65,
    "start_time": "2023-10-04T12:11:18.959Z"
   },
   {
    "duration": 65,
    "start_time": "2023-10-04T12:11:31.959Z"
   },
   {
    "duration": 65,
    "start_time": "2023-10-04T12:11:37.413Z"
   },
   {
    "duration": 64,
    "start_time": "2023-10-04T12:11:49.318Z"
   },
   {
    "duration": 59,
    "start_time": "2023-10-04T12:11:58.469Z"
   },
   {
    "duration": 83,
    "start_time": "2023-10-04T12:12:46.764Z"
   },
   {
    "duration": 71,
    "start_time": "2023-10-04T12:14:14.587Z"
   },
   {
    "duration": 63,
    "start_time": "2023-10-04T12:14:25.985Z"
   },
   {
    "duration": 60,
    "start_time": "2023-10-04T12:14:46.017Z"
   },
   {
    "duration": 59,
    "start_time": "2023-10-04T12:15:25.932Z"
   },
   {
    "duration": 59,
    "start_time": "2023-10-04T12:16:00.631Z"
   },
   {
    "duration": 63,
    "start_time": "2023-10-04T12:16:40.736Z"
   },
   {
    "duration": 59,
    "start_time": "2023-10-04T12:18:15.871Z"
   },
   {
    "duration": 90,
    "start_time": "2023-10-04T12:28:08.833Z"
   },
   {
    "duration": 88,
    "start_time": "2023-10-04T12:29:32.003Z"
   },
   {
    "duration": 89,
    "start_time": "2023-10-04T12:29:36.745Z"
   },
   {
    "duration": 94,
    "start_time": "2023-10-04T12:32:14.008Z"
   },
   {
    "duration": 89,
    "start_time": "2023-10-04T12:32:44.669Z"
   },
   {
    "duration": 63,
    "start_time": "2023-10-04T12:34:01.575Z"
   },
   {
    "duration": 92,
    "start_time": "2023-10-04T12:34:06.698Z"
   },
   {
    "duration": 98,
    "start_time": "2023-10-04T12:35:58.767Z"
   },
   {
    "duration": 3,
    "start_time": "2023-10-04T12:37:52.681Z"
   },
   {
    "duration": 213,
    "start_time": "2023-10-04T12:37:59.667Z"
   },
   {
    "duration": 522,
    "start_time": "2023-10-04T12:38:09.845Z"
   },
   {
    "duration": 11382,
    "start_time": "2023-10-04T12:38:10.369Z"
   },
   {
    "duration": 4,
    "start_time": "2023-10-04T12:38:21.753Z"
   },
   {
    "duration": 29,
    "start_time": "2023-10-04T12:38:21.759Z"
   },
   {
    "duration": 425,
    "start_time": "2023-10-04T12:38:21.790Z"
   },
   {
    "duration": 149,
    "start_time": "2023-10-04T12:38:22.217Z"
   },
   {
    "duration": 147,
    "start_time": "2023-10-04T12:38:22.367Z"
   },
   {
    "duration": 181,
    "start_time": "2023-10-04T12:38:22.515Z"
   },
   {
    "duration": 162,
    "start_time": "2023-10-04T12:38:22.698Z"
   },
   {
    "duration": 54,
    "start_time": "2023-10-04T12:38:22.863Z"
   },
   {
    "duration": 74,
    "start_time": "2023-10-04T12:38:22.919Z"
   },
   {
    "duration": 52,
    "start_time": "2023-10-04T12:38:22.994Z"
   },
   {
    "duration": 56,
    "start_time": "2023-10-04T12:38:23.048Z"
   },
   {
    "duration": 56,
    "start_time": "2023-10-04T12:38:23.105Z"
   },
   {
    "duration": 63,
    "start_time": "2023-10-04T12:40:36.950Z"
   },
   {
    "duration": 89,
    "start_time": "2023-10-04T12:41:06.965Z"
   },
   {
    "duration": 549,
    "start_time": "2023-10-04T12:42:07.865Z"
   },
   {
    "duration": 16914,
    "start_time": "2023-10-04T12:42:08.416Z"
   },
   {
    "duration": 3,
    "start_time": "2023-10-04T12:42:25.332Z"
   },
   {
    "duration": 130,
    "start_time": "2023-10-04T12:42:25.337Z"
   },
   {
    "duration": 392,
    "start_time": "2023-10-04T12:42:25.468Z"
   },
   {
    "duration": 147,
    "start_time": "2023-10-04T12:42:25.862Z"
   },
   {
    "duration": 145,
    "start_time": "2023-10-04T12:42:26.011Z"
   },
   {
    "duration": 181,
    "start_time": "2023-10-04T12:42:26.158Z"
   },
   {
    "duration": 157,
    "start_time": "2023-10-04T12:42:26.341Z"
   },
   {
    "duration": 52,
    "start_time": "2023-10-04T12:42:26.501Z"
   },
   {
    "duration": 70,
    "start_time": "2023-10-04T12:42:26.555Z"
   },
   {
    "duration": 53,
    "start_time": "2023-10-04T12:42:26.627Z"
   },
   {
    "duration": 56,
    "start_time": "2023-10-04T12:42:26.682Z"
   },
   {
    "duration": 69,
    "start_time": "2023-10-04T12:42:26.740Z"
   },
   {
    "duration": 60,
    "start_time": "2023-10-04T12:45:41.826Z"
   },
   {
    "duration": 540,
    "start_time": "2023-10-04T12:48:01.661Z"
   },
   {
    "duration": 11124,
    "start_time": "2023-10-04T12:48:02.203Z"
   },
   {
    "duration": 4,
    "start_time": "2023-10-04T12:48:13.329Z"
   },
   {
    "duration": 38,
    "start_time": "2023-10-04T12:48:13.335Z"
   },
   {
    "duration": 374,
    "start_time": "2023-10-04T12:48:13.375Z"
   },
   {
    "duration": 146,
    "start_time": "2023-10-04T12:48:13.750Z"
   },
   {
    "duration": 147,
    "start_time": "2023-10-04T12:48:13.898Z"
   },
   {
    "duration": 185,
    "start_time": "2023-10-04T12:48:14.046Z"
   },
   {
    "duration": 159,
    "start_time": "2023-10-04T12:48:14.233Z"
   },
   {
    "duration": 51,
    "start_time": "2023-10-04T12:48:14.394Z"
   },
   {
    "duration": 68,
    "start_time": "2023-10-04T12:48:14.446Z"
   },
   {
    "duration": 71,
    "start_time": "2023-10-04T12:48:14.516Z"
   },
   {
    "duration": 61,
    "start_time": "2023-10-04T12:48:14.589Z"
   },
   {
    "duration": 61,
    "start_time": "2023-10-04T12:48:14.654Z"
   },
   {
    "duration": 57,
    "start_time": "2023-10-04T12:54:45.282Z"
   },
   {
    "duration": 57,
    "start_time": "2023-10-04T12:55:11.398Z"
   },
   {
    "duration": 67,
    "start_time": "2023-10-04T13:20:44.906Z"
   },
   {
    "duration": 67,
    "start_time": "2023-10-04T13:21:14.129Z"
   },
   {
    "duration": 89,
    "start_time": "2023-10-04T13:21:32.531Z"
   },
   {
    "duration": 62,
    "start_time": "2023-10-04T13:21:44.639Z"
   },
   {
    "duration": 57,
    "start_time": "2023-10-04T13:22:12.557Z"
   },
   {
    "duration": 553,
    "start_time": "2023-10-04T13:31:16.962Z"
   },
   {
    "duration": 11793,
    "start_time": "2023-10-04T13:31:17.517Z"
   },
   {
    "duration": 3,
    "start_time": "2023-10-04T13:31:29.312Z"
   },
   {
    "duration": 31,
    "start_time": "2023-10-04T13:31:29.318Z"
   },
   {
    "duration": 374,
    "start_time": "2023-10-04T13:31:29.351Z"
   },
   {
    "duration": 158,
    "start_time": "2023-10-04T13:31:29.727Z"
   },
   {
    "duration": 145,
    "start_time": "2023-10-04T13:31:29.887Z"
   },
   {
    "duration": 184,
    "start_time": "2023-10-04T13:31:30.035Z"
   },
   {
    "duration": 273,
    "start_time": "2023-10-04T13:31:30.222Z"
   },
   {
    "duration": 1130,
    "start_time": "2023-10-04T13:31:30.498Z"
   },
   {
    "duration": 159,
    "start_time": "2023-10-04T13:31:31.630Z"
   },
   {
    "duration": 85,
    "start_time": "2023-10-04T13:31:31.791Z"
   },
   {
    "duration": 58,
    "start_time": "2023-10-04T13:31:31.878Z"
   },
   {
    "duration": 117,
    "start_time": "2023-10-04T13:31:31.937Z"
   },
   {
    "duration": 563,
    "start_time": "2023-10-04T13:33:15.690Z"
   },
   {
    "duration": 11241,
    "start_time": "2023-10-04T13:33:16.255Z"
   },
   {
    "duration": 3,
    "start_time": "2023-10-04T13:33:27.499Z"
   },
   {
    "duration": 48,
    "start_time": "2023-10-04T13:33:27.504Z"
   },
   {
    "duration": 410,
    "start_time": "2023-10-04T13:33:27.554Z"
   },
   {
    "duration": 146,
    "start_time": "2023-10-04T13:33:27.966Z"
   },
   {
    "duration": 145,
    "start_time": "2023-10-04T13:33:28.114Z"
   },
   {
    "duration": 180,
    "start_time": "2023-10-04T13:33:28.262Z"
   },
   {
    "duration": 156,
    "start_time": "2023-10-04T13:33:28.444Z"
   },
   {
    "duration": 52,
    "start_time": "2023-10-04T13:33:28.603Z"
   },
   {
    "duration": 73,
    "start_time": "2023-10-04T13:33:28.656Z"
   },
   {
    "duration": 54,
    "start_time": "2023-10-04T13:33:28.731Z"
   },
   {
    "duration": 56,
    "start_time": "2023-10-04T13:33:28.787Z"
   },
   {
    "duration": 54,
    "start_time": "2023-10-04T13:33:28.845Z"
   },
   {
    "duration": 564,
    "start_time": "2023-10-04T19:36:13.069Z"
   },
   {
    "duration": 10876,
    "start_time": "2023-10-04T19:36:13.635Z"
   },
   {
    "duration": 4,
    "start_time": "2023-10-04T19:36:24.513Z"
   },
   {
    "duration": 18,
    "start_time": "2023-10-04T19:36:24.518Z"
   },
   {
    "duration": 458,
    "start_time": "2023-10-04T19:36:24.539Z"
   },
   {
    "duration": 181,
    "start_time": "2023-10-04T19:36:24.999Z"
   },
   {
    "duration": 172,
    "start_time": "2023-10-04T19:36:25.182Z"
   },
   {
    "duration": 206,
    "start_time": "2023-10-04T19:36:25.358Z"
   },
   {
    "duration": 174,
    "start_time": "2023-10-04T19:36:25.566Z"
   },
   {
    "duration": 65,
    "start_time": "2023-10-04T19:36:25.742Z"
   },
   {
    "duration": 86,
    "start_time": "2023-10-04T19:36:25.809Z"
   },
   {
    "duration": 53,
    "start_time": "2023-10-04T19:36:25.897Z"
   },
   {
    "duration": 64,
    "start_time": "2023-10-04T19:36:25.960Z"
   },
   {
    "duration": 72,
    "start_time": "2023-10-04T19:36:26.027Z"
   },
   {
    "duration": 536,
    "start_time": "2023-10-28T15:53:09.201Z"
   },
   {
    "duration": 8366,
    "start_time": "2023-10-28T15:53:09.738Z"
   },
   {
    "duration": 3,
    "start_time": "2023-10-28T15:53:18.106Z"
   },
   {
    "duration": 24,
    "start_time": "2023-10-28T15:53:18.111Z"
   },
   {
    "duration": 372,
    "start_time": "2023-10-28T15:53:18.138Z"
   },
   {
    "duration": 144,
    "start_time": "2023-10-28T15:53:18.511Z"
   },
   {
    "duration": 142,
    "start_time": "2023-10-28T15:53:18.657Z"
   },
   {
    "duration": 176,
    "start_time": "2023-10-28T15:53:18.801Z"
   },
   {
    "duration": 156,
    "start_time": "2023-10-28T15:53:18.979Z"
   },
   {
    "duration": 51,
    "start_time": "2023-10-28T15:53:19.136Z"
   },
   {
    "duration": 68,
    "start_time": "2023-10-28T15:53:19.189Z"
   },
   {
    "duration": 51,
    "start_time": "2023-10-28T15:53:19.260Z"
   },
   {
    "duration": 70,
    "start_time": "2023-10-28T15:53:19.313Z"
   },
   {
    "duration": 52,
    "start_time": "2023-10-28T15:53:19.386Z"
   },
   {
    "duration": 581,
    "start_time": "2023-11-05T11:43:19.730Z"
   },
   {
    "duration": 8299,
    "start_time": "2023-11-05T11:43:20.314Z"
   },
   {
    "duration": 4,
    "start_time": "2023-11-05T11:43:28.615Z"
   },
   {
    "duration": 5,
    "start_time": "2023-11-05T11:43:28.621Z"
   },
   {
    "duration": 368,
    "start_time": "2023-11-05T11:43:28.627Z"
   },
   {
    "duration": 144,
    "start_time": "2023-11-05T11:43:28.997Z"
   },
   {
    "duration": 141,
    "start_time": "2023-11-05T11:43:29.143Z"
   },
   {
    "duration": 179,
    "start_time": "2023-11-05T11:43:29.286Z"
   },
   {
    "duration": 155,
    "start_time": "2023-11-05T11:43:29.468Z"
   },
   {
    "duration": 49,
    "start_time": "2023-11-05T11:43:29.627Z"
   },
   {
    "duration": 69,
    "start_time": "2023-11-05T11:43:29.678Z"
   },
   {
    "duration": 53,
    "start_time": "2023-11-05T11:43:29.748Z"
   },
   {
    "duration": 55,
    "start_time": "2023-11-05T11:43:29.803Z"
   },
   {
    "duration": 56,
    "start_time": "2023-11-05T11:43:29.860Z"
   },
   {
    "duration": 570,
    "start_time": "2023-11-07T15:43:31.185Z"
   },
   {
    "duration": 14490,
    "start_time": "2023-11-07T15:43:31.757Z"
   },
   {
    "duration": 5,
    "start_time": "2023-11-07T15:43:46.249Z"
   },
   {
    "duration": 51,
    "start_time": "2023-11-07T15:43:46.256Z"
   },
   {
    "duration": 413,
    "start_time": "2023-11-07T15:43:46.309Z"
   },
   {
    "duration": 154,
    "start_time": "2023-11-07T15:43:46.723Z"
   },
   {
    "duration": 152,
    "start_time": "2023-11-07T15:43:46.879Z"
   },
   {
    "duration": 185,
    "start_time": "2023-11-07T15:43:47.033Z"
   },
   {
    "duration": 164,
    "start_time": "2023-11-07T15:43:47.220Z"
   },
   {
    "duration": 52,
    "start_time": "2023-11-07T15:43:47.387Z"
   },
   {
    "duration": 72,
    "start_time": "2023-11-07T15:43:47.441Z"
   },
   {
    "duration": 83,
    "start_time": "2023-11-07T15:43:47.515Z"
   },
   {
    "duration": 57,
    "start_time": "2023-11-07T15:43:47.600Z"
   },
   {
    "duration": 55,
    "start_time": "2023-11-07T15:43:47.659Z"
   }
  ],
  "kernelspec": {
   "display_name": "Python 3 (ipykernel)",
   "language": "python",
   "name": "python3"
  },
  "language_info": {
   "codemirror_mode": {
    "name": "ipython",
    "version": 3
   },
   "file_extension": ".py",
   "mimetype": "text/x-python",
   "name": "python",
   "nbconvert_exporter": "python",
   "pygments_lexer": "ipython3",
   "version": "3.9.5"
  },
  "toc": {
   "base_numbering": 1,
   "nav_menu": {},
   "number_sections": true,
   "sideBar": true,
   "skip_h1_title": true,
   "title_cell": "Table of Contents",
   "title_sidebar": "Contents",
   "toc_cell": false,
   "toc_position": {},
   "toc_section_display": true,
   "toc_window_display": false
  }
 },
 "nbformat": 4,
 "nbformat_minor": 2
}
