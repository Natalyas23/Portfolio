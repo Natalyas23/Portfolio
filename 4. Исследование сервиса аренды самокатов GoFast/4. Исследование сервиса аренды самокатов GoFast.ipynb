{
 "cells": [
  {
   "cell_type": "markdown",
   "id": "f7c53616",
   "metadata": {},
   "source": [
    "# Проект 4. Исследование сервиса аренды самокатов GoFast"
   ]
  },
  {
   "cell_type": "markdown",
   "id": "09ba7f64",
   "metadata": {},
   "source": [
    "**Задача исследования** - проверить гипотезы:\n",
    "\n",
    "1. Пользователи с подпиской тратят больше времени на поездки, чем пользователи без подписки.\n",
    "2. Расстояние, которое проезжают пользователи с подпиской за одну поездку, не превышает 3130 метров (расстояние, оптимальное с точки зрения износа самоката)\n",
    "3. Средняя помесячная выручка от пользователей с подпиской по месяцам выше, чем средняя выручка от пользователей без подписки.\n",
    "\n",
    "**Описание данных**\n",
    "\n",
    "В основных данных есть информация о пользователях, их поездках и подписках.\n",
    "\n",
    "1. Пользователи — users_go\n",
    "- `user_id`\tуникальный идентификатор пользователя\n",
    "- `name` имя пользователя\n",
    "- `age`\tвозраст\n",
    "- `city` город\n",
    "- `subscription_type` тип подписки (free, ultra)\n",
    "\n",
    "2. Поездки — rides_go\n",
    "- `user_id`\tуникальный идентификатор пользователя\n",
    "- `distance` расстояние, которое пользователь проехал в текущей сессии (в метрах)\n",
    "- `duration` продолжительность сессии (в минутах) — время с того момента, как пользователь нажал кнопку «Начать поездку» до момента, как он нажал кнопку «Завершить поездку»\n",
    "- `date` дата совершения поездки\n",
    "\n",
    "3. Подписки — subscriptions_go\n",
    "- `subscription_type` тип подписки\n",
    "- `minute_price` стоимость одной минуты поездки по данной подписке\n",
    "- `start_ride_price` стоимость начала поездки\n",
    "- `subscription_fee` стоимость ежемесячного платежа\n",
    "\n",
    "Существует 2 варианта пользования сервисом:\n",
    "- без подписки:      \n",
    "  - абонентская плата отсутствует;\n",
    "  - стоимость одной минуты поездки — 8 рублей;\n",
    "  - стоимость старта (начала поездки) — 50 рублей;\n",
    "    \n",
    "- с подпиской Ultra:      \n",
    "   - абонентская плата — 199 рублей в месяц;\n",
    "   - стоимость одной минуты поездки — 6 рублей;\n",
    "   - стоимость старта — бесплатно.\n",
    "\n",
    "**Ход исследования**\n",
    "\n",
    "1. Проведем обзор данных - составим первое представление о предоставленных данных, оценим их объем и качество.\n",
    "2. Выполним предобработку данных - проверим данные на возможные ошибки (аномалии, пропуски). Исправим данные.\n",
    "3. Исследуем данные.\n",
    "4. Проверим гипотезы. "
   ]
  },
  {
   "cell_type": "markdown",
   "id": "b6c6cc99",
   "metadata": {},
   "source": [
    "## 1. Обзор данных"
   ]
  },
  {
   "cell_type": "markdown",
   "id": "c0b16fd0",
   "metadata": {},
   "source": [
    "Импортируем библиотеки"
   ]
  },
  {
   "cell_type": "code",
   "execution_count": 1,
   "id": "04fb5700",
   "metadata": {},
   "outputs": [],
   "source": [
    "import pandas as pd\n",
    "import numpy as np\n",
    "import matplotlib.pyplot as plt\n",
    "from scipy import stats as st\n",
    "import seaborn as sns\n",
    "sns.set_theme()"
   ]
  },
  {
   "cell_type": "markdown",
   "id": "4311afb3",
   "metadata": {},
   "source": [
    "Выгрузим предоставленные данные и сохраним их в переменных:   \n",
    "в *df_users* сохраним данные о пользователях;   \n",
    "в *df_rides* - данные о поездках;   \n",
    "в *df_subscrip* - данные о подписках.  \n",
    "\n",
    "Первоначально выгрузим данные о пользователях:"
   ]
  },
  {
   "cell_type": "code",
   "execution_count": 2,
   "id": "eff9f206",
   "metadata": {},
   "outputs": [
    {
     "data": {
      "text/html": [
       "<div>\n",
       "<style scoped>\n",
       "    .dataframe tbody tr th:only-of-type {\n",
       "        vertical-align: middle;\n",
       "    }\n",
       "\n",
       "    .dataframe tbody tr th {\n",
       "        vertical-align: top;\n",
       "    }\n",
       "\n",
       "    .dataframe thead th {\n",
       "        text-align: right;\n",
       "    }\n",
       "</style>\n",
       "<table border=\"1\" class=\"dataframe\">\n",
       "  <thead>\n",
       "    <tr style=\"text-align: right;\">\n",
       "      <th></th>\n",
       "      <th>user_id</th>\n",
       "      <th>name</th>\n",
       "      <th>age</th>\n",
       "      <th>city</th>\n",
       "      <th>subscription_type</th>\n",
       "    </tr>\n",
       "  </thead>\n",
       "  <tbody>\n",
       "    <tr>\n",
       "      <th>0</th>\n",
       "      <td>1</td>\n",
       "      <td>Кира</td>\n",
       "      <td>22</td>\n",
       "      <td>Тюмень</td>\n",
       "      <td>ultra</td>\n",
       "    </tr>\n",
       "    <tr>\n",
       "      <th>1</th>\n",
       "      <td>2</td>\n",
       "      <td>Станислав</td>\n",
       "      <td>31</td>\n",
       "      <td>Омск</td>\n",
       "      <td>ultra</td>\n",
       "    </tr>\n",
       "    <tr>\n",
       "      <th>2</th>\n",
       "      <td>3</td>\n",
       "      <td>Алексей</td>\n",
       "      <td>20</td>\n",
       "      <td>Москва</td>\n",
       "      <td>ultra</td>\n",
       "    </tr>\n",
       "  </tbody>\n",
       "</table>\n",
       "</div>"
      ],
      "text/plain": [
       "   user_id       name  age    city subscription_type\n",
       "0        1       Кира   22  Тюмень             ultra\n",
       "1        2  Станислав   31    Омск             ultra\n",
       "2        3    Алексей   20  Москва             ultra"
      ]
     },
     "execution_count": 2,
     "metadata": {},
     "output_type": "execute_result"
    }
   ],
   "source": [
    "df_users = pd.read_csv('/datasets/users_go.csv')\n",
    "df_users.head(3)"
   ]
  },
  {
   "cell_type": "code",
   "execution_count": 3,
   "id": "f6da5b17",
   "metadata": {},
   "outputs": [
    {
     "name": "stdout",
     "output_type": "stream",
     "text": [
      "<class 'pandas.core.frame.DataFrame'>\n",
      "RangeIndex: 1565 entries, 0 to 1564\n",
      "Data columns (total 5 columns):\n",
      " #   Column             Non-Null Count  Dtype \n",
      "---  ------             --------------  ----- \n",
      " 0   user_id            1565 non-null   int64 \n",
      " 1   name               1565 non-null   object\n",
      " 2   age                1565 non-null   int64 \n",
      " 3   city               1565 non-null   object\n",
      " 4   subscription_type  1565 non-null   object\n",
      "dtypes: int64(2), object(3)\n",
      "memory usage: 61.3+ KB\n"
     ]
    }
   ],
   "source": [
    "df_users.info()"
   ]
  },
  {
   "cell_type": "markdown",
   "id": "a1792e13",
   "metadata": {},
   "source": [
    "Получили верхние 3 строки датафрейма и общую информацию о файле через метод `info`. \n",
    "Названия столбцов соответствуют стилю. Данные распределены корректно по столбцам. В таблице 1565 строк и 5 столбцов. Пропущенные значения отсутствуют. Типы данных *int64* и *object*, типы данных соответствуют их содержанию.\n",
    "\n",
    "Следующим шагом загрузим данные о поездках."
   ]
  },
  {
   "cell_type": "code",
   "execution_count": 4,
   "id": "aa8759c8",
   "metadata": {},
   "outputs": [
    {
     "data": {
      "text/html": [
       "<div>\n",
       "<style scoped>\n",
       "    .dataframe tbody tr th:only-of-type {\n",
       "        vertical-align: middle;\n",
       "    }\n",
       "\n",
       "    .dataframe tbody tr th {\n",
       "        vertical-align: top;\n",
       "    }\n",
       "\n",
       "    .dataframe thead th {\n",
       "        text-align: right;\n",
       "    }\n",
       "</style>\n",
       "<table border=\"1\" class=\"dataframe\">\n",
       "  <thead>\n",
       "    <tr style=\"text-align: right;\">\n",
       "      <th></th>\n",
       "      <th>user_id</th>\n",
       "      <th>distance</th>\n",
       "      <th>duration</th>\n",
       "      <th>date</th>\n",
       "    </tr>\n",
       "  </thead>\n",
       "  <tbody>\n",
       "    <tr>\n",
       "      <th>10653</th>\n",
       "      <td>1003</td>\n",
       "      <td>2748.808387</td>\n",
       "      <td>15.680448</td>\n",
       "      <td>2021-08-10</td>\n",
       "    </tr>\n",
       "    <tr>\n",
       "      <th>1628</th>\n",
       "      <td>175</td>\n",
       "      <td>4738.383372</td>\n",
       "      <td>26.794611</td>\n",
       "      <td>2021-09-03</td>\n",
       "    </tr>\n",
       "    <tr>\n",
       "      <th>8639</th>\n",
       "      <td>860</td>\n",
       "      <td>3615.579841</td>\n",
       "      <td>19.558424</td>\n",
       "      <td>2021-01-02</td>\n",
       "    </tr>\n",
       "  </tbody>\n",
       "</table>\n",
       "</div>"
      ],
      "text/plain": [
       "       user_id     distance   duration        date\n",
       "10653     1003  2748.808387  15.680448  2021-08-10\n",
       "1628       175  4738.383372  26.794611  2021-09-03\n",
       "8639       860  3615.579841  19.558424  2021-01-02"
      ]
     },
     "execution_count": 4,
     "metadata": {},
     "output_type": "execute_result"
    }
   ],
   "source": [
    "df_rides = pd.read_csv('/datasets/rides_go.csv')\n",
    "df_rides.sample(3)"
   ]
  },
  {
   "cell_type": "code",
   "execution_count": 5,
   "id": "4df9319b",
   "metadata": {},
   "outputs": [
    {
     "name": "stdout",
     "output_type": "stream",
     "text": [
      "<class 'pandas.core.frame.DataFrame'>\n",
      "RangeIndex: 18068 entries, 0 to 18067\n",
      "Data columns (total 4 columns):\n",
      " #   Column    Non-Null Count  Dtype  \n",
      "---  ------    --------------  -----  \n",
      " 0   user_id   18068 non-null  int64  \n",
      " 1   distance  18068 non-null  float64\n",
      " 2   duration  18068 non-null  float64\n",
      " 3   date      18068 non-null  object \n",
      "dtypes: float64(2), int64(1), object(1)\n",
      "memory usage: 564.8+ KB\n"
     ]
    }
   ],
   "source": [
    "df_rides.info()"
   ]
  },
  {
   "cell_type": "markdown",
   "id": "5d8787bd",
   "metadata": {},
   "source": [
    "Просмотрели 3 произвольно выгруженных строки полученного датафрейма. Названия столбцов соответствуют стилю. Данные корректно распределены по столбцам. В датафрейме 18068 строк и 4 столбца. Пропущенные значения отсутствуют. Типы данных *float64*, *int64* и *object*. Тип данных в столбце *date* не соответствует содержанию. Переведем на следующем этапе в тип *datetime*.\n",
    "\n",
    "Загрузим данные о подписках."
   ]
  },
  {
   "cell_type": "code",
   "execution_count": 6,
   "id": "05f99e97",
   "metadata": {},
   "outputs": [
    {
     "data": {
      "text/html": [
       "<div>\n",
       "<style scoped>\n",
       "    .dataframe tbody tr th:only-of-type {\n",
       "        vertical-align: middle;\n",
       "    }\n",
       "\n",
       "    .dataframe tbody tr th {\n",
       "        vertical-align: top;\n",
       "    }\n",
       "\n",
       "    .dataframe thead th {\n",
       "        text-align: right;\n",
       "    }\n",
       "</style>\n",
       "<table border=\"1\" class=\"dataframe\">\n",
       "  <thead>\n",
       "    <tr style=\"text-align: right;\">\n",
       "      <th></th>\n",
       "      <th>subscription_type</th>\n",
       "      <th>minute_price</th>\n",
       "      <th>start_ride_price</th>\n",
       "      <th>subscription_fee</th>\n",
       "    </tr>\n",
       "  </thead>\n",
       "  <tbody>\n",
       "    <tr>\n",
       "      <th>0</th>\n",
       "      <td>free</td>\n",
       "      <td>8</td>\n",
       "      <td>50</td>\n",
       "      <td>0</td>\n",
       "    </tr>\n",
       "    <tr>\n",
       "      <th>1</th>\n",
       "      <td>ultra</td>\n",
       "      <td>6</td>\n",
       "      <td>0</td>\n",
       "      <td>199</td>\n",
       "    </tr>\n",
       "  </tbody>\n",
       "</table>\n",
       "</div>"
      ],
      "text/plain": [
       "  subscription_type  minute_price  start_ride_price  subscription_fee\n",
       "0              free             8                50                 0\n",
       "1             ultra             6                 0               199"
      ]
     },
     "execution_count": 6,
     "metadata": {},
     "output_type": "execute_result"
    }
   ],
   "source": [
    "df_subscrip = pd.read_csv('/datasets/subscriptions_go.csv')\n",
    "df_subscrip"
   ]
  },
  {
   "cell_type": "code",
   "execution_count": 7,
   "id": "61facf5d",
   "metadata": {},
   "outputs": [
    {
     "name": "stdout",
     "output_type": "stream",
     "text": [
      "<class 'pandas.core.frame.DataFrame'>\n",
      "RangeIndex: 2 entries, 0 to 1\n",
      "Data columns (total 4 columns):\n",
      " #   Column             Non-Null Count  Dtype \n",
      "---  ------             --------------  ----- \n",
      " 0   subscription_type  2 non-null      object\n",
      " 1   minute_price       2 non-null      int64 \n",
      " 2   start_ride_price   2 non-null      int64 \n",
      " 3   subscription_fee   2 non-null      int64 \n",
      "dtypes: int64(3), object(1)\n",
      "memory usage: 192.0+ bytes\n"
     ]
    }
   ],
   "source": [
    "df_subscrip.info()"
   ]
  },
  {
   "cell_type": "markdown",
   "id": "9228b61a",
   "metadata": {},
   "source": [
    "Данные корректно распределены по столбцам. Названия столбцов соответствует стилю. В датафрейме 2 строки и 4 столбца. Пропущенные значения отсутствуют. Типы данных *int64* и *object*, соответствуют содержанию."
   ]
  },
  {
   "cell_type": "markdown",
   "id": "187dc9ef",
   "metadata": {},
   "source": [
    "**Вывод**\n",
    "\n",
    "Для проведения анализа данные предоставлены в 3-х файлах, названия столбцов в каждом соответствуют стилю, отсутствуют пропущенные значения:\n",
    "\n",
    "1. Данные о пользователях:   1565 строк и 5 столбцов. Типы данных int64 и object, типы данных соответствуют их содержанию.\n",
    "2. Данные о поездках: 18068 строк и 4 столбца. Типы данных float64, int64 и object. Тип данных в столбце date не соответствует содержанию. Переведем  в тип datetime на следующем этапе.\n",
    "3. Данные о подписках: в датафрейме 2 строки и 4 столбца. Типы данных int64 и object, соответствуют содержанию.\n",
    "\n",
    "На следующем этапе более подробно изучим все столбцы, проверим на аномалии, дубликаты и исправим выявленные несоответствия. Данные *df_subscrip* не будем проверять, т.к. мы их полностью видели, там указана информация о типах подписки, все столбцы заполнены нужными значениями. "
   ]
  },
  {
   "cell_type": "markdown",
   "id": "e95ebca7",
   "metadata": {},
   "source": [
    "## 2. Предобработка данных"
   ]
  },
  {
   "cell_type": "markdown",
   "id": "e7181dec",
   "metadata": {},
   "source": [
    "### 2.1. Первым шагом исправим формат даты в данных *df_rides*."
   ]
  },
  {
   "cell_type": "code",
   "execution_count": 8,
   "id": "94eebce3",
   "metadata": {},
   "outputs": [
    {
     "name": "stdout",
     "output_type": "stream",
     "text": [
      "<class 'pandas.core.frame.DataFrame'>\n",
      "RangeIndex: 18068 entries, 0 to 18067\n",
      "Data columns (total 4 columns):\n",
      " #   Column    Non-Null Count  Dtype         \n",
      "---  ------    --------------  -----         \n",
      " 0   user_id   18068 non-null  int64         \n",
      " 1   distance  18068 non-null  float64       \n",
      " 2   duration  18068 non-null  float64       \n",
      " 3   date      18068 non-null  datetime64[ns]\n",
      "dtypes: datetime64[ns](1), float64(2), int64(1)\n",
      "memory usage: 564.8 KB\n"
     ]
    }
   ],
   "source": [
    "df_rides['date'] = pd.to_datetime(df_rides['date'], format='%Y-%m-%d')\n",
    "df_rides.info()"
   ]
  },
  {
   "cell_type": "markdown",
   "id": "ab105f70",
   "metadata": {},
   "source": [
    "Проверили изменения - тип данных в столбце *date* изменен на datetime64. "
   ]
  },
  {
   "cell_type": "markdown",
   "id": "0f3a9ffc",
   "metadata": {},
   "source": [
    "### 2.2. Добавим новый столбец *date_month* с номером месяца.  "
   ]
  },
  {
   "cell_type": "code",
   "execution_count": 9,
   "id": "de18117c",
   "metadata": {},
   "outputs": [
    {
     "data": {
      "text/html": [
       "<div>\n",
       "<style scoped>\n",
       "    .dataframe tbody tr th:only-of-type {\n",
       "        vertical-align: middle;\n",
       "    }\n",
       "\n",
       "    .dataframe tbody tr th {\n",
       "        vertical-align: top;\n",
       "    }\n",
       "\n",
       "    .dataframe thead th {\n",
       "        text-align: right;\n",
       "    }\n",
       "</style>\n",
       "<table border=\"1\" class=\"dataframe\">\n",
       "  <thead>\n",
       "    <tr style=\"text-align: right;\">\n",
       "      <th></th>\n",
       "      <th>user_id</th>\n",
       "      <th>distance</th>\n",
       "      <th>duration</th>\n",
       "      <th>date</th>\n",
       "      <th>date_month</th>\n",
       "    </tr>\n",
       "  </thead>\n",
       "  <tbody>\n",
       "    <tr>\n",
       "      <th>0</th>\n",
       "      <td>1</td>\n",
       "      <td>4409.919140</td>\n",
       "      <td>25.599769</td>\n",
       "      <td>2021-01-01</td>\n",
       "      <td>1</td>\n",
       "    </tr>\n",
       "    <tr>\n",
       "      <th>1</th>\n",
       "      <td>1</td>\n",
       "      <td>2617.592153</td>\n",
       "      <td>15.816871</td>\n",
       "      <td>2021-01-18</td>\n",
       "      <td>1</td>\n",
       "    </tr>\n",
       "    <tr>\n",
       "      <th>2</th>\n",
       "      <td>1</td>\n",
       "      <td>754.159807</td>\n",
       "      <td>6.232113</td>\n",
       "      <td>2021-04-20</td>\n",
       "      <td>4</td>\n",
       "    </tr>\n",
       "    <tr>\n",
       "      <th>3</th>\n",
       "      <td>1</td>\n",
       "      <td>2694.783254</td>\n",
       "      <td>18.511000</td>\n",
       "      <td>2021-08-11</td>\n",
       "      <td>8</td>\n",
       "    </tr>\n",
       "    <tr>\n",
       "      <th>4</th>\n",
       "      <td>1</td>\n",
       "      <td>4028.687306</td>\n",
       "      <td>26.265803</td>\n",
       "      <td>2021-08-28</td>\n",
       "      <td>8</td>\n",
       "    </tr>\n",
       "    <tr>\n",
       "      <th>...</th>\n",
       "      <td>...</td>\n",
       "      <td>...</td>\n",
       "      <td>...</td>\n",
       "      <td>...</td>\n",
       "      <td>...</td>\n",
       "    </tr>\n",
       "    <tr>\n",
       "      <th>18063</th>\n",
       "      <td>1534</td>\n",
       "      <td>3781.098080</td>\n",
       "      <td>19.822962</td>\n",
       "      <td>2021-11-04</td>\n",
       "      <td>11</td>\n",
       "    </tr>\n",
       "    <tr>\n",
       "      <th>18064</th>\n",
       "      <td>1534</td>\n",
       "      <td>2840.423057</td>\n",
       "      <td>21.409799</td>\n",
       "      <td>2021-11-16</td>\n",
       "      <td>11</td>\n",
       "    </tr>\n",
       "    <tr>\n",
       "      <th>18065</th>\n",
       "      <td>1534</td>\n",
       "      <td>3826.185507</td>\n",
       "      <td>18.435051</td>\n",
       "      <td>2021-11-18</td>\n",
       "      <td>11</td>\n",
       "    </tr>\n",
       "    <tr>\n",
       "      <th>18066</th>\n",
       "      <td>1534</td>\n",
       "      <td>2902.308661</td>\n",
       "      <td>16.674362</td>\n",
       "      <td>2021-11-27</td>\n",
       "      <td>11</td>\n",
       "    </tr>\n",
       "    <tr>\n",
       "      <th>18067</th>\n",
       "      <td>1534</td>\n",
       "      <td>2371.711192</td>\n",
       "      <td>15.893917</td>\n",
       "      <td>2021-12-29</td>\n",
       "      <td>12</td>\n",
       "    </tr>\n",
       "  </tbody>\n",
       "</table>\n",
       "<p>18068 rows × 5 columns</p>\n",
       "</div>"
      ],
      "text/plain": [
       "       user_id     distance   duration       date  date_month\n",
       "0            1  4409.919140  25.599769 2021-01-01           1\n",
       "1            1  2617.592153  15.816871 2021-01-18           1\n",
       "2            1   754.159807   6.232113 2021-04-20           4\n",
       "3            1  2694.783254  18.511000 2021-08-11           8\n",
       "4            1  4028.687306  26.265803 2021-08-28           8\n",
       "...        ...          ...        ...        ...         ...\n",
       "18063     1534  3781.098080  19.822962 2021-11-04          11\n",
       "18064     1534  2840.423057  21.409799 2021-11-16          11\n",
       "18065     1534  3826.185507  18.435051 2021-11-18          11\n",
       "18066     1534  2902.308661  16.674362 2021-11-27          11\n",
       "18067     1534  2371.711192  15.893917 2021-12-29          12\n",
       "\n",
       "[18068 rows x 5 columns]"
      ]
     },
     "execution_count": 9,
     "metadata": {},
     "output_type": "execute_result"
    }
   ],
   "source": [
    "df_rides['date_month'] = df_rides['date'].dt.month\n",
    "df_rides"
   ]
  },
  {
   "cell_type": "markdown",
   "id": "b6b1d3d2",
   "metadata": {},
   "source": [
    "Новый столбец *date_month* добавлен. \n",
    "\n",
    "Проверим минимальную и максимальную даты в столбце *date*"
   ]
  },
  {
   "cell_type": "code",
   "execution_count": 10,
   "id": "a45a3221",
   "metadata": {},
   "outputs": [
    {
     "data": {
      "text/plain": [
       "Timestamp('2021-01-01 00:00:00')"
      ]
     },
     "execution_count": 10,
     "metadata": {},
     "output_type": "execute_result"
    }
   ],
   "source": [
    "df_rides['date'].min()"
   ]
  },
  {
   "cell_type": "code",
   "execution_count": 11,
   "id": "5208ec7b",
   "metadata": {},
   "outputs": [
    {
     "data": {
      "text/plain": [
       "Timestamp('2021-12-30 00:00:00')"
      ]
     },
     "execution_count": 11,
     "metadata": {},
     "output_type": "execute_result"
    }
   ],
   "source": [
    "df_rides['date'].max()"
   ]
  },
  {
   "cell_type": "markdown",
   "id": "59b42519",
   "metadata": {},
   "source": [
    "Мы анализируем Данные за 2021 год."
   ]
  },
  {
   "cell_type": "markdown",
   "id": "30e228c5",
   "metadata": {},
   "source": [
    "### 2.3. Проверим данные на дубликаты"
   ]
  },
  {
   "cell_type": "markdown",
   "id": "061b35dc",
   "metadata": {},
   "source": [
    "На 1-м этапе при общем знакомстве с данными мы выявили отсутствие пропусков. Нужно проверить дубликаты и аномалии в данных. \n",
    "Сначала посмотрим наличие неявных дубликатов.   \n",
    "\n",
    "В данных *df_users* нас интересуют столбцы: \n",
    "- name\n",
    "- city\n",
    "- subscription_type   \n",
    "\n",
    "Проверим уникальные значения в этих столбцах методом `unique()`"
   ]
  },
  {
   "cell_type": "code",
   "execution_count": 12,
   "id": "8b9f353e",
   "metadata": {},
   "outputs": [
    {
     "data": {
      "text/plain": [
       "array(['Кира', 'Станислав', 'Алексей', 'Константин', 'Адель', 'Регина',\n",
       "       'Игорь', 'Юрий', 'Ян', 'Валерий', 'Агата', 'Марк', 'Ева',\n",
       "       'Антонина', 'Валерия', 'Амалия', 'Даниил', 'Аделина', 'Святогор',\n",
       "       'Борис', 'Вероника', 'Ростислав', 'Назар', 'Эдуард', 'Василий',\n",
       "       'Денис', 'Тамара', 'Николай', 'Эвелина', 'Федор', 'Руслан', 'Иван',\n",
       "       'Любовь', 'Ярослава', 'Майя', 'Ильдар', 'Данила', 'Нина',\n",
       "       'Стефания', 'Ясмина', 'Дмитрий', 'Александр', 'Одиссей', 'Арсений',\n",
       "       'Алла', 'Таисия', 'Максим', 'Юлиана', 'Павел', 'Карина', 'Алиса',\n",
       "       'Лидия', 'Рамиль', 'Родион', 'Ника', 'Оксана', 'Анастасия',\n",
       "       'Маргарита', 'Вера', 'Тимур', 'Никита', 'Лев', 'Влад', 'Артур',\n",
       "       'Анна', 'Ольга', 'Вячеслав', 'Ксения', 'Виталина', 'Владислав',\n",
       "       'Тамерлан', 'Амина', 'Вадим', 'Олеся', 'Зарина', 'Егор', 'Гордей',\n",
       "       'Лилия', 'Святослав', 'Роберт', 'Амир', 'Влада', 'Богдан',\n",
       "       'Полина', 'Марат', 'Елисей', 'Макар', 'Алина', 'Глеб', 'Андрей',\n",
       "       'Альбина', 'Людмила', 'Марсель', 'Милена', 'Диана', 'Дарина',\n",
       "       'Данил', 'Артемий', 'Лиана', 'Альберт', 'Герман', 'Жанна', 'Нелли',\n",
       "       'Евгения', 'Ариана', 'Самира', 'Захар', 'Эльвира', 'Екатерина',\n",
       "       'Инна', 'Демид', 'Яна', 'Михаил', 'Татьяна', 'Степан', 'Мелания',\n",
       "       'Тимофей', 'Ирина', 'Анжелика', 'Владислава', 'Елизавета',\n",
       "       'Мадина', 'Снежана', 'Даниэль', 'Рустам', 'Каролина', 'Ангелина',\n",
       "       'Владимир', 'Виктория', 'Валентина', 'Семен', 'Арина', 'Лариса',\n",
       "       'Есения', 'Галина', 'Кирилл', 'Игнат', 'Виталий', 'Эмилия',\n",
       "       'Виолетта', 'Яромир', 'Софья', 'Мирослава', 'Евгений', 'Варвара',\n",
       "       'Платон', 'Наталия', 'Анатолий', 'Кристина', 'Всеволод', 'Дарья',\n",
       "       'Наташа', 'Мария', 'Марина', 'Василиса', 'Юлия', 'Илья', 'Злата',\n",
       "       'Роман', 'Наталья', 'Элина', 'Арсен', 'Айдар', 'Алия', 'Виктор',\n",
       "       'Мирон', 'Ульяна', 'Георгий', 'Петр', 'Эльмира', 'Олег', 'Дамир',\n",
       "       'Самир', 'Ярослав', 'Камилла', 'Сергей', 'Эмиль', 'Радмир',\n",
       "       'Савелий', 'Елена', 'Антон', 'Мирослав', 'София', 'Тихон', 'Артём',\n",
       "       'Давид', 'Григорий', 'Алёна', 'Светлана', 'Леонид', 'Александра',\n",
       "       'Василина', 'Милана', 'Матвей'], dtype=object)"
      ]
     },
     "execution_count": 12,
     "metadata": {},
     "output_type": "execute_result"
    }
   ],
   "source": [
    "df_users['name'].unique()"
   ]
  },
  {
   "cell_type": "code",
   "execution_count": 13,
   "id": "d6dbd274",
   "metadata": {},
   "outputs": [
    {
     "data": {
      "text/plain": [
       "194"
      ]
     },
     "execution_count": 13,
     "metadata": {},
     "output_type": "execute_result"
    }
   ],
   "source": [
    "df_users['name'].nunique()"
   ]
  },
  {
   "cell_type": "markdown",
   "id": "a50176b4",
   "metadata": {},
   "source": [
    "в столбце *name* значения уникальные, всего 194 уникальных имени, неявные дубликаты отсутствуют"
   ]
  },
  {
   "cell_type": "code",
   "execution_count": 14,
   "id": "941f1873",
   "metadata": {},
   "outputs": [
    {
     "data": {
      "text/plain": [
       "array(['Тюмень', 'Омск', 'Москва', 'Ростов-на-Дону', 'Краснодар',\n",
       "       'Пятигорск', 'Екатеринбург', 'Сочи'], dtype=object)"
      ]
     },
     "execution_count": 14,
     "metadata": {},
     "output_type": "execute_result"
    }
   ],
   "source": [
    "df_users['city'].unique()"
   ]
  },
  {
   "cell_type": "code",
   "execution_count": 15,
   "id": "5a543b7f",
   "metadata": {},
   "outputs": [
    {
     "data": {
      "text/plain": [
       "8"
      ]
     },
     "execution_count": 15,
     "metadata": {},
     "output_type": "execute_result"
    }
   ],
   "source": [
    "df_users['city'].nunique()"
   ]
  },
  {
   "cell_type": "markdown",
   "id": "a9e1e97a",
   "metadata": {},
   "source": [
    "В столбце *city* значения уникальные, неявные дубликаты отсутствуют. В наших данных представлено 8 городов."
   ]
  },
  {
   "cell_type": "code",
   "execution_count": 16,
   "id": "5aac58eb",
   "metadata": {},
   "outputs": [
    {
     "data": {
      "text/plain": [
       "array(['ultra', 'free'], dtype=object)"
      ]
     },
     "execution_count": 16,
     "metadata": {},
     "output_type": "execute_result"
    }
   ],
   "source": [
    "df_users['subscription_type'].unique()  "
   ]
  },
  {
   "cell_type": "markdown",
   "id": "731b37ea",
   "metadata": {},
   "source": [
    "В столбце *subscription_type* отражен тип подписки в 2-х вариантах, как и должно быть.\n",
    "\n",
    "Теперь убедимся, что в столбце *age* данных *df_users* отсутствуют аномальные значения, тоже используем метод `unique()`."
   ]
  },
  {
   "cell_type": "code",
   "execution_count": 17,
   "id": "ecf19b2e",
   "metadata": {},
   "outputs": [
    {
     "data": {
      "text/plain": [
       "array([22, 31, 20, 26, 28, 25, 23, 21, 18, 27, 24, 29, 32, 14, 19, 30, 17,\n",
       "       12, 35, 33, 13, 15, 37, 16, 34, 38, 36, 39, 43])"
      ]
     },
     "execution_count": 17,
     "metadata": {},
     "output_type": "execute_result"
    }
   ],
   "source": [
    "df_users['age'].unique()"
   ]
  },
  {
   "cell_type": "code",
   "execution_count": 18,
   "id": "cc82096a",
   "metadata": {},
   "outputs": [
    {
     "data": {
      "text/plain": [
       "29"
      ]
     },
     "execution_count": 18,
     "metadata": {},
     "output_type": "execute_result"
    }
   ],
   "source": [
    "df_users['age'].nunique()"
   ]
  },
  {
   "cell_type": "markdown",
   "id": "94883641",
   "metadata": {},
   "source": [
    "Данные о возрасте указаны без аномалий, нереалистичные значения отсутствуют. В данных представлено 29 возрастов.\n",
    "\n",
    "Теперь проверим *df_users* на явные дубликаты. Посчитаем их количество через метод `duplicated().sum()`"
   ]
  },
  {
   "cell_type": "code",
   "execution_count": 19,
   "id": "12538b01",
   "metadata": {},
   "outputs": [
    {
     "data": {
      "text/plain": [
       "31"
      ]
     },
     "execution_count": 19,
     "metadata": {},
     "output_type": "execute_result"
    }
   ],
   "source": [
    "df_users.duplicated().sum()"
   ]
  },
  {
   "cell_type": "markdown",
   "id": "4770e1dc",
   "metadata": {},
   "source": [
    "У нас есть 31 дублированная запись строк, избавимся от этих дубликатов и сразу проведем повторную проверку."
   ]
  },
  {
   "cell_type": "code",
   "execution_count": 20,
   "id": "f3e53e69",
   "metadata": {},
   "outputs": [],
   "source": [
    "df_users = df_users.drop_duplicates()"
   ]
  },
  {
   "cell_type": "code",
   "execution_count": 21,
   "id": "d26e48fe",
   "metadata": {},
   "outputs": [
    {
     "data": {
      "text/plain": [
       "0"
      ]
     },
     "execution_count": 21,
     "metadata": {},
     "output_type": "execute_result"
    }
   ],
   "source": [
    "df_users.duplicated().sum()"
   ]
  },
  {
   "cell_type": "markdown",
   "id": "717cee09",
   "metadata": {},
   "source": [
    "Мы избавились от дубликатов в данных *df_users*.   Проверим наличие дубликатов в данных *df_rides*"
   ]
  },
  {
   "cell_type": "code",
   "execution_count": 22,
   "id": "822e91da",
   "metadata": {},
   "outputs": [
    {
     "data": {
      "text/plain": [
       "0"
      ]
     },
     "execution_count": 22,
     "metadata": {},
     "output_type": "execute_result"
    }
   ],
   "source": [
    "df_rides.duplicated().sum()"
   ]
  },
  {
   "cell_type": "markdown",
   "id": "a85117cf",
   "metadata": {},
   "source": [
    "В данных `df_rides` дубликаты отсутствуют. \n",
    "\n",
    "Посмотрим на финальный размер наших данных *df_users*"
   ]
  },
  {
   "cell_type": "code",
   "execution_count": 23,
   "id": "ff59d1d5",
   "metadata": {},
   "outputs": [
    {
     "data": {
      "text/plain": [
       "(1534, 5)"
      ]
     },
     "execution_count": 23,
     "metadata": {},
     "output_type": "execute_result"
    }
   ],
   "source": [
    "df_users.shape"
   ]
  },
  {
   "cell_type": "markdown",
   "id": "a2c6dbb1",
   "metadata": {},
   "source": [
    "**Выводы**\n",
    "\n",
    "На этапе предобработки мы выполнили следующие изменения в данных *df_users*:\n",
    "- привели формат даты в соответствие типу даты Pandas;\n",
    "- удалили дубликаты.\n",
    "\n",
    "В данных *df_users* стало 1534 строки. Данные *df_rides* и *df_subscrip* остались без изменений.\n",
    "\n",
    "В наших данных отсутствуют пропуски, аномальные значения, неявные дубликаты. На следующем этапе проанализируем имеющиеся у нас данные."
   ]
  },
  {
   "cell_type": "markdown",
   "id": "0afc2037",
   "metadata": {},
   "source": [
    "## 3. Исследовательский анализ данных"
   ]
  },
  {
   "cell_type": "markdown",
   "id": "6992aadd",
   "metadata": {},
   "source": [
    "На этом этапе более подробно изучим имеющиеся у нас данные:\n",
    "- частоту встречаемости городов;\n",
    "- как соотносятся пользователи с подпиской и без подписки;\n",
    "- возраст пользователей;\n",
    "- расстояние, которое пользователь преодолел за одну поездку;\n",
    "- продолжительность поездок.\n"
   ]
  },
  {
   "cell_type": "markdown",
   "id": "212593c7",
   "metadata": {},
   "source": [
    "### 3.1. Частота встречаемости городов"
   ]
  },
  {
   "cell_type": "markdown",
   "id": "61cd7c06",
   "metadata": {},
   "source": [
    "На предыдущем этапе мы узнали, что в наших данных 8 городов. Посмотрим, с какой частотой эти города представлены в выгрузке. Посчитаем количество присутствия городов в выгрузке и долю каждого города в общем объеме данных:"
   ]
  },
  {
   "cell_type": "code",
   "execution_count": 24,
   "id": "51ffa480",
   "metadata": {},
   "outputs": [],
   "source": [
    "city = df_users.city.value_counts().reset_index()"
   ]
  },
  {
   "cell_type": "code",
   "execution_count": 25,
   "id": "4a651bb9",
   "metadata": {},
   "outputs": [
    {
     "data": {
      "text/html": [
       "<div>\n",
       "<style scoped>\n",
       "    .dataframe tbody tr th:only-of-type {\n",
       "        vertical-align: middle;\n",
       "    }\n",
       "\n",
       "    .dataframe tbody tr th {\n",
       "        vertical-align: top;\n",
       "    }\n",
       "\n",
       "    .dataframe thead th {\n",
       "        text-align: right;\n",
       "    }\n",
       "</style>\n",
       "<table border=\"1\" class=\"dataframe\">\n",
       "  <thead>\n",
       "    <tr style=\"text-align: right;\">\n",
       "      <th></th>\n",
       "      <th>index</th>\n",
       "      <th>city</th>\n",
       "      <th>share</th>\n",
       "    </tr>\n",
       "  </thead>\n",
       "  <tbody>\n",
       "    <tr>\n",
       "      <th>0</th>\n",
       "      <td>Пятигорск</td>\n",
       "      <td>219</td>\n",
       "      <td>14.28</td>\n",
       "    </tr>\n",
       "    <tr>\n",
       "      <th>1</th>\n",
       "      <td>Екатеринбург</td>\n",
       "      <td>204</td>\n",
       "      <td>13.30</td>\n",
       "    </tr>\n",
       "    <tr>\n",
       "      <th>2</th>\n",
       "      <td>Ростов-на-Дону</td>\n",
       "      <td>198</td>\n",
       "      <td>12.91</td>\n",
       "    </tr>\n",
       "    <tr>\n",
       "      <th>3</th>\n",
       "      <td>Краснодар</td>\n",
       "      <td>193</td>\n",
       "      <td>12.58</td>\n",
       "    </tr>\n",
       "    <tr>\n",
       "      <th>4</th>\n",
       "      <td>Сочи</td>\n",
       "      <td>189</td>\n",
       "      <td>12.32</td>\n",
       "    </tr>\n",
       "    <tr>\n",
       "      <th>5</th>\n",
       "      <td>Омск</td>\n",
       "      <td>183</td>\n",
       "      <td>11.93</td>\n",
       "    </tr>\n",
       "    <tr>\n",
       "      <th>6</th>\n",
       "      <td>Тюмень</td>\n",
       "      <td>180</td>\n",
       "      <td>11.73</td>\n",
       "    </tr>\n",
       "    <tr>\n",
       "      <th>7</th>\n",
       "      <td>Москва</td>\n",
       "      <td>168</td>\n",
       "      <td>10.95</td>\n",
       "    </tr>\n",
       "  </tbody>\n",
       "</table>\n",
       "</div>"
      ],
      "text/plain": [
       "            index  city  share\n",
       "0       Пятигорск   219  14.28\n",
       "1    Екатеринбург   204  13.30\n",
       "2  Ростов-на-Дону   198  12.91\n",
       "3       Краснодар   193  12.58\n",
       "4            Сочи   189  12.32\n",
       "5            Омск   183  11.93\n",
       "6          Тюмень   180  11.73\n",
       "7          Москва   168  10.95"
      ]
     },
     "execution_count": 25,
     "metadata": {},
     "output_type": "execute_result"
    }
   ],
   "source": [
    "city['share'] = round(city['city'] / city['city'].sum()*100, 2)\n",
    "city"
   ]
  },
  {
   "cell_type": "code",
   "execution_count": 26,
   "id": "1c5e633a",
   "metadata": {},
   "outputs": [
    {
     "data": {
      "image/png": "[encoded data removed]",
      "text/plain": [
       "<Figure size 720x360 with 1 Axes>"
      ]
     },
     "metadata": {},
     "output_type": "display_data"
    }
   ],
   "source": [
    "df_users.city.value_counts().plot(kind='bar', figsize=(10, 5), rot=45)\n",
    "plt.title('Города аренды самокатов GoFast')\n",
    "plt.xlabel('Город')\n",
    "plt.ylabel('Количество')\n",
    "plt.show()"
   ]
  },
  {
   "cell_type": "markdown",
   "id": "5062bfa8",
   "metadata": {},
   "source": [
    "Максимально представлен город Пятигорск 219 шт. (14,28%), минимум пользователей сервиса в Москве - 168 шт. (10,95%). В целом, все города распределены достаточно равномерно от 10,95% до 14,28%."
   ]
  },
  {
   "cell_type": "markdown",
   "id": "9cfd513f",
   "metadata": {},
   "source": [
    "### 3.2. Соотношение пользователей с подпиской и без подписки"
   ]
  },
  {
   "cell_type": "markdown",
   "id": "f8eab55a",
   "metadata": {},
   "source": [
    "Сервис аренды самокатов предоставляет 2 типа оплаты: \n",
    "- с подпиской (*ultra*);\n",
    "- без подписки (*free*). \n",
    "\n",
    "Посмотрим, какой тип оплаты предпочитают наши users."
   ]
  },
  {
   "cell_type": "code",
   "execution_count": 27,
   "id": "58b50137",
   "metadata": {},
   "outputs": [
    {
     "data": {
      "image/png": "[encoded data removed]",
      "text/plain": [
       "<Figure size 360x360 with 1 Axes>"
      ]
     },
     "metadata": {},
     "output_type": "display_data"
    }
   ],
   "source": [
    "df_users.groupby('subscription_type')['user_id'].agg('count')\\\n",
    "        .plot(kind='pie', autopct='%1.1f%%', \n",
    "              title='Тип подписки', legend=True, figsize=(5,5))\n",
    "\n",
    "plt.show()"
   ]
  },
  {
   "cell_type": "markdown",
   "id": "c67cb2d7",
   "metadata": {},
   "source": [
    "54,4% пользователей предпочитают оплату без подписки, пользователей с подпиской примерно на 9% меньше - 45,6%"
   ]
  },
  {
   "cell_type": "markdown",
   "id": "3acf21e7",
   "metadata": {},
   "source": [
    "### 3.3. Возраст пользователей"
   ]
  },
  {
   "cell_type": "markdown",
   "id": "0d0e258a",
   "metadata": {},
   "source": [
    "На этапе предобработки мы насчитали 29 возрастов у пользователей. Теперь посмотрим частоту, с которой представлен возраст пользователей в общем объеме данных."
   ]
  },
  {
   "cell_type": "code",
   "execution_count": 28,
   "id": "ed72d3f7",
   "metadata": {},
   "outputs": [
    {
     "name": "stdout",
     "output_type": "stream",
     "text": [
      "Описание возраста: \n",
      " count    1534.000000\n",
      "mean       24.903520\n",
      "std         4.572367\n",
      "min        12.000000\n",
      "25%        22.000000\n",
      "50%        25.000000\n",
      "75%        28.000000\n",
      "max        43.000000\n",
      "Name: age, dtype: float64\n",
      "\n",
      "Возраст ТОП-3 пользователей: \n",
      " 25    145\n",
      "24    132\n",
      "26    131\n",
      "Name: age, dtype: int64\n"
     ]
    },
    {
     "data": {
      "image/png": "[encoded data removed]",
      "text/plain": [
       "<Figure size 1080x360 with 1 Axes>"
      ]
     },
     "metadata": {},
     "output_type": "display_data"
    }
   ],
   "source": [
    "print('Описание возраста: \\n', df_users.age.describe())\n",
    "print()\n",
    "print('Возраст ТОП-3 пользователей: \\n', df_users.age.value_counts().head(3))\n",
    "df_users.plot(y='age', kind='hist', bins=30, figsize=(15, 5))\n",
    "plt.title('Распределение возраста пользователей')\n",
    "plt.xlabel('Возраст')\n",
    "plt.ylabel('Количество')\n",
    "plt.show()"
   ]
  },
  {
   "cell_type": "markdown",
   "id": "b77f0570",
   "metadata": {},
   "source": [
    "Средний возраст выборки 24,9 близок к медианному значению - 25, значит, в нашей выборке отсутствуют выбросы. Сервисом пользуются люди в возрасте от 12 до 43 лет (смущает возраст пользователей младше 18, сервис предоставляется несовершеннолетним). Самые активные пользователи ТОП-3 в возрасте 25, 24 и 26 лет. Самая активная возрастная группа  22-28 летние."
   ]
  },
  {
   "cell_type": "markdown",
   "id": "a5b77a92",
   "metadata": {},
   "source": [
    "### 3.4. Расстояние, которое пользователь преодолел за одну поездку"
   ]
  },
  {
   "cell_type": "markdown",
   "id": "09e47fb1",
   "metadata": {},
   "source": [
    "Города, возраст и тип подписки мы изучили по данным *df_users*. Теперь обратимся ко второй таблице *df_rides* и изучим расстояние, которое преодолевают пользователи сервисом."
   ]
  },
  {
   "cell_type": "code",
   "execution_count": 29,
   "id": "935682eb",
   "metadata": {},
   "outputs": [
    {
     "name": "stdout",
     "output_type": "stream",
     "text": [
      "Описание параметра \"Расстояние\": \n",
      " count    18068.000000\n",
      "mean      3070.659976\n",
      "std       1116.831209\n",
      "min          0.855683\n",
      "25%       2543.226360\n",
      "50%       3133.609994\n",
      "75%       3776.222735\n",
      "max       7211.007745\n",
      "Name: distance, dtype: float64\n",
      "\n"
     ]
    },
    {
     "data": {
      "image/png": "[encoded data removed]",
      "text/plain": [
       "<Figure size 1080x360 with 1 Axes>"
      ]
     },
     "metadata": {},
     "output_type": "display_data"
    }
   ],
   "source": [
    "print('Описание параметра \"Расстояние\": \\n', df_rides.distance.describe())\n",
    "print()\n",
    "df_rides.plot(y='distance', kind='hist', bins=100, figsize=(15, 5))\n",
    "plt.title('Распределение расстояния')\n",
    "plt.xlabel('Расстояние')\n",
    "plt.ylabel('Количество')\n",
    "plt.show()"
   ]
  },
  {
   "cell_type": "markdown",
   "id": "b63d52fd",
   "metadata": {},
   "source": [
    "Видим 2 пика. 1-й пик на уровне расстояния 500-700 м, и самый высокий пик на уровне 2700-3500 м. Эти расстояния можно определить как самое популярное ближнее расстояние поездок (500-700м) и самое популярное дальнее расстояние поездок (2700-3500м).\n",
    "Минимальное расстояние для поездок - 0,85м, максимальное расстояние поездки 7211 м."
   ]
  },
  {
   "cell_type": "markdown",
   "id": "e883daf5",
   "metadata": {},
   "source": [
    "Посмотрим на среднее расстояние, которое проезжает каждый пользователь. Для этого сгруппируем нашу выгрузку по *user_id* и расстоянию."
   ]
  },
  {
   "cell_type": "code",
   "execution_count": 30,
   "id": "68e3f644",
   "metadata": {},
   "outputs": [
    {
     "data": {
      "text/html": [
       "<div>\n",
       "<style scoped>\n",
       "    .dataframe tbody tr th:only-of-type {\n",
       "        vertical-align: middle;\n",
       "    }\n",
       "\n",
       "    .dataframe tbody tr th {\n",
       "        vertical-align: top;\n",
       "    }\n",
       "\n",
       "    .dataframe thead th {\n",
       "        text-align: right;\n",
       "    }\n",
       "</style>\n",
       "<table border=\"1\" class=\"dataframe\">\n",
       "  <thead>\n",
       "    <tr style=\"text-align: right;\">\n",
       "      <th></th>\n",
       "      <th>count</th>\n",
       "      <th>mean</th>\n",
       "    </tr>\n",
       "    <tr>\n",
       "      <th>user_id</th>\n",
       "      <th></th>\n",
       "      <th></th>\n",
       "    </tr>\n",
       "  </thead>\n",
       "  <tbody>\n",
       "    <tr>\n",
       "      <th>1</th>\n",
       "      <td>12</td>\n",
       "      <td>2839.181839</td>\n",
       "    </tr>\n",
       "    <tr>\n",
       "      <th>2</th>\n",
       "      <td>11</td>\n",
       "      <td>3087.641692</td>\n",
       "    </tr>\n",
       "    <tr>\n",
       "      <th>3</th>\n",
       "      <td>12</td>\n",
       "      <td>3075.633155</td>\n",
       "    </tr>\n",
       "    <tr>\n",
       "      <th>4</th>\n",
       "      <td>14</td>\n",
       "      <td>3202.656423</td>\n",
       "    </tr>\n",
       "    <tr>\n",
       "      <th>5</th>\n",
       "      <td>11</td>\n",
       "      <td>3232.449968</td>\n",
       "    </tr>\n",
       "  </tbody>\n",
       "</table>\n",
       "</div>"
      ],
      "text/plain": [
       "         count         mean\n",
       "user_id                    \n",
       "1           12  2839.181839\n",
       "2           11  3087.641692\n",
       "3           12  3075.633155\n",
       "4           14  3202.656423\n",
       "5           11  3232.449968"
      ]
     },
     "execution_count": 30,
     "metadata": {},
     "output_type": "execute_result"
    }
   ],
   "source": [
    "df_rides.groupby('user_id')['distance'].agg(['count', 'mean']).head()"
   ]
  },
  {
   "cell_type": "markdown",
   "id": "401cf5d2",
   "metadata": {},
   "source": [
    "Получили таблицу, по которой, помимо среднего расстояния, сразу можем увидеть, с какой частотой пользователи арендовали самокаты."
   ]
  },
  {
   "cell_type": "code",
   "execution_count": 31,
   "id": "a2cb0e64",
   "metadata": {},
   "outputs": [
    {
     "data": {
      "image/png": "[encoded data removed]",
      "text/plain": [
       "<Figure size 1080x360 with 1 Axes>"
      ]
     },
     "metadata": {},
     "output_type": "display_data"
    }
   ],
   "source": [
    "df_rides.groupby('user_id')['distance'].agg(['count', 'mean'])\\\n",
    ".plot(y='count', kind='hist', bins=25, figsize=(15, 5))\n",
    "plt.title('Распределение частоты аренды самокатов пользователями')\n",
    "plt.xlabel('Количество раз аренды пользователями')\n",
    "plt.ylabel('Частота появления')\n",
    "plt.show()"
   ]
  },
  {
   "cell_type": "markdown",
   "id": "d57ce1f1",
   "metadata": {},
   "source": [
    "Мы видим, чаще всего пользователи совершили по 13 поездок в отчетном периоде. Наиболее популярное количество обращений к сервису аренды от 8 до 16 за анализируемый период. Теперь посмотрим среднее расстояние по каждому пользователю."
   ]
  },
  {
   "cell_type": "code",
   "execution_count": 32,
   "id": "f9ad634a",
   "metadata": {},
   "outputs": [
    {
     "data": {
      "image/png": "[encoded data removed]",
      "text/plain": [
       "<Figure size 1080x360 with 1 Axes>"
      ]
     },
     "metadata": {},
     "output_type": "display_data"
    }
   ],
   "source": [
    "df_rides.groupby('user_id')['distance'].agg(['count', 'mean'])\\\n",
    ".plot(y='mean', kind='hist', bins=25, figsize=(15, 5))\n",
    "plt.title('Распределение среднего расстояния по пользователю, м')\n",
    "plt.xlabel('Среднее расстояние, м')\n",
    "plt.ylabel('Частота появления')\n",
    "plt.show()"
   ]
  },
  {
   "cell_type": "markdown",
   "id": "24ed66e0",
   "metadata": {},
   "source": [
    "По графику видим, большинство пользователей совершают поездки на среднее расстояние 2900-3300 м. Единицы пользователей в среднем ездили на расстояние чуть более 2000 м или около 4000 м."
   ]
  },
  {
   "cell_type": "markdown",
   "id": "d4716bff",
   "metadata": {},
   "source": [
    "### 3.5. Продолжительность поездок\n",
    "\n",
    "Рассмотрим данные о длительности поездок."
   ]
  },
  {
   "cell_type": "code",
   "execution_count": 33,
   "id": "847beae3",
   "metadata": {},
   "outputs": [
    {
     "name": "stdout",
     "output_type": "stream",
     "text": [
      "Описание параметра \"Продолжительность поездки\": \n",
      " count    18068.000000\n",
      "mean        17.805011\n",
      "std          6.091051\n",
      "min          0.500000\n",
      "25%         13.597563\n",
      "50%         17.678395\n",
      "75%         21.724800\n",
      "max         40.823963\n",
      "Name: duration, dtype: float64\n",
      "\n"
     ]
    },
    {
     "data": {
      "image/png": "[encoded data removed]",
      "text/plain": [
       "<Figure size 1080x360 with 1 Axes>"
      ]
     },
     "metadata": {},
     "output_type": "display_data"
    }
   ],
   "source": [
    "print('Описание параметра \"Продолжительность поездки\": \\n', df_rides.duration.describe())\n",
    "print()\n",
    "df_rides.plot(y='duration', kind='hist', bins=40, figsize=(15, 5))\n",
    "plt.title('Распределение продолжительности поездок, мин.')\n",
    "plt.xlabel('Продолжительность поездок, мин.')\n",
    "plt.ylabel('Частота появления')\n",
    "plt.show()"
   ]
  },
  {
   "cell_type": "markdown",
   "id": "c69ddc1d",
   "metadata": {},
   "source": [
    "Среднее значение 17,8 находится очень близко к медианному 17.68, значит, выбросы в наших данных отсутствуют. Минимальное время поездки 0,5 минуты, а максимальное почти 41 минута. Большинство поездок длительностью от 14 до 20 минут (пик на графике). Отдельно на графике выделяется столбец с длительностью поездок до 1 минуты.\n",
    "\n",
    "Посмотрим на среднее время, которое затрачивают на поездки пользователи. Для этого сгруппируем нашу выгрузку по *user_id* и времени."
   ]
  },
  {
   "cell_type": "code",
   "execution_count": 34,
   "id": "d074d82e",
   "metadata": {},
   "outputs": [
    {
     "data": {
      "image/png": "[encoded data removed]",
      "text/plain": [
       "<Figure size 1080x360 with 1 Axes>"
      ]
     },
     "metadata": {},
     "output_type": "display_data"
    }
   ],
   "source": [
    "df_rides.groupby('user_id')['duration'].agg(['count', 'mean'])\\\n",
    ".plot(y='mean', kind='hist', bins=15, figsize=(15, 5), title='Среднее время поездок по пользователю')\n",
    "plt.title('Распределение среднего времени поездок по пользователю, мин.')\n",
    "plt.xlabel('Среднее время поездок, мин.')\n",
    "plt.ylabel('Частота появления')\n",
    "plt.show()"
   ]
  },
  {
   "cell_type": "markdown",
   "id": "1fbf4c0f",
   "metadata": {},
   "source": [
    "Больше всего в выборке пользователей, у которых среднее время на поездки составляет 18 минут. Большинство пользователей в среднем затрачивают на поездки по 17-20 минут. Другая средняя длительность поездок встречается реже."
   ]
  },
  {
   "cell_type": "markdown",
   "id": "a79d063e",
   "metadata": {},
   "source": [
    "**Выводы**\n",
    "\n",
    "1. В наших данных представлено 8 городов. Максимально представлен город Пятигорск 14,28%, минимум пользователей сервиса в Москве 10,95%. В целом, все города распределены достаточно равномерно от 10,95% до 14,28%;\n",
    "2. 54,4% пользователей предпочитают оплату без подписки, пользователей с подпиской примерно на 9% меньше - 45,6%;\n",
    "3. Сервисом пользуются люди в возрасте от 12 до 43 лет. Самые активные пользователи ТОП-3 в возрасте 25, 24 и 26 лет. Самая активная возрастная группа 22-28 летние.\n",
    "4. Минимальное расстояние для поездок - 0,85м, максимальное расстояние поездки 7211 м. Самое популярное ближнее расстояние поездок (500-700м), а самое популярное дальнее расстояние поездок (2700-3500м). Большинство пользователей совершают поездки на среднее расстояние 2900-3300 м. \n",
    "5. Минимальное время поездки 0,5 минуты, а максимальное почти 41 минута. Большинство поездок длительностью от 14 до 20 минут. Большинство пользователей в среднем затрачивают на поездки по 17-20 минут.\n",
    "6. Чаще всего пользователи совершили по 13 поездок. Наиболее популярное количество обращений к сервису аренды от 8 до 16 за анализируемый период. \n",
    "\n",
    "Теперь перейдем к проверке наших гипотез.\n",
    "\n"
   ]
  },
  {
   "cell_type": "markdown",
   "id": "d479df37",
   "metadata": {},
   "source": [
    "## 4. Проверка гипотез"
   ]
  },
  {
   "cell_type": "markdown",
   "id": "4ef51331",
   "metadata": {},
   "source": [
    "### 4.1. Объединение данных"
   ]
  },
  {
   "cell_type": "markdown",
   "id": "9583fe40",
   "metadata": {},
   "source": [
    "#### 4.1.1. Объединим имеющиеся данные в общий датафрейм. \n",
    "За основу возьмем датафрейм *df_rides*, добавим другие два датафрейма."
   ]
  },
  {
   "cell_type": "code",
   "execution_count": 35,
   "id": "6dd67127",
   "metadata": {},
   "outputs": [
    {
     "data": {
      "text/html": [
       "<div>\n",
       "<style scoped>\n",
       "    .dataframe tbody tr th:only-of-type {\n",
       "        vertical-align: middle;\n",
       "    }\n",
       "\n",
       "    .dataframe tbody tr th {\n",
       "        vertical-align: top;\n",
       "    }\n",
       "\n",
       "    .dataframe thead th {\n",
       "        text-align: right;\n",
       "    }\n",
       "</style>\n",
       "<table border=\"1\" class=\"dataframe\">\n",
       "  <thead>\n",
       "    <tr style=\"text-align: right;\">\n",
       "      <th></th>\n",
       "      <th>user_id</th>\n",
       "      <th>distance</th>\n",
       "      <th>duration</th>\n",
       "      <th>date</th>\n",
       "      <th>date_month</th>\n",
       "      <th>name</th>\n",
       "      <th>age</th>\n",
       "      <th>city</th>\n",
       "      <th>subscription_type</th>\n",
       "    </tr>\n",
       "  </thead>\n",
       "  <tbody>\n",
       "    <tr>\n",
       "      <th>0</th>\n",
       "      <td>1</td>\n",
       "      <td>4409.919140</td>\n",
       "      <td>25.599769</td>\n",
       "      <td>2021-01-01</td>\n",
       "      <td>1</td>\n",
       "      <td>Кира</td>\n",
       "      <td>22</td>\n",
       "      <td>Тюмень</td>\n",
       "      <td>ultra</td>\n",
       "    </tr>\n",
       "    <tr>\n",
       "      <th>1</th>\n",
       "      <td>1</td>\n",
       "      <td>2617.592153</td>\n",
       "      <td>15.816871</td>\n",
       "      <td>2021-01-18</td>\n",
       "      <td>1</td>\n",
       "      <td>Кира</td>\n",
       "      <td>22</td>\n",
       "      <td>Тюмень</td>\n",
       "      <td>ultra</td>\n",
       "    </tr>\n",
       "    <tr>\n",
       "      <th>2</th>\n",
       "      <td>1</td>\n",
       "      <td>754.159807</td>\n",
       "      <td>6.232113</td>\n",
       "      <td>2021-04-20</td>\n",
       "      <td>4</td>\n",
       "      <td>Кира</td>\n",
       "      <td>22</td>\n",
       "      <td>Тюмень</td>\n",
       "      <td>ultra</td>\n",
       "    </tr>\n",
       "    <tr>\n",
       "      <th>3</th>\n",
       "      <td>1</td>\n",
       "      <td>2694.783254</td>\n",
       "      <td>18.511000</td>\n",
       "      <td>2021-08-11</td>\n",
       "      <td>8</td>\n",
       "      <td>Кира</td>\n",
       "      <td>22</td>\n",
       "      <td>Тюмень</td>\n",
       "      <td>ultra</td>\n",
       "    </tr>\n",
       "    <tr>\n",
       "      <th>4</th>\n",
       "      <td>1</td>\n",
       "      <td>4028.687306</td>\n",
       "      <td>26.265803</td>\n",
       "      <td>2021-08-28</td>\n",
       "      <td>8</td>\n",
       "      <td>Кира</td>\n",
       "      <td>22</td>\n",
       "      <td>Тюмень</td>\n",
       "      <td>ultra</td>\n",
       "    </tr>\n",
       "    <tr>\n",
       "      <th>...</th>\n",
       "      <td>...</td>\n",
       "      <td>...</td>\n",
       "      <td>...</td>\n",
       "      <td>...</td>\n",
       "      <td>...</td>\n",
       "      <td>...</td>\n",
       "      <td>...</td>\n",
       "      <td>...</td>\n",
       "      <td>...</td>\n",
       "    </tr>\n",
       "    <tr>\n",
       "      <th>18063</th>\n",
       "      <td>1534</td>\n",
       "      <td>3781.098080</td>\n",
       "      <td>19.822962</td>\n",
       "      <td>2021-11-04</td>\n",
       "      <td>11</td>\n",
       "      <td>Альберт</td>\n",
       "      <td>25</td>\n",
       "      <td>Краснодар</td>\n",
       "      <td>free</td>\n",
       "    </tr>\n",
       "    <tr>\n",
       "      <th>18064</th>\n",
       "      <td>1534</td>\n",
       "      <td>2840.423057</td>\n",
       "      <td>21.409799</td>\n",
       "      <td>2021-11-16</td>\n",
       "      <td>11</td>\n",
       "      <td>Альберт</td>\n",
       "      <td>25</td>\n",
       "      <td>Краснодар</td>\n",
       "      <td>free</td>\n",
       "    </tr>\n",
       "    <tr>\n",
       "      <th>18065</th>\n",
       "      <td>1534</td>\n",
       "      <td>3826.185507</td>\n",
       "      <td>18.435051</td>\n",
       "      <td>2021-11-18</td>\n",
       "      <td>11</td>\n",
       "      <td>Альберт</td>\n",
       "      <td>25</td>\n",
       "      <td>Краснодар</td>\n",
       "      <td>free</td>\n",
       "    </tr>\n",
       "    <tr>\n",
       "      <th>18066</th>\n",
       "      <td>1534</td>\n",
       "      <td>2902.308661</td>\n",
       "      <td>16.674362</td>\n",
       "      <td>2021-11-27</td>\n",
       "      <td>11</td>\n",
       "      <td>Альберт</td>\n",
       "      <td>25</td>\n",
       "      <td>Краснодар</td>\n",
       "      <td>free</td>\n",
       "    </tr>\n",
       "    <tr>\n",
       "      <th>18067</th>\n",
       "      <td>1534</td>\n",
       "      <td>2371.711192</td>\n",
       "      <td>15.893917</td>\n",
       "      <td>2021-12-29</td>\n",
       "      <td>12</td>\n",
       "      <td>Альберт</td>\n",
       "      <td>25</td>\n",
       "      <td>Краснодар</td>\n",
       "      <td>free</td>\n",
       "    </tr>\n",
       "  </tbody>\n",
       "</table>\n",
       "<p>18068 rows × 9 columns</p>\n",
       "</div>"
      ],
      "text/plain": [
       "       user_id     distance   duration       date  date_month     name  age  \\\n",
       "0            1  4409.919140  25.599769 2021-01-01           1     Кира   22   \n",
       "1            1  2617.592153  15.816871 2021-01-18           1     Кира   22   \n",
       "2            1   754.159807   6.232113 2021-04-20           4     Кира   22   \n",
       "3            1  2694.783254  18.511000 2021-08-11           8     Кира   22   \n",
       "4            1  4028.687306  26.265803 2021-08-28           8     Кира   22   \n",
       "...        ...          ...        ...        ...         ...      ...  ...   \n",
       "18063     1534  3781.098080  19.822962 2021-11-04          11  Альберт   25   \n",
       "18064     1534  2840.423057  21.409799 2021-11-16          11  Альберт   25   \n",
       "18065     1534  3826.185507  18.435051 2021-11-18          11  Альберт   25   \n",
       "18066     1534  2902.308661  16.674362 2021-11-27          11  Альберт   25   \n",
       "18067     1534  2371.711192  15.893917 2021-12-29          12  Альберт   25   \n",
       "\n",
       "            city subscription_type  \n",
       "0         Тюмень             ultra  \n",
       "1         Тюмень             ultra  \n",
       "2         Тюмень             ultra  \n",
       "3         Тюмень             ultra  \n",
       "4         Тюмень             ultra  \n",
       "...          ...               ...  \n",
       "18063  Краснодар              free  \n",
       "18064  Краснодар              free  \n",
       "18065  Краснодар              free  \n",
       "18066  Краснодар              free  \n",
       "18067  Краснодар              free  \n",
       "\n",
       "[18068 rows x 9 columns]"
      ]
     },
     "execution_count": 35,
     "metadata": {},
     "output_type": "execute_result"
    }
   ],
   "source": [
    "df = df_rides.merge(df_users, on='user_id')\n",
    "df"
   ]
  },
  {
   "cell_type": "code",
   "execution_count": 36,
   "id": "b5fcd306",
   "metadata": {},
   "outputs": [
    {
     "data": {
      "text/html": [
       "<div>\n",
       "<style scoped>\n",
       "    .dataframe tbody tr th:only-of-type {\n",
       "        vertical-align: middle;\n",
       "    }\n",
       "\n",
       "    .dataframe tbody tr th {\n",
       "        vertical-align: top;\n",
       "    }\n",
       "\n",
       "    .dataframe thead th {\n",
       "        text-align: right;\n",
       "    }\n",
       "</style>\n",
       "<table border=\"1\" class=\"dataframe\">\n",
       "  <thead>\n",
       "    <tr style=\"text-align: right;\">\n",
       "      <th></th>\n",
       "      <th>user_id</th>\n",
       "      <th>distance</th>\n",
       "      <th>duration</th>\n",
       "      <th>date</th>\n",
       "      <th>date_month</th>\n",
       "      <th>name</th>\n",
       "      <th>age</th>\n",
       "      <th>city</th>\n",
       "      <th>subscription_type</th>\n",
       "      <th>minute_price</th>\n",
       "      <th>start_ride_price</th>\n",
       "      <th>subscription_fee</th>\n",
       "    </tr>\n",
       "  </thead>\n",
       "  <tbody>\n",
       "    <tr>\n",
       "      <th>0</th>\n",
       "      <td>1</td>\n",
       "      <td>4409.919140</td>\n",
       "      <td>25.599769</td>\n",
       "      <td>2021-01-01</td>\n",
       "      <td>1</td>\n",
       "      <td>Кира</td>\n",
       "      <td>22</td>\n",
       "      <td>Тюмень</td>\n",
       "      <td>ultra</td>\n",
       "      <td>6</td>\n",
       "      <td>0</td>\n",
       "      <td>199</td>\n",
       "    </tr>\n",
       "    <tr>\n",
       "      <th>1</th>\n",
       "      <td>1</td>\n",
       "      <td>2617.592153</td>\n",
       "      <td>15.816871</td>\n",
       "      <td>2021-01-18</td>\n",
       "      <td>1</td>\n",
       "      <td>Кира</td>\n",
       "      <td>22</td>\n",
       "      <td>Тюмень</td>\n",
       "      <td>ultra</td>\n",
       "      <td>6</td>\n",
       "      <td>0</td>\n",
       "      <td>199</td>\n",
       "    </tr>\n",
       "    <tr>\n",
       "      <th>2</th>\n",
       "      <td>1</td>\n",
       "      <td>754.159807</td>\n",
       "      <td>6.232113</td>\n",
       "      <td>2021-04-20</td>\n",
       "      <td>4</td>\n",
       "      <td>Кира</td>\n",
       "      <td>22</td>\n",
       "      <td>Тюмень</td>\n",
       "      <td>ultra</td>\n",
       "      <td>6</td>\n",
       "      <td>0</td>\n",
       "      <td>199</td>\n",
       "    </tr>\n",
       "    <tr>\n",
       "      <th>3</th>\n",
       "      <td>1</td>\n",
       "      <td>2694.783254</td>\n",
       "      <td>18.511000</td>\n",
       "      <td>2021-08-11</td>\n",
       "      <td>8</td>\n",
       "      <td>Кира</td>\n",
       "      <td>22</td>\n",
       "      <td>Тюмень</td>\n",
       "      <td>ultra</td>\n",
       "      <td>6</td>\n",
       "      <td>0</td>\n",
       "      <td>199</td>\n",
       "    </tr>\n",
       "    <tr>\n",
       "      <th>4</th>\n",
       "      <td>1</td>\n",
       "      <td>4028.687306</td>\n",
       "      <td>26.265803</td>\n",
       "      <td>2021-08-28</td>\n",
       "      <td>8</td>\n",
       "      <td>Кира</td>\n",
       "      <td>22</td>\n",
       "      <td>Тюмень</td>\n",
       "      <td>ultra</td>\n",
       "      <td>6</td>\n",
       "      <td>0</td>\n",
       "      <td>199</td>\n",
       "    </tr>\n",
       "  </tbody>\n",
       "</table>\n",
       "</div>"
      ],
      "text/plain": [
       "   user_id     distance   duration       date  date_month  name  age    city  \\\n",
       "0        1  4409.919140  25.599769 2021-01-01           1  Кира   22  Тюмень   \n",
       "1        1  2617.592153  15.816871 2021-01-18           1  Кира   22  Тюмень   \n",
       "2        1   754.159807   6.232113 2021-04-20           4  Кира   22  Тюмень   \n",
       "3        1  2694.783254  18.511000 2021-08-11           8  Кира   22  Тюмень   \n",
       "4        1  4028.687306  26.265803 2021-08-28           8  Кира   22  Тюмень   \n",
       "\n",
       "  subscription_type  minute_price  start_ride_price  subscription_fee  \n",
       "0             ultra             6                 0               199  \n",
       "1             ultra             6                 0               199  \n",
       "2             ultra             6                 0               199  \n",
       "3             ultra             6                 0               199  \n",
       "4             ultra             6                 0               199  "
      ]
     },
     "execution_count": 36,
     "metadata": {},
     "output_type": "execute_result"
    }
   ],
   "source": [
    "df_total = df.merge(df_subscrip, on='subscription_type')\n",
    "df_total.head()"
   ]
  },
  {
   "cell_type": "code",
   "execution_count": 37,
   "id": "c0852f1f",
   "metadata": {},
   "outputs": [
    {
     "name": "stdout",
     "output_type": "stream",
     "text": [
      "<class 'pandas.core.frame.DataFrame'>\n",
      "Int64Index: 18068 entries, 0 to 18067\n",
      "Data columns (total 12 columns):\n",
      " #   Column             Non-Null Count  Dtype         \n",
      "---  ------             --------------  -----         \n",
      " 0   user_id            18068 non-null  int64         \n",
      " 1   distance           18068 non-null  float64       \n",
      " 2   duration           18068 non-null  float64       \n",
      " 3   date               18068 non-null  datetime64[ns]\n",
      " 4   date_month         18068 non-null  int64         \n",
      " 5   name               18068 non-null  object        \n",
      " 6   age                18068 non-null  int64         \n",
      " 7   city               18068 non-null  object        \n",
      " 8   subscription_type  18068 non-null  object        \n",
      " 9   minute_price       18068 non-null  int64         \n",
      " 10  start_ride_price   18068 non-null  int64         \n",
      " 11  subscription_fee   18068 non-null  int64         \n",
      "dtypes: datetime64[ns](1), float64(2), int64(6), object(3)\n",
      "memory usage: 1.8+ MB\n"
     ]
    }
   ],
   "source": [
    "df_total.info()"
   ]
  },
  {
   "cell_type": "markdown",
   "id": "258d6676",
   "metadata": {},
   "source": [
    "Мы объединили наши данные в общем датафрейме *df_total*, он состоит из 18068 строк и 12 столбов. Типы данных datetime64, float64, int64, object."
   ]
  },
  {
   "cell_type": "markdown",
   "id": "8bae8a12",
   "metadata": {},
   "source": [
    "#### 4.1.2. На основании общего *df_total* создадим еще 2 датафрейма:\n",
    "- *df_free*, сюда сделаем выборку данных по пользователям без подписки.\n",
    "- *df_ultra*, сюда выберем данные по пользователям с подпиской."
   ]
  },
  {
   "cell_type": "code",
   "execution_count": 38,
   "id": "97eba33b",
   "metadata": {},
   "outputs": [
    {
     "data": {
      "text/plain": [
       "(11568, 12)"
      ]
     },
     "execution_count": 38,
     "metadata": {},
     "output_type": "execute_result"
    }
   ],
   "source": [
    "df_free = df_total.query('subscription_type == \"free\"')\n",
    "df_free.shape"
   ]
  },
  {
   "cell_type": "code",
   "execution_count": 39,
   "id": "a6d368d1",
   "metadata": {},
   "outputs": [
    {
     "data": {
      "text/plain": [
       "(6500, 12)"
      ]
     },
     "execution_count": 39,
     "metadata": {},
     "output_type": "execute_result"
    }
   ],
   "source": [
    "df_ultra = df_total.query('subscription_type == \"ultra\"')\n",
    "df_ultra.shape"
   ]
  },
  {
   "cell_type": "markdown",
   "id": "4212bb49",
   "metadata": {},
   "source": [
    "Мы создали два новых датафрейма по типам оплаты: с подпиской и без подписки. Датафрейм без подписки содержит 11568 строк, Датафрейм с подпиской содержит 6500 строк. \n",
    "Теперь сравним между собой пользователей с каждым типом оплаты по расстоянию и времени поездок.\n",
    "\n",
    "Сравним расстояние:"
   ]
  },
  {
   "cell_type": "code",
   "execution_count": 40,
   "id": "bfbfc053",
   "metadata": {},
   "outputs": [
    {
     "name": "stdout",
     "output_type": "stream",
     "text": [
      "Описание параметра \"Расстояние поездки пользователей без подписки\": \n",
      " count    11568.000000\n",
      "mean      3045.495282\n",
      "std       1246.173806\n",
      "min          0.855683\n",
      "25%       2366.562689\n",
      "50%       3114.648465\n",
      "75%       3905.697894\n",
      "max       7211.007745\n",
      "Name: distance, dtype: float64\n",
      "\n",
      "Описание параметра \"Расстояние поездки пользователей с подпиской\": \n",
      " count    6500.000000\n",
      "mean     3115.445388\n",
      "std       836.895330\n",
      "min       244.210438\n",
      "25%      2785.444017\n",
      "50%      3148.637229\n",
      "75%      3560.574425\n",
      "max      5699.769662\n",
      "Name: distance, dtype: float64\n",
      "\n"
     ]
    },
    {
     "data": {
      "image/png": "[encoded data removed]",
      "text/plain": [
       "<Figure size 1080x360 with 1 Axes>"
      ]
     },
     "metadata": {},
     "output_type": "display_data"
    }
   ],
   "source": [
    "print('Описание параметра \"Расстояние поездки пользователей без подписки\": \\n', df_free.distance.describe())\n",
    "print()\n",
    "print('Описание параметра \"Расстояние поездки пользователей с подпиской\": \\n', df_ultra.distance.describe())\n",
    "print()\n",
    "ax = df_free.plot(\n",
    "    kind='hist',\n",
    "    y='distance',\n",
    "    bins=50,\n",
    "    figsize=(15, 5),\n",
    "    alpha=0.7,\n",
    "    label='free',\n",
    "    title='Распределение расстояния поездок пользователей с подпиской и без подписки, в метрах')\n",
    "\n",
    "df_ultra.plot(\n",
    "    kind='hist',\n",
    "    y='distance',\n",
    "    bins=50,\n",
    "    alpha=0.8,\n",
    "    label='ultra',\n",
    "    ax=ax,\n",
    "    legend=True)\n",
    "\n",
    "plt.xlabel('Расстояние, м.')\n",
    "plt.ylabel('Частота появления')\n",
    "plt.show()"
   ]
  },
  {
   "cell_type": "markdown",
   "id": "8ca2bbca",
   "metadata": {},
   "source": [
    "Оба графика показывают нам два явных пика, поездки на ближние расстояния (до 1300 м) и на более дальние расстояния в интервале 2500-4000 м.\n",
    "- Минимальное расстояние поездок: с подпиской 244м, без подписки 0,85м.\n",
    "- Максимальное расстояние поездок: с подпиской 5700м, без подписки 7211м.    \n",
    "Т.о., размах расстояния у клиентов без подписки больше, чем у клиентов с подпиской.\n",
    "\n",
    "**Клиенты без подписки** чаще совершают поездки на расстояние до 1000 м, чем клиенты с подпиской.   \n",
    "Большинство клиентов без подписки ездят на расстояние от 2200 до 4400м. Так же, клиенты без подписки чаще ездят на более длинные расстояния - до 7000 м.\n",
    "\n",
    "**Клиенты с подпиской** чаще ездят на расстояние 2700-3500м и активно ездят на расстояние 4000-4300м. На ближние расстояния чаще ездят 700-1300м.\n",
    "\n",
    "Теперь сравним время поездок между выборками:"
   ]
  },
  {
   "cell_type": "code",
   "execution_count": 41,
   "id": "f3e94756",
   "metadata": {},
   "outputs": [
    {
     "name": "stdout",
     "output_type": "stream",
     "text": [
      "Описание параметра \"Длительность поездки пользователей без подписки\": \n",
      " count    11568.000000\n",
      "mean        17.390909\n",
      "std          6.326803\n",
      "min          0.500000\n",
      "25%         12.958437\n",
      "50%         17.326890\n",
      "75%         21.594071\n",
      "max         34.948498\n",
      "Name: duration, dtype: float64\n",
      "\n",
      "Описание параметра \"Длительность поездки пользователей с подпиской\": \n",
      " count    6500.000000\n",
      "mean       18.541985\n",
      "std         5.572048\n",
      "min         3.760353\n",
      "25%        14.524654\n",
      "50%        18.178153\n",
      "75%        21.884129\n",
      "max        40.823963\n",
      "Name: duration, dtype: float64\n",
      "\n"
     ]
    },
    {
     "data": {
      "image/png": "[encoded data removed]",
      "text/plain": [
       "<Figure size 1080x360 with 1 Axes>"
      ]
     },
     "metadata": {},
     "output_type": "display_data"
    }
   ],
   "source": [
    "print('Описание параметра \"Длительность поездки пользователей без подписки\": \\n', df_free.duration.describe())\n",
    "print()\n",
    "print('Описание параметра \"Длительность поездки пользователей с подпиской\": \\n', df_ultra.duration.describe())\n",
    "print()\n",
    "ax = df_free.plot(\n",
    "    kind='hist',\n",
    "    y='duration',\n",
    "    bins=38,\n",
    "    figsize=(15, 5),\n",
    "    alpha=0.7,\n",
    "    label='free',\n",
    "    title='Распределение длительности поездок пользователей с подпиской и без подписки, в минутах.')\n",
    "\n",
    "df_ultra.plot(\n",
    "    kind='hist',\n",
    "    y='duration',\n",
    "    bins=38,\n",
    "    alpha=0.8,\n",
    "    label='ultra',\n",
    "    ax=ax,\n",
    "    legend=True)\n",
    "\n",
    "plt.xlabel('Длительность поездок, мин.')\n",
    "plt.ylabel('Частота появления')\n",
    "plt.show()"
   ]
  },
  {
   "cell_type": "markdown",
   "id": "b27cc3b5",
   "metadata": {},
   "source": [
    "- Минимальное время поездок у клиентов без подписки 0.5 мин, а у клиентов с подпиской 3,76 мин.\n",
    "- Максимальное время поездок у клиентов без подписки ~35мин, с подпиской ~41 мин.\n",
    "\n",
    "С учетом расстояния поездок можно сделать вывод, что клиенты с подпиской ездят на более дальние расстояния, но тратят на эти поездки времени меньше, чем клиенты с подпиской. Значит, ездят с более высокой скоростью. А клиенты с подпиской ездят медленнее.\n",
    "\n",
    "Распределение графиков по времени достаточно похоже у обеих групп пользователей. Большинство клиентов как с подпиской, так и без подписки тратят на поездки по 13-22 мин.\n",
    "Клиентам без подписки свойственно совершать быстрые поездки - до 3х минут, клиенты с подпиской такие короткие поездки не совершают. \n"
   ]
  },
  {
   "cell_type": "markdown",
   "id": "402d620f",
   "metadata": {},
   "source": [
    "### 4.2. Подсчёт выручки"
   ]
  },
  {
   "cell_type": "markdown",
   "id": "e3194ac9",
   "metadata": {},
   "source": [
    "Посчитаем ежемесячную выручку по пользователям сервиса аренды самокатов. Для этого сначала вычислим суммарное расстояние и суммарное время по каждому пользователю за месяц. Создадим сводную таблицу, сгруппируем ее по столбцу `user_id`.\n",
    "\n",
    "Предварительно округлим время в столбце `duration` до большего значения в исходном датафрейме:"
   ]
  },
  {
   "cell_type": "code",
   "execution_count": 42,
   "id": "fb32ebf4",
   "metadata": {},
   "outputs": [],
   "source": [
    "df_total['duration'] = np.ceil(df_total['duration']) "
   ]
  },
  {
   "cell_type": "code",
   "execution_count": 43,
   "id": "3439ed0d",
   "metadata": {},
   "outputs": [
    {
     "data": {
      "text/html": [
       "<div>\n",
       "<style scoped>\n",
       "    .dataframe tbody tr th:only-of-type {\n",
       "        vertical-align: middle;\n",
       "    }\n",
       "\n",
       "    .dataframe tbody tr th {\n",
       "        vertical-align: top;\n",
       "    }\n",
       "\n",
       "    .dataframe thead th {\n",
       "        text-align: right;\n",
       "    }\n",
       "</style>\n",
       "<table border=\"1\" class=\"dataframe\">\n",
       "  <thead>\n",
       "    <tr style=\"text-align: right;\">\n",
       "      <th></th>\n",
       "      <th>user_id</th>\n",
       "      <th>date_month</th>\n",
       "      <th>subscription_type</th>\n",
       "      <th>minute_price</th>\n",
       "      <th>start_ride_price</th>\n",
       "      <th>subscription_fee</th>\n",
       "      <th>distance</th>\n",
       "      <th>duration</th>\n",
       "      <th>trips_user</th>\n",
       "    </tr>\n",
       "  </thead>\n",
       "  <tbody>\n",
       "    <tr>\n",
       "      <th>0</th>\n",
       "      <td>1</td>\n",
       "      <td>1</td>\n",
       "      <td>ultra</td>\n",
       "      <td>6</td>\n",
       "      <td>0</td>\n",
       "      <td>199</td>\n",
       "      <td>7027.511294</td>\n",
       "      <td>42.0</td>\n",
       "      <td>2</td>\n",
       "    </tr>\n",
       "    <tr>\n",
       "      <th>1</th>\n",
       "      <td>1</td>\n",
       "      <td>4</td>\n",
       "      <td>ultra</td>\n",
       "      <td>6</td>\n",
       "      <td>0</td>\n",
       "      <td>199</td>\n",
       "      <td>754.159807</td>\n",
       "      <td>7.0</td>\n",
       "      <td>1</td>\n",
       "    </tr>\n",
       "    <tr>\n",
       "      <th>2</th>\n",
       "      <td>1</td>\n",
       "      <td>8</td>\n",
       "      <td>ultra</td>\n",
       "      <td>6</td>\n",
       "      <td>0</td>\n",
       "      <td>199</td>\n",
       "      <td>6723.470560</td>\n",
       "      <td>46.0</td>\n",
       "      <td>2</td>\n",
       "    </tr>\n",
       "    <tr>\n",
       "      <th>3</th>\n",
       "      <td>1</td>\n",
       "      <td>10</td>\n",
       "      <td>ultra</td>\n",
       "      <td>6</td>\n",
       "      <td>0</td>\n",
       "      <td>199</td>\n",
       "      <td>5809.911100</td>\n",
       "      <td>32.0</td>\n",
       "      <td>2</td>\n",
       "    </tr>\n",
       "    <tr>\n",
       "      <th>4</th>\n",
       "      <td>1</td>\n",
       "      <td>11</td>\n",
       "      <td>ultra</td>\n",
       "      <td>6</td>\n",
       "      <td>0</td>\n",
       "      <td>199</td>\n",
       "      <td>7003.499363</td>\n",
       "      <td>56.0</td>\n",
       "      <td>3</td>\n",
       "    </tr>\n",
       "    <tr>\n",
       "      <th>5</th>\n",
       "      <td>1</td>\n",
       "      <td>12</td>\n",
       "      <td>ultra</td>\n",
       "      <td>6</td>\n",
       "      <td>0</td>\n",
       "      <td>199</td>\n",
       "      <td>6751.629942</td>\n",
       "      <td>28.0</td>\n",
       "      <td>2</td>\n",
       "    </tr>\n",
       "    <tr>\n",
       "      <th>6</th>\n",
       "      <td>2</td>\n",
       "      <td>3</td>\n",
       "      <td>ultra</td>\n",
       "      <td>6</td>\n",
       "      <td>0</td>\n",
       "      <td>199</td>\n",
       "      <td>10187.723006</td>\n",
       "      <td>63.0</td>\n",
       "      <td>3</td>\n",
       "    </tr>\n",
       "    <tr>\n",
       "      <th>7</th>\n",
       "      <td>2</td>\n",
       "      <td>4</td>\n",
       "      <td>ultra</td>\n",
       "      <td>6</td>\n",
       "      <td>0</td>\n",
       "      <td>199</td>\n",
       "      <td>6164.381824</td>\n",
       "      <td>40.0</td>\n",
       "      <td>2</td>\n",
       "    </tr>\n",
       "    <tr>\n",
       "      <th>8</th>\n",
       "      <td>2</td>\n",
       "      <td>6</td>\n",
       "      <td>ultra</td>\n",
       "      <td>6</td>\n",
       "      <td>0</td>\n",
       "      <td>199</td>\n",
       "      <td>3255.338202</td>\n",
       "      <td>14.0</td>\n",
       "      <td>1</td>\n",
       "    </tr>\n",
       "    <tr>\n",
       "      <th>9</th>\n",
       "      <td>2</td>\n",
       "      <td>7</td>\n",
       "      <td>ultra</td>\n",
       "      <td>6</td>\n",
       "      <td>0</td>\n",
       "      <td>199</td>\n",
       "      <td>6780.722964</td>\n",
       "      <td>48.0</td>\n",
       "      <td>2</td>\n",
       "    </tr>\n",
       "  </tbody>\n",
       "</table>\n",
       "</div>"
      ],
      "text/plain": [
       "   user_id  date_month subscription_type  minute_price  start_ride_price  \\\n",
       "0        1           1             ultra             6                 0   \n",
       "1        1           4             ultra             6                 0   \n",
       "2        1           8             ultra             6                 0   \n",
       "3        1          10             ultra             6                 0   \n",
       "4        1          11             ultra             6                 0   \n",
       "5        1          12             ultra             6                 0   \n",
       "6        2           3             ultra             6                 0   \n",
       "7        2           4             ultra             6                 0   \n",
       "8        2           6             ultra             6                 0   \n",
       "9        2           7             ultra             6                 0   \n",
       "\n",
       "   subscription_fee      distance  duration  trips_user  \n",
       "0               199   7027.511294      42.0           2  \n",
       "1               199    754.159807       7.0           1  \n",
       "2               199   6723.470560      46.0           2  \n",
       "3               199   5809.911100      32.0           2  \n",
       "4               199   7003.499363      56.0           3  \n",
       "5               199   6751.629942      28.0           2  \n",
       "6               199  10187.723006      63.0           3  \n",
       "7               199   6164.381824      40.0           2  \n",
       "8               199   3255.338202      14.0           1  \n",
       "9               199   6780.722964      48.0           2  "
      ]
     },
     "execution_count": 43,
     "metadata": {},
     "output_type": "execute_result"
    }
   ],
   "source": [
    "df_agg = df_total.pivot_table(index=['user_id', 'date_month', 'subscription_type', \\\n",
    "                                     'minute_price', 'start_ride_price', 'subscription_fee'], \\\n",
    "            aggfunc={'name': len, 'distance': sum, 'duration': sum}).reset_index()\n",
    "df_agg = df_agg.rename(columns={'name': 'trips_user'})\n",
    "df_agg.head(10)"
   ]
  },
  {
   "cell_type": "code",
   "execution_count": 44,
   "id": "be5d3b1a",
   "metadata": {},
   "outputs": [
    {
     "data": {
      "text/plain": [
       "(11331, 9)"
      ]
     },
     "execution_count": 44,
     "metadata": {},
     "output_type": "execute_result"
    }
   ],
   "source": [
    "df_agg.shape"
   ]
  },
  {
   "cell_type": "markdown",
   "id": "d9a951bc",
   "metadata": {},
   "source": [
    "В полученном датафрейме 11331 строка."
   ]
  },
  {
   "cell_type": "markdown",
   "id": "de9f034f",
   "metadata": {},
   "source": [
    "Проверим результат, выведем 3 строки датафрейма."
   ]
  },
  {
   "cell_type": "code",
   "execution_count": 45,
   "id": "ca6ea4ac",
   "metadata": {},
   "outputs": [
    {
     "data": {
      "text/html": [
       "<div>\n",
       "<style scoped>\n",
       "    .dataframe tbody tr th:only-of-type {\n",
       "        vertical-align: middle;\n",
       "    }\n",
       "\n",
       "    .dataframe tbody tr th {\n",
       "        vertical-align: top;\n",
       "    }\n",
       "\n",
       "    .dataframe thead th {\n",
       "        text-align: right;\n",
       "    }\n",
       "</style>\n",
       "<table border=\"1\" class=\"dataframe\">\n",
       "  <thead>\n",
       "    <tr style=\"text-align: right;\">\n",
       "      <th></th>\n",
       "      <th>user_id</th>\n",
       "      <th>date_month</th>\n",
       "      <th>subscription_type</th>\n",
       "      <th>minute_price</th>\n",
       "      <th>start_ride_price</th>\n",
       "      <th>subscription_fee</th>\n",
       "      <th>distance</th>\n",
       "      <th>duration</th>\n",
       "      <th>trips_user</th>\n",
       "    </tr>\n",
       "  </thead>\n",
       "  <tbody>\n",
       "    <tr>\n",
       "      <th>0</th>\n",
       "      <td>1</td>\n",
       "      <td>1</td>\n",
       "      <td>ultra</td>\n",
       "      <td>6</td>\n",
       "      <td>0</td>\n",
       "      <td>199</td>\n",
       "      <td>7027.511294</td>\n",
       "      <td>42.0</td>\n",
       "      <td>2</td>\n",
       "    </tr>\n",
       "    <tr>\n",
       "      <th>1</th>\n",
       "      <td>1</td>\n",
       "      <td>4</td>\n",
       "      <td>ultra</td>\n",
       "      <td>6</td>\n",
       "      <td>0</td>\n",
       "      <td>199</td>\n",
       "      <td>754.159807</td>\n",
       "      <td>7.0</td>\n",
       "      <td>1</td>\n",
       "    </tr>\n",
       "    <tr>\n",
       "      <th>2</th>\n",
       "      <td>1</td>\n",
       "      <td>8</td>\n",
       "      <td>ultra</td>\n",
       "      <td>6</td>\n",
       "      <td>0</td>\n",
       "      <td>199</td>\n",
       "      <td>6723.470560</td>\n",
       "      <td>46.0</td>\n",
       "      <td>2</td>\n",
       "    </tr>\n",
       "  </tbody>\n",
       "</table>\n",
       "</div>"
      ],
      "text/plain": [
       "   user_id  date_month subscription_type  minute_price  start_ride_price  \\\n",
       "0        1           1             ultra             6                 0   \n",
       "1        1           4             ultra             6                 0   \n",
       "2        1           8             ultra             6                 0   \n",
       "\n",
       "   subscription_fee     distance  duration  trips_user  \n",
       "0               199  7027.511294      42.0           2  \n",
       "1               199   754.159807       7.0           1  \n",
       "2               199  6723.470560      46.0           2  "
      ]
     },
     "execution_count": 45,
     "metadata": {},
     "output_type": "execute_result"
    }
   ],
   "source": [
    "df_agg.head(3)"
   ]
  },
  {
   "cell_type": "markdown",
   "id": "e83c3991",
   "metadata": {},
   "source": [
    "Время округлено.\n",
    "\n",
    "Теперь проведем расчет выручки по формуле:\n",
    "((стоимость старта поездки ×  количество поездок) + стоимость одной минуты поездки × общая продолжительность всех поездок в минутах) + стоимость подписки) и запишем значения в новый столбец `revenue_user`"
   ]
  },
  {
   "cell_type": "code",
   "execution_count": 46,
   "id": "50747ac1",
   "metadata": {},
   "outputs": [
    {
     "data": {
      "text/html": [
       "<div>\n",
       "<style scoped>\n",
       "    .dataframe tbody tr th:only-of-type {\n",
       "        vertical-align: middle;\n",
       "    }\n",
       "\n",
       "    .dataframe tbody tr th {\n",
       "        vertical-align: top;\n",
       "    }\n",
       "\n",
       "    .dataframe thead th {\n",
       "        text-align: right;\n",
       "    }\n",
       "</style>\n",
       "<table border=\"1\" class=\"dataframe\">\n",
       "  <thead>\n",
       "    <tr style=\"text-align: right;\">\n",
       "      <th></th>\n",
       "      <th>user_id</th>\n",
       "      <th>date_month</th>\n",
       "      <th>subscription_type</th>\n",
       "      <th>minute_price</th>\n",
       "      <th>start_ride_price</th>\n",
       "      <th>subscription_fee</th>\n",
       "      <th>distance</th>\n",
       "      <th>duration</th>\n",
       "      <th>trips_user</th>\n",
       "      <th>revenue_user</th>\n",
       "    </tr>\n",
       "  </thead>\n",
       "  <tbody>\n",
       "    <tr>\n",
       "      <th>0</th>\n",
       "      <td>1</td>\n",
       "      <td>1</td>\n",
       "      <td>ultra</td>\n",
       "      <td>6</td>\n",
       "      <td>0</td>\n",
       "      <td>199</td>\n",
       "      <td>7027.511294</td>\n",
       "      <td>42.0</td>\n",
       "      <td>2</td>\n",
       "      <td>451.0</td>\n",
       "    </tr>\n",
       "    <tr>\n",
       "      <th>1</th>\n",
       "      <td>1</td>\n",
       "      <td>4</td>\n",
       "      <td>ultra</td>\n",
       "      <td>6</td>\n",
       "      <td>0</td>\n",
       "      <td>199</td>\n",
       "      <td>754.159807</td>\n",
       "      <td>7.0</td>\n",
       "      <td>1</td>\n",
       "      <td>241.0</td>\n",
       "    </tr>\n",
       "    <tr>\n",
       "      <th>2</th>\n",
       "      <td>1</td>\n",
       "      <td>8</td>\n",
       "      <td>ultra</td>\n",
       "      <td>6</td>\n",
       "      <td>0</td>\n",
       "      <td>199</td>\n",
       "      <td>6723.470560</td>\n",
       "      <td>46.0</td>\n",
       "      <td>2</td>\n",
       "      <td>475.0</td>\n",
       "    </tr>\n",
       "  </tbody>\n",
       "</table>\n",
       "</div>"
      ],
      "text/plain": [
       "   user_id  date_month subscription_type  minute_price  start_ride_price  \\\n",
       "0        1           1             ultra             6                 0   \n",
       "1        1           4             ultra             6                 0   \n",
       "2        1           8             ultra             6                 0   \n",
       "\n",
       "   subscription_fee     distance  duration  trips_user  revenue_user  \n",
       "0               199  7027.511294      42.0           2         451.0  \n",
       "1               199   754.159807       7.0           1         241.0  \n",
       "2               199  6723.470560      46.0           2         475.0  "
      ]
     },
     "execution_count": 46,
     "metadata": {},
     "output_type": "execute_result"
    }
   ],
   "source": [
    "df_agg['revenue_user'] = ((df_agg['start_ride_price']*df_agg['trips_user']) + \\\n",
    "                         (df_agg['minute_price']*df_agg['duration']) + df_agg['subscription_fee'])\n",
    "df_agg.head(3)"
   ]
  },
  {
   "cell_type": "markdown",
   "id": "0dd56bcd",
   "metadata": {},
   "source": [
    "Столбец `revenue_user` добавлен, выручка посчитана за каждый месяц. \n",
    "\n",
    "Определим среднюю выручку за месяц, в зависимости от типа подписки:"
   ]
  },
  {
   "cell_type": "code",
   "execution_count": 47,
   "id": "55f41ce2",
   "metadata": {},
   "outputs": [
    {
     "data": {
      "text/plain": [
       "subscription_type\n",
       "free     328.641365\n",
       "ultra    362.792191\n",
       "Name: revenue_user, dtype: float64"
      ]
     },
     "execution_count": 47,
     "metadata": {},
     "output_type": "execute_result"
    }
   ],
   "source": [
    "df_agg.groupby('subscription_type')['revenue_user'].mean()"
   ]
  },
  {
   "cell_type": "markdown",
   "id": "4ed4d7a5",
   "metadata": {},
   "source": [
    "Средняя выручка выше у клиентов с подпиской (`ultra`)."
   ]
  },
  {
   "cell_type": "markdown",
   "id": "41545ac0",
   "metadata": {},
   "source": [
    "### 4.3. Проверим гипотезы"
   ]
  },
  {
   "cell_type": "markdown",
   "id": "6d86c672",
   "metadata": {},
   "source": [
    "Теперь приступим к проверке наших гипотез:\n",
    "1. Пользователи с подпиской тратят больше времени на поездки, чем пользователи без подписки.\n",
    "2. Расстояние, которое проезжают пользователи с подпиской за одну поездку, не превышает 3130 метров.\n",
    "3. Средняя помесячная выручка от пользователей с подпиской по месяцам выше, чем средняя выручка от пользователей без подписки."
   ]
  },
  {
   "cell_type": "markdown",
   "id": "6b103528",
   "metadata": {},
   "source": [
    "#### 4.3.1. Гипотеза 1\n",
    "\n",
    "Нулевая гипотеза: `Пользователи с подпиской и без подписки тратят на поездки одинаковое время`.\n",
    "\n",
    "Альтернативная гипотеза: `Пользователи с подпиской тратят больше времени на поездки, чем пользователи без подписки`.\n",
    "\n",
    "Для проверки гипотезы воспользуемся методом `scipy.stats.ttest_ind()`\n",
    "\n",
    "Нам потребуются отдельные выборки по каждому типу оплаты: `df_ultra` и `df_free`."
   ]
  },
  {
   "cell_type": "code",
   "execution_count": 48,
   "id": "ed996734",
   "metadata": {},
   "outputs": [
    {
     "name": "stdout",
     "output_type": "stream",
     "text": [
      "p-значение: 1.2804098316645618e-34\n",
      "Отвергаем нулевую гипотезу\n"
     ]
    }
   ],
   "source": [
    "duration_ultra = df_ultra['duration']\n",
    "\n",
    "duration_free = df_free['duration']\n",
    "\n",
    "alpha = 0.05\n",
    "results = st.ttest_ind(duration_ultra, duration_free, alternative='greater')\n",
    "\n",
    "print('p-значение:', results.pvalue)\n",
    "\n",
    "if results.pvalue < alpha:\n",
    "    print('Отвергаем нулевую гипотезу')\n",
    "else:\n",
    "    print('Нет оснований отвергнуть нулевую гипотезу')"
   ]
  },
  {
   "cell_type": "markdown",
   "id": "7daac4f6",
   "metadata": {},
   "source": [
    "На основании проведенного теста есть основания отвергнуть нулевую гипотезу. Есть основания говорить о том, что пользователи с подпиской тратят на поездки больше времени, чем пользователи без подписки."
   ]
  },
  {
   "cell_type": "markdown",
   "id": "110d945f",
   "metadata": {},
   "source": [
    "#### 4.3.2. Гипотеза 2\n",
    "\n",
    "Нулевая гипотеза: `Расстояние, которое проезжают пользователи с подпиской, равна значению, не превышающему 3130 м.`\n",
    "\n",
    "Альтернативная гипотеза: `Расстояние, которое проезжают пользователи с подпиской за одну поездку, превышает 3130 метров.`\n",
    "\n",
    "Для проверки гипотезы воспользуемся методом `scipy.stats.ttest_1samp()`, проверку проведем на выборке `df_ultra`.\n"
   ]
  },
  {
   "cell_type": "code",
   "execution_count": 49,
   "id": "0254fb81",
   "metadata": {},
   "outputs": [
    {
     "name": "stdout",
     "output_type": "stream",
     "text": [
      "p-значение: 0.9195368847849785\n",
      "Не отвергаем нулевую гипотезу\n"
     ]
    }
   ],
   "source": [
    "distance = df_ultra['distance']\n",
    "limit_distance = 3130\n",
    "alpha = 0.05\n",
    "results = st.ttest_1samp(distance, limit_distance, alternative='greater')\n",
    "\n",
    "print('p-значение:', results.pvalue)\n",
    "\n",
    "if (results.pvalue < alpha):\n",
    "    print('Отвергаем нулевую гипотезу')\n",
    "else:\n",
    "    print('Не отвергаем нулевую гипотезу') "
   ]
  },
  {
   "cell_type": "markdown",
   "id": "78a30719",
   "metadata": {},
   "source": [
    "У нас нет оснований отвергать нулевую гипотезу. Наша альтернативная гипотеза о том, что пользователи с подпиской ездят на расстояние, превышающее 3130м, не подтверждена. Это значит, что среднее расстояние, которое проезжают пользователи с подпиской, не превышает 3130 м. "
   ]
  },
  {
   "cell_type": "markdown",
   "id": "03b66c80",
   "metadata": {},
   "source": [
    "#### 4.3.3. Гипотеза 3\n",
    "\n",
    "Нулевая гипотеза: `Средняя помесячная выручка от пользователей с подпиской по месяцам равна средней выручке от пользователей без подписки.`\n",
    "\n",
    "Альтернативная гипотеза: `Средняя помесячная выручка от пользователей с подпиской по месяцам выше, чем средняя выручка от пользователей без подписки.`\n",
    "\n",
    "Для проверки гипотезы воспользуемся методом `scipy.stats.ttest_ind()`. Данные о выручке у нас содержатся в датафрейме `df_agg`, на его основе создадим два списка: с выручкой пользователей с подпиской и с выручкой пользователей без подписки."
   ]
  },
  {
   "cell_type": "code",
   "execution_count": 50,
   "id": "30c4cc1a",
   "metadata": {},
   "outputs": [
    {
     "name": "stdout",
     "output_type": "stream",
     "text": [
      "p-значение: 1.8850394384715216e-31\n",
      "Отвергаем нулевую гипотезу\n"
     ]
    }
   ],
   "source": [
    "revenue_ultra = df_agg.query('subscription_type == \"ultra\"')['revenue_user']\n",
    "\n",
    "revenue_free = df_agg.query('subscription_type == \"free\"')['revenue_user']\n",
    "\n",
    "alpha = 0.05\n",
    "results = st.ttest_ind(revenue_ultra, revenue_free, alternative='greater')\n",
    "\n",
    "print('p-значение:', results.pvalue)\n",
    "\n",
    "if results.pvalue < alpha:\n",
    "    print('Отвергаем нулевую гипотезу')\n",
    "else:\n",
    "    print('Нет оснований отвергнуть нулевую гипотезу')"
   ]
  },
  {
   "cell_type": "markdown",
   "id": "9e3131ba",
   "metadata": {},
   "source": [
    "На основании проведенного теста есть основание отвергнуть нулевую гипотезу. Есть основания считать, что от пользователей с подпиской средняя ежемесячная выручка выше, чем от пользователей без подписки."
   ]
  },
  {
   "cell_type": "markdown",
   "id": "4507e7e7",
   "metadata": {},
   "source": [
    "**Выводы**  \n",
    "\n",
    "Выдвинутые нами гипотезы подтвердились.\n",
    "- Пользователи с подпиской тратят больше времени на поездки, чем пользователи без подписки.\n",
    "- Расстояние, которое проезжают пользователи с подпиской за одну поездку, не превышает 3130 м.\n",
    "- Средняя помесячная выручка от пользователей с подпиской по месяцам выше, чем средняя выручка от пользователей без подписки."
   ]
  },
  {
   "cell_type": "markdown",
   "id": "bc7da630",
   "metadata": {},
   "source": [
    "## 5. Итоги исследования"
   ]
  },
  {
   "cell_type": "markdown",
   "id": "24da0a19",
   "metadata": {},
   "source": [
    "Мы провели исследование сервиса аренды самокатов GoFast.\n",
    "Изначально перед нами стояла задача проверить 3 гипотезы:\n",
    "\n",
    "1. Пользователи с подпиской тратят больше времени на поездки, чем пользователи без подписки.\n",
    "2. Расстояние, которое проезжают пользователи с подпиской за одну поездку, не превышает 3130 метров.\n",
    "3. Средняя помесячная выручка от пользователей с подпиской по месяцам выше, чем средняя выручка от пользователей без подписки.\n",
    "\n",
    "Для исследования мы использовали данные 3х датафреймов:\n",
    "- данные о пользователях (возраст, город, тип подписки)\n",
    "- данные о поездках (даты поездок, расстояние, длительность поездки)\n",
    "- данные о 2-х типах подписки (особенности тарификации каждой)\n",
    "\n",
    "Нам предоставили выгрузки за 2021 год. Данные потребовали минимум корректировок, в них отсутствовали пропуски, аномальные значения, неявные дубликаты. Мы только скорректировали формат даты и удалили дубликаты.\n",
    "\n",
    "В процессе исследования выявили такие особенности по нашим пользователям: \n",
    "\n",
    "- Представлено 8 городов. Максимально представлен город Пятигорск 14,28%, минимум пользователей сервиса в Москве 10,95%;\n",
    "- 54,4% пользователей без подписки, с подпиской примерно на 9% меньше - 45,6%;\n",
    "- Сервисом пользуются люди в возрасте от 12 до 43 лет. Самые активные пользователи ТОП-3 в возрасте 25, 24 и 26 лет. Самая активная возрастная группа 22-28 летние.\n",
    "- Чаще всего пользователи совершили по 13 поездок. Наиболее популярное количество обращений к сервису аренды от 8 до 16 за анализируемый период. \n",
    "- Минимальное расстояние поездок у клиентов с подпиской 244м, без подписки - 0,85м. Максимальное расстояние поездок с подпиской 5700м, без подписки 7211м. Размах расстояния у клиентов без подписки больше, чем у клиентов с подпиской. Клиенты без подписки чаще совершают поездки на расстояние до 1000 м, чем клиенты с подпиской. Большинство клиентов без подписки ездят на расстояние от 2200 до 4400м, они же чаще ездят на более длинные расстояния - до 7000 м.  Клиенты с подпиской чаще ездят на расстояние 2700-3500м, **что может говорить в пользу нашей 2-й гипотезы: Расстояние, которое проезжают пользователи с подпиской за одну поездку, не превышает 3130 м.**. Результат статистического теста тоже подтверждает эту гипотезу. \n",
    "- Минимальное время поездок у клиентов без подписки 0.5 мин, а у клиентов с подпиской 3,76 мин. Максимальное время поездок у клиентов без подписки ~35мин, с подпиской ~41 мин. Большинство пользователей тратят на поездки по 13-22 мин. Клиентам без подписки свойственно совершать быстрые поездки - до 3х минут, клиенты с подпиской такие короткие поездки не совершают.\n",
    "\n",
    "На основе анализа длительности поездок, с учетом анализа расстояния, можно сделать вывод, что клиенты с подпиской ездят на более дальние расстояния, но тратят на эти поездки времени меньше, чем клиенты с подпиской. Значит, они ездят с более высокой скоростью. А **клиенты с подпиской ездят медленнее и тратят на поездки больше времени. Это подтверждает нашу 1-ю гипотезу**. Результаты статистического теста тоже говорят в пользу этой гипотезы. \n",
    "\n",
    "По результатам проверки 3-й гипотезы есть все основания говорить о том, что **пользователи с подпиской помесячно приносят денег больше, чем пользователи без подписки**.\n",
    "\n",
    "Резюмируем вышеизложенное:\n",
    "- Клиенты с подпиской тратят на поездки больше времени;\n",
    "- Ежемесячная выручка от клиентов с подпиской выше;\n",
    "- Клиенты с подпиской ездят на расстояние, оптимальное с точки зрения износа самокатов  (не превышающее 3130 м).\n",
    "\n",
    "Очевидно, компании GoFast выгодно увеличивать количество пользователей с подпиской."
   ]
  },
  {
   "cell_type": "code",
   "execution_count": null,
   "id": "4edeec1c",
   "metadata": {},
   "outputs": [],
   "source": []
  }
 ],
 "metadata": {
  "ExecuteTimeLog": [
   {
    "duration": 46,
    "start_time": "2023-05-18T08:37:11.329Z"
   },
   {
    "duration": 6,
    "start_time": "2023-05-18T08:37:32.249Z"
   },
   {
    "duration": 1293,
    "start_time": "2023-05-18T08:37:38.616Z"
   },
   {
    "duration": 118,
    "start_time": "2023-05-18T08:37:41.033Z"
   },
   {
    "duration": 36,
    "start_time": "2023-05-18T08:38:11.129Z"
   },
   {
    "duration": 91,
    "start_time": "2023-05-18T08:39:33.216Z"
   },
   {
    "duration": 11,
    "start_time": "2023-05-18T08:40:08.928Z"
   },
   {
    "duration": 45,
    "start_time": "2023-05-18T08:41:03.008Z"
   },
   {
    "duration": 11,
    "start_time": "2023-05-18T08:41:11.912Z"
   },
   {
    "duration": 148,
    "start_time": "2023-05-18T08:44:41.809Z"
   },
   {
    "duration": 30,
    "start_time": "2023-05-18T08:45:03.716Z"
   },
   {
    "duration": 30,
    "start_time": "2023-05-18T08:45:13.009Z"
   },
   {
    "duration": 32,
    "start_time": "2023-05-18T08:45:27.025Z"
   },
   {
    "duration": 10,
    "start_time": "2023-05-18T08:53:47.917Z"
   },
   {
    "duration": 509,
    "start_time": "2023-05-18T08:54:32.466Z"
   },
   {
    "duration": 255,
    "start_time": "2023-05-18T08:55:09.605Z"
   },
   {
    "duration": 158,
    "start_time": "2023-05-18T08:55:25.081Z"
   },
   {
    "duration": 160,
    "start_time": "2023-05-18T08:55:36.315Z"
   },
   {
    "duration": 133,
    "start_time": "2023-05-18T08:57:03.769Z"
   },
   {
    "duration": 95,
    "start_time": "2023-05-18T08:59:06.727Z"
   },
   {
    "duration": 8,
    "start_time": "2023-05-18T09:11:57.687Z"
   },
   {
    "duration": 32,
    "start_time": "2023-05-18T09:12:21.096Z"
   },
   {
    "duration": 9,
    "start_time": "2023-05-18T09:12:21.129Z"
   },
   {
    "duration": 38,
    "start_time": "2023-05-18T09:12:21.140Z"
   },
   {
    "duration": 9,
    "start_time": "2023-05-18T09:12:21.180Z"
   },
   {
    "duration": 35,
    "start_time": "2023-05-18T09:12:21.191Z"
   },
   {
    "duration": 9,
    "start_time": "2023-05-18T09:12:21.227Z"
   },
   {
    "duration": 179,
    "start_time": "2023-05-18T09:12:21.238Z"
   },
   {
    "duration": 92,
    "start_time": "2023-05-18T09:12:21.419Z"
   },
   {
    "duration": 3,
    "start_time": "2023-05-18T09:12:45.267Z"
   },
   {
    "duration": 4,
    "start_time": "2023-05-18T09:12:49.178Z"
   },
   {
    "duration": 39,
    "start_time": "2023-05-18T09:12:49.184Z"
   },
   {
    "duration": 13,
    "start_time": "2023-05-18T09:12:49.224Z"
   },
   {
    "duration": 45,
    "start_time": "2023-05-18T09:12:49.239Z"
   },
   {
    "duration": 10,
    "start_time": "2023-05-18T09:12:49.286Z"
   },
   {
    "duration": 18,
    "start_time": "2023-05-18T09:12:49.297Z"
   },
   {
    "duration": 9,
    "start_time": "2023-05-18T09:12:49.317Z"
   },
   {
    "duration": 125,
    "start_time": "2023-05-18T09:12:49.327Z"
   },
   {
    "duration": 93,
    "start_time": "2023-05-18T09:12:49.454Z"
   },
   {
    "duration": 30,
    "start_time": "2023-05-18T09:13:34.362Z"
   },
   {
    "duration": 10,
    "start_time": "2023-05-18T09:13:39.005Z"
   },
   {
    "duration": 32,
    "start_time": "2023-05-18T09:18:32.829Z"
   },
   {
    "duration": 32,
    "start_time": "2023-05-18T09:18:49.921Z"
   },
   {
    "duration": 31,
    "start_time": "2023-05-18T09:19:30.284Z"
   },
   {
    "duration": 9,
    "start_time": "2023-05-18T09:19:32.229Z"
   },
   {
    "duration": 39,
    "start_time": "2023-05-18T09:19:36.220Z"
   },
   {
    "duration": 9,
    "start_time": "2023-05-18T09:19:36.948Z"
   },
   {
    "duration": 29,
    "start_time": "2023-05-18T09:19:38.948Z"
   },
   {
    "duration": 9,
    "start_time": "2023-05-18T09:19:43.036Z"
   },
   {
    "duration": 28,
    "start_time": "2023-05-18T09:20:32.855Z"
   },
   {
    "duration": 9,
    "start_time": "2023-05-18T09:20:34.124Z"
   },
   {
    "duration": 490,
    "start_time": "2023-05-18T09:35:35.367Z"
   },
   {
    "duration": 52,
    "start_time": "2023-05-18T09:36:25.855Z"
   },
   {
    "duration": 13,
    "start_time": "2023-05-18T09:36:34.004Z"
   },
   {
    "duration": 18,
    "start_time": "2023-05-18T09:37:05.520Z"
   },
   {
    "duration": 21,
    "start_time": "2023-05-18T09:37:26.411Z"
   },
   {
    "duration": 17,
    "start_time": "2023-05-18T09:37:49.774Z"
   },
   {
    "duration": 16,
    "start_time": "2023-05-18T09:37:55.497Z"
   },
   {
    "duration": 17,
    "start_time": "2023-05-18T09:39:44.450Z"
   },
   {
    "duration": 8,
    "start_time": "2023-05-18T09:41:02.470Z"
   },
   {
    "duration": 4,
    "start_time": "2023-05-18T09:41:26.830Z"
   },
   {
    "duration": 4,
    "start_time": "2023-05-18T09:43:10.818Z"
   },
   {
    "duration": 5,
    "start_time": "2023-05-18T09:43:56.142Z"
   },
   {
    "duration": 4,
    "start_time": "2023-05-18T09:44:02.971Z"
   },
   {
    "duration": 22,
    "start_time": "2023-05-18T09:45:30.381Z"
   },
   {
    "duration": 6,
    "start_time": "2023-05-18T09:46:00.749Z"
   },
   {
    "duration": 4,
    "start_time": "2023-05-18T09:47:03.865Z"
   },
   {
    "duration": 14,
    "start_time": "2023-05-18T09:47:21.661Z"
   },
   {
    "duration": 234,
    "start_time": "2023-05-18T09:52:23.708Z"
   },
   {
    "duration": 12,
    "start_time": "2023-05-18T09:52:38.168Z"
   },
   {
    "duration": 13,
    "start_time": "2023-05-18T09:53:36.129Z"
   },
   {
    "duration": 5,
    "start_time": "2023-05-18T10:05:25.876Z"
   },
   {
    "duration": 10,
    "start_time": "2023-05-18T10:05:39.561Z"
   },
   {
    "duration": 14,
    "start_time": "2023-05-18T10:06:29.080Z"
   },
   {
    "duration": 7,
    "start_time": "2023-05-18T10:38:50.999Z"
   },
   {
    "duration": 4,
    "start_time": "2023-05-18T10:42:00.312Z"
   },
   {
    "duration": 6,
    "start_time": "2023-05-18T10:47:48.809Z"
   },
   {
    "duration": 5,
    "start_time": "2023-05-18T10:49:32.365Z"
   },
   {
    "duration": 14,
    "start_time": "2023-05-18T10:50:24.180Z"
   },
   {
    "duration": 5,
    "start_time": "2023-05-18T10:53:20.001Z"
   },
   {
    "duration": 100,
    "start_time": "2023-05-18T10:53:48.514Z"
   },
   {
    "duration": 1638,
    "start_time": "2023-05-18T17:50:15.287Z"
   },
   {
    "duration": 121,
    "start_time": "2023-05-18T17:50:16.929Z"
   },
   {
    "duration": 24,
    "start_time": "2023-05-18T17:50:17.052Z"
   },
   {
    "duration": 246,
    "start_time": "2023-05-18T17:50:17.080Z"
   },
   {
    "duration": 13,
    "start_time": "2023-05-18T17:50:17.329Z"
   },
   {
    "duration": 97,
    "start_time": "2023-05-18T17:50:17.344Z"
   },
   {
    "duration": 11,
    "start_time": "2023-05-18T17:50:17.443Z"
   },
   {
    "duration": 50,
    "start_time": "2023-05-18T17:50:17.457Z"
   },
   {
    "duration": 11,
    "start_time": "2023-05-18T17:50:17.515Z"
   },
   {
    "duration": 6,
    "start_time": "2023-05-18T17:50:17.528Z"
   },
   {
    "duration": 5,
    "start_time": "2023-05-18T17:50:17.536Z"
   },
   {
    "duration": 20,
    "start_time": "2023-05-18T17:50:17.543Z"
   },
   {
    "duration": 15,
    "start_time": "2023-05-18T17:50:17.564Z"
   },
   {
    "duration": 12,
    "start_time": "2023-05-18T17:50:17.582Z"
   },
   {
    "duration": 9,
    "start_time": "2023-05-18T17:50:17.596Z"
   },
   {
    "duration": 15,
    "start_time": "2023-05-18T17:50:17.607Z"
   },
   {
    "duration": 233,
    "start_time": "2023-05-18T17:50:17.624Z"
   },
   {
    "duration": 159,
    "start_time": "2023-05-18T17:50:17.859Z"
   },
   {
    "duration": 6,
    "start_time": "2023-05-18T17:57:55.665Z"
   },
   {
    "duration": 6,
    "start_time": "2023-05-18T17:59:47.022Z"
   },
   {
    "duration": 5,
    "start_time": "2023-05-18T18:07:29.078Z"
   },
   {
    "duration": 4,
    "start_time": "2023-05-18T18:09:52.748Z"
   },
   {
    "duration": 4,
    "start_time": "2023-05-18T18:17:27.811Z"
   },
   {
    "duration": 6,
    "start_time": "2023-05-18T18:17:44.063Z"
   },
   {
    "duration": 6,
    "start_time": "2023-05-18T18:18:13.966Z"
   },
   {
    "duration": 5,
    "start_time": "2023-05-18T18:18:53.909Z"
   },
   {
    "duration": 5,
    "start_time": "2023-05-18T18:20:10.810Z"
   },
   {
    "duration": 8,
    "start_time": "2023-05-18T18:26:15.545Z"
   },
   {
    "duration": 7,
    "start_time": "2023-05-18T18:35:45.554Z"
   },
   {
    "duration": 6,
    "start_time": "2023-05-18T18:41:03.855Z"
   },
   {
    "duration": 9,
    "start_time": "2023-05-18T18:41:13.154Z"
   },
   {
    "duration": 5,
    "start_time": "2023-05-18T18:41:48.312Z"
   },
   {
    "duration": 6,
    "start_time": "2023-05-18T18:41:50.955Z"
   },
   {
    "duration": 8,
    "start_time": "2023-05-18T18:43:06.947Z"
   },
   {
    "duration": 7,
    "start_time": "2023-05-18T18:43:31.512Z"
   },
   {
    "duration": 7,
    "start_time": "2023-05-18T18:43:51.177Z"
   },
   {
    "duration": 5,
    "start_time": "2023-05-18T18:45:51.678Z"
   },
   {
    "duration": 5,
    "start_time": "2023-05-18T18:45:57.932Z"
   },
   {
    "duration": 7,
    "start_time": "2023-05-18T18:46:25.771Z"
   },
   {
    "duration": 149,
    "start_time": "2023-05-18T18:58:30.455Z"
   },
   {
    "duration": 161,
    "start_time": "2023-05-18T19:10:32.747Z"
   },
   {
    "duration": 151,
    "start_time": "2023-05-18T19:10:46.185Z"
   },
   {
    "duration": 5,
    "start_time": "2023-05-18T19:11:46.144Z"
   },
   {
    "duration": 4,
    "start_time": "2023-05-18T19:12:33.678Z"
   },
   {
    "duration": 40,
    "start_time": "2023-05-18T19:12:33.689Z"
   },
   {
    "duration": 11,
    "start_time": "2023-05-18T19:12:33.731Z"
   },
   {
    "duration": 56,
    "start_time": "2023-05-18T19:12:33.743Z"
   },
   {
    "duration": 13,
    "start_time": "2023-05-18T19:12:33.802Z"
   },
   {
    "duration": 31,
    "start_time": "2023-05-18T19:12:33.816Z"
   },
   {
    "duration": 16,
    "start_time": "2023-05-18T19:12:33.849Z"
   },
   {
    "duration": 31,
    "start_time": "2023-05-18T19:12:33.868Z"
   },
   {
    "duration": 15,
    "start_time": "2023-05-18T19:12:33.902Z"
   },
   {
    "duration": 6,
    "start_time": "2023-05-18T19:12:33.920Z"
   },
   {
    "duration": 11,
    "start_time": "2023-05-18T19:12:33.928Z"
   },
   {
    "duration": 4,
    "start_time": "2023-05-18T19:12:33.958Z"
   },
   {
    "duration": 9,
    "start_time": "2023-05-18T19:12:33.964Z"
   },
   {
    "duration": 5,
    "start_time": "2023-05-18T19:12:33.975Z"
   },
   {
    "duration": 8,
    "start_time": "2023-05-18T19:12:33.982Z"
   },
   {
    "duration": 6,
    "start_time": "2023-05-18T19:12:33.992Z"
   },
   {
    "duration": 8,
    "start_time": "2023-05-18T19:12:34.000Z"
   },
   {
    "duration": 6,
    "start_time": "2023-05-18T19:12:34.010Z"
   },
   {
    "duration": 8,
    "start_time": "2023-05-18T19:12:34.058Z"
   },
   {
    "duration": 10,
    "start_time": "2023-05-18T19:12:34.068Z"
   },
   {
    "duration": 207,
    "start_time": "2023-05-18T19:12:34.080Z"
   },
   {
    "duration": 158,
    "start_time": "2023-05-18T19:12:49.416Z"
   },
   {
    "duration": 108,
    "start_time": "2023-05-18T19:14:36.474Z"
   },
   {
    "duration": 4,
    "start_time": "2023-05-18T19:14:45.537Z"
   },
   {
    "duration": 191,
    "start_time": "2023-05-18T19:19:44.391Z"
   },
   {
    "duration": 276,
    "start_time": "2023-05-18T19:22:46.693Z"
   },
   {
    "duration": 219,
    "start_time": "2023-05-18T19:23:14.955Z"
   },
   {
    "duration": 198,
    "start_time": "2023-05-18T19:25:04.548Z"
   },
   {
    "duration": 232,
    "start_time": "2023-05-18T19:25:23.574Z"
   },
   {
    "duration": 12,
    "start_time": "2023-05-18T19:35:37.608Z"
   },
   {
    "duration": 14,
    "start_time": "2023-05-18T19:36:04.107Z"
   },
   {
    "duration": 7,
    "start_time": "2023-05-18T19:36:18.804Z"
   },
   {
    "duration": 9,
    "start_time": "2023-05-18T19:36:35.319Z"
   },
   {
    "duration": 11,
    "start_time": "2023-05-18T19:40:52.012Z"
   },
   {
    "duration": 24,
    "start_time": "2023-05-18T19:41:30.018Z"
   },
   {
    "duration": 23,
    "start_time": "2023-05-18T19:41:46.386Z"
   },
   {
    "duration": 11,
    "start_time": "2023-05-18T19:42:27.156Z"
   },
   {
    "duration": 10,
    "start_time": "2023-05-18T19:42:54.976Z"
   },
   {
    "duration": 14,
    "start_time": "2023-05-18T19:47:42.245Z"
   },
   {
    "duration": 6,
    "start_time": "2023-05-18T19:47:52.087Z"
   },
   {
    "duration": 5,
    "start_time": "2023-05-18T19:48:45.644Z"
   },
   {
    "duration": 12,
    "start_time": "2023-05-18T19:48:54.313Z"
   },
   {
    "duration": 5,
    "start_time": "2023-05-18T19:51:16.784Z"
   },
   {
    "duration": 10,
    "start_time": "2023-05-18T19:51:26.649Z"
   },
   {
    "duration": 6,
    "start_time": "2023-05-18T19:51:43.048Z"
   },
   {
    "duration": 10,
    "start_time": "2023-05-18T19:52:14.745Z"
   },
   {
    "duration": 8,
    "start_time": "2023-05-18T19:52:47.376Z"
   },
   {
    "duration": 9,
    "start_time": "2023-05-18T19:52:58.764Z"
   },
   {
    "duration": 8,
    "start_time": "2023-05-18T19:53:18.905Z"
   },
   {
    "duration": 9,
    "start_time": "2023-05-18T19:54:10.104Z"
   },
   {
    "duration": 174,
    "start_time": "2023-05-18T19:57:21.200Z"
   },
   {
    "duration": 156,
    "start_time": "2023-05-18T19:57:28.797Z"
   },
   {
    "duration": 10,
    "start_time": "2023-05-18T19:58:34.807Z"
   },
   {
    "duration": 105,
    "start_time": "2023-05-18T20:01:23.053Z"
   },
   {
    "duration": 146,
    "start_time": "2023-05-18T20:01:45.357Z"
   },
   {
    "duration": 227,
    "start_time": "2023-05-18T20:04:00.959Z"
   },
   {
    "duration": 315,
    "start_time": "2023-05-18T20:04:12.252Z"
   },
   {
    "duration": 371,
    "start_time": "2023-05-18T20:04:43.286Z"
   },
   {
    "duration": 262,
    "start_time": "2023-05-18T20:06:18.953Z"
   },
   {
    "duration": 10,
    "start_time": "2023-05-18T20:06:34.853Z"
   },
   {
    "duration": 267,
    "start_time": "2023-05-18T20:06:48.345Z"
   },
   {
    "duration": 1194,
    "start_time": "2023-05-18T20:09:24.356Z"
   },
   {
    "duration": 37,
    "start_time": "2023-05-18T20:09:25.552Z"
   },
   {
    "duration": 14,
    "start_time": "2023-05-18T20:09:25.590Z"
   },
   {
    "duration": 43,
    "start_time": "2023-05-18T20:09:25.606Z"
   },
   {
    "duration": 11,
    "start_time": "2023-05-18T20:09:25.651Z"
   },
   {
    "duration": 22,
    "start_time": "2023-05-18T20:09:25.663Z"
   },
   {
    "duration": 9,
    "start_time": "2023-05-18T20:09:25.687Z"
   },
   {
    "duration": 18,
    "start_time": "2023-05-18T20:09:25.698Z"
   },
   {
    "duration": 10,
    "start_time": "2023-05-18T20:09:25.718Z"
   },
   {
    "duration": 4,
    "start_time": "2023-05-18T20:09:25.731Z"
   },
   {
    "duration": 22,
    "start_time": "2023-05-18T20:09:25.736Z"
   },
   {
    "duration": 10,
    "start_time": "2023-05-18T20:09:25.760Z"
   },
   {
    "duration": 22,
    "start_time": "2023-05-18T20:09:25.772Z"
   },
   {
    "duration": 4,
    "start_time": "2023-05-18T20:09:25.796Z"
   },
   {
    "duration": 8,
    "start_time": "2023-05-18T20:09:25.802Z"
   },
   {
    "duration": 6,
    "start_time": "2023-05-18T20:09:25.812Z"
   },
   {
    "duration": 13,
    "start_time": "2023-05-18T20:09:25.820Z"
   },
   {
    "duration": 7,
    "start_time": "2023-05-18T20:09:25.836Z"
   },
   {
    "duration": 18,
    "start_time": "2023-05-18T20:09:25.845Z"
   },
   {
    "duration": 13,
    "start_time": "2023-05-18T20:09:25.865Z"
   },
   {
    "duration": 19,
    "start_time": "2023-05-18T20:09:25.880Z"
   },
   {
    "duration": 7,
    "start_time": "2023-05-18T20:09:25.901Z"
   },
   {
    "duration": 21,
    "start_time": "2023-05-18T20:09:25.910Z"
   },
   {
    "duration": 178,
    "start_time": "2023-05-18T20:09:25.933Z"
   },
   {
    "duration": 10,
    "start_time": "2023-05-18T20:09:26.113Z"
   },
   {
    "duration": 117,
    "start_time": "2023-05-18T20:09:26.124Z"
   },
   {
    "duration": 0,
    "start_time": "2023-05-18T20:09:26.243Z"
   },
   {
    "duration": 255,
    "start_time": "2023-05-18T20:09:57.112Z"
   },
   {
    "duration": 284,
    "start_time": "2023-05-18T20:10:03.720Z"
   },
   {
    "duration": 17,
    "start_time": "2023-05-18T20:11:31.069Z"
   },
   {
    "duration": 293,
    "start_time": "2023-05-18T20:13:27.672Z"
   },
   {
    "duration": 358,
    "start_time": "2023-05-18T20:14:43.544Z"
   },
   {
    "duration": 350,
    "start_time": "2023-05-18T20:16:11.612Z"
   },
   {
    "duration": 271,
    "start_time": "2023-05-18T20:16:17.476Z"
   },
   {
    "duration": 276,
    "start_time": "2023-05-18T20:16:27.917Z"
   },
   {
    "duration": 518,
    "start_time": "2023-05-18T20:16:53.822Z"
   },
   {
    "duration": 445,
    "start_time": "2023-05-18T20:17:05.104Z"
   },
   {
    "duration": 278,
    "start_time": "2023-05-18T20:17:34.657Z"
   },
   {
    "duration": 593,
    "start_time": "2023-05-18T20:17:43.941Z"
   },
   {
    "duration": 368,
    "start_time": "2023-05-18T20:18:04.317Z"
   },
   {
    "duration": 401,
    "start_time": "2023-05-18T20:19:31.543Z"
   },
   {
    "duration": 380,
    "start_time": "2023-05-18T20:20:28.251Z"
   },
   {
    "duration": 19,
    "start_time": "2023-05-18T20:24:03.426Z"
   },
   {
    "duration": 338,
    "start_time": "2023-05-18T20:24:53.365Z"
   },
   {
    "duration": 279,
    "start_time": "2023-05-18T20:25:17.544Z"
   },
   {
    "duration": 467,
    "start_time": "2023-05-18T20:25:24.088Z"
   },
   {
    "duration": 370,
    "start_time": "2023-05-18T20:25:31.314Z"
   },
   {
    "duration": 53,
    "start_time": "2023-05-19T11:03:33.106Z"
   },
   {
    "duration": 1459,
    "start_time": "2023-05-19T11:03:49.149Z"
   },
   {
    "duration": 89,
    "start_time": "2023-05-19T11:03:50.610Z"
   },
   {
    "duration": 13,
    "start_time": "2023-05-19T11:03:50.700Z"
   },
   {
    "duration": 160,
    "start_time": "2023-05-19T11:03:50.715Z"
   },
   {
    "duration": 13,
    "start_time": "2023-05-19T11:03:50.877Z"
   },
   {
    "duration": 59,
    "start_time": "2023-05-19T11:03:50.893Z"
   },
   {
    "duration": 13,
    "start_time": "2023-05-19T11:03:50.954Z"
   },
   {
    "duration": 39,
    "start_time": "2023-05-19T11:03:50.968Z"
   },
   {
    "duration": 18,
    "start_time": "2023-05-19T11:03:51.009Z"
   },
   {
    "duration": 8,
    "start_time": "2023-05-19T11:03:51.029Z"
   },
   {
    "duration": 16,
    "start_time": "2023-05-19T11:03:51.039Z"
   },
   {
    "duration": 11,
    "start_time": "2023-05-19T11:03:51.057Z"
   },
   {
    "duration": 15,
    "start_time": "2023-05-19T11:03:51.070Z"
   },
   {
    "duration": 6,
    "start_time": "2023-05-19T11:03:51.087Z"
   },
   {
    "duration": 6,
    "start_time": "2023-05-19T11:03:51.095Z"
   },
   {
    "duration": 6,
    "start_time": "2023-05-19T11:03:51.103Z"
   },
   {
    "duration": 10,
    "start_time": "2023-05-19T11:03:51.111Z"
   },
   {
    "duration": 14,
    "start_time": "2023-05-19T11:03:51.123Z"
   },
   {
    "duration": 23,
    "start_time": "2023-05-19T11:03:51.138Z"
   },
   {
    "duration": 10,
    "start_time": "2023-05-19T11:03:51.163Z"
   },
   {
    "duration": 4,
    "start_time": "2023-05-19T11:03:51.174Z"
   },
   {
    "duration": 16,
    "start_time": "2023-05-19T11:03:51.188Z"
   },
   {
    "duration": 15,
    "start_time": "2023-05-19T11:03:51.205Z"
   },
   {
    "duration": 192,
    "start_time": "2023-05-19T11:03:51.222Z"
   },
   {
    "duration": 9,
    "start_time": "2023-05-19T11:03:51.417Z"
   },
   {
    "duration": 260,
    "start_time": "2023-05-19T11:03:51.428Z"
   },
   {
    "duration": 385,
    "start_time": "2023-05-19T11:03:51.690Z"
   },
   {
    "duration": 23,
    "start_time": "2023-05-19T11:03:52.077Z"
   },
   {
    "duration": 392,
    "start_time": "2023-05-19T11:03:52.102Z"
   },
   {
    "duration": 113,
    "start_time": "2023-05-19T11:03:52.496Z"
   },
   {
    "duration": 14,
    "start_time": "2023-05-19T11:06:42.362Z"
   },
   {
    "duration": 13,
    "start_time": "2023-05-19T11:07:18.625Z"
   },
   {
    "duration": 5,
    "start_time": "2023-05-19T11:07:50.474Z"
   },
   {
    "duration": 13,
    "start_time": "2023-05-19T11:08:19.844Z"
   },
   {
    "duration": 13,
    "start_time": "2023-05-19T11:08:38.560Z"
   },
   {
    "duration": 5,
    "start_time": "2023-05-19T11:08:49.226Z"
   },
   {
    "duration": 13,
    "start_time": "2023-05-19T11:08:57.396Z"
   },
   {
    "duration": 4,
    "start_time": "2023-05-19T11:09:01.759Z"
   },
   {
    "duration": 1482,
    "start_time": "2023-05-19T11:10:01.382Z"
   },
   {
    "duration": 359,
    "start_time": "2023-05-19T11:10:26.838Z"
   },
   {
    "duration": 337,
    "start_time": "2023-05-19T11:10:39.266Z"
   },
   {
    "duration": 217,
    "start_time": "2023-05-19T11:10:46.080Z"
   },
   {
    "duration": 13,
    "start_time": "2023-05-19T11:12:30.999Z"
   },
   {
    "duration": 14,
    "start_time": "2023-05-19T11:12:42.440Z"
   },
   {
    "duration": 13,
    "start_time": "2023-05-19T11:13:06.716Z"
   },
   {
    "duration": 14,
    "start_time": "2023-05-19T11:16:03.337Z"
   },
   {
    "duration": 14,
    "start_time": "2023-05-19T11:16:13.905Z"
   },
   {
    "duration": 13,
    "start_time": "2023-05-19T11:16:22.140Z"
   },
   {
    "duration": 246,
    "start_time": "2023-05-19T11:16:59.333Z"
   },
   {
    "duration": 243,
    "start_time": "2023-05-19T11:17:11.587Z"
   },
   {
    "duration": 232,
    "start_time": "2023-05-19T11:17:19.907Z"
   },
   {
    "duration": 232,
    "start_time": "2023-05-19T11:17:38.465Z"
   },
   {
    "duration": 239,
    "start_time": "2023-05-19T11:17:48.347Z"
   },
   {
    "duration": 11,
    "start_time": "2023-05-19T11:18:31.137Z"
   },
   {
    "duration": 10,
    "start_time": "2023-05-19T11:18:52.134Z"
   },
   {
    "duration": 6,
    "start_time": "2023-05-19T11:19:15.152Z"
   },
   {
    "duration": 249,
    "start_time": "2023-05-19T11:19:49.251Z"
   },
   {
    "duration": 237,
    "start_time": "2023-05-19T11:20:02.106Z"
   },
   {
    "duration": 13,
    "start_time": "2023-05-19T11:21:22.521Z"
   },
   {
    "duration": 235,
    "start_time": "2023-05-19T11:21:46.611Z"
   },
   {
    "duration": 272,
    "start_time": "2023-05-19T11:21:56.893Z"
   },
   {
    "duration": 451,
    "start_time": "2023-05-19T11:24:05.377Z"
   },
   {
    "duration": 428,
    "start_time": "2023-05-19T11:24:29.179Z"
   },
   {
    "duration": 278,
    "start_time": "2023-05-19T11:24:36.041Z"
   },
   {
    "duration": 13,
    "start_time": "2023-05-19T11:29:25.019Z"
   },
   {
    "duration": 237,
    "start_time": "2023-05-19T11:29:35.112Z"
   },
   {
    "duration": 19,
    "start_time": "2023-05-19T11:30:28.455Z"
   },
   {
    "duration": 255,
    "start_time": "2023-05-19T11:30:35.613Z"
   },
   {
    "duration": 280,
    "start_time": "2023-05-19T11:32:56.240Z"
   },
   {
    "duration": 11,
    "start_time": "2023-05-19T11:34:06.170Z"
   },
   {
    "duration": 10,
    "start_time": "2023-05-19T11:34:51.030Z"
   },
   {
    "duration": 277,
    "start_time": "2023-05-19T11:35:04.070Z"
   },
   {
    "duration": 230,
    "start_time": "2023-05-19T11:35:18.729Z"
   },
   {
    "duration": 377,
    "start_time": "2023-05-19T11:35:31.222Z"
   },
   {
    "duration": 158,
    "start_time": "2023-05-19T11:47:53.641Z"
   },
   {
    "duration": 4,
    "start_time": "2023-05-19T11:47:58.361Z"
   },
   {
    "duration": 32,
    "start_time": "2023-05-19T11:47:58.418Z"
   },
   {
    "duration": 12,
    "start_time": "2023-05-19T11:47:58.452Z"
   },
   {
    "duration": 37,
    "start_time": "2023-05-19T11:47:58.466Z"
   },
   {
    "duration": 13,
    "start_time": "2023-05-19T11:47:58.505Z"
   },
   {
    "duration": 19,
    "start_time": "2023-05-19T11:47:58.521Z"
   },
   {
    "duration": 11,
    "start_time": "2023-05-19T11:47:58.542Z"
   },
   {
    "duration": 42,
    "start_time": "2023-05-19T11:47:58.554Z"
   },
   {
    "duration": 13,
    "start_time": "2023-05-19T11:47:58.597Z"
   },
   {
    "duration": 14,
    "start_time": "2023-05-19T11:47:58.611Z"
   },
   {
    "duration": 9,
    "start_time": "2023-05-19T11:47:58.627Z"
   },
   {
    "duration": 5,
    "start_time": "2023-05-19T11:47:58.637Z"
   },
   {
    "duration": 5,
    "start_time": "2023-05-19T11:47:58.643Z"
   },
   {
    "duration": 11,
    "start_time": "2023-05-19T11:47:58.650Z"
   },
   {
    "duration": 30,
    "start_time": "2023-05-19T11:47:58.663Z"
   },
   {
    "duration": 13,
    "start_time": "2023-05-19T11:47:58.699Z"
   },
   {
    "duration": 11,
    "start_time": "2023-05-19T11:47:58.714Z"
   },
   {
    "duration": 5,
    "start_time": "2023-05-19T11:47:58.726Z"
   },
   {
    "duration": 6,
    "start_time": "2023-05-19T11:47:58.733Z"
   },
   {
    "duration": 9,
    "start_time": "2023-05-19T11:47:58.741Z"
   },
   {
    "duration": 4,
    "start_time": "2023-05-19T11:47:58.752Z"
   },
   {
    "duration": 35,
    "start_time": "2023-05-19T11:47:58.757Z"
   },
   {
    "duration": 15,
    "start_time": "2023-05-19T11:47:58.793Z"
   },
   {
    "duration": 180,
    "start_time": "2023-05-19T11:47:58.810Z"
   },
   {
    "duration": 9,
    "start_time": "2023-05-19T11:47:58.992Z"
   },
   {
    "duration": 272,
    "start_time": "2023-05-19T11:47:59.003Z"
   },
   {
    "duration": 407,
    "start_time": "2023-05-19T11:47:59.277Z"
   },
   {
    "duration": 10,
    "start_time": "2023-05-19T11:47:59.688Z"
   },
   {
    "duration": 262,
    "start_time": "2023-05-19T11:47:59.700Z"
   },
   {
    "duration": 98,
    "start_time": "2023-05-19T11:47:59.963Z"
   },
   {
    "duration": 0,
    "start_time": "2023-05-19T11:48:00.063Z"
   },
   {
    "duration": 0,
    "start_time": "2023-05-19T11:48:00.064Z"
   },
   {
    "duration": 0,
    "start_time": "2023-05-19T11:48:00.066Z"
   },
   {
    "duration": 0,
    "start_time": "2023-05-19T11:48:00.067Z"
   },
   {
    "duration": 296,
    "start_time": "2023-05-19T11:48:17.354Z"
   },
   {
    "duration": 411,
    "start_time": "2023-05-19T11:48:22.716Z"
   },
   {
    "duration": 11,
    "start_time": "2023-05-19T11:48:23.992Z"
   },
   {
    "duration": 267,
    "start_time": "2023-05-19T11:48:25.630Z"
   },
   {
    "duration": 8,
    "start_time": "2023-05-19T11:49:09.391Z"
   },
   {
    "duration": 22,
    "start_time": "2023-05-19T11:49:10.198Z"
   },
   {
    "duration": 187,
    "start_time": "2023-05-19T11:51:29.624Z"
   },
   {
    "duration": 12,
    "start_time": "2023-05-19T11:52:16.766Z"
   },
   {
    "duration": 179,
    "start_time": "2023-05-19T11:52:18.300Z"
   },
   {
    "duration": 10,
    "start_time": "2023-05-19T11:56:33.458Z"
   },
   {
    "duration": 14,
    "start_time": "2023-05-19T11:58:51.121Z"
   },
   {
    "duration": 15,
    "start_time": "2023-05-19T11:58:58.175Z"
   },
   {
    "duration": 301,
    "start_time": "2023-05-19T12:05:36.225Z"
   },
   {
    "duration": 145,
    "start_time": "2023-05-19T12:05:47.577Z"
   },
   {
    "duration": 152,
    "start_time": "2023-05-19T12:05:56.386Z"
   },
   {
    "duration": 141,
    "start_time": "2023-05-19T12:15:54.106Z"
   },
   {
    "duration": 269,
    "start_time": "2023-05-19T12:23:01.592Z"
   },
   {
    "duration": 391,
    "start_time": "2023-05-19T12:25:35.197Z"
   },
   {
    "duration": 267,
    "start_time": "2023-05-19T12:34:58.357Z"
   },
   {
    "duration": 266,
    "start_time": "2023-05-19T12:36:00.983Z"
   },
   {
    "duration": 1428,
    "start_time": "2023-05-19T17:44:25.640Z"
   },
   {
    "duration": 110,
    "start_time": "2023-05-19T17:44:27.070Z"
   },
   {
    "duration": 14,
    "start_time": "2023-05-19T17:44:27.182Z"
   },
   {
    "duration": 186,
    "start_time": "2023-05-19T17:44:27.198Z"
   },
   {
    "duration": 11,
    "start_time": "2023-05-19T17:44:27.387Z"
   },
   {
    "duration": 69,
    "start_time": "2023-05-19T17:44:27.399Z"
   },
   {
    "duration": 9,
    "start_time": "2023-05-19T17:44:27.470Z"
   },
   {
    "duration": 16,
    "start_time": "2023-05-19T17:44:27.481Z"
   },
   {
    "duration": 13,
    "start_time": "2023-05-19T17:44:27.499Z"
   },
   {
    "duration": 6,
    "start_time": "2023-05-19T17:44:27.515Z"
   },
   {
    "duration": 17,
    "start_time": "2023-05-19T17:44:27.522Z"
   },
   {
    "duration": 5,
    "start_time": "2023-05-19T17:44:27.541Z"
   },
   {
    "duration": 8,
    "start_time": "2023-05-19T17:44:27.548Z"
   },
   {
    "duration": 5,
    "start_time": "2023-05-19T17:44:27.559Z"
   },
   {
    "duration": 10,
    "start_time": "2023-05-19T17:44:27.566Z"
   },
   {
    "duration": 10,
    "start_time": "2023-05-19T17:44:27.577Z"
   },
   {
    "duration": 28,
    "start_time": "2023-05-19T17:44:27.589Z"
   },
   {
    "duration": 13,
    "start_time": "2023-05-19T17:44:27.619Z"
   },
   {
    "duration": 7,
    "start_time": "2023-05-19T17:44:27.643Z"
   },
   {
    "duration": 11,
    "start_time": "2023-05-19T17:44:27.652Z"
   },
   {
    "duration": 6,
    "start_time": "2023-05-19T17:44:27.665Z"
   },
   {
    "duration": 12,
    "start_time": "2023-05-19T17:44:27.672Z"
   },
   {
    "duration": 15,
    "start_time": "2023-05-19T17:44:27.686Z"
   },
   {
    "duration": 208,
    "start_time": "2023-05-19T17:44:27.702Z"
   },
   {
    "duration": 157,
    "start_time": "2023-05-19T17:44:27.911Z"
   },
   {
    "duration": 263,
    "start_time": "2023-05-19T17:44:28.070Z"
   },
   {
    "duration": 381,
    "start_time": "2023-05-19T17:44:28.335Z"
   },
   {
    "duration": 24,
    "start_time": "2023-05-19T17:44:28.718Z"
   },
   {
    "duration": 259,
    "start_time": "2023-05-19T17:44:28.744Z"
   },
   {
    "duration": 275,
    "start_time": "2023-05-19T17:44:29.004Z"
   },
   {
    "duration": 542,
    "start_time": "2023-05-19T17:44:29.280Z"
   },
   {
    "duration": 21,
    "start_time": "2023-05-19T17:44:29.823Z"
   },
   {
    "duration": 271,
    "start_time": "2023-05-19T17:44:29.845Z"
   },
   {
    "duration": 133,
    "start_time": "2023-05-19T17:51:09.308Z"
   },
   {
    "duration": 11,
    "start_time": "2023-05-19T17:52:08.253Z"
   },
   {
    "duration": 23,
    "start_time": "2023-05-19T17:53:20.296Z"
   },
   {
    "duration": 10,
    "start_time": "2023-05-19T17:53:34.788Z"
   },
   {
    "duration": 8,
    "start_time": "2023-05-19T17:54:02.979Z"
   },
   {
    "duration": 7,
    "start_time": "2023-05-19T17:57:55.625Z"
   },
   {
    "duration": 25,
    "start_time": "2023-05-19T17:58:01.616Z"
   },
   {
    "duration": 20,
    "start_time": "2023-05-19T17:58:50.626Z"
   },
   {
    "duration": 4,
    "start_time": "2023-05-19T17:58:58.658Z"
   },
   {
    "duration": 63,
    "start_time": "2023-05-19T17:58:58.666Z"
   },
   {
    "duration": 15,
    "start_time": "2023-05-19T17:58:58.731Z"
   },
   {
    "duration": 48,
    "start_time": "2023-05-19T17:58:58.747Z"
   },
   {
    "duration": 10,
    "start_time": "2023-05-19T17:58:58.798Z"
   },
   {
    "duration": 52,
    "start_time": "2023-05-19T17:58:58.810Z"
   },
   {
    "duration": 13,
    "start_time": "2023-05-19T17:58:58.864Z"
   },
   {
    "duration": 28,
    "start_time": "2023-05-19T17:58:58.878Z"
   },
   {
    "duration": 25,
    "start_time": "2023-05-19T17:58:58.908Z"
   },
   {
    "duration": 7,
    "start_time": "2023-05-19T17:58:58.939Z"
   },
   {
    "duration": 13,
    "start_time": "2023-05-19T17:58:58.948Z"
   },
   {
    "duration": 13,
    "start_time": "2023-05-19T17:58:58.963Z"
   },
   {
    "duration": 4,
    "start_time": "2023-05-19T17:58:59.498Z"
   },
   {
    "duration": 4,
    "start_time": "2023-05-19T17:59:00.056Z"
   },
   {
    "duration": 35,
    "start_time": "2023-05-19T17:59:00.063Z"
   },
   {
    "duration": 45,
    "start_time": "2023-05-19T17:59:00.100Z"
   },
   {
    "duration": 7,
    "start_time": "2023-05-19T17:59:00.147Z"
   },
   {
    "duration": 10,
    "start_time": "2023-05-19T17:59:00.156Z"
   },
   {
    "duration": 9,
    "start_time": "2023-05-19T17:59:00.168Z"
   },
   {
    "duration": 16,
    "start_time": "2023-05-19T17:59:00.179Z"
   },
   {
    "duration": 15,
    "start_time": "2023-05-19T17:59:00.197Z"
   },
   {
    "duration": 5,
    "start_time": "2023-05-19T17:59:00.863Z"
   },
   {
    "duration": 61,
    "start_time": "2023-05-19T17:59:00.871Z"
   },
   {
    "duration": 193,
    "start_time": "2023-05-19T17:59:00.933Z"
   },
   {
    "duration": 160,
    "start_time": "2023-05-19T17:59:01.132Z"
   },
   {
    "duration": 270,
    "start_time": "2023-05-19T17:59:01.294Z"
   },
   {
    "duration": 451,
    "start_time": "2023-05-19T17:59:01.566Z"
   },
   {
    "duration": 23,
    "start_time": "2023-05-19T17:59:02.019Z"
   },
   {
    "duration": 257,
    "start_time": "2023-05-19T17:59:02.046Z"
   },
   {
    "duration": 292,
    "start_time": "2023-05-19T17:59:02.306Z"
   },
   {
    "duration": 419,
    "start_time": "2023-05-19T17:59:02.599Z"
   },
   {
    "duration": 21,
    "start_time": "2023-05-19T17:59:03.525Z"
   },
   {
    "duration": 396,
    "start_time": "2023-05-19T17:59:03.549Z"
   },
   {
    "duration": 244,
    "start_time": "2023-05-19T18:02:50.462Z"
   },
   {
    "duration": 325,
    "start_time": "2023-05-19T18:03:09.457Z"
   },
   {
    "duration": 233,
    "start_time": "2023-05-19T18:07:02.965Z"
   },
   {
    "duration": 318,
    "start_time": "2023-05-19T18:12:00.531Z"
   },
   {
    "duration": 307,
    "start_time": "2023-05-19T18:12:15.707Z"
   },
   {
    "duration": 293,
    "start_time": "2023-05-19T18:16:44.188Z"
   },
   {
    "duration": 257,
    "start_time": "2023-05-19T18:21:45.907Z"
   },
   {
    "duration": 259,
    "start_time": "2023-05-19T18:22:34.147Z"
   },
   {
    "duration": 451,
    "start_time": "2023-05-19T18:22:51.602Z"
   },
   {
    "duration": 394,
    "start_time": "2023-05-19T18:23:07.275Z"
   },
   {
    "duration": 503,
    "start_time": "2023-05-19T18:23:14.605Z"
   },
   {
    "duration": 10,
    "start_time": "2023-05-19T18:47:53.315Z"
   },
   {
    "duration": 3,
    "start_time": "2023-05-19T18:48:48.560Z"
   },
   {
    "duration": 38,
    "start_time": "2023-05-19T18:48:48.565Z"
   },
   {
    "duration": 10,
    "start_time": "2023-05-19T18:48:48.605Z"
   },
   {
    "duration": 41,
    "start_time": "2023-05-19T18:48:48.617Z"
   },
   {
    "duration": 12,
    "start_time": "2023-05-19T18:48:48.661Z"
   },
   {
    "duration": 22,
    "start_time": "2023-05-19T18:48:48.675Z"
   },
   {
    "duration": 10,
    "start_time": "2023-05-19T18:48:48.699Z"
   },
   {
    "duration": 21,
    "start_time": "2023-05-19T18:48:48.711Z"
   },
   {
    "duration": 20,
    "start_time": "2023-05-19T18:48:48.735Z"
   },
   {
    "duration": 5,
    "start_time": "2023-05-19T18:48:48.804Z"
   },
   {
    "duration": 6,
    "start_time": "2023-05-19T18:48:48.811Z"
   },
   {
    "duration": 9,
    "start_time": "2023-05-19T18:48:48.819Z"
   },
   {
    "duration": 12,
    "start_time": "2023-05-19T18:48:48.834Z"
   },
   {
    "duration": 6,
    "start_time": "2023-05-19T18:48:48.849Z"
   },
   {
    "duration": 6,
    "start_time": "2023-05-19T18:48:48.857Z"
   },
   {
    "duration": 5,
    "start_time": "2023-05-19T18:48:48.865Z"
   },
   {
    "duration": 10,
    "start_time": "2023-05-19T18:48:48.872Z"
   },
   {
    "duration": 5,
    "start_time": "2023-05-19T18:48:48.884Z"
   },
   {
    "duration": 38,
    "start_time": "2023-05-19T18:48:48.892Z"
   },
   {
    "duration": 14,
    "start_time": "2023-05-19T18:48:48.932Z"
   },
   {
    "duration": 5,
    "start_time": "2023-05-19T18:48:48.949Z"
   },
   {
    "duration": 7,
    "start_time": "2023-05-19T18:48:48.956Z"
   },
   {
    "duration": 12,
    "start_time": "2023-05-19T18:48:48.964Z"
   },
   {
    "duration": 221,
    "start_time": "2023-05-19T18:48:48.979Z"
   },
   {
    "duration": 154,
    "start_time": "2023-05-19T18:48:49.201Z"
   },
   {
    "duration": 249,
    "start_time": "2023-05-19T18:48:49.357Z"
   },
   {
    "duration": 453,
    "start_time": "2023-05-19T18:48:49.608Z"
   },
   {
    "duration": 11,
    "start_time": "2023-05-19T18:48:50.063Z"
   },
   {
    "duration": 249,
    "start_time": "2023-05-19T18:48:50.076Z"
   },
   {
    "duration": 252,
    "start_time": "2023-05-19T18:48:50.328Z"
   },
   {
    "duration": 343,
    "start_time": "2023-05-19T18:48:50.582Z"
   },
   {
    "duration": 257,
    "start_time": "2023-05-19T18:48:50.930Z"
   },
   {
    "duration": 9,
    "start_time": "2023-05-19T18:48:51.189Z"
   },
   {
    "duration": 23,
    "start_time": "2023-05-19T18:49:27.374Z"
   },
   {
    "duration": 9,
    "start_time": "2023-05-19T18:50:43.938Z"
   },
   {
    "duration": 9,
    "start_time": "2023-05-19T18:51:03.266Z"
   },
   {
    "duration": 5,
    "start_time": "2023-05-19T18:51:13.133Z"
   },
   {
    "duration": 10,
    "start_time": "2023-05-19T18:51:22.510Z"
   },
   {
    "duration": 13,
    "start_time": "2023-05-19T18:53:39.086Z"
   },
   {
    "duration": 38,
    "start_time": "2023-05-19T18:53:59.098Z"
   },
   {
    "duration": 10,
    "start_time": "2023-05-19T19:09:12.597Z"
   },
   {
    "duration": 34,
    "start_time": "2023-05-19T19:09:36.831Z"
   },
   {
    "duration": 18,
    "start_time": "2023-05-19T19:09:57.362Z"
   },
   {
    "duration": 29,
    "start_time": "2023-05-19T19:10:08.199Z"
   },
   {
    "duration": 20,
    "start_time": "2023-05-19T19:10:31.466Z"
   },
   {
    "duration": 8,
    "start_time": "2023-05-19T19:10:46.499Z"
   },
   {
    "duration": 52,
    "start_time": "2023-05-19T19:10:51.106Z"
   },
   {
    "duration": 12,
    "start_time": "2023-05-19T19:11:13.551Z"
   },
   {
    "duration": 73,
    "start_time": "2023-05-19T19:11:37.901Z"
   },
   {
    "duration": 102,
    "start_time": "2023-05-19T19:12:02.899Z"
   },
   {
    "duration": 4,
    "start_time": "2023-05-19T19:12:15.588Z"
   },
   {
    "duration": 77,
    "start_time": "2023-05-19T19:12:15.595Z"
   },
   {
    "duration": 11,
    "start_time": "2023-05-19T19:12:15.674Z"
   },
   {
    "duration": 65,
    "start_time": "2023-05-19T19:12:15.687Z"
   },
   {
    "duration": 16,
    "start_time": "2023-05-19T19:12:15.757Z"
   },
   {
    "duration": 24,
    "start_time": "2023-05-19T19:12:15.775Z"
   },
   {
    "duration": 14,
    "start_time": "2023-05-19T19:12:15.801Z"
   },
   {
    "duration": 34,
    "start_time": "2023-05-19T19:12:15.816Z"
   },
   {
    "duration": 19,
    "start_time": "2023-05-19T19:12:15.852Z"
   },
   {
    "duration": 6,
    "start_time": "2023-05-19T19:12:15.874Z"
   },
   {
    "duration": 28,
    "start_time": "2023-05-19T19:12:15.882Z"
   },
   {
    "duration": 6,
    "start_time": "2023-05-19T19:12:15.925Z"
   },
   {
    "duration": 27,
    "start_time": "2023-05-19T19:12:15.933Z"
   },
   {
    "duration": 7,
    "start_time": "2023-05-19T19:12:15.962Z"
   },
   {
    "duration": 10,
    "start_time": "2023-05-19T19:12:15.971Z"
   },
   {
    "duration": 17,
    "start_time": "2023-05-19T19:12:15.982Z"
   },
   {
    "duration": 13,
    "start_time": "2023-05-19T19:12:16.001Z"
   },
   {
    "duration": 21,
    "start_time": "2023-05-19T19:12:16.015Z"
   },
   {
    "duration": 19,
    "start_time": "2023-05-19T19:12:16.038Z"
   },
   {
    "duration": 14,
    "start_time": "2023-05-19T19:12:16.059Z"
   },
   {
    "duration": 11,
    "start_time": "2023-05-19T19:12:16.074Z"
   },
   {
    "duration": 10,
    "start_time": "2023-05-19T19:12:16.087Z"
   },
   {
    "duration": 20,
    "start_time": "2023-05-19T19:12:16.099Z"
   },
   {
    "duration": 203,
    "start_time": "2023-05-19T19:12:16.121Z"
   },
   {
    "duration": 266,
    "start_time": "2023-05-19T19:12:16.328Z"
   },
   {
    "duration": 305,
    "start_time": "2023-05-19T19:12:16.596Z"
   },
   {
    "duration": 441,
    "start_time": "2023-05-19T19:12:16.902Z"
   },
   {
    "duration": 15,
    "start_time": "2023-05-19T19:12:17.352Z"
   },
   {
    "duration": 295,
    "start_time": "2023-05-19T19:12:17.369Z"
   },
   {
    "duration": 265,
    "start_time": "2023-05-19T19:12:17.666Z"
   },
   {
    "duration": 346,
    "start_time": "2023-05-19T19:12:17.933Z"
   },
   {
    "duration": 274,
    "start_time": "2023-05-19T19:12:18.280Z"
   },
   {
    "duration": 13,
    "start_time": "2023-05-19T19:12:18.559Z"
   },
   {
    "duration": 30,
    "start_time": "2023-05-19T19:12:18.574Z"
   },
   {
    "duration": 17,
    "start_time": "2023-05-19T19:12:30.860Z"
   },
   {
    "duration": 9,
    "start_time": "2023-05-19T19:14:21.796Z"
   },
   {
    "duration": 34,
    "start_time": "2023-05-19T19:14:34.352Z"
   },
   {
    "duration": 40,
    "start_time": "2023-05-19T19:15:33.218Z"
   },
   {
    "duration": 1359,
    "start_time": "2023-05-19T19:17:19.205Z"
   },
   {
    "duration": 135,
    "start_time": "2023-05-19T19:17:20.566Z"
   },
   {
    "duration": 12,
    "start_time": "2023-05-19T19:17:20.702Z"
   },
   {
    "duration": 242,
    "start_time": "2023-05-19T19:17:20.716Z"
   },
   {
    "duration": 12,
    "start_time": "2023-05-19T19:17:20.961Z"
   },
   {
    "duration": 132,
    "start_time": "2023-05-19T19:17:20.975Z"
   },
   {
    "duration": 11,
    "start_time": "2023-05-19T19:17:21.109Z"
   },
   {
    "duration": 27,
    "start_time": "2023-05-19T19:17:21.122Z"
   },
   {
    "duration": 34,
    "start_time": "2023-05-19T19:17:21.150Z"
   },
   {
    "duration": 5,
    "start_time": "2023-05-19T19:17:21.186Z"
   },
   {
    "duration": 21,
    "start_time": "2023-05-19T19:17:21.193Z"
   },
   {
    "duration": 22,
    "start_time": "2023-05-19T19:17:21.216Z"
   },
   {
    "duration": 23,
    "start_time": "2023-05-19T19:17:21.240Z"
   },
   {
    "duration": 6,
    "start_time": "2023-05-19T19:17:21.266Z"
   },
   {
    "duration": 6,
    "start_time": "2023-05-19T19:17:21.274Z"
   },
   {
    "duration": 5,
    "start_time": "2023-05-19T19:17:21.283Z"
   },
   {
    "duration": 10,
    "start_time": "2023-05-19T19:17:21.290Z"
   },
   {
    "duration": 8,
    "start_time": "2023-05-19T19:17:21.301Z"
   },
   {
    "duration": 21,
    "start_time": "2023-05-19T19:17:21.310Z"
   },
   {
    "duration": 17,
    "start_time": "2023-05-19T19:17:21.334Z"
   },
   {
    "duration": 8,
    "start_time": "2023-05-19T19:17:21.353Z"
   },
   {
    "duration": 5,
    "start_time": "2023-05-19T19:17:21.365Z"
   },
   {
    "duration": 30,
    "start_time": "2023-05-19T19:17:21.372Z"
   },
   {
    "duration": 240,
    "start_time": "2023-05-19T19:17:21.404Z"
   },
   {
    "duration": 176,
    "start_time": "2023-05-19T19:17:21.646Z"
   },
   {
    "duration": 317,
    "start_time": "2023-05-19T19:17:21.824Z"
   },
   {
    "duration": 420,
    "start_time": "2023-05-19T19:17:22.288Z"
   },
   {
    "duration": 23,
    "start_time": "2023-05-19T19:17:22.710Z"
   },
   {
    "duration": 310,
    "start_time": "2023-05-19T19:17:22.735Z"
   },
   {
    "duration": 277,
    "start_time": "2023-05-19T19:17:23.048Z"
   },
   {
    "duration": 336,
    "start_time": "2023-05-19T19:17:23.327Z"
   },
   {
    "duration": 393,
    "start_time": "2023-05-19T19:17:31.015Z"
   },
   {
    "duration": 41,
    "start_time": "2023-05-19T19:17:31.410Z"
   },
   {
    "duration": 1373,
    "start_time": "2023-05-19T19:19:07.043Z"
   },
   {
    "duration": 137,
    "start_time": "2023-05-19T19:19:08.419Z"
   },
   {
    "duration": 14,
    "start_time": "2023-05-19T19:19:08.558Z"
   },
   {
    "duration": 230,
    "start_time": "2023-05-19T19:19:08.574Z"
   },
   {
    "duration": 12,
    "start_time": "2023-05-19T19:19:08.806Z"
   },
   {
    "duration": 89,
    "start_time": "2023-05-19T19:19:08.820Z"
   },
   {
    "duration": 11,
    "start_time": "2023-05-19T19:19:08.911Z"
   },
   {
    "duration": 26,
    "start_time": "2023-05-19T19:19:08.925Z"
   },
   {
    "duration": 19,
    "start_time": "2023-05-19T19:19:08.953Z"
   },
   {
    "duration": 5,
    "start_time": "2023-05-19T19:19:08.974Z"
   },
   {
    "duration": 7,
    "start_time": "2023-05-19T19:19:08.982Z"
   },
   {
    "duration": 9,
    "start_time": "2023-05-19T19:19:08.991Z"
   },
   {
    "duration": 33,
    "start_time": "2023-05-19T19:19:09.002Z"
   },
   {
    "duration": 5,
    "start_time": "2023-05-19T19:19:09.039Z"
   },
   {
    "duration": 20,
    "start_time": "2023-05-19T19:19:09.046Z"
   },
   {
    "duration": 11,
    "start_time": "2023-05-19T19:19:09.068Z"
   },
   {
    "duration": 6,
    "start_time": "2023-05-19T19:19:09.081Z"
   },
   {
    "duration": 5,
    "start_time": "2023-05-19T19:19:09.089Z"
   },
   {
    "duration": 8,
    "start_time": "2023-05-19T19:19:09.095Z"
   },
   {
    "duration": 35,
    "start_time": "2023-05-19T19:19:09.104Z"
   },
   {
    "duration": 15,
    "start_time": "2023-05-19T19:19:09.141Z"
   },
   {
    "duration": 10,
    "start_time": "2023-05-19T19:19:09.159Z"
   },
   {
    "duration": 18,
    "start_time": "2023-05-19T19:19:09.170Z"
   },
   {
    "duration": 217,
    "start_time": "2023-05-19T19:19:09.189Z"
   },
   {
    "duration": 177,
    "start_time": "2023-05-19T19:19:09.407Z"
   },
   {
    "duration": 341,
    "start_time": "2023-05-19T19:19:09.587Z"
   },
   {
    "duration": 440,
    "start_time": "2023-05-19T19:19:09.929Z"
   },
   {
    "duration": 10,
    "start_time": "2023-05-19T19:19:10.370Z"
   },
   {
    "duration": 288,
    "start_time": "2023-05-19T19:19:10.382Z"
   },
   {
    "duration": 300,
    "start_time": "2023-05-19T19:19:10.671Z"
   },
   {
    "duration": 322,
    "start_time": "2023-05-19T19:19:10.973Z"
   },
   {
    "duration": 388,
    "start_time": "2023-05-19T19:19:11.297Z"
   },
   {
    "duration": 26,
    "start_time": "2023-05-19T19:19:11.687Z"
   },
   {
    "duration": 50,
    "start_time": "2023-05-19T19:23:20.950Z"
   },
   {
    "duration": 1258,
    "start_time": "2023-05-19T19:23:28.156Z"
   },
   {
    "duration": 128,
    "start_time": "2023-05-19T19:23:29.416Z"
   },
   {
    "duration": 12,
    "start_time": "2023-05-19T19:23:29.552Z"
   },
   {
    "duration": 247,
    "start_time": "2023-05-19T19:23:29.566Z"
   },
   {
    "duration": 15,
    "start_time": "2023-05-19T19:23:29.816Z"
   },
   {
    "duration": 94,
    "start_time": "2023-05-19T19:23:29.832Z"
   },
   {
    "duration": 14,
    "start_time": "2023-05-19T19:23:29.927Z"
   },
   {
    "duration": 25,
    "start_time": "2023-05-19T19:23:29.942Z"
   },
   {
    "duration": 22,
    "start_time": "2023-05-19T19:23:29.970Z"
   },
   {
    "duration": 16,
    "start_time": "2023-05-19T19:23:29.994Z"
   },
   {
    "duration": 65,
    "start_time": "2023-05-19T19:23:30.012Z"
   },
   {
    "duration": 28,
    "start_time": "2023-05-19T19:23:30.079Z"
   },
   {
    "duration": 28,
    "start_time": "2023-05-19T19:23:30.108Z"
   },
   {
    "duration": 39,
    "start_time": "2023-05-19T19:23:30.140Z"
   },
   {
    "duration": 59,
    "start_time": "2023-05-19T19:23:30.181Z"
   },
   {
    "duration": 24,
    "start_time": "2023-05-19T19:23:30.242Z"
   },
   {
    "duration": 29,
    "start_time": "2023-05-19T19:23:30.267Z"
   },
   {
    "duration": 22,
    "start_time": "2023-05-19T19:23:30.298Z"
   },
   {
    "duration": 35,
    "start_time": "2023-05-19T19:23:30.322Z"
   },
   {
    "duration": 47,
    "start_time": "2023-05-19T19:23:30.358Z"
   },
   {
    "duration": 31,
    "start_time": "2023-05-19T19:23:30.407Z"
   },
   {
    "duration": 24,
    "start_time": "2023-05-19T19:23:30.441Z"
   },
   {
    "duration": 45,
    "start_time": "2023-05-19T19:23:30.467Z"
   },
   {
    "duration": 245,
    "start_time": "2023-05-19T19:23:30.513Z"
   },
   {
    "duration": 164,
    "start_time": "2023-05-19T19:23:30.761Z"
   },
   {
    "duration": 280,
    "start_time": "2023-05-19T19:23:30.927Z"
   },
   {
    "duration": 431,
    "start_time": "2023-05-19T19:23:31.209Z"
   },
   {
    "duration": 20,
    "start_time": "2023-05-19T19:23:31.642Z"
   },
   {
    "duration": 270,
    "start_time": "2023-05-19T19:23:32.969Z"
   },
   {
    "duration": 272,
    "start_time": "2023-05-19T19:23:33.242Z"
   },
   {
    "duration": 307,
    "start_time": "2023-05-19T19:23:33.516Z"
   },
   {
    "duration": 373,
    "start_time": "2023-05-19T19:23:33.825Z"
   },
   {
    "duration": 29,
    "start_time": "2023-05-19T19:23:34.201Z"
   },
   {
    "duration": 66,
    "start_time": "2023-05-19T19:25:27.725Z"
   },
   {
    "duration": 1459,
    "start_time": "2023-05-19T19:26:00.856Z"
   },
   {
    "duration": 146,
    "start_time": "2023-05-19T19:26:02.317Z"
   },
   {
    "duration": 14,
    "start_time": "2023-05-19T19:26:02.465Z"
   },
   {
    "duration": 232,
    "start_time": "2023-05-19T19:26:02.482Z"
   },
   {
    "duration": 14,
    "start_time": "2023-05-19T19:26:02.716Z"
   },
   {
    "duration": 127,
    "start_time": "2023-05-19T19:26:02.733Z"
   },
   {
    "duration": 11,
    "start_time": "2023-05-19T19:26:02.865Z"
   },
   {
    "duration": 15,
    "start_time": "2023-05-19T19:26:02.879Z"
   },
   {
    "duration": 16,
    "start_time": "2023-05-19T19:26:02.896Z"
   },
   {
    "duration": 5,
    "start_time": "2023-05-19T19:26:02.915Z"
   },
   {
    "duration": 17,
    "start_time": "2023-05-19T19:26:02.922Z"
   },
   {
    "duration": 5,
    "start_time": "2023-05-19T19:26:02.941Z"
   },
   {
    "duration": 6,
    "start_time": "2023-05-19T19:26:02.947Z"
   },
   {
    "duration": 6,
    "start_time": "2023-05-19T19:26:02.955Z"
   },
   {
    "duration": 8,
    "start_time": "2023-05-19T19:26:02.963Z"
   },
   {
    "duration": 6,
    "start_time": "2023-05-19T19:26:02.975Z"
   },
   {
    "duration": 6,
    "start_time": "2023-05-19T19:26:02.982Z"
   },
   {
    "duration": 5,
    "start_time": "2023-05-19T19:26:02.990Z"
   },
   {
    "duration": 9,
    "start_time": "2023-05-19T19:26:03.025Z"
   },
   {
    "duration": 22,
    "start_time": "2023-05-19T19:26:03.036Z"
   },
   {
    "duration": 8,
    "start_time": "2023-05-19T19:26:03.060Z"
   },
   {
    "duration": 9,
    "start_time": "2023-05-19T19:26:03.070Z"
   },
   {
    "duration": 12,
    "start_time": "2023-05-19T19:26:03.081Z"
   },
   {
    "duration": 275,
    "start_time": "2023-05-19T19:26:03.095Z"
   },
   {
    "duration": 206,
    "start_time": "2023-05-19T19:26:03.372Z"
   },
   {
    "duration": 329,
    "start_time": "2023-05-19T19:26:03.580Z"
   },
   {
    "duration": 531,
    "start_time": "2023-05-19T19:26:03.911Z"
   },
   {
    "duration": 17,
    "start_time": "2023-05-19T19:26:04.449Z"
   },
   {
    "duration": 1838,
    "start_time": "2023-05-19T19:26:04.468Z"
   },
   {
    "duration": 498,
    "start_time": "2023-05-19T19:26:06.307Z"
   },
   {
    "duration": 1752,
    "start_time": "2023-05-19T19:26:06.807Z"
   },
   {
    "duration": 2223,
    "start_time": "2023-05-19T19:26:08.561Z"
   },
   {
    "duration": 1719,
    "start_time": "2023-05-19T19:26:10.786Z"
   },
   {
    "duration": 10,
    "start_time": "2023-05-19T19:26:12.507Z"
   },
   {
    "duration": 14,
    "start_time": "2023-05-19T19:27:30.565Z"
   },
   {
    "duration": 31,
    "start_time": "2023-05-19T19:27:41.403Z"
   },
   {
    "duration": 21,
    "start_time": "2023-05-19T19:28:06.484Z"
   },
   {
    "duration": 37,
    "start_time": "2023-05-19T19:28:45.153Z"
   },
   {
    "duration": 7,
    "start_time": "2023-05-19T19:30:12.758Z"
   },
   {
    "duration": 40,
    "start_time": "2023-05-19T19:30:12.767Z"
   },
   {
    "duration": 12,
    "start_time": "2023-05-19T19:30:12.809Z"
   },
   {
    "duration": 73,
    "start_time": "2023-05-19T19:30:12.823Z"
   },
   {
    "duration": 16,
    "start_time": "2023-05-19T19:30:12.898Z"
   },
   {
    "duration": 31,
    "start_time": "2023-05-19T19:30:12.916Z"
   },
   {
    "duration": 21,
    "start_time": "2023-05-19T19:30:12.949Z"
   },
   {
    "duration": 22,
    "start_time": "2023-05-19T19:30:12.973Z"
   },
   {
    "duration": 14,
    "start_time": "2023-05-19T19:30:12.998Z"
   },
   {
    "duration": 19,
    "start_time": "2023-05-19T19:30:13.014Z"
   },
   {
    "duration": 6,
    "start_time": "2023-05-19T19:30:13.034Z"
   },
   {
    "duration": 8,
    "start_time": "2023-05-19T19:30:13.044Z"
   },
   {
    "duration": 17,
    "start_time": "2023-05-19T19:30:13.054Z"
   },
   {
    "duration": 9,
    "start_time": "2023-05-19T19:30:13.073Z"
   },
   {
    "duration": 13,
    "start_time": "2023-05-19T19:30:13.084Z"
   },
   {
    "duration": 10,
    "start_time": "2023-05-19T19:30:13.099Z"
   },
   {
    "duration": 9,
    "start_time": "2023-05-19T19:30:13.130Z"
   },
   {
    "duration": 12,
    "start_time": "2023-05-19T19:30:13.142Z"
   },
   {
    "duration": 9,
    "start_time": "2023-05-19T19:30:13.159Z"
   },
   {
    "duration": 15,
    "start_time": "2023-05-19T19:30:13.170Z"
   },
   {
    "duration": 5,
    "start_time": "2023-05-19T19:30:13.187Z"
   },
   {
    "duration": 7,
    "start_time": "2023-05-19T19:30:13.193Z"
   },
   {
    "duration": 32,
    "start_time": "2023-05-19T19:30:13.202Z"
   },
   {
    "duration": 216,
    "start_time": "2023-05-19T19:30:13.236Z"
   },
   {
    "duration": 170,
    "start_time": "2023-05-19T19:30:13.454Z"
   },
   {
    "duration": 285,
    "start_time": "2023-05-19T19:30:13.631Z"
   },
   {
    "duration": 473,
    "start_time": "2023-05-19T19:30:13.918Z"
   },
   {
    "duration": 11,
    "start_time": "2023-05-19T19:30:14.392Z"
   },
   {
    "duration": 292,
    "start_time": "2023-05-19T19:30:14.406Z"
   },
   {
    "duration": 313,
    "start_time": "2023-05-19T19:30:14.700Z"
   },
   {
    "duration": 435,
    "start_time": "2023-05-19T19:30:15.015Z"
   },
   {
    "duration": 296,
    "start_time": "2023-05-19T19:30:15.452Z"
   },
   {
    "duration": 31,
    "start_time": "2023-05-19T19:30:15.750Z"
   },
   {
    "duration": 20,
    "start_time": "2023-05-19T19:30:15.783Z"
   },
   {
    "duration": 1327,
    "start_time": "2023-05-19T19:31:12.754Z"
   },
   {
    "duration": 40,
    "start_time": "2023-05-19T19:31:14.083Z"
   },
   {
    "duration": 20,
    "start_time": "2023-05-19T19:31:14.125Z"
   },
   {
    "duration": 47,
    "start_time": "2023-05-19T19:31:14.149Z"
   },
   {
    "duration": 12,
    "start_time": "2023-05-19T19:31:14.199Z"
   },
   {
    "duration": 48,
    "start_time": "2023-05-19T19:31:14.213Z"
   },
   {
    "duration": 17,
    "start_time": "2023-05-19T19:31:14.263Z"
   },
   {
    "duration": 21,
    "start_time": "2023-05-19T19:31:14.282Z"
   },
   {
    "duration": 17,
    "start_time": "2023-05-19T19:31:14.306Z"
   },
   {
    "duration": 10,
    "start_time": "2023-05-19T19:31:14.326Z"
   },
   {
    "duration": 8,
    "start_time": "2023-05-19T19:31:14.339Z"
   },
   {
    "duration": 16,
    "start_time": "2023-05-19T19:31:14.349Z"
   },
   {
    "duration": 12,
    "start_time": "2023-05-19T19:31:14.367Z"
   },
   {
    "duration": 5,
    "start_time": "2023-05-19T19:31:14.382Z"
   },
   {
    "duration": 13,
    "start_time": "2023-05-19T19:31:14.389Z"
   },
   {
    "duration": 23,
    "start_time": "2023-05-19T19:31:14.404Z"
   },
   {
    "duration": 9,
    "start_time": "2023-05-19T19:31:14.428Z"
   },
   {
    "duration": 5,
    "start_time": "2023-05-19T19:31:14.439Z"
   },
   {
    "duration": 19,
    "start_time": "2023-05-19T19:31:14.446Z"
   },
   {
    "duration": 8,
    "start_time": "2023-05-19T19:31:14.467Z"
   },
   {
    "duration": 5,
    "start_time": "2023-05-19T19:31:14.477Z"
   },
   {
    "duration": 6,
    "start_time": "2023-05-19T19:31:14.484Z"
   },
   {
    "duration": 57,
    "start_time": "2023-05-19T19:31:14.491Z"
   },
   {
    "duration": 230,
    "start_time": "2023-05-19T19:31:14.550Z"
   },
   {
    "duration": 195,
    "start_time": "2023-05-19T19:31:14.783Z"
   },
   {
    "duration": 300,
    "start_time": "2023-05-19T19:31:14.979Z"
   },
   {
    "duration": 470,
    "start_time": "2023-05-19T19:31:15.280Z"
   },
   {
    "duration": 13,
    "start_time": "2023-05-19T19:31:15.752Z"
   },
   {
    "duration": 310,
    "start_time": "2023-05-19T19:31:15.766Z"
   },
   {
    "duration": 300,
    "start_time": "2023-05-19T19:31:16.078Z"
   },
   {
    "duration": 389,
    "start_time": "2023-05-19T19:31:16.380Z"
   },
   {
    "duration": 378,
    "start_time": "2023-05-19T19:31:16.771Z"
   },
   {
    "duration": 35,
    "start_time": "2023-05-19T19:31:17.151Z"
   },
   {
    "duration": 18,
    "start_time": "2023-05-19T19:31:17.187Z"
   },
   {
    "duration": 15,
    "start_time": "2023-05-19T19:32:47.986Z"
   },
   {
    "duration": 174,
    "start_time": "2023-05-19T19:41:20.245Z"
   },
   {
    "duration": 9,
    "start_time": "2023-05-19T19:41:38.852Z"
   },
   {
    "duration": 9,
    "start_time": "2023-05-19T19:41:52.744Z"
   },
   {
    "duration": 9,
    "start_time": "2023-05-19T19:42:36.259Z"
   },
   {
    "duration": 11,
    "start_time": "2023-05-19T19:43:02.083Z"
   },
   {
    "duration": 24,
    "start_time": "2023-05-19T20:03:08.044Z"
   },
   {
    "duration": 23,
    "start_time": "2023-05-19T20:03:50.256Z"
   },
   {
    "duration": 21,
    "start_time": "2023-05-19T20:08:38.631Z"
   },
   {
    "duration": 10,
    "start_time": "2023-05-19T20:08:53.093Z"
   },
   {
    "duration": 21,
    "start_time": "2023-05-19T20:09:03.823Z"
   },
   {
    "duration": 30,
    "start_time": "2023-05-19T20:09:16.143Z"
   },
   {
    "duration": 26,
    "start_time": "2023-05-19T20:09:28.641Z"
   },
   {
    "duration": 61,
    "start_time": "2023-05-19T20:10:21.288Z"
   },
   {
    "duration": 13,
    "start_time": "2023-05-19T20:10:46.699Z"
   },
   {
    "duration": 63,
    "start_time": "2023-05-19T20:10:55.197Z"
   },
   {
    "duration": 51,
    "start_time": "2023-05-19T20:11:03.020Z"
   },
   {
    "duration": 39,
    "start_time": "2023-05-19T20:11:08.879Z"
   },
   {
    "duration": 49,
    "start_time": "2023-05-19T20:11:19.671Z"
   },
   {
    "duration": 50,
    "start_time": "2023-05-19T20:11:55.064Z"
   },
   {
    "duration": 56,
    "start_time": "2023-05-19T20:12:04.123Z"
   },
   {
    "duration": 52,
    "start_time": "2023-05-19T20:12:27.387Z"
   },
   {
    "duration": 45,
    "start_time": "2023-05-19T20:12:32.705Z"
   },
   {
    "duration": 38,
    "start_time": "2023-05-19T20:13:26.995Z"
   },
   {
    "duration": 49,
    "start_time": "2023-05-19T20:13:51.010Z"
   },
   {
    "duration": 42,
    "start_time": "2023-05-19T20:14:53.991Z"
   },
   {
    "duration": 39,
    "start_time": "2023-05-19T20:15:17.653Z"
   },
   {
    "duration": 14,
    "start_time": "2023-05-19T20:15:36.084Z"
   },
   {
    "duration": 71,
    "start_time": "2023-05-19T20:18:38.068Z"
   },
   {
    "duration": 62,
    "start_time": "2023-05-19T20:19:25.382Z"
   },
   {
    "duration": 35,
    "start_time": "2023-05-19T20:21:38.938Z"
   },
   {
    "duration": 41,
    "start_time": "2023-05-19T20:21:51.842Z"
   },
   {
    "duration": 18,
    "start_time": "2023-05-19T20:22:27.254Z"
   },
   {
    "duration": 12,
    "start_time": "2023-05-19T20:24:10.662Z"
   },
   {
    "duration": 5,
    "start_time": "2023-05-19T20:24:23.858Z"
   },
   {
    "duration": 42,
    "start_time": "2023-05-19T20:25:07.250Z"
   },
   {
    "duration": 195,
    "start_time": "2023-05-19T20:26:15.768Z"
   },
   {
    "duration": 50,
    "start_time": "2023-05-19T20:27:54.181Z"
   },
   {
    "duration": 32,
    "start_time": "2023-05-19T20:28:57.870Z"
   },
   {
    "duration": 49,
    "start_time": "2023-05-19T20:29:16.011Z"
   },
   {
    "duration": 27,
    "start_time": "2023-05-19T20:30:02.589Z"
   },
   {
    "duration": 41,
    "start_time": "2023-05-19T20:30:16.948Z"
   },
   {
    "duration": 40,
    "start_time": "2023-05-19T20:34:04.766Z"
   },
   {
    "duration": 53,
    "start_time": "2023-05-19T20:35:17.151Z"
   },
   {
    "duration": 34,
    "start_time": "2023-05-19T20:35:58.281Z"
   },
   {
    "duration": 44,
    "start_time": "2023-05-19T20:36:34.164Z"
   },
   {
    "duration": 69,
    "start_time": "2023-05-19T20:36:52.200Z"
   },
   {
    "duration": 87,
    "start_time": "2023-05-19T20:40:33.650Z"
   },
   {
    "duration": 103,
    "start_time": "2023-05-19T20:48:40.482Z"
   },
   {
    "duration": 41,
    "start_time": "2023-05-19T20:49:14.089Z"
   },
   {
    "duration": 66,
    "start_time": "2023-05-19T20:49:30.576Z"
   },
   {
    "duration": 3,
    "start_time": "2023-05-19T20:54:57.214Z"
   },
   {
    "duration": 36,
    "start_time": "2023-05-19T20:55:24.571Z"
   },
   {
    "duration": 3,
    "start_time": "2023-05-19T20:55:25.678Z"
   },
   {
    "duration": 4,
    "start_time": "2023-05-19T20:55:28.464Z"
   },
   {
    "duration": 11,
    "start_time": "2023-05-19T20:55:37.162Z"
   },
   {
    "duration": 5,
    "start_time": "2023-05-19T20:59:25.144Z"
   },
   {
    "duration": 4,
    "start_time": "2023-05-19T20:59:25.817Z"
   },
   {
    "duration": 10,
    "start_time": "2023-05-19T20:59:32.262Z"
   },
   {
    "duration": 16,
    "start_time": "2023-05-19T21:07:12.154Z"
   },
   {
    "duration": 15,
    "start_time": "2023-05-19T21:07:17.565Z"
   },
   {
    "duration": 7,
    "start_time": "2023-05-19T21:07:46.652Z"
   },
   {
    "duration": 46,
    "start_time": "2023-05-19T21:07:46.663Z"
   },
   {
    "duration": 13,
    "start_time": "2023-05-19T21:07:46.711Z"
   },
   {
    "duration": 60,
    "start_time": "2023-05-19T21:07:46.727Z"
   },
   {
    "duration": 15,
    "start_time": "2023-05-19T21:07:46.789Z"
   },
   {
    "duration": 46,
    "start_time": "2023-05-19T21:07:46.806Z"
   },
   {
    "duration": 33,
    "start_time": "2023-05-19T21:07:46.853Z"
   },
   {
    "duration": 17,
    "start_time": "2023-05-19T21:07:46.892Z"
   },
   {
    "duration": 14,
    "start_time": "2023-05-19T21:07:48.280Z"
   },
   {
    "duration": 4,
    "start_time": "2023-05-19T21:07:48.296Z"
   },
   {
    "duration": 16,
    "start_time": "2023-05-19T21:07:48.302Z"
   },
   {
    "duration": 32,
    "start_time": "2023-05-19T21:07:48.319Z"
   },
   {
    "duration": 17,
    "start_time": "2023-05-19T21:07:48.353Z"
   },
   {
    "duration": 7,
    "start_time": "2023-05-19T21:07:48.372Z"
   },
   {
    "duration": 12,
    "start_time": "2023-05-19T21:07:48.381Z"
   },
   {
    "duration": 16,
    "start_time": "2023-05-19T21:07:48.395Z"
   },
   {
    "duration": 28,
    "start_time": "2023-05-19T21:07:48.414Z"
   },
   {
    "duration": 17,
    "start_time": "2023-05-19T21:07:48.444Z"
   },
   {
    "duration": 23,
    "start_time": "2023-05-19T21:07:48.465Z"
   },
   {
    "duration": 17,
    "start_time": "2023-05-19T21:07:48.490Z"
   },
   {
    "duration": 4,
    "start_time": "2023-05-19T21:07:48.509Z"
   },
   {
    "duration": 15,
    "start_time": "2023-05-19T21:07:48.515Z"
   },
   {
    "duration": 21,
    "start_time": "2023-05-19T21:07:48.531Z"
   },
   {
    "duration": 220,
    "start_time": "2023-05-19T21:07:48.554Z"
   },
   {
    "duration": 186,
    "start_time": "2023-05-19T21:07:48.778Z"
   },
   {
    "duration": 309,
    "start_time": "2023-05-19T21:07:48.968Z"
   },
   {
    "duration": 510,
    "start_time": "2023-05-19T21:07:49.279Z"
   },
   {
    "duration": 15,
    "start_time": "2023-05-19T21:07:49.792Z"
   },
   {
    "duration": 308,
    "start_time": "2023-05-19T21:07:49.809Z"
   },
   {
    "duration": 276,
    "start_time": "2023-05-19T21:07:50.125Z"
   },
   {
    "duration": 340,
    "start_time": "2023-05-19T21:07:50.403Z"
   },
   {
    "duration": 246,
    "start_time": "2023-05-19T21:07:52.582Z"
   },
   {
    "duration": 32,
    "start_time": "2023-05-19T21:07:52.830Z"
   },
   {
    "duration": 25,
    "start_time": "2023-05-19T21:07:52.863Z"
   },
   {
    "duration": 13,
    "start_time": "2023-05-19T21:07:52.890Z"
   },
   {
    "duration": 34,
    "start_time": "2023-05-19T21:07:52.905Z"
   },
   {
    "duration": 25,
    "start_time": "2023-05-19T21:07:52.944Z"
   },
   {
    "duration": 36,
    "start_time": "2023-05-19T21:07:52.973Z"
   },
   {
    "duration": 4,
    "start_time": "2023-05-19T21:07:53.011Z"
   },
   {
    "duration": 22,
    "start_time": "2023-05-19T21:07:53.017Z"
   },
   {
    "duration": 22,
    "start_time": "2023-05-19T21:07:53.043Z"
   },
   {
    "duration": 12,
    "start_time": "2023-05-19T21:07:53.067Z"
   },
   {
    "duration": 0,
    "start_time": "2023-05-19T21:07:53.081Z"
   },
   {
    "duration": 15,
    "start_time": "2023-05-19T21:08:25.753Z"
   },
   {
    "duration": 11,
    "start_time": "2023-05-19T21:08:32.285Z"
   },
   {
    "duration": 40,
    "start_time": "2023-05-19T21:11:01.162Z"
   },
   {
    "duration": 4,
    "start_time": "2023-05-19T21:11:08.603Z"
   },
   {
    "duration": 3,
    "start_time": "2023-05-19T21:11:10.178Z"
   },
   {
    "duration": 10,
    "start_time": "2023-05-19T21:11:12.671Z"
   },
   {
    "duration": 10,
    "start_time": "2023-05-19T21:11:55.066Z"
   },
   {
    "duration": 14,
    "start_time": "2023-05-19T21:12:52.171Z"
   },
   {
    "duration": 1685,
    "start_time": "2023-05-19T21:17:46.780Z"
   },
   {
    "duration": 6,
    "start_time": "2023-05-19T21:18:23.392Z"
   },
   {
    "duration": 10,
    "start_time": "2023-05-19T21:18:29.208Z"
   },
   {
    "duration": 282,
    "start_time": "2023-05-19T21:18:29.222Z"
   },
   {
    "duration": 310,
    "start_time": "2023-05-19T21:18:48.152Z"
   },
   {
    "duration": 294,
    "start_time": "2023-05-19T21:19:33.093Z"
   },
   {
    "duration": 262,
    "start_time": "2023-05-19T21:20:08.253Z"
   },
   {
    "duration": 226,
    "start_time": "2023-05-19T21:20:41.182Z"
   },
   {
    "duration": 311,
    "start_time": "2023-05-19T21:21:02.195Z"
   },
   {
    "duration": 283,
    "start_time": "2023-05-19T21:21:46.020Z"
   },
   {
    "duration": 277,
    "start_time": "2023-05-19T21:24:50.757Z"
   },
   {
    "duration": 325,
    "start_time": "2023-05-19T21:25:09.498Z"
   },
   {
    "duration": 212,
    "start_time": "2023-05-19T21:32:22.125Z"
   },
   {
    "duration": 278,
    "start_time": "2023-05-19T21:32:44.685Z"
   },
   {
    "duration": 381,
    "start_time": "2023-05-19T21:33:02.772Z"
   },
   {
    "duration": 269,
    "start_time": "2023-05-19T21:34:33.915Z"
   },
   {
    "duration": 265,
    "start_time": "2023-05-19T21:35:30.554Z"
   },
   {
    "duration": 271,
    "start_time": "2023-05-19T21:35:58.811Z"
   },
   {
    "duration": 1960,
    "start_time": "2023-05-20T08:19:22.492Z"
   },
   {
    "duration": 115,
    "start_time": "2023-05-20T08:19:24.455Z"
   },
   {
    "duration": 16,
    "start_time": "2023-05-20T08:19:24.572Z"
   },
   {
    "duration": 159,
    "start_time": "2023-05-20T08:19:24.591Z"
   },
   {
    "duration": 24,
    "start_time": "2023-05-20T08:19:24.752Z"
   },
   {
    "duration": 61,
    "start_time": "2023-05-20T08:19:24.778Z"
   },
   {
    "duration": 29,
    "start_time": "2023-05-20T08:19:24.841Z"
   },
   {
    "duration": 16,
    "start_time": "2023-05-20T08:19:24.873Z"
   },
   {
    "duration": 15,
    "start_time": "2023-05-20T08:19:24.891Z"
   },
   {
    "duration": 6,
    "start_time": "2023-05-20T08:19:24.910Z"
   },
   {
    "duration": 14,
    "start_time": "2023-05-20T08:19:24.918Z"
   },
   {
    "duration": 26,
    "start_time": "2023-05-20T08:19:24.934Z"
   },
   {
    "duration": 13,
    "start_time": "2023-05-20T08:19:24.967Z"
   },
   {
    "duration": 5,
    "start_time": "2023-05-20T08:19:24.981Z"
   },
   {
    "duration": 6,
    "start_time": "2023-05-20T08:19:24.988Z"
   },
   {
    "duration": 5,
    "start_time": "2023-05-20T08:19:24.995Z"
   },
   {
    "duration": 6,
    "start_time": "2023-05-20T08:19:25.002Z"
   },
   {
    "duration": 6,
    "start_time": "2023-05-20T08:19:25.010Z"
   },
   {
    "duration": 48,
    "start_time": "2023-05-20T08:19:25.017Z"
   },
   {
    "duration": 16,
    "start_time": "2023-05-20T08:19:25.067Z"
   },
   {
    "duration": 5,
    "start_time": "2023-05-20T08:19:25.087Z"
   },
   {
    "duration": 7,
    "start_time": "2023-05-20T08:19:25.094Z"
   },
   {
    "duration": 17,
    "start_time": "2023-05-20T08:19:25.103Z"
   },
   {
    "duration": 304,
    "start_time": "2023-05-20T08:19:25.121Z"
   },
   {
    "duration": 169,
    "start_time": "2023-05-20T08:19:25.427Z"
   },
   {
    "duration": 287,
    "start_time": "2023-05-20T08:19:25.599Z"
   },
   {
    "duration": 453,
    "start_time": "2023-05-20T08:19:25.888Z"
   },
   {
    "duration": 36,
    "start_time": "2023-05-20T08:19:26.345Z"
   },
   {
    "duration": 274,
    "start_time": "2023-05-20T08:19:26.383Z"
   },
   {
    "duration": 314,
    "start_time": "2023-05-20T08:19:26.660Z"
   },
   {
    "duration": 375,
    "start_time": "2023-05-20T08:19:26.977Z"
   },
   {
    "duration": 519,
    "start_time": "2023-05-20T08:19:27.366Z"
   },
   {
    "duration": 28,
    "start_time": "2023-05-20T08:19:27.887Z"
   },
   {
    "duration": 47,
    "start_time": "2023-05-20T08:19:27.917Z"
   },
   {
    "duration": 18,
    "start_time": "2023-05-20T08:19:27.966Z"
   },
   {
    "duration": 11,
    "start_time": "2023-05-20T08:19:27.986Z"
   },
   {
    "duration": 9,
    "start_time": "2023-05-20T08:19:27.999Z"
   },
   {
    "duration": 146,
    "start_time": "2023-05-20T08:19:28.009Z"
   },
   {
    "duration": 10,
    "start_time": "2023-05-20T08:19:28.157Z"
   },
   {
    "duration": 10,
    "start_time": "2023-05-20T08:19:28.175Z"
   },
   {
    "duration": 11,
    "start_time": "2023-05-20T08:19:28.187Z"
   },
   {
    "duration": 12,
    "start_time": "2023-05-20T08:19:28.200Z"
   },
   {
    "duration": 25,
    "start_time": "2023-05-20T08:19:28.213Z"
   },
   {
    "duration": 294,
    "start_time": "2023-05-20T08:19:28.240Z"
   },
   {
    "duration": 5,
    "start_time": "2023-05-20T08:20:44.316Z"
   },
   {
    "duration": 21,
    "start_time": "2023-05-20T08:21:07.326Z"
   },
   {
    "duration": 6,
    "start_time": "2023-05-20T08:21:08.740Z"
   },
   {
    "duration": 22,
    "start_time": "2023-05-20T08:21:14.654Z"
   },
   {
    "duration": 113,
    "start_time": "2023-05-20T08:22:52.792Z"
   },
   {
    "duration": 16,
    "start_time": "2023-05-20T08:23:28.382Z"
   },
   {
    "duration": 5,
    "start_time": "2023-05-20T08:24:21.105Z"
   },
   {
    "duration": 5,
    "start_time": "2023-05-20T08:24:24.204Z"
   },
   {
    "duration": 19,
    "start_time": "2023-05-20T08:24:25.498Z"
   },
   {
    "duration": 28,
    "start_time": "2023-05-20T08:24:38.976Z"
   },
   {
    "duration": 81,
    "start_time": "2023-05-20T08:30:21.389Z"
   },
   {
    "duration": 237,
    "start_time": "2023-05-20T08:30:40.193Z"
   },
   {
    "duration": 283,
    "start_time": "2023-05-20T08:30:52.016Z"
   },
   {
    "duration": 304,
    "start_time": "2023-05-20T08:31:11.515Z"
   },
   {
    "duration": 363,
    "start_time": "2023-05-20T08:31:45.254Z"
   },
   {
    "duration": 401,
    "start_time": "2023-05-20T08:32:01.597Z"
   },
   {
    "duration": 359,
    "start_time": "2023-05-20T08:34:21.301Z"
   },
   {
    "duration": 400,
    "start_time": "2023-05-20T08:36:29.540Z"
   },
   {
    "duration": 596,
    "start_time": "2023-05-20T08:41:12.656Z"
   },
   {
    "duration": 456,
    "start_time": "2023-05-20T08:41:16.106Z"
   },
   {
    "duration": 356,
    "start_time": "2023-05-20T08:43:02.221Z"
   },
   {
    "duration": 410,
    "start_time": "2023-05-20T08:43:15.518Z"
   },
   {
    "duration": 378,
    "start_time": "2023-05-20T08:43:49.653Z"
   },
   {
    "duration": 334,
    "start_time": "2023-05-20T08:44:04.406Z"
   },
   {
    "duration": 470,
    "start_time": "2023-05-20T08:44:16.659Z"
   },
   {
    "duration": 420,
    "start_time": "2023-05-20T08:44:40.744Z"
   },
   {
    "duration": 400,
    "start_time": "2023-05-20T08:45:00.073Z"
   },
   {
    "duration": 360,
    "start_time": "2023-05-20T08:50:45.189Z"
   },
   {
    "duration": 452,
    "start_time": "2023-05-20T08:50:50.995Z"
   },
   {
    "duration": 421,
    "start_time": "2023-05-20T08:51:37.516Z"
   },
   {
    "duration": 508,
    "start_time": "2023-05-20T08:51:55.374Z"
   },
   {
    "duration": 368,
    "start_time": "2023-05-20T08:52:12.742Z"
   },
   {
    "duration": 379,
    "start_time": "2023-05-20T08:52:35.331Z"
   },
   {
    "duration": 428,
    "start_time": "2023-05-20T08:52:58.618Z"
   },
   {
    "duration": 384,
    "start_time": "2023-05-20T08:53:34.888Z"
   },
   {
    "duration": 640,
    "start_time": "2023-05-20T09:14:47.086Z"
   },
   {
    "duration": 501,
    "start_time": "2023-05-20T09:15:23.448Z"
   },
   {
    "duration": 585,
    "start_time": "2023-05-20T09:16:28.401Z"
   },
   {
    "duration": 8,
    "start_time": "2023-05-20T10:20:19.671Z"
   },
   {
    "duration": 3,
    "start_time": "2023-05-20T10:22:17.401Z"
   },
   {
    "duration": 4,
    "start_time": "2023-05-20T10:22:32.700Z"
   },
   {
    "duration": 7,
    "start_time": "2023-05-20T10:24:31.239Z"
   },
   {
    "duration": 6,
    "start_time": "2023-05-20T10:25:54.799Z"
   },
   {
    "duration": 121,
    "start_time": "2023-05-20T10:40:27.555Z"
   },
   {
    "duration": 12,
    "start_time": "2023-05-20T10:40:57.458Z"
   },
   {
    "duration": 14,
    "start_time": "2023-05-20T10:42:13.871Z"
   },
   {
    "duration": 10,
    "start_time": "2023-05-20T10:45:26.182Z"
   },
   {
    "duration": 13,
    "start_time": "2023-05-20T10:45:45.892Z"
   },
   {
    "duration": 12,
    "start_time": "2023-05-20T11:07:08.303Z"
   },
   {
    "duration": 9,
    "start_time": "2023-05-20T11:09:41.896Z"
   },
   {
    "duration": 3,
    "start_time": "2023-05-20T11:19:01.806Z"
   },
   {
    "duration": 73,
    "start_time": "2023-05-20T11:19:01.847Z"
   },
   {
    "duration": 16,
    "start_time": "2023-05-20T11:19:01.922Z"
   },
   {
    "duration": 54,
    "start_time": "2023-05-20T11:19:03.446Z"
   },
   {
    "duration": 15,
    "start_time": "2023-05-20T11:19:03.502Z"
   },
   {
    "duration": 72,
    "start_time": "2023-05-20T11:19:03.519Z"
   },
   {
    "duration": 86,
    "start_time": "2023-05-20T11:19:03.593Z"
   },
   {
    "duration": 102,
    "start_time": "2023-05-20T11:19:03.682Z"
   },
   {
    "duration": 16,
    "start_time": "2023-05-20T11:19:03.786Z"
   },
   {
    "duration": 4,
    "start_time": "2023-05-20T11:19:03.804Z"
   },
   {
    "duration": 29,
    "start_time": "2023-05-20T11:19:03.809Z"
   },
   {
    "duration": 6,
    "start_time": "2023-05-20T11:19:03.839Z"
   },
   {
    "duration": 24,
    "start_time": "2023-05-20T11:19:03.847Z"
   },
   {
    "duration": 10,
    "start_time": "2023-05-20T11:19:03.874Z"
   },
   {
    "duration": 5,
    "start_time": "2023-05-20T11:19:03.886Z"
   },
   {
    "duration": 15,
    "start_time": "2023-05-20T11:19:03.893Z"
   },
   {
    "duration": 11,
    "start_time": "2023-05-20T11:19:03.910Z"
   },
   {
    "duration": 5,
    "start_time": "2023-05-20T11:19:03.923Z"
   },
   {
    "duration": 8,
    "start_time": "2023-05-20T11:19:03.930Z"
   },
   {
    "duration": 8,
    "start_time": "2023-05-20T11:19:03.939Z"
   },
   {
    "duration": 7,
    "start_time": "2023-05-20T11:19:03.960Z"
   },
   {
    "duration": 7,
    "start_time": "2023-05-20T11:19:03.969Z"
   },
   {
    "duration": 13,
    "start_time": "2023-05-20T11:19:03.977Z"
   },
   {
    "duration": 206,
    "start_time": "2023-05-20T11:19:03.992Z"
   },
   {
    "duration": 153,
    "start_time": "2023-05-20T11:19:04.200Z"
   },
   {
    "duration": 257,
    "start_time": "2023-05-20T11:19:04.515Z"
   },
   {
    "duration": 376,
    "start_time": "2023-05-20T11:19:04.774Z"
   },
   {
    "duration": 17,
    "start_time": "2023-05-20T11:19:05.152Z"
   },
   {
    "duration": 254,
    "start_time": "2023-05-20T11:19:05.171Z"
   },
   {
    "duration": 388,
    "start_time": "2023-05-20T11:19:05.428Z"
   },
   {
    "duration": 310,
    "start_time": "2023-05-20T11:19:05.818Z"
   },
   {
    "duration": 245,
    "start_time": "2023-05-20T11:19:06.130Z"
   },
   {
    "duration": 25,
    "start_time": "2023-05-20T11:19:06.377Z"
   },
   {
    "duration": 20,
    "start_time": "2023-05-20T11:19:06.404Z"
   },
   {
    "duration": 49,
    "start_time": "2023-05-20T11:19:06.426Z"
   },
   {
    "duration": 11,
    "start_time": "2023-05-20T11:19:06.477Z"
   },
   {
    "duration": 8,
    "start_time": "2023-05-20T11:19:06.490Z"
   },
   {
    "duration": 430,
    "start_time": "2023-05-20T11:19:06.500Z"
   },
   {
    "duration": 392,
    "start_time": "2023-05-20T11:19:06.932Z"
   },
   {
    "duration": 145,
    "start_time": "2023-05-20T11:19:07.326Z"
   },
   {
    "duration": 4,
    "start_time": "2023-05-20T11:19:07.473Z"
   },
   {
    "duration": 6,
    "start_time": "2023-05-20T11:19:07.479Z"
   },
   {
    "duration": 7,
    "start_time": "2023-05-20T11:19:07.487Z"
   },
   {
    "duration": 10,
    "start_time": "2023-05-20T11:19:07.497Z"
   },
   {
    "duration": 18,
    "start_time": "2023-05-20T11:19:07.509Z"
   },
   {
    "duration": 41,
    "start_time": "2023-05-20T11:19:07.529Z"
   },
   {
    "duration": 13,
    "start_time": "2023-05-20T11:19:07.572Z"
   },
   {
    "duration": 29,
    "start_time": "2023-05-20T11:19:07.587Z"
   },
   {
    "duration": 79,
    "start_time": "2023-05-20T11:21:01.655Z"
   },
   {
    "duration": 98,
    "start_time": "2023-05-20T11:21:10.984Z"
   },
   {
    "duration": 14,
    "start_time": "2023-05-20T11:21:27.801Z"
   },
   {
    "duration": 11,
    "start_time": "2023-05-20T11:21:32.610Z"
   },
   {
    "duration": 53,
    "start_time": "2023-05-20T11:21:51.310Z"
   },
   {
    "duration": 42,
    "start_time": "2023-05-20T11:21:58.175Z"
   },
   {
    "duration": 8,
    "start_time": "2023-05-20T11:22:15.870Z"
   },
   {
    "duration": 8,
    "start_time": "2023-05-20T11:22:48.622Z"
   },
   {
    "duration": 4,
    "start_time": "2023-05-20T11:23:01.383Z"
   },
   {
    "duration": 53,
    "start_time": "2023-05-20T11:23:01.391Z"
   },
   {
    "duration": 12,
    "start_time": "2023-05-20T11:23:01.446Z"
   },
   {
    "duration": 70,
    "start_time": "2023-05-20T11:23:01.459Z"
   },
   {
    "duration": 24,
    "start_time": "2023-05-20T11:23:01.531Z"
   },
   {
    "duration": 45,
    "start_time": "2023-05-20T11:23:01.569Z"
   },
   {
    "duration": 53,
    "start_time": "2023-05-20T11:23:01.615Z"
   },
   {
    "duration": 62,
    "start_time": "2023-05-20T11:23:01.670Z"
   },
   {
    "duration": 48,
    "start_time": "2023-05-20T11:23:01.734Z"
   },
   {
    "duration": 6,
    "start_time": "2023-05-20T11:23:01.785Z"
   },
   {
    "duration": 6,
    "start_time": "2023-05-20T11:23:03.231Z"
   },
   {
    "duration": 20,
    "start_time": "2023-05-20T11:23:03.238Z"
   },
   {
    "duration": 12,
    "start_time": "2023-05-20T11:23:03.260Z"
   },
   {
    "duration": 12,
    "start_time": "2023-05-20T11:23:03.274Z"
   },
   {
    "duration": 11,
    "start_time": "2023-05-20T11:23:03.289Z"
   },
   {
    "duration": 11,
    "start_time": "2023-05-20T11:23:03.302Z"
   },
   {
    "duration": 9,
    "start_time": "2023-05-20T11:23:03.470Z"
   },
   {
    "duration": 21,
    "start_time": "2023-05-20T11:23:03.481Z"
   },
   {
    "duration": 16,
    "start_time": "2023-05-20T11:23:03.504Z"
   },
   {
    "duration": 33,
    "start_time": "2023-05-20T11:23:03.522Z"
   },
   {
    "duration": 13,
    "start_time": "2023-05-20T11:23:03.559Z"
   },
   {
    "duration": 17,
    "start_time": "2023-05-20T11:23:03.574Z"
   },
   {
    "duration": 19,
    "start_time": "2023-05-20T11:23:03.593Z"
   },
   {
    "duration": 187,
    "start_time": "2023-05-20T11:23:03.613Z"
   },
   {
    "duration": 179,
    "start_time": "2023-05-20T11:23:03.802Z"
   },
   {
    "duration": 288,
    "start_time": "2023-05-20T11:23:03.983Z"
   },
   {
    "duration": 510,
    "start_time": "2023-05-20T11:23:04.272Z"
   },
   {
    "duration": 11,
    "start_time": "2023-05-20T11:23:04.783Z"
   },
   {
    "duration": 252,
    "start_time": "2023-05-20T11:23:04.796Z"
   },
   {
    "duration": 278,
    "start_time": "2023-05-20T11:23:05.058Z"
   },
   {
    "duration": 306,
    "start_time": "2023-05-20T11:23:05.338Z"
   },
   {
    "duration": 246,
    "start_time": "2023-05-20T11:23:05.646Z"
   },
   {
    "duration": 24,
    "start_time": "2023-05-20T11:23:05.894Z"
   },
   {
    "duration": 52,
    "start_time": "2023-05-20T11:23:05.920Z"
   },
   {
    "duration": 21,
    "start_time": "2023-05-20T11:23:05.974Z"
   },
   {
    "duration": 9,
    "start_time": "2023-05-20T11:23:05.997Z"
   },
   {
    "duration": 25,
    "start_time": "2023-05-20T11:23:06.008Z"
   },
   {
    "duration": 457,
    "start_time": "2023-05-20T11:23:06.035Z"
   },
   {
    "duration": 390,
    "start_time": "2023-05-20T11:23:06.494Z"
   },
   {
    "duration": 122,
    "start_time": "2023-05-20T11:23:06.886Z"
   },
   {
    "duration": 4,
    "start_time": "2023-05-20T11:23:07.010Z"
   },
   {
    "duration": 4,
    "start_time": "2023-05-20T11:23:07.015Z"
   },
   {
    "duration": 7,
    "start_time": "2023-05-20T11:23:07.021Z"
   },
   {
    "duration": 37,
    "start_time": "2023-05-20T11:23:07.029Z"
   },
   {
    "duration": 16,
    "start_time": "2023-05-20T11:23:07.073Z"
   },
   {
    "duration": 7,
    "start_time": "2023-05-20T11:23:07.090Z"
   },
   {
    "duration": 6,
    "start_time": "2023-05-20T11:23:07.098Z"
   },
   {
    "duration": 17,
    "start_time": "2023-05-20T11:23:07.106Z"
   },
   {
    "duration": 6,
    "start_time": "2023-05-20T11:29:45.902Z"
   },
   {
    "duration": 1509,
    "start_time": "2023-05-20T17:54:29.970Z"
   },
   {
    "duration": 122,
    "start_time": "2023-05-20T17:54:31.482Z"
   },
   {
    "duration": 15,
    "start_time": "2023-05-20T17:54:31.607Z"
   },
   {
    "duration": 267,
    "start_time": "2023-05-20T17:54:31.623Z"
   },
   {
    "duration": 13,
    "start_time": "2023-05-20T17:54:31.893Z"
   },
   {
    "duration": 168,
    "start_time": "2023-05-20T17:54:31.912Z"
   },
   {
    "duration": 15,
    "start_time": "2023-05-20T17:54:32.082Z"
   },
   {
    "duration": 48,
    "start_time": "2023-05-20T17:54:32.099Z"
   },
   {
    "duration": 49,
    "start_time": "2023-05-20T17:54:32.149Z"
   },
   {
    "duration": 59,
    "start_time": "2023-05-20T17:54:32.201Z"
   },
   {
    "duration": 60,
    "start_time": "2023-05-20T17:54:32.262Z"
   },
   {
    "duration": 55,
    "start_time": "2023-05-20T17:54:32.324Z"
   },
   {
    "duration": 7,
    "start_time": "2023-05-20T17:54:32.380Z"
   },
   {
    "duration": 10,
    "start_time": "2023-05-20T17:54:32.391Z"
   },
   {
    "duration": 16,
    "start_time": "2023-05-20T17:54:32.403Z"
   },
   {
    "duration": 57,
    "start_time": "2023-05-20T17:54:32.421Z"
   },
   {
    "duration": 14,
    "start_time": "2023-05-20T17:54:32.480Z"
   },
   {
    "duration": 5,
    "start_time": "2023-05-20T17:54:32.496Z"
   },
   {
    "duration": 9,
    "start_time": "2023-05-20T17:54:32.502Z"
   },
   {
    "duration": 9,
    "start_time": "2023-05-20T17:54:32.513Z"
   },
   {
    "duration": 52,
    "start_time": "2023-05-20T17:54:32.524Z"
   },
   {
    "duration": 13,
    "start_time": "2023-05-20T17:54:32.578Z"
   },
   {
    "duration": 16,
    "start_time": "2023-05-20T17:54:32.594Z"
   },
   {
    "duration": 265,
    "start_time": "2023-05-20T17:54:32.613Z"
   },
   {
    "duration": 203,
    "start_time": "2023-05-20T17:54:32.880Z"
   },
   {
    "duration": 343,
    "start_time": "2023-05-20T17:54:33.085Z"
   },
   {
    "duration": 455,
    "start_time": "2023-05-20T17:54:33.430Z"
   },
   {
    "duration": 12,
    "start_time": "2023-05-20T17:54:33.886Z"
   },
   {
    "duration": 286,
    "start_time": "2023-05-20T17:54:33.899Z"
   },
   {
    "duration": 314,
    "start_time": "2023-05-20T17:54:34.187Z"
   },
   {
    "duration": 534,
    "start_time": "2023-05-20T17:54:34.503Z"
   },
   {
    "duration": 329,
    "start_time": "2023-05-20T17:54:35.039Z"
   },
   {
    "duration": 35,
    "start_time": "2023-05-20T17:54:35.370Z"
   },
   {
    "duration": 25,
    "start_time": "2023-05-20T17:54:35.408Z"
   },
   {
    "duration": 63,
    "start_time": "2023-05-20T17:54:35.434Z"
   },
   {
    "duration": 20,
    "start_time": "2023-05-20T17:54:35.500Z"
   },
   {
    "duration": 33,
    "start_time": "2023-05-20T17:54:35.523Z"
   },
   {
    "duration": 570,
    "start_time": "2023-05-20T17:54:35.558Z"
   },
   {
    "duration": 484,
    "start_time": "2023-05-20T17:54:36.132Z"
   },
   {
    "duration": 131,
    "start_time": "2023-05-20T17:54:36.618Z"
   },
   {
    "duration": 4,
    "start_time": "2023-05-20T17:54:36.753Z"
   },
   {
    "duration": 28,
    "start_time": "2023-05-20T17:54:36.759Z"
   },
   {
    "duration": 34,
    "start_time": "2023-05-20T17:54:36.789Z"
   },
   {
    "duration": 44,
    "start_time": "2023-05-20T17:54:36.833Z"
   },
   {
    "duration": 87,
    "start_time": "2023-05-20T17:54:36.880Z"
   },
   {
    "duration": 39,
    "start_time": "2023-05-20T17:54:36.971Z"
   },
   {
    "duration": 69,
    "start_time": "2023-05-20T17:54:37.012Z"
   },
   {
    "duration": 93,
    "start_time": "2023-05-20T17:54:37.083Z"
   },
   {
    "duration": 16,
    "start_time": "2023-05-20T17:54:37.178Z"
   },
   {
    "duration": 115,
    "start_time": "2023-05-20T18:41:54.283Z"
   },
   {
    "duration": 11,
    "start_time": "2023-05-20T18:42:20.253Z"
   },
   {
    "duration": 19,
    "start_time": "2023-05-20T18:42:29.153Z"
   },
   {
    "duration": 8,
    "start_time": "2023-05-20T18:42:43.475Z"
   },
   {
    "duration": 6,
    "start_time": "2023-05-20T18:42:54.489Z"
   },
   {
    "duration": 14,
    "start_time": "2023-05-20T18:43:00.149Z"
   },
   {
    "duration": 18,
    "start_time": "2023-05-20T18:43:08.351Z"
   },
   {
    "duration": 8,
    "start_time": "2023-05-20T18:43:13.787Z"
   },
   {
    "duration": 7,
    "start_time": "2023-05-20T18:43:18.086Z"
   },
   {
    "duration": 14,
    "start_time": "2023-05-20T18:43:24.078Z"
   },
   {
    "duration": 5,
    "start_time": "2023-05-20T18:43:29.577Z"
   },
   {
    "duration": 6,
    "start_time": "2023-05-20T18:43:34.116Z"
   },
   {
    "duration": 6,
    "start_time": "2023-05-20T18:44:12.185Z"
   },
   {
    "duration": 6,
    "start_time": "2023-05-20T18:44:17.812Z"
   },
   {
    "duration": 187,
    "start_time": "2023-05-20T18:48:17.176Z"
   },
   {
    "duration": 8,
    "start_time": "2023-05-20T18:48:56.569Z"
   },
   {
    "duration": 17,
    "start_time": "2023-05-20T18:53:57.280Z"
   },
   {
    "duration": 32,
    "start_time": "2023-05-20T18:54:25.428Z"
   },
   {
    "duration": 19,
    "start_time": "2023-05-20T18:55:06.683Z"
   },
   {
    "duration": 18,
    "start_time": "2023-05-20T18:55:38.061Z"
   },
   {
    "duration": 2223,
    "start_time": "2023-05-20T18:55:48.953Z"
   },
   {
    "duration": 2508,
    "start_time": "2023-05-20T18:56:46.757Z"
   },
   {
    "duration": 312,
    "start_time": "2023-05-20T18:57:52.466Z"
   },
   {
    "duration": 239,
    "start_time": "2023-05-20T18:58:05.248Z"
   },
   {
    "duration": 8,
    "start_time": "2023-05-20T18:58:52.371Z"
   },
   {
    "duration": 2292,
    "start_time": "2023-05-20T18:59:04.251Z"
   },
   {
    "duration": 12,
    "start_time": "2023-05-20T19:00:08.074Z"
   },
   {
    "duration": 314,
    "start_time": "2023-05-20T19:08:14.177Z"
   },
   {
    "duration": 2104,
    "start_time": "2023-05-20T19:08:27.814Z"
   },
   {
    "duration": 2139,
    "start_time": "2023-05-20T19:20:45.664Z"
   },
   {
    "duration": 2532,
    "start_time": "2023-05-20T19:21:21.014Z"
   },
   {
    "duration": 2563,
    "start_time": "2023-05-20T19:21:59.208Z"
   },
   {
    "duration": 349,
    "start_time": "2023-05-20T19:22:15.859Z"
   },
   {
    "duration": 1938,
    "start_time": "2023-05-20T19:22:39.277Z"
   },
   {
    "duration": 2321,
    "start_time": "2023-05-20T19:22:48.596Z"
   },
   {
    "duration": 2715,
    "start_time": "2023-05-20T19:34:23.584Z"
   },
   {
    "duration": 2424,
    "start_time": "2023-05-20T19:35:01.993Z"
   },
   {
    "duration": 2413,
    "start_time": "2023-05-20T19:40:52.622Z"
   },
   {
    "duration": 2512,
    "start_time": "2023-05-20T19:42:58.874Z"
   },
   {
    "duration": 197,
    "start_time": "2023-05-20T19:43:09.100Z"
   },
   {
    "duration": 2361,
    "start_time": "2023-05-20T19:43:19.686Z"
   },
   {
    "duration": 19,
    "start_time": "2023-05-20T19:44:28.448Z"
   },
   {
    "duration": 2535,
    "start_time": "2023-05-20T19:44:34.255Z"
   },
   {
    "duration": 2603,
    "start_time": "2023-05-20T19:46:02.089Z"
   },
   {
    "duration": 6,
    "start_time": "2023-05-20T19:53:52.562Z"
   },
   {
    "duration": 7,
    "start_time": "2023-05-20T19:58:29.273Z"
   },
   {
    "duration": 1886,
    "start_time": "2023-05-20T19:58:30.153Z"
   },
   {
    "duration": 9,
    "start_time": "2023-05-20T20:16:27.480Z"
   },
   {
    "duration": 50,
    "start_time": "2023-05-21T08:41:16.377Z"
   },
   {
    "duration": 1375,
    "start_time": "2023-05-21T08:41:34.119Z"
   },
   {
    "duration": 95,
    "start_time": "2023-05-21T08:41:35.496Z"
   },
   {
    "duration": 12,
    "start_time": "2023-05-21T08:41:35.592Z"
   },
   {
    "duration": 164,
    "start_time": "2023-05-21T08:41:35.606Z"
   },
   {
    "duration": 12,
    "start_time": "2023-05-21T08:41:35.772Z"
   },
   {
    "duration": 60,
    "start_time": "2023-05-21T08:41:35.786Z"
   },
   {
    "duration": 13,
    "start_time": "2023-05-21T08:41:35.848Z"
   },
   {
    "duration": 16,
    "start_time": "2023-05-21T08:41:35.863Z"
   },
   {
    "duration": 15,
    "start_time": "2023-05-21T08:41:35.881Z"
   },
   {
    "duration": 5,
    "start_time": "2023-05-21T08:41:35.898Z"
   },
   {
    "duration": 14,
    "start_time": "2023-05-21T08:41:35.905Z"
   },
   {
    "duration": 4,
    "start_time": "2023-05-21T08:41:35.951Z"
   },
   {
    "duration": 5,
    "start_time": "2023-05-21T08:41:35.957Z"
   },
   {
    "duration": 5,
    "start_time": "2023-05-21T08:41:35.963Z"
   },
   {
    "duration": 4,
    "start_time": "2023-05-21T08:41:35.970Z"
   },
   {
    "duration": 6,
    "start_time": "2023-05-21T08:41:35.976Z"
   },
   {
    "duration": 6,
    "start_time": "2023-05-21T08:41:35.984Z"
   },
   {
    "duration": 5,
    "start_time": "2023-05-21T08:41:35.992Z"
   },
   {
    "duration": 7,
    "start_time": "2023-05-21T08:41:36.051Z"
   },
   {
    "duration": 10,
    "start_time": "2023-05-21T08:41:36.060Z"
   },
   {
    "duration": 5,
    "start_time": "2023-05-21T08:41:36.072Z"
   },
   {
    "duration": 10,
    "start_time": "2023-05-21T08:41:36.078Z"
   },
   {
    "duration": 13,
    "start_time": "2023-05-21T08:41:36.090Z"
   },
   {
    "duration": 219,
    "start_time": "2023-05-21T08:41:36.105Z"
   },
   {
    "duration": 171,
    "start_time": "2023-05-21T08:41:36.326Z"
   },
   {
    "duration": 249,
    "start_time": "2023-05-21T08:41:36.499Z"
   },
   {
    "duration": 365,
    "start_time": "2023-05-21T08:41:36.751Z"
   },
   {
    "duration": 10,
    "start_time": "2023-05-21T08:41:37.120Z"
   },
   {
    "duration": 248,
    "start_time": "2023-05-21T08:41:37.132Z"
   },
   {
    "duration": 245,
    "start_time": "2023-05-21T08:41:37.381Z"
   },
   {
    "duration": 271,
    "start_time": "2023-05-21T08:41:37.628Z"
   },
   {
    "duration": 312,
    "start_time": "2023-05-21T08:41:37.900Z"
   },
   {
    "duration": 37,
    "start_time": "2023-05-21T08:41:38.214Z"
   },
   {
    "duration": 23,
    "start_time": "2023-05-21T08:41:38.253Z"
   },
   {
    "duration": 21,
    "start_time": "2023-05-21T08:41:38.278Z"
   },
   {
    "duration": 13,
    "start_time": "2023-05-21T08:41:38.301Z"
   },
   {
    "duration": 8,
    "start_time": "2023-05-21T08:41:38.351Z"
   },
   {
    "duration": 422,
    "start_time": "2023-05-21T08:41:38.361Z"
   },
   {
    "duration": 384,
    "start_time": "2023-05-21T08:41:38.785Z"
   },
   {
    "duration": 129,
    "start_time": "2023-05-21T08:41:39.171Z"
   },
   {
    "duration": 5,
    "start_time": "2023-05-21T08:41:39.302Z"
   },
   {
    "duration": 4,
    "start_time": "2023-05-21T08:41:39.309Z"
   },
   {
    "duration": 5,
    "start_time": "2023-05-21T08:41:39.315Z"
   },
   {
    "duration": 30,
    "start_time": "2023-05-21T08:41:39.322Z"
   },
   {
    "duration": 15,
    "start_time": "2023-05-21T08:41:39.355Z"
   },
   {
    "duration": 6,
    "start_time": "2023-05-21T08:41:39.372Z"
   },
   {
    "duration": 10,
    "start_time": "2023-05-21T08:41:39.380Z"
   },
   {
    "duration": 13,
    "start_time": "2023-05-21T08:41:39.392Z"
   },
   {
    "duration": 46,
    "start_time": "2023-05-21T08:41:39.408Z"
   },
   {
    "duration": 1955,
    "start_time": "2023-05-21T08:41:39.456Z"
   },
   {
    "duration": 6,
    "start_time": "2023-05-21T08:41:41.413Z"
   },
   {
    "duration": 1830,
    "start_time": "2023-05-21T09:21:17.155Z"
   },
   {
    "duration": 7,
    "start_time": "2023-05-21T09:21:46.900Z"
   },
   {
    "duration": 1960,
    "start_time": "2023-05-21T09:23:35.164Z"
   },
   {
    "duration": 384,
    "start_time": "2023-05-21T09:29:31.884Z"
   },
   {
    "duration": 187,
    "start_time": "2023-05-21T09:29:38.869Z"
   },
   {
    "duration": 1882,
    "start_time": "2023-05-21T09:29:44.789Z"
   },
   {
    "duration": 6,
    "start_time": "2023-05-21T09:30:20.772Z"
   },
   {
    "duration": 2000,
    "start_time": "2023-05-21T09:30:22.162Z"
   },
   {
    "duration": 5,
    "start_time": "2023-05-21T09:30:35.246Z"
   },
   {
    "duration": 1934,
    "start_time": "2023-05-21T09:30:36.136Z"
   },
   {
    "duration": 2196,
    "start_time": "2023-05-21T09:31:35.363Z"
   },
   {
    "duration": 109,
    "start_time": "2023-05-21T09:31:52.778Z"
   },
   {
    "duration": 2037,
    "start_time": "2023-05-21T09:31:58.901Z"
   },
   {
    "duration": 1851,
    "start_time": "2023-05-21T09:32:16.888Z"
   },
   {
    "duration": 2060,
    "start_time": "2023-05-21T09:34:44.058Z"
   },
   {
    "duration": 83,
    "start_time": "2023-05-21T09:35:14.280Z"
   },
   {
    "duration": 120,
    "start_time": "2023-05-21T09:35:39.544Z"
   },
   {
    "duration": 94,
    "start_time": "2023-05-21T09:36:11.832Z"
   },
   {
    "duration": 73,
    "start_time": "2023-05-21T09:36:33.365Z"
   },
   {
    "duration": 72,
    "start_time": "2023-05-21T09:36:39.703Z"
   },
   {
    "duration": 1912,
    "start_time": "2023-05-21T09:39:42.315Z"
   },
   {
    "duration": 358,
    "start_time": "2023-05-21T09:40:18.969Z"
   },
   {
    "duration": 2127,
    "start_time": "2023-05-21T09:40:31.901Z"
   },
   {
    "duration": 1828,
    "start_time": "2023-05-21T09:41:53.711Z"
   },
   {
    "duration": 1200,
    "start_time": "2023-05-21T09:42:20.626Z"
   },
   {
    "duration": 553,
    "start_time": "2023-05-21T09:42:33.427Z"
   },
   {
    "duration": 1863,
    "start_time": "2023-05-21T09:43:04.867Z"
   },
   {
    "duration": 2079,
    "start_time": "2023-05-21T09:43:22.988Z"
   },
   {
    "duration": 1928,
    "start_time": "2023-05-21T09:43:35.996Z"
   },
   {
    "duration": 411,
    "start_time": "2023-05-21T09:43:46.335Z"
   },
   {
    "duration": 2154,
    "start_time": "2023-05-21T09:44:00.318Z"
   },
   {
    "duration": 1995,
    "start_time": "2023-05-21T09:44:26.597Z"
   },
   {
    "duration": 1997,
    "start_time": "2023-05-21T09:44:43.785Z"
   },
   {
    "duration": 211,
    "start_time": "2023-05-21T10:32:26.061Z"
   },
   {
    "duration": 205,
    "start_time": "2023-05-21T10:33:06.860Z"
   },
   {
    "duration": 207,
    "start_time": "2023-05-21T10:33:25.886Z"
   },
   {
    "duration": 182,
    "start_time": "2023-05-21T10:33:55.668Z"
   },
   {
    "duration": 1187,
    "start_time": "2023-05-21T11:05:24.185Z"
   },
   {
    "duration": 37,
    "start_time": "2023-05-21T11:05:25.374Z"
   },
   {
    "duration": 13,
    "start_time": "2023-05-21T11:05:25.412Z"
   },
   {
    "duration": 40,
    "start_time": "2023-05-21T11:05:25.427Z"
   },
   {
    "duration": 11,
    "start_time": "2023-05-21T11:05:25.469Z"
   },
   {
    "duration": 31,
    "start_time": "2023-05-21T11:05:25.482Z"
   },
   {
    "duration": 15,
    "start_time": "2023-05-21T11:05:25.515Z"
   },
   {
    "duration": 26,
    "start_time": "2023-05-21T11:05:25.532Z"
   },
   {
    "duration": 15,
    "start_time": "2023-05-21T11:05:25.561Z"
   },
   {
    "duration": 6,
    "start_time": "2023-05-21T11:05:25.579Z"
   },
   {
    "duration": 7,
    "start_time": "2023-05-21T11:05:25.587Z"
   },
   {
    "duration": 14,
    "start_time": "2023-05-21T11:05:25.595Z"
   },
   {
    "duration": 6,
    "start_time": "2023-05-21T11:05:25.612Z"
   },
   {
    "duration": 5,
    "start_time": "2023-05-21T11:05:25.650Z"
   },
   {
    "duration": 6,
    "start_time": "2023-05-21T11:05:25.657Z"
   },
   {
    "duration": 6,
    "start_time": "2023-05-21T11:05:25.664Z"
   },
   {
    "duration": 6,
    "start_time": "2023-05-21T11:05:25.672Z"
   },
   {
    "duration": 5,
    "start_time": "2023-05-21T11:05:25.679Z"
   },
   {
    "duration": 14,
    "start_time": "2023-05-21T11:05:25.686Z"
   },
   {
    "duration": 8,
    "start_time": "2023-05-21T11:05:25.702Z"
   },
   {
    "duration": 5,
    "start_time": "2023-05-21T11:05:25.749Z"
   },
   {
    "duration": 5,
    "start_time": "2023-05-21T11:05:25.756Z"
   },
   {
    "duration": 13,
    "start_time": "2023-05-21T11:05:25.763Z"
   },
   {
    "duration": 214,
    "start_time": "2023-05-21T11:05:25.777Z"
   },
   {
    "duration": 139,
    "start_time": "2023-05-21T11:05:25.992Z"
   },
   {
    "duration": 239,
    "start_time": "2023-05-21T11:05:26.133Z"
   },
   {
    "duration": 370,
    "start_time": "2023-05-21T11:05:26.374Z"
   },
   {
    "duration": 10,
    "start_time": "2023-05-21T11:05:26.749Z"
   },
   {
    "duration": 256,
    "start_time": "2023-05-21T11:05:26.760Z"
   },
   {
    "duration": 248,
    "start_time": "2023-05-21T11:05:27.017Z"
   },
   {
    "duration": 286,
    "start_time": "2023-05-21T11:05:27.267Z"
   },
   {
    "duration": 299,
    "start_time": "2023-05-21T11:05:27.554Z"
   },
   {
    "duration": 34,
    "start_time": "2023-05-21T11:05:27.855Z"
   },
   {
    "duration": 18,
    "start_time": "2023-05-21T11:05:27.890Z"
   },
   {
    "duration": 42,
    "start_time": "2023-05-21T11:05:27.911Z"
   },
   {
    "duration": 10,
    "start_time": "2023-05-21T11:05:27.955Z"
   },
   {
    "duration": 8,
    "start_time": "2023-05-21T11:05:27.967Z"
   },
   {
    "duration": 423,
    "start_time": "2023-05-21T11:05:27.976Z"
   },
   {
    "duration": 379,
    "start_time": "2023-05-21T11:05:28.401Z"
   },
   {
    "duration": 111,
    "start_time": "2023-05-21T11:05:28.782Z"
   },
   {
    "duration": 4,
    "start_time": "2023-05-21T11:05:28.895Z"
   },
   {
    "duration": 4,
    "start_time": "2023-05-21T11:05:28.901Z"
   },
   {
    "duration": 4,
    "start_time": "2023-05-21T11:05:28.907Z"
   },
   {
    "duration": 38,
    "start_time": "2023-05-21T11:05:28.913Z"
   },
   {
    "duration": 14,
    "start_time": "2023-05-21T11:05:28.953Z"
   },
   {
    "duration": 7,
    "start_time": "2023-05-21T11:05:28.968Z"
   },
   {
    "duration": 7,
    "start_time": "2023-05-21T11:05:28.977Z"
   },
   {
    "duration": 12,
    "start_time": "2023-05-21T11:05:28.985Z"
   },
   {
    "duration": 1326,
    "start_time": "2023-05-21T15:34:04.572Z"
   },
   {
    "duration": 118,
    "start_time": "2023-05-21T15:34:05.900Z"
   },
   {
    "duration": 12,
    "start_time": "2023-05-21T15:34:06.019Z"
   },
   {
    "duration": 106,
    "start_time": "2023-05-21T15:34:06.032Z"
   },
   {
    "duration": 14,
    "start_time": "2023-05-21T15:34:06.140Z"
   },
   {
    "duration": 96,
    "start_time": "2023-05-21T15:34:06.155Z"
   },
   {
    "duration": 10,
    "start_time": "2023-05-21T15:34:06.253Z"
   },
   {
    "duration": 27,
    "start_time": "2023-05-21T15:34:06.264Z"
   },
   {
    "duration": 48,
    "start_time": "2023-05-21T15:34:06.292Z"
   },
   {
    "duration": 119,
    "start_time": "2023-05-21T15:34:06.342Z"
   },
   {
    "duration": 7,
    "start_time": "2023-05-21T15:34:06.462Z"
   },
   {
    "duration": 8,
    "start_time": "2023-05-21T15:34:06.470Z"
   },
   {
    "duration": 26,
    "start_time": "2023-05-21T15:34:06.479Z"
   },
   {
    "duration": 7,
    "start_time": "2023-05-21T15:34:06.510Z"
   },
   {
    "duration": 13,
    "start_time": "2023-05-21T15:34:06.518Z"
   },
   {
    "duration": 9,
    "start_time": "2023-05-21T15:34:06.533Z"
   },
   {
    "duration": 6,
    "start_time": "2023-05-21T15:34:06.544Z"
   },
   {
    "duration": 18,
    "start_time": "2023-05-21T15:34:06.551Z"
   },
   {
    "duration": 7,
    "start_time": "2023-05-21T15:34:06.570Z"
   },
   {
    "duration": 19,
    "start_time": "2023-05-21T15:34:06.579Z"
   },
   {
    "duration": 7,
    "start_time": "2023-05-21T15:34:06.600Z"
   },
   {
    "duration": 34,
    "start_time": "2023-05-21T15:34:06.609Z"
   },
   {
    "duration": 14,
    "start_time": "2023-05-21T15:34:06.644Z"
   },
   {
    "duration": 157,
    "start_time": "2023-05-21T15:34:06.659Z"
   },
   {
    "duration": 116,
    "start_time": "2023-05-21T15:34:06.818Z"
   },
   {
    "duration": 208,
    "start_time": "2023-05-21T15:34:06.935Z"
   },
   {
    "duration": 292,
    "start_time": "2023-05-21T15:34:07.144Z"
   },
   {
    "duration": 9,
    "start_time": "2023-05-21T15:34:07.437Z"
   },
   {
    "duration": 201,
    "start_time": "2023-05-21T15:34:07.447Z"
   },
   {
    "duration": 207,
    "start_time": "2023-05-21T15:34:07.650Z"
   },
   {
    "duration": 221,
    "start_time": "2023-05-21T15:34:07.858Z"
   },
   {
    "duration": 238,
    "start_time": "2023-05-21T15:34:08.084Z"
   },
   {
    "duration": 18,
    "start_time": "2023-05-21T15:34:08.323Z"
   },
   {
    "duration": 13,
    "start_time": "2023-05-21T15:34:08.343Z"
   },
   {
    "duration": 46,
    "start_time": "2023-05-21T15:34:08.357Z"
   },
   {
    "duration": 9,
    "start_time": "2023-05-21T15:34:08.405Z"
   },
   {
    "duration": 15,
    "start_time": "2023-05-21T15:34:08.415Z"
   },
   {
    "duration": 308,
    "start_time": "2023-05-21T15:34:08.432Z"
   },
   {
    "duration": 305,
    "start_time": "2023-05-21T15:34:08.741Z"
   },
   {
    "duration": 101,
    "start_time": "2023-05-21T15:34:09.047Z"
   },
   {
    "duration": 3,
    "start_time": "2023-05-21T15:34:09.150Z"
   },
   {
    "duration": 6,
    "start_time": "2023-05-21T15:34:09.154Z"
   },
   {
    "duration": 16,
    "start_time": "2023-05-21T15:34:09.161Z"
   },
   {
    "duration": 31,
    "start_time": "2023-05-21T15:34:09.178Z"
   },
   {
    "duration": 39,
    "start_time": "2023-05-21T15:34:09.210Z"
   },
   {
    "duration": 10,
    "start_time": "2023-05-21T15:34:09.251Z"
   },
   {
    "duration": 32,
    "start_time": "2023-05-21T15:34:09.262Z"
   },
   {
    "duration": 22,
    "start_time": "2023-05-21T15:34:09.295Z"
   },
   {
    "duration": 102,
    "start_time": "2023-05-21T15:44:44.062Z"
   },
   {
    "duration": 6,
    "start_time": "2023-05-21T15:44:55.717Z"
   },
   {
    "duration": 64,
    "start_time": "2023-05-21T17:45:05.793Z"
   },
   {
    "duration": 1400,
    "start_time": "2023-05-21T17:45:08.713Z"
   },
   {
    "duration": 121,
    "start_time": "2023-05-21T17:45:10.115Z"
   },
   {
    "duration": 14,
    "start_time": "2023-05-21T17:45:10.243Z"
   },
   {
    "duration": 98,
    "start_time": "2023-05-21T17:45:10.260Z"
   },
   {
    "duration": 10,
    "start_time": "2023-05-21T17:45:10.360Z"
   },
   {
    "duration": 74,
    "start_time": "2023-05-21T17:45:10.372Z"
   },
   {
    "duration": 12,
    "start_time": "2023-05-21T17:45:10.448Z"
   },
   {
    "duration": 19,
    "start_time": "2023-05-21T17:45:10.462Z"
   },
   {
    "duration": 18,
    "start_time": "2023-05-21T17:45:10.483Z"
   },
   {
    "duration": 5,
    "start_time": "2023-05-21T17:45:10.505Z"
   },
   {
    "duration": 15,
    "start_time": "2023-05-21T17:45:10.520Z"
   },
   {
    "duration": 19,
    "start_time": "2023-05-21T17:45:10.536Z"
   },
   {
    "duration": 5,
    "start_time": "2023-05-21T17:45:10.556Z"
   },
   {
    "duration": 10,
    "start_time": "2023-05-21T17:45:10.563Z"
   },
   {
    "duration": 6,
    "start_time": "2023-05-21T17:45:10.574Z"
   },
   {
    "duration": 25,
    "start_time": "2023-05-21T17:45:10.582Z"
   },
   {
    "duration": 13,
    "start_time": "2023-05-21T17:45:10.609Z"
   },
   {
    "duration": 34,
    "start_time": "2023-05-21T17:45:10.624Z"
   },
   {
    "duration": 5,
    "start_time": "2023-05-21T17:45:10.659Z"
   },
   {
    "duration": 6,
    "start_time": "2023-05-21T17:45:10.665Z"
   },
   {
    "duration": 9,
    "start_time": "2023-05-21T17:45:10.672Z"
   },
   {
    "duration": 5,
    "start_time": "2023-05-21T17:45:10.682Z"
   },
   {
    "duration": 4,
    "start_time": "2023-05-21T17:45:10.689Z"
   },
   {
    "duration": 43,
    "start_time": "2023-05-21T17:45:10.695Z"
   },
   {
    "duration": 208,
    "start_time": "2023-05-21T17:45:10.744Z"
   },
   {
    "duration": 123,
    "start_time": "2023-05-21T17:45:10.954Z"
   },
   {
    "duration": 226,
    "start_time": "2023-05-21T17:45:11.079Z"
   },
   {
    "duration": 374,
    "start_time": "2023-05-21T17:45:11.308Z"
   },
   {
    "duration": 10,
    "start_time": "2023-05-21T17:45:11.683Z"
   },
   {
    "duration": 260,
    "start_time": "2023-05-21T17:45:11.695Z"
   },
   {
    "duration": 259,
    "start_time": "2023-05-21T17:45:11.958Z"
   },
   {
    "duration": 265,
    "start_time": "2023-05-21T17:45:12.218Z"
   },
   {
    "duration": 293,
    "start_time": "2023-05-21T17:45:12.484Z"
   },
   {
    "duration": 20,
    "start_time": "2023-05-21T17:45:12.779Z"
   },
   {
    "duration": 32,
    "start_time": "2023-05-21T17:45:12.800Z"
   },
   {
    "duration": 32,
    "start_time": "2023-05-21T17:45:12.834Z"
   },
   {
    "duration": 9,
    "start_time": "2023-05-21T17:45:12.867Z"
   },
   {
    "duration": 6,
    "start_time": "2023-05-21T17:45:12.878Z"
   },
   {
    "duration": 398,
    "start_time": "2023-05-21T17:45:12.886Z"
   },
   {
    "duration": 366,
    "start_time": "2023-05-21T17:45:13.286Z"
   },
   {
    "duration": 117,
    "start_time": "2023-05-21T17:45:13.653Z"
   },
   {
    "duration": 4,
    "start_time": "2023-05-21T17:45:13.772Z"
   },
   {
    "duration": 11,
    "start_time": "2023-05-21T17:45:13.778Z"
   },
   {
    "duration": 4,
    "start_time": "2023-05-21T17:45:13.791Z"
   },
   {
    "duration": 56,
    "start_time": "2023-05-21T17:45:13.797Z"
   },
   {
    "duration": 13,
    "start_time": "2023-05-21T17:45:13.854Z"
   },
   {
    "duration": 6,
    "start_time": "2023-05-21T17:45:13.869Z"
   },
   {
    "duration": 8,
    "start_time": "2023-05-21T17:45:13.876Z"
   },
   {
    "duration": 8,
    "start_time": "2023-05-21T17:45:13.886Z"
   },
   {
    "duration": 14,
    "start_time": "2023-05-21T17:45:13.896Z"
   },
   {
    "duration": 31,
    "start_time": "2023-05-21T17:45:44.313Z"
   },
   {
    "duration": 54,
    "start_time": "2023-05-21T18:03:29.753Z"
   },
   {
    "duration": 171,
    "start_time": "2023-05-21T18:03:38.060Z"
   },
   {
    "duration": 160,
    "start_time": "2023-05-21T18:03:44.243Z"
   },
   {
    "duration": 154,
    "start_time": "2023-05-21T18:03:50.555Z"
   },
   {
    "duration": 172,
    "start_time": "2023-05-21T18:03:59.899Z"
   },
   {
    "duration": 156,
    "start_time": "2023-05-21T18:04:05.951Z"
   },
   {
    "duration": 182,
    "start_time": "2023-05-21T18:04:18.672Z"
   },
   {
    "duration": 234,
    "start_time": "2023-05-21T18:04:42.851Z"
   },
   {
    "duration": 186,
    "start_time": "2023-05-21T18:05:02.071Z"
   },
   {
    "duration": 183,
    "start_time": "2023-05-21T18:05:22.781Z"
   },
   {
    "duration": 188,
    "start_time": "2023-05-21T18:05:48.719Z"
   },
   {
    "duration": 161,
    "start_time": "2023-05-21T18:05:59.952Z"
   },
   {
    "duration": 4,
    "start_time": "2023-05-21T18:13:56.861Z"
   },
   {
    "duration": 3,
    "start_time": "2023-05-21T18:14:01.952Z"
   },
   {
    "duration": 77,
    "start_time": "2023-05-21T18:14:01.963Z"
   },
   {
    "duration": 10,
    "start_time": "2023-05-21T18:14:02.042Z"
   },
   {
    "duration": 65,
    "start_time": "2023-05-21T18:14:02.054Z"
   },
   {
    "duration": 20,
    "start_time": "2023-05-21T18:14:02.133Z"
   },
   {
    "duration": 36,
    "start_time": "2023-05-21T18:14:02.155Z"
   },
   {
    "duration": 43,
    "start_time": "2023-05-21T18:14:02.193Z"
   },
   {
    "duration": 40,
    "start_time": "2023-05-21T18:14:02.237Z"
   },
   {
    "duration": 21,
    "start_time": "2023-05-21T18:14:02.279Z"
   },
   {
    "duration": 41,
    "start_time": "2023-05-21T18:14:02.303Z"
   },
   {
    "duration": 30,
    "start_time": "2023-05-21T18:14:02.346Z"
   },
   {
    "duration": 15,
    "start_time": "2023-05-21T18:14:02.378Z"
   },
   {
    "duration": 14,
    "start_time": "2023-05-21T18:14:02.395Z"
   },
   {
    "duration": 49,
    "start_time": "2023-05-21T18:14:02.410Z"
   },
   {
    "duration": 32,
    "start_time": "2023-05-21T18:14:02.461Z"
   },
   {
    "duration": 48,
    "start_time": "2023-05-21T18:14:02.494Z"
   },
   {
    "duration": 23,
    "start_time": "2023-05-21T18:14:02.544Z"
   },
   {
    "duration": 24,
    "start_time": "2023-05-21T18:14:02.569Z"
   },
   {
    "duration": 8,
    "start_time": "2023-05-21T18:14:02.595Z"
   },
   {
    "duration": 45,
    "start_time": "2023-05-21T18:14:02.604Z"
   },
   {
    "duration": 25,
    "start_time": "2023-05-21T18:14:02.650Z"
   },
   {
    "duration": 11,
    "start_time": "2023-05-21T18:14:02.676Z"
   },
   {
    "duration": 29,
    "start_time": "2023-05-21T18:14:02.690Z"
   },
   {
    "duration": 23,
    "start_time": "2023-05-21T18:14:02.740Z"
   },
   {
    "duration": 194,
    "start_time": "2023-05-21T18:14:02.764Z"
   },
   {
    "duration": 129,
    "start_time": "2023-05-21T18:14:02.959Z"
   },
   {
    "duration": 232,
    "start_time": "2023-05-21T18:14:03.090Z"
   },
   {
    "duration": 354,
    "start_time": "2023-05-21T18:14:03.324Z"
   },
   {
    "duration": 9,
    "start_time": "2023-05-21T18:14:03.680Z"
   },
   {
    "duration": 244,
    "start_time": "2023-05-21T18:14:03.691Z"
   },
   {
    "duration": 330,
    "start_time": "2023-05-21T18:14:03.940Z"
   },
   {
    "duration": 296,
    "start_time": "2023-05-21T18:14:04.272Z"
   },
   {
    "duration": 235,
    "start_time": "2023-05-21T18:14:04.569Z"
   },
   {
    "duration": 38,
    "start_time": "2023-05-21T18:14:04.805Z"
   },
   {
    "duration": 22,
    "start_time": "2023-05-21T18:14:04.845Z"
   },
   {
    "duration": 15,
    "start_time": "2023-05-21T18:14:04.868Z"
   },
   {
    "duration": 55,
    "start_time": "2023-05-21T18:14:04.885Z"
   },
   {
    "duration": 8,
    "start_time": "2023-05-21T18:14:04.942Z"
   },
   {
    "duration": 363,
    "start_time": "2023-05-21T18:14:04.952Z"
   },
   {
    "duration": 330,
    "start_time": "2023-05-21T18:14:05.332Z"
   },
   {
    "duration": 117,
    "start_time": "2023-05-21T18:14:05.663Z"
   },
   {
    "duration": 4,
    "start_time": "2023-05-21T18:14:05.781Z"
   },
   {
    "duration": 4,
    "start_time": "2023-05-21T18:14:05.788Z"
   },
   {
    "duration": 49,
    "start_time": "2023-05-21T18:14:05.793Z"
   },
   {
    "duration": 24,
    "start_time": "2023-05-21T18:14:05.843Z"
   },
   {
    "duration": 6,
    "start_time": "2023-05-21T18:14:05.869Z"
   },
   {
    "duration": 24,
    "start_time": "2023-05-21T18:14:05.877Z"
   },
   {
    "duration": 42,
    "start_time": "2023-05-21T18:14:05.902Z"
   },
   {
    "duration": 30,
    "start_time": "2023-05-21T18:14:05.946Z"
   },
   {
    "duration": 3,
    "start_time": "2023-05-21T18:18:35.478Z"
   },
   {
    "duration": 38,
    "start_time": "2023-05-21T18:18:35.541Z"
   },
   {
    "duration": 9,
    "start_time": "2023-05-21T18:18:35.581Z"
   },
   {
    "duration": 76,
    "start_time": "2023-05-21T18:18:35.592Z"
   },
   {
    "duration": 9,
    "start_time": "2023-05-21T18:18:35.670Z"
   },
   {
    "duration": 19,
    "start_time": "2023-05-21T18:18:35.681Z"
   },
   {
    "duration": 9,
    "start_time": "2023-05-21T18:18:35.702Z"
   },
   {
    "duration": 53,
    "start_time": "2023-05-21T18:18:35.713Z"
   },
   {
    "duration": 13,
    "start_time": "2023-05-21T18:18:35.768Z"
   },
   {
    "duration": 8,
    "start_time": "2023-05-21T18:18:35.782Z"
   },
   {
    "duration": 16,
    "start_time": "2023-05-21T18:18:35.791Z"
   },
   {
    "duration": 4,
    "start_time": "2023-05-21T18:18:35.809Z"
   },
   {
    "duration": 43,
    "start_time": "2023-05-21T18:18:35.815Z"
   },
   {
    "duration": 5,
    "start_time": "2023-05-21T18:18:35.860Z"
   },
   {
    "duration": 6,
    "start_time": "2023-05-21T18:18:35.867Z"
   },
   {
    "duration": 8,
    "start_time": "2023-05-21T18:18:35.874Z"
   },
   {
    "duration": 26,
    "start_time": "2023-05-21T18:18:35.883Z"
   },
   {
    "duration": 43,
    "start_time": "2023-05-21T18:18:35.910Z"
   },
   {
    "duration": 27,
    "start_time": "2023-05-21T18:18:35.955Z"
   },
   {
    "duration": 23,
    "start_time": "2023-05-21T18:18:35.983Z"
   },
   {
    "duration": 53,
    "start_time": "2023-05-21T18:18:36.007Z"
   },
   {
    "duration": 4,
    "start_time": "2023-05-21T18:18:36.061Z"
   },
   {
    "duration": 15,
    "start_time": "2023-05-21T18:18:36.066Z"
   },
   {
    "duration": 19,
    "start_time": "2023-05-21T18:18:36.082Z"
   },
   {
    "duration": 201,
    "start_time": "2023-05-21T18:18:36.103Z"
   },
   {
    "duration": 161,
    "start_time": "2023-05-21T18:18:36.305Z"
   },
   {
    "duration": 262,
    "start_time": "2023-05-21T18:18:36.469Z"
   },
   {
    "duration": 438,
    "start_time": "2023-05-21T18:18:36.735Z"
   },
   {
    "duration": 9,
    "start_time": "2023-05-21T18:18:37.176Z"
   },
   {
    "duration": 241,
    "start_time": "2023-05-21T18:18:37.187Z"
   },
   {
    "duration": 255,
    "start_time": "2023-05-21T18:18:37.429Z"
   },
   {
    "duration": 303,
    "start_time": "2023-05-21T18:18:37.686Z"
   },
   {
    "duration": 278,
    "start_time": "2023-05-21T18:18:37.991Z"
   },
   {
    "duration": 23,
    "start_time": "2023-05-21T18:18:38.271Z"
   },
   {
    "duration": 60,
    "start_time": "2023-05-21T18:18:38.296Z"
   },
   {
    "duration": 15,
    "start_time": "2023-05-21T18:18:38.358Z"
   },
   {
    "duration": 9,
    "start_time": "2023-05-21T18:18:38.375Z"
   },
   {
    "duration": 14,
    "start_time": "2023-05-21T18:18:38.386Z"
   },
   {
    "duration": 405,
    "start_time": "2023-05-21T18:18:38.402Z"
   },
   {
    "duration": 388,
    "start_time": "2023-05-21T18:18:38.809Z"
   },
   {
    "duration": 144,
    "start_time": "2023-05-21T18:18:39.199Z"
   },
   {
    "duration": 11,
    "start_time": "2023-05-21T18:18:39.345Z"
   },
   {
    "duration": 5,
    "start_time": "2023-05-21T18:18:39.358Z"
   },
   {
    "duration": 14,
    "start_time": "2023-05-21T18:18:39.365Z"
   },
   {
    "duration": 12,
    "start_time": "2023-05-21T18:18:39.380Z"
   },
   {
    "duration": 53,
    "start_time": "2023-05-21T18:18:39.393Z"
   },
   {
    "duration": 7,
    "start_time": "2023-05-21T18:18:39.452Z"
   },
   {
    "duration": 8,
    "start_time": "2023-05-21T18:18:39.460Z"
   },
   {
    "duration": 11,
    "start_time": "2023-05-21T18:18:39.469Z"
   },
   {
    "duration": 1077,
    "start_time": "2023-05-21T20:08:58.848Z"
   },
   {
    "duration": 38,
    "start_time": "2023-05-21T20:08:59.927Z"
   },
   {
    "duration": 11,
    "start_time": "2023-05-21T20:08:59.966Z"
   },
   {
    "duration": 38,
    "start_time": "2023-05-21T20:08:59.979Z"
   },
   {
    "duration": 11,
    "start_time": "2023-05-21T20:09:00.018Z"
   },
   {
    "duration": 79,
    "start_time": "2023-05-21T20:09:00.031Z"
   },
   {
    "duration": 46,
    "start_time": "2023-05-21T20:09:00.111Z"
   },
   {
    "duration": 75,
    "start_time": "2023-05-21T20:09:00.159Z"
   },
   {
    "duration": 36,
    "start_time": "2023-05-21T20:09:00.236Z"
   },
   {
    "duration": 26,
    "start_time": "2023-05-21T20:09:00.276Z"
   },
   {
    "duration": 39,
    "start_time": "2023-05-21T20:09:00.304Z"
   },
   {
    "duration": 17,
    "start_time": "2023-05-21T20:09:00.345Z"
   },
   {
    "duration": 24,
    "start_time": "2023-05-21T20:09:00.364Z"
   },
   {
    "duration": 40,
    "start_time": "2023-05-21T20:09:00.390Z"
   },
   {
    "duration": 41,
    "start_time": "2023-05-21T20:09:00.432Z"
   },
   {
    "duration": 40,
    "start_time": "2023-05-21T20:09:00.475Z"
   },
   {
    "duration": 23,
    "start_time": "2023-05-21T20:09:00.517Z"
   },
   {
    "duration": 39,
    "start_time": "2023-05-21T20:09:00.542Z"
   },
   {
    "duration": 21,
    "start_time": "2023-05-21T20:09:00.583Z"
   },
   {
    "duration": 29,
    "start_time": "2023-05-21T20:09:00.606Z"
   },
   {
    "duration": 29,
    "start_time": "2023-05-21T20:09:00.637Z"
   },
   {
    "duration": 23,
    "start_time": "2023-05-21T20:09:00.667Z"
   },
   {
    "duration": 33,
    "start_time": "2023-05-21T20:09:00.691Z"
   },
   {
    "duration": 34,
    "start_time": "2023-05-21T20:09:00.725Z"
   },
   {
    "duration": 225,
    "start_time": "2023-05-21T20:09:00.761Z"
   },
   {
    "duration": 138,
    "start_time": "2023-05-21T20:09:00.987Z"
   },
   {
    "duration": 218,
    "start_time": "2023-05-21T20:09:01.127Z"
   },
   {
    "duration": 334,
    "start_time": "2023-05-21T20:09:01.349Z"
   },
   {
    "duration": 10,
    "start_time": "2023-05-21T20:09:01.684Z"
   },
   {
    "duration": 233,
    "start_time": "2023-05-21T20:09:01.695Z"
   },
   {
    "duration": 226,
    "start_time": "2023-05-21T20:09:01.930Z"
   },
   {
    "duration": 254,
    "start_time": "2023-05-21T20:09:02.157Z"
   },
   {
    "duration": 277,
    "start_time": "2023-05-21T20:09:02.417Z"
   },
   {
    "duration": 27,
    "start_time": "2023-05-21T20:09:02.695Z"
   },
   {
    "duration": 15,
    "start_time": "2023-05-21T20:09:02.723Z"
   },
   {
    "duration": 38,
    "start_time": "2023-05-21T20:09:02.740Z"
   },
   {
    "duration": 18,
    "start_time": "2023-05-21T20:09:02.780Z"
   },
   {
    "duration": 12,
    "start_time": "2023-05-21T20:09:02.800Z"
   },
   {
    "duration": 378,
    "start_time": "2023-05-21T20:09:02.814Z"
   },
   {
    "duration": 324,
    "start_time": "2023-05-21T20:09:03.193Z"
   },
   {
    "duration": 114,
    "start_time": "2023-05-21T20:09:03.519Z"
   },
   {
    "duration": 4,
    "start_time": "2023-05-21T20:09:03.635Z"
   },
   {
    "duration": 4,
    "start_time": "2023-05-21T20:09:03.641Z"
   },
   {
    "duration": 10,
    "start_time": "2023-05-21T20:09:03.647Z"
   },
   {
    "duration": 12,
    "start_time": "2023-05-21T20:09:03.659Z"
   },
   {
    "duration": 44,
    "start_time": "2023-05-21T20:09:03.673Z"
   },
   {
    "duration": 6,
    "start_time": "2023-05-21T20:09:03.719Z"
   },
   {
    "duration": 6,
    "start_time": "2023-05-21T20:09:03.727Z"
   },
   {
    "duration": 12,
    "start_time": "2023-05-21T20:09:03.735Z"
   },
   {
    "duration": 338,
    "start_time": "2023-05-21T20:18:28.898Z"
   },
   {
    "duration": 1146,
    "start_time": "2023-05-21T20:19:43.084Z"
   },
   {
    "duration": 38,
    "start_time": "2023-05-21T20:19:44.234Z"
   },
   {
    "duration": 10,
    "start_time": "2023-05-21T20:19:44.274Z"
   },
   {
    "duration": 48,
    "start_time": "2023-05-21T20:19:44.287Z"
   },
   {
    "duration": 10,
    "start_time": "2023-05-21T20:19:44.337Z"
   },
   {
    "duration": 19,
    "start_time": "2023-05-21T20:19:44.348Z"
   },
   {
    "duration": 10,
    "start_time": "2023-05-21T20:19:44.368Z"
   },
   {
    "duration": 54,
    "start_time": "2023-05-21T20:19:44.380Z"
   },
   {
    "duration": 30,
    "start_time": "2023-05-21T20:19:44.436Z"
   },
   {
    "duration": 20,
    "start_time": "2023-05-21T20:19:44.469Z"
   },
   {
    "duration": 14,
    "start_time": "2023-05-21T20:19:44.491Z"
   },
   {
    "duration": 20,
    "start_time": "2023-05-21T20:19:44.507Z"
   },
   {
    "duration": 12,
    "start_time": "2023-05-21T20:19:44.529Z"
   },
   {
    "duration": 9,
    "start_time": "2023-05-21T20:19:44.543Z"
   },
   {
    "duration": 17,
    "start_time": "2023-05-21T20:19:44.554Z"
   },
   {
    "duration": 7,
    "start_time": "2023-05-21T20:19:44.572Z"
   },
   {
    "duration": 7,
    "start_time": "2023-05-21T20:19:44.580Z"
   },
   {
    "duration": 8,
    "start_time": "2023-05-21T20:19:44.589Z"
   },
   {
    "duration": 16,
    "start_time": "2023-05-21T20:19:44.599Z"
   },
   {
    "duration": 23,
    "start_time": "2023-05-21T20:19:44.624Z"
   },
   {
    "duration": 17,
    "start_time": "2023-05-21T20:19:44.649Z"
   },
   {
    "duration": 20,
    "start_time": "2023-05-21T20:19:44.668Z"
   },
   {
    "duration": 10,
    "start_time": "2023-05-21T20:19:44.690Z"
   },
   {
    "duration": 13,
    "start_time": "2023-05-21T20:19:44.702Z"
   },
   {
    "duration": 191,
    "start_time": "2023-05-21T20:19:44.717Z"
   },
   {
    "duration": 146,
    "start_time": "2023-05-21T20:19:44.910Z"
   },
   {
    "duration": 277,
    "start_time": "2023-05-21T20:19:45.057Z"
   },
   {
    "duration": 340,
    "start_time": "2023-05-21T20:19:45.337Z"
   },
   {
    "duration": 10,
    "start_time": "2023-05-21T20:19:45.678Z"
   },
   {
    "duration": 242,
    "start_time": "2023-05-21T20:19:45.689Z"
   },
   {
    "duration": 232,
    "start_time": "2023-05-21T20:19:45.933Z"
   },
   {
    "duration": 264,
    "start_time": "2023-05-21T20:19:46.167Z"
   },
   {
    "duration": 274,
    "start_time": "2023-05-21T20:19:46.433Z"
   },
   {
    "duration": 27,
    "start_time": "2023-05-21T20:19:46.709Z"
   },
   {
    "duration": 15,
    "start_time": "2023-05-21T20:19:46.738Z"
   },
   {
    "duration": 12,
    "start_time": "2023-05-21T20:19:46.754Z"
   },
   {
    "duration": 9,
    "start_time": "2023-05-21T20:19:46.767Z"
   },
   {
    "duration": 8,
    "start_time": "2023-05-21T20:19:46.777Z"
   },
   {
    "duration": 381,
    "start_time": "2023-05-21T20:19:46.786Z"
   },
   {
    "duration": 325,
    "start_time": "2023-05-21T20:19:47.168Z"
   },
   {
    "duration": 119,
    "start_time": "2023-05-21T20:19:47.494Z"
   },
   {
    "duration": 17,
    "start_time": "2023-05-21T20:19:47.614Z"
   },
   {
    "duration": 5,
    "start_time": "2023-05-21T20:19:47.633Z"
   },
   {
    "duration": 13,
    "start_time": "2023-05-21T20:19:47.639Z"
   },
   {
    "duration": 21,
    "start_time": "2023-05-21T20:19:47.653Z"
   },
   {
    "duration": 7,
    "start_time": "2023-05-21T20:19:47.676Z"
   },
   {
    "duration": 7,
    "start_time": "2023-05-21T20:19:47.685Z"
   },
   {
    "duration": 6,
    "start_time": "2023-05-21T20:19:47.694Z"
   },
   {
    "duration": 41,
    "start_time": "2023-05-21T20:19:47.701Z"
   },
   {
    "duration": 1318,
    "start_time": "2023-05-22T07:02:07.774Z"
   },
   {
    "duration": 101,
    "start_time": "2023-05-22T07:02:09.094Z"
   },
   {
    "duration": 11,
    "start_time": "2023-05-22T07:02:09.197Z"
   },
   {
    "duration": 176,
    "start_time": "2023-05-22T07:02:09.211Z"
   },
   {
    "duration": 12,
    "start_time": "2023-05-22T07:02:09.389Z"
   },
   {
    "duration": 64,
    "start_time": "2023-05-22T07:02:09.403Z"
   },
   {
    "duration": 9,
    "start_time": "2023-05-22T07:02:09.469Z"
   },
   {
    "duration": 18,
    "start_time": "2023-05-22T07:02:09.480Z"
   },
   {
    "duration": 15,
    "start_time": "2023-05-22T07:02:09.500Z"
   },
   {
    "duration": 8,
    "start_time": "2023-05-22T07:02:09.518Z"
   },
   {
    "duration": 11,
    "start_time": "2023-05-22T07:02:09.528Z"
   },
   {
    "duration": 8,
    "start_time": "2023-05-22T07:02:09.540Z"
   },
   {
    "duration": 7,
    "start_time": "2023-05-22T07:02:09.549Z"
   },
   {
    "duration": 9,
    "start_time": "2023-05-22T07:02:09.557Z"
   },
   {
    "duration": 12,
    "start_time": "2023-05-22T07:02:09.568Z"
   },
   {
    "duration": 7,
    "start_time": "2023-05-22T07:02:09.583Z"
   },
   {
    "duration": 5,
    "start_time": "2023-05-22T07:02:09.592Z"
   },
   {
    "duration": 32,
    "start_time": "2023-05-22T07:02:09.599Z"
   },
   {
    "duration": 6,
    "start_time": "2023-05-22T07:02:09.634Z"
   },
   {
    "duration": 10,
    "start_time": "2023-05-22T07:02:09.642Z"
   },
   {
    "duration": 10,
    "start_time": "2023-05-22T07:02:09.655Z"
   },
   {
    "duration": 5,
    "start_time": "2023-05-22T07:02:09.667Z"
   },
   {
    "duration": 7,
    "start_time": "2023-05-22T07:02:09.674Z"
   },
   {
    "duration": 49,
    "start_time": "2023-05-22T07:02:09.683Z"
   },
   {
    "duration": 198,
    "start_time": "2023-05-22T07:02:09.734Z"
   },
   {
    "duration": 152,
    "start_time": "2023-05-22T07:02:09.934Z"
   },
   {
    "duration": 251,
    "start_time": "2023-05-22T07:02:10.087Z"
   },
   {
    "duration": 364,
    "start_time": "2023-05-22T07:02:10.341Z"
   },
   {
    "duration": 18,
    "start_time": "2023-05-22T07:02:10.707Z"
   },
   {
    "duration": 257,
    "start_time": "2023-05-22T07:02:10.727Z"
   },
   {
    "duration": 237,
    "start_time": "2023-05-22T07:02:10.985Z"
   },
   {
    "duration": 317,
    "start_time": "2023-05-22T07:02:11.224Z"
   },
   {
    "duration": 307,
    "start_time": "2023-05-22T07:02:11.543Z"
   },
   {
    "duration": 23,
    "start_time": "2023-05-22T07:02:11.852Z"
   },
   {
    "duration": 17,
    "start_time": "2023-05-22T07:02:11.878Z"
   },
   {
    "duration": 39,
    "start_time": "2023-05-22T07:02:11.896Z"
   },
   {
    "duration": 10,
    "start_time": "2023-05-22T07:02:11.936Z"
   },
   {
    "duration": 7,
    "start_time": "2023-05-22T07:02:11.948Z"
   },
   {
    "duration": 395,
    "start_time": "2023-05-22T07:02:11.957Z"
   },
   {
    "duration": 364,
    "start_time": "2023-05-22T07:02:12.355Z"
   },
   {
    "duration": 120,
    "start_time": "2023-05-22T07:02:12.720Z"
   },
   {
    "duration": 4,
    "start_time": "2023-05-22T07:02:12.842Z"
   },
   {
    "duration": 32,
    "start_time": "2023-05-22T07:02:12.848Z"
   },
   {
    "duration": 38,
    "start_time": "2023-05-22T07:02:12.882Z"
   },
   {
    "duration": 14,
    "start_time": "2023-05-22T07:02:12.923Z"
   },
   {
    "duration": 23,
    "start_time": "2023-05-22T07:02:12.940Z"
   },
   {
    "duration": 11,
    "start_time": "2023-05-22T07:02:12.966Z"
   },
   {
    "duration": 6,
    "start_time": "2023-05-22T07:02:12.978Z"
   },
   {
    "duration": 12,
    "start_time": "2023-05-22T07:02:12.986Z"
   },
   {
    "duration": 99,
    "start_time": "2023-05-22T07:03:58.033Z"
   },
   {
    "duration": 6,
    "start_time": "2023-05-22T07:04:14.171Z"
   },
   {
    "duration": 8,
    "start_time": "2023-05-22T07:04:30.954Z"
   },
   {
    "duration": 1286,
    "start_time": "2023-05-22T08:44:00.371Z"
   },
   {
    "duration": 97,
    "start_time": "2023-05-22T08:44:01.659Z"
   },
   {
    "duration": 13,
    "start_time": "2023-05-22T08:44:01.758Z"
   },
   {
    "duration": 177,
    "start_time": "2023-05-22T08:44:01.774Z"
   },
   {
    "duration": 10,
    "start_time": "2023-05-22T08:44:01.953Z"
   },
   {
    "duration": 67,
    "start_time": "2023-05-22T08:44:01.965Z"
   },
   {
    "duration": 9,
    "start_time": "2023-05-22T08:44:02.033Z"
   },
   {
    "duration": 23,
    "start_time": "2023-05-22T08:44:02.044Z"
   },
   {
    "duration": 14,
    "start_time": "2023-05-22T08:44:02.069Z"
   },
   {
    "duration": 11,
    "start_time": "2023-05-22T08:44:02.085Z"
   },
   {
    "duration": 21,
    "start_time": "2023-05-22T08:44:02.098Z"
   },
   {
    "duration": 27,
    "start_time": "2023-05-22T08:44:02.121Z"
   },
   {
    "duration": 24,
    "start_time": "2023-05-22T08:44:02.149Z"
   },
   {
    "duration": 5,
    "start_time": "2023-05-22T08:44:02.176Z"
   },
   {
    "duration": 10,
    "start_time": "2023-05-22T08:44:02.182Z"
   },
   {
    "duration": 15,
    "start_time": "2023-05-22T08:44:02.193Z"
   },
   {
    "duration": 14,
    "start_time": "2023-05-22T08:44:02.210Z"
   },
   {
    "duration": 7,
    "start_time": "2023-05-22T08:44:02.225Z"
   },
   {
    "duration": 12,
    "start_time": "2023-05-22T08:44:02.234Z"
   },
   {
    "duration": 12,
    "start_time": "2023-05-22T08:44:02.248Z"
   },
   {
    "duration": 11,
    "start_time": "2023-05-22T08:44:02.262Z"
   },
   {
    "duration": 8,
    "start_time": "2023-05-22T08:44:02.275Z"
   },
   {
    "duration": 4,
    "start_time": "2023-05-22T08:44:02.285Z"
   },
   {
    "duration": 19,
    "start_time": "2023-05-22T08:44:02.291Z"
   },
   {
    "duration": 75,
    "start_time": "2023-05-22T08:44:02.311Z"
   },
   {
    "duration": 207,
    "start_time": "2023-05-22T08:44:02.387Z"
   },
   {
    "duration": 139,
    "start_time": "2023-05-22T08:44:02.595Z"
   },
   {
    "duration": 241,
    "start_time": "2023-05-22T08:44:02.736Z"
   },
   {
    "duration": 366,
    "start_time": "2023-05-22T08:44:02.979Z"
   },
   {
    "duration": 11,
    "start_time": "2023-05-22T08:44:03.350Z"
   },
   {
    "duration": 231,
    "start_time": "2023-05-22T08:44:03.363Z"
   },
   {
    "duration": 241,
    "start_time": "2023-05-22T08:44:03.596Z"
   },
   {
    "duration": 293,
    "start_time": "2023-05-22T08:44:03.838Z"
   },
   {
    "duration": 326,
    "start_time": "2023-05-22T08:44:04.134Z"
   },
   {
    "duration": 28,
    "start_time": "2023-05-22T08:44:04.462Z"
   },
   {
    "duration": 21,
    "start_time": "2023-05-22T08:44:04.492Z"
   },
   {
    "duration": 38,
    "start_time": "2023-05-22T08:44:04.515Z"
   },
   {
    "duration": 9,
    "start_time": "2023-05-22T08:44:04.555Z"
   },
   {
    "duration": 8,
    "start_time": "2023-05-22T08:44:04.565Z"
   },
   {
    "duration": 382,
    "start_time": "2023-05-22T08:44:04.574Z"
   },
   {
    "duration": 364,
    "start_time": "2023-05-22T08:44:04.960Z"
   },
   {
    "duration": 105,
    "start_time": "2023-05-22T08:44:05.326Z"
   },
   {
    "duration": 0,
    "start_time": "2023-05-22T08:44:05.433Z"
   },
   {
    "duration": 0,
    "start_time": "2023-05-22T08:44:05.434Z"
   },
   {
    "duration": 0,
    "start_time": "2023-05-22T08:44:05.435Z"
   },
   {
    "duration": 0,
    "start_time": "2023-05-22T08:44:05.436Z"
   },
   {
    "duration": 0,
    "start_time": "2023-05-22T08:44:05.437Z"
   },
   {
    "duration": 0,
    "start_time": "2023-05-22T08:44:05.438Z"
   },
   {
    "duration": 0,
    "start_time": "2023-05-22T08:44:05.439Z"
   },
   {
    "duration": 0,
    "start_time": "2023-05-22T08:44:05.440Z"
   },
   {
    "duration": 0,
    "start_time": "2023-05-22T08:44:05.450Z"
   },
   {
    "duration": 4,
    "start_time": "2023-05-22T08:44:26.972Z"
   },
   {
    "duration": 34,
    "start_time": "2023-05-22T08:44:26.978Z"
   },
   {
    "duration": 11,
    "start_time": "2023-05-22T08:44:27.014Z"
   },
   {
    "duration": 31,
    "start_time": "2023-05-22T08:44:27.027Z"
   },
   {
    "duration": 11,
    "start_time": "2023-05-22T08:44:27.060Z"
   },
   {
    "duration": 19,
    "start_time": "2023-05-22T08:44:27.073Z"
   },
   {
    "duration": 10,
    "start_time": "2023-05-22T08:44:27.093Z"
   },
   {
    "duration": 16,
    "start_time": "2023-05-22T08:44:27.105Z"
   },
   {
    "duration": 15,
    "start_time": "2023-05-22T08:44:27.150Z"
   },
   {
    "duration": 8,
    "start_time": "2023-05-22T08:44:27.167Z"
   },
   {
    "duration": 6,
    "start_time": "2023-05-22T08:44:27.177Z"
   },
   {
    "duration": 4,
    "start_time": "2023-05-22T08:44:27.185Z"
   },
   {
    "duration": 6,
    "start_time": "2023-05-22T08:44:27.191Z"
   },
   {
    "duration": 5,
    "start_time": "2023-05-22T08:44:27.198Z"
   },
   {
    "duration": 46,
    "start_time": "2023-05-22T08:44:27.204Z"
   },
   {
    "duration": 4,
    "start_time": "2023-05-22T08:44:27.252Z"
   },
   {
    "duration": 5,
    "start_time": "2023-05-22T08:44:27.257Z"
   },
   {
    "duration": 7,
    "start_time": "2023-05-22T08:44:27.263Z"
   },
   {
    "duration": 10,
    "start_time": "2023-05-22T08:44:27.271Z"
   },
   {
    "duration": 5,
    "start_time": "2023-05-22T08:44:27.283Z"
   },
   {
    "duration": 7,
    "start_time": "2023-05-22T08:44:27.289Z"
   },
   {
    "duration": 8,
    "start_time": "2023-05-22T08:44:27.298Z"
   },
   {
    "duration": 14,
    "start_time": "2023-05-22T08:44:27.307Z"
   },
   {
    "duration": 9,
    "start_time": "2023-05-22T08:44:27.349Z"
   },
   {
    "duration": 9,
    "start_time": "2023-05-22T08:44:27.360Z"
   },
   {
    "duration": 179,
    "start_time": "2023-05-22T08:44:27.371Z"
   },
   {
    "duration": 145,
    "start_time": "2023-05-22T08:44:27.552Z"
   },
   {
    "duration": 234,
    "start_time": "2023-05-22T08:44:27.698Z"
   },
   {
    "duration": 386,
    "start_time": "2023-05-22T08:44:27.936Z"
   },
   {
    "duration": 28,
    "start_time": "2023-05-22T08:44:28.323Z"
   },
   {
    "duration": 252,
    "start_time": "2023-05-22T08:44:28.353Z"
   },
   {
    "duration": 484,
    "start_time": "2023-05-22T08:44:28.606Z"
   },
   {
    "duration": 320,
    "start_time": "2023-05-22T08:44:29.092Z"
   },
   {
    "duration": 228,
    "start_time": "2023-05-22T08:44:29.414Z"
   },
   {
    "duration": 27,
    "start_time": "2023-05-22T08:44:29.643Z"
   },
   {
    "duration": 18,
    "start_time": "2023-05-22T08:44:29.672Z"
   },
   {
    "duration": 14,
    "start_time": "2023-05-22T08:44:29.692Z"
   },
   {
    "duration": 9,
    "start_time": "2023-05-22T08:44:29.707Z"
   },
   {
    "duration": 8,
    "start_time": "2023-05-22T08:44:29.750Z"
   },
   {
    "duration": 423,
    "start_time": "2023-05-22T08:44:29.760Z"
   },
   {
    "duration": 374,
    "start_time": "2023-05-22T08:44:30.185Z"
   },
   {
    "duration": 4,
    "start_time": "2023-05-22T08:44:30.560Z"
   },
   {
    "duration": 169,
    "start_time": "2023-05-22T08:44:30.566Z"
   },
   {
    "duration": 3,
    "start_time": "2023-05-22T08:44:30.736Z"
   },
   {
    "duration": 48,
    "start_time": "2023-05-22T08:44:30.741Z"
   },
   {
    "duration": 47,
    "start_time": "2023-05-22T08:44:30.791Z"
   },
   {
    "duration": 51,
    "start_time": "2023-05-22T08:44:30.840Z"
   },
   {
    "duration": 48,
    "start_time": "2023-05-22T08:44:30.893Z"
   },
   {
    "duration": 44,
    "start_time": "2023-05-22T08:44:30.942Z"
   },
   {
    "duration": 29,
    "start_time": "2023-05-22T08:44:30.988Z"
   },
   {
    "duration": 52,
    "start_time": "2023-05-22T08:44:31.018Z"
   },
   {
    "duration": 4,
    "start_time": "2023-05-22T08:46:34.932Z"
   },
   {
    "duration": 109,
    "start_time": "2023-05-22T08:46:37.964Z"
   },
   {
    "duration": 4,
    "start_time": "2023-05-22T08:47:01.212Z"
   },
   {
    "duration": 80,
    "start_time": "2023-05-22T08:47:01.217Z"
   },
   {
    "duration": 12,
    "start_time": "2023-05-22T08:47:01.299Z"
   },
   {
    "duration": 66,
    "start_time": "2023-05-22T08:47:01.313Z"
   },
   {
    "duration": 12,
    "start_time": "2023-05-22T08:47:01.381Z"
   },
   {
    "duration": 40,
    "start_time": "2023-05-22T08:47:01.394Z"
   },
   {
    "duration": 26,
    "start_time": "2023-05-22T08:47:01.436Z"
   },
   {
    "duration": 43,
    "start_time": "2023-05-22T08:47:01.464Z"
   },
   {
    "duration": 23,
    "start_time": "2023-05-22T08:47:01.509Z"
   },
   {
    "duration": 21,
    "start_time": "2023-05-22T08:47:01.534Z"
   },
   {
    "duration": 32,
    "start_time": "2023-05-22T08:47:01.558Z"
   },
   {
    "duration": 30,
    "start_time": "2023-05-22T08:47:01.592Z"
   },
   {
    "duration": 35,
    "start_time": "2023-05-22T08:47:01.624Z"
   },
   {
    "duration": 31,
    "start_time": "2023-05-22T08:47:01.661Z"
   },
   {
    "duration": 36,
    "start_time": "2023-05-22T08:47:01.694Z"
   },
   {
    "duration": 30,
    "start_time": "2023-05-22T08:47:01.731Z"
   },
   {
    "duration": 31,
    "start_time": "2023-05-22T08:47:01.763Z"
   },
   {
    "duration": 27,
    "start_time": "2023-05-22T08:47:01.796Z"
   },
   {
    "duration": 99,
    "start_time": "2023-05-22T08:47:01.825Z"
   },
   {
    "duration": 33,
    "start_time": "2023-05-22T08:47:01.925Z"
   },
   {
    "duration": 65,
    "start_time": "2023-05-22T08:47:01.960Z"
   },
   {
    "duration": 64,
    "start_time": "2023-05-22T08:47:02.027Z"
   },
   {
    "duration": 28,
    "start_time": "2023-05-22T08:47:02.093Z"
   },
   {
    "duration": 19,
    "start_time": "2023-05-22T08:47:02.122Z"
   },
   {
    "duration": 12,
    "start_time": "2023-05-22T08:47:02.143Z"
   },
   {
    "duration": 176,
    "start_time": "2023-05-22T08:47:02.156Z"
   },
   {
    "duration": 150,
    "start_time": "2023-05-22T08:47:02.334Z"
   },
   {
    "duration": 253,
    "start_time": "2023-05-22T08:47:02.486Z"
   },
   {
    "duration": 470,
    "start_time": "2023-05-22T08:47:02.742Z"
   },
   {
    "duration": 13,
    "start_time": "2023-05-22T08:47:03.214Z"
   },
   {
    "duration": 266,
    "start_time": "2023-05-22T08:47:03.229Z"
   },
   {
    "duration": 235,
    "start_time": "2023-05-22T08:47:03.496Z"
   },
   {
    "duration": 270,
    "start_time": "2023-05-22T08:47:03.733Z"
   },
   {
    "duration": 307,
    "start_time": "2023-05-22T08:47:04.005Z"
   },
   {
    "duration": 23,
    "start_time": "2023-05-22T08:47:04.313Z"
   },
   {
    "duration": 27,
    "start_time": "2023-05-22T08:47:04.338Z"
   },
   {
    "duration": 25,
    "start_time": "2023-05-22T08:47:04.367Z"
   },
   {
    "duration": 8,
    "start_time": "2023-05-22T08:47:04.394Z"
   },
   {
    "duration": 9,
    "start_time": "2023-05-22T08:47:04.403Z"
   },
   {
    "duration": 400,
    "start_time": "2023-05-22T08:47:04.414Z"
   },
   {
    "duration": 360,
    "start_time": "2023-05-22T08:47:04.815Z"
   },
   {
    "duration": 3,
    "start_time": "2023-05-22T08:47:05.177Z"
   },
   {
    "duration": 114,
    "start_time": "2023-05-22T08:47:05.181Z"
   },
   {
    "duration": 3,
    "start_time": "2023-05-22T08:47:05.297Z"
   },
   {
    "duration": 9,
    "start_time": "2023-05-22T08:47:05.302Z"
   },
   {
    "duration": 20,
    "start_time": "2023-05-22T08:47:05.313Z"
   },
   {
    "duration": 36,
    "start_time": "2023-05-22T08:47:05.335Z"
   },
   {
    "duration": 18,
    "start_time": "2023-05-22T08:47:05.373Z"
   },
   {
    "duration": 13,
    "start_time": "2023-05-22T08:47:05.393Z"
   },
   {
    "duration": 14,
    "start_time": "2023-05-22T08:47:05.408Z"
   },
   {
    "duration": 36,
    "start_time": "2023-05-22T08:47:05.423Z"
   },
   {
    "duration": 1555,
    "start_time": "2023-05-22T10:02:17.337Z"
   },
   {
    "duration": 91,
    "start_time": "2023-05-22T10:02:18.895Z"
   },
   {
    "duration": 14,
    "start_time": "2023-05-22T10:02:18.988Z"
   },
   {
    "duration": 88,
    "start_time": "2023-05-22T10:02:19.005Z"
   },
   {
    "duration": 14,
    "start_time": "2023-05-22T10:02:19.096Z"
   },
   {
    "duration": 74,
    "start_time": "2023-05-22T10:02:19.113Z"
   },
   {
    "duration": 12,
    "start_time": "2023-05-22T10:02:19.189Z"
   },
   {
    "duration": 48,
    "start_time": "2023-05-22T10:02:19.203Z"
   },
   {
    "duration": 18,
    "start_time": "2023-05-22T10:02:19.253Z"
   },
   {
    "duration": 16,
    "start_time": "2023-05-22T10:02:19.273Z"
   },
   {
    "duration": 23,
    "start_time": "2023-05-22T10:02:19.291Z"
   },
   {
    "duration": 8,
    "start_time": "2023-05-22T10:02:19.317Z"
   },
   {
    "duration": 37,
    "start_time": "2023-05-22T10:02:19.327Z"
   },
   {
    "duration": 19,
    "start_time": "2023-05-22T10:02:19.368Z"
   },
   {
    "duration": 24,
    "start_time": "2023-05-22T10:02:19.389Z"
   },
   {
    "duration": 15,
    "start_time": "2023-05-22T10:02:19.415Z"
   },
   {
    "duration": 10,
    "start_time": "2023-05-22T10:02:19.432Z"
   },
   {
    "duration": 11,
    "start_time": "2023-05-22T10:02:19.444Z"
   },
   {
    "duration": 25,
    "start_time": "2023-05-22T10:02:19.457Z"
   },
   {
    "duration": 11,
    "start_time": "2023-05-22T10:02:19.485Z"
   },
   {
    "duration": 11,
    "start_time": "2023-05-22T10:02:19.498Z"
   },
   {
    "duration": 18,
    "start_time": "2023-05-22T10:02:19.511Z"
   },
   {
    "duration": 15,
    "start_time": "2023-05-22T10:02:19.531Z"
   },
   {
    "duration": 10,
    "start_time": "2023-05-22T10:02:19.548Z"
   },
   {
    "duration": 31,
    "start_time": "2023-05-22T10:02:19.560Z"
   },
   {
    "duration": 208,
    "start_time": "2023-05-22T10:02:19.593Z"
   },
   {
    "duration": 161,
    "start_time": "2023-05-22T10:02:19.803Z"
   },
   {
    "duration": 275,
    "start_time": "2023-05-22T10:02:19.966Z"
   },
   {
    "duration": 421,
    "start_time": "2023-05-22T10:02:20.243Z"
   },
   {
    "duration": 17,
    "start_time": "2023-05-22T10:02:20.666Z"
   },
   {
    "duration": 293,
    "start_time": "2023-05-22T10:02:20.685Z"
   },
   {
    "duration": 291,
    "start_time": "2023-05-22T10:02:20.980Z"
   },
   {
    "duration": 317,
    "start_time": "2023-05-22T10:02:21.273Z"
   },
   {
    "duration": 388,
    "start_time": "2023-05-22T10:02:21.592Z"
   },
   {
    "duration": 28,
    "start_time": "2023-05-22T10:02:21.982Z"
   },
   {
    "duration": 37,
    "start_time": "2023-05-22T10:02:22.012Z"
   },
   {
    "duration": 81,
    "start_time": "2023-05-22T10:02:22.050Z"
   },
   {
    "duration": 40,
    "start_time": "2023-05-22T10:02:22.134Z"
   },
   {
    "duration": 38,
    "start_time": "2023-05-22T10:02:22.176Z"
   },
   {
    "duration": 528,
    "start_time": "2023-05-22T10:02:22.217Z"
   },
   {
    "duration": 428,
    "start_time": "2023-05-22T10:02:22.752Z"
   },
   {
    "duration": 4,
    "start_time": "2023-05-22T10:02:23.183Z"
   },
   {
    "duration": 155,
    "start_time": "2023-05-22T10:02:23.190Z"
   },
   {
    "duration": 5,
    "start_time": "2023-05-22T10:02:23.347Z"
   },
   {
    "duration": 43,
    "start_time": "2023-05-22T10:02:23.354Z"
   },
   {
    "duration": 71,
    "start_time": "2023-05-22T10:02:23.400Z"
   },
   {
    "duration": 63,
    "start_time": "2023-05-22T10:02:23.474Z"
   },
   {
    "duration": 54,
    "start_time": "2023-05-22T10:02:23.539Z"
   },
   {
    "duration": 29,
    "start_time": "2023-05-22T10:02:23.595Z"
   },
   {
    "duration": 39,
    "start_time": "2023-05-22T10:02:23.627Z"
   },
   {
    "duration": 26,
    "start_time": "2023-05-22T10:02:23.668Z"
   },
   {
    "duration": 70,
    "start_time": "2023-05-22T10:02:23.696Z"
   },
   {
    "duration": 154,
    "start_time": "2023-05-22T10:03:02.710Z"
   },
   {
    "duration": 60,
    "start_time": "2023-05-22T10:03:18.989Z"
   },
   {
    "duration": 84,
    "start_time": "2023-05-22T10:03:24.644Z"
   },
   {
    "duration": 239,
    "start_time": "2023-05-22T10:05:53.837Z"
   },
   {
    "duration": 84,
    "start_time": "2023-05-22T10:09:34.214Z"
   },
   {
    "duration": 6,
    "start_time": "2023-05-22T10:11:27.737Z"
   },
   {
    "duration": 7,
    "start_time": "2023-05-22T10:11:52.248Z"
   },
   {
    "duration": 2021,
    "start_time": "2023-05-22T10:11:59.065Z"
   },
   {
    "duration": 2183,
    "start_time": "2023-05-22T10:12:35.096Z"
   },
   {
    "duration": 2184,
    "start_time": "2023-05-22T10:21:08.968Z"
   },
   {
    "duration": 64,
    "start_time": "2023-05-22T10:30:25.587Z"
   },
   {
    "duration": 6,
    "start_time": "2023-05-22T10:31:11.618Z"
   },
   {
    "duration": 754,
    "start_time": "2023-05-22T10:31:12.684Z"
   },
   {
    "duration": 6,
    "start_time": "2023-05-22T10:31:20.888Z"
   },
   {
    "duration": 2226,
    "start_time": "2023-05-22T10:31:29.102Z"
   },
   {
    "duration": 7,
    "start_time": "2023-05-22T10:54:03.756Z"
   },
   {
    "duration": 2414,
    "start_time": "2023-05-22T10:54:09.778Z"
   },
   {
    "duration": 1252,
    "start_time": "2023-05-23T07:37:46.822Z"
   },
   {
    "duration": 80,
    "start_time": "2023-05-23T07:37:48.076Z"
   },
   {
    "duration": 10,
    "start_time": "2023-05-23T07:37:48.158Z"
   },
   {
    "duration": 79,
    "start_time": "2023-05-23T07:37:48.170Z"
   },
   {
    "duration": 10,
    "start_time": "2023-05-23T07:37:48.251Z"
   },
   {
    "duration": 60,
    "start_time": "2023-05-23T07:37:48.263Z"
   },
   {
    "duration": 9,
    "start_time": "2023-05-23T07:37:48.324Z"
   },
   {
    "duration": 34,
    "start_time": "2023-05-23T07:37:48.335Z"
   },
   {
    "duration": 12,
    "start_time": "2023-05-23T07:37:48.371Z"
   },
   {
    "duration": 9,
    "start_time": "2023-05-23T07:37:48.386Z"
   },
   {
    "duration": 14,
    "start_time": "2023-05-23T07:37:48.397Z"
   },
   {
    "duration": 15,
    "start_time": "2023-05-23T07:37:48.413Z"
   },
   {
    "duration": 21,
    "start_time": "2023-05-23T07:37:48.430Z"
   },
   {
    "duration": 7,
    "start_time": "2023-05-23T07:37:48.453Z"
   },
   {
    "duration": 13,
    "start_time": "2023-05-23T07:37:48.461Z"
   },
   {
    "duration": 5,
    "start_time": "2023-05-23T07:37:48.475Z"
   },
   {
    "duration": 5,
    "start_time": "2023-05-23T07:37:48.481Z"
   },
   {
    "duration": 10,
    "start_time": "2023-05-23T07:37:48.487Z"
   },
   {
    "duration": 6,
    "start_time": "2023-05-23T07:37:48.499Z"
   },
   {
    "duration": 8,
    "start_time": "2023-05-23T07:37:48.506Z"
   },
   {
    "duration": 8,
    "start_time": "2023-05-23T07:37:48.515Z"
   },
   {
    "duration": 7,
    "start_time": "2023-05-23T07:37:48.525Z"
   },
   {
    "duration": 4,
    "start_time": "2023-05-23T07:37:48.533Z"
   },
   {
    "duration": 6,
    "start_time": "2023-05-23T07:37:48.538Z"
   },
   {
    "duration": 12,
    "start_time": "2023-05-23T07:37:48.545Z"
   },
   {
    "duration": 184,
    "start_time": "2023-05-23T07:37:48.558Z"
   },
   {
    "duration": 120,
    "start_time": "2023-05-23T07:37:48.743Z"
   },
   {
    "duration": 231,
    "start_time": "2023-05-23T07:37:48.866Z"
   },
   {
    "duration": 323,
    "start_time": "2023-05-23T07:37:49.098Z"
   },
   {
    "duration": 10,
    "start_time": "2023-05-23T07:37:49.423Z"
   },
   {
    "duration": 205,
    "start_time": "2023-05-23T07:37:49.434Z"
   },
   {
    "duration": 228,
    "start_time": "2023-05-23T07:37:49.641Z"
   },
   {
    "duration": 251,
    "start_time": "2023-05-23T07:37:49.871Z"
   },
   {
    "duration": 273,
    "start_time": "2023-05-23T07:37:50.124Z"
   },
   {
    "duration": 22,
    "start_time": "2023-05-23T07:37:50.399Z"
   },
   {
    "duration": 17,
    "start_time": "2023-05-23T07:37:50.423Z"
   },
   {
    "duration": 13,
    "start_time": "2023-05-23T07:37:50.441Z"
   },
   {
    "duration": 43,
    "start_time": "2023-05-23T07:37:50.456Z"
   },
   {
    "duration": 8,
    "start_time": "2023-05-23T07:37:50.500Z"
   },
   {
    "duration": 356,
    "start_time": "2023-05-23T07:37:50.509Z"
   },
   {
    "duration": 318,
    "start_time": "2023-05-23T07:37:50.867Z"
   },
   {
    "duration": 3,
    "start_time": "2023-05-23T07:37:51.187Z"
   },
   {
    "duration": 120,
    "start_time": "2023-05-23T07:37:51.195Z"
   },
   {
    "duration": 3,
    "start_time": "2023-05-23T07:37:51.317Z"
   },
   {
    "duration": 22,
    "start_time": "2023-05-23T07:37:51.322Z"
   },
   {
    "duration": 36,
    "start_time": "2023-05-23T07:37:51.345Z"
   },
   {
    "duration": 29,
    "start_time": "2023-05-23T07:37:51.383Z"
   },
   {
    "duration": 27,
    "start_time": "2023-05-23T07:37:51.414Z"
   },
   {
    "duration": 19,
    "start_time": "2023-05-23T07:37:51.443Z"
   },
   {
    "duration": 13,
    "start_time": "2023-05-23T07:37:51.463Z"
   },
   {
    "duration": 21,
    "start_time": "2023-05-23T07:37:51.478Z"
   },
   {
    "duration": 17,
    "start_time": "2023-05-23T07:37:51.500Z"
   },
   {
    "duration": 1877,
    "start_time": "2023-05-23T07:37:51.518Z"
   },
   {
    "duration": 1754,
    "start_time": "2023-05-23T07:38:03.160Z"
   },
   {
    "duration": 1791,
    "start_time": "2023-05-23T07:38:28.660Z"
   },
   {
    "duration": 1698,
    "start_time": "2023-05-23T07:38:48.919Z"
   },
   {
    "duration": 1751,
    "start_time": "2023-05-23T07:39:05.650Z"
   },
   {
    "duration": 1766,
    "start_time": "2023-05-23T07:41:32.223Z"
   },
   {
    "duration": 1790,
    "start_time": "2023-05-23T07:44:44.473Z"
   },
   {
    "duration": 287,
    "start_time": "2023-05-23T07:46:42.245Z"
   },
   {
    "duration": 1864,
    "start_time": "2023-05-23T07:58:25.235Z"
   },
   {
    "duration": 1736,
    "start_time": "2023-05-23T07:59:36.763Z"
   },
   {
    "duration": 1863,
    "start_time": "2023-05-23T07:59:50.908Z"
   },
   {
    "duration": 8,
    "start_time": "2023-05-23T08:02:00.495Z"
   },
   {
    "duration": 1945,
    "start_time": "2023-05-23T08:02:01.470Z"
   },
   {
    "duration": 7,
    "start_time": "2023-05-23T08:02:15.689Z"
   },
   {
    "duration": 382,
    "start_time": "2023-05-23T08:02:17.053Z"
   },
   {
    "duration": 6,
    "start_time": "2023-05-23T08:02:23.899Z"
   },
   {
    "duration": 806,
    "start_time": "2023-05-23T08:02:25.016Z"
   },
   {
    "duration": 6,
    "start_time": "2023-05-23T08:02:41.578Z"
   },
   {
    "duration": 6,
    "start_time": "2023-05-23T08:02:51.977Z"
   },
   {
    "duration": 9,
    "start_time": "2023-05-23T08:03:14.715Z"
   },
   {
    "duration": 6,
    "start_time": "2023-05-23T08:03:24.274Z"
   },
   {
    "duration": 1925,
    "start_time": "2023-05-23T08:03:29.387Z"
   },
   {
    "duration": 5,
    "start_time": "2023-05-23T08:03:41.818Z"
   },
   {
    "duration": 1564,
    "start_time": "2023-05-23T08:03:42.489Z"
   },
   {
    "duration": 6,
    "start_time": "2023-05-23T08:04:12.985Z"
   },
   {
    "duration": 6,
    "start_time": "2023-05-23T08:04:21.330Z"
   },
   {
    "duration": 1858,
    "start_time": "2023-05-23T08:04:26.012Z"
   },
   {
    "duration": 1819,
    "start_time": "2023-05-23T08:10:27.630Z"
   },
   {
    "duration": 2020,
    "start_time": "2023-05-23T08:10:42.820Z"
   },
   {
    "duration": 642,
    "start_time": "2023-05-29T14:27:49.136Z"
   },
   {
    "duration": 1091,
    "start_time": "2023-05-29T14:28:14.103Z"
   },
   {
    "duration": 96,
    "start_time": "2023-05-29T14:28:15.195Z"
   },
   {
    "duration": 10,
    "start_time": "2023-05-29T14:28:15.292Z"
   },
   {
    "duration": 175,
    "start_time": "2023-05-29T14:28:15.304Z"
   },
   {
    "duration": 10,
    "start_time": "2023-05-29T14:28:15.480Z"
   },
   {
    "duration": 64,
    "start_time": "2023-05-29T14:28:15.492Z"
   },
   {
    "duration": 9,
    "start_time": "2023-05-29T14:28:15.557Z"
   },
   {
    "duration": 21,
    "start_time": "2023-05-29T14:28:15.567Z"
   },
   {
    "duration": 16,
    "start_time": "2023-05-29T14:28:15.590Z"
   },
   {
    "duration": 8,
    "start_time": "2023-05-29T14:28:15.608Z"
   },
   {
    "duration": 8,
    "start_time": "2023-05-29T14:28:15.617Z"
   },
   {
    "duration": 13,
    "start_time": "2023-05-29T14:28:15.626Z"
   },
   {
    "duration": 7,
    "start_time": "2023-05-29T14:28:15.641Z"
   },
   {
    "duration": 7,
    "start_time": "2023-05-29T14:28:15.649Z"
   },
   {
    "duration": 5,
    "start_time": "2023-05-29T14:28:15.657Z"
   },
   {
    "duration": 5,
    "start_time": "2023-05-29T14:28:15.664Z"
   },
   {
    "duration": 5,
    "start_time": "2023-05-29T14:28:15.670Z"
   },
   {
    "duration": 16,
    "start_time": "2023-05-29T14:28:15.677Z"
   },
   {
    "duration": 6,
    "start_time": "2023-05-29T14:28:15.705Z"
   },
   {
    "duration": 5,
    "start_time": "2023-05-29T14:28:15.712Z"
   },
   {
    "duration": 11,
    "start_time": "2023-05-29T14:28:15.718Z"
   },
   {
    "duration": 8,
    "start_time": "2023-05-29T14:28:15.731Z"
   },
   {
    "duration": 4,
    "start_time": "2023-05-29T14:28:15.741Z"
   },
   {
    "duration": 15,
    "start_time": "2023-05-29T14:28:15.746Z"
   },
   {
    "duration": 21,
    "start_time": "2023-05-29T14:28:15.763Z"
   },
   {
    "duration": 162,
    "start_time": "2023-05-29T14:28:15.786Z"
   },
   {
    "duration": 125,
    "start_time": "2023-05-29T14:28:15.950Z"
   },
   {
    "duration": 216,
    "start_time": "2023-05-29T14:28:16.078Z"
   },
   {
    "duration": 341,
    "start_time": "2023-05-29T14:28:16.296Z"
   },
   {
    "duration": 10,
    "start_time": "2023-05-29T14:28:16.638Z"
   },
   {
    "duration": 206,
    "start_time": "2023-05-29T14:28:16.650Z"
   },
   {
    "duration": 208,
    "start_time": "2023-05-29T14:28:16.857Z"
   },
   {
    "duration": 247,
    "start_time": "2023-05-29T14:28:17.067Z"
   },
   {
    "duration": 277,
    "start_time": "2023-05-29T14:28:17.316Z"
   },
   {
    "duration": 28,
    "start_time": "2023-05-29T14:28:17.594Z"
   },
   {
    "duration": 16,
    "start_time": "2023-05-29T14:28:17.623Z"
   },
   {
    "duration": 24,
    "start_time": "2023-05-29T14:28:17.640Z"
   },
   {
    "duration": 10,
    "start_time": "2023-05-29T14:28:17.666Z"
   },
   {
    "duration": 18,
    "start_time": "2023-05-29T14:28:17.677Z"
   },
   {
    "duration": 382,
    "start_time": "2023-05-29T14:28:17.697Z"
   },
   {
    "duration": 338,
    "start_time": "2023-05-29T14:28:18.081Z"
   },
   {
    "duration": 4,
    "start_time": "2023-05-29T14:28:18.421Z"
   },
   {
    "duration": 125,
    "start_time": "2023-05-29T14:28:18.426Z"
   },
   {
    "duration": 4,
    "start_time": "2023-05-29T14:28:18.553Z"
   },
   {
    "duration": 4,
    "start_time": "2023-05-29T14:28:18.559Z"
   },
   {
    "duration": 11,
    "start_time": "2023-05-29T14:28:18.565Z"
   },
   {
    "duration": 15,
    "start_time": "2023-05-29T14:28:18.578Z"
   },
   {
    "duration": 16,
    "start_time": "2023-05-29T14:28:18.594Z"
   },
   {
    "duration": 6,
    "start_time": "2023-05-29T14:28:18.612Z"
   },
   {
    "duration": 7,
    "start_time": "2023-05-29T14:28:18.619Z"
   },
   {
    "duration": 14,
    "start_time": "2023-05-29T14:28:18.628Z"
   },
   {
    "duration": 5,
    "start_time": "2023-05-29T14:28:18.644Z"
   },
   {
    "duration": 1663,
    "start_time": "2023-05-29T14:28:18.651Z"
   },
   {
    "duration": 5,
    "start_time": "2023-05-29T14:55:43.273Z"
   },
   {
    "duration": 50,
    "start_time": "2023-05-29T20:24:13.184Z"
   },
   {
    "duration": 1117,
    "start_time": "2023-05-29T20:28:22.700Z"
   },
   {
    "duration": 94,
    "start_time": "2023-05-29T20:28:23.819Z"
   },
   {
    "duration": 12,
    "start_time": "2023-05-29T20:28:23.914Z"
   },
   {
    "duration": 82,
    "start_time": "2023-05-29T20:28:23.928Z"
   },
   {
    "duration": 15,
    "start_time": "2023-05-29T20:28:24.012Z"
   },
   {
    "duration": 64,
    "start_time": "2023-05-29T20:28:24.028Z"
   },
   {
    "duration": 16,
    "start_time": "2023-05-29T20:28:24.093Z"
   },
   {
    "duration": 33,
    "start_time": "2023-05-29T20:28:24.112Z"
   },
   {
    "duration": 19,
    "start_time": "2023-05-29T20:28:24.147Z"
   },
   {
    "duration": 9,
    "start_time": "2023-05-29T20:28:24.168Z"
   },
   {
    "duration": 5,
    "start_time": "2023-05-29T20:28:24.380Z"
   },
   {
    "duration": 5,
    "start_time": "2023-05-29T20:28:24.596Z"
   },
   {
    "duration": 6,
    "start_time": "2023-05-29T20:28:24.824Z"
   },
   {
    "duration": 6,
    "start_time": "2023-05-29T20:28:25.053Z"
   },
   {
    "duration": 5,
    "start_time": "2023-05-29T20:28:25.151Z"
   },
   {
    "duration": 5,
    "start_time": "2023-05-29T20:28:25.288Z"
   },
   {
    "duration": 6,
    "start_time": "2023-05-29T20:28:25.376Z"
   },
   {
    "duration": 5,
    "start_time": "2023-05-29T20:28:26.189Z"
   },
   {
    "duration": 23,
    "start_time": "2023-05-29T20:28:26.196Z"
   },
   {
    "duration": 14,
    "start_time": "2023-05-29T20:28:26.221Z"
   },
   {
    "duration": 10,
    "start_time": "2023-05-29T20:28:26.237Z"
   },
   {
    "duration": 19,
    "start_time": "2023-05-29T20:28:26.249Z"
   },
   {
    "duration": 6,
    "start_time": "2023-05-29T20:28:26.270Z"
   },
   {
    "duration": 10,
    "start_time": "2023-05-29T20:28:26.278Z"
   },
   {
    "duration": 16,
    "start_time": "2023-05-29T20:28:26.290Z"
   },
   {
    "duration": 168,
    "start_time": "2023-05-29T20:28:26.317Z"
   },
   {
    "duration": 124,
    "start_time": "2023-05-29T20:28:26.503Z"
   },
   {
    "duration": 206,
    "start_time": "2023-05-29T20:28:26.680Z"
   },
   {
    "duration": 347,
    "start_time": "2023-05-29T20:28:26.888Z"
   },
   {
    "duration": 13,
    "start_time": "2023-05-29T20:28:27.237Z"
   },
   {
    "duration": 232,
    "start_time": "2023-05-29T20:28:27.252Z"
   },
   {
    "duration": 225,
    "start_time": "2023-05-29T20:28:27.486Z"
   },
   {
    "duration": 256,
    "start_time": "2023-05-29T20:28:27.712Z"
   },
   {
    "duration": 279,
    "start_time": "2023-05-29T20:28:27.970Z"
   },
   {
    "duration": 22,
    "start_time": "2023-05-29T20:28:28.251Z"
   },
   {
    "duration": 22,
    "start_time": "2023-05-29T20:28:28.275Z"
   },
   {
    "duration": 29,
    "start_time": "2023-05-29T20:28:28.298Z"
   },
   {
    "duration": 9,
    "start_time": "2023-05-29T20:28:28.328Z"
   },
   {
    "duration": 7,
    "start_time": "2023-05-29T20:28:28.338Z"
   },
   {
    "duration": 370,
    "start_time": "2023-05-29T20:28:28.347Z"
   },
   {
    "duration": 320,
    "start_time": "2023-05-29T20:28:28.719Z"
   },
   {
    "duration": 3,
    "start_time": "2023-05-29T20:28:29.041Z"
   },
   {
    "duration": 125,
    "start_time": "2023-05-29T20:28:29.045Z"
   },
   {
    "duration": 4,
    "start_time": "2023-05-29T20:28:29.172Z"
   },
   {
    "duration": 6,
    "start_time": "2023-05-29T20:28:29.178Z"
   },
   {
    "duration": 25,
    "start_time": "2023-05-29T20:28:29.186Z"
   },
   {
    "duration": 17,
    "start_time": "2023-05-29T20:28:29.213Z"
   },
   {
    "duration": 8,
    "start_time": "2023-05-29T20:28:29.231Z"
   },
   {
    "duration": 17,
    "start_time": "2023-05-29T20:28:29.241Z"
   },
   {
    "duration": 16,
    "start_time": "2023-05-29T20:28:29.259Z"
   },
   {
    "duration": 32,
    "start_time": "2023-05-29T20:28:29.277Z"
   },
   {
    "duration": 9,
    "start_time": "2023-05-29T20:28:29.312Z"
   },
   {
    "duration": 1636,
    "start_time": "2023-05-29T20:28:29.323Z"
   },
   {
    "duration": 149,
    "start_time": "2023-05-29T20:28:30.961Z"
   },
   {
    "duration": 66,
    "start_time": "2023-05-30T07:41:13.708Z"
   },
   {
    "duration": 1288,
    "start_time": "2023-05-30T07:41:22.322Z"
   },
   {
    "duration": 115,
    "start_time": "2023-05-30T07:41:23.612Z"
   },
   {
    "duration": 11,
    "start_time": "2023-05-30T07:41:23.729Z"
   },
   {
    "duration": 205,
    "start_time": "2023-05-30T07:41:23.742Z"
   },
   {
    "duration": 31,
    "start_time": "2023-05-30T07:41:23.949Z"
   },
   {
    "duration": 65,
    "start_time": "2023-05-30T07:41:23.982Z"
   },
   {
    "duration": 33,
    "start_time": "2023-05-30T07:41:24.049Z"
   },
   {
    "duration": 25,
    "start_time": "2023-05-30T07:41:24.085Z"
   },
   {
    "duration": 18,
    "start_time": "2023-05-30T07:41:24.112Z"
   },
   {
    "duration": 27,
    "start_time": "2023-05-30T07:41:24.134Z"
   },
   {
    "duration": 22,
    "start_time": "2023-05-30T07:41:24.166Z"
   },
   {
    "duration": 6,
    "start_time": "2023-05-30T07:41:24.191Z"
   },
   {
    "duration": 6,
    "start_time": "2023-05-30T07:41:24.199Z"
   },
   {
    "duration": 6,
    "start_time": "2023-05-30T07:41:24.207Z"
   },
   {
    "duration": 6,
    "start_time": "2023-05-30T07:41:24.215Z"
   },
   {
    "duration": 5,
    "start_time": "2023-05-30T07:41:24.223Z"
   },
   {
    "duration": 31,
    "start_time": "2023-05-30T07:41:24.230Z"
   },
   {
    "duration": 11,
    "start_time": "2023-05-30T07:41:24.268Z"
   },
   {
    "duration": 10,
    "start_time": "2023-05-30T07:41:24.286Z"
   },
   {
    "duration": 17,
    "start_time": "2023-05-30T07:41:24.298Z"
   },
   {
    "duration": 23,
    "start_time": "2023-05-30T07:41:24.317Z"
   },
   {
    "duration": 30,
    "start_time": "2023-05-30T07:41:24.342Z"
   },
   {
    "duration": 8,
    "start_time": "2023-05-30T07:41:24.383Z"
   },
   {
    "duration": 6,
    "start_time": "2023-05-30T07:41:24.393Z"
   },
   {
    "duration": 18,
    "start_time": "2023-05-30T07:41:24.403Z"
   },
   {
    "duration": 261,
    "start_time": "2023-05-30T07:41:24.423Z"
   },
   {
    "duration": 182,
    "start_time": "2023-05-30T07:41:24.686Z"
   },
   {
    "duration": 292,
    "start_time": "2023-05-30T07:41:24.875Z"
   },
   {
    "duration": 433,
    "start_time": "2023-05-30T07:41:25.171Z"
   },
   {
    "duration": 12,
    "start_time": "2023-05-30T07:41:25.607Z"
   },
   {
    "duration": 287,
    "start_time": "2023-05-30T07:41:25.621Z"
   },
   {
    "duration": 298,
    "start_time": "2023-05-30T07:41:25.910Z"
   },
   {
    "duration": 340,
    "start_time": "2023-05-30T07:41:26.210Z"
   },
   {
    "duration": 362,
    "start_time": "2023-05-30T07:41:26.552Z"
   },
   {
    "duration": 23,
    "start_time": "2023-05-30T07:41:26.916Z"
   },
   {
    "duration": 32,
    "start_time": "2023-05-30T07:41:26.955Z"
   },
   {
    "duration": 15,
    "start_time": "2023-05-30T07:41:26.989Z"
   },
   {
    "duration": 10,
    "start_time": "2023-05-30T07:41:27.006Z"
   },
   {
    "duration": 10,
    "start_time": "2023-05-30T07:41:27.018Z"
   },
   {
    "duration": 469,
    "start_time": "2023-05-30T07:41:27.055Z"
   },
   {
    "duration": 414,
    "start_time": "2023-05-30T07:41:27.527Z"
   },
   {
    "duration": 4,
    "start_time": "2023-05-30T07:41:27.942Z"
   },
   {
    "duration": 138,
    "start_time": "2023-05-30T07:41:27.947Z"
   },
   {
    "duration": 3,
    "start_time": "2023-05-30T07:41:28.087Z"
   },
   {
    "duration": 6,
    "start_time": "2023-05-30T07:41:28.092Z"
   },
   {
    "duration": 29,
    "start_time": "2023-05-30T07:41:28.100Z"
   },
   {
    "duration": 20,
    "start_time": "2023-05-30T07:41:28.131Z"
   },
   {
    "duration": 18,
    "start_time": "2023-05-30T07:41:28.155Z"
   },
   {
    "duration": 10,
    "start_time": "2023-05-30T07:41:28.175Z"
   },
   {
    "duration": 7,
    "start_time": "2023-05-30T07:41:28.187Z"
   },
   {
    "duration": 26,
    "start_time": "2023-05-30T07:41:28.195Z"
   },
   {
    "duration": 18,
    "start_time": "2023-05-30T07:41:28.223Z"
   },
   {
    "duration": 2185,
    "start_time": "2023-05-30T07:41:28.243Z"
   },
   {
    "duration": 241,
    "start_time": "2023-05-30T07:41:30.430Z"
   },
   {
    "duration": 1318,
    "start_time": "2023-10-11T10:05:52.252Z"
   },
   {
    "duration": 116,
    "start_time": "2023-10-11T10:05:53.575Z"
   },
   {
    "duration": 16,
    "start_time": "2023-10-11T10:05:53.693Z"
   },
   {
    "duration": 154,
    "start_time": "2023-10-11T10:05:53.711Z"
   },
   {
    "duration": 12,
    "start_time": "2023-10-11T10:05:53.870Z"
   },
   {
    "duration": 74,
    "start_time": "2023-10-11T10:05:53.884Z"
   },
   {
    "duration": 12,
    "start_time": "2023-10-11T10:05:53.959Z"
   },
   {
    "duration": 18,
    "start_time": "2023-10-11T10:05:53.973Z"
   },
   {
    "duration": 14,
    "start_time": "2023-10-11T10:05:53.992Z"
   },
   {
    "duration": 8,
    "start_time": "2023-10-11T10:05:54.008Z"
   },
   {
    "duration": 34,
    "start_time": "2023-10-11T10:05:54.018Z"
   },
   {
    "duration": 7,
    "start_time": "2023-10-11T10:05:54.053Z"
   },
   {
    "duration": 32,
    "start_time": "2023-10-11T10:05:54.061Z"
   },
   {
    "duration": 12,
    "start_time": "2023-10-11T10:05:54.096Z"
   },
   {
    "duration": 12,
    "start_time": "2023-10-11T10:05:54.109Z"
   },
   {
    "duration": 11,
    "start_time": "2023-10-11T10:05:54.122Z"
   },
   {
    "duration": 7,
    "start_time": "2023-10-11T10:05:54.135Z"
   },
   {
    "duration": 21,
    "start_time": "2023-10-11T10:05:54.146Z"
   },
   {
    "duration": 11,
    "start_time": "2023-10-11T10:05:54.169Z"
   },
   {
    "duration": 9,
    "start_time": "2023-10-11T10:05:54.181Z"
   },
   {
    "duration": 9,
    "start_time": "2023-10-11T10:05:54.192Z"
   },
   {
    "duration": 10,
    "start_time": "2023-10-11T10:05:54.203Z"
   },
   {
    "duration": 4,
    "start_time": "2023-10-11T10:05:54.214Z"
   },
   {
    "duration": 8,
    "start_time": "2023-10-11T10:05:54.220Z"
   },
   {
    "duration": 20,
    "start_time": "2023-10-11T10:05:54.229Z"
   },
   {
    "duration": 220,
    "start_time": "2023-10-11T10:05:54.252Z"
   },
   {
    "duration": 164,
    "start_time": "2023-10-11T10:05:54.474Z"
   },
   {
    "duration": 274,
    "start_time": "2023-10-11T10:05:54.640Z"
   },
   {
    "duration": 406,
    "start_time": "2023-10-11T10:05:54.915Z"
   },
   {
    "duration": 10,
    "start_time": "2023-10-11T10:05:55.322Z"
   },
   {
    "duration": 258,
    "start_time": "2023-10-11T10:05:55.347Z"
   },
   {
    "duration": 251,
    "start_time": "2023-10-11T10:05:55.607Z"
   },
   {
    "duration": 310,
    "start_time": "2023-10-11T10:05:55.859Z"
   },
   {
    "duration": 329,
    "start_time": "2023-10-11T10:05:56.171Z"
   },
   {
    "duration": 22,
    "start_time": "2023-10-11T10:05:56.502Z"
   },
   {
    "duration": 39,
    "start_time": "2023-10-11T10:05:56.526Z"
   },
   {
    "duration": 44,
    "start_time": "2023-10-11T10:05:56.567Z"
   },
   {
    "duration": 16,
    "start_time": "2023-10-11T10:05:56.613Z"
   },
   {
    "duration": 33,
    "start_time": "2023-10-11T10:05:56.630Z"
   },
   {
    "duration": 426,
    "start_time": "2023-10-11T10:05:56.665Z"
   },
   {
    "duration": 394,
    "start_time": "2023-10-11T10:05:57.095Z"
   },
   {
    "duration": 4,
    "start_time": "2023-10-11T10:05:57.491Z"
   },
   {
    "duration": 174,
    "start_time": "2023-10-11T10:05:57.497Z"
   },
   {
    "duration": 5,
    "start_time": "2023-10-11T10:05:57.675Z"
   },
   {
    "duration": 59,
    "start_time": "2023-10-11T10:05:57.681Z"
   },
   {
    "duration": 36,
    "start_time": "2023-10-11T10:05:57.742Z"
   },
   {
    "duration": 64,
    "start_time": "2023-10-11T10:05:57.780Z"
   },
   {
    "duration": 29,
    "start_time": "2023-10-11T10:05:57.845Z"
   },
   {
    "duration": 34,
    "start_time": "2023-10-11T10:05:57.876Z"
   },
   {
    "duration": 20,
    "start_time": "2023-10-11T10:05:57.912Z"
   },
   {
    "duration": 39,
    "start_time": "2023-10-11T10:05:57.934Z"
   },
   {
    "duration": 20,
    "start_time": "2023-10-11T10:05:57.974Z"
   },
   {
    "duration": 1972,
    "start_time": "2023-10-11T10:05:57.996Z"
   },
   {
    "duration": 168,
    "start_time": "2023-10-11T10:05:59.973Z"
   },
   {
    "duration": 178,
    "start_time": "2023-10-11T10:10:52.268Z"
   },
   {
    "duration": 136,
    "start_time": "2023-10-11T10:11:31.717Z"
   },
   {
    "duration": 246,
    "start_time": "2023-10-11T10:13:23.366Z"
   },
   {
    "duration": 557,
    "start_time": "2023-10-11T10:15:27.618Z"
   },
   {
    "duration": 266,
    "start_time": "2023-10-11T10:20:21.205Z"
   },
   {
    "duration": 275,
    "start_time": "2023-10-11T10:23:11.411Z"
   },
   {
    "duration": 250,
    "start_time": "2023-10-11T10:23:28.392Z"
   },
   {
    "duration": 257,
    "start_time": "2023-10-11T10:24:33.078Z"
   },
   {
    "duration": 248,
    "start_time": "2023-10-11T10:25:38.963Z"
   },
   {
    "duration": 301,
    "start_time": "2023-10-11T10:26:13.597Z"
   },
   {
    "duration": 275,
    "start_time": "2023-10-11T10:26:16.609Z"
   },
   {
    "duration": 279,
    "start_time": "2023-10-11T10:26:48.362Z"
   },
   {
    "duration": 280,
    "start_time": "2023-10-11T10:26:55.401Z"
   },
   {
    "duration": 420,
    "start_time": "2023-10-11T10:27:44.630Z"
   },
   {
    "duration": 322,
    "start_time": "2023-10-11T10:28:36.055Z"
   },
   {
    "duration": 332,
    "start_time": "2023-10-11T10:28:48.962Z"
   },
   {
    "duration": 270,
    "start_time": "2023-10-11T10:31:29.094Z"
   },
   {
    "duration": 505,
    "start_time": "2023-10-11T10:33:35.100Z"
   },
   {
    "duration": 472,
    "start_time": "2023-10-11T10:34:30.512Z"
   },
   {
    "duration": 1467,
    "start_time": "2023-10-11T10:36:42.865Z"
   },
   {
    "duration": 79,
    "start_time": "2023-10-11T10:36:44.334Z"
   },
   {
    "duration": 17,
    "start_time": "2023-10-11T10:36:44.420Z"
   },
   {
    "duration": 86,
    "start_time": "2023-10-11T10:36:44.440Z"
   },
   {
    "duration": 15,
    "start_time": "2023-10-11T10:36:44.528Z"
   },
   {
    "duration": 49,
    "start_time": "2023-10-11T10:36:44.555Z"
   },
   {
    "duration": 18,
    "start_time": "2023-10-11T10:36:44.607Z"
   },
   {
    "duration": 28,
    "start_time": "2023-10-11T10:36:44.627Z"
   },
   {
    "duration": 29,
    "start_time": "2023-10-11T10:36:44.657Z"
   },
   {
    "duration": 41,
    "start_time": "2023-10-11T10:36:44.692Z"
   },
   {
    "duration": 31,
    "start_time": "2023-10-11T10:36:44.739Z"
   },
   {
    "duration": 23,
    "start_time": "2023-10-11T10:36:44.777Z"
   },
   {
    "duration": 27,
    "start_time": "2023-10-11T10:36:44.806Z"
   },
   {
    "duration": 28,
    "start_time": "2023-10-11T10:36:44.835Z"
   },
   {
    "duration": 16,
    "start_time": "2023-10-11T10:36:44.868Z"
   },
   {
    "duration": 19,
    "start_time": "2023-10-11T10:36:44.890Z"
   },
   {
    "duration": 19,
    "start_time": "2023-10-11T10:36:44.913Z"
   },
   {
    "duration": 50,
    "start_time": "2023-10-11T10:36:44.934Z"
   },
   {
    "duration": 32,
    "start_time": "2023-10-11T10:36:44.986Z"
   },
   {
    "duration": 76,
    "start_time": "2023-10-11T10:36:45.020Z"
   },
   {
    "duration": 36,
    "start_time": "2023-10-11T10:36:45.098Z"
   },
   {
    "duration": 31,
    "start_time": "2023-10-11T10:36:45.136Z"
   },
   {
    "duration": 16,
    "start_time": "2023-10-11T10:36:45.172Z"
   },
   {
    "duration": 30,
    "start_time": "2023-10-11T10:36:45.190Z"
   },
   {
    "duration": 52,
    "start_time": "2023-10-11T10:36:45.223Z"
   },
   {
    "duration": 281,
    "start_time": "2023-10-11T10:36:45.278Z"
   },
   {
    "duration": 172,
    "start_time": "2023-10-11T10:36:45.562Z"
   },
   {
    "duration": 340,
    "start_time": "2023-10-11T10:36:45.737Z"
   },
   {
    "duration": 460,
    "start_time": "2023-10-11T10:36:46.083Z"
   },
   {
    "duration": 21,
    "start_time": "2023-10-11T10:36:46.545Z"
   },
   {
    "duration": 286,
    "start_time": "2023-10-11T10:36:46.568Z"
   },
   {
    "duration": 326,
    "start_time": "2023-10-11T10:36:46.856Z"
   },
   {
    "duration": 366,
    "start_time": "2023-10-11T10:36:47.186Z"
   },
   {
    "duration": 385,
    "start_time": "2023-10-11T10:36:47.556Z"
   },
   {
    "duration": 35,
    "start_time": "2023-10-11T10:36:47.950Z"
   },
   {
    "duration": 34,
    "start_time": "2023-10-11T10:36:47.990Z"
   },
   {
    "duration": 15,
    "start_time": "2023-10-11T10:36:48.026Z"
   },
   {
    "duration": 122,
    "start_time": "2023-10-11T10:36:48.043Z"
   },
   {
    "duration": 45,
    "start_time": "2023-10-11T10:36:48.167Z"
   },
   {
    "duration": 581,
    "start_time": "2023-10-11T10:36:48.216Z"
   },
   {
    "duration": 494,
    "start_time": "2023-10-11T10:36:48.800Z"
   },
   {
    "duration": 4,
    "start_time": "2023-10-11T10:36:49.297Z"
   },
   {
    "duration": 162,
    "start_time": "2023-10-11T10:36:49.302Z"
   },
   {
    "duration": 6,
    "start_time": "2023-10-11T10:36:49.466Z"
   },
   {
    "duration": 23,
    "start_time": "2023-10-11T10:36:49.476Z"
   },
   {
    "duration": 36,
    "start_time": "2023-10-11T10:36:49.501Z"
   },
   {
    "duration": 51,
    "start_time": "2023-10-11T10:36:49.539Z"
   },
   {
    "duration": 32,
    "start_time": "2023-10-11T10:36:49.592Z"
   },
   {
    "duration": 55,
    "start_time": "2023-10-11T10:36:49.626Z"
   },
   {
    "duration": 40,
    "start_time": "2023-10-11T10:36:49.685Z"
   },
   {
    "duration": 28,
    "start_time": "2023-10-11T10:36:49.727Z"
   },
   {
    "duration": 20,
    "start_time": "2023-10-11T10:36:49.764Z"
   },
   {
    "duration": 2145,
    "start_time": "2023-10-11T10:36:49.791Z"
   },
   {
    "duration": 219,
    "start_time": "2023-10-11T10:36:51.938Z"
   },
   {
    "duration": 288,
    "start_time": "2023-10-11T10:37:54.907Z"
   },
   {
    "duration": 439,
    "start_time": "2023-10-11T10:38:04.916Z"
   },
   {
    "duration": 294,
    "start_time": "2023-10-11T10:38:57.517Z"
   },
   {
    "duration": 552,
    "start_time": "2023-10-11T10:39:17.711Z"
   },
   {
    "duration": 349,
    "start_time": "2023-10-11T10:39:33.668Z"
   },
   {
    "duration": 1546,
    "start_time": "2023-10-11T10:39:50.378Z"
   },
   {
    "duration": 61,
    "start_time": "2023-10-11T10:39:51.927Z"
   },
   {
    "duration": 17,
    "start_time": "2023-10-11T10:39:51.989Z"
   },
   {
    "duration": 97,
    "start_time": "2023-10-11T10:39:52.008Z"
   },
   {
    "duration": 12,
    "start_time": "2023-10-11T10:39:52.115Z"
   },
   {
    "duration": 84,
    "start_time": "2023-10-11T10:39:52.129Z"
   },
   {
    "duration": 29,
    "start_time": "2023-10-11T10:39:52.217Z"
   },
   {
    "duration": 54,
    "start_time": "2023-10-11T10:39:52.254Z"
   },
   {
    "duration": 43,
    "start_time": "2023-10-11T10:39:52.310Z"
   },
   {
    "duration": 20,
    "start_time": "2023-10-11T10:39:52.357Z"
   },
   {
    "duration": 33,
    "start_time": "2023-10-11T10:39:52.379Z"
   },
   {
    "duration": 42,
    "start_time": "2023-10-11T10:39:52.413Z"
   },
   {
    "duration": 18,
    "start_time": "2023-10-11T10:39:52.457Z"
   },
   {
    "duration": 31,
    "start_time": "2023-10-11T10:39:52.479Z"
   },
   {
    "duration": 22,
    "start_time": "2023-10-11T10:39:52.512Z"
   },
   {
    "duration": 41,
    "start_time": "2023-10-11T10:39:52.536Z"
   },
   {
    "duration": 20,
    "start_time": "2023-10-11T10:39:52.579Z"
   },
   {
    "duration": 38,
    "start_time": "2023-10-11T10:39:52.601Z"
   },
   {
    "duration": 49,
    "start_time": "2023-10-11T10:39:52.641Z"
   },
   {
    "duration": 9,
    "start_time": "2023-10-11T10:39:52.692Z"
   },
   {
    "duration": 14,
    "start_time": "2023-10-11T10:39:52.703Z"
   },
   {
    "duration": 54,
    "start_time": "2023-10-11T10:39:52.719Z"
   },
   {
    "duration": 22,
    "start_time": "2023-10-11T10:39:52.779Z"
   },
   {
    "duration": 26,
    "start_time": "2023-10-11T10:39:52.803Z"
   },
   {
    "duration": 53,
    "start_time": "2023-10-11T10:39:52.831Z"
   },
   {
    "duration": 287,
    "start_time": "2023-10-11T10:39:52.891Z"
   },
   {
    "duration": 147,
    "start_time": "2023-10-11T10:39:53.183Z"
   },
   {
    "duration": 329,
    "start_time": "2023-10-11T10:39:53.332Z"
   },
   {
    "duration": 532,
    "start_time": "2023-10-11T10:39:53.663Z"
   },
   {
    "duration": 15,
    "start_time": "2023-10-11T10:39:54.200Z"
   },
   {
    "duration": 339,
    "start_time": "2023-10-11T10:39:54.217Z"
   },
   {
    "duration": 379,
    "start_time": "2023-10-11T10:39:54.563Z"
   },
   {
    "duration": 434,
    "start_time": "2023-10-11T10:39:54.943Z"
   },
   {
    "duration": 433,
    "start_time": "2023-10-11T10:39:55.380Z"
   },
   {
    "duration": 40,
    "start_time": "2023-10-11T10:39:55.815Z"
   },
   {
    "duration": 24,
    "start_time": "2023-10-11T10:39:55.863Z"
   },
   {
    "duration": 50,
    "start_time": "2023-10-11T10:39:55.890Z"
   },
   {
    "duration": 58,
    "start_time": "2023-10-11T10:39:55.942Z"
   },
   {
    "duration": 41,
    "start_time": "2023-10-11T10:39:56.002Z"
   },
   {
    "duration": 510,
    "start_time": "2023-10-11T10:39:56.045Z"
   },
   {
    "duration": 424,
    "start_time": "2023-10-11T10:39:56.562Z"
   },
   {
    "duration": 4,
    "start_time": "2023-10-11T10:39:56.988Z"
   },
   {
    "duration": 149,
    "start_time": "2023-10-11T10:39:56.993Z"
   },
   {
    "duration": 13,
    "start_time": "2023-10-11T10:39:57.143Z"
   },
   {
    "duration": 32,
    "start_time": "2023-10-11T10:39:57.164Z"
   },
   {
    "duration": 61,
    "start_time": "2023-10-11T10:39:57.198Z"
   },
   {
    "duration": 45,
    "start_time": "2023-10-11T10:39:57.265Z"
   },
   {
    "duration": 74,
    "start_time": "2023-10-11T10:39:57.312Z"
   },
   {
    "duration": 31,
    "start_time": "2023-10-11T10:39:57.388Z"
   },
   {
    "duration": 79,
    "start_time": "2023-10-11T10:39:57.421Z"
   },
   {
    "duration": 88,
    "start_time": "2023-10-11T10:39:57.502Z"
   },
   {
    "duration": 85,
    "start_time": "2023-10-11T10:39:57.591Z"
   },
   {
    "duration": 2245,
    "start_time": "2023-10-11T10:39:57.678Z"
   },
   {
    "duration": 186,
    "start_time": "2023-10-11T10:39:59.925Z"
   },
   {
    "duration": 1432,
    "start_time": "2023-10-11T16:16:59.655Z"
   },
   {
    "duration": 109,
    "start_time": "2023-10-11T16:17:01.090Z"
   },
   {
    "duration": 571,
    "start_time": "2023-10-11T16:17:01.200Z"
   },
   {
    "duration": 360,
    "start_time": "2023-10-11T16:17:01.773Z"
   },
   {
    "duration": 166,
    "start_time": "2023-10-11T16:17:02.134Z"
   },
   {
    "duration": 201,
    "start_time": "2023-10-11T16:17:02.302Z"
   },
   {
    "duration": 12,
    "start_time": "2023-10-11T16:17:02.505Z"
   },
   {
    "duration": 68,
    "start_time": "2023-10-11T16:17:02.519Z"
   },
   {
    "duration": 59,
    "start_time": "2023-10-11T16:17:02.589Z"
   },
   {
    "duration": 16,
    "start_time": "2023-10-11T16:17:02.659Z"
   },
   {
    "duration": 36,
    "start_time": "2023-10-11T16:17:02.677Z"
   },
   {
    "duration": 21,
    "start_time": "2023-10-11T16:17:02.715Z"
   },
   {
    "duration": 49,
    "start_time": "2023-10-11T16:17:02.738Z"
   },
   {
    "duration": 27,
    "start_time": "2023-10-11T16:17:02.789Z"
   },
   {
    "duration": 19,
    "start_time": "2023-10-11T16:17:02.818Z"
   },
   {
    "duration": 28,
    "start_time": "2023-10-11T16:17:02.839Z"
   },
   {
    "duration": 35,
    "start_time": "2023-10-11T16:17:02.868Z"
   },
   {
    "duration": 9,
    "start_time": "2023-10-11T16:17:02.905Z"
   },
   {
    "duration": 51,
    "start_time": "2023-10-11T16:17:02.915Z"
   },
   {
    "duration": 40,
    "start_time": "2023-10-11T16:17:02.967Z"
   },
   {
    "duration": 39,
    "start_time": "2023-10-11T16:17:03.008Z"
   },
   {
    "duration": 14,
    "start_time": "2023-10-11T16:17:03.049Z"
   },
   {
    "duration": 31,
    "start_time": "2023-10-11T16:17:03.064Z"
   },
   {
    "duration": 17,
    "start_time": "2023-10-11T16:17:03.096Z"
   },
   {
    "duration": 51,
    "start_time": "2023-10-11T16:17:03.115Z"
   },
   {
    "duration": 193,
    "start_time": "2023-10-11T16:17:03.167Z"
   },
   {
    "duration": 125,
    "start_time": "2023-10-11T16:17:03.362Z"
   },
   {
    "duration": 240,
    "start_time": "2023-10-11T16:17:03.491Z"
   },
   {
    "duration": 389,
    "start_time": "2023-10-11T16:17:03.733Z"
   },
   {
    "duration": 35,
    "start_time": "2023-10-11T16:17:04.124Z"
   },
   {
    "duration": 275,
    "start_time": "2023-10-11T16:17:04.161Z"
   },
   {
    "duration": 240,
    "start_time": "2023-10-11T16:17:04.438Z"
   },
   {
    "duration": 283,
    "start_time": "2023-10-11T16:17:04.680Z"
   },
   {
    "duration": 304,
    "start_time": "2023-10-11T16:17:04.965Z"
   },
   {
    "duration": 22,
    "start_time": "2023-10-11T16:17:05.271Z"
   },
   {
    "duration": 66,
    "start_time": "2023-10-11T16:17:05.295Z"
   },
   {
    "duration": 42,
    "start_time": "2023-10-11T16:17:05.362Z"
   },
   {
    "duration": 32,
    "start_time": "2023-10-11T16:17:05.405Z"
   },
   {
    "duration": 39,
    "start_time": "2023-10-11T16:17:05.438Z"
   },
   {
    "duration": 402,
    "start_time": "2023-10-11T16:17:05.478Z"
   },
   {
    "duration": 372,
    "start_time": "2023-10-11T16:17:05.882Z"
   },
   {
    "duration": 5,
    "start_time": "2023-10-11T16:17:06.256Z"
   },
   {
    "duration": 177,
    "start_time": "2023-10-11T16:17:06.263Z"
   },
   {
    "duration": 4,
    "start_time": "2023-10-11T16:17:06.445Z"
   },
   {
    "duration": 23,
    "start_time": "2023-10-11T16:17:06.451Z"
   },
   {
    "duration": 31,
    "start_time": "2023-10-11T16:17:06.476Z"
   },
   {
    "duration": 48,
    "start_time": "2023-10-11T16:17:06.509Z"
   },
   {
    "duration": 34,
    "start_time": "2023-10-11T16:17:06.559Z"
   },
   {
    "duration": 60,
    "start_time": "2023-10-11T16:17:06.595Z"
   },
   {
    "duration": 43,
    "start_time": "2023-10-11T16:17:06.657Z"
   },
   {
    "duration": 54,
    "start_time": "2023-10-11T16:17:06.702Z"
   },
   {
    "duration": 32,
    "start_time": "2023-10-11T16:17:06.758Z"
   },
   {
    "duration": 1831,
    "start_time": "2023-10-11T16:17:06.792Z"
   },
   {
    "duration": 167,
    "start_time": "2023-10-11T16:17:08.625Z"
   },
   {
    "duration": 5,
    "start_time": "2023-10-11T16:21:26.715Z"
   },
   {
    "duration": 8,
    "start_time": "2023-10-11T16:21:34.077Z"
   },
   {
    "duration": 1155,
    "start_time": "2023-10-11T17:28:31.389Z"
   },
   {
    "duration": 36,
    "start_time": "2023-10-11T17:28:32.546Z"
   },
   {
    "duration": 10,
    "start_time": "2023-10-11T17:28:32.584Z"
   },
   {
    "duration": 43,
    "start_time": "2023-10-11T17:28:32.596Z"
   },
   {
    "duration": 10,
    "start_time": "2023-10-11T17:28:32.641Z"
   },
   {
    "duration": 21,
    "start_time": "2023-10-11T17:28:32.652Z"
   },
   {
    "duration": 11,
    "start_time": "2023-10-11T17:28:32.674Z"
   },
   {
    "duration": 30,
    "start_time": "2023-10-11T17:28:32.686Z"
   },
   {
    "duration": 14,
    "start_time": "2023-10-11T17:28:32.718Z"
   },
   {
    "duration": 4,
    "start_time": "2023-10-11T17:28:32.735Z"
   },
   {
    "duration": 29,
    "start_time": "2023-10-11T17:28:32.744Z"
   },
   {
    "duration": 7,
    "start_time": "2023-10-11T17:28:32.774Z"
   },
   {
    "duration": 27,
    "start_time": "2023-10-11T17:28:32.783Z"
   },
   {
    "duration": 15,
    "start_time": "2023-10-11T17:28:32.812Z"
   },
   {
    "duration": 5,
    "start_time": "2023-10-11T17:28:32.829Z"
   },
   {
    "duration": 21,
    "start_time": "2023-10-11T17:28:32.835Z"
   },
   {
    "duration": 19,
    "start_time": "2023-10-11T17:28:32.858Z"
   },
   {
    "duration": 11,
    "start_time": "2023-10-11T17:28:32.879Z"
   },
   {
    "duration": 12,
    "start_time": "2023-10-11T17:28:32.892Z"
   },
   {
    "duration": 26,
    "start_time": "2023-10-11T17:28:32.906Z"
   },
   {
    "duration": 15,
    "start_time": "2023-10-11T17:28:32.934Z"
   },
   {
    "duration": 8,
    "start_time": "2023-10-11T17:28:32.951Z"
   },
   {
    "duration": 13,
    "start_time": "2023-10-11T17:28:32.961Z"
   },
   {
    "duration": 27,
    "start_time": "2023-10-11T17:28:32.976Z"
   },
   {
    "duration": 23,
    "start_time": "2023-10-11T17:28:33.005Z"
   },
   {
    "duration": 30,
    "start_time": "2023-10-11T17:28:33.030Z"
   },
   {
    "duration": 190,
    "start_time": "2023-10-11T17:28:33.061Z"
   },
   {
    "duration": 139,
    "start_time": "2023-10-11T17:28:33.255Z"
   },
   {
    "duration": 226,
    "start_time": "2023-10-11T17:28:33.396Z"
   },
   {
    "duration": 342,
    "start_time": "2023-10-11T17:28:33.623Z"
   },
   {
    "duration": 9,
    "start_time": "2023-10-11T17:28:33.967Z"
   },
   {
    "duration": 324,
    "start_time": "2023-10-11T17:28:33.977Z"
   },
   {
    "duration": 232,
    "start_time": "2023-10-11T17:28:34.303Z"
   },
   {
    "duration": 276,
    "start_time": "2023-10-11T17:28:34.536Z"
   },
   {
    "duration": 302,
    "start_time": "2023-10-11T17:28:34.814Z"
   },
   {
    "duration": 31,
    "start_time": "2023-10-11T17:28:35.118Z"
   },
   {
    "duration": 18,
    "start_time": "2023-10-11T17:28:35.151Z"
   },
   {
    "duration": 15,
    "start_time": "2023-10-11T17:28:35.170Z"
   },
   {
    "duration": 17,
    "start_time": "2023-10-11T17:28:35.186Z"
   },
   {
    "duration": 23,
    "start_time": "2023-10-11T17:28:35.205Z"
   },
   {
    "duration": 371,
    "start_time": "2023-10-11T17:28:35.229Z"
   },
   {
    "duration": 362,
    "start_time": "2023-10-11T17:28:35.601Z"
   },
   {
    "duration": 3,
    "start_time": "2023-10-11T17:28:35.965Z"
   },
   {
    "duration": 112,
    "start_time": "2023-10-11T17:28:35.969Z"
   },
   {
    "duration": 3,
    "start_time": "2023-10-11T17:28:36.083Z"
   },
   {
    "duration": 21,
    "start_time": "2023-10-11T17:28:36.088Z"
   },
   {
    "duration": 18,
    "start_time": "2023-10-11T17:28:36.111Z"
   },
   {
    "duration": 6,
    "start_time": "2023-10-11T17:28:36.131Z"
   },
   {
    "duration": 12,
    "start_time": "2023-10-11T17:28:36.143Z"
   },
   {
    "duration": 23,
    "start_time": "2023-10-11T17:28:36.156Z"
   },
   {
    "duration": 27,
    "start_time": "2023-10-11T17:28:36.181Z"
   },
   {
    "duration": 5,
    "start_time": "2023-10-11T17:29:30.715Z"
   },
   {
    "duration": 1176,
    "start_time": "2023-10-11T17:44:24.670Z"
   },
   {
    "duration": 37,
    "start_time": "2023-10-11T17:44:25.848Z"
   },
   {
    "duration": 11,
    "start_time": "2023-10-11T17:44:25.886Z"
   },
   {
    "duration": 59,
    "start_time": "2023-10-11T17:44:25.899Z"
   },
   {
    "duration": 12,
    "start_time": "2023-10-11T17:44:25.960Z"
   },
   {
    "duration": 37,
    "start_time": "2023-10-11T17:44:25.974Z"
   },
   {
    "duration": 16,
    "start_time": "2023-10-11T17:44:26.012Z"
   },
   {
    "duration": 41,
    "start_time": "2023-10-11T17:44:26.030Z"
   },
   {
    "duration": 15,
    "start_time": "2023-10-11T17:44:26.073Z"
   },
   {
    "duration": 4,
    "start_time": "2023-10-11T17:44:26.091Z"
   },
   {
    "duration": 6,
    "start_time": "2023-10-11T17:44:26.096Z"
   },
   {
    "duration": 27,
    "start_time": "2023-10-11T17:44:26.104Z"
   },
   {
    "duration": 13,
    "start_time": "2023-10-11T17:44:26.133Z"
   },
   {
    "duration": 7,
    "start_time": "2023-10-11T17:44:26.148Z"
   },
   {
    "duration": 5,
    "start_time": "2023-10-11T17:44:26.157Z"
   },
   {
    "duration": 10,
    "start_time": "2023-10-11T17:44:26.163Z"
   },
   {
    "duration": 16,
    "start_time": "2023-10-11T17:44:26.174Z"
   },
   {
    "duration": 11,
    "start_time": "2023-10-11T17:44:26.192Z"
   },
   {
    "duration": 11,
    "start_time": "2023-10-11T17:44:26.205Z"
   },
   {
    "duration": 34,
    "start_time": "2023-10-11T17:44:26.218Z"
   },
   {
    "duration": 20,
    "start_time": "2023-10-11T17:44:26.254Z"
   },
   {
    "duration": 40,
    "start_time": "2023-10-11T17:44:26.276Z"
   },
   {
    "duration": 4,
    "start_time": "2023-10-11T17:44:26.318Z"
   },
   {
    "duration": 35,
    "start_time": "2023-10-11T17:44:26.324Z"
   },
   {
    "duration": 51,
    "start_time": "2023-10-11T17:44:26.362Z"
   },
   {
    "duration": 223,
    "start_time": "2023-10-11T17:44:26.415Z"
   },
   {
    "duration": 148,
    "start_time": "2023-10-11T17:44:26.640Z"
   },
   {
    "duration": 231,
    "start_time": "2023-10-11T17:44:26.791Z"
   },
   {
    "duration": 376,
    "start_time": "2023-10-11T17:44:27.024Z"
   },
   {
    "duration": 10,
    "start_time": "2023-10-11T17:44:27.401Z"
   },
   {
    "duration": 238,
    "start_time": "2023-10-11T17:44:27.413Z"
   },
   {
    "duration": 232,
    "start_time": "2023-10-11T17:44:27.653Z"
   },
   {
    "duration": 273,
    "start_time": "2023-10-11T17:44:27.887Z"
   },
   {
    "duration": 329,
    "start_time": "2023-10-11T17:44:28.162Z"
   },
   {
    "duration": 27,
    "start_time": "2023-10-11T17:44:28.492Z"
   },
   {
    "duration": 35,
    "start_time": "2023-10-11T17:44:28.521Z"
   },
   {
    "duration": 14,
    "start_time": "2023-10-11T17:44:28.558Z"
   },
   {
    "duration": 27,
    "start_time": "2023-10-11T17:44:28.574Z"
   },
   {
    "duration": 12,
    "start_time": "2023-10-11T17:44:28.603Z"
   },
   {
    "duration": 392,
    "start_time": "2023-10-11T17:44:28.617Z"
   },
   {
    "duration": 384,
    "start_time": "2023-10-11T17:44:29.011Z"
   },
   {
    "duration": 4,
    "start_time": "2023-10-11T17:44:29.396Z"
   },
   {
    "duration": 116,
    "start_time": "2023-10-11T17:44:29.401Z"
   },
   {
    "duration": 3,
    "start_time": "2023-10-11T17:44:29.519Z"
   },
   {
    "duration": 34,
    "start_time": "2023-10-11T17:44:29.523Z"
   },
   {
    "duration": 24,
    "start_time": "2023-10-11T17:44:29.559Z"
   },
   {
    "duration": 6,
    "start_time": "2023-10-11T17:44:29.585Z"
   },
   {
    "duration": 16,
    "start_time": "2023-10-11T17:44:29.592Z"
   },
   {
    "duration": 7,
    "start_time": "2023-10-11T17:44:29.610Z"
   },
   {
    "duration": 24,
    "start_time": "2023-10-11T17:44:29.618Z"
   },
   {
    "duration": 54,
    "start_time": "2023-10-14T14:14:07.927Z"
   },
   {
    "duration": 1243,
    "start_time": "2023-10-14T14:14:13.143Z"
   },
   {
    "duration": 85,
    "start_time": "2023-10-14T14:14:14.388Z"
   },
   {
    "duration": 11,
    "start_time": "2023-10-14T14:14:14.475Z"
   },
   {
    "duration": 87,
    "start_time": "2023-10-14T14:14:14.488Z"
   },
   {
    "duration": 12,
    "start_time": "2023-10-14T14:14:14.576Z"
   },
   {
    "duration": 57,
    "start_time": "2023-10-14T14:14:14.589Z"
   },
   {
    "duration": 11,
    "start_time": "2023-10-14T14:14:14.648Z"
   },
   {
    "duration": 27,
    "start_time": "2023-10-14T14:14:14.660Z"
   },
   {
    "duration": 15,
    "start_time": "2023-10-14T14:14:14.689Z"
   },
   {
    "duration": 7,
    "start_time": "2023-10-14T14:14:14.707Z"
   },
   {
    "duration": 16,
    "start_time": "2023-10-14T14:14:14.716Z"
   },
   {
    "duration": 15,
    "start_time": "2023-10-14T14:14:14.734Z"
   },
   {
    "duration": 8,
    "start_time": "2023-10-14T14:14:14.751Z"
   },
   {
    "duration": 16,
    "start_time": "2023-10-14T14:14:14.760Z"
   },
   {
    "duration": 11,
    "start_time": "2023-10-14T14:14:14.777Z"
   },
   {
    "duration": 34,
    "start_time": "2023-10-14T14:14:14.789Z"
   },
   {
    "duration": 31,
    "start_time": "2023-10-14T14:14:14.825Z"
   },
   {
    "duration": 7,
    "start_time": "2023-10-14T14:14:14.858Z"
   },
   {
    "duration": 9,
    "start_time": "2023-10-14T14:14:14.867Z"
   },
   {
    "duration": 5,
    "start_time": "2023-10-14T14:14:14.877Z"
   },
   {
    "duration": 7,
    "start_time": "2023-10-14T14:14:14.884Z"
   },
   {
    "duration": 21,
    "start_time": "2023-10-14T14:14:14.892Z"
   },
   {
    "duration": 5,
    "start_time": "2023-10-14T14:14:14.914Z"
   },
   {
    "duration": 21,
    "start_time": "2023-10-14T14:14:14.920Z"
   },
   {
    "duration": 12,
    "start_time": "2023-10-14T14:14:14.942Z"
   },
   {
    "duration": 215,
    "start_time": "2023-10-14T14:14:14.956Z"
   },
   {
    "duration": 174,
    "start_time": "2023-10-14T14:14:15.173Z"
   },
   {
    "duration": 286,
    "start_time": "2023-10-14T14:14:15.351Z"
   },
   {
    "duration": 417,
    "start_time": "2023-10-14T14:14:15.638Z"
   },
   {
    "duration": 10,
    "start_time": "2023-10-14T14:14:16.057Z"
   },
   {
    "duration": 278,
    "start_time": "2023-10-14T14:14:16.069Z"
   },
   {
    "duration": 282,
    "start_time": "2023-10-14T14:14:16.348Z"
   },
   {
    "duration": 308,
    "start_time": "2023-10-14T14:14:16.631Z"
   },
   {
    "duration": 340,
    "start_time": "2023-10-14T14:14:16.947Z"
   },
   {
    "duration": 24,
    "start_time": "2023-10-14T14:14:17.288Z"
   },
   {
    "duration": 35,
    "start_time": "2023-10-14T14:14:17.313Z"
   },
   {
    "duration": 14,
    "start_time": "2023-10-14T14:14:17.349Z"
   },
   {
    "duration": 9,
    "start_time": "2023-10-14T14:14:17.365Z"
   },
   {
    "duration": 14,
    "start_time": "2023-10-14T14:14:17.376Z"
   },
   {
    "duration": 431,
    "start_time": "2023-10-14T14:14:17.391Z"
   },
   {
    "duration": 418,
    "start_time": "2023-10-14T14:14:17.824Z"
   },
   {
    "duration": 4,
    "start_time": "2023-10-14T14:14:18.244Z"
   },
   {
    "duration": 164,
    "start_time": "2023-10-14T14:14:18.250Z"
   },
   {
    "duration": 7,
    "start_time": "2023-10-14T14:14:18.416Z"
   },
   {
    "duration": 44,
    "start_time": "2023-10-14T14:14:18.425Z"
   },
   {
    "duration": 33,
    "start_time": "2023-10-14T14:14:18.471Z"
   },
   {
    "duration": 7,
    "start_time": "2023-10-14T14:14:18.506Z"
   },
   {
    "duration": 6,
    "start_time": "2023-10-14T14:14:18.514Z"
   },
   {
    "duration": 20,
    "start_time": "2023-10-14T14:14:18.522Z"
   },
   {
    "duration": 17,
    "start_time": "2023-10-14T14:14:18.544Z"
   },
   {
    "duration": 274,
    "start_time": "2023-10-14T14:14:51.453Z"
   },
   {
    "duration": 322,
    "start_time": "2023-10-14T14:15:01.388Z"
   },
   {
    "duration": 258,
    "start_time": "2023-10-14T14:15:10.613Z"
   },
   {
    "duration": 437,
    "start_time": "2023-10-14T14:15:23.790Z"
   },
   {
    "duration": 494,
    "start_time": "2023-10-14T14:15:39.270Z"
   },
   {
    "duration": 1596,
    "start_time": "2023-10-27T11:25:03.175Z"
   },
   {
    "duration": 94,
    "start_time": "2023-10-27T11:25:04.773Z"
   },
   {
    "duration": 11,
    "start_time": "2023-10-27T11:25:04.869Z"
   },
   {
    "duration": 187,
    "start_time": "2023-10-27T11:25:04.882Z"
   },
   {
    "duration": 11,
    "start_time": "2023-10-27T11:25:05.071Z"
   },
   {
    "duration": 86,
    "start_time": "2023-10-27T11:25:05.083Z"
   },
   {
    "duration": 11,
    "start_time": "2023-10-27T11:25:05.170Z"
   },
   {
    "duration": 39,
    "start_time": "2023-10-27T11:25:05.182Z"
   },
   {
    "duration": 30,
    "start_time": "2023-10-27T11:25:05.223Z"
   },
   {
    "duration": 4,
    "start_time": "2023-10-27T11:25:05.255Z"
   },
   {
    "duration": 44,
    "start_time": "2023-10-27T11:25:05.260Z"
   },
   {
    "duration": 20,
    "start_time": "2023-10-27T11:25:05.305Z"
   },
   {
    "duration": 28,
    "start_time": "2023-10-27T11:25:05.326Z"
   },
   {
    "duration": 18,
    "start_time": "2023-10-27T11:25:05.357Z"
   },
   {
    "duration": 11,
    "start_time": "2023-10-27T11:25:05.377Z"
   },
   {
    "duration": 14,
    "start_time": "2023-10-27T11:25:05.389Z"
   },
   {
    "duration": 20,
    "start_time": "2023-10-27T11:25:05.405Z"
   },
   {
    "duration": 14,
    "start_time": "2023-10-27T11:25:05.427Z"
   },
   {
    "duration": 15,
    "start_time": "2023-10-27T11:25:05.443Z"
   },
   {
    "duration": 25,
    "start_time": "2023-10-27T11:25:05.459Z"
   },
   {
    "duration": 49,
    "start_time": "2023-10-27T11:25:05.485Z"
   },
   {
    "duration": 29,
    "start_time": "2023-10-27T11:25:05.536Z"
   },
   {
    "duration": 26,
    "start_time": "2023-10-27T11:25:05.566Z"
   },
   {
    "duration": 23,
    "start_time": "2023-10-27T11:25:05.593Z"
   },
   {
    "duration": 34,
    "start_time": "2023-10-27T11:25:05.617Z"
   },
   {
    "duration": 226,
    "start_time": "2023-10-27T11:25:05.653Z"
   },
   {
    "duration": 133,
    "start_time": "2023-10-27T11:25:05.880Z"
   },
   {
    "duration": 243,
    "start_time": "2023-10-27T11:25:06.015Z"
   },
   {
    "duration": 366,
    "start_time": "2023-10-27T11:25:06.260Z"
   },
   {
    "duration": 18,
    "start_time": "2023-10-27T11:25:06.627Z"
   },
   {
    "duration": 233,
    "start_time": "2023-10-27T11:25:06.646Z"
   },
   {
    "duration": 232,
    "start_time": "2023-10-27T11:25:06.881Z"
   },
   {
    "duration": 272,
    "start_time": "2023-10-27T11:25:07.114Z"
   },
   {
    "duration": 328,
    "start_time": "2023-10-27T11:25:07.388Z"
   },
   {
    "duration": 30,
    "start_time": "2023-10-27T11:25:07.717Z"
   },
   {
    "duration": 17,
    "start_time": "2023-10-27T11:25:07.748Z"
   },
   {
    "duration": 23,
    "start_time": "2023-10-27T11:25:07.767Z"
   },
   {
    "duration": 24,
    "start_time": "2023-10-27T11:25:07.792Z"
   },
   {
    "duration": 18,
    "start_time": "2023-10-27T11:25:07.818Z"
   },
   {
    "duration": 379,
    "start_time": "2023-10-27T11:25:07.838Z"
   },
   {
    "duration": 347,
    "start_time": "2023-10-27T11:25:08.221Z"
   },
   {
    "duration": 3,
    "start_time": "2023-10-27T11:25:08.570Z"
   },
   {
    "duration": 186,
    "start_time": "2023-10-27T11:25:08.574Z"
   },
   {
    "duration": 4,
    "start_time": "2023-10-27T11:25:08.761Z"
   },
   {
    "duration": 11,
    "start_time": "2023-10-27T11:25:08.766Z"
   },
   {
    "duration": 71,
    "start_time": "2023-10-27T11:25:08.778Z"
   },
   {
    "duration": 9,
    "start_time": "2023-10-27T11:25:08.850Z"
   },
   {
    "duration": 28,
    "start_time": "2023-10-27T11:25:08.861Z"
   },
   {
    "duration": 55,
    "start_time": "2023-10-27T11:25:08.891Z"
   },
   {
    "duration": 49,
    "start_time": "2023-10-27T11:25:08.948Z"
   },
   {
    "duration": 1253,
    "start_time": "2023-10-28T14:38:27.062Z"
   },
   {
    "duration": 83,
    "start_time": "2023-10-28T14:38:28.317Z"
   },
   {
    "duration": 11,
    "start_time": "2023-10-28T14:38:28.401Z"
   },
   {
    "duration": 230,
    "start_time": "2023-10-28T14:38:28.414Z"
   },
   {
    "duration": 13,
    "start_time": "2023-10-28T14:38:28.646Z"
   },
   {
    "duration": 80,
    "start_time": "2023-10-28T14:38:28.660Z"
   },
   {
    "duration": 10,
    "start_time": "2023-10-28T14:38:28.742Z"
   },
   {
    "duration": 38,
    "start_time": "2023-10-28T14:38:28.754Z"
   },
   {
    "duration": 33,
    "start_time": "2023-10-28T14:38:28.795Z"
   },
   {
    "duration": 19,
    "start_time": "2023-10-28T14:38:28.831Z"
   },
   {
    "duration": 31,
    "start_time": "2023-10-28T14:38:28.852Z"
   },
   {
    "duration": 15,
    "start_time": "2023-10-28T14:38:28.885Z"
   },
   {
    "duration": 24,
    "start_time": "2023-10-28T14:38:28.902Z"
   },
   {
    "duration": 26,
    "start_time": "2023-10-28T14:38:28.928Z"
   },
   {
    "duration": 38,
    "start_time": "2023-10-28T14:38:28.956Z"
   },
   {
    "duration": 34,
    "start_time": "2023-10-28T14:38:28.996Z"
   },
   {
    "duration": 22,
    "start_time": "2023-10-28T14:38:29.032Z"
   },
   {
    "duration": 27,
    "start_time": "2023-10-28T14:38:29.056Z"
   },
   {
    "duration": 42,
    "start_time": "2023-10-28T14:38:29.085Z"
   },
   {
    "duration": 57,
    "start_time": "2023-10-28T14:38:29.128Z"
   },
   {
    "duration": 45,
    "start_time": "2023-10-28T14:38:29.186Z"
   },
   {
    "duration": 37,
    "start_time": "2023-10-28T14:38:29.233Z"
   },
   {
    "duration": 23,
    "start_time": "2023-10-28T14:38:29.272Z"
   },
   {
    "duration": 27,
    "start_time": "2023-10-28T14:38:29.297Z"
   },
   {
    "duration": 33,
    "start_time": "2023-10-28T14:38:29.325Z"
   },
   {
    "duration": 200,
    "start_time": "2023-10-28T14:38:29.360Z"
   },
   {
    "duration": 147,
    "start_time": "2023-10-28T14:38:29.562Z"
   },
   {
    "duration": 268,
    "start_time": "2023-10-28T14:38:29.713Z"
   },
   {
    "duration": 405,
    "start_time": "2023-10-28T14:38:29.983Z"
   },
   {
    "duration": 14,
    "start_time": "2023-10-28T14:38:30.390Z"
   },
   {
    "duration": 461,
    "start_time": "2023-10-28T14:38:30.406Z"
   },
   {
    "duration": 255,
    "start_time": "2023-10-28T14:38:30.868Z"
   },
   {
    "duration": 304,
    "start_time": "2023-10-28T14:38:31.125Z"
   },
   {
    "duration": 315,
    "start_time": "2023-10-28T14:38:31.431Z"
   },
   {
    "duration": 23,
    "start_time": "2023-10-28T14:38:31.748Z"
   },
   {
    "duration": 49,
    "start_time": "2023-10-28T14:38:31.772Z"
   },
   {
    "duration": 144,
    "start_time": "2023-10-28T14:38:31.823Z"
   },
   {
    "duration": 43,
    "start_time": "2023-10-28T14:38:31.968Z"
   },
   {
    "duration": 34,
    "start_time": "2023-10-28T14:38:32.013Z"
   },
   {
    "duration": 398,
    "start_time": "2023-10-28T14:38:32.050Z"
   },
   {
    "duration": 366,
    "start_time": "2023-10-28T14:38:32.451Z"
   },
   {
    "duration": 4,
    "start_time": "2023-10-28T14:38:32.819Z"
   },
   {
    "duration": 119,
    "start_time": "2023-10-28T14:38:32.825Z"
   },
   {
    "duration": 4,
    "start_time": "2023-10-28T14:38:32.946Z"
   },
   {
    "duration": 53,
    "start_time": "2023-10-28T14:38:32.952Z"
   },
   {
    "duration": 19,
    "start_time": "2023-10-28T14:38:33.007Z"
   },
   {
    "duration": 12,
    "start_time": "2023-10-28T14:38:33.028Z"
   },
   {
    "duration": 9,
    "start_time": "2023-10-28T14:38:33.042Z"
   },
   {
    "duration": 9,
    "start_time": "2023-10-28T14:38:33.053Z"
   },
   {
    "duration": 20,
    "start_time": "2023-10-28T14:38:33.064Z"
   },
   {
    "duration": 1409,
    "start_time": "2023-11-08T19:34:55.803Z"
   },
   {
    "duration": 87,
    "start_time": "2023-11-08T19:34:57.215Z"
   },
   {
    "duration": 15,
    "start_time": "2023-11-08T19:34:57.312Z"
   },
   {
    "duration": 87,
    "start_time": "2023-11-08T19:34:57.330Z"
   },
   {
    "duration": 17,
    "start_time": "2023-11-08T19:34:57.419Z"
   },
   {
    "duration": 64,
    "start_time": "2023-11-08T19:34:57.438Z"
   },
   {
    "duration": 18,
    "start_time": "2023-11-08T19:34:57.504Z"
   },
   {
    "duration": 20,
    "start_time": "2023-11-08T19:34:57.526Z"
   },
   {
    "duration": 22,
    "start_time": "2023-11-08T19:34:57.548Z"
   },
   {
    "duration": 16,
    "start_time": "2023-11-08T19:34:57.574Z"
   },
   {
    "duration": 8,
    "start_time": "2023-11-08T19:34:57.592Z"
   },
   {
    "duration": 6,
    "start_time": "2023-11-08T19:34:57.603Z"
   },
   {
    "duration": 12,
    "start_time": "2023-11-08T19:34:57.610Z"
   },
   {
    "duration": 5,
    "start_time": "2023-11-08T19:34:57.648Z"
   },
   {
    "duration": 7,
    "start_time": "2023-11-08T19:34:57.655Z"
   },
   {
    "duration": 6,
    "start_time": "2023-11-08T19:34:57.664Z"
   },
   {
    "duration": 6,
    "start_time": "2023-11-08T19:34:57.671Z"
   },
   {
    "duration": 7,
    "start_time": "2023-11-08T19:34:57.679Z"
   },
   {
    "duration": 11,
    "start_time": "2023-11-08T19:34:57.688Z"
   },
   {
    "duration": 50,
    "start_time": "2023-11-08T19:34:57.702Z"
   },
   {
    "duration": 7,
    "start_time": "2023-11-08T19:34:57.755Z"
   },
   {
    "duration": 10,
    "start_time": "2023-11-08T19:34:57.764Z"
   },
   {
    "duration": 5,
    "start_time": "2023-11-08T19:34:57.776Z"
   },
   {
    "duration": 7,
    "start_time": "2023-11-08T19:34:57.783Z"
   },
   {
    "duration": 56,
    "start_time": "2023-11-08T19:34:57.792Z"
   },
   {
    "duration": 211,
    "start_time": "2023-11-08T19:34:57.850Z"
   },
   {
    "duration": 166,
    "start_time": "2023-11-08T19:34:58.063Z"
   },
   {
    "duration": 320,
    "start_time": "2023-11-08T19:34:58.233Z"
   },
   {
    "duration": 401,
    "start_time": "2023-11-08T19:34:58.555Z"
   },
   {
    "duration": 11,
    "start_time": "2023-11-08T19:34:58.958Z"
   },
   {
    "duration": 268,
    "start_time": "2023-11-08T19:34:58.970Z"
   },
   {
    "duration": 284,
    "start_time": "2023-11-08T19:34:59.239Z"
   },
   {
    "duration": 340,
    "start_time": "2023-11-08T19:34:59.525Z"
   },
   {
    "duration": 353,
    "start_time": "2023-11-08T19:34:59.867Z"
   },
   {
    "duration": 36,
    "start_time": "2023-11-08T19:35:00.222Z"
   },
   {
    "duration": 109,
    "start_time": "2023-11-08T19:35:00.261Z"
   },
   {
    "duration": 41,
    "start_time": "2023-11-08T19:35:00.372Z"
   },
   {
    "duration": 35,
    "start_time": "2023-11-08T19:35:00.414Z"
   },
   {
    "duration": 35,
    "start_time": "2023-11-08T19:35:00.451Z"
   },
   {
    "duration": 477,
    "start_time": "2023-11-08T19:35:00.488Z"
   },
   {
    "duration": 428,
    "start_time": "2023-11-08T19:35:00.967Z"
   },
   {
    "duration": 4,
    "start_time": "2023-11-08T19:35:01.396Z"
   },
   {
    "duration": 160,
    "start_time": "2023-11-08T19:35:01.402Z"
   },
   {
    "duration": 5,
    "start_time": "2023-11-08T19:35:01.563Z"
   },
   {
    "duration": 57,
    "start_time": "2023-11-08T19:35:01.569Z"
   },
   {
    "duration": 48,
    "start_time": "2023-11-08T19:35:01.628Z"
   },
   {
    "duration": 30,
    "start_time": "2023-11-08T19:35:01.679Z"
   },
   {
    "duration": 36,
    "start_time": "2023-11-08T19:35:01.712Z"
   },
   {
    "duration": 30,
    "start_time": "2023-11-08T19:35:01.751Z"
   },
   {
    "duration": 51,
    "start_time": "2023-11-08T19:35:01.784Z"
   }
  ],
  "kernelspec": {
   "display_name": "Python 3 (ipykernel)",
   "language": "python",
   "name": "python3"
  },
  "language_info": {
   "codemirror_mode": {
    "name": "ipython",
    "version": 3
   },
   "file_extension": ".py",
   "mimetype": "text/x-python",
   "name": "python",
   "nbconvert_exporter": "python",
   "pygments_lexer": "ipython3",
   "version": "3.9.5"
  },
  "toc": {
   "base_numbering": 1,
   "nav_menu": {},
   "number_sections": true,
   "sideBar": true,
   "skip_h1_title": true,
   "title_cell": "Table of Contents",
   "title_sidebar": "Contents",
   "toc_cell": false,
   "toc_position": {
    "height": "calc(100% - 180px)",
    "left": "10px",
    "top": "150px",
    "width": "372px"
   },
   "toc_section_display": true,
   "toc_window_display": true
  }
 },
 "nbformat": 4,
 "nbformat_minor": 5
}
